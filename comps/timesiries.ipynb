{
 "cells": [
  {
   "cell_type": "code",
   "execution_count": 1,
   "id": "83d5bfb6",
   "metadata": {
    "execution": {
     "iopub.execute_input": "2025-02-14T14:53:09.221680Z",
     "iopub.status.busy": "2025-02-14T14:53:09.221350Z",
     "iopub.status.idle": "2025-02-14T14:53:14.012876Z",
     "shell.execute_reply": "2025-02-14T14:53:14.011718Z"
    },
    "papermill": {
     "duration": 4.80042,
     "end_time": "2025-02-14T14:53:14.014585",
     "exception": false,
     "start_time": "2025-02-14T14:53:09.214165",
     "status": "completed"
    },
    "tags": []
   },
   "outputs": [],
   "source": [
    "!pip install statsmodels catboost xgboost lightgbm -q"
   ]
  },
  {
   "cell_type": "code",
   "execution_count": 2,
   "id": "398a6703",
   "metadata": {
    "collapsed": true,
    "execution": {
     "iopub.execute_input": "2025-02-14T14:53:14.026884Z",
     "iopub.status.busy": "2025-02-14T14:53:14.026503Z",
     "iopub.status.idle": "2025-02-14T14:53:20.447922Z",
     "shell.execute_reply": "2025-02-14T14:53:20.446914Z"
    },
    "jupyter": {
     "outputs_hidden": true
    },
    "papermill": {
     "duration": 6.429257,
     "end_time": "2025-02-14T14:53:20.449602",
     "exception": false,
     "start_time": "2025-02-14T14:53:14.020345",
     "status": "completed"
    },
    "tags": []
   },
   "outputs": [],
   "source": [
    "import numpy as np\n",
    "import pandas as pd\n",
    "import matplotlib.pyplot as plt\n",
    "from tqdm.contrib import tzip\n",
    "from tqdm.auto import tqdm\n",
    "from statsmodels.tsa.ar_model import AutoReg\n",
    "from statsmodels.tsa.arima.model import ARIMA\n",
    "from statsmodels.tools.sm_exceptions import ConvergenceWarning\n",
    "from catboost import Pool, cv, CatBoostRegressor\n",
    "from lightgbm import LGBMRegressor\n",
    "from xgboost import XGBRegressor\n",
    "from sklearn.ensemble import RandomForestRegressor\n",
    "import warnings\n",
    "import joblib\n",
    "from sklearn.metrics import mean_squared_error as mse, mean_absolute_error as mae\n",
    "tqdm.pandas()\n",
    "warnings.simplefilter('ignore', ConvergenceWarning)\n",
    "warnings.simplefilter(action='ignore', category=pd.errors.PerformanceWarning)"
   ]
  },
  {
   "cell_type": "markdown",
   "id": "e9b8d91b",
   "metadata": {
    "papermill": {
     "duration": 0.004693,
     "end_time": "2025-02-14T14:53:20.460019",
     "exception": false,
     "start_time": "2025-02-14T14:53:20.455326",
     "status": "completed"
    },
    "tags": []
   },
   "source": [
    "# Load data"
   ]
  },
  {
   "cell_type": "code",
   "execution_count": 3,
   "id": "9d336715",
   "metadata": {
    "execution": {
     "iopub.execute_input": "2025-02-14T14:53:20.471452Z",
     "iopub.status.busy": "2025-02-14T14:53:20.470836Z",
     "iopub.status.idle": "2025-02-14T14:53:38.474996Z",
     "shell.execute_reply": "2025-02-14T14:53:38.473934Z"
    },
    "papermill": {
     "duration": 18.011676,
     "end_time": "2025-02-14T14:53:38.476724",
     "exception": false,
     "start_time": "2025-02-14T14:53:20.465048",
     "status": "completed"
    },
    "tags": []
   },
   "outputs": [],
   "source": [
    "train_data = pd.read_csv('/kaggle/input/ioai-contest-1/train.csv')\n",
    "sample_sub = pd.read_csv('/kaggle/input/ioai-contest-1/sample_submission.csv')"
   ]
  },
  {
   "cell_type": "code",
   "execution_count": 4,
   "id": "7c0a7729",
   "metadata": {
    "execution": {
     "iopub.execute_input": "2025-02-14T14:53:38.488603Z",
     "iopub.status.busy": "2025-02-14T14:53:38.488260Z",
     "iopub.status.idle": "2025-02-14T14:53:38.515032Z",
     "shell.execute_reply": "2025-02-14T14:53:38.513674Z"
    },
    "papermill": {
     "duration": 0.034501,
     "end_time": "2025-02-14T14:53:38.516762",
     "exception": false,
     "start_time": "2025-02-14T14:53:38.482261",
     "status": "completed"
    },
    "tags": []
   },
   "outputs": [
    {
     "data": {
      "text/html": [
       "<div>\n",
       "<style scoped>\n",
       "    .dataframe tbody tr th:only-of-type {\n",
       "        vertical-align: middle;\n",
       "    }\n",
       "\n",
       "    .dataframe tbody tr th {\n",
       "        vertical-align: top;\n",
       "    }\n",
       "\n",
       "    .dataframe thead th {\n",
       "        text-align: right;\n",
       "    }\n",
       "</style>\n",
       "<table border=\"1\" class=\"dataframe\">\n",
       "  <thead>\n",
       "    <tr style=\"text-align: right;\">\n",
       "      <th></th>\n",
       "      <th>Id</th>\n",
       "      <th>Target</th>\n",
       "    </tr>\n",
       "  </thead>\n",
       "  <tbody>\n",
       "    <tr>\n",
       "      <th>0</th>\n",
       "      <td>0_1_2024-01</td>\n",
       "      <td>0</td>\n",
       "    </tr>\n",
       "    <tr>\n",
       "      <th>1</th>\n",
       "      <td>0_2_2024-01</td>\n",
       "      <td>0</td>\n",
       "    </tr>\n",
       "    <tr>\n",
       "      <th>2</th>\n",
       "      <td>0_3_2024-01</td>\n",
       "      <td>0</td>\n",
       "    </tr>\n",
       "    <tr>\n",
       "      <th>3</th>\n",
       "      <td>0_5_2024-01</td>\n",
       "      <td>0</td>\n",
       "    </tr>\n",
       "    <tr>\n",
       "      <th>4</th>\n",
       "      <td>0_6_2024-01</td>\n",
       "      <td>0</td>\n",
       "    </tr>\n",
       "    <tr>\n",
       "      <th>...</th>\n",
       "      <td>...</td>\n",
       "      <td>...</td>\n",
       "    </tr>\n",
       "    <tr>\n",
       "      <th>113851</th>\n",
       "      <td>3_14664_2024-03</td>\n",
       "      <td>0</td>\n",
       "    </tr>\n",
       "    <tr>\n",
       "      <th>113852</th>\n",
       "      <td>3_14665_2024-03</td>\n",
       "      <td>0</td>\n",
       "    </tr>\n",
       "    <tr>\n",
       "      <th>113853</th>\n",
       "      <td>3_14666_2024-03</td>\n",
       "      <td>0</td>\n",
       "    </tr>\n",
       "    <tr>\n",
       "      <th>113854</th>\n",
       "      <td>3_14667_2024-03</td>\n",
       "      <td>0</td>\n",
       "    </tr>\n",
       "    <tr>\n",
       "      <th>113855</th>\n",
       "      <td>3_14668_2024-03</td>\n",
       "      <td>0</td>\n",
       "    </tr>\n",
       "  </tbody>\n",
       "</table>\n",
       "<p>113856 rows × 2 columns</p>\n",
       "</div>"
      ],
      "text/plain": [
       "                     Id  Target\n",
       "0           0_1_2024-01       0\n",
       "1           0_2_2024-01       0\n",
       "2           0_3_2024-01       0\n",
       "3           0_5_2024-01       0\n",
       "4           0_6_2024-01       0\n",
       "...                 ...     ...\n",
       "113851  3_14664_2024-03       0\n",
       "113852  3_14665_2024-03       0\n",
       "113853  3_14666_2024-03       0\n",
       "113854  3_14667_2024-03       0\n",
       "113855  3_14668_2024-03       0\n",
       "\n",
       "[113856 rows x 2 columns]"
      ]
     },
     "execution_count": 4,
     "metadata": {},
     "output_type": "execute_result"
    }
   ],
   "source": [
    "sample_sub"
   ]
  },
  {
   "cell_type": "markdown",
   "id": "2c5c7ee6",
   "metadata": {
    "papermill": {
     "duration": 0.004935,
     "end_time": "2025-02-14T14:53:38.527492",
     "exception": false,
     "start_time": "2025-02-14T14:53:38.522557",
     "status": "completed"
    },
    "tags": []
   },
   "source": [
    "# Data preprocessing"
   ]
  },
  {
   "cell_type": "markdown",
   "id": "76057098",
   "metadata": {
    "papermill": {
     "duration": 0.004889,
     "end_time": "2025-02-14T14:53:38.537485",
     "exception": false,
     "start_time": "2025-02-14T14:53:38.532596",
     "status": "completed"
    },
    "tags": []
   },
   "source": [
    "We can't transform date to pd.datetime type because of 29 february😭😭😭😭😭😭 so we transform date to year, month and all_date index"
   ]
  },
  {
   "cell_type": "code",
   "execution_count": 5,
   "id": "2ef9806a",
   "metadata": {
    "execution": {
     "iopub.execute_input": "2025-02-14T14:53:38.549407Z",
     "iopub.status.busy": "2025-02-14T14:53:38.549058Z",
     "iopub.status.idle": "2025-02-14T14:53:43.282695Z",
     "shell.execute_reply": "2025-02-14T14:53:43.281979Z"
    },
    "papermill": {
     "duration": 4.741259,
     "end_time": "2025-02-14T14:53:43.284275",
     "exception": false,
     "start_time": "2025-02-14T14:53:38.543016",
     "status": "completed"
    },
    "tags": []
   },
   "outputs": [],
   "source": [
    "train_data['year'] = train_data['Date'].apply(lambda x: int(x.split('-')[0]) - 2019)\n",
    "train_data['month'] = train_data['Date'].apply(lambda x: int(x.split('-')[1]) - 1)\n",
    "train_data['all_date'] = train_data['year'] * 12 + train_data['month']"
   ]
  },
  {
   "cell_type": "markdown",
   "id": "f44bd9ce",
   "metadata": {
    "papermill": {
     "duration": 0.005018,
     "end_time": "2025-02-14T14:53:43.295961",
     "exception": false,
     "start_time": "2025-02-14T14:53:43.290943",
     "status": "completed"
    },
    "tags": []
   },
   "source": [
    "## Train and val split"
   ]
  },
  {
   "cell_type": "code",
   "execution_count": 6,
   "id": "96d8a054",
   "metadata": {
    "execution": {
     "iopub.execute_input": "2025-02-14T14:53:43.307659Z",
     "iopub.status.busy": "2025-02-14T14:53:43.307351Z",
     "iopub.status.idle": "2025-02-14T14:53:43.947565Z",
     "shell.execute_reply": "2025-02-14T14:53:43.946487Z"
    },
    "papermill": {
     "duration": 0.64786,
     "end_time": "2025-02-14T14:53:43.949307",
     "exception": false,
     "start_time": "2025-02-14T14:53:43.301447",
     "status": "completed"
    },
    "tags": []
   },
   "outputs": [],
   "source": [
    "def prepare_data(sample_submit):\n",
    "    df = pd.DataFrame()\n",
    "    df['Company_ID'] = sample_submit['Id'].apply(lambda x: int(x.split('_')[0]) )\n",
    "    df['Product_ID'] = sample_submit['Id'].apply(lambda x: int(x.split('_')[1]) )\n",
    "    df['Date'] = sample_submit['Id'].apply(lambda x: x.split('_')[2] )\n",
    "    df['year'] = df['Date'].apply(lambda x: int(x.split('-')[0]) - 2019)\n",
    "    df['month'] = df['Date'].apply(lambda x: int(x.split('-')[1]) - 1)\n",
    "    df['all_date'] = df['year'] * 12 + df['month']\n",
    "    return df\n",
    "\n",
    "valid_days = [57,58,59]\n",
    "train_days = [54,55,56]\n",
    "\n",
    "val_targets = train_data[train_data['all_date'].isin(valid_days)].groupby(['Company_ID','Product_ID','all_date'])['Target'].agg('sum').reset_index()\n",
    "train_targets = train_data[train_data['all_date'].isin(train_days)].groupby(['Company_ID','Product_ID','all_date'])['Target'].agg('sum').reset_index()\n",
    "all_targets = prepare_data(sample_sub)"
   ]
  },
  {
   "cell_type": "code",
   "execution_count": 7,
   "id": "daf623cb",
   "metadata": {
    "execution": {
     "iopub.execute_input": "2025-02-14T14:53:43.962236Z",
     "iopub.status.busy": "2025-02-14T14:53:43.961885Z",
     "iopub.status.idle": "2025-02-14T14:53:47.209097Z",
     "shell.execute_reply": "2025-02-14T14:53:47.207618Z"
    },
    "papermill": {
     "duration": 3.255372,
     "end_time": "2025-02-14T14:53:47.210941",
     "exception": false,
     "start_time": "2025-02-14T14:53:43.955569",
     "status": "completed"
    },
    "tags": []
   },
   "outputs": [],
   "source": [
    "dey_to_lags = 50\n",
    "an_train_days = list(range(min(train_days) - dey_to_lags - 1,min(train_days)))\n",
    "an_val_days = list(range(min(valid_days) - dey_to_lags - 1,min(valid_days) ))\n",
    "an_all_days = list(range(60 - dey_to_lags - 1,60))\n",
    "\n",
    "train_feature_data = train_data[train_data['all_date'].isin(an_train_days)].groupby(['Company_ID','Product_ID','all_date'])['Target'].agg('sum').reset_index()\n",
    "val_feature_data = train_data[train_data['all_date'].isin(an_val_days)].groupby(['Company_ID','Product_ID','all_date'])['Target'].agg('sum').reset_index()\n",
    "all_feature_data = train_data[train_data['all_date'].isin(an_all_days)].groupby(['Company_ID','Product_ID','all_date'])['Target'].agg('sum').reset_index()"
   ]
  },
  {
   "cell_type": "markdown",
   "id": "de473c20",
   "metadata": {
    "papermill": {
     "duration": 0.005203,
     "end_time": "2025-02-14T14:53:47.221813",
     "exception": false,
     "start_time": "2025-02-14T14:53:47.216610",
     "status": "completed"
    },
    "tags": []
   },
   "source": [
    "## Fill empty rows by zeros"
   ]
  },
  {
   "cell_type": "code",
   "execution_count": 8,
   "id": "e35d63a9",
   "metadata": {
    "execution": {
     "iopub.execute_input": "2025-02-14T14:53:47.233274Z",
     "iopub.status.busy": "2025-02-14T14:53:47.232907Z",
     "iopub.status.idle": "2025-02-14T14:55:14.595915Z",
     "shell.execute_reply": "2025-02-14T14:55:14.594407Z"
    },
    "papermill": {
     "duration": 87.370716,
     "end_time": "2025-02-14T14:55:14.597742",
     "exception": false,
     "start_time": "2025-02-14T14:53:47.227026",
     "status": "completed"
    },
    "tags": []
   },
   "outputs": [
    {
     "data": {
      "application/vnd.jupyter.widget-view+json": {
       "model_id": "8716d1fd1cef49f6b3b91e6674ddb110",
       "version_major": 2,
       "version_minor": 0
      },
      "text/plain": [
       "  0%|          | 0/12 [00:00<?, ?it/s]"
      ]
     },
     "metadata": {},
     "output_type": "display_data"
    },
    {
     "data": {
      "application/vnd.jupyter.widget-view+json": {
       "model_id": "d671e9d0cef04f519790d68970f90f67",
       "version_major": 2,
       "version_minor": 0
      },
      "text/plain": [
       "  0%|          | 0/12 [00:00<?, ?it/s]"
      ]
     },
     "metadata": {},
     "output_type": "display_data"
    },
    {
     "data": {
      "application/vnd.jupyter.widget-view+json": {
       "model_id": "3ce5c703e04940adb5c75fa9a295715b",
       "version_major": 2,
       "version_minor": 0
      },
      "text/plain": [
       "  0%|          | 0/12 [00:00<?, ?it/s]"
      ]
     },
     "metadata": {},
     "output_type": "display_data"
    },
    {
     "data": {
      "application/vnd.jupyter.widget-view+json": {
       "model_id": "418ab008313344f4a82a333b9b554431",
       "version_major": 2,
       "version_minor": 0
      },
      "text/plain": [
       "  0%|          | 0/204 [00:00<?, ?it/s]"
      ]
     },
     "metadata": {},
     "output_type": "display_data"
    },
    {
     "data": {
      "application/vnd.jupyter.widget-view+json": {
       "model_id": "f4f2e15d71054f8eab6b0d2e43aee440",
       "version_major": 2,
       "version_minor": 0
      },
      "text/plain": [
       "  0%|          | 0/204 [00:00<?, ?it/s]"
      ]
     },
     "metadata": {},
     "output_type": "display_data"
    },
    {
     "data": {
      "application/vnd.jupyter.widget-view+json": {
       "model_id": "6f0b972f1aa7428b9a9f90258cf64e76",
       "version_major": 2,
       "version_minor": 0
      },
      "text/plain": [
       "  0%|          | 0/204 [00:00<?, ?it/s]"
      ]
     },
     "metadata": {},
     "output_type": "display_data"
    }
   ],
   "source": [
    "def zero_fill(data,id_maper):\n",
    "    grp_data = data.groupby(['Company_ID','all_date'])['Product_ID'].apply(list)\n",
    "    fill_df = []\n",
    "    for (cmp_id, date_id), products in tzip(grp_data.index,grp_data):\n",
    "        all_ids = id_maper[cmp_id]\n",
    "        for i in all_ids:\n",
    "            if i not in products:\n",
    "                fill_df.append({\n",
    "                    'Company_ID': cmp_id,\n",
    "                    'Product_ID': i,\n",
    "                    'all_date': date_id,\n",
    "                    'Target': 0\n",
    "                })\n",
    "    fill_df = pd.DataFrame(fill_df)\n",
    "    data = pd.concat([data,fill_df],axis=0,ignore_index=True).sort_values(by=['all_date','Company_ID','Product_ID'])\n",
    "    return data\n",
    "\n",
    "id_maper_train = train_data[train_data['all_date'] < min(train_days)].groupby('Company_ID')['Product_ID'].apply(lambda x: list(set(x))).to_dict()\n",
    "id_maper_val = train_data[train_data['all_date'] < min(valid_days)].groupby('Company_ID')['Product_ID'].apply(lambda x: list(set(x))).to_dict()\n",
    "id_maper_all = train_data.groupby('Company_ID')['Product_ID'].apply(lambda x: list(set(x))).to_dict()\n",
    "#id_maper = train_data.groupby('Company_ID')['Product_ID'].apply(lambda x: list(set(x))).to_dict()\n",
    "\n",
    "\n",
    "val_targets = zero_fill(val_targets,id_maper_val)\n",
    "train_targets = zero_fill(train_targets,id_maper_train)\n",
    "all_targets = zero_fill(all_targets,id_maper_all)\n",
    "\n",
    "train_feature_data = zero_fill(train_feature_data,id_maper_train)\n",
    "val_feature_data = zero_fill(val_feature_data,id_maper_val)\n",
    "all_feature_data = zero_fill(all_feature_data,id_maper_all)"
   ]
  },
  {
   "cell_type": "code",
   "execution_count": 9,
   "id": "74073ad7",
   "metadata": {
    "execution": {
     "iopub.execute_input": "2025-02-14T14:55:14.612236Z",
     "iopub.status.busy": "2025-02-14T14:55:14.611877Z",
     "iopub.status.idle": "2025-02-14T14:55:14.912404Z",
     "shell.execute_reply": "2025-02-14T14:55:14.911488Z"
    },
    "papermill": {
     "duration": 0.309359,
     "end_time": "2025-02-14T14:55:14.914007",
     "exception": false,
     "start_time": "2025-02-14T14:55:14.604648",
     "status": "completed"
    },
    "tags": []
   },
   "outputs": [],
   "source": [
    "train_feature_data['all_date'] -= train_feature_data['all_date'].min()\n",
    "val_feature_data['all_date'] -= val_feature_data['all_date'].min()\n",
    "all_feature_data['all_date'] -= all_feature_data['all_date'].min()\n",
    "\n",
    "train_feature_data = train_feature_data.set_index(['Company_ID','Product_ID','all_date'])\n",
    "val_feature_data = val_feature_data.set_index(['Company_ID','Product_ID','all_date'])\n",
    "all_feature_data = all_feature_data.set_index(['Company_ID','Product_ID','all_date'])"
   ]
  },
  {
   "cell_type": "markdown",
   "id": "439a81fc",
   "metadata": {
    "papermill": {
     "duration": 0.005324,
     "end_time": "2025-02-14T14:55:14.925648",
     "exception": false,
     "start_time": "2025-02-14T14:55:14.920324",
     "status": "completed"
    },
    "tags": []
   },
   "source": [
    "## Get lags"
   ]
  },
  {
   "cell_type": "code",
   "execution_count": 10,
   "id": "0537102a",
   "metadata": {
    "execution": {
     "iopub.execute_input": "2025-02-14T14:55:14.937614Z",
     "iopub.status.busy": "2025-02-14T14:55:14.937316Z",
     "iopub.status.idle": "2025-02-14T14:55:14.943769Z",
     "shell.execute_reply": "2025-02-14T14:55:14.942714Z"
    },
    "papermill": {
     "duration": 0.014381,
     "end_time": "2025-02-14T14:55:14.945489",
     "exception": false,
     "start_time": "2025-02-14T14:55:14.931108",
     "status": "completed"
    },
    "tags": []
   },
   "outputs": [],
   "source": [
    "def get_lags(targets_data, feature_data,lags_range=[0,1,2,3,4,5,6,7,8,9,10],fil_val=-100):\n",
    "    lags_df = []\n",
    "    for cmp_id, product_id in tzip(targets_data['Company_ID'],targets_data['Product_ID']):\n",
    "        try:\n",
    "            row = feature_data.loc[(cmp_id,product_id)].to_dict()['Target']\n",
    "            feats = {}\n",
    "            for i in lags_range:\n",
    "                if i in row:\n",
    "                    feats[i] = row[i]\n",
    "                else:\n",
    "                    feats[i] = fil_val\n",
    "        except:\n",
    "           feats = {} \n",
    "           for i in lags_range:\n",
    "               feats[i] = fil_val\n",
    "        lags_df.append(feats)\n",
    "    lags_df = pd.DataFrame(lags_df)\n",
    "    lags_df.columns = [f'lag_{i}' for i in lags_range]\n",
    "    return lags_df\n",
    "\n",
    "def get_fast_lags(targets_data, feature_data,lags_range=[0,1,2,3,4,5,6,7,8,9,10],fil_val=-100):\n",
    "    feature_data = feature_data.copy().reset_index()\n",
    "    feature_data = pd.pivot_table(\n",
    "        feature_data,\n",
    "        index=['Company_ID','Product_ID'],\n",
    "        columns=['all_date'],\n",
    "        values=['Target'],\n",
    "        aggfunc='first',\n",
    "        fill_value=fil_val\n",
    "    )\n",
    "    feature_data.columns = [f'lag_{i}' for i in lags_range]\n",
    "    return targets_data.merge(feature_data,on=['Company_ID','Product_ID'])"
   ]
  },
  {
   "cell_type": "code",
   "execution_count": 11,
   "id": "8d99f803",
   "metadata": {
    "execution": {
     "iopub.execute_input": "2025-02-14T14:55:14.958784Z",
     "iopub.status.busy": "2025-02-14T14:55:14.958461Z",
     "iopub.status.idle": "2025-02-14T14:55:16.808464Z",
     "shell.execute_reply": "2025-02-14T14:55:16.807316Z"
    },
    "papermill": {
     "duration": 1.858737,
     "end_time": "2025-02-14T14:55:16.810603",
     "exception": false,
     "start_time": "2025-02-14T14:55:14.951866",
     "status": "completed"
    },
    "tags": []
   },
   "outputs": [],
   "source": [
    "lags_range = list(range(dey_to_lags+1))\n",
    "train_targets = get_fast_lags(train_targets,train_feature_data,lags_range=lags_range)\n",
    "val_targets = get_fast_lags(val_targets,val_feature_data,lags_range=lags_range)\n",
    "all_targets = get_fast_lags(all_targets,all_feature_data,lags_range=lags_range)"
   ]
  },
  {
   "cell_type": "code",
   "execution_count": 12,
   "id": "d1870013",
   "metadata": {
    "execution": {
     "iopub.execute_input": "2025-02-14T14:55:16.825323Z",
     "iopub.status.busy": "2025-02-14T14:55:16.824972Z",
     "iopub.status.idle": "2025-02-14T14:55:16.833699Z",
     "shell.execute_reply": "2025-02-14T14:55:16.832330Z"
    },
    "papermill": {
     "duration": 0.017924,
     "end_time": "2025-02-14T14:55:16.835421",
     "exception": false,
     "start_time": "2025-02-14T14:55:16.817497",
     "status": "completed"
    },
    "tags": []
   },
   "outputs": [],
   "source": [
    "train_targets['all_date'] -= train_targets['all_date'].min()\n",
    "val_targets['all_date'] -= val_targets['all_date'].min()\n",
    "all_targets['all_date'] -= all_targets['all_date'].min()"
   ]
  },
  {
   "cell_type": "markdown",
   "id": "e7c18e20",
   "metadata": {
    "papermill": {
     "duration": 0.006794,
     "end_time": "2025-02-14T14:55:16.849305",
     "exception": false,
     "start_time": "2025-02-14T14:55:16.842511",
     "status": "completed"
    },
    "tags": []
   },
   "source": [
    "# Model training"
   ]
  },
  {
   "cell_type": "code",
   "execution_count": 13,
   "id": "54040abe",
   "metadata": {
    "execution": {
     "iopub.execute_input": "2025-02-14T14:55:16.863434Z",
     "iopub.status.busy": "2025-02-14T14:55:16.863007Z",
     "iopub.status.idle": "2025-02-14T14:55:16.868558Z",
     "shell.execute_reply": "2025-02-14T14:55:16.866991Z"
    },
    "papermill": {
     "duration": 0.015073,
     "end_time": "2025-02-14T14:55:16.870868",
     "exception": false,
     "start_time": "2025-02-14T14:55:16.855795",
     "status": "completed"
    },
    "tags": []
   },
   "outputs": [],
   "source": [
    "cb_params = {\n",
    "    'iterations': 3000,\n",
    "    'learning_rate': 0.05,\n",
    "    'loss_function': 'MAE',\n",
    "    'max_depth': 5,\n",
    "    'eval_metric': 'MAE',\n",
    "    'use_best_model': False,\n",
    "    'task_type': 'CPU',\n",
    "    'random_seed': 56,\n",
    "}\n",
    "\n",
    "cat_cols = ['Company_ID','all_date']\n",
    "label_col = 'Target'\n",
    "drop_cols = [\n",
    "    'Product_ID'\n",
    "]\n",
    "text_features = None"
   ]
  },
  {
   "cell_type": "code",
   "execution_count": 14,
   "id": "eafce9a7",
   "metadata": {
    "execution": {
     "iopub.execute_input": "2025-02-14T14:55:16.885568Z",
     "iopub.status.busy": "2025-02-14T14:55:16.885148Z",
     "iopub.status.idle": "2025-02-14T14:55:17.036692Z",
     "shell.execute_reply": "2025-02-14T14:55:17.035028Z"
    },
    "papermill": {
     "duration": 0.16098,
     "end_time": "2025-02-14T14:55:17.038774",
     "exception": false,
     "start_time": "2025-02-14T14:55:16.877794",
     "status": "completed"
    },
    "tags": []
   },
   "outputs": [],
   "source": [
    "train_pool = Pool(\n",
    "    data = train_targets.drop(drop_cols+[label_col],axis=1),\n",
    "    label = train_targets[label_col],\n",
    "    cat_features=cat_cols,\n",
    "    text_features=text_features\n",
    ")\n",
    "\n",
    "eval_pool = Pool(\n",
    "    data = val_targets.drop(drop_cols+[label_col],axis=1),\n",
    "    label = val_targets[label_col],\n",
    "    cat_features=cat_cols,\n",
    "    text_features=text_features\n",
    ")\n",
    "\n",
    "test_pool = Pool(\n",
    "    data = all_targets.drop(drop_cols+['Date','year','month'],axis=1),\n",
    "    cat_features=cat_cols,\n",
    "    text_features=text_features\n",
    ")"
   ]
  },
  {
   "cell_type": "code",
   "execution_count": 15,
   "id": "5e7472c4",
   "metadata": {
    "execution": {
     "iopub.execute_input": "2025-02-14T14:55:17.052931Z",
     "iopub.status.busy": "2025-02-14T14:55:17.052498Z",
     "iopub.status.idle": "2025-02-14T14:57:26.727744Z",
     "shell.execute_reply": "2025-02-14T14:57:26.726434Z"
    },
    "papermill": {
     "duration": 129.689269,
     "end_time": "2025-02-14T14:57:26.734679",
     "exception": false,
     "start_time": "2025-02-14T14:55:17.045410",
     "status": "completed"
    },
    "tags": []
   },
   "outputs": [
    {
     "name": "stdout",
     "output_type": "stream",
     "text": [
      "0:\tlearn: 17.0061944\ttest: 21.0394955\tbest: 21.0394955 (0)\ttotal: 131ms\tremaining: 6m 33s\n",
      "100:\tlearn: 10.0345758\ttest: 13.1468855\tbest: 13.1468855 (100)\ttotal: 4.85s\tremaining: 2m 19s\n",
      "200:\tlearn: 9.9538566\ttest: 12.9681367\tbest: 12.9681367 (200)\ttotal: 9.47s\tremaining: 2m 11s\n",
      "300:\tlearn: 9.6201601\ttest: 12.3575980\tbest: 12.3573586 (295)\ttotal: 13.8s\tremaining: 2m 3s\n",
      "400:\tlearn: 9.4676141\ttest: 12.1617067\tbest: 12.1612112 (397)\ttotal: 18s\tremaining: 1m 56s\n",
      "500:\tlearn: 9.4469755\ttest: 12.1636368\tbest: 12.1612112 (397)\ttotal: 22.4s\tremaining: 1m 51s\n",
      "600:\tlearn: 9.2851902\ttest: 11.9650514\tbest: 11.9648658 (592)\ttotal: 26.6s\tremaining: 1m 46s\n",
      "700:\tlearn: 9.1127857\ttest: 11.7882947\tbest: 11.7880527 (693)\ttotal: 30.8s\tremaining: 1m 40s\n",
      "800:\tlearn: 8.9887449\ttest: 11.7053834\tbest: 11.7050442 (796)\ttotal: 34.8s\tremaining: 1m 35s\n",
      "900:\tlearn: 8.9011468\ttest: 11.6214596\tbest: 11.6214596 (900)\ttotal: 39s\tremaining: 1m 30s\n",
      "1000:\tlearn: 8.8462843\ttest: 11.5846417\tbest: 11.5784135 (982)\ttotal: 43s\tremaining: 1m 25s\n",
      "1100:\tlearn: 8.8102868\ttest: 11.5682302\tbest: 11.5585077 (1050)\ttotal: 47.3s\tremaining: 1m 21s\n",
      "1200:\tlearn: 8.7699260\ttest: 11.5481636\tbest: 11.5475304 (1197)\ttotal: 51.6s\tremaining: 1m 17s\n",
      "1300:\tlearn: 8.7023491\ttest: 11.5096843\tbest: 11.5021265 (1271)\ttotal: 56.2s\tremaining: 1m 13s\n",
      "1400:\tlearn: 8.6564727\ttest: 11.5044562\tbest: 11.4949775 (1337)\ttotal: 1m\tremaining: 1m 9s\n",
      "1500:\tlearn: 8.5847577\ttest: 11.4616706\tbest: 11.4602547 (1499)\ttotal: 1m 4s\tremaining: 1m 4s\n",
      "1600:\tlearn: 8.5066776\ttest: 11.4411238\tbest: 11.4402422 (1599)\ttotal: 1m 9s\tremaining: 1m\n",
      "1700:\tlearn: 8.4242979\ttest: 11.4186833\tbest: 11.4173866 (1693)\ttotal: 1m 13s\tremaining: 56.1s\n",
      "1800:\tlearn: 8.3358382\ttest: 11.4173230\tbest: 11.4172955 (1799)\ttotal: 1m 17s\tremaining: 51.8s\n",
      "1900:\tlearn: 8.2834798\ttest: 11.3838658\tbest: 11.3834953 (1899)\ttotal: 1m 22s\tremaining: 47.5s\n",
      "2000:\tlearn: 8.2338149\ttest: 11.3755361\tbest: 11.3739646 (1956)\ttotal: 1m 26s\tremaining: 43.3s\n",
      "2100:\tlearn: 8.1523626\ttest: 11.3496412\tbest: 11.3495744 (2081)\ttotal: 1m 30s\tremaining: 38.9s\n",
      "2200:\tlearn: 8.0770116\ttest: 11.3518601\tbest: 11.3387305 (2190)\ttotal: 1m 35s\tremaining: 34.5s\n",
      "2300:\tlearn: 8.0219001\ttest: 11.3316661\tbest: 11.3312776 (2253)\ttotal: 1m 39s\tremaining: 30.2s\n",
      "2400:\tlearn: 7.9685844\ttest: 11.3347349\tbest: 11.3293798 (2385)\ttotal: 1m 43s\tremaining: 25.8s\n",
      "2500:\tlearn: 7.9186286\ttest: 11.3346393\tbest: 11.3293798 (2385)\ttotal: 1m 47s\tremaining: 21.5s\n",
      "2600:\tlearn: 7.8711866\ttest: 11.3507219\tbest: 11.3293798 (2385)\ttotal: 1m 51s\tremaining: 17.2s\n",
      "2700:\tlearn: 7.8315992\ttest: 11.3390987\tbest: 11.3293798 (2385)\ttotal: 1m 56s\tremaining: 12.8s\n",
      "2800:\tlearn: 7.8028213\ttest: 11.3416271\tbest: 11.3293798 (2385)\ttotal: 2m\tremaining: 8.57s\n",
      "2900:\tlearn: 7.7527683\ttest: 11.3418615\tbest: 11.3293798 (2385)\ttotal: 2m 4s\tremaining: 4.26s\n",
      "2999:\tlearn: 7.7102966\ttest: 11.3619877\tbest: 11.3293798 (2385)\ttotal: 2m 8s\tremaining: 0us\n",
      "\n",
      "bestTest = 11.32937982\n",
      "bestIteration = 2385\n",
      "\n"
     ]
    },
    {
     "data": {
      "text/plain": [
       "<catboost.core.CatBoostRegressor at 0x787d09265bd0>"
      ]
     },
     "execution_count": 15,
     "metadata": {},
     "output_type": "execute_result"
    }
   ],
   "source": [
    "cbm = CatBoostRegressor(**cb_params)\n",
    "cbm.fit(train_pool,eval_set=eval_pool,verbose=100)"
   ]
  },
  {
   "cell_type": "code",
   "execution_count": 16,
   "id": "fff01c75",
   "metadata": {
    "execution": {
     "iopub.execute_input": "2025-02-14T14:57:26.750604Z",
     "iopub.status.busy": "2025-02-14T14:57:26.750182Z",
     "iopub.status.idle": "2025-02-14T14:57:27.623907Z",
     "shell.execute_reply": "2025-02-14T14:57:27.622526Z"
    },
    "papermill": {
     "duration": 0.883462,
     "end_time": "2025-02-14T14:57:27.625509",
     "exception": false,
     "start_time": "2025-02-14T14:57:26.742047",
     "status": "completed"
    },
    "tags": []
   },
   "outputs": [
    {
     "name": "stdout",
     "output_type": "stream",
     "text": [
      "[LightGBM] [Info] Auto-choosing row-wise multi-threading, the overhead of testing was 0.034444 seconds.\n",
      "You can set `force_row_wise=true` to remove the overhead.\n",
      "And if memory is not enough, you can set `force_col_wise=true`.\n",
      "[LightGBM] [Info] Total Bins 13012\n",
      "[LightGBM] [Info] Number of data points in the train set: 108990, number of used features: 53\n",
      "[LightGBM] [Info] Start training from score 17.336921\n"
     ]
    },
    {
     "data": {
      "text/html": [
       "<style>#sk-container-id-1 {color: black;background-color: white;}#sk-container-id-1 pre{padding: 0;}#sk-container-id-1 div.sk-toggleable {background-color: white;}#sk-container-id-1 label.sk-toggleable__label {cursor: pointer;display: block;width: 100%;margin-bottom: 0;padding: 0.3em;box-sizing: border-box;text-align: center;}#sk-container-id-1 label.sk-toggleable__label-arrow:before {content: \"▸\";float: left;margin-right: 0.25em;color: #696969;}#sk-container-id-1 label.sk-toggleable__label-arrow:hover:before {color: black;}#sk-container-id-1 div.sk-estimator:hover label.sk-toggleable__label-arrow:before {color: black;}#sk-container-id-1 div.sk-toggleable__content {max-height: 0;max-width: 0;overflow: hidden;text-align: left;background-color: #f0f8ff;}#sk-container-id-1 div.sk-toggleable__content pre {margin: 0.2em;color: black;border-radius: 0.25em;background-color: #f0f8ff;}#sk-container-id-1 input.sk-toggleable__control:checked~div.sk-toggleable__content {max-height: 200px;max-width: 100%;overflow: auto;}#sk-container-id-1 input.sk-toggleable__control:checked~label.sk-toggleable__label-arrow:before {content: \"▾\";}#sk-container-id-1 div.sk-estimator input.sk-toggleable__control:checked~label.sk-toggleable__label {background-color: #d4ebff;}#sk-container-id-1 div.sk-label input.sk-toggleable__control:checked~label.sk-toggleable__label {background-color: #d4ebff;}#sk-container-id-1 input.sk-hidden--visually {border: 0;clip: rect(1px 1px 1px 1px);clip: rect(1px, 1px, 1px, 1px);height: 1px;margin: -1px;overflow: hidden;padding: 0;position: absolute;width: 1px;}#sk-container-id-1 div.sk-estimator {font-family: monospace;background-color: #f0f8ff;border: 1px dotted black;border-radius: 0.25em;box-sizing: border-box;margin-bottom: 0.5em;}#sk-container-id-1 div.sk-estimator:hover {background-color: #d4ebff;}#sk-container-id-1 div.sk-parallel-item::after {content: \"\";width: 100%;border-bottom: 1px solid gray;flex-grow: 1;}#sk-container-id-1 div.sk-label:hover label.sk-toggleable__label {background-color: #d4ebff;}#sk-container-id-1 div.sk-serial::before {content: \"\";position: absolute;border-left: 1px solid gray;box-sizing: border-box;top: 0;bottom: 0;left: 50%;z-index: 0;}#sk-container-id-1 div.sk-serial {display: flex;flex-direction: column;align-items: center;background-color: white;padding-right: 0.2em;padding-left: 0.2em;position: relative;}#sk-container-id-1 div.sk-item {position: relative;z-index: 1;}#sk-container-id-1 div.sk-parallel {display: flex;align-items: stretch;justify-content: center;background-color: white;position: relative;}#sk-container-id-1 div.sk-item::before, #sk-container-id-1 div.sk-parallel-item::before {content: \"\";position: absolute;border-left: 1px solid gray;box-sizing: border-box;top: 0;bottom: 0;left: 50%;z-index: -1;}#sk-container-id-1 div.sk-parallel-item {display: flex;flex-direction: column;z-index: 1;position: relative;background-color: white;}#sk-container-id-1 div.sk-parallel-item:first-child::after {align-self: flex-end;width: 50%;}#sk-container-id-1 div.sk-parallel-item:last-child::after {align-self: flex-start;width: 50%;}#sk-container-id-1 div.sk-parallel-item:only-child::after {width: 0;}#sk-container-id-1 div.sk-dashed-wrapped {border: 1px dashed gray;margin: 0 0.4em 0.5em 0.4em;box-sizing: border-box;padding-bottom: 0.4em;background-color: white;}#sk-container-id-1 div.sk-label label {font-family: monospace;font-weight: bold;display: inline-block;line-height: 1.2em;}#sk-container-id-1 div.sk-label-container {text-align: center;}#sk-container-id-1 div.sk-container {/* jupyter's `normalize.less` sets `[hidden] { display: none; }` but bootstrap.min.css set `[hidden] { display: none !important; }` so we also need the `!important` here to be able to override the default hidden behavior on the sphinx rendered scikit-learn.org. See: https://github.com/scikit-learn/scikit-learn/issues/21755 */display: inline-block !important;position: relative;}#sk-container-id-1 div.sk-text-repr-fallback {display: none;}</style><div id=\"sk-container-id-1\" class=\"sk-top-container\"><div class=\"sk-text-repr-fallback\"><pre>LGBMRegressor(n_estimators=70)</pre><b>In a Jupyter environment, please rerun this cell to show the HTML representation or trust the notebook. <br />On GitHub, the HTML representation is unable to render, please try loading this page with nbviewer.org.</b></div><div class=\"sk-container\" hidden><div class=\"sk-item\"><div class=\"sk-estimator sk-toggleable\"><input class=\"sk-toggleable__control sk-hidden--visually\" id=\"sk-estimator-id-1\" type=\"checkbox\" checked><label for=\"sk-estimator-id-1\" class=\"sk-toggleable__label sk-toggleable__label-arrow\">LGBMRegressor</label><div class=\"sk-toggleable__content\"><pre>LGBMRegressor(n_estimators=70)</pre></div></div></div></div></div>"
      ],
      "text/plain": [
       "LGBMRegressor(n_estimators=70)"
      ]
     },
     "execution_count": 16,
     "metadata": {},
     "output_type": "execute_result"
    }
   ],
   "source": [
    "lgm = LGBMRegressor(n_estimators=70)\n",
    "lgm.fit(train_targets.drop(drop_cols+[label_col],axis=1), train_targets[label_col])"
   ]
  },
  {
   "cell_type": "code",
   "execution_count": 17,
   "id": "f20251b7",
   "metadata": {
    "execution": {
     "iopub.execute_input": "2025-02-14T14:57:27.642998Z",
     "iopub.status.busy": "2025-02-14T14:57:27.642652Z",
     "iopub.status.idle": "2025-02-14T14:57:27.831092Z",
     "shell.execute_reply": "2025-02-14T14:57:27.830183Z"
    },
    "papermill": {
     "duration": 0.19886,
     "end_time": "2025-02-14T14:57:27.832963",
     "exception": false,
     "start_time": "2025-02-14T14:57:27.634103",
     "status": "completed"
    },
    "tags": []
   },
   "outputs": [
    {
     "data": {
      "text/plain": [
       "12.508003779187474"
      ]
     },
     "execution_count": 17,
     "metadata": {},
     "output_type": "execute_result"
    }
   ],
   "source": [
    "mae(val_targets[label_col], lgm.predict(val_targets.drop(drop_cols+[label_col],axis=1)).round())"
   ]
  },
  {
   "cell_type": "markdown",
   "id": "d402f3b7",
   "metadata": {
    "papermill": {
     "duration": 0.007436,
     "end_time": "2025-02-14T14:57:27.848461",
     "exception": false,
     "start_time": "2025-02-14T14:57:27.841025",
     "status": "completed"
    },
    "tags": []
   },
   "source": [
    "# Train model for each group"
   ]
  },
  {
   "cell_type": "markdown",
   "id": "94b2beee",
   "metadata": {
    "papermill": {
     "duration": 0.007151,
     "end_time": "2025-02-14T14:57:27.862982",
     "exception": false,
     "start_time": "2025-02-14T14:57:27.855831",
     "status": "completed"
    },
    "tags": []
   },
   "source": [
    "Group data by company id and product id then train model for each group"
   ]
  },
  {
   "cell_type": "code",
   "execution_count": 18,
   "id": "4f7d0097",
   "metadata": {
    "execution": {
     "iopub.execute_input": "2025-02-14T14:57:27.878750Z",
     "iopub.status.busy": "2025-02-14T14:57:27.878379Z",
     "iopub.status.idle": "2025-02-14T14:57:27.885488Z",
     "shell.execute_reply": "2025-02-14T14:57:27.884353Z"
    },
    "papermill": {
     "duration": 0.01721,
     "end_time": "2025-02-14T14:57:27.887400",
     "exception": false,
     "start_time": "2025-02-14T14:57:27.870190",
     "status": "completed"
    },
    "tags": []
   },
   "outputs": [],
   "source": [
    "def get_models(data):\n",
    "    models = {}\n",
    "    scores = []\n",
    "    is_const = {}\n",
    "\n",
    "    for i, group in tqdm(data.groupby(['Company_ID', 'Product_ID'])):\n",
    "        group = group.sort_values(by='all_date').reset_index(drop=True)\n",
    "\n",
    "        if len(group) == 1:\n",
    "            continue\n",
    "\n",
    "        train_data, val_data = group.iloc[:int(len(group) * 0.99)], group.iloc[int(len(group) * 0.99):]\n",
    "\n",
    "        X_train = train_data.drop(columns='Target')\n",
    "        y_train = train_data.Target\n",
    "\n",
    "        X_val = val_data.drop(columns='Target')\n",
    "        y_val = val_data.Target\n",
    "\n",
    "        y = group.Target\n",
    "\n",
    "        # model = CatBoostRegressor(500, verbose=0, allow_const_label=True)\n",
    "        model = LGBMRegressor(n_estimators=100, verbose=-1)\n",
    "        # model = XGBRegressor()\n",
    "        # model = RandomForestRegressor(50, n_jobs=-1)\n",
    "        model.fit(X_train, y_train)\n",
    "\n",
    "        loss = mae(y_val, model.predict(X_val))\n",
    "        scores.append(loss)\n",
    "\n",
    "        company = int(group.iloc[0].Company_ID)\n",
    "        product = int(group.iloc[0].Product_ID)\n",
    "\n",
    "        models[f'{company}_{product}'] = model\n",
    "\n",
    "        if len(set(list(y))) == 1:\n",
    "            is_const[f'{company}_{product}'] = True\n",
    "        else:\n",
    "            is_const[f'{company}_{product}'] = False\n",
    "    \n",
    "    return models, scores, is_const"
   ]
  },
  {
   "cell_type": "code",
   "execution_count": 19,
   "id": "124106a5",
   "metadata": {
    "execution": {
     "iopub.execute_input": "2025-02-14T14:57:27.904089Z",
     "iopub.status.busy": "2025-02-14T14:57:27.903750Z",
     "iopub.status.idle": "2025-02-14T15:00:32.444332Z",
     "shell.execute_reply": "2025-02-14T15:00:32.443001Z"
    },
    "papermill": {
     "duration": 184.551218,
     "end_time": "2025-02-14T15:00:32.446795",
     "exception": false,
     "start_time": "2025-02-14T14:57:27.895577",
     "status": "completed"
    },
    "tags": []
   },
   "outputs": [
    {
     "data": {
      "application/vnd.jupyter.widget-view+json": {
       "model_id": "921f2666f2204edeb3cb70b1f8b10f7a",
       "version_major": 2,
       "version_minor": 0
      },
      "text/plain": [
       "  0%|          | 0/37045 [00:00<?, ?it/s]"
      ]
     },
     "metadata": {},
     "output_type": "display_data"
    }
   ],
   "source": [
    "models, scores, is_const = get_models(pd.concat([train_targets, val_targets]))"
   ]
  },
  {
   "cell_type": "code",
   "execution_count": 20,
   "id": "a6050442",
   "metadata": {
    "execution": {
     "iopub.execute_input": "2025-02-14T15:00:32.465734Z",
     "iopub.status.busy": "2025-02-14T15:00:32.465375Z",
     "iopub.status.idle": "2025-02-14T15:00:32.478767Z",
     "shell.execute_reply": "2025-02-14T15:00:32.477669Z"
    },
    "papermill": {
     "duration": 0.024775,
     "end_time": "2025-02-14T15:00:32.480954",
     "exception": false,
     "start_time": "2025-02-14T15:00:32.456179",
     "status": "completed"
    },
    "tags": []
   },
   "outputs": [
    {
     "data": {
      "text/plain": [
       "10.030022945066811"
      ]
     },
     "execution_count": 20,
     "metadata": {},
     "output_type": "execute_result"
    }
   ],
   "source": [
    "np.mean(scores)"
   ]
  },
  {
   "cell_type": "code",
   "execution_count": 21,
   "id": "cd404212",
   "metadata": {
    "execution": {
     "iopub.execute_input": "2025-02-14T15:00:32.498294Z",
     "iopub.status.busy": "2025-02-14T15:00:32.497925Z",
     "iopub.status.idle": "2025-02-14T15:00:32.579478Z",
     "shell.execute_reply": "2025-02-14T15:00:32.577785Z"
    },
    "papermill": {
     "duration": 0.092016,
     "end_time": "2025-02-14T15:00:32.581496",
     "exception": false,
     "start_time": "2025-02-14T15:00:32.489480",
     "status": "completed"
    },
    "tags": []
   },
   "outputs": [
    {
     "data": {
      "text/plain": [
       "array([5.6, 5.6, 5.6, ..., 5.6, 5.6, 5.6])"
      ]
     },
     "execution_count": 21,
     "metadata": {},
     "output_type": "execute_result"
    }
   ],
   "source": [
    "models['0_1'].predict(all_targets[train_targets.drop(columns='Target').columns])"
   ]
  },
  {
   "cell_type": "markdown",
   "id": "67eaec6b",
   "metadata": {
    "papermill": {
     "duration": 0.007126,
     "end_time": "2025-02-14T15:00:32.597137",
     "exception": false,
     "start_time": "2025-02-14T15:00:32.590011",
     "status": "completed"
    },
    "tags": []
   },
   "source": [
    "# Submission"
   ]
  },
  {
   "cell_type": "code",
   "execution_count": 22,
   "id": "21e468cd",
   "metadata": {
    "execution": {
     "iopub.execute_input": "2025-02-14T15:00:32.613616Z",
     "iopub.status.busy": "2025-02-14T15:00:32.613167Z",
     "iopub.status.idle": "2025-02-14T15:00:32.763474Z",
     "shell.execute_reply": "2025-02-14T15:00:32.762038Z"
    },
    "papermill": {
     "duration": 0.160908,
     "end_time": "2025-02-14T15:00:32.765523",
     "exception": false,
     "start_time": "2025-02-14T15:00:32.604615",
     "status": "completed"
    },
    "tags": []
   },
   "outputs": [],
   "source": [
    "test_preds = cbm.predict(test_pool)"
   ]
  },
  {
   "cell_type": "code",
   "execution_count": 23,
   "id": "cebcdbb1",
   "metadata": {
    "execution": {
     "iopub.execute_input": "2025-02-14T15:00:32.783047Z",
     "iopub.status.busy": "2025-02-14T15:00:32.782680Z",
     "iopub.status.idle": "2025-02-14T15:00:32.788599Z",
     "shell.execute_reply": "2025-02-14T15:00:32.787171Z"
    },
    "papermill": {
     "duration": 0.016524,
     "end_time": "2025-02-14T15:00:32.790617",
     "exception": false,
     "start_time": "2025-02-14T15:00:32.774093",
     "status": "completed"
    },
    "tags": []
   },
   "outputs": [],
   "source": [
    "def predict(test):\n",
    "    test = test.reset_index(drop=True)\n",
    "    preds = []\n",
    "\n",
    "    for i, row in tqdm(test.iterrows(), total=len(test)):\n",
    "        data = test.iloc[i:i+1]\n",
    "        company = row.Company_ID\n",
    "        product = row.Product_ID\n",
    "        try:\n",
    "            pred = models[f\"{company}_{product}\"].predict(data) ;\n",
    "            preds += list(pred)\n",
    "        except:\n",
    "            preds += [0]\n",
    "    \n",
    "    return preds"
   ]
  },
  {
   "cell_type": "code",
   "execution_count": 24,
   "id": "87622a7d",
   "metadata": {
    "execution": {
     "iopub.execute_input": "2025-02-14T15:00:32.809341Z",
     "iopub.status.busy": "2025-02-14T15:00:32.809017Z",
     "iopub.status.idle": "2025-02-14T15:02:07.063367Z",
     "shell.execute_reply": "2025-02-14T15:02:07.062234Z"
    },
    "papermill": {
     "duration": 94.265758,
     "end_time": "2025-02-14T15:02:07.065630",
     "exception": false,
     "start_time": "2025-02-14T15:00:32.799872",
     "status": "completed"
    },
    "tags": []
   },
   "outputs": [
    {
     "data": {
      "application/vnd.jupyter.widget-view+json": {
       "model_id": "78c2f11a52c24675b44b2f2979f12f65",
       "version_major": 2,
       "version_minor": 0
      },
      "text/plain": [
       "  0%|          | 0/113856 [00:00<?, ?it/s]"
      ]
     },
     "metadata": {},
     "output_type": "display_data"
    }
   ],
   "source": [
    "preds_models = predict(all_targets[train_targets.drop(columns='Target').columns])"
   ]
  },
  {
   "cell_type": "code",
   "execution_count": 25,
   "id": "929ff62b",
   "metadata": {
    "execution": {
     "iopub.execute_input": "2025-02-14T15:02:07.083742Z",
     "iopub.status.busy": "2025-02-14T15:02:07.083375Z",
     "iopub.status.idle": "2025-02-14T15:02:07.149669Z",
     "shell.execute_reply": "2025-02-14T15:02:07.148301Z"
    },
    "papermill": {
     "duration": 0.077459,
     "end_time": "2025-02-14T15:02:07.151896",
     "exception": false,
     "start_time": "2025-02-14T15:02:07.074437",
     "status": "completed"
    },
    "tags": []
   },
   "outputs": [],
   "source": [
    "sample_sub = pd.read_csv('/kaggle/input/ioai-contest-1/sample_submission.csv')"
   ]
  },
  {
   "cell_type": "code",
   "execution_count": 26,
   "id": "35963b50",
   "metadata": {
    "execution": {
     "iopub.execute_input": "2025-02-14T15:02:07.169891Z",
     "iopub.status.busy": "2025-02-14T15:02:07.169500Z",
     "iopub.status.idle": "2025-02-14T15:02:07.186523Z",
     "shell.execute_reply": "2025-02-14T15:02:07.185150Z"
    },
    "papermill": {
     "duration": 0.027736,
     "end_time": "2025-02-14T15:02:07.188440",
     "exception": false,
     "start_time": "2025-02-14T15:02:07.160704",
     "status": "completed"
    },
    "tags": []
   },
   "outputs": [],
   "source": [
    "sample_sub['Target'] = np.array(preds_models) * 0.3 + test_preds * 0.7"
   ]
  },
  {
   "cell_type": "code",
   "execution_count": 27,
   "id": "aa97f0e2",
   "metadata": {
    "execution": {
     "iopub.execute_input": "2025-02-14T15:02:07.206955Z",
     "iopub.status.busy": "2025-02-14T15:02:07.206597Z",
     "iopub.status.idle": "2025-02-14T15:02:07.246386Z",
     "shell.execute_reply": "2025-02-14T15:02:07.244586Z"
    },
    "papermill": {
     "duration": 0.051739,
     "end_time": "2025-02-14T15:02:07.248568",
     "exception": false,
     "start_time": "2025-02-14T15:02:07.196829",
     "status": "completed"
    },
    "tags": []
   },
   "outputs": [],
   "source": [
    "sample_sub['Target'] = sample_sub['Target'].apply(lambda x: max(0,x)) #.round()"
   ]
  },
  {
   "cell_type": "code",
   "execution_count": 28,
   "id": "1fe4944b",
   "metadata": {
    "execution": {
     "iopub.execute_input": "2025-02-14T15:02:07.266029Z",
     "iopub.status.busy": "2025-02-14T15:02:07.265746Z",
     "iopub.status.idle": "2025-02-14T15:02:07.271947Z",
     "shell.execute_reply": "2025-02-14T15:02:07.271092Z"
    },
    "papermill": {
     "duration": 0.015993,
     "end_time": "2025-02-14T15:02:07.273233",
     "exception": false,
     "start_time": "2025-02-14T15:02:07.257240",
     "status": "completed"
    },
    "tags": []
   },
   "outputs": [
    {
     "data": {
      "text/plain": [
       "15.42732898570691"
      ]
     },
     "execution_count": 28,
     "metadata": {},
     "output_type": "execute_result"
    }
   ],
   "source": [
    "sample_sub['Target'].mean()"
   ]
  },
  {
   "cell_type": "code",
   "execution_count": 29,
   "id": "358acea2",
   "metadata": {
    "execution": {
     "iopub.execute_input": "2025-02-14T15:02:07.383180Z",
     "iopub.status.busy": "2025-02-14T15:02:07.382796Z",
     "iopub.status.idle": "2025-02-14T15:02:07.563586Z",
     "shell.execute_reply": "2025-02-14T15:02:07.562462Z"
    },
    "papermill": {
     "duration": 0.284358,
     "end_time": "2025-02-14T15:02:07.565460",
     "exception": false,
     "start_time": "2025-02-14T15:02:07.281102",
     "status": "completed"
    },
    "tags": []
   },
   "outputs": [],
   "source": [
    "sample_sub.to_csv('/kaggle/working/submission.csv',index=False)"
   ]
  },
  {
   "cell_type": "code",
   "execution_count": 30,
   "id": "42a149fe",
   "metadata": {
    "execution": {
     "iopub.execute_input": "2025-02-14T15:02:07.583303Z",
     "iopub.status.busy": "2025-02-14T15:02:07.582906Z",
     "iopub.status.idle": "2025-02-14T15:02:07.594666Z",
     "shell.execute_reply": "2025-02-14T15:02:07.592692Z"
    },
    "papermill": {
     "duration": 0.023192,
     "end_time": "2025-02-14T15:02:07.597122",
     "exception": false,
     "start_time": "2025-02-14T15:02:07.573930",
     "status": "completed"
    },
    "tags": []
   },
   "outputs": [
    {
     "data": {
      "text/html": [
       "<div>\n",
       "<style scoped>\n",
       "    .dataframe tbody tr th:only-of-type {\n",
       "        vertical-align: middle;\n",
       "    }\n",
       "\n",
       "    .dataframe tbody tr th {\n",
       "        vertical-align: top;\n",
       "    }\n",
       "\n",
       "    .dataframe thead th {\n",
       "        text-align: right;\n",
       "    }\n",
       "</style>\n",
       "<table border=\"1\" class=\"dataframe\">\n",
       "  <thead>\n",
       "    <tr style=\"text-align: right;\">\n",
       "      <th></th>\n",
       "      <th>Id</th>\n",
       "      <th>Target</th>\n",
       "    </tr>\n",
       "  </thead>\n",
       "  <tbody>\n",
       "    <tr>\n",
       "      <th>0</th>\n",
       "      <td>0_1_2024-01</td>\n",
       "      <td>4.332337</td>\n",
       "    </tr>\n",
       "    <tr>\n",
       "      <th>1</th>\n",
       "      <td>0_2_2024-01</td>\n",
       "      <td>0.069450</td>\n",
       "    </tr>\n",
       "    <tr>\n",
       "      <th>2</th>\n",
       "      <td>0_3_2024-01</td>\n",
       "      <td>0.165609</td>\n",
       "    </tr>\n",
       "    <tr>\n",
       "      <th>3</th>\n",
       "      <td>0_5_2024-01</td>\n",
       "      <td>0.849189</td>\n",
       "    </tr>\n",
       "    <tr>\n",
       "      <th>4</th>\n",
       "      <td>0_6_2024-01</td>\n",
       "      <td>1.542279</td>\n",
       "    </tr>\n",
       "    <tr>\n",
       "      <th>...</th>\n",
       "      <td>...</td>\n",
       "      <td>...</td>\n",
       "    </tr>\n",
       "    <tr>\n",
       "      <th>113851</th>\n",
       "      <td>3_14664_2024-03</td>\n",
       "      <td>0.000005</td>\n",
       "    </tr>\n",
       "    <tr>\n",
       "      <th>113852</th>\n",
       "      <td>3_14665_2024-03</td>\n",
       "      <td>196.308722</td>\n",
       "    </tr>\n",
       "    <tr>\n",
       "      <th>113853</th>\n",
       "      <td>3_14666_2024-03</td>\n",
       "      <td>0.000000</td>\n",
       "    </tr>\n",
       "    <tr>\n",
       "      <th>113854</th>\n",
       "      <td>3_14667_2024-03</td>\n",
       "      <td>0.003696</td>\n",
       "    </tr>\n",
       "    <tr>\n",
       "      <th>113855</th>\n",
       "      <td>3_14668_2024-03</td>\n",
       "      <td>0.010183</td>\n",
       "    </tr>\n",
       "  </tbody>\n",
       "</table>\n",
       "<p>113856 rows × 2 columns</p>\n",
       "</div>"
      ],
      "text/plain": [
       "                     Id      Target\n",
       "0           0_1_2024-01    4.332337\n",
       "1           0_2_2024-01    0.069450\n",
       "2           0_3_2024-01    0.165609\n",
       "3           0_5_2024-01    0.849189\n",
       "4           0_6_2024-01    1.542279\n",
       "...                 ...         ...\n",
       "113851  3_14664_2024-03    0.000005\n",
       "113852  3_14665_2024-03  196.308722\n",
       "113853  3_14666_2024-03    0.000000\n",
       "113854  3_14667_2024-03    0.003696\n",
       "113855  3_14668_2024-03    0.010183\n",
       "\n",
       "[113856 rows x 2 columns]"
      ]
     },
     "execution_count": 30,
     "metadata": {},
     "output_type": "execute_result"
    }
   ],
   "source": [
    "sample_sub"
   ]
  },
  {
   "cell_type": "code",
   "execution_count": null,
   "id": "edd8ca00",
   "metadata": {
    "papermill": {
     "duration": 0.007932,
     "end_time": "2025-02-14T15:02:07.613981",
     "exception": false,
     "start_time": "2025-02-14T15:02:07.606049",
     "status": "completed"
    },
    "tags": []
   },
   "outputs": [],
   "source": []
  }
 ],
 "metadata": {
  "kaggle": {
   "accelerator": "none",
   "dataSources": [
    {
     "databundleVersionId": 10887576,
     "sourceId": 90475,
     "sourceType": "competition"
    }
   ],
   "dockerImageVersionId": 30886,
   "isGpuEnabled": false,
   "isInternetEnabled": true,
   "language": "python",
   "sourceType": "notebook"
  },
  "kernelspec": {
   "display_name": "Python 3",
   "language": "python",
   "name": "python3"
  },
  "language_info": {
   "codemirror_mode": {
    "name": "ipython",
    "version": 3
   },
   "file_extension": ".py",
   "mimetype": "text/x-python",
   "name": "python",
   "nbconvert_exporter": "python",
   "pygments_lexer": "ipython3",
   "version": "3.10.12"
  },
  "papermill": {
   "default_parameters": {},
   "duration": 542.609206,
   "end_time": "2025-02-14T15:02:09.552147",
   "environment_variables": {},
   "exception": null,
   "input_path": "__notebook__.ipynb",
   "output_path": "__notebook__.ipynb",
   "parameters": {},
   "start_time": "2025-02-14T14:53:06.942941",
   "version": "2.6.0"
  },
  "widgets": {
   "application/vnd.jupyter.widget-state+json": {
    "state": {
     "062aa8d91f3c4658bf6d2147f94c3efb": {
      "model_module": "@jupyter-widgets/base",
      "model_module_version": "2.0.0",
      "model_name": "LayoutModel",
      "state": {
       "_model_module": "@jupyter-widgets/base",
       "_model_module_version": "2.0.0",
       "_model_name": "LayoutModel",
       "_view_count": null,
       "_view_module": "@jupyter-widgets/base",
       "_view_module_version": "2.0.0",
       "_view_name": "LayoutView",
       "align_content": null,
       "align_items": null,
       "align_self": null,
       "border_bottom": null,
       "border_left": null,
       "border_right": null,
       "border_top": null,
       "bottom": null,
       "display": null,
       "flex": null,
       "flex_flow": null,
       "grid_area": null,
       "grid_auto_columns": null,
       "grid_auto_flow": null,
       "grid_auto_rows": null,
       "grid_column": null,
       "grid_gap": null,
       "grid_row": null,
       "grid_template_areas": null,
       "grid_template_columns": null,
       "grid_template_rows": null,
       "height": null,
       "justify_content": null,
       "justify_items": null,
       "left": null,
       "margin": null,
       "max_height": null,
       "max_width": null,
       "min_height": null,
       "min_width": null,
       "object_fit": null,
       "object_position": null,
       "order": null,
       "overflow": null,
       "padding": null,
       "right": null,
       "top": null,
       "visibility": null,
       "width": null
      }
     },
     "0a5a450069094aa799bbbd850b528358": {
      "model_module": "@jupyter-widgets/controls",
      "model_module_version": "2.0.0",
      "model_name": "ProgressStyleModel",
      "state": {
       "_model_module": "@jupyter-widgets/controls",
       "_model_module_version": "2.0.0",
       "_model_name": "ProgressStyleModel",
       "_view_count": null,
       "_view_module": "@jupyter-widgets/base",
       "_view_module_version": "2.0.0",
       "_view_name": "StyleView",
       "bar_color": null,
       "description_width": ""
      }
     },
     "0db53d0e00d8462185e61d89ec9394fb": {
      "model_module": "@jupyter-widgets/controls",
      "model_module_version": "2.0.0",
      "model_name": "FloatProgressModel",
      "state": {
       "_dom_classes": [],
       "_model_module": "@jupyter-widgets/controls",
       "_model_module_version": "2.0.0",
       "_model_name": "FloatProgressModel",
       "_view_count": null,
       "_view_module": "@jupyter-widgets/controls",
       "_view_module_version": "2.0.0",
       "_view_name": "ProgressView",
       "bar_style": "success",
       "description": "",
       "description_allow_html": false,
       "layout": "IPY_MODEL_9fe27a2fb2a24dbaa142eb429e41182b",
       "max": 12.0,
       "min": 0.0,
       "orientation": "horizontal",
       "style": "IPY_MODEL_5e0d716f082e461094a49e5608122ad8",
       "tabbable": null,
       "tooltip": null,
       "value": 12.0
      }
     },
     "14e774b57a9b4d2fb4eb0369064141c0": {
      "model_module": "@jupyter-widgets/base",
      "model_module_version": "2.0.0",
      "model_name": "LayoutModel",
      "state": {
       "_model_module": "@jupyter-widgets/base",
       "_model_module_version": "2.0.0",
       "_model_name": "LayoutModel",
       "_view_count": null,
       "_view_module": "@jupyter-widgets/base",
       "_view_module_version": "2.0.0",
       "_view_name": "LayoutView",
       "align_content": null,
       "align_items": null,
       "align_self": null,
       "border_bottom": null,
       "border_left": null,
       "border_right": null,
       "border_top": null,
       "bottom": null,
       "display": null,
       "flex": null,
       "flex_flow": null,
       "grid_area": null,
       "grid_auto_columns": null,
       "grid_auto_flow": null,
       "grid_auto_rows": null,
       "grid_column": null,
       "grid_gap": null,
       "grid_row": null,
       "grid_template_areas": null,
       "grid_template_columns": null,
       "grid_template_rows": null,
       "height": null,
       "justify_content": null,
       "justify_items": null,
       "left": null,
       "margin": null,
       "max_height": null,
       "max_width": null,
       "min_height": null,
       "min_width": null,
       "object_fit": null,
       "object_position": null,
       "order": null,
       "overflow": null,
       "padding": null,
       "right": null,
       "top": null,
       "visibility": null,
       "width": null
      }
     },
     "18843e30e9d04e76acce56e849d0d0bb": {
      "model_module": "@jupyter-widgets/controls",
      "model_module_version": "2.0.0",
      "model_name": "HTMLModel",
      "state": {
       "_dom_classes": [],
       "_model_module": "@jupyter-widgets/controls",
       "_model_module_version": "2.0.0",
       "_model_name": "HTMLModel",
       "_view_count": null,
       "_view_module": "@jupyter-widgets/controls",
       "_view_module_version": "2.0.0",
       "_view_name": "HTMLView",
       "description": "",
       "description_allow_html": false,
       "layout": "IPY_MODEL_e19bf52f887d48199ff6128da40701ec",
       "placeholder": "​",
       "style": "IPY_MODEL_38728552f8264b429907f019322c6c1f",
       "tabbable": null,
       "tooltip": null,
       "value": "100%"
      }
     },
     "1899ea5dbdd546c39c8547b43e70ea1e": {
      "model_module": "@jupyter-widgets/controls",
      "model_module_version": "2.0.0",
      "model_name": "HTMLStyleModel",
      "state": {
       "_model_module": "@jupyter-widgets/controls",
       "_model_module_version": "2.0.0",
       "_model_name": "HTMLStyleModel",
       "_view_count": null,
       "_view_module": "@jupyter-widgets/base",
       "_view_module_version": "2.0.0",
       "_view_name": "StyleView",
       "background": null,
       "description_width": "",
       "font_size": null,
       "text_color": null
      }
     },
     "1b3f4c76cea84bdfb70d1786dca06bd0": {
      "model_module": "@jupyter-widgets/base",
      "model_module_version": "2.0.0",
      "model_name": "LayoutModel",
      "state": {
       "_model_module": "@jupyter-widgets/base",
       "_model_module_version": "2.0.0",
       "_model_name": "LayoutModel",
       "_view_count": null,
       "_view_module": "@jupyter-widgets/base",
       "_view_module_version": "2.0.0",
       "_view_name": "LayoutView",
       "align_content": null,
       "align_items": null,
       "align_self": null,
       "border_bottom": null,
       "border_left": null,
       "border_right": null,
       "border_top": null,
       "bottom": null,
       "display": null,
       "flex": null,
       "flex_flow": null,
       "grid_area": null,
       "grid_auto_columns": null,
       "grid_auto_flow": null,
       "grid_auto_rows": null,
       "grid_column": null,
       "grid_gap": null,
       "grid_row": null,
       "grid_template_areas": null,
       "grid_template_columns": null,
       "grid_template_rows": null,
       "height": null,
       "justify_content": null,
       "justify_items": null,
       "left": null,
       "margin": null,
       "max_height": null,
       "max_width": null,
       "min_height": null,
       "min_width": null,
       "object_fit": null,
       "object_position": null,
       "order": null,
       "overflow": null,
       "padding": null,
       "right": null,
       "top": null,
       "visibility": null,
       "width": null
      }
     },
     "1bc65036a50c493bb8c056a4ac228344": {
      "model_module": "@jupyter-widgets/base",
      "model_module_version": "2.0.0",
      "model_name": "LayoutModel",
      "state": {
       "_model_module": "@jupyter-widgets/base",
       "_model_module_version": "2.0.0",
       "_model_name": "LayoutModel",
       "_view_count": null,
       "_view_module": "@jupyter-widgets/base",
       "_view_module_version": "2.0.0",
       "_view_name": "LayoutView",
       "align_content": null,
       "align_items": null,
       "align_self": null,
       "border_bottom": null,
       "border_left": null,
       "border_right": null,
       "border_top": null,
       "bottom": null,
       "display": null,
       "flex": null,
       "flex_flow": null,
       "grid_area": null,
       "grid_auto_columns": null,
       "grid_auto_flow": null,
       "grid_auto_rows": null,
       "grid_column": null,
       "grid_gap": null,
       "grid_row": null,
       "grid_template_areas": null,
       "grid_template_columns": null,
       "grid_template_rows": null,
       "height": null,
       "justify_content": null,
       "justify_items": null,
       "left": null,
       "margin": null,
       "max_height": null,
       "max_width": null,
       "min_height": null,
       "min_width": null,
       "object_fit": null,
       "object_position": null,
       "order": null,
       "overflow": null,
       "padding": null,
       "right": null,
       "top": null,
       "visibility": null,
       "width": null
      }
     },
     "20c0b4eaecb54feeb1f9bab96436a34d": {
      "model_module": "@jupyter-widgets/controls",
      "model_module_version": "2.0.0",
      "model_name": "HTMLStyleModel",
      "state": {
       "_model_module": "@jupyter-widgets/controls",
       "_model_module_version": "2.0.0",
       "_model_name": "HTMLStyleModel",
       "_view_count": null,
       "_view_module": "@jupyter-widgets/base",
       "_view_module_version": "2.0.0",
       "_view_name": "StyleView",
       "background": null,
       "description_width": "",
       "font_size": null,
       "text_color": null
      }
     },
     "2768dd8bb99f43c2927b518449be3e15": {
      "model_module": "@jupyter-widgets/controls",
      "model_module_version": "2.0.0",
      "model_name": "HTMLStyleModel",
      "state": {
       "_model_module": "@jupyter-widgets/controls",
       "_model_module_version": "2.0.0",
       "_model_name": "HTMLStyleModel",
       "_view_count": null,
       "_view_module": "@jupyter-widgets/base",
       "_view_module_version": "2.0.0",
       "_view_name": "StyleView",
       "background": null,
       "description_width": "",
       "font_size": null,
       "text_color": null
      }
     },
     "2a6be814e4c34ed08b0cf661f84569db": {
      "model_module": "@jupyter-widgets/controls",
      "model_module_version": "2.0.0",
      "model_name": "HTMLModel",
      "state": {
       "_dom_classes": [],
       "_model_module": "@jupyter-widgets/controls",
       "_model_module_version": "2.0.0",
       "_model_name": "HTMLModel",
       "_view_count": null,
       "_view_module": "@jupyter-widgets/controls",
       "_view_module_version": "2.0.0",
       "_view_name": "HTMLView",
       "description": "",
       "description_allow_html": false,
       "layout": "IPY_MODEL_e8e4b14d827e4c1da60da1323e21ca84",
       "placeholder": "​",
       "style": "IPY_MODEL_cd5e0b1e279a4d758d1ce4df73fbe573",
       "tabbable": null,
       "tooltip": null,
       "value": "100%"
      }
     },
     "34e394f7f9524f909f68131d10808b1c": {
      "model_module": "@jupyter-widgets/controls",
      "model_module_version": "2.0.0",
      "model_name": "HTMLModel",
      "state": {
       "_dom_classes": [],
       "_model_module": "@jupyter-widgets/controls",
       "_model_module_version": "2.0.0",
       "_model_name": "HTMLModel",
       "_view_count": null,
       "_view_module": "@jupyter-widgets/controls",
       "_view_module_version": "2.0.0",
       "_view_name": "HTMLView",
       "description": "",
       "description_allow_html": false,
       "layout": "IPY_MODEL_51addb3e8f2c4d009e9fc172f5621ecc",
       "placeholder": "​",
       "style": "IPY_MODEL_1899ea5dbdd546c39c8547b43e70ea1e",
       "tabbable": null,
       "tooltip": null,
       "value": " 12/12 [00:01&lt;00:00,  6.17it/s]"
      }
     },
     "3699508bc6804e17b7a1e8a7045e73cc": {
      "model_module": "@jupyter-widgets/base",
      "model_module_version": "2.0.0",
      "model_name": "LayoutModel",
      "state": {
       "_model_module": "@jupyter-widgets/base",
       "_model_module_version": "2.0.0",
       "_model_name": "LayoutModel",
       "_view_count": null,
       "_view_module": "@jupyter-widgets/base",
       "_view_module_version": "2.0.0",
       "_view_name": "LayoutView",
       "align_content": null,
       "align_items": null,
       "align_self": null,
       "border_bottom": null,
       "border_left": null,
       "border_right": null,
       "border_top": null,
       "bottom": null,
       "display": null,
       "flex": null,
       "flex_flow": null,
       "grid_area": null,
       "grid_auto_columns": null,
       "grid_auto_flow": null,
       "grid_auto_rows": null,
       "grid_column": null,
       "grid_gap": null,
       "grid_row": null,
       "grid_template_areas": null,
       "grid_template_columns": null,
       "grid_template_rows": null,
       "height": null,
       "justify_content": null,
       "justify_items": null,
       "left": null,
       "margin": null,
       "max_height": null,
       "max_width": null,
       "min_height": null,
       "min_width": null,
       "object_fit": null,
       "object_position": null,
       "order": null,
       "overflow": null,
       "padding": null,
       "right": null,
       "top": null,
       "visibility": null,
       "width": null
      }
     },
     "38728552f8264b429907f019322c6c1f": {
      "model_module": "@jupyter-widgets/controls",
      "model_module_version": "2.0.0",
      "model_name": "HTMLStyleModel",
      "state": {
       "_model_module": "@jupyter-widgets/controls",
       "_model_module_version": "2.0.0",
       "_model_name": "HTMLStyleModel",
       "_view_count": null,
       "_view_module": "@jupyter-widgets/base",
       "_view_module_version": "2.0.0",
       "_view_name": "StyleView",
       "background": null,
       "description_width": "",
       "font_size": null,
       "text_color": null
      }
     },
     "395204676dcb4c809097994b025815e7": {
      "model_module": "@jupyter-widgets/base",
      "model_module_version": "2.0.0",
      "model_name": "LayoutModel",
      "state": {
       "_model_module": "@jupyter-widgets/base",
       "_model_module_version": "2.0.0",
       "_model_name": "LayoutModel",
       "_view_count": null,
       "_view_module": "@jupyter-widgets/base",
       "_view_module_version": "2.0.0",
       "_view_name": "LayoutView",
       "align_content": null,
       "align_items": null,
       "align_self": null,
       "border_bottom": null,
       "border_left": null,
       "border_right": null,
       "border_top": null,
       "bottom": null,
       "display": null,
       "flex": null,
       "flex_flow": null,
       "grid_area": null,
       "grid_auto_columns": null,
       "grid_auto_flow": null,
       "grid_auto_rows": null,
       "grid_column": null,
       "grid_gap": null,
       "grid_row": null,
       "grid_template_areas": null,
       "grid_template_columns": null,
       "grid_template_rows": null,
       "height": null,
       "justify_content": null,
       "justify_items": null,
       "left": null,
       "margin": null,
       "max_height": null,
       "max_width": null,
       "min_height": null,
       "min_width": null,
       "object_fit": null,
       "object_position": null,
       "order": null,
       "overflow": null,
       "padding": null,
       "right": null,
       "top": null,
       "visibility": null,
       "width": null
      }
     },
     "3ce5c703e04940adb5c75fa9a295715b": {
      "model_module": "@jupyter-widgets/controls",
      "model_module_version": "2.0.0",
      "model_name": "HBoxModel",
      "state": {
       "_dom_classes": [],
       "_model_module": "@jupyter-widgets/controls",
       "_model_module_version": "2.0.0",
       "_model_name": "HBoxModel",
       "_view_count": null,
       "_view_module": "@jupyter-widgets/controls",
       "_view_module_version": "2.0.0",
       "_view_name": "HBoxView",
       "box_style": "",
       "children": [
        "IPY_MODEL_acef4b93ed38492c8550cb2152394b74",
        "IPY_MODEL_0db53d0e00d8462185e61d89ec9394fb",
        "IPY_MODEL_8c5a1b84823a49f09b04fea2bdfaf436"
       ],
       "layout": "IPY_MODEL_14e774b57a9b4d2fb4eb0369064141c0",
       "tabbable": null,
       "tooltip": null
      }
     },
     "3d2088188d3c4e56b18b695f45812140": {
      "model_module": "@jupyter-widgets/base",
      "model_module_version": "2.0.0",
      "model_name": "LayoutModel",
      "state": {
       "_model_module": "@jupyter-widgets/base",
       "_model_module_version": "2.0.0",
       "_model_name": "LayoutModel",
       "_view_count": null,
       "_view_module": "@jupyter-widgets/base",
       "_view_module_version": "2.0.0",
       "_view_name": "LayoutView",
       "align_content": null,
       "align_items": null,
       "align_self": null,
       "border_bottom": null,
       "border_left": null,
       "border_right": null,
       "border_top": null,
       "bottom": null,
       "display": null,
       "flex": null,
       "flex_flow": null,
       "grid_area": null,
       "grid_auto_columns": null,
       "grid_auto_flow": null,
       "grid_auto_rows": null,
       "grid_column": null,
       "grid_gap": null,
       "grid_row": null,
       "grid_template_areas": null,
       "grid_template_columns": null,
       "grid_template_rows": null,
       "height": null,
       "justify_content": null,
       "justify_items": null,
       "left": null,
       "margin": null,
       "max_height": null,
       "max_width": null,
       "min_height": null,
       "min_width": null,
       "object_fit": null,
       "object_position": null,
       "order": null,
       "overflow": null,
       "padding": null,
       "right": null,
       "top": null,
       "visibility": null,
       "width": null
      }
     },
     "3d26585310ad4e218a851fb82c962c93": {
      "model_module": "@jupyter-widgets/base",
      "model_module_version": "2.0.0",
      "model_name": "LayoutModel",
      "state": {
       "_model_module": "@jupyter-widgets/base",
       "_model_module_version": "2.0.0",
       "_model_name": "LayoutModel",
       "_view_count": null,
       "_view_module": "@jupyter-widgets/base",
       "_view_module_version": "2.0.0",
       "_view_name": "LayoutView",
       "align_content": null,
       "align_items": null,
       "align_self": null,
       "border_bottom": null,
       "border_left": null,
       "border_right": null,
       "border_top": null,
       "bottom": null,
       "display": null,
       "flex": null,
       "flex_flow": null,
       "grid_area": null,
       "grid_auto_columns": null,
       "grid_auto_flow": null,
       "grid_auto_rows": null,
       "grid_column": null,
       "grid_gap": null,
       "grid_row": null,
       "grid_template_areas": null,
       "grid_template_columns": null,
       "grid_template_rows": null,
       "height": null,
       "justify_content": null,
       "justify_items": null,
       "left": null,
       "margin": null,
       "max_height": null,
       "max_width": null,
       "min_height": null,
       "min_width": null,
       "object_fit": null,
       "object_position": null,
       "order": null,
       "overflow": null,
       "padding": null,
       "right": null,
       "top": null,
       "visibility": null,
       "width": null
      }
     },
     "404a22f78a2e48c5a97fa0ea4eaf058d": {
      "model_module": "@jupyter-widgets/base",
      "model_module_version": "2.0.0",
      "model_name": "LayoutModel",
      "state": {
       "_model_module": "@jupyter-widgets/base",
       "_model_module_version": "2.0.0",
       "_model_name": "LayoutModel",
       "_view_count": null,
       "_view_module": "@jupyter-widgets/base",
       "_view_module_version": "2.0.0",
       "_view_name": "LayoutView",
       "align_content": null,
       "align_items": null,
       "align_self": null,
       "border_bottom": null,
       "border_left": null,
       "border_right": null,
       "border_top": null,
       "bottom": null,
       "display": null,
       "flex": null,
       "flex_flow": null,
       "grid_area": null,
       "grid_auto_columns": null,
       "grid_auto_flow": null,
       "grid_auto_rows": null,
       "grid_column": null,
       "grid_gap": null,
       "grid_row": null,
       "grid_template_areas": null,
       "grid_template_columns": null,
       "grid_template_rows": null,
       "height": null,
       "justify_content": null,
       "justify_items": null,
       "left": null,
       "margin": null,
       "max_height": null,
       "max_width": null,
       "min_height": null,
       "min_width": null,
       "object_fit": null,
       "object_position": null,
       "order": null,
       "overflow": null,
       "padding": null,
       "right": null,
       "top": null,
       "visibility": null,
       "width": null
      }
     },
     "418ab008313344f4a82a333b9b554431": {
      "model_module": "@jupyter-widgets/controls",
      "model_module_version": "2.0.0",
      "model_name": "HBoxModel",
      "state": {
       "_dom_classes": [],
       "_model_module": "@jupyter-widgets/controls",
       "_model_module_version": "2.0.0",
       "_model_name": "HBoxModel",
       "_view_count": null,
       "_view_module": "@jupyter-widgets/controls",
       "_view_module_version": "2.0.0",
       "_view_name": "HBoxView",
       "box_style": "",
       "children": [
        "IPY_MODEL_a604d6ffff7c499cbc2b34757552f4d4",
        "IPY_MODEL_b9f254d5d4394205aea817a8c6e0e16c",
        "IPY_MODEL_e87b3f88c44445c182e5a589ff08fbed"
       ],
       "layout": "IPY_MODEL_1bc65036a50c493bb8c056a4ac228344",
       "tabbable": null,
       "tooltip": null
      }
     },
     "424bdaa89e6a4089b0f83f8bdd67178b": {
      "model_module": "@jupyter-widgets/controls",
      "model_module_version": "2.0.0",
      "model_name": "ProgressStyleModel",
      "state": {
       "_model_module": "@jupyter-widgets/controls",
       "_model_module_version": "2.0.0",
       "_model_name": "ProgressStyleModel",
       "_view_count": null,
       "_view_module": "@jupyter-widgets/base",
       "_view_module_version": "2.0.0",
       "_view_name": "StyleView",
       "bar_color": null,
       "description_width": ""
      }
     },
     "50c9c0213d5949db9e95f2e0973d3577": {
      "model_module": "@jupyter-widgets/base",
      "model_module_version": "2.0.0",
      "model_name": "LayoutModel",
      "state": {
       "_model_module": "@jupyter-widgets/base",
       "_model_module_version": "2.0.0",
       "_model_name": "LayoutModel",
       "_view_count": null,
       "_view_module": "@jupyter-widgets/base",
       "_view_module_version": "2.0.0",
       "_view_name": "LayoutView",
       "align_content": null,
       "align_items": null,
       "align_self": null,
       "border_bottom": null,
       "border_left": null,
       "border_right": null,
       "border_top": null,
       "bottom": null,
       "display": null,
       "flex": null,
       "flex_flow": null,
       "grid_area": null,
       "grid_auto_columns": null,
       "grid_auto_flow": null,
       "grid_auto_rows": null,
       "grid_column": null,
       "grid_gap": null,
       "grid_row": null,
       "grid_template_areas": null,
       "grid_template_columns": null,
       "grid_template_rows": null,
       "height": null,
       "justify_content": null,
       "justify_items": null,
       "left": null,
       "margin": null,
       "max_height": null,
       "max_width": null,
       "min_height": null,
       "min_width": null,
       "object_fit": null,
       "object_position": null,
       "order": null,
       "overflow": null,
       "padding": null,
       "right": null,
       "top": null,
       "visibility": null,
       "width": null
      }
     },
     "51addb3e8f2c4d009e9fc172f5621ecc": {
      "model_module": "@jupyter-widgets/base",
      "model_module_version": "2.0.0",
      "model_name": "LayoutModel",
      "state": {
       "_model_module": "@jupyter-widgets/base",
       "_model_module_version": "2.0.0",
       "_model_name": "LayoutModel",
       "_view_count": null,
       "_view_module": "@jupyter-widgets/base",
       "_view_module_version": "2.0.0",
       "_view_name": "LayoutView",
       "align_content": null,
       "align_items": null,
       "align_self": null,
       "border_bottom": null,
       "border_left": null,
       "border_right": null,
       "border_top": null,
       "bottom": null,
       "display": null,
       "flex": null,
       "flex_flow": null,
       "grid_area": null,
       "grid_auto_columns": null,
       "grid_auto_flow": null,
       "grid_auto_rows": null,
       "grid_column": null,
       "grid_gap": null,
       "grid_row": null,
       "grid_template_areas": null,
       "grid_template_columns": null,
       "grid_template_rows": null,
       "height": null,
       "justify_content": null,
       "justify_items": null,
       "left": null,
       "margin": null,
       "max_height": null,
       "max_width": null,
       "min_height": null,
       "min_width": null,
       "object_fit": null,
       "object_position": null,
       "order": null,
       "overflow": null,
       "padding": null,
       "right": null,
       "top": null,
       "visibility": null,
       "width": null
      }
     },
     "527ed8d5389647ada44c9929cfbc8d79": {
      "model_module": "@jupyter-widgets/controls",
      "model_module_version": "2.0.0",
      "model_name": "HTMLModel",
      "state": {
       "_dom_classes": [],
       "_model_module": "@jupyter-widgets/controls",
       "_model_module_version": "2.0.0",
       "_model_name": "HTMLModel",
       "_view_count": null,
       "_view_module": "@jupyter-widgets/controls",
       "_view_module_version": "2.0.0",
       "_view_name": "HTMLView",
       "description": "",
       "description_allow_html": false,
       "layout": "IPY_MODEL_872a0c3d115a443195e997456d6c2aae",
       "placeholder": "​",
       "style": "IPY_MODEL_e999f4175aa4472a8460f3a0e373252b",
       "tabbable": null,
       "tooltip": null,
       "value": "100%"
      }
     },
     "529bd6c1c11f4ab18a003477d6e61913": {
      "model_module": "@jupyter-widgets/controls",
      "model_module_version": "2.0.0",
      "model_name": "FloatProgressModel",
      "state": {
       "_dom_classes": [],
       "_model_module": "@jupyter-widgets/controls",
       "_model_module_version": "2.0.0",
       "_model_name": "FloatProgressModel",
       "_view_count": null,
       "_view_module": "@jupyter-widgets/controls",
       "_view_module_version": "2.0.0",
       "_view_name": "ProgressView",
       "bar_style": "success",
       "description": "",
       "description_allow_html": false,
       "layout": "IPY_MODEL_71d2a50b3d4a4b9fbbbb1e08b9e0fe14",
       "max": 113856.0,
       "min": 0.0,
       "orientation": "horizontal",
       "style": "IPY_MODEL_5459df74587747cba4d7756fdcce13dc",
       "tabbable": null,
       "tooltip": null,
       "value": 113856.0
      }
     },
     "53f162e4e8304ceb9e069fd6f023e7bc": {
      "model_module": "@jupyter-widgets/controls",
      "model_module_version": "2.0.0",
      "model_name": "ProgressStyleModel",
      "state": {
       "_model_module": "@jupyter-widgets/controls",
       "_model_module_version": "2.0.0",
       "_model_name": "ProgressStyleModel",
       "_view_count": null,
       "_view_module": "@jupyter-widgets/base",
       "_view_module_version": "2.0.0",
       "_view_name": "StyleView",
       "bar_color": null,
       "description_width": ""
      }
     },
     "5459df74587747cba4d7756fdcce13dc": {
      "model_module": "@jupyter-widgets/controls",
      "model_module_version": "2.0.0",
      "model_name": "ProgressStyleModel",
      "state": {
       "_model_module": "@jupyter-widgets/controls",
       "_model_module_version": "2.0.0",
       "_model_name": "ProgressStyleModel",
       "_view_count": null,
       "_view_module": "@jupyter-widgets/base",
       "_view_module_version": "2.0.0",
       "_view_name": "StyleView",
       "bar_color": null,
       "description_width": ""
      }
     },
     "56df7baa9289493a853fa9bc5781590f": {
      "model_module": "@jupyter-widgets/controls",
      "model_module_version": "2.0.0",
      "model_name": "HTMLStyleModel",
      "state": {
       "_model_module": "@jupyter-widgets/controls",
       "_model_module_version": "2.0.0",
       "_model_name": "HTMLStyleModel",
       "_view_count": null,
       "_view_module": "@jupyter-widgets/base",
       "_view_module_version": "2.0.0",
       "_view_name": "StyleView",
       "background": null,
       "description_width": "",
       "font_size": null,
       "text_color": null
      }
     },
     "5971c70bac6540e984bf650b0940712c": {
      "model_module": "@jupyter-widgets/base",
      "model_module_version": "2.0.0",
      "model_name": "LayoutModel",
      "state": {
       "_model_module": "@jupyter-widgets/base",
       "_model_module_version": "2.0.0",
       "_model_name": "LayoutModel",
       "_view_count": null,
       "_view_module": "@jupyter-widgets/base",
       "_view_module_version": "2.0.0",
       "_view_name": "LayoutView",
       "align_content": null,
       "align_items": null,
       "align_self": null,
       "border_bottom": null,
       "border_left": null,
       "border_right": null,
       "border_top": null,
       "bottom": null,
       "display": null,
       "flex": null,
       "flex_flow": null,
       "grid_area": null,
       "grid_auto_columns": null,
       "grid_auto_flow": null,
       "grid_auto_rows": null,
       "grid_column": null,
       "grid_gap": null,
       "grid_row": null,
       "grid_template_areas": null,
       "grid_template_columns": null,
       "grid_template_rows": null,
       "height": null,
       "justify_content": null,
       "justify_items": null,
       "left": null,
       "margin": null,
       "max_height": null,
       "max_width": null,
       "min_height": null,
       "min_width": null,
       "object_fit": null,
       "object_position": null,
       "order": null,
       "overflow": null,
       "padding": null,
       "right": null,
       "top": null,
       "visibility": null,
       "width": null
      }
     },
     "5e0d716f082e461094a49e5608122ad8": {
      "model_module": "@jupyter-widgets/controls",
      "model_module_version": "2.0.0",
      "model_name": "ProgressStyleModel",
      "state": {
       "_model_module": "@jupyter-widgets/controls",
       "_model_module_version": "2.0.0",
       "_model_name": "ProgressStyleModel",
       "_view_count": null,
       "_view_module": "@jupyter-widgets/base",
       "_view_module_version": "2.0.0",
       "_view_name": "StyleView",
       "bar_color": null,
       "description_width": ""
      }
     },
     "5ed07f9f3121418b8be4b7eb334eeee4": {
      "model_module": "@jupyter-widgets/base",
      "model_module_version": "2.0.0",
      "model_name": "LayoutModel",
      "state": {
       "_model_module": "@jupyter-widgets/base",
       "_model_module_version": "2.0.0",
       "_model_name": "LayoutModel",
       "_view_count": null,
       "_view_module": "@jupyter-widgets/base",
       "_view_module_version": "2.0.0",
       "_view_name": "LayoutView",
       "align_content": null,
       "align_items": null,
       "align_self": null,
       "border_bottom": null,
       "border_left": null,
       "border_right": null,
       "border_top": null,
       "bottom": null,
       "display": null,
       "flex": null,
       "flex_flow": null,
       "grid_area": null,
       "grid_auto_columns": null,
       "grid_auto_flow": null,
       "grid_auto_rows": null,
       "grid_column": null,
       "grid_gap": null,
       "grid_row": null,
       "grid_template_areas": null,
       "grid_template_columns": null,
       "grid_template_rows": null,
       "height": null,
       "justify_content": null,
       "justify_items": null,
       "left": null,
       "margin": null,
       "max_height": null,
       "max_width": null,
       "min_height": null,
       "min_width": null,
       "object_fit": null,
       "object_position": null,
       "order": null,
       "overflow": null,
       "padding": null,
       "right": null,
       "top": null,
       "visibility": null,
       "width": null
      }
     },
     "61189fad664e4b009c98bc0d5a25a274": {
      "model_module": "@jupyter-widgets/controls",
      "model_module_version": "2.0.0",
      "model_name": "HTMLModel",
      "state": {
       "_dom_classes": [],
       "_model_module": "@jupyter-widgets/controls",
       "_model_module_version": "2.0.0",
       "_model_name": "HTMLModel",
       "_view_count": null,
       "_view_module": "@jupyter-widgets/controls",
       "_view_module_version": "2.0.0",
       "_view_name": "HTMLView",
       "description": "",
       "description_allow_html": false,
       "layout": "IPY_MODEL_b6950650b7ca4775a860c279e2319f11",
       "placeholder": "​",
       "style": "IPY_MODEL_97f7d9d707a54e289615f389f4928efe",
       "tabbable": null,
       "tooltip": null,
       "value": " 12/12 [00:01&lt;00:00,  6.41it/s]"
      }
     },
     "6aaee8a5d0504cfa8c7ca1ee6873221a": {
      "model_module": "@jupyter-widgets/controls",
      "model_module_version": "2.0.0",
      "model_name": "HTMLStyleModel",
      "state": {
       "_model_module": "@jupyter-widgets/controls",
       "_model_module_version": "2.0.0",
       "_model_name": "HTMLStyleModel",
       "_view_count": null,
       "_view_module": "@jupyter-widgets/base",
       "_view_module_version": "2.0.0",
       "_view_name": "StyleView",
       "background": null,
       "description_width": "",
       "font_size": null,
       "text_color": null
      }
     },
     "6ab1df9f515442ee8c170d9189fcaa47": {
      "model_module": "@jupyter-widgets/controls",
      "model_module_version": "2.0.0",
      "model_name": "HTMLStyleModel",
      "state": {
       "_model_module": "@jupyter-widgets/controls",
       "_model_module_version": "2.0.0",
       "_model_name": "HTMLStyleModel",
       "_view_count": null,
       "_view_module": "@jupyter-widgets/base",
       "_view_module_version": "2.0.0",
       "_view_name": "StyleView",
       "background": null,
       "description_width": "",
       "font_size": null,
       "text_color": null
      }
     },
     "6f0b972f1aa7428b9a9f90258cf64e76": {
      "model_module": "@jupyter-widgets/controls",
      "model_module_version": "2.0.0",
      "model_name": "HBoxModel",
      "state": {
       "_dom_classes": [],
       "_model_module": "@jupyter-widgets/controls",
       "_model_module_version": "2.0.0",
       "_model_name": "HBoxModel",
       "_view_count": null,
       "_view_module": "@jupyter-widgets/controls",
       "_view_module_version": "2.0.0",
       "_view_name": "HBoxView",
       "box_style": "",
       "children": [
        "IPY_MODEL_b169c2aba3dc4f5e819fe44d8ed98075",
        "IPY_MODEL_72445597dc4347e7870a94a79f943838",
        "IPY_MODEL_c08cdc1a55744669bfc0c6d47ec75a98"
       ],
       "layout": "IPY_MODEL_50c9c0213d5949db9e95f2e0973d3577",
       "tabbable": null,
       "tooltip": null
      }
     },
     "70a84ce5e5444216acfe7d50c1e69165": {
      "model_module": "@jupyter-widgets/base",
      "model_module_version": "2.0.0",
      "model_name": "LayoutModel",
      "state": {
       "_model_module": "@jupyter-widgets/base",
       "_model_module_version": "2.0.0",
       "_model_name": "LayoutModel",
       "_view_count": null,
       "_view_module": "@jupyter-widgets/base",
       "_view_module_version": "2.0.0",
       "_view_name": "LayoutView",
       "align_content": null,
       "align_items": null,
       "align_self": null,
       "border_bottom": null,
       "border_left": null,
       "border_right": null,
       "border_top": null,
       "bottom": null,
       "display": null,
       "flex": null,
       "flex_flow": null,
       "grid_area": null,
       "grid_auto_columns": null,
       "grid_auto_flow": null,
       "grid_auto_rows": null,
       "grid_column": null,
       "grid_gap": null,
       "grid_row": null,
       "grid_template_areas": null,
       "grid_template_columns": null,
       "grid_template_rows": null,
       "height": null,
       "justify_content": null,
       "justify_items": null,
       "left": null,
       "margin": null,
       "max_height": null,
       "max_width": null,
       "min_height": null,
       "min_width": null,
       "object_fit": null,
       "object_position": null,
       "order": null,
       "overflow": null,
       "padding": null,
       "right": null,
       "top": null,
       "visibility": null,
       "width": null
      }
     },
     "70b368e9f9cd42f0bb97931041204372": {
      "model_module": "@jupyter-widgets/base",
      "model_module_version": "2.0.0",
      "model_name": "LayoutModel",
      "state": {
       "_model_module": "@jupyter-widgets/base",
       "_model_module_version": "2.0.0",
       "_model_name": "LayoutModel",
       "_view_count": null,
       "_view_module": "@jupyter-widgets/base",
       "_view_module_version": "2.0.0",
       "_view_name": "LayoutView",
       "align_content": null,
       "align_items": null,
       "align_self": null,
       "border_bottom": null,
       "border_left": null,
       "border_right": null,
       "border_top": null,
       "bottom": null,
       "display": null,
       "flex": null,
       "flex_flow": null,
       "grid_area": null,
       "grid_auto_columns": null,
       "grid_auto_flow": null,
       "grid_auto_rows": null,
       "grid_column": null,
       "grid_gap": null,
       "grid_row": null,
       "grid_template_areas": null,
       "grid_template_columns": null,
       "grid_template_rows": null,
       "height": null,
       "justify_content": null,
       "justify_items": null,
       "left": null,
       "margin": null,
       "max_height": null,
       "max_width": null,
       "min_height": null,
       "min_width": null,
       "object_fit": null,
       "object_position": null,
       "order": null,
       "overflow": null,
       "padding": null,
       "right": null,
       "top": null,
       "visibility": null,
       "width": null
      }
     },
     "71d2a50b3d4a4b9fbbbb1e08b9e0fe14": {
      "model_module": "@jupyter-widgets/base",
      "model_module_version": "2.0.0",
      "model_name": "LayoutModel",
      "state": {
       "_model_module": "@jupyter-widgets/base",
       "_model_module_version": "2.0.0",
       "_model_name": "LayoutModel",
       "_view_count": null,
       "_view_module": "@jupyter-widgets/base",
       "_view_module_version": "2.0.0",
       "_view_name": "LayoutView",
       "align_content": null,
       "align_items": null,
       "align_self": null,
       "border_bottom": null,
       "border_left": null,
       "border_right": null,
       "border_top": null,
       "bottom": null,
       "display": null,
       "flex": null,
       "flex_flow": null,
       "grid_area": null,
       "grid_auto_columns": null,
       "grid_auto_flow": null,
       "grid_auto_rows": null,
       "grid_column": null,
       "grid_gap": null,
       "grid_row": null,
       "grid_template_areas": null,
       "grid_template_columns": null,
       "grid_template_rows": null,
       "height": null,
       "justify_content": null,
       "justify_items": null,
       "left": null,
       "margin": null,
       "max_height": null,
       "max_width": null,
       "min_height": null,
       "min_width": null,
       "object_fit": null,
       "object_position": null,
       "order": null,
       "overflow": null,
       "padding": null,
       "right": null,
       "top": null,
       "visibility": null,
       "width": null
      }
     },
     "72445597dc4347e7870a94a79f943838": {
      "model_module": "@jupyter-widgets/controls",
      "model_module_version": "2.0.0",
      "model_name": "FloatProgressModel",
      "state": {
       "_dom_classes": [],
       "_model_module": "@jupyter-widgets/controls",
       "_model_module_version": "2.0.0",
       "_model_name": "FloatProgressModel",
       "_view_count": null,
       "_view_module": "@jupyter-widgets/controls",
       "_view_module_version": "2.0.0",
       "_view_name": "ProgressView",
       "bar_style": "success",
       "description": "",
       "description_allow_html": false,
       "layout": "IPY_MODEL_404a22f78a2e48c5a97fa0ea4eaf058d",
       "max": 204.0,
       "min": 0.0,
       "orientation": "horizontal",
       "style": "IPY_MODEL_90b62a946dbb4c708fccc853894080da",
       "tabbable": null,
       "tooltip": null,
       "value": 204.0
      }
     },
     "74d0053f34884b668dec6864d8978f65": {
      "model_module": "@jupyter-widgets/controls",
      "model_module_version": "2.0.0",
      "model_name": "HTMLStyleModel",
      "state": {
       "_model_module": "@jupyter-widgets/controls",
       "_model_module_version": "2.0.0",
       "_model_name": "HTMLStyleModel",
       "_view_count": null,
       "_view_module": "@jupyter-widgets/base",
       "_view_module_version": "2.0.0",
       "_view_name": "StyleView",
       "background": null,
       "description_width": "",
       "font_size": null,
       "text_color": null
      }
     },
     "7508e581dae9472d979dc3ff807d71ca": {
      "model_module": "@jupyter-widgets/controls",
      "model_module_version": "2.0.0",
      "model_name": "FloatProgressModel",
      "state": {
       "_dom_classes": [],
       "_model_module": "@jupyter-widgets/controls",
       "_model_module_version": "2.0.0",
       "_model_name": "FloatProgressModel",
       "_view_count": null,
       "_view_module": "@jupyter-widgets/controls",
       "_view_module_version": "2.0.0",
       "_view_name": "ProgressView",
       "bar_style": "success",
       "description": "",
       "description_allow_html": false,
       "layout": "IPY_MODEL_ba77422e758b4bca9479bbef7e073326",
       "max": 37045.0,
       "min": 0.0,
       "orientation": "horizontal",
       "style": "IPY_MODEL_c326705225814d0ba0149e5049f1fb79",
       "tabbable": null,
       "tooltip": null,
       "value": 37045.0
      }
     },
     "773e16b8dad54ba3b939f074dfe96f2f": {
      "model_module": "@jupyter-widgets/controls",
      "model_module_version": "2.0.0",
      "model_name": "FloatProgressModel",
      "state": {
       "_dom_classes": [],
       "_model_module": "@jupyter-widgets/controls",
       "_model_module_version": "2.0.0",
       "_model_name": "FloatProgressModel",
       "_view_count": null,
       "_view_module": "@jupyter-widgets/controls",
       "_view_module_version": "2.0.0",
       "_view_name": "ProgressView",
       "bar_style": "success",
       "description": "",
       "description_allow_html": false,
       "layout": "IPY_MODEL_fd46240262544c68971496106877fda6",
       "max": 12.0,
       "min": 0.0,
       "orientation": "horizontal",
       "style": "IPY_MODEL_7e0e1ba13c0444b9aa44958355e97ede",
       "tabbable": null,
       "tooltip": null,
       "value": 12.0
      }
     },
     "78b66a97367e4237a818d3fe51dba5aa": {
      "model_module": "@jupyter-widgets/base",
      "model_module_version": "2.0.0",
      "model_name": "LayoutModel",
      "state": {
       "_model_module": "@jupyter-widgets/base",
       "_model_module_version": "2.0.0",
       "_model_name": "LayoutModel",
       "_view_count": null,
       "_view_module": "@jupyter-widgets/base",
       "_view_module_version": "2.0.0",
       "_view_name": "LayoutView",
       "align_content": null,
       "align_items": null,
       "align_self": null,
       "border_bottom": null,
       "border_left": null,
       "border_right": null,
       "border_top": null,
       "bottom": null,
       "display": null,
       "flex": null,
       "flex_flow": null,
       "grid_area": null,
       "grid_auto_columns": null,
       "grid_auto_flow": null,
       "grid_auto_rows": null,
       "grid_column": null,
       "grid_gap": null,
       "grid_row": null,
       "grid_template_areas": null,
       "grid_template_columns": null,
       "grid_template_rows": null,
       "height": null,
       "justify_content": null,
       "justify_items": null,
       "left": null,
       "margin": null,
       "max_height": null,
       "max_width": null,
       "min_height": null,
       "min_width": null,
       "object_fit": null,
       "object_position": null,
       "order": null,
       "overflow": null,
       "padding": null,
       "right": null,
       "top": null,
       "visibility": null,
       "width": null
      }
     },
     "78c2f11a52c24675b44b2f2979f12f65": {
      "model_module": "@jupyter-widgets/controls",
      "model_module_version": "2.0.0",
      "model_name": "HBoxModel",
      "state": {
       "_dom_classes": [],
       "_model_module": "@jupyter-widgets/controls",
       "_model_module_version": "2.0.0",
       "_model_name": "HBoxModel",
       "_view_count": null,
       "_view_module": "@jupyter-widgets/controls",
       "_view_module_version": "2.0.0",
       "_view_name": "HBoxView",
       "box_style": "",
       "children": [
        "IPY_MODEL_527ed8d5389647ada44c9929cfbc8d79",
        "IPY_MODEL_529bd6c1c11f4ab18a003477d6e61913",
        "IPY_MODEL_baca549a9ce74605abc0c75b8c0df93a"
       ],
       "layout": "IPY_MODEL_5971c70bac6540e984bf650b0940712c",
       "tabbable": null,
       "tooltip": null
      }
     },
     "7d824861c59840beb3440f4837e4d61b": {
      "model_module": "@jupyter-widgets/controls",
      "model_module_version": "2.0.0",
      "model_name": "HTMLStyleModel",
      "state": {
       "_model_module": "@jupyter-widgets/controls",
       "_model_module_version": "2.0.0",
       "_model_name": "HTMLStyleModel",
       "_view_count": null,
       "_view_module": "@jupyter-widgets/base",
       "_view_module_version": "2.0.0",
       "_view_name": "StyleView",
       "background": null,
       "description_width": "",
       "font_size": null,
       "text_color": null
      }
     },
     "7e0e1ba13c0444b9aa44958355e97ede": {
      "model_module": "@jupyter-widgets/controls",
      "model_module_version": "2.0.0",
      "model_name": "ProgressStyleModel",
      "state": {
       "_model_module": "@jupyter-widgets/controls",
       "_model_module_version": "2.0.0",
       "_model_name": "ProgressStyleModel",
       "_view_count": null,
       "_view_module": "@jupyter-widgets/base",
       "_view_module_version": "2.0.0",
       "_view_name": "StyleView",
       "bar_color": null,
       "description_width": ""
      }
     },
     "815f1879b9384da29efddc93f953ae98": {
      "model_module": "@jupyter-widgets/base",
      "model_module_version": "2.0.0",
      "model_name": "LayoutModel",
      "state": {
       "_model_module": "@jupyter-widgets/base",
       "_model_module_version": "2.0.0",
       "_model_name": "LayoutModel",
       "_view_count": null,
       "_view_module": "@jupyter-widgets/base",
       "_view_module_version": "2.0.0",
       "_view_name": "LayoutView",
       "align_content": null,
       "align_items": null,
       "align_self": null,
       "border_bottom": null,
       "border_left": null,
       "border_right": null,
       "border_top": null,
       "bottom": null,
       "display": null,
       "flex": null,
       "flex_flow": null,
       "grid_area": null,
       "grid_auto_columns": null,
       "grid_auto_flow": null,
       "grid_auto_rows": null,
       "grid_column": null,
       "grid_gap": null,
       "grid_row": null,
       "grid_template_areas": null,
       "grid_template_columns": null,
       "grid_template_rows": null,
       "height": null,
       "justify_content": null,
       "justify_items": null,
       "left": null,
       "margin": null,
       "max_height": null,
       "max_width": null,
       "min_height": null,
       "min_width": null,
       "object_fit": null,
       "object_position": null,
       "order": null,
       "overflow": null,
       "padding": null,
       "right": null,
       "top": null,
       "visibility": null,
       "width": null
      }
     },
     "846bb74b93af4b28996a3cf81cd9d1c0": {
      "model_module": "@jupyter-widgets/base",
      "model_module_version": "2.0.0",
      "model_name": "LayoutModel",
      "state": {
       "_model_module": "@jupyter-widgets/base",
       "_model_module_version": "2.0.0",
       "_model_name": "LayoutModel",
       "_view_count": null,
       "_view_module": "@jupyter-widgets/base",
       "_view_module_version": "2.0.0",
       "_view_name": "LayoutView",
       "align_content": null,
       "align_items": null,
       "align_self": null,
       "border_bottom": null,
       "border_left": null,
       "border_right": null,
       "border_top": null,
       "bottom": null,
       "display": null,
       "flex": null,
       "flex_flow": null,
       "grid_area": null,
       "grid_auto_columns": null,
       "grid_auto_flow": null,
       "grid_auto_rows": null,
       "grid_column": null,
       "grid_gap": null,
       "grid_row": null,
       "grid_template_areas": null,
       "grid_template_columns": null,
       "grid_template_rows": null,
       "height": null,
       "justify_content": null,
       "justify_items": null,
       "left": null,
       "margin": null,
       "max_height": null,
       "max_width": null,
       "min_height": null,
       "min_width": null,
       "object_fit": null,
       "object_position": null,
       "order": null,
       "overflow": null,
       "padding": null,
       "right": null,
       "top": null,
       "visibility": null,
       "width": null
      }
     },
     "8716d1fd1cef49f6b3b91e6674ddb110": {
      "model_module": "@jupyter-widgets/controls",
      "model_module_version": "2.0.0",
      "model_name": "HBoxModel",
      "state": {
       "_dom_classes": [],
       "_model_module": "@jupyter-widgets/controls",
       "_model_module_version": "2.0.0",
       "_model_name": "HBoxModel",
       "_view_count": null,
       "_view_module": "@jupyter-widgets/controls",
       "_view_module_version": "2.0.0",
       "_view_name": "HBoxView",
       "box_style": "",
       "children": [
        "IPY_MODEL_2a6be814e4c34ed08b0cf661f84569db",
        "IPY_MODEL_773e16b8dad54ba3b939f074dfe96f2f",
        "IPY_MODEL_34e394f7f9524f909f68131d10808b1c"
       ],
       "layout": "IPY_MODEL_1b3f4c76cea84bdfb70d1786dca06bd0",
       "tabbable": null,
       "tooltip": null
      }
     },
     "872a0c3d115a443195e997456d6c2aae": {
      "model_module": "@jupyter-widgets/base",
      "model_module_version": "2.0.0",
      "model_name": "LayoutModel",
      "state": {
       "_model_module": "@jupyter-widgets/base",
       "_model_module_version": "2.0.0",
       "_model_name": "LayoutModel",
       "_view_count": null,
       "_view_module": "@jupyter-widgets/base",
       "_view_module_version": "2.0.0",
       "_view_name": "LayoutView",
       "align_content": null,
       "align_items": null,
       "align_self": null,
       "border_bottom": null,
       "border_left": null,
       "border_right": null,
       "border_top": null,
       "bottom": null,
       "display": null,
       "flex": null,
       "flex_flow": null,
       "grid_area": null,
       "grid_auto_columns": null,
       "grid_auto_flow": null,
       "grid_auto_rows": null,
       "grid_column": null,
       "grid_gap": null,
       "grid_row": null,
       "grid_template_areas": null,
       "grid_template_columns": null,
       "grid_template_rows": null,
       "height": null,
       "justify_content": null,
       "justify_items": null,
       "left": null,
       "margin": null,
       "max_height": null,
       "max_width": null,
       "min_height": null,
       "min_width": null,
       "object_fit": null,
       "object_position": null,
       "order": null,
       "overflow": null,
       "padding": null,
       "right": null,
       "top": null,
       "visibility": null,
       "width": null
      }
     },
     "8c5a1b84823a49f09b04fea2bdfaf436": {
      "model_module": "@jupyter-widgets/controls",
      "model_module_version": "2.0.0",
      "model_name": "HTMLModel",
      "state": {
       "_dom_classes": [],
       "_model_module": "@jupyter-widgets/controls",
       "_model_module_version": "2.0.0",
       "_model_name": "HTMLModel",
       "_view_count": null,
       "_view_module": "@jupyter-widgets/controls",
       "_view_module_version": "2.0.0",
       "_view_name": "HTMLView",
       "description": "",
       "description_allow_html": false,
       "layout": "IPY_MODEL_70b368e9f9cd42f0bb97931041204372",
       "placeholder": "​",
       "style": "IPY_MODEL_cb1e14fecffd4fb09b9631dd48258181",
       "tabbable": null,
       "tooltip": null,
       "value": " 12/12 [00:02&lt;00:00,  3.91it/s]"
      }
     },
     "90b62a946dbb4c708fccc853894080da": {
      "model_module": "@jupyter-widgets/controls",
      "model_module_version": "2.0.0",
      "model_name": "ProgressStyleModel",
      "state": {
       "_model_module": "@jupyter-widgets/controls",
       "_model_module_version": "2.0.0",
       "_model_name": "ProgressStyleModel",
       "_view_count": null,
       "_view_module": "@jupyter-widgets/base",
       "_view_module_version": "2.0.0",
       "_view_name": "StyleView",
       "bar_color": null,
       "description_width": ""
      }
     },
     "921f2666f2204edeb3cb70b1f8b10f7a": {
      "model_module": "@jupyter-widgets/controls",
      "model_module_version": "2.0.0",
      "model_name": "HBoxModel",
      "state": {
       "_dom_classes": [],
       "_model_module": "@jupyter-widgets/controls",
       "_model_module_version": "2.0.0",
       "_model_name": "HBoxModel",
       "_view_count": null,
       "_view_module": "@jupyter-widgets/controls",
       "_view_module_version": "2.0.0",
       "_view_name": "HBoxView",
       "box_style": "",
       "children": [
        "IPY_MODEL_c1a397e5517f4c89ab7af5fbc9a43f2c",
        "IPY_MODEL_7508e581dae9472d979dc3ff807d71ca",
        "IPY_MODEL_ba42becbcdb34a62936f05ea47926dbe"
       ],
       "layout": "IPY_MODEL_3699508bc6804e17b7a1e8a7045e73cc",
       "tabbable": null,
       "tooltip": null
      }
     },
     "943d7754342945558e99b609f59f0529": {
      "model_module": "@jupyter-widgets/base",
      "model_module_version": "2.0.0",
      "model_name": "LayoutModel",
      "state": {
       "_model_module": "@jupyter-widgets/base",
       "_model_module_version": "2.0.0",
       "_model_name": "LayoutModel",
       "_view_count": null,
       "_view_module": "@jupyter-widgets/base",
       "_view_module_version": "2.0.0",
       "_view_name": "LayoutView",
       "align_content": null,
       "align_items": null,
       "align_self": null,
       "border_bottom": null,
       "border_left": null,
       "border_right": null,
       "border_top": null,
       "bottom": null,
       "display": null,
       "flex": null,
       "flex_flow": null,
       "grid_area": null,
       "grid_auto_columns": null,
       "grid_auto_flow": null,
       "grid_auto_rows": null,
       "grid_column": null,
       "grid_gap": null,
       "grid_row": null,
       "grid_template_areas": null,
       "grid_template_columns": null,
       "grid_template_rows": null,
       "height": null,
       "justify_content": null,
       "justify_items": null,
       "left": null,
       "margin": null,
       "max_height": null,
       "max_width": null,
       "min_height": null,
       "min_width": null,
       "object_fit": null,
       "object_position": null,
       "order": null,
       "overflow": null,
       "padding": null,
       "right": null,
       "top": null,
       "visibility": null,
       "width": null
      }
     },
     "97f7d9d707a54e289615f389f4928efe": {
      "model_module": "@jupyter-widgets/controls",
      "model_module_version": "2.0.0",
      "model_name": "HTMLStyleModel",
      "state": {
       "_model_module": "@jupyter-widgets/controls",
       "_model_module_version": "2.0.0",
       "_model_name": "HTMLStyleModel",
       "_view_count": null,
       "_view_module": "@jupyter-widgets/base",
       "_view_module_version": "2.0.0",
       "_view_name": "StyleView",
       "background": null,
       "description_width": "",
       "font_size": null,
       "text_color": null
      }
     },
     "9b52b11add22403d9b30101450c3bed6": {
      "model_module": "@jupyter-widgets/controls",
      "model_module_version": "2.0.0",
      "model_name": "HTMLModel",
      "state": {
       "_dom_classes": [],
       "_model_module": "@jupyter-widgets/controls",
       "_model_module_version": "2.0.0",
       "_model_name": "HTMLModel",
       "_view_count": null,
       "_view_module": "@jupyter-widgets/controls",
       "_view_module_version": "2.0.0",
       "_view_name": "HTMLView",
       "description": "",
       "description_allow_html": false,
       "layout": "IPY_MODEL_5ed07f9f3121418b8be4b7eb334eeee4",
       "placeholder": "​",
       "style": "IPY_MODEL_20c0b4eaecb54feeb1f9bab96436a34d",
       "tabbable": null,
       "tooltip": null,
       "value": "100%"
      }
     },
     "9fe27a2fb2a24dbaa142eb429e41182b": {
      "model_module": "@jupyter-widgets/base",
      "model_module_version": "2.0.0",
      "model_name": "LayoutModel",
      "state": {
       "_model_module": "@jupyter-widgets/base",
       "_model_module_version": "2.0.0",
       "_model_name": "LayoutModel",
       "_view_count": null,
       "_view_module": "@jupyter-widgets/base",
       "_view_module_version": "2.0.0",
       "_view_name": "LayoutView",
       "align_content": null,
       "align_items": null,
       "align_self": null,
       "border_bottom": null,
       "border_left": null,
       "border_right": null,
       "border_top": null,
       "bottom": null,
       "display": null,
       "flex": null,
       "flex_flow": null,
       "grid_area": null,
       "grid_auto_columns": null,
       "grid_auto_flow": null,
       "grid_auto_rows": null,
       "grid_column": null,
       "grid_gap": null,
       "grid_row": null,
       "grid_template_areas": null,
       "grid_template_columns": null,
       "grid_template_rows": null,
       "height": null,
       "justify_content": null,
       "justify_items": null,
       "left": null,
       "margin": null,
       "max_height": null,
       "max_width": null,
       "min_height": null,
       "min_width": null,
       "object_fit": null,
       "object_position": null,
       "order": null,
       "overflow": null,
       "padding": null,
       "right": null,
       "top": null,
       "visibility": null,
       "width": null
      }
     },
     "a1674bc259d0418f90556cc6404d114f": {
      "model_module": "@jupyter-widgets/controls",
      "model_module_version": "2.0.0",
      "model_name": "FloatProgressModel",
      "state": {
       "_dom_classes": [],
       "_model_module": "@jupyter-widgets/controls",
       "_model_module_version": "2.0.0",
       "_model_name": "FloatProgressModel",
       "_view_count": null,
       "_view_module": "@jupyter-widgets/controls",
       "_view_module_version": "2.0.0",
       "_view_name": "ProgressView",
       "bar_style": "success",
       "description": "",
       "description_allow_html": false,
       "layout": "IPY_MODEL_bf471069af324834819de41c07a013f3",
       "max": 204.0,
       "min": 0.0,
       "orientation": "horizontal",
       "style": "IPY_MODEL_424bdaa89e6a4089b0f83f8bdd67178b",
       "tabbable": null,
       "tooltip": null,
       "value": 204.0
      }
     },
     "a604d6ffff7c499cbc2b34757552f4d4": {
      "model_module": "@jupyter-widgets/controls",
      "model_module_version": "2.0.0",
      "model_name": "HTMLModel",
      "state": {
       "_dom_classes": [],
       "_model_module": "@jupyter-widgets/controls",
       "_model_module_version": "2.0.0",
       "_model_name": "HTMLModel",
       "_view_count": null,
       "_view_module": "@jupyter-widgets/controls",
       "_view_module_version": "2.0.0",
       "_view_name": "HTMLView",
       "description": "",
       "description_allow_html": false,
       "layout": "IPY_MODEL_70a84ce5e5444216acfe7d50c1e69165",
       "placeholder": "​",
       "style": "IPY_MODEL_2768dd8bb99f43c2927b518449be3e15",
       "tabbable": null,
       "tooltip": null,
       "value": "100%"
      }
     },
     "acef4b93ed38492c8550cb2152394b74": {
      "model_module": "@jupyter-widgets/controls",
      "model_module_version": "2.0.0",
      "model_name": "HTMLModel",
      "state": {
       "_dom_classes": [],
       "_model_module": "@jupyter-widgets/controls",
       "_model_module_version": "2.0.0",
       "_model_name": "HTMLModel",
       "_view_count": null,
       "_view_module": "@jupyter-widgets/controls",
       "_view_module_version": "2.0.0",
       "_view_name": "HTMLView",
       "description": "",
       "description_allow_html": false,
       "layout": "IPY_MODEL_943d7754342945558e99b609f59f0529",
       "placeholder": "​",
       "style": "IPY_MODEL_74d0053f34884b668dec6864d8978f65",
       "tabbable": null,
       "tooltip": null,
       "value": "100%"
      }
     },
     "b169c2aba3dc4f5e819fe44d8ed98075": {
      "model_module": "@jupyter-widgets/controls",
      "model_module_version": "2.0.0",
      "model_name": "HTMLModel",
      "state": {
       "_dom_classes": [],
       "_model_module": "@jupyter-widgets/controls",
       "_model_module_version": "2.0.0",
       "_model_name": "HTMLModel",
       "_view_count": null,
       "_view_module": "@jupyter-widgets/controls",
       "_view_module_version": "2.0.0",
       "_view_name": "HTMLView",
       "description": "",
       "description_allow_html": false,
       "layout": "IPY_MODEL_78b66a97367e4237a818d3fe51dba5aa",
       "placeholder": "​",
       "style": "IPY_MODEL_56df7baa9289493a853fa9bc5781590f",
       "tabbable": null,
       "tooltip": null,
       "value": "100%"
      }
     },
     "b679add6dc7648debbd79a89d80f6d58": {
      "model_module": "@jupyter-widgets/controls",
      "model_module_version": "2.0.0",
      "model_name": "HTMLStyleModel",
      "state": {
       "_model_module": "@jupyter-widgets/controls",
       "_model_module_version": "2.0.0",
       "_model_name": "HTMLStyleModel",
       "_view_count": null,
       "_view_module": "@jupyter-widgets/base",
       "_view_module_version": "2.0.0",
       "_view_name": "StyleView",
       "background": null,
       "description_width": "",
       "font_size": null,
       "text_color": null
      }
     },
     "b6950650b7ca4775a860c279e2319f11": {
      "model_module": "@jupyter-widgets/base",
      "model_module_version": "2.0.0",
      "model_name": "LayoutModel",
      "state": {
       "_model_module": "@jupyter-widgets/base",
       "_model_module_version": "2.0.0",
       "_model_name": "LayoutModel",
       "_view_count": null,
       "_view_module": "@jupyter-widgets/base",
       "_view_module_version": "2.0.0",
       "_view_name": "LayoutView",
       "align_content": null,
       "align_items": null,
       "align_self": null,
       "border_bottom": null,
       "border_left": null,
       "border_right": null,
       "border_top": null,
       "bottom": null,
       "display": null,
       "flex": null,
       "flex_flow": null,
       "grid_area": null,
       "grid_auto_columns": null,
       "grid_auto_flow": null,
       "grid_auto_rows": null,
       "grid_column": null,
       "grid_gap": null,
       "grid_row": null,
       "grid_template_areas": null,
       "grid_template_columns": null,
       "grid_template_rows": null,
       "height": null,
       "justify_content": null,
       "justify_items": null,
       "left": null,
       "margin": null,
       "max_height": null,
       "max_width": null,
       "min_height": null,
       "min_width": null,
       "object_fit": null,
       "object_position": null,
       "order": null,
       "overflow": null,
       "padding": null,
       "right": null,
       "top": null,
       "visibility": null,
       "width": null
      }
     },
     "b9f254d5d4394205aea817a8c6e0e16c": {
      "model_module": "@jupyter-widgets/controls",
      "model_module_version": "2.0.0",
      "model_name": "FloatProgressModel",
      "state": {
       "_dom_classes": [],
       "_model_module": "@jupyter-widgets/controls",
       "_model_module_version": "2.0.0",
       "_model_name": "FloatProgressModel",
       "_view_count": null,
       "_view_module": "@jupyter-widgets/controls",
       "_view_module_version": "2.0.0",
       "_view_name": "ProgressView",
       "bar_style": "success",
       "description": "",
       "description_allow_html": false,
       "layout": "IPY_MODEL_815f1879b9384da29efddc93f953ae98",
       "max": 204.0,
       "min": 0.0,
       "orientation": "horizontal",
       "style": "IPY_MODEL_53f162e4e8304ceb9e069fd6f023e7bc",
       "tabbable": null,
       "tooltip": null,
       "value": 204.0
      }
     },
     "ba42becbcdb34a62936f05ea47926dbe": {
      "model_module": "@jupyter-widgets/controls",
      "model_module_version": "2.0.0",
      "model_name": "HTMLModel",
      "state": {
       "_dom_classes": [],
       "_model_module": "@jupyter-widgets/controls",
       "_model_module_version": "2.0.0",
       "_model_name": "HTMLModel",
       "_view_count": null,
       "_view_module": "@jupyter-widgets/controls",
       "_view_module_version": "2.0.0",
       "_view_name": "HTMLView",
       "description": "",
       "description_allow_html": false,
       "layout": "IPY_MODEL_3d2088188d3c4e56b18b695f45812140",
       "placeholder": "​",
       "style": "IPY_MODEL_c911efc5b8bd4a168bd42749a8a7b748",
       "tabbable": null,
       "tooltip": null,
       "value": " 37045/37045 [03:03&lt;00:00, 203.02it/s]"
      }
     },
     "ba77422e758b4bca9479bbef7e073326": {
      "model_module": "@jupyter-widgets/base",
      "model_module_version": "2.0.0",
      "model_name": "LayoutModel",
      "state": {
       "_model_module": "@jupyter-widgets/base",
       "_model_module_version": "2.0.0",
       "_model_name": "LayoutModel",
       "_view_count": null,
       "_view_module": "@jupyter-widgets/base",
       "_view_module_version": "2.0.0",
       "_view_name": "LayoutView",
       "align_content": null,
       "align_items": null,
       "align_self": null,
       "border_bottom": null,
       "border_left": null,
       "border_right": null,
       "border_top": null,
       "bottom": null,
       "display": null,
       "flex": null,
       "flex_flow": null,
       "grid_area": null,
       "grid_auto_columns": null,
       "grid_auto_flow": null,
       "grid_auto_rows": null,
       "grid_column": null,
       "grid_gap": null,
       "grid_row": null,
       "grid_template_areas": null,
       "grid_template_columns": null,
       "grid_template_rows": null,
       "height": null,
       "justify_content": null,
       "justify_items": null,
       "left": null,
       "margin": null,
       "max_height": null,
       "max_width": null,
       "min_height": null,
       "min_width": null,
       "object_fit": null,
       "object_position": null,
       "order": null,
       "overflow": null,
       "padding": null,
       "right": null,
       "top": null,
       "visibility": null,
       "width": null
      }
     },
     "baca549a9ce74605abc0c75b8c0df93a": {
      "model_module": "@jupyter-widgets/controls",
      "model_module_version": "2.0.0",
      "model_name": "HTMLModel",
      "state": {
       "_dom_classes": [],
       "_model_module": "@jupyter-widgets/controls",
       "_model_module_version": "2.0.0",
       "_model_name": "HTMLModel",
       "_view_count": null,
       "_view_module": "@jupyter-widgets/controls",
       "_view_module_version": "2.0.0",
       "_view_name": "HTMLView",
       "description": "",
       "description_allow_html": false,
       "layout": "IPY_MODEL_c642b997b7094ad0990e1535053c2a0e",
       "placeholder": "​",
       "style": "IPY_MODEL_7d824861c59840beb3440f4837e4d61b",
       "tabbable": null,
       "tooltip": null,
       "value": " 113856/113856 [01:34&lt;00:00, 1259.40it/s]"
      }
     },
     "bf471069af324834819de41c07a013f3": {
      "model_module": "@jupyter-widgets/base",
      "model_module_version": "2.0.0",
      "model_name": "LayoutModel",
      "state": {
       "_model_module": "@jupyter-widgets/base",
       "_model_module_version": "2.0.0",
       "_model_name": "LayoutModel",
       "_view_count": null,
       "_view_module": "@jupyter-widgets/base",
       "_view_module_version": "2.0.0",
       "_view_name": "LayoutView",
       "align_content": null,
       "align_items": null,
       "align_self": null,
       "border_bottom": null,
       "border_left": null,
       "border_right": null,
       "border_top": null,
       "bottom": null,
       "display": null,
       "flex": null,
       "flex_flow": null,
       "grid_area": null,
       "grid_auto_columns": null,
       "grid_auto_flow": null,
       "grid_auto_rows": null,
       "grid_column": null,
       "grid_gap": null,
       "grid_row": null,
       "grid_template_areas": null,
       "grid_template_columns": null,
       "grid_template_rows": null,
       "height": null,
       "justify_content": null,
       "justify_items": null,
       "left": null,
       "margin": null,
       "max_height": null,
       "max_width": null,
       "min_height": null,
       "min_width": null,
       "object_fit": null,
       "object_position": null,
       "order": null,
       "overflow": null,
       "padding": null,
       "right": null,
       "top": null,
       "visibility": null,
       "width": null
      }
     },
     "c08cdc1a55744669bfc0c6d47ec75a98": {
      "model_module": "@jupyter-widgets/controls",
      "model_module_version": "2.0.0",
      "model_name": "HTMLModel",
      "state": {
       "_dom_classes": [],
       "_model_module": "@jupyter-widgets/controls",
       "_model_module_version": "2.0.0",
       "_model_name": "HTMLModel",
       "_view_count": null,
       "_view_module": "@jupyter-widgets/controls",
       "_view_module_version": "2.0.0",
       "_view_name": "HTMLView",
       "description": "",
       "description_allow_html": false,
       "layout": "IPY_MODEL_f6c327d767994c708ea3a48cb6e5f22d",
       "placeholder": "​",
       "style": "IPY_MODEL_e34302162dfb4318b13031df348c791a",
       "tabbable": null,
       "tooltip": null,
       "value": " 204/204 [00:26&lt;00:00,  3.99it/s]"
      }
     },
     "c1a397e5517f4c89ab7af5fbc9a43f2c": {
      "model_module": "@jupyter-widgets/controls",
      "model_module_version": "2.0.0",
      "model_name": "HTMLModel",
      "state": {
       "_dom_classes": [],
       "_model_module": "@jupyter-widgets/controls",
       "_model_module_version": "2.0.0",
       "_model_name": "HTMLModel",
       "_view_count": null,
       "_view_module": "@jupyter-widgets/controls",
       "_view_module_version": "2.0.0",
       "_view_name": "HTMLView",
       "description": "",
       "description_allow_html": false,
       "layout": "IPY_MODEL_395204676dcb4c809097994b025815e7",
       "placeholder": "​",
       "style": "IPY_MODEL_6ab1df9f515442ee8c170d9189fcaa47",
       "tabbable": null,
       "tooltip": null,
       "value": "100%"
      }
     },
     "c326705225814d0ba0149e5049f1fb79": {
      "model_module": "@jupyter-widgets/controls",
      "model_module_version": "2.0.0",
      "model_name": "ProgressStyleModel",
      "state": {
       "_model_module": "@jupyter-widgets/controls",
       "_model_module_version": "2.0.0",
       "_model_name": "ProgressStyleModel",
       "_view_count": null,
       "_view_module": "@jupyter-widgets/base",
       "_view_module_version": "2.0.0",
       "_view_name": "StyleView",
       "bar_color": null,
       "description_width": ""
      }
     },
     "c642b997b7094ad0990e1535053c2a0e": {
      "model_module": "@jupyter-widgets/base",
      "model_module_version": "2.0.0",
      "model_name": "LayoutModel",
      "state": {
       "_model_module": "@jupyter-widgets/base",
       "_model_module_version": "2.0.0",
       "_model_name": "LayoutModel",
       "_view_count": null,
       "_view_module": "@jupyter-widgets/base",
       "_view_module_version": "2.0.0",
       "_view_name": "LayoutView",
       "align_content": null,
       "align_items": null,
       "align_self": null,
       "border_bottom": null,
       "border_left": null,
       "border_right": null,
       "border_top": null,
       "bottom": null,
       "display": null,
       "flex": null,
       "flex_flow": null,
       "grid_area": null,
       "grid_auto_columns": null,
       "grid_auto_flow": null,
       "grid_auto_rows": null,
       "grid_column": null,
       "grid_gap": null,
       "grid_row": null,
       "grid_template_areas": null,
       "grid_template_columns": null,
       "grid_template_rows": null,
       "height": null,
       "justify_content": null,
       "justify_items": null,
       "left": null,
       "margin": null,
       "max_height": null,
       "max_width": null,
       "min_height": null,
       "min_width": null,
       "object_fit": null,
       "object_position": null,
       "order": null,
       "overflow": null,
       "padding": null,
       "right": null,
       "top": null,
       "visibility": null,
       "width": null
      }
     },
     "c911efc5b8bd4a168bd42749a8a7b748": {
      "model_module": "@jupyter-widgets/controls",
      "model_module_version": "2.0.0",
      "model_name": "HTMLStyleModel",
      "state": {
       "_model_module": "@jupyter-widgets/controls",
       "_model_module_version": "2.0.0",
       "_model_name": "HTMLStyleModel",
       "_view_count": null,
       "_view_module": "@jupyter-widgets/base",
       "_view_module_version": "2.0.0",
       "_view_name": "StyleView",
       "background": null,
       "description_width": "",
       "font_size": null,
       "text_color": null
      }
     },
     "cb1e14fecffd4fb09b9631dd48258181": {
      "model_module": "@jupyter-widgets/controls",
      "model_module_version": "2.0.0",
      "model_name": "HTMLStyleModel",
      "state": {
       "_model_module": "@jupyter-widgets/controls",
       "_model_module_version": "2.0.0",
       "_model_name": "HTMLStyleModel",
       "_view_count": null,
       "_view_module": "@jupyter-widgets/base",
       "_view_module_version": "2.0.0",
       "_view_name": "StyleView",
       "background": null,
       "description_width": "",
       "font_size": null,
       "text_color": null
      }
     },
     "cd5e0b1e279a4d758d1ce4df73fbe573": {
      "model_module": "@jupyter-widgets/controls",
      "model_module_version": "2.0.0",
      "model_name": "HTMLStyleModel",
      "state": {
       "_model_module": "@jupyter-widgets/controls",
       "_model_module_version": "2.0.0",
       "_model_name": "HTMLStyleModel",
       "_view_count": null,
       "_view_module": "@jupyter-widgets/base",
       "_view_module_version": "2.0.0",
       "_view_name": "StyleView",
       "background": null,
       "description_width": "",
       "font_size": null,
       "text_color": null
      }
     },
     "d671e9d0cef04f519790d68970f90f67": {
      "model_module": "@jupyter-widgets/controls",
      "model_module_version": "2.0.0",
      "model_name": "HBoxModel",
      "state": {
       "_dom_classes": [],
       "_model_module": "@jupyter-widgets/controls",
       "_model_module_version": "2.0.0",
       "_model_name": "HBoxModel",
       "_view_count": null,
       "_view_module": "@jupyter-widgets/controls",
       "_view_module_version": "2.0.0",
       "_view_name": "HBoxView",
       "box_style": "",
       "children": [
        "IPY_MODEL_9b52b11add22403d9b30101450c3bed6",
        "IPY_MODEL_f0f0775155ec4961925be4abc81fc9b7",
        "IPY_MODEL_61189fad664e4b009c98bc0d5a25a274"
       ],
       "layout": "IPY_MODEL_062aa8d91f3c4658bf6d2147f94c3efb",
       "tabbable": null,
       "tooltip": null
      }
     },
     "e19bf52f887d48199ff6128da40701ec": {
      "model_module": "@jupyter-widgets/base",
      "model_module_version": "2.0.0",
      "model_name": "LayoutModel",
      "state": {
       "_model_module": "@jupyter-widgets/base",
       "_model_module_version": "2.0.0",
       "_model_name": "LayoutModel",
       "_view_count": null,
       "_view_module": "@jupyter-widgets/base",
       "_view_module_version": "2.0.0",
       "_view_name": "LayoutView",
       "align_content": null,
       "align_items": null,
       "align_self": null,
       "border_bottom": null,
       "border_left": null,
       "border_right": null,
       "border_top": null,
       "bottom": null,
       "display": null,
       "flex": null,
       "flex_flow": null,
       "grid_area": null,
       "grid_auto_columns": null,
       "grid_auto_flow": null,
       "grid_auto_rows": null,
       "grid_column": null,
       "grid_gap": null,
       "grid_row": null,
       "grid_template_areas": null,
       "grid_template_columns": null,
       "grid_template_rows": null,
       "height": null,
       "justify_content": null,
       "justify_items": null,
       "left": null,
       "margin": null,
       "max_height": null,
       "max_width": null,
       "min_height": null,
       "min_width": null,
       "object_fit": null,
       "object_position": null,
       "order": null,
       "overflow": null,
       "padding": null,
       "right": null,
       "top": null,
       "visibility": null,
       "width": null
      }
     },
     "e34302162dfb4318b13031df348c791a": {
      "model_module": "@jupyter-widgets/controls",
      "model_module_version": "2.0.0",
      "model_name": "HTMLStyleModel",
      "state": {
       "_model_module": "@jupyter-widgets/controls",
       "_model_module_version": "2.0.0",
       "_model_name": "HTMLStyleModel",
       "_view_count": null,
       "_view_module": "@jupyter-widgets/base",
       "_view_module_version": "2.0.0",
       "_view_name": "StyleView",
       "background": null,
       "description_width": "",
       "font_size": null,
       "text_color": null
      }
     },
     "e87b3f88c44445c182e5a589ff08fbed": {
      "model_module": "@jupyter-widgets/controls",
      "model_module_version": "2.0.0",
      "model_name": "HTMLModel",
      "state": {
       "_dom_classes": [],
       "_model_module": "@jupyter-widgets/controls",
       "_model_module_version": "2.0.0",
       "_model_name": "HTMLModel",
       "_view_count": null,
       "_view_module": "@jupyter-widgets/controls",
       "_view_module_version": "2.0.0",
       "_view_name": "HTMLView",
       "description": "",
       "description_allow_html": false,
       "layout": "IPY_MODEL_3d26585310ad4e218a851fb82c962c93",
       "placeholder": "​",
       "style": "IPY_MODEL_b679add6dc7648debbd79a89d80f6d58",
       "tabbable": null,
       "tooltip": null,
       "value": " 204/204 [00:24&lt;00:00,  4.48it/s]"
      }
     },
     "e8e4b14d827e4c1da60da1323e21ca84": {
      "model_module": "@jupyter-widgets/base",
      "model_module_version": "2.0.0",
      "model_name": "LayoutModel",
      "state": {
       "_model_module": "@jupyter-widgets/base",
       "_model_module_version": "2.0.0",
       "_model_name": "LayoutModel",
       "_view_count": null,
       "_view_module": "@jupyter-widgets/base",
       "_view_module_version": "2.0.0",
       "_view_name": "LayoutView",
       "align_content": null,
       "align_items": null,
       "align_self": null,
       "border_bottom": null,
       "border_left": null,
       "border_right": null,
       "border_top": null,
       "bottom": null,
       "display": null,
       "flex": null,
       "flex_flow": null,
       "grid_area": null,
       "grid_auto_columns": null,
       "grid_auto_flow": null,
       "grid_auto_rows": null,
       "grid_column": null,
       "grid_gap": null,
       "grid_row": null,
       "grid_template_areas": null,
       "grid_template_columns": null,
       "grid_template_rows": null,
       "height": null,
       "justify_content": null,
       "justify_items": null,
       "left": null,
       "margin": null,
       "max_height": null,
       "max_width": null,
       "min_height": null,
       "min_width": null,
       "object_fit": null,
       "object_position": null,
       "order": null,
       "overflow": null,
       "padding": null,
       "right": null,
       "top": null,
       "visibility": null,
       "width": null
      }
     },
     "e999f4175aa4472a8460f3a0e373252b": {
      "model_module": "@jupyter-widgets/controls",
      "model_module_version": "2.0.0",
      "model_name": "HTMLStyleModel",
      "state": {
       "_model_module": "@jupyter-widgets/controls",
       "_model_module_version": "2.0.0",
       "_model_name": "HTMLStyleModel",
       "_view_count": null,
       "_view_module": "@jupyter-widgets/base",
       "_view_module_version": "2.0.0",
       "_view_name": "StyleView",
       "background": null,
       "description_width": "",
       "font_size": null,
       "text_color": null
      }
     },
     "ec8e22630daf4a97a1ec69d35b98cf43": {
      "model_module": "@jupyter-widgets/base",
      "model_module_version": "2.0.0",
      "model_name": "LayoutModel",
      "state": {
       "_model_module": "@jupyter-widgets/base",
       "_model_module_version": "2.0.0",
       "_model_name": "LayoutModel",
       "_view_count": null,
       "_view_module": "@jupyter-widgets/base",
       "_view_module_version": "2.0.0",
       "_view_name": "LayoutView",
       "align_content": null,
       "align_items": null,
       "align_self": null,
       "border_bottom": null,
       "border_left": null,
       "border_right": null,
       "border_top": null,
       "bottom": null,
       "display": null,
       "flex": null,
       "flex_flow": null,
       "grid_area": null,
       "grid_auto_columns": null,
       "grid_auto_flow": null,
       "grid_auto_rows": null,
       "grid_column": null,
       "grid_gap": null,
       "grid_row": null,
       "grid_template_areas": null,
       "grid_template_columns": null,
       "grid_template_rows": null,
       "height": null,
       "justify_content": null,
       "justify_items": null,
       "left": null,
       "margin": null,
       "max_height": null,
       "max_width": null,
       "min_height": null,
       "min_width": null,
       "object_fit": null,
       "object_position": null,
       "order": null,
       "overflow": null,
       "padding": null,
       "right": null,
       "top": null,
       "visibility": null,
       "width": null
      }
     },
     "ef4fc848194843b38b0004eb65e93826": {
      "model_module": "@jupyter-widgets/base",
      "model_module_version": "2.0.0",
      "model_name": "LayoutModel",
      "state": {
       "_model_module": "@jupyter-widgets/base",
       "_model_module_version": "2.0.0",
       "_model_name": "LayoutModel",
       "_view_count": null,
       "_view_module": "@jupyter-widgets/base",
       "_view_module_version": "2.0.0",
       "_view_name": "LayoutView",
       "align_content": null,
       "align_items": null,
       "align_self": null,
       "border_bottom": null,
       "border_left": null,
       "border_right": null,
       "border_top": null,
       "bottom": null,
       "display": null,
       "flex": null,
       "flex_flow": null,
       "grid_area": null,
       "grid_auto_columns": null,
       "grid_auto_flow": null,
       "grid_auto_rows": null,
       "grid_column": null,
       "grid_gap": null,
       "grid_row": null,
       "grid_template_areas": null,
       "grid_template_columns": null,
       "grid_template_rows": null,
       "height": null,
       "justify_content": null,
       "justify_items": null,
       "left": null,
       "margin": null,
       "max_height": null,
       "max_width": null,
       "min_height": null,
       "min_width": null,
       "object_fit": null,
       "object_position": null,
       "order": null,
       "overflow": null,
       "padding": null,
       "right": null,
       "top": null,
       "visibility": null,
       "width": null
      }
     },
     "f0f0775155ec4961925be4abc81fc9b7": {
      "model_module": "@jupyter-widgets/controls",
      "model_module_version": "2.0.0",
      "model_name": "FloatProgressModel",
      "state": {
       "_dom_classes": [],
       "_model_module": "@jupyter-widgets/controls",
       "_model_module_version": "2.0.0",
       "_model_name": "FloatProgressModel",
       "_view_count": null,
       "_view_module": "@jupyter-widgets/controls",
       "_view_module_version": "2.0.0",
       "_view_name": "ProgressView",
       "bar_style": "success",
       "description": "",
       "description_allow_html": false,
       "layout": "IPY_MODEL_ef4fc848194843b38b0004eb65e93826",
       "max": 12.0,
       "min": 0.0,
       "orientation": "horizontal",
       "style": "IPY_MODEL_0a5a450069094aa799bbbd850b528358",
       "tabbable": null,
       "tooltip": null,
       "value": 12.0
      }
     },
     "f4ecbe6bdd724b748ee9f9b4bc6c74a6": {
      "model_module": "@jupyter-widgets/controls",
      "model_module_version": "2.0.0",
      "model_name": "HTMLModel",
      "state": {
       "_dom_classes": [],
       "_model_module": "@jupyter-widgets/controls",
       "_model_module_version": "2.0.0",
       "_model_name": "HTMLModel",
       "_view_count": null,
       "_view_module": "@jupyter-widgets/controls",
       "_view_module_version": "2.0.0",
       "_view_name": "HTMLView",
       "description": "",
       "description_allow_html": false,
       "layout": "IPY_MODEL_ec8e22630daf4a97a1ec69d35b98cf43",
       "placeholder": "​",
       "style": "IPY_MODEL_6aaee8a5d0504cfa8c7ca1ee6873221a",
       "tabbable": null,
       "tooltip": null,
       "value": " 204/204 [00:24&lt;00:00,  4.16it/s]"
      }
     },
     "f4f2e15d71054f8eab6b0d2e43aee440": {
      "model_module": "@jupyter-widgets/controls",
      "model_module_version": "2.0.0",
      "model_name": "HBoxModel",
      "state": {
       "_dom_classes": [],
       "_model_module": "@jupyter-widgets/controls",
       "_model_module_version": "2.0.0",
       "_model_name": "HBoxModel",
       "_view_count": null,
       "_view_module": "@jupyter-widgets/controls",
       "_view_module_version": "2.0.0",
       "_view_name": "HBoxView",
       "box_style": "",
       "children": [
        "IPY_MODEL_18843e30e9d04e76acce56e849d0d0bb",
        "IPY_MODEL_a1674bc259d0418f90556cc6404d114f",
        "IPY_MODEL_f4ecbe6bdd724b748ee9f9b4bc6c74a6"
       ],
       "layout": "IPY_MODEL_846bb74b93af4b28996a3cf81cd9d1c0",
       "tabbable": null,
       "tooltip": null
      }
     },
     "f6c327d767994c708ea3a48cb6e5f22d": {
      "model_module": "@jupyter-widgets/base",
      "model_module_version": "2.0.0",
      "model_name": "LayoutModel",
      "state": {
       "_model_module": "@jupyter-widgets/base",
       "_model_module_version": "2.0.0",
       "_model_name": "LayoutModel",
       "_view_count": null,
       "_view_module": "@jupyter-widgets/base",
       "_view_module_version": "2.0.0",
       "_view_name": "LayoutView",
       "align_content": null,
       "align_items": null,
       "align_self": null,
       "border_bottom": null,
       "border_left": null,
       "border_right": null,
       "border_top": null,
       "bottom": null,
       "display": null,
       "flex": null,
       "flex_flow": null,
       "grid_area": null,
       "grid_auto_columns": null,
       "grid_auto_flow": null,
       "grid_auto_rows": null,
       "grid_column": null,
       "grid_gap": null,
       "grid_row": null,
       "grid_template_areas": null,
       "grid_template_columns": null,
       "grid_template_rows": null,
       "height": null,
       "justify_content": null,
       "justify_items": null,
       "left": null,
       "margin": null,
       "max_height": null,
       "max_width": null,
       "min_height": null,
       "min_width": null,
       "object_fit": null,
       "object_position": null,
       "order": null,
       "overflow": null,
       "padding": null,
       "right": null,
       "top": null,
       "visibility": null,
       "width": null
      }
     },
     "fd46240262544c68971496106877fda6": {
      "model_module": "@jupyter-widgets/base",
      "model_module_version": "2.0.0",
      "model_name": "LayoutModel",
      "state": {
       "_model_module": "@jupyter-widgets/base",
       "_model_module_version": "2.0.0",
       "_model_name": "LayoutModel",
       "_view_count": null,
       "_view_module": "@jupyter-widgets/base",
       "_view_module_version": "2.0.0",
       "_view_name": "LayoutView",
       "align_content": null,
       "align_items": null,
       "align_self": null,
       "border_bottom": null,
       "border_left": null,
       "border_right": null,
       "border_top": null,
       "bottom": null,
       "display": null,
       "flex": null,
       "flex_flow": null,
       "grid_area": null,
       "grid_auto_columns": null,
       "grid_auto_flow": null,
       "grid_auto_rows": null,
       "grid_column": null,
       "grid_gap": null,
       "grid_row": null,
       "grid_template_areas": null,
       "grid_template_columns": null,
       "grid_template_rows": null,
       "height": null,
       "justify_content": null,
       "justify_items": null,
       "left": null,
       "margin": null,
       "max_height": null,
       "max_width": null,
       "min_height": null,
       "min_width": null,
       "object_fit": null,
       "object_position": null,
       "order": null,
       "overflow": null,
       "padding": null,
       "right": null,
       "top": null,
       "visibility": null,
       "width": null
      }
     }
    },
    "version_major": 2,
    "version_minor": 0
   }
  }
 },
 "nbformat": 4,
 "nbformat_minor": 5
}
