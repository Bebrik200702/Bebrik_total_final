{
 "cells": [
  {
   "cell_type": "code",
   "execution_count": 158,
   "id": "28572a0f",
   "metadata": {},
   "outputs": [],
   "source": [
    "import numpy as np\n",
    "import pandas as pd\n",
    "import torch\n",
    "import torch.nn as nn\n",
    "import torch.optim as optim\n",
    "import pickle\n",
    "from torch.optim.lr_scheduler import StepLR\n",
    "import torch.nn.functional as F"
   ]
  },
  {
   "cell_type": "code",
   "execution_count": 2,
   "id": "cf46e911",
   "metadata": {},
   "outputs": [
    {
     "name": "stdout",
     "output_type": "stream",
     "text": [
      "loc_x\n",
      "loc_y\n",
      "minutes_remaining\n",
      "shot_distance\n",
      "shot_made_flag\n",
      "shot_id\n"
     ]
    }
   ],
   "source": [
    "data = pd.read_csv('../data/data_train.csv') #Load training set, please do not change this address.\n",
    "data = data[~data.shot_made_flag.isna()] \n",
    "num_rows, num_columns = data.shape\n",
    "column_names = data.columns\n",
    "for col in column_names:\n",
    "    print(col)"
   ]
  },
  {
   "cell_type": "code",
   "execution_count": 3,
   "id": "78c695e6",
   "metadata": {},
   "outputs": [],
   "source": [
    "X_train = data[['loc_x', 'loc_y']].values.astype(np.float32) #Load features from training set \n",
    "y_train = data['shot_made_flag'].values.astype(np.float32) #Load label from training set \n",
    "X_train_tensor = torch.tensor(X_train, dtype=torch.float32)\n",
    "y_train_tensor = torch.tensor(y_train, dtype=torch.float32).view(-1, 1)"
   ]
  },
  {
   "cell_type": "code",
   "execution_count": 163,
   "id": "19823a75",
   "metadata": {},
   "outputs": [],
   "source": [
    "class MyModel(nn.Module):\n",
    "    def __init__(self):\n",
    "        super(MyModel, self).__init__()\n",
    "        #######Please design your model here########\n",
    "        self.hidden1 = nn.Linear(2, 4)\n",
    "        self.ac1 = nn.ReLU()\n",
    "        self.hidden2 = nn.Linear(4, 2)\n",
    "        self.ac2 = nn.Tanh()\n",
    "        self.output = nn.Linear(2, 1)\n",
    "        self.ac3 = nn.Sigmoid()\n",
    "        \n",
    "    def forward(self, x):\n",
    "        #######Please design your model here########\n",
    "        x = self.ac1(self.hidden1(x))\n",
    "        x = self.ac2(self.hidden2(x))\n",
    "        x = self.ac3(self.output(x))\n",
    "        return x"
   ]
  },
  {
   "cell_type": "code",
   "execution_count": 164,
   "id": "f2064e6e",
   "metadata": {},
   "outputs": [],
   "source": [
    "def train(model, optimizer, criterion, X_train_tensor, y_train_tensor):\n",
    "    train_losses = []\n",
    "    num_epochs = 400\n",
    "    for epoch in range(num_epochs):\n",
    "        # Training \n",
    "        model.train()\n",
    "        \n",
    "        #Forward calculation\n",
    "        outputs = model(X_train_tensor)\n",
    "        loss = criterion(outputs, y_train_tensor)\n",
    "        \n",
    "        #Backward training\n",
    "        optimizer.zero_grad()\n",
    "        loss.backward()\n",
    "        optimizer.step()\n",
    "        \n",
    "        #Record the training loss \n",
    "        train_losses.append(loss.item())\n",
    "        \n",
    "        # Print the training loss\n",
    "        model.eval()\n",
    "        if (epoch+1) % 100 == 0:\n",
    "            print(f'Epoch [{epoch+1}/{num_epochs}], Loss: {loss.item():.4f}')\n",
    "    return train_losses "
   ]
  },
  {
   "cell_type": "code",
   "execution_count": null,
   "id": "3c00688f",
   "metadata": {},
   "outputs": [
    {
     "name": "stdout",
     "output_type": "stream",
     "text": [
      "Epoch [100/400], Loss: 0.6713\n",
      "Epoch [200/400], Loss: 0.6700\n",
      "Epoch [300/400], Loss: 0.6681\n",
      "Epoch [400/400], Loss: 0.6681\n"
     ]
    }
   ],
   "source": [
    "model=MyModel()\n",
    "criterion = nn.BCELoss()  # BCE Loss\n",
    "optimizer = optim.AdamW(model.parameters(), lr=0.2)\n",
    "train_losses = train(model, optimizer, criterion, X_train_tensor, y_train_tensor)"
   ]
  },
  {
   "cell_type": "code",
   "execution_count": 149,
   "id": "2f435b5a",
   "metadata": {},
   "outputs": [
    {
     "name": "stdout",
     "output_type": "stream",
     "text": [
      "submission_model.py file is generated.\n"
     ]
    }
   ],
   "source": [
    "model_code = \"\"\"  \n",
    "import torch\n",
    "import torch.nn as nn\n",
    "class MyModel(nn.Module):\n",
    "    def __init__(self):\n",
    "        super(MyModel, self).__init__()\n",
    "        #######Please design your model here########\n",
    "        self.hidden1 = nn.Linear(2, 4)\n",
    "        self.ac1 = nn.ReLU()\n",
    "        self.hidden2 = nn.Linear(4, 2)\n",
    "        self.ac2 = nn.Tanh()\n",
    "        self.output = nn.Linear(2, 1)\n",
    "        self.ac3 = nn.Sigmoid()\n",
    "        \n",
    "    def forward(self, x):\n",
    "        #######Please design your model here########\n",
    "        x = self.ac1(self.hidden1(x))\n",
    "        x = self.ac2(self.hidden2(x))\n",
    "        x = self.ac3(self.output(x))\n",
    "        return x\n",
    "\"\"\"\n",
    "# Save the model structure\n",
    "with open('submission_model.py', 'w') as f:\n",
    "    f.write(model_code)\n",
    "print(\"submission_model.py file is generated.\")"
   ]
  },
  {
   "cell_type": "code",
   "execution_count": 150,
   "id": "c05e1228",
   "metadata": {},
   "outputs": [],
   "source": [
    "# Save the model parameter\n",
    "torch.save(model.state_dict(), 'submission_dic.pth')"
   ]
  },
  {
   "cell_type": "code",
   "execution_count": 151,
   "id": "f6fcde78",
   "metadata": {},
   "outputs": [
    {
     "name": "stdout",
     "output_type": "stream",
     "text": [
      "submission.zip is created successfully!\n"
     ]
    }
   ],
   "source": [
    "import zipfile\n",
    "import os\n",
    "\n",
    "# Define the files to be packaged and the compressed file name. \n",
    "files_to_zip = ['submission_model.py', 'submission_dic.pth']\n",
    "zip_filename = 'submission.zip'\n",
    "\n",
    "# Create a zip file to submit.\n",
    "with zipfile.ZipFile(zip_filename, 'w') as zipf:\n",
    "    for file in files_to_zip:\n",
    "        # Add files to the zip file\n",
    "        zipf.write(file, os.path.basename(file))\n",
    "\n",
    "print(f'{zip_filename} is created successfully!')"
   ]
  },
  {
   "cell_type": "code",
   "execution_count": null,
   "id": "453da853",
   "metadata": {},
   "outputs": [],
   "source": []
  },
  {
   "cell_type": "code",
   "execution_count": null,
   "id": "161866f8",
   "metadata": {},
   "outputs": [],
   "source": []
  }
 ],
 "metadata": {
  "kernelspec": {
   "display_name": ".venv",
   "language": "python",
   "name": "python3"
  },
  "language_info": {
   "codemirror_mode": {
    "name": "ipython",
    "version": 3
   },
   "file_extension": ".py",
   "mimetype": "text/x-python",
   "name": "python",
   "nbconvert_exporter": "python",
   "pygments_lexer": "ipython3",
   "version": "3.9.10"
  }
 },
 "nbformat": 4,
 "nbformat_minor": 5
}
