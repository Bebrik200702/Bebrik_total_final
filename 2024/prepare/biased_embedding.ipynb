{
  "cells": [
    {
      "cell_type": "markdown",
      "metadata": {
        "id": "6H0w6XUXcrJk"
      },
      "source": [
        "# Word Vectors Gone Wrong: Fixing Gender Stereotypes in Language Models\n",
        "\n",
        "## Problem Description\n",
        "\n",
        "\n",
        "Language models process words as arrays of  numbers, called word vectors (or word embeddings). These vectors are created based on the usage of the words in context, so they capture the distributional properties of words. Word vectors can be conceptualized as unique coordinates in a multi-dimensional space, with the distance between them capturing the semantic and syntactic relations between words.\n",
        "\n",
        "In a seminal [article](https://aclanthology.org/P16-1158/) Ekaterina Vylomova and colleagues show that word vectors trained on English data exhibit a curious property: the spatial difference between the vectors of 'king' and 'queen' is the same as the difference between the vectors of 'man' and 'woman'. This difference essentially captures **gender**. Similarly, the difference between 'king' and 'man' is the same as that between 'queen' and 'woman', capturing the notion of royalty.\n",
        "\n",
        "The way gender is reflected in word vectors has received special attention in NLP, because while sometimes word vectors capture true gender roles (e.g. a king is by definition male), other times they capture undesirable societal biases, e.g. they place 'engineer' and 'man' in the same relationship as 'housekeeper' and 'woman'. This does not seem fair, given that professions such as engineer or housekeeper should be non-gender specific.\n",
        "\n",
        "![](https://i.ibb.co/RNjF8MH/Screenshot-2023-11-22-at-16-01-27.png)\n",
        "\n",
        "We don't want to have models that promote stereotypes about which jobs are suitable for men or women, so we should find a way to fix this problem. The tasks presented in this notebook will guide you to one possible solution.\n",
        "\n",
        "## Technical Specifications\n",
        "\n",
        "All team solutions should be submitted as a modified and compiled copy of this base notebook. You also need to provide a file of the word vectors you created.\n",
        "\n",
        "The notebook contains specific tasks you need to accomplish and provides code when necessary. Some cells, marked with the `###DO NOT CHANGE THIS CELL###` comment, have to remain as they are. Other cells can be changed, especially the ones saying `###YOUR CODE GOES HERE###` should be changed to complete the tasks.\n",
        "\n",
        "\n",
        "Your goal is to get familiar with word vectors and the problem of bias which is a common issue in Artificial Intelligence applications.\n",
        "\n",
        "## Resources\n",
        "\n",
        "You can read more on gender bias in word vectors in the paper [Man is to Computer Programmer as Woman is to Homemaker? Debiasing Word Embeddings](https://proceedings.neurips.cc/paper_files/paper/2016/file/a486cd07e4ac3d270571622f4f316ec5-Paper.pdf) by Tolga Bolukbasi, Kai-Wei Chang, James Zou, Venkatesh Saligrama, and Adam Kalai. Proceedings of NIPS 2016.\n",
        "\n",
        "There are some articles/tutorials online that explain the main concepts of the paper (neutralization and equalization of word vectors) such as [Debiasing Word Embeddings with Geometry](https://medium.com/@mihird97/debiasing-word-embeddings-with-geometry-d2c471ab4ae6).\n",
        "\n",
        "\n"
      ]
    },
    {
      "cell_type": "markdown",
      "metadata": {
        "id": "4gqe2Po4u1GK"
      },
      "source": [
        "##Task 1: Creating word Vectors for words\n",
        "\n",
        "---\n",
        "\n",
        "\n",
        "\n",
        "One popular method for obtaining word vectors is to use a pre-trained model such as Word2Vec or GloVe (Global Vectors for Word Representation).\n",
        "\n",
        "🎯 The goal of is to get familiar with GloVe (Global Vectors for Word Representation), a pre-trained model used to create word vectors.\n",
        "\n",
        "Deliverables: Extract vectors for the example words provided below and then save them in a txt file. You should deliver (1) the txt file with the words and their corresponding vectors (2) a read_glove_vecs python function that reads the words and vectors from your .txt file like:\n",
        "\n",
        "```\n",
        "words, word_to_vec_map = read_glove_vecs('w2v_gnews_small.txt')\n",
        "```\n",
        "\n",
        "\n",
        "\n",
        "\n"
      ]
    },
    {
      "cell_type": "code",
      "source": [
        "!pip install gensim --user"
      ],
      "metadata": {
        "colab": {
          "base_uri": "https://localhost:8080/"
        },
        "id": "nwrVDmJ2i9pe",
        "outputId": "b1cfc891-047b-4ba0-fa56-92849c7e0598"
      },
      "execution_count": null,
      "outputs": [
        {
          "output_type": "stream",
          "name": "stdout",
          "text": [
            "Collecting gensim\n",
            "  Downloading gensim-4.3.3-cp311-cp311-manylinux_2_17_x86_64.manylinux2014_x86_64.whl.metadata (8.1 kB)\n",
            "Collecting numpy<2.0,>=1.18.5 (from gensim)\n",
            "  Downloading numpy-1.26.4-cp311-cp311-manylinux_2_17_x86_64.manylinux2014_x86_64.whl.metadata (61 kB)\n",
            "\u001b[2K     \u001b[90m━━━━━━━━━━━━━━━━━━━━━━━━━━━━━━━━━━━━━━━━\u001b[0m \u001b[32m61.0/61.0 kB\u001b[0m \u001b[31m5.3 MB/s\u001b[0m eta \u001b[36m0:00:00\u001b[0m\n",
            "\u001b[?25hCollecting scipy<1.14.0,>=1.7.0 (from gensim)\n",
            "  Downloading scipy-1.13.1-cp311-cp311-manylinux_2_17_x86_64.manylinux2014_x86_64.whl.metadata (60 kB)\n",
            "\u001b[2K     \u001b[90m━━━━━━━━━━━━━━━━━━━━━━━━━━━━━━━━━━━━━━━━\u001b[0m \u001b[32m60.6/60.6 kB\u001b[0m \u001b[31m2.9 MB/s\u001b[0m eta \u001b[36m0:00:00\u001b[0m\n",
            "\u001b[?25hRequirement already satisfied: smart-open>=1.8.1 in /usr/local/lib/python3.11/dist-packages (from gensim) (7.1.0)\n",
            "Requirement already satisfied: wrapt in /usr/local/lib/python3.11/dist-packages (from smart-open>=1.8.1->gensim) (1.17.2)\n",
            "Downloading gensim-4.3.3-cp311-cp311-manylinux_2_17_x86_64.manylinux2014_x86_64.whl (26.7 MB)\n",
            "\u001b[2K   \u001b[90m━━━━━━━━━━━━━━━━━━━━━━━━━━━━━━━━━━━━━━━━\u001b[0m \u001b[32m26.7/26.7 MB\u001b[0m \u001b[31m30.7 MB/s\u001b[0m eta \u001b[36m0:00:00\u001b[0m\n",
            "\u001b[?25hDownloading numpy-1.26.4-cp311-cp311-manylinux_2_17_x86_64.manylinux2014_x86_64.whl (18.3 MB)\n",
            "\u001b[2K   \u001b[90m━━━━━━━━━━━━━━━━━━━━━━━━━━━━━━━━━━━━━━━━\u001b[0m \u001b[32m18.3/18.3 MB\u001b[0m \u001b[31m40.2 MB/s\u001b[0m eta \u001b[36m0:00:00\u001b[0m\n",
            "\u001b[?25hDownloading scipy-1.13.1-cp311-cp311-manylinux_2_17_x86_64.manylinux2014_x86_64.whl (38.6 MB)\n",
            "\u001b[2K   \u001b[90m━━━━━━━━━━━━━━━━━━━━━━━━━━━━━━━━━━━━━━━━\u001b[0m \u001b[32m38.6/38.6 MB\u001b[0m \u001b[31m11.9 MB/s\u001b[0m eta \u001b[36m0:00:00\u001b[0m\n",
            "\u001b[?25hInstalling collected packages: numpy, scipy, gensim\n",
            "\u001b[33m  WARNING: The script f2py is installed in '/root/.local/bin' which is not on PATH.\n",
            "  Consider adding this directory to PATH or, if you prefer to suppress this warning, use --no-warn-script-location.\u001b[0m\u001b[33m\n",
            "\u001b[0mSuccessfully installed gensim-4.3.3 numpy-1.26.4 scipy-1.13.1\n"
          ]
        }
      ]
    },
    {
      "cell_type": "code",
      "execution_count": null,
      "metadata": {
        "id": "aDY_J3KN6V6m",
        "colab": {
          "base_uri": "https://localhost:8080/",
          "height": 384
        },
        "outputId": "eb1de351-ec24-4822-aad4-54e882451e79"
      },
      "outputs": [
        {
          "output_type": "error",
          "ename": "ModuleNotFoundError",
          "evalue": "No module named 'gensim'",
          "traceback": [
            "\u001b[0;31m---------------------------------------------------------------------------\u001b[0m",
            "\u001b[0;31mModuleNotFoundError\u001b[0m                       Traceback (most recent call last)",
            "\u001b[0;32m<ipython-input-4-5f7454494e8a>\u001b[0m in \u001b[0;36m<cell line: 0>\u001b[0;34m()\u001b[0m\n\u001b[1;32m      1\u001b[0m \u001b[0;32mimport\u001b[0m \u001b[0mnumpy\u001b[0m \u001b[0;32mas\u001b[0m \u001b[0mnp\u001b[0m\u001b[0;34m\u001b[0m\u001b[0;34m\u001b[0m\u001b[0m\n\u001b[1;32m      2\u001b[0m \u001b[0;32mfrom\u001b[0m \u001b[0mscipy\u001b[0m \u001b[0;32mimport\u001b[0m \u001b[0mspatial\u001b[0m\u001b[0;34m\u001b[0m\u001b[0;34m\u001b[0m\u001b[0m\n\u001b[0;32m----> 3\u001b[0;31m \u001b[0;32mimport\u001b[0m \u001b[0mgensim\u001b[0m\u001b[0;34m.\u001b[0m\u001b[0mdownloader\u001b[0m \u001b[0;32mas\u001b[0m \u001b[0mapi\u001b[0m\u001b[0;34m\u001b[0m\u001b[0;34m\u001b[0m\u001b[0m\n\u001b[0m\u001b[1;32m      4\u001b[0m \u001b[0;31m# Download pre-trained GloVe word vectors\u001b[0m\u001b[0;34m\u001b[0m\u001b[0;34m\u001b[0m\u001b[0m\n\u001b[1;32m      5\u001b[0m \u001b[0mglove_vectors\u001b[0m \u001b[0;34m=\u001b[0m \u001b[0mapi\u001b[0m\u001b[0;34m.\u001b[0m\u001b[0mload\u001b[0m\u001b[0;34m(\u001b[0m\u001b[0;34m\"glove-wiki-gigaword-100\"\u001b[0m\u001b[0;34m)\u001b[0m\u001b[0;34m\u001b[0m\u001b[0;34m\u001b[0m\u001b[0m\n",
            "\u001b[0;31mModuleNotFoundError\u001b[0m: No module named 'gensim'",
            "",
            "\u001b[0;31m---------------------------------------------------------------------------\u001b[0;32m\nNOTE: If your import is failing due to a missing package, you can\nmanually install dependencies using either !pip or !apt.\n\nTo view examples of installing some common dependencies, click the\n\"Open Examples\" button below.\n\u001b[0;31m---------------------------------------------------------------------------\u001b[0m\n"
          ],
          "errorDetails": {
            "actions": [
              {
                "action": "open_url",
                "actionText": "Open Examples",
                "url": "/notebooks/snippets/importing_libraries.ipynb"
              }
            ]
          }
        }
      ],
      "source": [
        "import numpy as np\n",
        "from scipy import spatial\n",
        "import gensim.downloader as api\n",
        "# Download pre-trained GloVe word vectors\n",
        "glove_vectors = api.load(\"glove-wiki-gigaword-100\")\n",
        "print(glove_vectors)\n"
      ]
    },
    {
      "cell_type": "code",
      "source": [
        "api"
      ],
      "metadata": {
        "id": "tW1RUmcYh3AJ",
        "colab": {
          "base_uri": "https://localhost:8080/"
        },
        "outputId": "2936781e-e5a4-49de-c11c-8ff8dcd35073"
      },
      "execution_count": null,
      "outputs": [
        {
          "output_type": "execute_result",
          "data": {
            "text/plain": [
              "<module 'gensim.downloader' from '/usr/local/lib/python3.11/dist-packages/gensim/downloader.py'>"
            ]
          },
          "metadata": {},
          "execution_count": 2
        }
      ]
    },
    {
      "cell_type": "code",
      "source": [
        "words = glove_vectors.index_to_key"
      ],
      "metadata": {
        "id": "Onx0xZDGVQDR",
        "colab": {
          "base_uri": "https://localhost:8080/",
          "height": 141
        },
        "outputId": "255d2a79-b0d5-49a3-f725-39a0c4667e9d"
      },
      "execution_count": null,
      "outputs": [
        {
          "output_type": "error",
          "ename": "NameError",
          "evalue": "name 'glove_vectors' is not defined",
          "traceback": [
            "\u001b[0;31m---------------------------------------------------------------------------\u001b[0m",
            "\u001b[0;31mNameError\u001b[0m                                 Traceback (most recent call last)",
            "\u001b[0;32m<ipython-input-3-25e0ad6d966b>\u001b[0m in \u001b[0;36m<cell line: 0>\u001b[0;34m()\u001b[0m\n\u001b[0;32m----> 1\u001b[0;31m \u001b[0mwords\u001b[0m \u001b[0;34m=\u001b[0m \u001b[0mglove_vectors\u001b[0m\u001b[0;34m.\u001b[0m\u001b[0mindex_to_key\u001b[0m\u001b[0;34m\u001b[0m\u001b[0;34m\u001b[0m\u001b[0m\n\u001b[0m",
            "\u001b[0;31mNameError\u001b[0m: name 'glove_vectors' is not defined"
          ]
        }
      ]
    },
    {
      "cell_type": "code",
      "source": [
        "\"meow\" in words\n",
        "glove_vectors[\"meow\"]"
      ],
      "metadata": {
        "colab": {
          "base_uri": "https://localhost:8080/",
          "height": 159
        },
        "id": "M9xZRXUEmCtT",
        "outputId": "65320a2f-b11f-46f1-9389-08814543e9f5"
      },
      "execution_count": null,
      "outputs": [
        {
          "output_type": "error",
          "ename": "NameError",
          "evalue": "name 'words' is not defined",
          "traceback": [
            "\u001b[0;31m---------------------------------------------------------------------------\u001b[0m",
            "\u001b[0;31mNameError\u001b[0m                                 Traceback (most recent call last)",
            "\u001b[0;32m<ipython-input-2-d3ab68e8b5d1>\u001b[0m in \u001b[0;36m<cell line: 0>\u001b[0;34m()\u001b[0m\n\u001b[0;32m----> 1\u001b[0;31m \u001b[0;34m\"meow\"\u001b[0m \u001b[0;32min\u001b[0m \u001b[0mwords\u001b[0m\u001b[0;34m\u001b[0m\u001b[0;34m\u001b[0m\u001b[0m\n\u001b[0m\u001b[1;32m      2\u001b[0m \u001b[0mglove_vectors\u001b[0m\u001b[0;34m[\u001b[0m\u001b[0;34m\"meow\"\u001b[0m\u001b[0;34m]\u001b[0m\u001b[0;34m\u001b[0m\u001b[0;34m\u001b[0m\u001b[0m\n",
            "\u001b[0;31mNameError\u001b[0m: name 'words' is not defined"
          ]
        }
      ]
    },
    {
      "cell_type": "code",
      "source": [
        "#Consider using torch's own methods\n",
        "import torch\n",
        "from torch import nn\n",
        "input1 = torch.randn(100, 128)\n",
        "input2 = torch.randn(100, 128)\n",
        "cos = torch.nn.CosineSimilarity(dim=1, eps=1e-6) #dimensions should be 1, alternately, one can find that it is just a dot b divided by norm (a) and b.\n",
        "print(cos(input1, input2))"
      ],
      "metadata": {
        "colab": {
          "base_uri": "https://localhost:8080/"
        },
        "id": "iRh6-YUP9__J",
        "outputId": "eb5eb4ce-b8e2-4bca-c073-ded465f44087"
      },
      "execution_count": null,
      "outputs": [
        {
          "output_type": "stream",
          "name": "stdout",
          "text": [
            "tensor([-6.2708e-02, -1.5030e-01,  1.6765e-04,  1.5312e-02,  1.1698e-01,\n",
            "         1.2058e-01,  9.7748e-02,  1.0922e-01,  6.9046e-02,  8.1690e-02,\n",
            "        -6.2776e-02,  5.2448e-02, -7.5489e-02,  9.1559e-02,  7.4125e-02,\n",
            "        -3.4084e-02, -2.9515e-02,  1.4316e-02,  8.6135e-02,  1.4669e-03,\n",
            "        -8.0187e-02,  1.7176e-01,  1.0836e-01,  1.2632e-01,  3.1881e-02,\n",
            "        -7.0442e-02, -2.5259e-02, -5.1129e-02, -6.8056e-03,  1.3399e-02,\n",
            "        -1.9531e-02,  8.1559e-02,  2.2007e-02,  1.4334e-01,  3.9324e-02,\n",
            "         1.5796e-02,  7.1125e-02, -4.2700e-02,  2.8959e-03, -1.0841e-02,\n",
            "        -9.2875e-02,  1.6583e-01,  1.4014e-02, -3.8090e-02, -4.1285e-02,\n",
            "        -1.4493e-01,  1.2038e-01, -2.2861e-01,  3.1471e-02, -8.1745e-02,\n",
            "         8.0794e-03, -9.3495e-02,  6.8615e-03, -8.2966e-02,  4.6270e-02,\n",
            "        -5.1532e-03,  9.8771e-02, -2.1429e-02,  7.1467e-02, -1.7819e-02,\n",
            "        -2.2810e-02, -2.0769e-02, -8.8314e-03,  2.5574e-02, -6.5335e-02,\n",
            "        -4.2692e-02, -1.4011e-01,  9.4126e-02, -3.8202e-02, -6.4497e-02,\n",
            "         1.3434e-01,  7.8130e-03, -1.6205e-02, -7.9834e-02, -1.0455e-01,\n",
            "         3.0765e-02,  4.7631e-02,  5.0454e-02,  4.4925e-02,  1.1481e-01,\n",
            "        -1.4970e-01, -8.6407e-02, -7.1393e-02, -7.5112e-02,  1.1740e-01,\n",
            "        -6.6254e-02,  4.2524e-03, -4.3221e-02, -6.9526e-02,  1.6519e-02,\n",
            "         2.1964e-02,  1.1780e-01, -2.6169e-02, -1.0962e-02, -1.0875e-01,\n",
            "        -1.0887e-01, -1.3305e-01,  5.3330e-02,  5.5687e-02,  9.4484e-02])\n"
          ]
        }
      ]
    },
    {
      "cell_type": "code",
      "source": [],
      "metadata": {
        "id": "PpumU2Xq8-EW"
      },
      "execution_count": null,
      "outputs": []
    },
    {
      "cell_type": "code",
      "source": [
        "# Get the word vectors\n",
        "man_vector = glove_vectors['man']\n",
        "woman_vector = glove_vectors['woman']\n",
        "king_vector = glove_vectors['king']\n",
        "queen_vector = glove_vectors['queen']\n",
        "\n",
        "# Calculate cosine similarities\n",
        "man_woman_sim = 1 - spatial.distance.cosine(man_vector, woman_vector)\n",
        "king_queen_sim = 1 - spatial.distance.cosine(king_vector, queen_vector)\n",
        "king_man_sim = 1 - spatial.distance.cosine(king_vector, man_vector)\n",
        "queen_woman_sim = 1 - spatial.distance.cosine(queen_vector, woman_vector)\n",
        "# woman_housekeeper = 1 - spatial.distance.cosine(woman_vector, housekeeper_vector)\n",
        "# man_housekeeper = 1 - spatial.distance.cosine(man_vector, housekeeper_vector)\n",
        "\n",
        "print(\"Similarity between man and woman\", man_woman_sim)\n",
        "print(\"Similarity between king and queen\", king_queen_sim)\n",
        "print(\"Similarity between king and man\", king_man_sim)\n",
        "print(\"Similarity between queen and woman\", queen_woman_sim)"
      ],
      "metadata": {
        "colab": {
          "base_uri": "https://localhost:8080/"
        },
        "id": "S-FW-yeZo8U0",
        "outputId": "02cfbbfc-a2ab-4c92-ff62-e63b2419070e"
      },
      "execution_count": null,
      "outputs": [
        {
          "output_type": "stream",
          "name": "stdout",
          "text": [
            "Similarity between man and woman 0.8323494204780473\n",
            "Similarity between king and queen 0.7507691147501214\n",
            "Similarity between king and man 0.5118681199090007\n",
            "Similarity between queen and woman 0.5095153918332322\n"
          ]
        }
      ]
    },
    {
      "cell_type": "code",
      "execution_count": null,
      "metadata": {
        "colab": {
          "base_uri": "https://localhost:8080/"
        },
        "id": "gxHgX4MZ5n-U",
        "outputId": "ffe829d2-4a67-44af-b5f7-0732ba8d13a0"
      },
      "outputs": [
        {
          "output_type": "stream",
          "name": "stdout",
          "text": [
            "Similarity between man and woman 0.8323494204780473\n",
            "Similarity between engineer and housekeeper 0.1285465154766401\n",
            "Similarity between man and engineer 0.42998508908380906\n",
            "Similarity between woman and engineer 0.33403110530952396\n",
            "Similarity between man and housekeeper 0.31202093967068856\n",
            "Similarity between woman and housekeeper 0.4558539692764132\n"
          ]
        }
      ],
      "source": [
        "# Get the word vectors\n",
        "man_vector = glove_vectors['man']\n",
        "woman_vector = glove_vectors['woman']\n",
        "engineer_vector = glove_vectors['engineer']\n",
        "housekeeper_vector = glove_vectors['housekeeper']\n",
        "\n",
        "# Calculate cosine similarities\n",
        "man_woman_sim = 1 - spatial.distance.cosine(man_vector, woman_vector)\n",
        "engineer_housekeeper_sim = 1 - spatial.distance.cosine(engineer_vector, housekeeper_vector)\n",
        "woman_engineer_sim = 1 - spatial.distance.cosine(woman_vector, engineer_vector)\n",
        "man_engineer_sim = 1 - spatial.distance.cosine(man_vector, engineer_vector)\n",
        "woman_housekeeper = 1 - spatial.distance.cosine(woman_vector, housekeeper_vector)\n",
        "man_housekeeper = 1 - spatial.distance.cosine(man_vector, housekeeper_vector)\n",
        "\n",
        "print(\"Similarity between man and woman\", man_woman_sim)\n",
        "print(\"Similarity between engineer and housekeeper\", engineer_housekeeper_sim)\n",
        "print(\"Similarity between man and engineer\", man_engineer_sim)\n",
        "print(\"Similarity between woman and engineer\", woman_engineer_sim)\n",
        "print(\"Similarity between man and housekeeper\", man_housekeeper)\n",
        "print(\"Similarity between woman and housekeeper\", woman_housekeeper)"
      ]
    },
    {
      "cell_type": "code",
      "source": [
        "# Get the word vectors\n",
        "man_vector = glove_vectors['man']\n",
        "woman_vector = glove_vectors['woman']\n",
        "bricklayer_vector = glove_vectors['bricklayer']\n",
        "nurse_vector = glove_vectors['nurse']\n",
        "\n",
        "# Calculate cosine similarities\n",
        "man_woman_sim = 1 - spatial.distance.cosine(man_vector, woman_vector)\n",
        "woman_bricklayer_sim = 1 - spatial.distance.cosine(woman_vector, bricklayer_vector)\n",
        "man_bricklayer_sim = 1 - spatial.distance.cosine(man_vector, bricklayer_vector)\n",
        "woman_nurse = 1 - spatial.distance.cosine(woman_vector, nurse_vector)\n",
        "man_nurse = 1 - spatial.distance.cosine(man_vector, nurse_vector)\n",
        "\n",
        "print(\"Similarity between man and woman\", man_woman_sim)\n",
        "print(\"Similarity between man and bricklayer\", man_bricklayer_sim)\n",
        "print(\"Similarity between woman and bricklayer\", woman_bricklayer_sim)\n",
        "print(\"Similarity between man and nurse\", man_nurse)\n",
        "print(\"Similarity between woman and nurse\", woman_nurse)"
      ],
      "metadata": {
        "id": "5bApDMmfhWJ9",
        "colab": {
          "base_uri": "https://localhost:8080/"
        },
        "outputId": "331e9186-de7a-4f0c-a34e-44b612c4d62d"
      },
      "execution_count": null,
      "outputs": [
        {
          "output_type": "stream",
          "name": "stdout",
          "text": [
            "Similarity between man and woman 0.8323494204780473\n",
            "Similarity between man and bricklayer 0.15589203673110918\n",
            "Similarity between woman and bricklayer 0.13727420068535845\n",
            "Similarity between man and nurse 0.45623880254819116\n",
            "Similarity between woman and nurse 0.6139442601018784\n"
          ]
        }
      ]
    },
    {
      "cell_type": "code",
      "source": [
        "import numpy as np\n",
        "from scipy.spatial.distance import cosine\n",
        "\n",
        "def cosine_similarity_manual(vec1, vec2):\n",
        "    dot_product = np.dot(vec1, vec2)\n",
        "    norm_vec1 = np.linalg.norm(vec1)\n",
        "    norm_vec2 = np.linalg.norm(vec2)\n",
        "    return dot_product / (norm_vec1 * norm_vec2)\n",
        "\n",
        "glove_vectors = {\n",
        "    \"man\": np.array([0.2, 0.3, 0.5]),\n",
        "    \"woman\": np.array([0.25, 0.35, 0.45]),\n",
        "    \"engineer\": np.array([0.6, 0.1, 0.3]),\n",
        "    \"housekeeper\": np.array([0.1, 0.5, 0.2])\n",
        "}\n",
        "\n",
        "man_vector = glove_vectors[\"man\"]\n",
        "woman_vector = glove_vectors[\"woman\"]\n",
        "engineer_vector = glove_vectors[\"engineer\"]\n",
        "housekeeper_vector = glove_vectors[\"housekeeper\"]\n",
        "\n",
        "pairs = [(\"man\", \"woman\"), (\"engineer\", \"housekeeper\"), (\"man\", \"engineer\"),\n",
        "         (\"woman\", \"engineer\"), (\"man\", \"housekeeper\"), (\"woman\", \"housekeeper\")]\n",
        "\n",
        "for word1, word2 in pairs:\n",
        "    vec1, vec2 = glove_vectors[word1], glove_vectors[word2]\n",
        "    sim_manual = cosine_similarity_manual(vec1, vec2)\n",
        "    sim_scipy = 1 - cosine(vec1, vec2)\n",
        "\n",
        "    print(f\"Similitud entre {word1} y {word2}: \")\n",
        "    print(f\" - Cálculo manual: {sim_manual:.6f}\")\n",
        "    print(f\" - Cálculo con scipy: {sim_scipy:.6f}\")"
      ],
      "metadata": {
        "colab": {
          "base_uri": "https://localhost:8080/"
        },
        "id": "Vokekie9Vwoe",
        "outputId": "178d37a6-ca4f-4a34-b78a-f855491eb7e9"
      },
      "execution_count": null,
      "outputs": [
        {
          "output_type": "stream",
          "name": "stdout",
          "text": [
            "Similitud entre man y woman: \n",
            " - Cálculo manual: 0.990275\n",
            " - Cálculo con scipy: 0.990275\n",
            "Similitud entre engineer y housekeeper: \n",
            " - Cálculo manual: 0.457625\n",
            " - Cálculo con scipy: 0.457625\n",
            "Similitud entre man y engineer: \n",
            " - Cálculo manual: 0.717547\n",
            " - Cálculo con scipy: 0.717547\n",
            "Similitud entre woman y engineer: \n",
            " - Cálculo manual: 0.757941\n",
            " - Cálculo con scipy: 0.757941\n",
            "Similitud entre man y housekeeper: \n",
            " - Cálculo manual: 0.799671\n",
            " - Cálculo con scipy: 0.799671\n",
            "Similitud entre woman y housekeeper: \n",
            " - Cálculo manual: 0.850553\n",
            " - Cálculo con scipy: 0.850553\n"
          ]
        }
      ]
    },
    {
      "cell_type": "markdown",
      "metadata": {
        "id": "TCxjWt6Zog4z"
      },
      "source": [
        "You should extract word vectors from the following lists. Make sure you save\n",
        "\n",
        "---\n",
        "\n",
        "them in a .txt file with a name of your choice. The file should just contain a words and their corresponding vector seperated by space. The next word should start from a new line."
      ]
    },
    {
      "cell_type": "code",
      "source": [
        "import torch\n",
        "from transformers import GPT2Tokenizer, GPT2Model\n",
        "\n",
        "# Load GPT-2 model and tokenizer\n",
        "model_name = 'gpt2'  # you can use 'gpt2-medium', 'gpt2-large' for larger models\n",
        "tokenizer = GPT2Tokenizer.from_pretrained(model_name)\n",
        "model = GPT2Model.from_pretrained(model_name, output_hidden_states=True)\n",
        "\n",
        "\n",
        "# List of names to generate embeddings for\n",
        "names = ['father', 'mother', 'man', 'woman', 'doctor', 'lawyer', 'engineer', 'nurse', 'teacher', 'accountant', 'architect', 'artist', 'writer', 'chef', 'designer', 'dentist', 'entrepreneur', 'firefighter', 'journalist', 'mechanic', 'musician', 'paramedic', 'photographer', 'psychologist', 'scientist', 'soldier', 'surgeon', 'vet', 'receptionist', 'reading', 'writing', 'painting', 'singing', 'cooking', 'traveling', 'volunteering', 'meditating', 'shopping', 'phone', 'computer', 'car', 'house', 'job', 'school', 'family', 'friends', 'food', 'drink', 'toys', 'books', 'movies', 'concerts', 'sports', 'electronics', 'furniture', 'clothing']\n",
        "vectors = []\n",
        "\n",
        "# Generate embeddings for each name\n",
        "for name in names:\n",
        "    inputs = tokenizer(name, return_tensors=\"pt\")\n",
        "    with torch.no_grad():\n",
        "        outputs = model(**inputs)\n",
        "    # Get the last hidden state for the first (and only) token\n",
        "    last_hidden_state = outputs.hidden_states[-1]\n",
        "    name_vector = last_hidden_state[0, 0, :].numpy()  # (sequence_length, hidden_size)\n",
        "    #print(len(name_vector))\n",
        "    vectors.append(name_vector)\n",
        "    #glove_vectors[name] = ame_vector\n",
        "\n",
        "# Save the vectors to a file\n",
        "with open('name_vectors_gpt2.txt', 'w') as f:\n",
        "    for i, name in enumerate(names):\n",
        "        vector_str = ' '.join([str(x) for x in vectors[i]])\n",
        "        f.write(f\"{name} {vector_str}\\n\")\n",
        "        print(f\"{name} {vector_str}\\n\")\n",
        "        glove_vectors[name] = vectors[i]"
      ],
      "metadata": {
        "id": "e2sIjbuVKcij",
        "colab": {
          "base_uri": "https://localhost:8080/",
          "height": 1000,
          "referenced_widgets": [
            "f146f5ee00b84871ba93bee620eb388e",
            "e23000d186fb4a6a932a1321d8503ea9",
            "87f635d487a540f49610cec16b6f0347",
            "1f9633d4460444a680fd2dcafceb09c9",
            "59424546ea4f43f18a845793d2f2d237",
            "1da06cfe0e8d43bd95900c373fa004e1",
            "fc603e6a1236454d8a23a4e3c31eae81",
            "80d9c1926dc848509efee09cac8f4701",
            "08b3442878884e8ca3ef968d627e4841",
            "a88a6ff475794560b13a76fcf15563a0",
            "9f63186799264bf882a5fa4009747bbb",
            "5c8ec35e081144b88d11f6f901f4c3fc",
            "99a92e85ef04456faa9417cdf5a6dd79",
            "94f3e2859f2a4601a4027a7fd1124839",
            "8c199a4c9ef14d2e9a0a935b655ac69b",
            "382285083e3542f88a0669e3b463de18",
            "c3baebe6b67b420da3bba8dc4e1b911d",
            "c829ca23db034fcb910e95553e7b365e",
            "0611f194dba64a32aad01d3be1cb045a",
            "0e37d8ee4bcd42f4a10b88707fe5715e",
            "d0525cbfb28e4423ae49bc9e1c5b30fe",
            "21a74055cc59436a9b0934f335ab5460",
            "96375fff6a924d2aa7685cf541509193",
            "ea238cf545db4a3dab205bd0d767516d",
            "590034e91d544dcaa5ca8e1a9837392f",
            "9f3dfd73968d489596e0c118c69eaf7f",
            "1c2e3753506f4480a27bb16050465b4b",
            "c4b1a09c2f6f4d8d9a3a13821bf8baad",
            "340840828eef49e7b43c5031d9a49a2d",
            "81d1e71016a34c85b3fd55266cd526e8",
            "10651da2ff774037b3bcf38469206994",
            "b2ea40a0e7654813bc358b5bf98df917",
            "1eee85a26e024feb84ebbb2f2f3ca8a3",
            "c6bb46ab0a544e7fb3260f237f7a95c6",
            "0266820751f94b2f9d255cf45f8d0640",
            "ff22145a3b694d249ea145ae48e64cf7",
            "6490663baad54615b210004726edf97c",
            "74a464e902aa403cb4438b19eadfc462",
            "51097d520da94defb541f90ddcdbb74f",
            "1737275da87d43008b33022e08a25acf",
            "d03f655f980e4dd7999800f84c4b2eaf",
            "db1e1987806140e78981b20b57bcda2c",
            "13576106c64a4831be1a537a004841b9",
            "850401ba204d4eaf916d3cc85a614e2f",
            "e3645a4eb825415e9bc343b56182653c",
            "3377d617f724486ab5d8260c2e975a41",
            "5bb4eb7488b14f85a86750ad15c5f32f",
            "29fcd3640cea47178faa15b0d4c4a180",
            "e02cfe46c0254fb7afbb0861ae8a1608",
            "c86006a25b00493f955696bf16fb11c9",
            "6d1c6819bbde4400a66e62eeed8040e7",
            "8384d01cd3e2414591728b8120ab21dd",
            "d75c6eb6e5e24af3bd5f87d00ae77a2c",
            "ad6360b3e7e04d9f8f42fcbd5cfee384",
            "19a89ad0d0fd46bb99bb418cc0a6bede",
            "7506bab56a2c4aa1965c2b0dde3bb0bb",
            "231187e837354991bfe894dcbedba0ba",
            "6724d794203c46b0a29ae7536037728c",
            "4c9b29fe8bca4ae588034da7c0369901",
            "5026802c095943238191598fd431213e",
            "d2eb14295a2e48a3b7d4d1ab32cdf7e2",
            "70234ad766df49e59fd8aaf06dd96cbe",
            "2f98d76b7bf945a4ae709384a1bff21d",
            "61f8277d97cd45fabdf04746c0b0cc98",
            "cade4a541d7348e093da212eb83585e1",
            "4915470b7ece407f9f6d1c5cb1c73e51"
          ]
        },
        "outputId": "ea55a340-ca54-4e2d-c630-ffed4ca8d96d"
      },
      "execution_count": null,
      "outputs": [
        {
          "output_type": "stream",
          "name": "stderr",
          "text": [
            "/usr/local/lib/python3.11/dist-packages/huggingface_hub/utils/_auth.py:94: UserWarning: \n",
            "The secret `HF_TOKEN` does not exist in your Colab secrets.\n",
            "To authenticate with the Hugging Face Hub, create a token in your settings tab (https://huggingface.co/settings/tokens), set it as secret in your Google Colab and restart your session.\n",
            "You will be able to reuse this secret in all of your notebooks.\n",
            "Please note that authentication is recommended but still optional to access public models or datasets.\n",
            "  warnings.warn(\n"
          ]
        },
        {
          "output_type": "display_data",
          "data": {
            "text/plain": [
              "tokenizer_config.json:   0%|          | 0.00/26.0 [00:00<?, ?B/s]"
            ],
            "application/vnd.jupyter.widget-view+json": {
              "version_major": 2,
              "version_minor": 0,
              "model_id": "f146f5ee00b84871ba93bee620eb388e"
            }
          },
          "metadata": {}
        },
        {
          "output_type": "display_data",
          "data": {
            "text/plain": [
              "vocab.json:   0%|          | 0.00/1.04M [00:00<?, ?B/s]"
            ],
            "application/vnd.jupyter.widget-view+json": {
              "version_major": 2,
              "version_minor": 0,
              "model_id": "5c8ec35e081144b88d11f6f901f4c3fc"
            }
          },
          "metadata": {}
        },
        {
          "output_type": "display_data",
          "data": {
            "text/plain": [
              "merges.txt:   0%|          | 0.00/456k [00:00<?, ?B/s]"
            ],
            "application/vnd.jupyter.widget-view+json": {
              "version_major": 2,
              "version_minor": 0,
              "model_id": "96375fff6a924d2aa7685cf541509193"
            }
          },
          "metadata": {}
        },
        {
          "output_type": "display_data",
          "data": {
            "text/plain": [
              "tokenizer.json:   0%|          | 0.00/1.36M [00:00<?, ?B/s]"
            ],
            "application/vnd.jupyter.widget-view+json": {
              "version_major": 2,
              "version_minor": 0,
              "model_id": "c6bb46ab0a544e7fb3260f237f7a95c6"
            }
          },
          "metadata": {}
        },
        {
          "output_type": "display_data",
          "data": {
            "text/plain": [
              "config.json:   0%|          | 0.00/665 [00:00<?, ?B/s]"
            ],
            "application/vnd.jupyter.widget-view+json": {
              "version_major": 2,
              "version_minor": 0,
              "model_id": "e3645a4eb825415e9bc343b56182653c"
            }
          },
          "metadata": {}
        },
        {
          "output_type": "display_data",
          "data": {
            "text/plain": [
              "model.safetensors:   0%|          | 0.00/548M [00:00<?, ?B/s]"
            ],
            "application/vnd.jupyter.widget-view+json": {
              "version_major": 2,
              "version_minor": 0,
              "model_id": "7506bab56a2c4aa1965c2b0dde3bb0bb"
            }
          },
          "metadata": {}
        },
        {
          "output_type": "stream",
          "name": "stdout",
          "text": [
            "father -0.16904373 -0.0766415 -0.2681317 -0.032958742 0.03863738 -0.25494877 0.45015278 0.024729606 -0.16980591 0.09495523 0.33832628 -0.0206459 -0.006850616 -0.012633384 -0.084343776 0.012953696 -0.3010867 -0.18575688 0.11077045 -0.09188224 0.15700828 -0.07632793 -0.26593778 -0.06988148 -0.0967628 0.21555836 -0.16784343 -0.08781686 -0.016249072 -0.24946636 -0.008001027 -0.12982674 -0.06803295 -0.27249447 -0.042475905 0.24461396 21.625423 -0.08089088 -0.034573436 -0.048351344 -0.009224666 0.020523839 -0.09778125 -0.36518973 -0.015622658 -0.011982954 0.054027937 0.0072890255 -0.24056587 -0.00619721 -0.011622898 0.0995431 -0.18097113 -0.0502511 0.080912136 0.36733142 0.044194646 -0.23946147 -0.17413409 -0.056961883 0.0006772967 -0.013298233 -0.1256529 -0.06814521 -1.040149 -0.060503982 -0.11686109 -0.15991087 -0.17050761 -0.21182813 -0.28918427 -0.26236364 -0.16103528 -0.130974 -0.1410314 -0.25730556 -0.21206598 -0.6028448 0.0629062 -0.05713592 -0.3446232 -0.0066090254 0.037240352 -0.19681697 -0.03583645 0.124855675 -0.01585745 -0.9899676 -0.06670411 -0.17467146 -0.058453098 -0.23255269 -0.23631018 -0.05672446 -0.23764569 -0.060810752 0.06231368 0.050294545 -0.09891092 0.22292039 -0.20312855 -0.06353851 -0.036093734 -0.11791772 0.08001551 -0.022808848 -0.16653033 0.82513964 -0.01800696 -0.13897276 -0.19917543 0.08532006 -0.119434126 -0.08786809 -0.09862641 0.02870672 0.036911175 0.030044848 -0.07596082 -0.20992817 -0.13040541 0.033690024 -0.0048069283 0.090559594 -0.1054707 -0.034594584 -0.04775425 -0.03877436 -0.05561203 0.005682758 0.021445114 0.029643644 0.13127749 -0.09913052 -0.00072492904 -0.02148361 0.054158293 -0.25672367 0.7372987 0.16458115 -0.11929965 0.1671898 -0.70719475 -0.11085069 0.029911 0.15182938 0.033949424 -0.00944951 0.0060257046 -0.18308312 -0.12835072 -0.020195218 0.06969199 -0.03961813 -0.017199524 0.0759141 -0.023960037 -0.10036978 -0.056694236 -0.040972706 0.012280401 0.01841991 0.026855208 -0.07311982 -0.19146247 -0.1955933 -0.10713685 -1.3744639 -0.0612449 -0.055613726 -0.17641106 -0.0945142 -0.19524445 0.17157255 -0.05489705 -0.18636964 -0.24227898 -0.16119006 0.029318098 -0.033176824 -0.22285262 -0.05089549 0.06058315 -0.033582482 -0.11905483 -0.1712017 -0.18191302 -0.0983713 -0.10143355 -0.032772724 -0.08877893 -0.07937374 -0.1998339 -0.045904826 -0.1262655 -0.29402518 -0.0582084 -0.12095574 -0.15264833 -0.31914717 -0.08438108 0.02896784 -0.07629979 -0.21118945 0.08700601 0.02274506 -0.0889915 -0.088586934 -0.15739806 -0.07026123 0.09524498 0.030702436 0.004670436 0.1477668 -0.06063815 -0.1359021 -0.39086547 -0.19792938 -0.19453265 -0.017013755 0.061582077 -0.10839019 -0.17011786 -0.10649417 0.18028283 -0.1620412 0.012714381 -0.11851759 -0.016868517 -0.114999905 0.048168663 0.02582658 1.5599256 -0.043967094 -0.05892641 -0.02794745 -0.109877005 -0.06225158 0.05360857 -0.16111895 -0.07492157 0.20982823 -0.02507119 -0.110380754 0.03664534 -0.08260116 -0.13059004 0.41155955 0.029626632 -0.22690502 -0.50190055 -0.1820589 -0.13307883 -0.0025193098 -0.17598288 0.22396763 0.098345175 0.102449045 -0.09389442 0.029115036 -0.094131805 -0.10113289 -0.041558493 -0.04969015 -0.043336846 -0.24264714 -0.96869624 -0.117844835 -0.21057802 0.1914545 -0.4481663 0.3440818 -0.13857234 0.03817594 -0.3280729 -0.11368299 0.06766228 -0.15618835 -0.051684838 -0.09997648 -0.09082822 -0.119470306 0.14764075 -0.09415354 0.070407465 -0.0525955 -0.13979492 -0.17859691 -0.04671655 -0.42811266 -0.052870117 -0.037156917 0.07181614 0.110762924 0.08959119 -0.14934087 -0.07960685 -0.11156511 -0.14407027 -0.00164913 -0.03511372 -0.086295895 0.06083958 -0.021793252 -0.17159241 -0.06627506 0.0047279475 -0.07154439 -1.1975194 -0.014777553 -0.098709024 0.018838516 0.046070836 -0.09607662 -3.01865 -0.15529984 -0.19112779 0.037787538 0.064164035 0.18140665 -0.45700026 -0.1036686 -0.20230049 -0.12378162 -0.004287681 0.030849067 -0.50531095 -0.014268499 -0.015241972 -0.17829084 -0.2766437 -0.052990533 0.11172596 -0.17979792 0.09117499 -0.33284435 0.0818425 -0.1851331 -0.13152611 0.08206473 -0.050229605 0.02257495 -0.13647196 -0.18592991 -0.080785334 -0.122463144 0.04649512 -0.33748528 -0.0572709 0.0076789036 -0.18053454 0.16658328 0.005018258 -0.16479847 -0.010464688 -0.108731486 -0.5916942 -0.07647935 -0.05787869 -0.071597226 -0.12115147 -0.041053582 -0.44926926 -0.08047002 -0.16309652 -0.89067656 -0.06448454 0.00059008907 0.013722468 -0.06947752 0.14979742 -0.06545232 0.00073972036 -0.73035604 -7.0124893 -0.19065362 -0.10633306 0.29022878 -0.6791243 -0.053902093 -0.024460997 -0.1788887 -0.10320313 -0.115642674 -0.25030407 -0.2443904 0.18040481 -0.044511225 0.024947513 -0.55954546 0.16349159 -0.03995794 0.052091192 -0.4933649 -0.10113639 -0.0013645918 -0.29097772 0.006822 -0.026762286 -0.057812292 -0.013195243 -0.10385082 -0.278898 0.1055286 -0.15130253 -0.016380094 -0.061825078 -0.21314818 0.8645467 -0.026800064 -0.27986625 0.015244654 -0.15573715 -0.13408202 0.048470393 -0.11724591 -0.06996245 -0.18836239 -0.03169104 0.04796974 -0.16884986 -0.13598086 -0.018476833 -0.17031083 -0.04583028 -0.049239263 -0.17374685 -0.07450025 -0.0887804 -0.2561128 36.86082 0.07881344 0.037701227 -0.023652185 -0.23325436 -0.03576497 -0.093543775 -0.23717876 0.11842367 0.19619292 -0.12812835 0.10208142 2.687795 0.056508698 -0.102847755 -0.09902642 -0.11767097 1.6997836 -0.1924761 0.059282094 -0.17561436 -0.057425078 0.05076161 -0.44669116 -0.06984873 -0.030431777 -0.18646978 -0.057026155 0.082521334 0.0037979432 0.23761408 0.14980745 -0.017881636 -0.077199675 -0.19230548 -0.17921312 0.021635756 -0.13491063 -0.030243706 0.080151975 -0.00019335037 -0.09527896 -0.07625556 -0.031082556 -0.012900219 -0.14847706 0.0770607 -0.1729325 -0.18154256 -3.281865 -0.8535491 0.68709636 -0.16294858 -0.08311638 -0.04202392 -0.085742965 0.05571696 -0.14336428 -0.048096254 -0.21920656 0.11343065 -0.06688519 -0.1413079 -0.18503365 -0.17794003 -0.030774334 51.241898 -0.45165467 -0.0591583 -0.09891804 0.0561349 -0.19275828 -0.0050264928 -0.8713596 -0.023043053 -0.036821313 0.058276203 0.03238416 0.012722536 0.006840119 0.0035243388 -0.11733039 0.033232976 -0.16296491 -0.20896617 -0.43353206 -0.032662973 0.012033068 -0.15954192 -0.121631645 -0.09853504 -0.12619981 -0.037112884 -0.10895184 -0.08635007 -0.45478815 -0.19929391 -0.28901708 -0.26962495 -0.11228574 -0.1714073 -0.15085407 -0.09950881 0.043460764 -0.28678542 -0.0043213246 0.04002361 -0.07141424 0.007343929 -0.069602944 0.24671383 -0.14929374 -0.06721734 -0.16493511 -0.17562853 -0.08890679 -0.12327408 -0.015146523 0.00895595 -0.057480887 0.06261006 -0.077848986 -0.17043564 -0.09682527 -0.67899346 0.011716078 0.081804164 0.10491553 -0.12109184 -0.25384194 -0.27998793 -0.024371909 -0.168451 -0.09030711 -0.035038516 -0.03713981 -0.26205716 -0.20620029 0.013187515 -0.2063088 -0.15534313 0.0436313 -0.13439819 -0.16082497 -0.11735111 -0.07800651 -0.046084758 -0.12130519 -0.4400718 0.13200834 0.012206101 -0.017619222 0.16682677 -0.02247483 -0.11573513 0.012150968 0.012392009 -0.34541884 0.09162969 -0.10274601 0.016954046 -0.025466362 0.058754332 -0.13438281 -0.10297563 -0.04666445 -0.15852734 0.029507784 0.029721817 0.06129801 -0.21650364 -0.1524981 -0.33814815 0.04694999 0.060271952 -0.038554806 -0.17293471 -0.029626105 -0.47539428 0.07643296 -0.02965369 -0.009731827 0.005896248 0.015582791 -0.1802697 -0.18389271 -0.29639247 -0.18358818 -0.021879602 -0.28684354 -0.07339125 -0.009106729 0.013211373 -0.11090248 0.17073162 -0.06460059 -0.20385924 -0.7350591 0.030465676 -0.24337044 0.051980052 -0.20477504 0.014126601 -0.08561713 -0.059654944 -0.70669484 -0.2901803 -0.06964782 -0.27702597 0.021818008 -0.56838644 -0.062238585 -0.28135085 -0.072388686 -0.13658202 0.04656287 -0.2932612 -0.0524116 0.043134864 -0.08403617 -0.025705459 -0.026515065 0.030804465 -0.17028502 -0.11793676 -0.13535821 0.055221952 0.06296471 -0.22990201 0.4296565 0.031019824 0.044277485 -0.021748122 -0.037682455 -0.09986798 -0.36401477 -0.16463456 -0.26439902 -0.020562666 -0.03646486 -0.1761121 -0.11693119 -0.15186013 0.012566229 -0.7816799 0.03241312 -0.16820247 -0.0686977 -0.14622745 0.6185757 -0.34202144 -0.034173716 -0.25563276 0.09118537 -0.05265616 0.031924836 -0.10816934 0.0023148444 0.018214906 0.014183212 -0.13320476 0.08236438 -0.090704 0.0019627041 -0.19079362 0.045481972 0.053611163 -0.06634091 0.14695078 0.08440045 0.03382844 0.23388866 -0.10917309 -3.3868537 -0.06947273 -0.24749798 -0.5863345 -0.114264205 -0.22212191 -0.048661046 -0.14141862 4.1947078e-05 -0.23443739 -0.112915605 -0.14300686 -0.141609 -0.14971913 -0.2649519 0.018133353 0.0010114176 -0.21680671 0.037114076 0.025345441 -0.22679254 0.13963905 -0.14252406 0.04285259 -0.11806676 -0.17836024 0.1189552 -0.16872875 -0.072200865 -0.31348622 -0.08534038 -0.23404801 0.17200749 0.004867223 -0.007886577 -0.1730133 -0.4717476 -0.12572977 -0.23147184 -0.1860024 -0.052196465 -0.28362358 -0.5915667 -0.047080807 -0.103463836 -0.16344635 -0.16561465 0.114487186 -0.1085599 0.045124076 -0.20796607 -0.07957029 0.021280617 -0.18969463 -0.12930503 -0.10683019 0.10501858 -0.1876065 -0.022699757 2.077444 -0.21907268 -0.028356891 -0.09292826 -0.016916633 -0.15085314\n",
            "\n",
            "mother -0.17429017 -0.007838588 -0.3644692 -0.0001253412 0.023843672 -0.23506978 0.0018280536 -0.025170796 -0.16488323 0.10813451 0.36471993 -0.026817571 -0.027333077 -0.021075524 -0.085472696 -0.009071151 -0.20395137 -0.20060873 0.2020795 -0.0008469537 0.2202667 -0.13567628 -0.3474682 0.012710318 -0.07561381 0.26990014 -0.25819954 -0.11850614 -0.010705146 -0.26818955 0.014444304 -0.15321201 -0.05736988 -0.24911933 -0.07139137 0.21216364 21.567238 -0.06823957 -0.02868765 -0.029505283 0.024776593 0.029441861 -0.088342056 -0.3502056 -0.028537964 -0.032996688 0.07178553 -0.031845883 -0.27725458 0.090442285 0.0064201853 0.08214349 -0.18488845 -0.096542835 0.050120212 0.16338529 0.03748695 -0.18979608 -0.18251699 0.015512238 0.10583012 -0.017565548 -0.15211488 -0.042799737 -1.0392112 -0.02680348 -0.09271409 -0.14203855 -0.06075869 -0.17348443 -0.16547647 -0.25398704 -0.1290775 -0.15526858 -0.10774789 -0.26293474 -0.33262464 -0.5889299 0.020214126 -0.11109068 -0.44224662 -0.050565988 0.017926896 -0.18645959 -0.055955425 0.05388957 -0.046012748 -0.98941016 -0.06438354 -0.16888696 -0.07191336 -0.20563506 -0.35139987 -0.11757854 -0.1747913 -0.09829447 0.002379139 0.052788697 -0.058821842 0.27743432 -0.17749545 0.011099297 0.21902713 -0.1399224 0.072579816 -0.033216085 -0.19152924 1.1429722 -0.07622242 -0.11744558 -0.13503273 0.030454189 -0.12851338 -0.1253703 -0.09674897 0.005174456 0.07720577 -0.008715575 -0.03492385 -0.19993661 -0.04345674 -0.006413604 -0.03729668 0.08739141 -0.09501356 0.03418389 -0.033485286 -0.044987675 -0.19531213 -0.06451152 0.008337868 0.018755937 0.1856515 -0.12331126 -0.02293822 -0.011105073 0.058472082 -0.25182647 0.72967243 0.1523565 -0.065036945 0.11346383 -0.6258669 -0.1110669 0.041510675 0.1349551 0.002110333 0.026834028 -0.052444205 -0.19956532 -0.1303864 -0.02810451 0.07264356 0.040201098 -0.044113696 0.08439272 -0.042760815 -0.16890745 -0.0639822 -0.07577447 0.29072845 0.055250894 0.011056921 -0.088298954 -0.21634893 -0.19775994 -0.052645914 -1.2695671 -0.061610784 -0.08469042 -0.18773156 -0.0684005 -0.2341925 0.11356587 -0.07387401 -0.19754809 -0.25623444 -0.21951537 -0.11650802 -0.008133171 -0.25382274 -0.07910504 -0.036212463 -0.013308929 -0.079716 -0.19951935 -0.16407016 -0.21837586 -0.1281706 -0.09236533 -0.11060271 -0.067811675 -0.1368094 -0.06829068 -0.14623652 -0.32964635 -0.014493329 -0.106826976 -0.19340508 -0.4264066 -0.1041289 0.04303819 -0.096786305 -0.19409293 0.060028806 0.004598926 -0.2143131 -0.11984858 -0.123554744 0.0019331111 0.18376377 0.18783528 -0.020742876 -0.0073408773 -0.038353916 -0.24397862 -0.37222934 -0.19811629 -0.19071017 0.04180097 0.09088533 -0.11331573 -0.1855701 -0.083837785 0.11346747 -0.14179547 -0.008055238 -0.06699673 0.016170558 -0.089283444 0.048911653 0.025174849 1.4374695 -0.020613946 -0.069181465 0.0067859907 -0.12267441 -0.050574493 0.15599439 -0.18613511 -0.0033151533 0.1862809 -0.08200465 -0.07352462 0.007310943 -0.023382539 -0.16223899 0.18059716 0.036360744 -0.08431464 -0.41734296 -0.18013763 -0.009048901 0.05120066 -0.07091761 0.0657805 0.064253904 0.13275975 -0.088414535 -0.018588837 -0.13860755 -0.0036708505 -0.004730868 -0.07156463 -0.07473335 -0.24190155 -0.9679361 -0.08823367 -0.24170293 0.17741257 -0.26802436 0.49598858 -0.120148405 0.07590836 -0.37656438 -0.13524927 -0.05433431 -0.16331811 -0.062203385 -0.12016624 -0.054036666 -0.12691 0.0944377 -0.1243257 0.010047361 0.005854353 -0.07793408 -0.16166024 -0.09659319 -0.34779128 0.01572475 -0.042121977 0.050503135 0.08895697 0.011365237 -0.16641419 -0.08556782 -0.13968092 -0.18339206 -0.0021272604 -0.07051683 -0.08212974 0.07110875 -0.03194432 -0.1532901 -0.065310985 -0.015305755 -0.060843565 -1.1491534 -0.008485998 -0.009926292 -0.09969055 0.041969325 -0.044119466 -2.3430622 -0.16162215 -0.18002023 0.037607122 0.050610002 0.12417077 -0.5111582 -0.13990593 -0.19883937 -0.06636011 0.047590528 0.050701376 -0.43607372 -0.019065324 -0.021048643 -0.1873316 -0.2473829 -0.100196995 0.12542003 -0.18665554 0.1299279 -0.39479843 0.030260038 -0.2704266 -0.09519752 0.029723937 -0.054105993 0.017975692 -0.19400813 -0.15912221 -0.17023015 -0.08335815 0.009823593 -0.2826364 -0.01602796 0.053084932 -0.17385577 0.10736848 0.027951699 -0.13395333 0.0006535156 -0.044673398 -0.5639285 -0.068487704 -0.024221765 -0.10980798 -0.20550577 -0.027133035 -0.42311096 -0.09941991 -0.18608545 -0.80755144 -0.117502086 0.023851192 0.040044498 -0.029779984 0.16692595 -0.030013187 0.043200076 -0.72985864 -7.0368214 -0.1908156 -0.054690033 0.27635485 -0.605965 -0.04673118 -0.037923604 -0.12780692 -0.16127853 0.06307372 -0.32336572 -0.17488478 0.15532295 -0.093933776 -0.015108229 -0.29825035 0.11846937 -0.037788887 0.047557063 -0.5436379 -0.19393322 0.048304744 -0.2922505 -0.064609595 0.014549346 -0.08240362 0.0035024746 -0.118286654 -0.26929063 0.051994417 -0.13353005 -0.016734455 -0.06605636 -0.18301453 0.70122707 -0.078169614 -0.27047405 0.041338425 -0.18325423 -0.15205114 0.07550725 -0.14510034 0.01222086 -0.20162645 0.12193341 0.08297388 -0.14816937 -0.19840121 -0.022988474 -0.19935177 -0.028936232 0.009632495 -0.20073302 -0.09008686 -0.1610776 -0.24659477 36.08555 0.017286476 0.026034335 -0.06540901 -0.19358678 0.0052425107 -0.14188775 -0.12695469 -0.03757883 0.31666327 -0.13487005 0.030896263 3.986543 0.004857158 -0.0267959 -0.019575052 -0.110618696 1.6990606 -0.16472141 0.13209027 -0.21502922 -0.05400154 0.10502152 -0.35778797 -0.040001962 -0.0027193944 -0.0380564 0.0010023473 0.08922128 0.008403422 0.23221722 0.15091534 0.02903498 -0.11990703 -0.14856592 -0.22786169 0.00812289 -0.14431804 -0.04527727 0.09255586 0.07495951 -0.1307289 0.017637137 -0.004296999 -0.030115157 -0.17342271 0.056604564 -0.17598179 -0.16048504 -3.1788707 -0.8529402 0.6853932 -0.109889895 -0.04849181 0.006819955 -0.0931972 0.026037542 -0.14327547 -0.00073561724 -0.15267017 0.14194113 -0.06704881 -0.17615084 -0.15886094 -0.21202162 0.044993717 51.744503 -0.427746 -0.16105945 0.0038333712 0.08859579 -0.21324569 -0.064818576 -1.2012497 0.00010081833 -0.012243167 0.027425325 0.02928862 0.00019550738 0.034146514 -0.002412964 -0.11672349 -0.05234408 -0.15930204 -0.15956774 -0.41307274 -0.004595518 0.008704561 -0.13342947 -0.15339965 -0.048173886 -0.14456728 -0.052402988 -0.07878916 -0.09008008 -0.47543132 -0.032627095 -0.3944519 -0.24169466 -0.14384511 -0.1632341 -0.19466901 -0.058016364 0.057200946 -0.26302814 0.07635701 0.012425253 -0.13092785 -0.05746234 -0.12674794 0.07835392 -0.16086994 -0.07210358 -0.2976166 -0.138685 -0.1034079 -0.06868162 -0.076164715 -0.023016684 -0.13758124 0.05636824 -0.1943209 -0.21381444 -0.104985334 -0.30219585 -0.038156614 0.0980565 0.13988563 -0.20244986 -0.38455957 -0.24207035 -0.055326045 -0.18478881 -0.13134016 0.02391756 0.026919272 -0.31631628 -0.19312686 -0.016969983 -0.25105056 -0.23603673 0.11992615 -0.09466388 -0.13460194 -0.15027626 -0.10762458 -0.04176325 -0.09977496 -0.36296967 0.14175607 -0.070294835 -0.0012485802 0.25198442 -0.022323344 -0.14629772 -0.050233636 0.043008007 -0.24578616 0.049828187 -0.109414175 0.090721756 -0.05829607 0.009448204 -0.12903212 -0.14376365 -0.034574434 -0.09016381 0.07717352 0.00045072704 -0.01924348 -0.19500102 -0.21125473 -0.32608736 0.0070578298 0.06941725 -0.14514577 -0.13729967 -0.015067988 -0.38415152 0.09004941 -0.102634385 0.009186024 0.08997673 0.04411704 -0.24394238 -0.19853425 -0.19798155 -0.104518 -0.09414864 -0.24720109 -0.12654218 -0.040905867 -0.05996149 -0.13587455 0.0890579 -0.05926755 -0.21958207 -1.0018193 0.05583738 -0.25095016 0.03879998 -0.23780996 0.026787927 -0.062148668 -0.07954182 -0.81936616 -0.26190537 0.004986326 -0.24791797 0.012170772 -0.6731682 -0.12689143 -0.2768729 -0.12114772 -0.13580094 0.070217945 -0.31403837 -0.17322655 0.10711171 -0.013431734 -0.08838179 -0.083056666 0.0248528 -0.18429054 -0.14006709 -0.026227795 0.040998705 0.097074136 -0.18768637 0.3083054 0.053369034 0.107149206 -0.10018978 -0.06887944 -0.08092421 -0.33756614 -0.17530967 -0.25963157 -0.048452362 -0.052900985 -0.11982172 -0.13466392 -0.16301352 0.042939518 -0.7462897 0.07643383 -0.188326 -0.08557621 -0.18370056 0.53915685 -0.30583712 -0.04161575 -0.2158391 0.1481904 -0.16433167 -0.02146645 -0.12160826 0.025921334 0.071865365 0.04294016 -0.1458611 0.13583536 -0.13154627 0.110301375 -0.16472556 0.03559552 0.10989209 -0.06450435 0.12814897 0.0542958 0.0027277407 0.21241331 -0.11351484 -4.040527 -0.09660289 -0.26964593 -0.52307415 -0.1633024 -0.23935086 -0.01990884 -0.0784104 -0.022146897 -0.18667026 -0.10084857 -0.21943492 -0.086773895 -0.17673855 -0.27332819 0.03730591 -0.030008584 -0.23590681 0.021541785 -0.010225143 -0.16595592 0.06530602 -0.21420614 0.03586207 -0.22090715 -0.2138364 0.090370685 -0.0015509495 -0.092439644 -0.25311384 -0.07566563 -0.22911957 0.106069036 0.0040240935 0.014827337 -0.20022304 -0.4532156 -0.15972027 -0.2397479 -0.106089994 -0.15310487 -0.26924935 -0.62534654 -0.11246159 -0.058090456 -0.1136071 -0.06870213 0.102822244 -0.17877908 -0.000617181 -0.26697418 0.029900797 0.07851426 -0.25209102 -0.13169867 -0.10897617 0.051532194 -0.21879692 -0.043495648 2.293004 -0.20842342 -0.04114629 -0.11017167 0.0056715915 -0.17033018\n",
            "\n",
            "man -0.16019401 -0.06235852 -0.27729872 0.02396552 0.014310274 -0.1499155 0.19544975 0.101436906 -0.23049411 0.04765467 0.28202933 -0.110593095 -0.010888199 0.06486386 -0.11357805 -0.06886482 -0.1494415 -0.18195157 0.05366749 -0.2335061 0.14682554 -0.11830431 -0.19877413 -0.0075813453 -0.046687473 0.14792831 -0.25195837 -0.20711629 -0.04463133 -0.18840699 0.031646315 -0.089324065 -0.13504826 -0.22004859 0.004543701 0.017912505 25.205297 0.020075163 0.04305555 -0.0044686147 -0.089464955 0.064171344 -0.059972122 -0.3173925 -0.039959505 0.014633427 0.022373293 0.05310791 -0.30121985 -0.095554546 -0.051053494 0.08597166 -0.112767756 -0.061181992 0.053757176 0.47199017 0.0034092327 -0.2908447 -0.18504323 0.023878273 0.009163935 -0.010739345 -0.0017756206 -0.10006591 -1.0451535 -0.05764632 -0.12798102 -0.15574376 -0.3044616 -0.11592454 -0.23426561 -0.19847663 -0.16910215 -0.090354994 -0.12776846 -0.23314391 -0.14612095 -0.87492555 -0.042245496 -0.09477751 -0.3178598 -0.049950592 0.06463074 -0.22394201 -0.015609896 -0.0012220031 0.25903472 -0.9926987 -0.13892058 -0.1596586 -0.009056574 -0.2325551 -0.20228885 0.03726367 -0.23325948 -0.075928986 -0.00017011972 0.074096546 0.01945927 0.14384738 -0.07480348 0.06983923 -0.2637324 -0.09668984 0.06561296 -0.12959611 -0.15063989 1.1253806 0.018864127 -0.08733345 -0.1632172 0.11442811 -0.042096343 -0.04498622 -0.07521946 0.08433312 0.054612186 0.03305059 -0.07918493 -0.12219607 -0.05305946 0.0057191523 -0.005943422 0.012012249 -0.09134719 -0.07206488 -0.014778904 -0.029918605 -0.2292507 -0.036592424 -0.031832222 0.020451162 0.027510121 -0.15491721 0.093869165 -0.05402912 0.07263304 -0.21331662 0.713659 0.14181297 -0.1344293 0.040529862 -0.35125166 -0.082402274 -0.025471488 0.24300085 0.048906773 -0.07686393 0.027530259 -0.09870644 -0.18474092 -0.02282506 -0.07935222 -0.034042057 -0.083936706 0.0599696 0.007756945 -0.18120705 -0.021479473 -0.085155874 0.03670999 -0.05239088 0.044966336 0.019217947 -0.194802 -0.04195851 -0.10093296 -1.2265573 -0.13629583 -0.106964275 -0.1693246 -0.07556428 -0.19506547 0.11242092 -0.112904675 -0.21647397 -0.23721777 -0.22880882 -0.1575829 -0.03962895 -0.22393656 -0.06434431 0.05120078 -0.124430895 -0.032313786 -0.17772058 -0.03268724 0.0414102 -0.09972318 0.03906677 -0.042470604 -0.20432986 -0.1557753 -0.07216041 -0.06760851 -0.17660251 -0.07708926 -0.18768632 -0.16573839 -0.3976275 -0.0043685813 0.0116969785 -0.08486155 -0.15863606 0.041301686 -0.03285494 -0.035668056 -0.116398275 -0.10046891 -0.0697454 0.083364315 0.18308775 -0.082124636 -0.14621258 -0.049069792 -0.18999709 -0.1703863 -0.11718585 -0.15243968 -0.016314203 0.0081879 -0.07216048 -0.07904904 -0.16629548 0.17645004 -0.07555891 -0.018715337 -0.046367582 0.023768652 -0.08166224 0.110757135 -0.02170326 1.5599791 -0.08914746 -0.079677194 -0.099003196 -0.16422766 -0.0064668297 0.015638668 0.008281013 -0.17711926 0.17306738 -0.015960785 -0.0913755 0.07017273 -0.02451513 -0.1615594 0.33017936 0.023526942 -0.35756668 -0.45013046 -0.10170965 -0.059029832 0.034681834 -0.12439304 0.23782848 -0.044095345 0.031676862 -0.12457807 -0.07764696 -0.08198458 -0.020127764 -0.076479495 -0.028958138 -0.05034347 -0.16758634 -0.973132 -0.099427864 -0.18817243 0.18600713 -0.46216494 0.14429393 -0.074952394 0.06543671 -0.23484902 -0.23892003 0.014642703 -0.14197837 -0.078362085 -0.12559603 -0.06110164 -0.11560822 0.09722326 -0.04182537 0.11131818 -0.109951 -0.1471108 -0.15789048 -0.14765705 -0.35912952 -0.02228835 -0.0055343965 0.037400216 0.062257275 0.09466016 -0.16594249 -0.10956029 -0.117923476 -0.054644056 -0.035838462 0.024295336 -0.033729143 0.16045596 -0.018351654 -0.116984144 -0.02301754 0.09638146 -0.075116575 -0.81561744 -0.033086974 -0.04073037 -0.30455005 0.017155325 -0.11599703 -2.7132173 -0.15661564 -0.13379969 0.01981899 0.0018037597 0.084992215 -0.21502285 -0.10766584 -0.23332094 -0.07460685 -0.016882032 0.050209913 -0.395564 -0.04985188 0.036236208 -0.13145731 -0.17273517 -0.08126911 0.116814725 -0.046486326 0.033398993 -0.34993544 0.11061973 -0.14097512 -0.11073704 -0.05574575 -0.026104009 -0.030172227 -0.12816942 -0.23936456 -0.21128939 -0.055610888 0.029510474 -0.43210053 0.00419785 0.026818167 -0.19745079 0.1831339 0.05705953 -0.15477458 0.045079377 -0.1093897 -0.5305494 0.003560952 -0.09457562 -0.15892807 -0.20673521 -0.19936305 -0.40876773 -0.06890491 -0.11456302 -1.1265875 -0.11229213 -0.0013997651 0.04452173 -0.041445296 0.14995652 -0.027833173 -0.037477758 -0.7521124 -6.8023047 -0.32884872 -0.15795738 0.31712943 -0.6367888 -0.016785562 -0.042088754 -0.1388435 -0.042048555 -0.10870911 -0.30315503 -0.21048272 0.21154405 -0.009087754 0.0763428 -0.30210564 0.14570157 -0.067370825 0.14622535 -0.5356392 -0.086110584 -0.018150153 -0.22920948 0.04750636 0.038507238 -0.025121443 -0.051077105 -0.04495918 -0.26413652 0.039073627 -0.17976004 -0.00999698 -0.10729766 -0.23033884 0.3149773 0.0074253064 -0.25613815 -0.061065868 -0.1885988 -0.18106231 0.059320122 -0.0811708 -0.033812966 -0.06980465 -0.041013062 0.021586627 -0.27159026 -0.13092992 -0.021911308 -0.10606283 0.014551445 -0.06561963 -0.08616553 -0.052374814 -0.08592929 -0.19232298 39.48631 0.036441796 0.027707534 -0.07726646 -0.15674941 0.007596082 -0.06507123 -0.15961763 0.045030914 0.30325264 -0.0677811 -0.09354978 3.2808025 0.00594093 -0.102640875 -0.065174975 -0.14765292 1.702753 -0.14052112 0.049386594 -0.21548016 -0.013348448 0.012872122 -0.51797897 0.009481505 0.009021341 -0.28158033 -0.05647094 0.0050907885 -0.117922395 0.15106049 0.08198208 -0.010812783 -0.15170121 -0.14426655 -0.112802014 -0.017296825 -0.10671769 -0.08986257 -0.014639935 -0.008870065 -0.019115657 -0.10463108 -0.057416245 -0.019028485 -0.18814206 0.041619148 -0.1306684 -0.21396773 -3.3904152 -0.85722953 0.71041846 -0.12049926 -0.061821193 -0.007338318 -0.0720367 -0.03698721 -0.14215861 0.050490826 -0.23110045 0.13217062 -0.028650708 -0.11245373 -0.11530376 -0.22638252 0.027227579 57.971497 -0.4128347 -0.024077557 -0.029455462 0.0016640499 -0.11792519 0.08096283 -1.2709668 -0.14331158 -0.055628244 0.039401744 -0.016475493 0.028834416 0.0990784 0.0023982893 -0.18209326 -0.05946205 -0.08860531 -0.08478203 -0.15680254 -0.041225456 -0.099531844 -0.19408526 -0.11860807 -0.0785718 -0.15485601 -0.013056758 -0.16718102 -0.13891642 -0.21276839 -0.2961426 -0.20004554 -0.27538562 -0.15876219 -0.10673676 -0.10665517 -0.17068549 0.06751971 -0.20237774 0.06550392 0.028353054 -0.11619315 -0.002809799 -0.07674755 0.22704011 -0.18939495 -0.063705385 -0.026171507 -0.11627851 -0.047431026 -0.06769387 -0.013620373 -0.064271145 -0.18884435 0.039951533 -0.19592176 -0.14508696 -0.11956334 -0.65947926 -0.07277855 0.05027171 0.048663672 -0.072510675 -0.20485404 -0.22761792 -0.042529017 -0.16517042 -0.043322604 -0.026128097 -0.083529495 -0.16958715 -0.23554417 -0.017087009 -0.3142481 -0.1080985 0.08216722 -0.14539318 -0.17459509 -0.070308775 -0.073008046 0.028767534 -0.060509972 -0.37460446 0.07007983 0.024972517 0.046445854 0.16531597 -0.035335705 -0.14230119 -0.0145405745 -0.08658117 -0.16083945 0.06428835 0.0070822877 0.0865106 -0.025430616 -0.038712505 -0.14917354 -0.08344194 -0.045107562 -0.13142233 -0.013158962 -0.04009246 -0.01696533 -0.22631884 -0.12114745 -0.2958022 0.051279183 -0.008587016 -0.03844525 -0.16677317 -0.078062795 -0.3901842 -0.03489408 -0.124265045 -0.046040256 0.004816382 0.02115287 -0.22950625 -0.1322956 -0.26184127 -0.15156066 0.01613257 -0.16605112 -0.004295737 -0.026150435 -0.016028197 -0.024364691 0.03287622 -0.04961915 -0.15210211 -0.43232274 -0.019460985 -0.22028477 0.11218869 -0.2070852 -0.0046545323 -0.054811798 -0.10876376 -0.7083962 -0.28354728 -0.021921705 -0.196599 0.013576157 -0.19209869 -0.15861711 -0.19728132 -0.1168361 -0.081551164 0.05096907 -0.35744086 -0.28881618 0.02612432 -0.17468259 -0.0012323289 -0.11386994 0.041926727 -0.20470315 -0.04911832 -0.15859722 0.039054073 0.061321165 -0.16117759 0.61780876 0.013807386 -0.05269627 -0.01963351 -0.06798295 -0.058314435 -0.070573464 -0.20599242 -0.20002106 -0.0032961103 -0.047694836 -0.1817466 -0.09130245 -0.08584891 0.078838065 -0.5953857 0.0064653982 -0.17209603 -0.042143364 -0.20438027 -0.2484712 -0.25407824 -0.06336422 -0.17805882 0.06889178 -0.09696543 -0.09467226 -0.11844373 -0.03380304 0.046989836 0.002571389 -0.06284274 0.044795804 0.043894827 -0.1103122 -0.1081931 -0.055980675 0.0648611 -0.03384397 0.09695188 -0.046402212 0.025306443 0.09265415 -0.031564973 -4.0461693 -0.16960521 -0.21079735 -0.27802202 -0.19961141 -0.1452218 -0.07173775 -0.08568153 -0.06352517 -0.17226206 -0.10748881 -0.13311543 -0.014181907 -0.21224055 -0.2496325 -0.053974386 -0.01424747 -0.12552454 0.058225244 -0.0017281913 -0.12340721 0.18794012 -0.13249905 0.01827906 -0.15466516 -0.21892817 0.037162926 -0.071898334 -0.020535022 -0.2701028 0.01947407 -0.09213124 -0.007473055 0.087212354 0.02261894 -0.14744414 -0.22808623 -0.108506605 -0.16636954 -0.22542498 -0.06454335 -0.2521072 -0.6239473 -0.08979479 -0.020898564 -0.20304063 -0.084455885 -0.029914478 -0.119092055 0.028709082 -0.13636597 -0.09688309 -0.057245895 -0.07240429 -0.038663786 -0.14099275 0.12117987 -0.22415857 -0.0023250603 1.1955829 -0.13668104 -0.021564517 -0.0690699 -0.02145974 -0.058572568\n",
            "\n",
            "woman -0.12307091 0.08192235 -0.3884405 -0.05266896 -0.027914962 -0.18840256 0.80503166 -0.03737161 -0.211977 0.04354662 0.3962514 -0.1291363 0.0038922946 0.07164867 -0.0879851 -0.07772399 -0.14113942 -0.21890996 0.12449396 -0.020370778 0.15161797 -0.14939575 -0.2741949 -0.116439685 -0.029567376 0.115676306 -0.3847991 -0.22600558 -0.01773989 -0.1722772 0.028572815 -0.118647866 -0.06642824 -0.32518396 -0.039025858 0.1796647 24.420376 -0.0029898265 0.035020374 -0.05917506 -0.10837725 0.117877916 0.025400426 -0.3117151 -0.11360709 -0.02664669 0.08371895 -0.015629925 -0.29431814 0.030549694 -0.0197055 0.09936179 -0.30458274 -0.13340843 0.09019003 0.58240956 0.0072986474 -0.29028434 -0.15277109 -0.05076599 0.038269747 -0.02594688 -0.031050244 -0.021364264 -1.0427784 -0.069023356 -0.14286931 -0.14222905 -0.17975032 -0.14229517 -0.16010395 -0.2468451 -0.15852877 -0.06794208 -0.13960658 -0.25950328 -0.17318524 -0.55592304 0.033072602 -0.016875936 -0.4250013 -0.0435928 0.038327925 -0.20851585 -0.039243486 -0.0068781385 0.16857967 -0.9912869 -0.08456374 -0.117079414 0.05984808 -0.21948114 -0.23747516 -0.015385406 -0.16619928 -0.12535499 0.014901832 -0.06736699 0.025636977 0.35882235 -0.07025979 0.039682165 0.011918494 -0.12416338 0.014241742 -0.13191028 -0.1165098 0.90724134 -0.120716326 -0.12105388 -0.08402466 0.09067673 -0.09825998 -0.07099891 -0.034841612 0.046077073 0.0034282468 0.043217607 -0.075946555 -0.13609436 -0.07642527 0.024839494 0.055423625 0.07784852 -0.122083105 -0.08873557 -0.01980443 0.008425429 -0.23121089 -0.061085045 0.05243641 0.042432707 0.11985885 -0.14809662 0.07713635 -0.08515024 0.056315683 -0.2680144 0.71759415 0.111810125 -0.105148844 0.06656688 -0.55190253 -0.0958765 0.037070822 0.23151734 0.051803008 -0.0027375375 0.0022856507 -0.13043247 -0.22458813 0.051534373 -0.04916937 -0.017056197 -0.14510275 0.025599984 -0.059760217 -0.2416322 -0.06584903 -0.0934914 0.12048443 0.032821804 0.06542652 -0.027512645 -0.24135758 -0.05926621 -0.101063795 -1.3686565 -0.13218383 -0.07619535 -0.16346157 -0.09759584 -0.30532783 0.07113864 -0.069691285 -0.21384788 -0.26773176 -0.25324613 -0.26282546 -0.06050864 -0.2387049 -0.06529644 0.01831418 -0.050061394 -0.0013550355 -0.22155705 -0.0075073787 -0.14110406 -0.11584276 0.016335845 -0.06692908 -0.17073591 -0.18821292 -0.072943255 -0.07970481 -0.17855863 -0.024867192 -0.14086619 -0.20290501 -0.48895633 -0.07038789 0.015288877 -0.082535446 -0.1827739 0.055134293 -0.056774277 -0.09379852 -0.15006872 0.018135425 -0.05122358 0.10866294 0.24235274 -0.1510722 -0.12531267 -0.086366855 -0.2511233 -0.29287598 -0.11282042 -0.2571433 -0.033821307 0.075161494 -0.08727626 -0.05981873 -0.16236496 0.33819896 -0.13309187 -0.065329894 -0.039167415 -0.044069536 -0.03773738 0.08567357 -0.012820341 1.2617058 -0.018126022 -0.13214836 0.011315675 -0.17049132 -0.025897978 -0.030007627 -0.089097336 -0.16986397 0.24807219 -0.05250962 -0.04829429 0.023181597 -0.055309955 -0.16182993 0.35242835 -0.010949202 -0.19552323 -0.49812043 -0.16925852 -0.008551312 0.090146944 -0.13292351 0.24524327 0.039384086 0.101564914 -0.08476263 -0.0031410542 -0.19576025 0.06406785 -0.056456044 0.065060616 -0.033714738 -0.18818629 -0.9712045 -0.09529089 -0.16709867 0.08593449 -0.5400536 0.3066254 -0.11900919 0.038718686 -0.25957146 -0.16483022 -0.05394885 -0.11840706 -0.11533146 -0.12739626 -0.012986744 -0.14143835 0.12356283 0.02644376 0.03721173 -0.12681945 -0.16112942 -0.19411701 -0.114996165 -0.5788783 -0.08388881 -0.015381175 0.020189373 0.058861617 0.09852032 -0.22801833 -0.122790545 -0.13389832 -0.114309974 -0.01419014 -0.0001657937 -0.034133244 0.116189696 -0.09230174 -0.094675735 -0.043569867 0.045933202 -0.044240113 -0.8600478 -0.069532886 -0.04044923 -0.22744352 0.04350399 -0.08681757 -7.076083 -0.15831596 -0.098327056 0.015249526 0.020193286 0.1358454 -0.35775632 -0.1740374 -0.22317712 -0.03419432 -0.0024969801 0.09133327 -0.42788312 -0.03099141 0.018240757 -0.13931486 -0.21218112 -0.17673194 0.17620608 -0.07182589 0.085102566 -0.33024567 0.10857867 -0.19198854 -0.09916162 0.048807062 -0.044095416 -0.004533505 -0.21500763 -0.30054832 -0.2009037 -0.039305452 0.046937022 -0.3686954 0.002010849 -0.0087242415 -0.14334115 0.2083393 0.026282098 -0.21681817 -0.009206577 -0.05167809 -0.49434158 -0.026143996 -0.00492644 -0.13501215 -0.29414827 -0.09309615 -0.42579308 -0.104299165 -0.11054979 -1.4734249 -0.10207843 -0.0124986805 0.078249246 0.009797337 0.12540841 0.03786653 0.010421483 -0.74042755 -7.4276814 -0.17864078 -0.18433133 0.45671248 -0.51634544 -0.040162027 -0.027559696 -0.15257522 -0.103589445 -0.04230053 -0.3288896 -0.16461116 0.10299294 -0.039381225 0.057970684 -0.42797112 0.13732354 -0.0358543 0.07965827 -0.5520761 -0.13344306 0.00327546 -0.2974368 -0.013615741 0.08848743 -0.03716744 -0.031670712 -0.032976158 -0.20346014 0.034964174 -0.1362234 -0.039529495 -0.1318252 -0.18833208 1.1250569 -0.07685687 -0.271703 0.019501872 -0.1475358 -0.20839891 -0.00022615593 -0.19393636 0.05128986 -0.14863782 -0.020035595 0.047979984 -0.2280842 -0.2093409 0.013367507 -0.1255691 0.032795947 -0.031773318 -0.16532527 -0.05928211 -0.17066024 -0.25068608 40.18879 -0.018328533 0.08701943 -0.06634166 -0.17903379 0.063926734 -0.14966863 -0.21216746 0.09275718 0.08791145 -0.08296956 -0.06744795 2.4515245 -0.03243102 -0.09563681 0.02604503 -0.11968047 1.7005842 -0.10536232 0.037404288 -0.21246342 0.0026660953 0.13338274 -0.48602128 0.075105906 0.035980433 -0.10309472 0.00904886 -0.018664738 -0.13470718 0.21416351 0.10625634 0.011119654 -0.1809399 -0.08849665 -0.16535164 -0.037813194 -0.15426025 -0.14040238 0.022733614 0.074049205 -0.13527136 -0.104233645 0.0027917095 -0.033479657 -0.2993931 0.023651155 -0.15201834 -0.18775517 -2.8538303 -0.85547125 0.6995567 -0.092014484 -0.07529331 0.04440156 -0.01376707 0.035657287 -0.17119008 0.06305298 -0.23772393 0.19117069 0.032066364 -0.12061867 -0.15906367 -0.24117221 0.069452025 56.80858 -0.36205104 -0.13983981 -0.023925452 0.120940536 -0.08675147 0.033696387 -1.5066813 -0.098517135 -0.02890586 0.054041248 -0.004701676 -0.050124194 0.038127795 0.03505454 -0.24067336 -0.033028148 -0.09616668 -0.19312894 -0.2784337 -0.031214502 -0.0576967 -0.1459654 -0.17473042 -0.03181958 -0.11940576 -0.033506252 -0.10906288 -0.12521096 -0.19506875 -0.24874276 -0.3308612 -0.25420922 -0.08864333 -0.13608165 -0.10426467 -0.14220181 0.097412124 -0.2585181 0.09589449 0.05075263 -0.095105246 -0.053438324 -0.021818262 0.1096595 -0.19109751 0.015013282 0.004511525 -0.077929586 -0.029848324 -0.07553738 -0.05007697 -0.086136825 -0.24788994 0.07270136 -0.25433254 -0.13337776 -0.07100048 -0.5499281 -0.11301639 0.040072385 0.062118378 -0.14410987 -0.26987255 -0.18397897 0.024370603 -0.1479116 -0.19875994 -0.02624826 -0.007881385 -0.24781945 -0.12009311 -0.03802671 -0.37542513 -0.121465325 0.11382118 -0.18689282 -0.1456772 -0.13455617 -0.016450426 0.022250904 -0.07566738 -0.4227094 0.12629141 0.004210756 0.0017533714 0.12842137 -0.10434949 -0.14449342 -0.047271892 0.004487383 -0.21886544 0.031508643 -0.07395731 0.14152116 -0.0104188 0.067949966 -0.0712768 -0.077225596 -0.053327736 -0.12890425 0.026016708 -0.014339491 -0.029444603 -0.15699528 -0.16574599 -0.3172299 0.0077360766 0.070436954 -0.1408317 -0.15138084 -0.012485334 -0.4044978 0.0060329325 -0.111089066 -0.024888227 0.061542235 0.057706222 -0.2335181 -0.21499473 -0.23692794 -0.1512386 0.008640753 -0.21815751 -0.021076215 -0.09508928 -0.054013375 -0.037841648 0.013194392 -0.09611984 -0.15558064 -0.93084806 -0.007631488 -0.25378737 0.089747384 -0.2879161 -0.024328984 -0.018941466 -0.13079824 -0.867318 -0.27704668 -0.0023238359 -0.16307063 -0.03197603 -0.48956683 -0.17363706 -0.21620269 -0.3043228 0.03353195 0.03512567 -0.30733714 -0.40236932 0.12899582 -0.24837048 0.009292162 -0.16915408 0.18484883 -0.22267061 -0.07909708 -0.12600933 -0.0008906791 0.13049091 -0.19800651 0.50387347 0.043438215 0.034264296 -0.030229669 -0.04771149 -0.12659857 -0.16092266 -0.22957137 -0.27252528 0.06357583 -0.070922494 -0.17781597 -0.12853986 -0.19174637 0.07158563 -0.6732527 -0.006639976 -0.16573855 -0.02506408 -0.2492305 0.27873808 -0.21434715 -0.071886584 -0.12684648 0.09966544 -0.09144081 -0.14494218 -0.064410344 0.07688263 0.09955766 0.029141353 -0.1362586 0.082381204 -0.08190994 -0.02716295 -0.13094099 -0.036937486 0.16222396 -0.04635665 0.12268697 -0.021425188 -0.020555113 0.18159501 -0.103134416 -2.8467188 -0.1365799 -0.26173118 -0.29891387 -0.2556826 -0.19058663 -0.06616499 -0.06212908 0.022892008 -0.11563235 -0.081164636 -0.22619009 -0.083500616 -0.17808922 -0.14563061 -0.06168042 -0.015556764 -0.26185456 -0.04678339 0.0141281 -0.07189459 0.13263 -0.17724545 0.09667698 -0.20581621 -0.22844864 0.089809276 -0.057576906 0.0038947905 -0.24083093 0.080428414 -0.1668454 0.027189376 0.080090836 0.08306153 -0.18890035 -0.3008442 -0.08281881 -0.19885215 -0.21470971 -0.09849724 -0.2633866 -0.7781401 -0.16968517 -0.0764976 -0.15427133 -0.10732727 0.019286688 -0.15126243 0.037228912 -0.18707481 -0.020735808 -0.08481398 -0.14545746 0.0056127906 -0.13087283 0.069631934 -0.14333399 0.035049472 2.0838532 -0.19438577 -0.06385061 -0.08022869 0.023177646 -0.09185492\n",
            "\n",
            "doctor -0.05192295 0.035078973 -0.36363307 -0.111736484 0.029044602 -0.28682414 0.832255 -0.19926822 -0.12730831 -0.023242896 0.45204553 -0.16710119 0.023886919 -0.022514882 -0.12556773 -0.14568034 -0.18432342 -0.2259832 0.13887058 -0.29408494 0.05943798 -0.11059736 -0.2678541 0.015075921 0.045069516 0.04685525 -0.2575439 -0.095908195 -0.05879185 -0.17031078 -0.0102520855 -0.06043821 -0.06571813 -0.29927757 -0.14683911 0.21274449 21.628351 0.0043023555 -0.07148429 -0.0032725192 -0.002102489 0.019638602 0.006490446 -0.23460321 -0.17571126 0.069469064 -0.0017642203 -0.14899622 -0.3172657 -0.10882375 0.0078060366 0.12638691 0.10009908 -0.10419321 0.0630455 0.15682478 -0.034159686 -0.1852671 -0.19281633 -0.062391046 -0.03222138 -0.041759267 0.037108805 0.03129879 -1.041661 -0.1136909 -0.05861699 -0.09397336 -0.30074725 -0.20659582 -0.27025858 -0.18912813 -0.08939367 -0.13562953 -0.095611 -0.23877741 -0.24868399 -0.685187 0.08603101 -0.1601816 -0.280406 -0.048657846 -0.011492576 -0.062079024 0.015007802 0.11124078 0.23942213 -0.9906637 -0.005906449 -0.024213603 0.0022223857 -0.28468567 -0.1925187 0.024695063 -0.25196752 -0.04586955 -0.033451162 0.077667534 -0.08500448 -0.01685101 -0.009040354 0.02527847 0.063984334 -0.08504121 0.078915566 -0.12382854 -0.15014748 2.0310245 -0.11496881 -0.053853687 -0.1716059 0.08793886 -0.19596097 -0.058732033 0.044618197 -0.07257984 -0.075176746 0.12509187 -0.012601035 -0.19193926 -0.1679956 0.053995293 -0.11854461 0.07310999 -0.20116735 -0.0090103485 -0.104398064 -0.035771877 -0.2301801 0.1051228 -0.05998253 0.008824093 0.24615417 -0.103128076 0.051052988 0.051557142 -0.025081858 -0.3444952 0.6842203 0.23235558 -0.015741477 0.044452 -0.77482116 -0.13038172 0.007432366 0.15663154 -0.08773005 0.030071968 -0.13357519 -0.07253583 -0.1570243 -0.15826097 -0.13699475 -0.02599643 -0.04345503 0.020558974 -0.00052936905 -0.10116851 0.060454793 -0.14576027 -0.4817077 0.049450446 0.15817761 -0.10789653 -0.29832745 -0.22688542 -0.052923143 -1.3761947 -0.09872817 -0.11277003 -0.1705774 -0.08654006 -0.061246946 0.11813173 -0.058325365 -0.085857496 -0.15742022 -0.13827847 -0.032632265 0.02776529 -0.21058711 0.017329482 0.13628797 -0.2528766 -0.007962602 -0.17446846 0.043469325 -0.16305432 -0.086755015 -0.14214933 -0.014223224 -0.2939957 -0.12985383 -0.17595379 -0.04349675 -0.1419144 -0.08186421 -0.105633296 -0.18069871 -0.3047941 0.0036795258 0.026323542 -0.0508243 -0.2465179 0.05631521 -0.021821765 -0.09142266 -0.13306661 -0.0033540777 0.15516911 0.050073843 0.25894368 0.030104041 0.3266872 -0.091494486 -0.12746511 -0.34704617 -0.17054822 -0.21208842 -0.02278357 0.06209807 -0.06023311 -0.017429302 -0.13858917 0.01568405 -0.17169616 -0.17984658 -0.05132501 0.038463574 -0.1430364 0.093709856 -0.009738052 0.95078534 -0.029776711 -0.05918497 0.01940253 -0.16515172 -0.16231363 -0.10536342 -0.09415213 -0.19321065 0.06676225 0.008510579 -0.080808915 0.013374108 -0.08141301 -0.18944015 0.3637634 0.054169398 -0.28402346 -0.4436646 -0.27885428 0.07186736 -0.14793684 -0.25297025 0.088764645 0.17987749 0.08316439 -0.095573016 -0.025941052 -0.053467162 0.020433387 -0.12179316 0.08009351 -0.07280561 -0.16749412 -0.9700134 -0.21137232 -0.2590379 0.20597681 -0.31210732 0.09336085 -0.0921096 0.101005256 -0.30414537 -0.10203877 -0.114048734 -0.039750483 -0.11231454 -0.0276647 -0.0011245497 -0.08427622 0.12103089 -0.030554237 0.1059491 0.09838445 -0.1569976 -0.0901948 -0.15355325 -0.24047399 -0.07892483 -0.101000525 -0.03243323 0.19706048 0.07814823 -0.14078858 -0.119488314 -0.23727441 0.011204926 0.028424364 0.02969586 0.062397942 0.22919878 0.045572314 -0.15535499 -0.10860276 0.011524262 -0.13715015 -0.6707016 -0.06067934 -0.020295242 0.17782094 0.0105756745 -0.01933557 -2.4111805 0.002951122 -0.17278646 -0.029210407 -0.024116032 0.15126826 -0.4849661 -0.209006 -0.26803434 -0.03264044 -0.1268933 0.076669954 -0.3002662 -0.007599588 0.20288907 -0.14308089 -0.25827295 -0.10842808 0.13339171 -0.11752245 -0.028808575 -0.23342203 -0.09862792 -0.2378868 0.010555998 -0.22966187 -0.10154235 0.004173176 -0.21877843 -0.12818229 -0.1441607 0.028814787 0.023702594 -0.30700478 0.05404369 0.05626384 -0.23439129 0.3656472 0.03244558 -0.28811157 -0.012654027 -0.09182046 -0.42443416 -0.042317376 -0.042984094 -0.26944417 -0.028021596 -0.26655367 -0.46560204 -0.057205927 -0.09212322 -0.85832494 -0.10920801 -0.07538801 0.047935683 0.08728532 0.33419964 0.03820784 0.038865153 -0.7362349 -6.935638 -0.046891164 -0.16431399 0.14361364 -0.53913444 -0.07262836 -0.10816228 -0.08480028 -0.031979624 -0.35479015 -0.3087811 0.09706356 0.25732023 -0.086627245 0.036201082 -0.33424944 0.13289675 -0.017056633 0.15286861 -0.5708189 -0.24386892 0.046449516 -0.3026849 -0.045230083 -0.06329231 -0.06177057 -0.02770201 -0.09180958 -0.10517808 0.08776559 -0.08255755 0.041627362 -0.17755912 -0.19923797 0.4643246 -0.0008449389 -0.3157364 -0.01721271 -0.15474492 -0.24879149 0.006441997 -0.0800821 0.009352921 -0.1882674 0.06705775 0.044039864 -0.47063005 -0.25259197 0.02276528 -0.25068474 -0.0675699 -0.09840851 -0.19202323 -0.18952927 -0.052283973 -0.27338928 38.698868 0.019114733 0.0024244608 -0.11024467 -0.16935216 0.03277322 -0.22317886 -0.09774133 0.0031859465 0.052463494 -0.065048486 0.0044615944 2.8099504 -0.15571247 -0.066146046 0.023399288 -0.20331891 1.701452 -0.11899641 0.04754889 -0.15273792 -0.02258795 0.02889429 -0.5128557 -0.046631232 0.38623613 -0.19149868 -0.08881079 4.99373e-05 -0.020805879 0.27353033 0.13990487 -0.01437786 -0.14128366 -0.21896262 -0.019048195 0.04056855 -0.16975991 -0.13062122 0.0035900006 0.036399357 -0.18499687 -0.13977458 -0.062348522 0.0771186 -0.20970982 -0.023242392 -0.11458907 -0.13848676 -2.328218 -0.8545607 0.6929882 -0.03829106 -0.035562474 -0.09492848 -0.036340997 0.067575015 -0.18329881 0.04735046 -0.1940878 0.014135296 0.060401674 -0.16406578 -0.24813512 -0.20295796 0.05532336 50.73879 -0.44991824 -0.03250699 0.0694791 0.054911554 -0.09290405 -0.041547813 -1.2467295 -0.14105989 -0.07361658 -0.04492678 -0.008182251 0.017458914 0.052947972 0.029078895 -0.177381 0.07631889 -0.18068933 -0.19626471 -0.32995057 -0.0009979473 -0.04201758 -0.11369106 -0.15529425 -0.01583118 -0.07597817 -0.10355917 -0.08774922 -0.070251025 -0.4141619 -0.6617381 -0.061822105 -0.14746644 -0.014370704 -0.018101307 -0.1041369 -0.10799484 0.0051699397 -0.27711976 0.029386405 0.010195237 -0.28485167 -0.015034602 -0.089349136 0.4522901 -0.2302574 -0.15482883 -0.45054203 -0.21263722 -0.06704014 -0.023511741 -0.14732006 0.045132983 -0.20000993 0.10691384 0.0006653275 -0.14152029 -0.09243373 -0.40890726 -0.03260681 -0.017939078 0.1125654 -0.18076672 -0.27233315 -0.14869042 -0.17468105 -0.12909952 -0.10481272 -0.06311369 -0.062429972 0.078931764 -0.19063672 0.15214458 -0.20620202 -0.07846436 0.06972365 -0.16525778 -0.14952865 -0.0770293 -0.09280492 -0.050501157 -0.042599343 -0.5025568 0.18925585 -0.017685015 -0.06209997 -0.022184229 -0.1432694 -0.09298014 0.02915816 -0.0035664078 -0.327867 0.005129144 0.06636504 0.012832057 0.018649006 0.030220807 0.060977526 0.043548692 -0.033665594 -0.32434484 -0.03245582 -0.17764828 0.025528431 -0.19744441 -0.17130248 -0.18272494 -0.050892137 0.030794837 -0.07888323 -0.12159111 -0.14063793 -0.4587451 0.010929823 -0.15723173 -0.06085388 -0.037998706 0.0096072685 -0.23304404 -0.051420774 -0.19126628 -0.10997449 -0.07355652 -0.2590653 -0.039115716 -0.06883654 0.011310999 0.046583958 -0.1723742 -0.06752317 -0.08795168 -1.2508883 -0.036867406 -0.09896848 0.017133081 -0.26233923 -0.08103607 -0.032890584 0.10500713 -0.5612546 -0.38191947 0.034593705 -0.17122982 0.015687803 -0.38477314 -0.05303631 -0.2538651 -0.23575066 -0.020217491 0.0273489 -0.24280961 -0.3237596 0.07843192 0.014510102 -0.13900852 -0.053418536 0.08828033 -0.2521791 0.0031185306 -0.015143073 0.039421353 0.10920595 -0.1564734 0.4208783 0.018077496 0.0661696 -0.025856402 -0.12176637 -0.049921695 -0.041534428 -0.19570212 -0.20707074 0.14219485 -0.03296098 -0.18387757 -0.18279597 -0.12495239 0.12699626 -0.77615607 -0.0029871487 -0.15902461 -0.16482566 -0.20743807 0.5333261 -0.2486636 0.06430429 -0.08582097 0.1147594 -0.055707105 -0.18725727 -0.09872566 0.039279796 -0.04475239 0.12931639 -0.13911572 0.0916122 -0.09303571 0.033523507 -0.17389801 -0.039361723 0.10475801 -0.028975578 0.03765705 -0.16884314 -0.061847508 0.1443346 -0.11067693 -4.233761 -0.1378525 -0.19234982 -0.3837542 -0.16214733 -0.22410482 -0.029705886 -0.11276981 -0.020378433 -0.33578053 -0.04864208 -0.108765624 -0.1262358 -0.17632598 -0.2136428 -0.25264764 0.087394975 -0.14925313 0.26088718 0.0125044715 -0.14132324 0.10722389 -0.1540875 0.02841986 -0.13980237 -0.23761486 0.01994279 -0.01599766 0.07266928 -0.24298356 -0.0672523 -0.1668184 0.07303566 0.11955018 -0.04595406 -0.13179463 -0.36733502 -0.13652681 -0.16113509 -0.1634637 -0.06417322 -0.372709 -0.7593067 -0.14258778 0.017778134 -0.10772621 -0.12467409 -0.027446903 -0.06701892 0.002357544 -0.14628418 -0.0999624 0.0021694575 -0.25179136 -0.043515988 -0.068262324 0.12533261 -0.183336 -0.045385793 1.4979744 -0.2075658 -0.21095814 0.027854383 0.035528526 -0.09227681\n",
            "\n",
            "lawyer -0.28576744 -0.036345053 -0.40989026 -0.050324596 0.07381849 -0.24089773 0.95923996 0.13335267 -0.09068674 0.01815381 0.38131317 -0.031693574 -0.09298373 0.09409677 -0.18950002 0.044171948 -0.10806585 -0.13356654 0.14856382 -0.33150166 0.19890234 -0.12244987 -0.23773803 -0.19578655 -0.052512627 0.19611323 -0.31638741 -0.18341261 -0.053776644 -0.25870684 0.031166244 0.049294434 -0.040927608 -0.2620293 -0.054762926 0.13853523 21.351376 0.0071775876 -0.0009565376 -0.11598511 -0.018553935 0.021958904 -0.08559236 -0.3189363 -0.081766285 0.03189178 0.025759293 0.021674862 -0.25794557 -0.030410502 -0.04270949 0.12813933 -0.11882005 -0.16678274 0.066215485 0.03201874 0.0065418947 -0.26649654 -0.16653572 -0.17249776 -0.0038887428 -0.0504116 -0.078773424 -0.037462994 -1.0413338 -0.098466605 -0.13406175 -0.11381628 -0.17128064 -0.15746477 -0.12781514 -0.26240495 -0.12823711 -0.15029061 -0.08216891 -0.27744988 -0.2579673 -1.1444603 0.12511471 -0.01829729 -0.28787753 -0.023150401 0.04516526 -0.35223415 -0.12857231 0.08588753 -0.1976645 -0.9906356 -0.06660746 -0.18632951 -0.063989885 -0.2731087 -0.3103762 -0.058050547 -0.18430063 -0.10053013 0.038949482 0.18612716 -0.025270479 0.136967 -0.11886391 0.022304691 0.22534339 -0.105468236 0.03794851 -0.12070788 -0.20731048 2.7058742 -0.006598814 -0.08913688 -0.08302309 0.110573545 -0.1810248 -0.019193506 -0.06574182 0.07680633 0.16658466 -0.020310849 0.024483848 -0.11419606 -0.10385454 0.02786735 -0.04462112 0.010859626 -0.10723524 0.026121693 -0.048312336 -0.033203445 -0.2480079 -0.041936498 0.09926053 0.04570075 0.053964112 -0.091237836 0.035434958 -0.15510416 0.01613079 -0.27281046 0.7224213 5.035759e-06 -0.13288909 0.054252923 -0.9510354 -0.07809553 0.004342812 0.14749633 -0.05660581 0.0097508235 -0.034146424 -0.061352532 -0.12314233 -0.01765511 0.038087334 -0.11968509 -0.18028569 0.17123877 -0.110106386 -0.19487645 -0.0074757887 -0.073649324 0.050352406 -0.028676683 0.04275224 -0.07464691 -0.23111686 -0.16622324 -0.057320897 -0.8552094 -0.17537306 -0.11122156 -0.09867435 -0.10935148 -0.11758918 0.069203526 -0.07683099 -0.07014771 -0.13811418 -0.2220071 -0.10859228 -0.0156817 -0.17342271 -0.06003235 0.015900386 -0.026976975 -0.038207866 -0.19220406 -0.053984895 -0.18779458 -0.030494362 0.004851853 -0.09347423 -0.108203776 -0.1691771 -0.09004186 -0.11300831 -0.30801144 -0.012918763 -0.063749544 -0.1397427 -0.37513104 -0.16104801 -0.0934586 -0.03058555 -0.21121271 -0.04529826 -0.123982206 -0.24560542 -0.13434654 -0.13471074 0.09963552 0.13466461 0.22301616 -0.03953737 0.0003669395 -0.06919166 -0.059675105 -0.3189852 -0.17083196 -0.21696186 -0.048805952 -0.044714954 -0.08012216 -0.07356271 -0.1694895 0.046798475 -0.17963034 -0.03174476 -0.17523943 0.02408458 -0.13148382 0.2005188 -0.10989364 1.3712683 -0.020732358 -0.16520678 -0.12071302 -0.13531409 0.008697282 -0.11771149 -0.027782395 -0.0076252036 0.021468256 0.015363758 -0.033504188 0.024293028 -0.0056571397 -0.14154801 0.2635438 0.032370474 -0.17021526 -0.3965087 -0.09977307 -0.074267685 0.06381349 -0.16776873 0.18809466 0.13245966 0.11356793 -0.118825465 -0.011178317 -0.07218784 -0.11729237 0.037511997 0.12205422 -0.11067484 -0.1470263 -0.96963894 -0.20698492 -0.2591437 0.015408098 -0.3797919 0.54364896 -0.07681733 0.0135786375 -0.33091062 -0.102302164 -0.058417138 -0.17930111 -0.109427564 0.020536024 -0.073518306 -0.08463313 0.08677774 0.02983197 0.07573326 -0.15496519 -0.117886275 -0.119322374 -0.0803924 -0.31711462 0.02510244 -0.055683825 0.04601274 0.022723416 0.096566625 -0.06335096 -0.052993648 -0.17301174 -0.052369203 -0.0094108945 -0.055036556 0.07885165 0.006099943 -0.016422106 -0.16346951 -0.06664961 0.04276159 -0.07856615 -0.7016974 -0.043930855 -0.071669035 -0.08235325 0.008667644 -0.07444224 -0.8286075 -0.10526692 -0.14914547 0.05799584 -0.09327099 0.049859412 -0.63878226 -0.18181418 -0.20181194 -0.16486594 0.014783711 0.032398406 -0.4785463 0.013131741 0.0131255295 -0.15585019 -0.22042853 -0.059060194 0.042958252 -0.2312281 0.12809935 -0.30232346 -0.039030034 -0.095716 -0.06381198 -0.12557654 -0.018340353 -0.03435852 -0.1200483 -0.13862218 -0.092709675 0.04788878 0.042382494 -0.35529572 -0.0011235132 0.039989464 -0.17676365 0.020923773 0.106383644 -0.14612705 -0.09648978 -0.1655049 -0.48475254 0.054105278 -0.076389655 -0.08867935 -0.1544908 -0.19805 -0.41432658 -0.09533967 -0.12536979 -0.6782053 -0.12843041 0.042030524 0.088998206 0.0205787 0.21927644 -0.12449571 -0.086265504 -0.7336243 -7.075635 -0.23132823 -0.18742776 0.013582926 -0.67794156 -0.006838272 -0.050179016 -0.14608029 -0.10380092 -0.09749583 -0.15291116 -0.18076438 0.17869313 -0.0045633083 -0.051264435 -0.5295812 0.19756243 -0.096963614 0.057378557 -0.52203435 -0.14070627 0.02680667 -0.2690111 -0.02493287 0.0063524027 -0.020611286 -0.026865827 -0.1207483 -0.21125095 0.041067947 -0.07868896 0.011375408 -0.1348886 -0.23224624 0.10946229 0.04014151 -0.22371115 0.038993068 -0.19944967 -0.13781822 -0.07419901 -0.2225699 -0.034948174 -0.12032261 -0.21446508 0.09387563 -0.3251235 -0.18334867 -0.090430595 -0.068675295 -0.08508913 -0.012450687 -0.20209378 -0.04246839 -0.079607196 -0.20187129 37.169777 -0.019588578 0.036483575 -0.16720842 -0.13941216 -0.016297247 -0.124483705 -0.14781773 0.055850837 0.1759201 -0.1542503 -0.013323018 3.840867 0.06233248 -0.076109216 -0.061947946 -0.16450232 1.7007706 -0.076102875 0.09634128 -0.22511142 -0.10584011 0.12606099 -0.32617798 -0.024290256 -0.024609726 -0.15050074 -0.07653992 0.07411024 -0.065367706 0.2473136 0.10223419 0.028063567 -0.09036604 -0.08090171 -0.18582678 -0.0156000005 -0.17219865 -0.013319624 -0.043596778 0.07697625 -0.103514664 -0.13055308 -0.01617427 -0.08740962 -0.1343335 0.056023397 -0.19056544 -0.20994236 -2.220046 -0.8542874 0.69196105 -0.1893129 -0.022195801 0.0862814 -0.059321795 -0.12137794 -0.030834412 -0.071184255 -0.19724561 0.07164469 -0.18141691 -0.13740432 -0.12511367 -0.18300848 0.11455613 52.91287 -0.29806438 -0.0037340287 -0.012306045 0.06079103 -0.13569944 -0.045663834 -1.0950695 -0.1556159 -0.06378119 0.098373465 -0.06256942 0.1665662 0.11171133 0.033896655 -0.17195034 -0.09531707 -0.14813416 -0.09708159 -0.3416171 0.00082010054 -0.016042959 -0.04487832 -0.19101414 -0.13498735 -0.29645914 -0.058151666 -0.06305002 -0.0081265755 -0.15365003 -0.18656842 -0.13512751 -0.28465888 -0.09812463 -0.060364217 -0.07166158 -0.17145137 0.060399983 -0.35690725 0.01442127 0.029845819 -0.17090543 0.07426677 -0.11924853 0.22902395 -0.14269416 -0.15563633 -0.50113475 -0.14718878 -0.062869556 -0.059371255 -0.026479498 -0.10660338 -0.26800287 0.052481994 -0.09792229 -0.11898135 -0.2805842 -0.5477739 -0.06841888 0.0768472 0.07245002 -0.15872066 -0.25719625 -0.18014598 -0.007060171 -0.14924787 -0.052799154 -0.05307155 -0.015295343 -0.22612748 -0.21645038 0.06200048 -0.3561296 -0.08193662 0.014766667 -0.015969187 -0.16335423 -0.1343944 -0.03522865 -0.0074677337 0.002993851 -0.3977363 0.091070235 -0.10564579 -0.017097244 -0.07074193 -0.13622622 -0.08666253 -0.058018737 -0.022125956 -0.19844621 0.04864386 -0.06539727 0.12987734 -0.012179582 -0.037813794 -0.11118679 0.014462828 -0.028336782 -0.12762848 0.002995595 -0.13652466 -0.09540859 0.025311071 -0.08098964 -0.18060036 -0.017083641 0.074106105 -0.029757338 -0.19550323 -0.0345814 -0.57953036 0.065353945 -0.21398772 -0.0058724466 -0.01648723 0.03128469 -0.2528281 -0.13231249 -0.09520951 -0.22801086 -0.07206096 -0.2657547 -0.038221046 -0.078679144 0.094964705 -0.07862485 -0.012528518 -0.06159289 -0.11790721 -0.4830008 -0.010494969 -0.25845876 0.03137482 -0.19995312 -0.009368086 -0.06740244 -0.009697839 -0.62743384 -0.34548506 0.021405835 -0.17948994 0.028143773 -0.3240133 -0.16345233 -0.18335012 -0.22431725 -0.19858694 0.038508255 -0.31627476 -0.2549122 0.037072137 0.08613903 0.0026236793 -0.22300488 0.04966526 -0.16419089 0.0077315485 -0.21258318 0.0069118794 0.10980904 -0.1546311 0.57039475 -0.022716124 -0.045073975 -0.060347505 -0.077193215 -0.06306749 3.1536274e-05 -0.25699157 -0.19483498 0.07022474 -0.10391538 -0.08274255 -0.18244745 -0.22397305 0.09093525 -0.6885256 0.09907283 -0.12860075 -0.06375727 -0.12914641 0.7191558 -0.15711458 -0.02683602 -0.20407733 0.15054762 -0.15140146 -0.10950904 -0.09098345 -0.06667386 0.10942721 -0.008526232 -0.0950907 0.05506431 -0.07153556 0.009572398 -0.1867335 -0.020680936 0.07878298 -0.043847535 0.1516325 0.03412456 0.058090646 0.004705568 -0.03910131 -5.599401 -0.17840151 -0.27115893 -0.25221816 -0.19049881 -0.18625595 0.02366015 -0.12728617 0.043405436 -0.18476254 -0.12558144 -0.19970183 -0.108710706 -0.20347132 -0.22797945 -0.2697484 -0.03690544 -0.2075822 0.082908675 -0.003388137 -0.17914422 0.20813036 -0.04634868 0.13930756 -0.15337391 -0.2285262 0.07199935 -0.015875231 -0.0830349 -0.23181564 -0.06536574 -0.109413475 0.075745724 0.10612073 -0.023183713 -0.20606235 -0.08579228 -0.19446862 -0.28168273 -0.15506673 0.0021571745 -0.31023857 -0.48437715 0.037928484 0.002830821 -0.1240146 -0.06994936 0.015048599 -0.1519368 -0.026852554 -0.19114412 -0.08567003 0.13050298 -0.227859 0.016688108 -0.18883418 0.080419354 -0.21171689 0.003179753 1.012711 -0.19687487 -0.110801 -0.12529445 0.04680881 -0.085035175\n",
            "\n",
            "engineer -0.25849 -0.08762271 -0.4150563 -0.023166034 0.0698363 -0.15751392 -0.51027626 -0.116409205 -0.11263262 0.104456455 0.3818423 -0.08869336 0.014431042 0.05440885 -0.1926767 -0.12713784 -0.22799887 -0.09014783 0.03157963 -0.18324174 0.08269005 0.013906048 -0.19151106 0.0050362544 -0.01988652 0.09177805 -0.28078878 -0.26209474 -0.08237567 -0.2901065 -0.0008545867 0.058744777 -0.08844305 -0.26911718 -0.123576246 -0.1028684 20.212175 0.07149784 -0.031358965 -0.089139156 -0.094937325 0.030859442 -0.007875923 -0.37691754 -0.035963185 0.05366292 -0.073645495 -0.043483507 -0.3678291 -0.005776499 -0.11246329 0.11800311 -0.12894583 -0.107498586 0.036580537 -0.14961879 0.019192943 -0.088285945 -0.17579645 -0.03821346 0.08051077 0.0041039437 0.027762998 -0.023457764 -1.0412446 -0.09577878 -0.071867235 -0.13700026 -0.26345727 -0.07352397 -0.165603 -0.10816474 -0.22865668 -0.19763006 -0.092379615 -0.21447279 -0.16831894 -0.99407005 0.18509962 -0.1540955 -0.41908595 -0.07966584 0.075907454 -0.10353251 -0.07717062 0.11101725 0.113237426 -0.9905432 -0.093716994 -0.071669824 -0.024973376 -0.19944434 -0.355298 -0.06418459 -0.19905645 -0.108025275 -0.03602509 -0.06040057 0.0433759 0.3349726 -0.19354637 0.11412102 -0.12786381 -0.06083461 0.080177866 -0.103390165 -0.1711996 1.5466437 -0.11686927 -0.14755417 -0.10963781 0.1114854 -0.15197757 0.05739567 -0.0312096 0.0077298707 -0.026850838 0.08068763 -0.031316206 -0.16714351 -0.104347624 -0.012106414 -0.06995326 0.042168543 -0.09888268 -0.107537426 -0.050852764 -0.015961228 -0.24594982 0.085633315 0.01265788 0.02346042 0.15995781 -0.20049575 0.11328599 -0.1285606 -0.01737657 -0.1875845 0.72441983 0.068960235 -0.042282626 0.030614397 -0.7601141 -0.059931364 0.030921422 0.11324406 0.0579423 0.03733778 -0.0399671 -0.08125695 -0.20720099 -0.25318062 -0.019883037 0.025138004 -0.17435075 -0.053882837 -0.06755332 -0.12940495 0.07204637 -0.09985708 0.70333195 -0.012398128 -0.0051967204 -0.10966749 -0.2356742 -0.1071387 -0.045956183 0.11566047 -0.21338597 -0.16322172 -0.13145617 -0.086368985 -0.088985085 -0.0020048402 -0.11427018 -0.11752367 -0.29262015 -0.2715207 0.015168532 -0.068264335 -0.20460235 -0.04592125 0.09647054 -0.036147393 0.09343873 -0.13990447 -0.0038260366 -0.05109473 -0.05702187 0.06673486 -0.049385294 -0.1973812 -0.15971953 -0.18165176 -0.06873308 -0.22770527 -0.08187483 -0.025576914 -0.11913212 -0.324465 0.04906154 0.09150654 -0.09177643 -0.173517 0.006496066 -0.04295292 -0.18768474 -0.13784969 0.0033432213 0.024810355 0.014254627 0.08561264 -0.08120336 -0.4437239 -0.095974416 -0.11707235 -0.14292376 -0.16674377 -0.16024575 -0.021683326 0.044252846 -0.1049568 -0.14624088 -0.1451327 -0.13523905 -0.11601793 -0.13294609 -0.15251495 0.022584109 -0.09781627 0.21075125 -0.06481857 0.65490717 -0.08781008 -0.12383966 -0.19232279 -0.2379859 0.00049774343 -0.12296526 0.0067813057 -0.1229997 0.100279495 0.036996808 -0.09138394 0.013068365 0.08794569 -0.23472925 0.13100146 0.14498356 -0.20407562 -0.50072765 -0.09694234 -0.08666258 -0.110340215 -0.09575728 0.29395652 0.22064762 0.05495293 -0.06388169 -0.070488565 0.032530345 -0.11803547 -0.028228788 0.11788138 -0.14954777 -0.18760538 -0.9697443 -0.23199046 -0.08695305 0.17019641 -0.12553596 0.0904709 -0.06905121 0.16383033 -0.25825572 -0.14785007 -0.18412857 -0.16666986 -0.09790242 -0.047470223 -0.047712706 -0.07307186 -0.008789758 -0.13449268 -0.05535046 -0.09937317 -0.20214173 -0.15966442 -0.07450995 -0.05400204 -0.12241883 -0.06887267 -0.07984738 0.06655185 0.07234403 -0.15062255 -0.059098538 -0.27237758 -0.020406654 0.043157592 -0.16158494 0.054456737 0.0829334 -0.017921967 -0.16424027 -0.03607894 0.018785655 -0.1998058 -0.7156525 -0.10963162 0.031825278 -0.09694709 -0.005045081 -0.07396575 0.65147966 -0.082129985 -0.090455085 0.03935121 -0.09927144 0.14560409 -0.72007686 -0.21625727 -0.2259341 -0.12963198 0.033512287 0.009263944 -0.31723183 -0.0005098638 0.04517549 -0.22937092 -0.17992108 -0.04850447 0.07443255 -0.090102255 0.13913256 -0.30094814 -0.0016771232 -0.16557688 -0.08327811 -0.3119667 0.0036951338 0.02541434 -0.076941855 -0.19195032 -0.18115653 0.0016267479 0.025081163 -0.29617715 -0.030890994 0.032005847 -0.27657437 0.17825443 -0.0051778997 -0.08916779 -0.054460928 0.0049746544 -0.44341347 -0.0456844 -0.04394649 -0.14325824 -0.122930765 0.026156273 -0.3872698 -0.030923173 -0.10208963 -0.2663232 -0.15066639 -0.08087607 0.07275859 0.0027911991 0.18793571 -0.0560609 -0.07846717 -0.7283308 -6.882202 -0.23170882 -0.1592657 -0.16093285 -0.5263847 -0.029384097 -0.14764339 -0.10791778 -0.024059676 -0.108007856 -0.26315123 -0.20086557 0.11931639 0.02943212 0.050365113 -0.6053811 0.24058251 -0.040843777 0.07249066 -0.5234489 -0.107997715 -0.01796672 -0.2976762 -0.016127834 0.020631464 -0.02384184 -0.04436882 0.010060242 -0.14588402 0.10161175 -0.1094717 0.009414764 -0.119644664 -0.20653483 -0.07677937 0.03453374 -0.2483458 -0.13854359 -0.14263514 -0.17986064 -0.14555474 -0.17641398 -0.06058697 -0.150538 0.053590845 0.0120597035 -0.34135926 -0.35514623 -0.017828343 -0.13069265 -0.009731695 -0.026320385 -0.12028093 -0.027420068 -0.34025148 -0.2230525 34.355602 0.05941528 -0.07216313 0.07184864 -0.19069242 -0.032581966 -0.18214281 -0.066331476 -0.055348437 0.333109 -0.025957173 0.029741239 4.085475 -0.013404939 -0.00748033 0.06029042 -0.15467362 1.7012395 -0.012615352 0.02934297 -0.15045917 -0.06569287 0.11180195 -0.3064077 -0.07862207 0.09380187 -0.4215363 -0.092708915 -0.06664955 -0.0006307587 0.24429879 0.1637346 -0.12332188 -0.12209591 -0.24304546 -0.11441105 -0.05598184 -0.15147316 -0.12605833 -0.103294566 0.11874731 -0.096995324 -0.08419703 -0.10117078 0.012148285 -0.25156072 -0.040636607 -0.12937608 -0.18746777 -2.5405934 -0.8546732 0.68650323 -0.113758616 -0.12815471 0.014123511 -0.10821465 -0.06772498 -0.18052566 0.08552743 -0.21608737 0.104189046 -0.0046029654 -0.2332232 -0.08123217 -0.17525667 0.06899534 50.216385 -0.4151555 -0.08278154 -0.027437838 0.013757317 -0.18478006 -0.0054132924 -0.9764677 -0.13731417 -0.0155945895 0.010462861 0.024950672 -0.080972925 0.040028464 -0.010013309 -0.4447999 -0.18088949 -0.07602726 -0.12020333 -0.31151712 0.022602089 -0.1486993 -0.084601365 -0.19621512 -0.06502234 -0.1626617 -0.035658155 -0.074888855 -0.053703424 -0.36577517 -0.02455869 -0.11005331 -0.24933879 -0.046317756 -0.08387001 -0.13968578 -0.19052461 -0.002343791 -0.24514572 0.025661599 -0.022704255 -0.12419182 -0.24999176 -0.15329318 0.3770984 -0.12778099 -0.18306762 -0.39220205 -0.17192532 -0.1674253 -0.046866663 -0.12948225 -0.04225235 -0.24491645 -0.024660993 -0.06987142 -0.07938612 -0.14691487 -0.8512047 0.07110412 0.07547025 0.05466241 -0.17153943 -0.33909664 -0.24418433 -0.07874976 -0.15206032 -0.058305778 -0.058821823 0.005053089 0.15038107 -0.13446735 -0.050589763 -0.21512978 -0.038090304 -0.049467884 -0.11958746 -0.22433312 -0.16876009 0.09326082 0.100752614 -0.042061515 -0.32591072 0.10352056 0.049923256 -0.060359154 0.20252788 -0.11006609 -0.04291307 -0.087910615 0.016386298 -0.16317114 0.1138711 0.0712878 0.1047565 -0.09416476 -0.002019236 -0.09933147 0.028984023 -0.1324781 -0.14727993 0.10210131 -0.10447444 0.018705169 0.0134915495 -0.17120588 -0.18505709 -0.06612392 -0.012438211 -0.013892001 -0.047510203 -0.028358407 -0.24765901 0.040581334 -0.14725478 -0.0641006 -0.037006415 -0.053919423 -0.25686073 -0.07802352 -0.13779564 -0.17358826 -0.20314251 -0.15927058 0.02695417 -0.11035866 0.056493096 0.034340814 0.053953677 0.01942232 -0.14501676 -1.166106 -0.010192295 -0.1544716 0.072357886 -0.2127846 -0.0077576037 -0.13089171 -0.021313502 -0.30883726 -0.32627642 0.0356116 -0.20775355 0.079600446 -0.20842667 -0.029515892 -0.48592365 -0.17329822 0.0726287 0.016694307 -0.27642983 -0.037092708 0.036360674 -0.026679872 -0.020195631 0.12558848 0.12034502 -0.15282907 0.019859299 -0.16315895 0.13700293 0.11973579 -0.104222864 0.40340996 -0.0346129 -0.040739104 -0.04917894 0.042849194 -0.095553525 -0.08472348 -0.13780269 -0.3810382 0.19807407 -0.1278659 -0.12240913 -0.1473488 -0.08498723 0.07852877 -0.6466939 -0.0470415 -0.17576464 -0.07413097 -0.10426158 0.2834034 -0.19509879 0.024875026 -0.13569011 0.012130483 -0.08370413 0.073979765 -0.03082722 -0.073469035 0.051798657 0.055335864 -0.06027714 0.0431155 -0.116562575 0.040332723 -0.087409474 -0.020821596 0.08143542 -0.10433683 0.028696174 0.0023733994 -0.017749297 0.13191359 -0.12679607 -4.680391 -0.16646694 -0.21192823 -0.19824077 -0.2038085 -0.263227 -0.046440113 -0.24435464 -0.024216102 -0.20678921 -0.20069318 -0.20271578 -0.053870723 -0.13322279 -0.19164538 -0.35859668 -0.046773273 -0.18833679 0.13185176 -0.08687943 -0.16758695 0.21737951 -0.062817566 -0.04852659 -0.18113884 -0.08796961 0.06744851 -0.013711673 -0.05169017 -0.24435602 -0.038028695 -0.10292858 0.08944307 0.031273108 -0.049560755 -0.19465597 -0.20866364 -0.23109357 -0.18670142 -0.12170873 -0.035682406 -0.35095072 -0.4219883 -0.022678746 0.017755194 -0.084973216 -0.08266355 0.007976052 -0.116893515 -0.050816506 -0.21099325 -0.011880065 0.13819684 -0.14828984 -0.117459744 -0.13646282 0.034450978 -0.19120497 -0.007952427 0.75083107 -0.18834378 -0.08874071 -0.058916006 0.037716936 -0.06690433\n",
            "\n",
            "nurse -0.09348772 -0.06320365 -0.4155767 0.00085120474 0.06285142 -0.11692149 0.09362288 0.088556804 -0.23691434 0.025786921 0.23813908 -0.06310188 0.015254315 -0.002529739 -0.063233435 -0.07362464 -0.27192178 -0.0767024 0.13916913 -0.19595616 0.11311239 -0.116010636 -0.2191238 0.09462533 -0.030740822 0.07711559 -0.288431 -0.1446444 -0.021185152 -0.29396462 0.02850439 0.03725953 -0.14454387 -0.31252825 -0.057775524 0.04551186 22.763004 -0.036233526 -0.0033035432 0.056295507 -0.06978448 -0.007796555 -0.064172804 -0.28336844 -0.056804035 -0.08986628 -0.04294666 0.080221586 -0.26948914 0.007142728 -0.10266672 0.085961595 -0.03309047 -0.114064164 -0.06681059 0.09769633 0.08234911 -0.1891865 -0.096505456 -0.25345543 0.050787937 0.0324343 -0.0920682 -0.079079494 -1.0447794 -0.041188624 -0.1372294 -0.0842659 -0.1734469 -0.18828972 -0.13352272 -0.13404699 -0.1213588 -0.13919935 -0.00059991586 -0.30542436 -0.2009899 -1.8955841 0.15810785 -0.13842931 -0.30627558 -0.11293537 -0.058025915 -0.28544942 -0.10502333 0.18975347 -0.08621658 -0.9925316 0.034753855 -0.12508556 -0.095864326 -0.16336362 -0.30306634 0.03366153 -0.2546164 -0.09873252 -0.047229584 -0.062664434 0.005579315 0.17338084 -0.07305672 0.08052991 -0.12281854 0.004371581 0.040648226 -0.1044749 -0.18945648 2.666686 0.03910938 -0.1229864 -0.178931 0.05199429 -0.08817536 -0.096939944 0.00042205583 -0.0017063802 -0.017959263 0.026360065 0.023457713 -0.0689762 -0.1940009 -0.012044478 -0.055023603 0.045477077 -0.15947701 -0.09009579 -0.007635288 0.09944517 -0.12396543 -0.09060236 0.0150068 0.034021758 0.02464039 -0.12985434 0.0037102234 -0.09012216 -0.056788333 0.057115145 0.677727 0.09023301 -0.10296513 -0.0011453809 -0.3399646 -0.058992557 -0.014475973 0.18179908 0.0055010603 -0.0495015 0.033244517 -0.27265897 -0.08909782 -0.18675338 -0.1255662 0.06073423 -0.039243996 0.013453414 0.0039406302 -0.20137824 0.026506178 -0.046630174 -0.06623163 -0.07265932 0.058070023 0.018838955 -0.2469521 -0.05099951 -0.13571393 -0.8675125 -0.14316149 -0.1996949 -0.15974352 -0.06789436 -0.044890944 0.07542105 -0.058127034 -0.28664878 -0.17112367 -0.2117798 0.0052339113 0.004602954 -0.20967017 -0.036447715 0.099464916 0.003280816 -0.0027067515 -0.12886113 0.007896567 0.0214146 -0.021625238 0.07035127 -0.21550375 -0.14613232 -0.15357704 -0.07040923 -0.09707816 -0.057263773 -0.013580015 -0.13341595 -0.07400267 -0.33576158 -0.12487217 0.005485807 -0.10838561 -0.1960265 -0.006120741 -0.08487049 -0.11924641 -0.10632208 -0.01703594 -0.06849655 0.0395589 -0.017841723 -0.06707973 -0.020870598 -0.10021165 -0.0819514 -0.15256856 -0.1809364 -0.14878613 -0.0323463 -0.053195916 -0.051860727 -0.086966835 0.008970509 -0.13813622 -0.108501345 -0.023963552 -0.024154732 0.09210716 -0.09337084 0.06722578 0.06922502 1.5165306 -0.10475185 -0.099993445 -0.20563903 -0.20341605 -0.015189549 -0.030337445 -0.06744005 -0.11748772 0.053214647 -0.06930021 -0.06392387 0.08457705 0.10793825 -0.24250056 0.13438791 0.050112963 -0.2837818 -0.29714507 -0.2040084 -0.0134119475 -0.03416466 -0.06990689 0.19418846 0.06659154 0.04223772 -0.09352878 -0.020586679 0.017944792 -0.041611265 -0.09706492 0.019943153 -0.13392738 -0.14729075 -0.9729408 -0.16447864 -0.21300673 0.112860784 -0.5877958 -0.00504082 -0.10341601 0.061345395 -0.11890627 -0.2146329 0.03731975 -0.13090606 -0.10423517 -0.039217673 -0.06655321 -0.08831167 0.08945908 -0.0016708714 0.13747251 -0.05709729 -0.1579657 -0.15484723 -0.29064664 -0.14162244 -0.06115873 -0.12756641 0.03909878 0.07112469 0.10802131 -0.08434581 -0.06306715 -0.20421998 -0.08231618 -0.062303223 -0.034735393 -0.09551439 0.087539226 0.03137125 -0.1318242 -0.03942305 0.07018235 -0.16901273 -0.45064285 -0.05132061 -0.027869983 0.18377832 0.07288822 -0.19076699 2.0138843 -0.08865145 -0.095860995 0.0046855584 -0.010404628 0.09386799 -0.4455898 -0.21370801 -0.24252762 -0.08694258 -0.020481471 -0.030081341 -0.25482693 -0.087183364 -0.047916166 -0.20971666 -0.13768826 -0.0787426 0.052775018 -0.15049239 0.077742875 -0.35004783 0.20083924 -0.08352582 -0.047896333 -0.07814872 -0.10034859 -0.021903755 -0.13646969 -0.10597895 -0.17042582 -0.013651173 -0.07287781 -0.35870612 -0.056533378 0.03320929 -0.066157006 0.11701931 0.13128829 -0.22537574 -0.07663045 -0.103457965 -0.40194234 -0.010116835 -0.084996514 -0.062474653 -0.20671177 -0.24316901 -0.46133357 -0.120581724 -0.07967442 -0.6210533 -0.13252725 0.022729872 -0.0054449467 0.08461062 0.105372 -0.15922852 -0.019397084 -0.7479735 -6.548722 -0.18543348 -0.16007595 0.14641732 -0.51992655 -0.051317625 0.0014456714 -0.18335041 -0.114499494 -0.057895944 -0.3427698 -0.061409608 0.1689939 -0.0071145 0.048525613 -0.30365163 0.057299633 -0.016078837 0.073088855 -0.4349186 -0.15094174 0.021914141 -0.32877967 -0.041053455 -0.00036600014 -0.07200616 -0.02169717 -0.10129394 0.06892229 0.00086099614 -0.1949499 -0.06134572 -0.06501308 -0.21999414 -0.44096327 0.05283186 -0.20905198 -0.0073036817 -0.06829827 -0.17193174 -0.03451461 -0.21346201 -0.022174107 -0.17288391 -0.10369596 0.02005607 -0.32788235 -0.11748008 -0.0030707577 -0.035519954 -0.09721866 -0.037873037 -0.10307603 -0.019176228 0.002783959 -0.15039451 38.23084 0.040745784 0.086340256 -0.13572086 -0.10067901 -0.028798562 -0.15819241 -0.02471963 0.07375294 0.27836886 -0.002875848 -0.008817392 3.9876184 -0.024474243 -0.1826418 0.03314243 -0.041702412 1.7028906 -0.04539686 0.010451353 -0.17507271 -0.05632267 0.09172624 -0.37842092 -0.18198286 0.005012054 -0.13939604 -0.04867041 -0.026177937 0.004480888 0.13617988 -0.056040723 -0.1432928 -0.19464467 -0.16270994 -0.2094672 -0.037451643 -0.12358326 -0.19007044 -0.084715426 0.11596199 0.022496188 -0.12430946 0.04020389 -0.017254561 -0.11921414 -0.021197814 -0.15715295 -0.15731391 -3.547166 -0.85698223 0.6999375 -0.10646505 -0.11209301 0.15928538 -0.134527 -0.09658582 -0.060852207 0.06312363 -0.026750816 0.07430492 -0.08142589 -0.27443707 -0.095103964 -0.24578801 -0.06282637 55.569157 -0.29663354 -0.04183694 -0.029231114 -0.015276242 -0.13557443 -0.057326652 -0.8270979 -0.11447504 -0.064432554 0.049349077 0.0766911 0.06598707 0.14099956 -0.040485725 -0.3413357 -0.08291095 -0.18294935 -0.22482727 -0.23939934 -0.012747508 -0.16349404 -0.06933928 -0.10016935 -0.08572357 -0.1466518 0.046781845 -0.09654051 -0.19367032 -0.27222925 -0.04052046 -0.4791367 -0.19700837 -0.039591316 -0.062311966 -0.12944849 -0.14825296 0.01688484 -0.091649495 0.1430786 0.030592823 -0.23065987 -0.07347979 -0.04341471 0.3704299 -0.21298127 -0.1782 -0.4850665 -0.09710752 -0.002888176 -0.08677284 -0.11611899 -0.10252826 -0.41775125 0.039276898 -0.034760203 -0.10697162 -0.26244387 -0.5884675 -0.0665055 0.14041673 0.031015996 -0.098948136 -0.24524538 -0.22499171 -0.02768786 -0.15622064 -0.019522855 -0.110259466 0.051367342 -0.11874685 -0.2152364 0.089751676 -0.11419003 -0.09050975 -0.038784817 -0.06139691 -0.19053571 -0.09617117 -0.13352346 0.037357334 -0.093024775 -0.0632452 0.090559356 -0.0007813571 0.09115497 0.10905518 -0.079876624 -0.12641191 -0.047035683 -0.0014174595 -0.18524887 0.0251591 0.018404277 0.18146747 -0.039099462 -0.08745134 -0.0008625108 -0.059215523 -0.10996014 -0.10413547 -0.024202289 -0.0604891 -0.065073244 -0.13740768 -0.104571395 -0.2811759 -0.019073384 0.01846918 -0.0743667 -0.08435941 -0.101205334 -0.31615394 -0.012623214 -0.09091183 -0.19364275 0.022082696 -0.029927054 -0.20990455 -0.13763224 -0.090488195 -0.14979947 -0.0080148615 -0.07130873 0.07858853 -0.085750565 0.06617733 -0.17671989 -0.08697072 -0.033451624 -0.17305477 -0.78775024 0.023930833 -0.17723683 0.03310139 -0.19746627 -0.04991174 -0.05159275 -0.011390227 -0.903216 -0.40530583 0.06747177 -0.25361863 0.039605886 -0.20933673 -0.14549553 -0.1049426 -0.07065704 -0.026557382 0.041926704 -0.36236358 -0.20217797 0.09039092 0.07439872 -0.12532558 -0.018653318 0.004568373 -0.21489899 -0.070311874 0.025964135 0.010884038 0.11910567 -0.14949726 0.8911636 0.013823646 -0.0649922 -0.21994539 -0.03496372 -0.0024145038 -0.12297897 -0.16510884 -0.17559613 -0.019990215 -0.03367489 0.018719837 -0.15908736 -0.11957206 0.08825018 -0.56127137 -0.045328945 -0.19529758 -0.08255151 -0.066224 -0.1198523 -0.16202138 0.025981272 -0.23409215 0.107614234 -0.0573811 -0.014685519 -0.1764918 -0.0407193 0.101490736 -0.09585466 -0.1168461 0.007704049 -0.056370925 0.0076728 -0.13470061 -0.07381918 0.05488273 0.019180033 0.04154595 -0.10881183 -0.046742395 0.23607752 0.011135393 -8.075251 -0.19214351 -0.18649428 -0.16003016 -0.1531922 -0.17785974 -0.04045457 -0.11790735 -0.049101412 -0.14516775 -0.0899048 -0.2302406 -0.17246611 -0.15770389 -0.28528166 0.09881384 0.010399822 -0.2399716 -0.07917469 -0.06547881 -0.12390001 0.3231957 0.08111274 0.068840854 -0.29495317 -0.15640071 0.031068325 -0.0635056 -0.007550876 -0.14851342 0.049359996 -0.07378446 0.042000256 0.054477196 -0.036363628 -0.10740034 -0.47779754 -0.07059753 -0.094945 -0.1655374 -0.0040591466 -0.2196968 -0.39423722 0.09890289 0.029321782 -0.050748445 -0.120656945 -0.020228358 -0.046137262 -0.06998827 -0.093850985 0.039280243 -0.025379391 -0.12801687 0.03656044 -0.17125995 0.08594401 -0.24985035 -0.043961782 0.40224552 -0.14025682 -0.07860992 -0.1530325 0.010659724 0.007951514\n",
            "\n",
            "teacher -0.055594124 -0.10788154 -0.17749597 -0.034151204 0.009782737 -0.19213931 0.14005354 -0.051451463 -0.25001112 0.025042167 0.34655327 -0.023459665 -0.05180349 0.026152631 -0.02458366 -0.09596946 -0.17480841 -0.1680993 0.052739143 -0.3699584 0.16276647 -0.1702529 -0.26061863 0.09653375 -0.045593996 0.12333268 -0.3749677 -0.23841438 -0.032569446 -0.24431644 -0.01232604 -0.033303246 -0.07323384 -0.19291963 -0.029515354 -0.030862471 20.90069 -0.032586623 -0.047188606 -0.10128445 -0.0709765 0.01395484 0.060909115 -0.30491126 -0.0930231 -0.024186844 -0.0838943 -0.01801246 -0.35600302 -0.04394158 -0.07807471 0.13537236 -0.0858319 -0.13267657 -0.0010145832 0.24088036 0.008822892 -0.26449966 -0.11495036 -0.026041709 0.10457105 -0.08131335 0.10163979 -0.106143974 -1.0436397 -0.05591816 -0.055622734 -0.12503242 -0.32361412 -0.054659337 -0.061325952 -0.2766435 -0.110064484 -0.08809942 -0.07349379 -0.24537595 -0.20380968 -1.4507048 0.12171258 -0.038163297 -0.25773773 -0.02065774 0.008923858 -0.33366328 -0.019397074 0.0780107 -0.28503564 -0.99183047 -0.1491698 -0.0636269 -0.090229176 -0.266744 -0.2988797 0.02114321 -0.18641675 -0.15764488 -0.029167335 -0.0086167045 0.07106608 0.20315686 -0.041448776 0.07371028 0.10652659 -0.09527175 0.061523836 -0.14749971 -0.2198244 2.3362002 0.033929277 -0.10741875 -0.051499397 0.06103952 -0.19630556 0.0073501836 0.013102037 0.0068073487 -0.009704455 -0.028252961 -0.043669473 -0.12210872 -0.079720564 0.020298546 -0.057132076 -0.07573701 -0.23779753 -0.034366988 -0.042201083 0.038921878 -0.36315843 -0.054747198 -0.00083485106 0.02663729 0.02157659 -0.10263129 -0.017770154 -0.10288477 0.011803947 -0.19829881 0.7230201 0.15617138 -0.108800195 0.037965585 -0.3610344 -0.031337712 0.012809409 0.23011835 0.030700462 -0.0520276 0.018925058 -0.14522442 -0.2290779 -0.1561888 -0.05816036 0.015506084 -0.11417877 0.045823883 0.0010551915 -0.14724723 0.031414535 -0.0924949 0.4027637 -0.070957094 0.082287565 -0.101392195 -0.1127447 -0.03138689 -0.12736556 -0.82981116 -0.1730575 -0.1377118 -0.107459284 -0.053210776 -0.08618283 0.14815658 -0.1590435 -0.18813628 -0.16354185 -0.21992168 -0.01866915 -0.017319987 -0.09825878 -0.12802671 -0.008724815 -0.036989238 -0.00902353 -0.1613424 -0.09959447 0.019037504 0.03766837 0.012145825 -0.060074653 -0.13070062 -0.20038852 -0.0024327524 -0.09834084 -0.3098271 -0.022620358 -0.20387952 -0.122303665 -0.3361161 -0.045870893 0.08541295 -0.10461676 -0.16219841 -0.08431262 -0.0021490033 -0.13184807 -0.06906112 -0.068514824 0.036712535 0.008097247 0.03616072 -0.040262852 -0.22778426 -0.10637968 -0.055422246 -0.03372704 -0.12125215 -0.109039895 -0.08576804 -0.07151328 -0.09876157 -0.04702483 -0.114240184 0.031501465 -0.11617418 -0.08636122 -0.10895075 -0.00844075 -0.095832504 0.1678709 0.07986635 1.91859 -0.09862395 -0.11987082 -0.007379276 -0.020590106 -0.09574089 -0.077322334 0.034737978 -0.033874806 0.1423534 -0.019555 0.0009228168 0.031530075 0.025726499 -0.1805688 0.05026331 0.07942375 -0.26073042 -0.36393106 -0.16514973 -0.0017998962 -0.19527255 -0.15097778 0.15222903 0.006098213 0.08753277 -0.080402516 -0.10823389 0.017084312 -0.056384463 0.005506373 0.12276827 -0.103863955 -0.114303276 -0.97166187 -0.2123026 -0.18350011 1.7604467e-05 -0.6132607 0.10172051 -0.04982477 0.032243066 -0.28414643 -0.120555624 -0.03691514 -0.16050906 -0.110779285 -0.027360525 -0.09780817 -0.06119019 0.055003922 0.08438278 0.05227884 -0.2382764 -0.13848366 -0.11888683 -0.27564573 -0.13909413 -0.071006976 0.052827846 -0.08210144 0.049229186 0.13804848 -0.1682504 -0.08561498 -0.1777032 -0.07900844 -0.056700062 -0.07338361 -0.01735429 -0.030498676 -0.08895644 -0.12915023 -0.0757272 0.118482724 -0.16101667 -0.8177836 -0.07792128 -0.08540114 -0.14543052 -0.05783835 -0.14431216 0.22375566 -0.10960327 -0.018086495 0.0570745 -0.009656791 0.05879741 -0.29166186 -0.20976454 -0.17860529 -0.06547968 0.058829896 -0.02634169 -0.30352372 -0.09285197 0.011296396 -0.14215636 -0.15886638 -0.038040042 0.06734517 -0.1043028 0.13324828 -0.31536728 -0.0085159205 -0.105843976 -0.07410823 -0.02955617 -0.015283929 -0.012302515 -0.12035297 -0.047536217 -0.16091044 -0.069278985 -0.13175285 -0.3519663 -0.022175746 0.030259898 -0.14178956 0.13166142 -0.0024651156 -0.16350499 -0.044073105 -0.12270726 -0.3471021 0.010081417 -0.082567394 -0.16281995 -0.106844075 -0.18167174 -0.33004427 -0.121822916 -0.16060847 -0.69258845 0.04905154 -0.019660743 0.046361677 0.017496524 0.04527658 -0.10508494 0.02220343 -0.7447381 -6.48942 -0.3190897 -0.18139999 0.18085347 -0.73004985 0.053205557 -0.064642824 -0.15282293 -0.06579267 0.035854112 -0.22346388 -0.11411026 0.18578774 0.013363318 0.025204122 0.07415637 0.15617672 -0.040691953 0.061915357 -0.5417283 -0.03382643 -0.045954272 -0.2996873 -0.108458616 0.022706518 -0.004253162 -0.02839951 -0.10118528 -0.05546248 0.03957146 -0.1113082 0.05019989 -0.07818094 -0.25569716 -0.25837442 -0.0061324327 -0.17061476 -0.030591771 -0.22045696 -0.13924702 -0.005105179 -0.12047019 -0.05783875 -0.14413598 -0.046852756 -0.0022960377 -0.15728025 -0.21991485 -0.07284324 -0.14893714 -0.0056070974 0.01389442 -0.15376279 -0.09698371 -0.122234315 -0.2091107 35.785538 -0.015541561 -0.016317045 -0.09895359 -0.1656077 -0.047282036 -0.16030245 -0.04475704 -0.015433605 0.3413015 -0.022000726 -0.04096432 3.6205082 0.022458626 -0.10562422 0.04137966 -0.10975894 1.7034357 -0.10332614 0.072553925 -0.21328065 -0.01911413 0.05687972 -0.421869 -0.14423499 -0.111655146 -0.3563492 -0.053716924 -0.047373727 -0.16636395 0.21490611 0.033468816 -0.014616069 -0.18444362 -0.14374274 -0.23875077 -0.08531556 -0.17788865 -0.059609022 -0.046137087 0.04903693 -0.10384204 -0.14490256 0.040592484 -0.010922423 -0.12715323 0.04164361 -0.16398603 -0.17315969 -3.068988 -0.85620224 0.6971769 -0.14623544 -0.13726328 -0.040283065 -0.10900151 -0.06828706 -0.15819275 -0.009080577 -0.15258612 0.094682194 -0.07659043 -0.08882461 -0.07507469 -0.18738237 -0.04422482 52.30529 -0.34651485 -0.038393665 -0.023905776 -0.0063762735 -0.1792892 0.06392111 -0.8814407 -0.087827876 -0.11529721 0.06345131 0.09130259 0.03412999 0.0786823 -0.06925626 -0.17314781 0.01702901 -0.15294889 -0.07580006 -0.34115952 -0.06469243 -0.02085769 -0.14373222 -0.11967963 -0.105034776 -0.15503353 -0.05261356 -0.068872616 -0.07129617 -0.29350525 -0.065769196 -0.13941075 -0.23609547 -0.07797933 -0.16621804 -0.074399285 -0.08101923 -0.0103544295 -0.15267755 -0.0065105795 -0.005845172 -0.1370841 -0.046392225 -0.12079523 0.30068773 -0.1001829 -0.1128701 -0.22876869 -0.08986235 -0.027415017 -0.06390331 -0.17796235 -0.12403792 -0.21137604 0.015809914 -0.2212351 -0.107397914 -0.28907046 -0.61963534 0.043597225 0.004521663 0.03814211 -0.14348686 -0.16930242 -0.12870713 -0.08386824 -0.15503232 0.020071331 -0.04963442 -0.07737743 0.083205685 -0.19792043 -0.051790632 -0.17887631 -0.1371902 -0.016220681 0.018678553 -0.13329782 -0.060633518 -0.06514708 0.008794633 -0.009104791 -0.38370094 0.1122228 -0.035149656 -0.026866458 0.10889355 0.04626006 -0.06347835 -0.121182345 -0.022863926 -0.16960534 0.056639086 0.12638481 0.07552483 -0.082361326 -0.030276407 -0.0584909 -0.013490991 -0.1419486 -0.0961166 0.0403178 -0.0026959996 -0.04257005 -0.13770342 -0.11039655 -0.24701373 0.0013568955 0.047718927 -0.0408546 -0.08479808 -0.06957609 -0.3315309 -0.081334576 -0.12940715 0.06649621 -0.11924931 -0.06276446 -0.23620251 -0.046400417 -0.15560931 -0.110843785 -0.06316779 -0.18102583 0.0034597665 -0.04473468 0.009827355 -0.18347162 -0.06702921 -0.033838615 -0.12071891 -0.0966519 -0.05679544 -0.18873566 0.06908832 -0.08599137 -0.00067318964 -0.04717564 -0.009680293 -0.8735701 -0.21810536 -0.026303386 -0.16710022 0.073469035 -0.27305666 -0.1396778 -0.21458106 -0.13842458 0.0364586 -0.039857883 -0.24158685 -0.06748077 0.03881219 0.09275695 -0.050850473 -0.11511624 0.077138886 -0.10477998 0.02028398 -0.17878716 0.050374303 0.010146602 -0.1427962 0.6696909 -0.085684165 -0.00898818 -0.15872107 -0.07228173 -0.012199277 -0.11378866 -0.21933514 -0.18612292 -0.033620764 -0.1218129 -0.05361685 -0.045983434 -0.10971607 0.06576043 -0.673682 -0.019712895 -0.13966031 -0.1449385 0.0026350715 -0.12678862 -0.25349712 -0.031567525 -0.090756886 0.078589156 -0.162179 -0.013370649 -0.072375454 -0.091401644 0.04811214 -0.008173841 0.033318732 0.046601947 0.030579679 -0.018439082 -0.11736495 -0.06457155 0.11118729 -0.069853865 -0.056022014 -0.051368035 -0.08663534 0.074226096 -0.01740088 -6.7659 -0.09691056 -0.1794117 -0.19520205 -0.20478518 -0.2588517 0.0029170422 -0.08720314 -0.066963606 -0.22538011 -0.039861698 -0.124771416 -0.05685238 -0.11087349 -0.22727898 -0.169788 -0.04471471 -0.11653868 0.006072028 -0.02213154 -0.19075833 0.18619752 -0.12889175 0.28785414 -0.16404572 -0.12209515 0.024727281 0.044323348 -0.06862359 -0.20388097 0.017489154 -0.05831819 -0.0033237177 0.044437118 -0.06168167 -0.09998675 -0.2525963 -0.113169916 -0.15976205 -0.24103919 -0.15448645 -0.34114516 -0.39414683 -0.1260297 -0.0890224 -0.17918962 -0.11472283 -0.056495007 -0.08154008 -0.0054540453 -0.16301654 -0.0669814 -0.0016967711 -0.18195637 -0.07435678 -0.08012771 0.14003198 -0.22333655 0.033460725 0.80569667 -0.09170951 -0.10454021 -0.1537382 -0.0031959985 -0.05858011\n",
            "\n",
            "accountant -0.064849965 0.052681718 -0.5558398 0.05055561 -0.021413915 -0.14085393 -0.25398523 0.078669414 -0.09400634 -0.031318083 0.27961242 -0.040467087 -0.055551518 0.044452764 -0.34523907 -0.06750443 -0.27927017 -0.17269765 -0.059171196 -0.14016888 0.19408013 -0.07681342 -0.23969074 0.13491604 -0.14338882 0.17190413 -0.3270005 -0.1584501 -0.07967206 -0.34832868 -0.028441194 0.08410326 -0.052883644 -0.29745233 -0.098565124 0.16372885 20.48995 0.00070210226 -0.072471075 0.004798018 0.036699936 -0.03914636 -0.087016456 -0.3715886 -0.03449347 -0.009535969 -0.042658005 -0.06791791 -0.23992072 0.06996444 -0.08227665 0.16377716 -0.3100282 -0.09647337 0.03674819 -0.018785648 0.003123297 -0.26254627 -0.11616775 -0.13002312 0.14802709 0.15972829 -0.16380455 0.081783846 -1.036904 -0.1255842 -0.07149896 -0.1936769 0.045780446 -0.16858208 -0.19501504 -0.23606785 -0.1154399 -0.21307692 -0.12128174 -0.4318236 -0.4003731 -1.4343517 0.049518313 -0.02497521 -0.46036395 -0.09595454 0.01738174 -0.33365333 -0.11259614 0.1508233 -0.06732884 -0.98798525 -0.08535485 -0.08518415 -0.06511948 -0.22353935 -0.120539576 -0.09475807 -0.16357425 -0.15020369 0.11589854 0.057400536 -0.051738936 -0.0059458856 0.02472578 0.15726228 0.084054746 -0.054637533 0.108736485 -0.136688 -0.123809315 2.12489 -0.11616793 -0.14522703 -0.15261161 0.03412551 -0.16211392 -0.04642136 -0.032545123 0.042560995 0.024065845 0.047808554 -0.037754416 -0.28088498 -0.04038083 0.082375534 -0.02768804 -0.043015994 -0.16886304 -0.084961906 -0.0037301409 -0.012953086 -0.16074471 0.016750757 0.022001993 -0.016065327 0.1179271 -0.1610582 0.03248498 -0.033190716 0.120443396 -0.41860944 0.7185566 0.063932426 -0.101916045 0.08372792 -0.9353797 -0.051476363 0.04384673 -0.09056414 0.057040818 -0.0764641 -0.1370572 -0.18051025 -0.08651404 -0.09648019 0.09507498 -0.08048682 -0.2046332 0.03882329 -0.0012414446 -0.16929409 0.13533758 -0.042616066 0.38651538 -0.1838701 0.096326515 -0.0655495 -0.18495516 -0.13306862 -0.0902616 0.06731534 -0.19270205 -0.20160095 -0.18068784 -0.14227445 -0.117521815 0.116137594 0.0197056 -0.09841219 -0.20812066 -0.29487315 -0.08836225 0.029314201 -0.27538934 0.019041257 0.11701072 0.145515 -0.038954902 -0.13916904 -0.057781033 -0.0811165 -0.012967595 0.0062543326 -0.07528335 -0.017680483 -0.18786912 -0.21588913 -0.22594443 -0.068697795 -0.01757838 -0.0777817 -0.20576438 -0.38067025 -0.08456377 -0.0011204091 -0.12497514 -0.25458193 -0.01663209 0.018150002 -0.28011206 -0.094673045 -0.076319195 0.029690135 0.06691195 0.089385 -0.07791586 0.02751352 0.006551208 -0.16760327 -0.14775631 -0.16217257 -0.18523528 -0.020537635 0.064560056 -0.13418037 -0.055666015 -0.03278691 -0.069627896 -0.22117269 -0.0836539 -0.102057286 0.15839185 -0.10471957 0.24346466 -0.19418633 1.3966112 -0.09755842 -0.220318 -0.12680405 -0.20116578 -0.07940421 -0.08338299 0.009549111 0.095897146 0.18529712 -0.037453342 -0.09555041 0.013413495 0.19919758 -0.19642974 0.15397052 0.0914146 -0.24247645 -0.5218583 -0.1704734 -0.054844234 0.11458461 -0.14016464 0.5860815 0.11110392 0.18772824 -0.045776736 0.014433741 -0.029928112 0.006363091 -0.05224861 0.043816358 0.0005972355 -0.23875883 -0.9655699 -0.3205718 -0.11322482 -0.06944665 -0.2351707 1.1438314 -0.0030305644 0.1461743 -0.042117983 -0.18428338 -0.32647023 -0.16168556 -0.18092477 -0.06839883 -0.05825375 -0.16051069 -0.0069051613 0.09665503 0.07567631 -0.0476747 -0.21910813 -0.181599 0.049441773 -0.09809634 0.0258304 -0.09875493 0.07517402 0.052103743 0.08334325 -0.18424381 -0.10073254 -0.16069129 0.029592602 -0.01544249 -0.078127086 0.14657845 -0.109881446 0.060392503 -0.110431395 -0.030643204 0.015568543 -0.19525921 -0.9605063 -0.067445286 0.019398324 0.122095235 0.120301686 -0.1912966 1.2963618 -0.19425103 -0.16117616 0.03629326 -0.07988991 0.09881312 -0.6336919 -0.18667394 -0.208156 -0.11179138 0.061398756 0.0042199604 -0.32287586 0.013852358 0.017079659 -0.2666987 -0.30382758 -0.14834602 -0.020062773 -0.20839891 0.2104699 -0.23893586 -0.03880241 -0.19849567 -0.14189617 -0.2416131 0.05392753 -0.052169487 -0.07895177 -0.21281816 -0.1010971 0.14838365 0.022998294 -0.32016227 0.006430221 0.05299937 -0.20869756 0.18377084 0.06264488 -0.13720395 -0.1608414 -0.09182506 -0.48248458 -0.023669278 -0.07927133 -0.124010034 -0.092875205 -0.33931065 -0.42420855 -0.09878562 -0.08276873 -0.25485846 -0.110099465 -0.01203642 -0.013211347 -0.0035772023 0.34741366 -0.11640713 -0.08618937 -0.70284057 -7.8790298 -0.12622148 -0.068525985 -0.107252315 -0.5845772 0.09805597 -0.034200143 -0.07267208 -0.011876112 -0.11579961 -0.21157685 -0.15132976 0.14124659 -0.060515136 0.049779363 -0.7275836 0.26041302 0.007779822 0.109742895 -0.56756103 -0.2940554 -0.022543017 -0.31278604 -0.040479228 0.036461834 -0.049152747 0.05039132 -0.116748005 0.0553912 0.0074574216 -0.109159485 -0.015412875 -0.17945375 -0.18337202 0.2305242 0.032674573 -0.39201596 0.0014656743 -0.1506516 -0.15828677 -0.12202131 -0.039339367 -0.001868288 -0.22669274 -0.080839776 0.064422816 -0.29029012 -0.37514874 -0.05615978 -0.104023084 -0.014333478 -0.048208483 -0.11454883 -0.09511888 -0.20156118 -0.23041154 37.36019 0.020053692 -0.029244324 0.022645462 -0.20642139 0.04310353 -0.11266316 0.026423153 0.026085796 0.33089843 -0.1625061 0.03951516 4.4286385 -0.028217888 -0.03123349 -0.1578561 -0.19935437 1.6936172 -0.033952825 0.07825498 -0.028052682 -0.028792396 0.09710954 -0.4879101 -0.08508219 0.2844481 -0.15518261 -0.043489236 -0.031520538 -0.2717211 0.24061729 0.13605799 -0.043966133 -0.12564044 -0.15367594 -0.28236607 0.07429084 -0.3102495 -0.16100566 0.068409 0.12371329 -0.14124805 -0.13955918 -0.05045839 -0.015178077 -0.27123746 -0.10933222 -0.20625342 -0.23513323 -3.610215 -0.85140616 0.6638142 -0.10766394 -0.12182024 0.11391506 -0.12786697 -0.16340971 -0.14745302 0.093822375 -0.16838104 0.07518115 -0.16216283 -0.23687078 -0.088888854 -0.25578812 0.12806036 44.974865 -0.27174667 -0.013896884 0.044220768 0.073798925 -0.0970372 -0.11409567 -0.40433884 -0.006306539 -0.03896499 0.09288268 -0.01867067 0.10215298 0.16776346 -0.026294444 -0.42915857 -0.13740069 -0.04756589 -0.19706814 -0.3199331 -0.057254083 -0.07645429 -0.046860207 -0.24453408 -0.046599597 -0.18642846 -0.021273812 0.0074074822 -0.17318872 -0.4266587 -0.038226366 -0.303115 -0.40145257 -0.1350558 -0.12707467 -0.09226042 -0.086660296 -0.029188288 -0.2753701 -0.06255791 0.1565395 -0.2659929 -0.11309552 -0.05593451 0.5392215 -0.0882811 -0.074854076 -0.6217224 -0.24374855 -0.008182399 -0.11243793 -0.07095175 -0.11209405 -0.3058941 0.13362378 0.0060008434 -0.038731515 -0.22647198 -1.1340913 -0.02556452 0.113032244 0.019686155 -0.11268294 -0.31764302 -0.34870613 -0.03606025 -0.1115698 -0.08717311 -0.14442202 -0.13711855 -0.0008806896 -0.17553747 -0.051136035 -0.24336022 0.060862675 -0.11866339 -0.09383506 -0.2400112 -0.26623502 0.07986888 -0.12250355 -0.1554581 -0.33954677 0.06780115 0.079831414 -0.015845567 0.092430495 -0.17626373 -0.17067419 -0.116929285 -0.099542506 -0.16575354 -0.038857136 -0.025452394 0.10954121 0.0009348599 -0.055345234 -0.14264464 -0.0034486311 -0.019653121 -0.067983426 0.053662173 -0.11415537 -0.07743845 0.0030639796 -0.13133869 -0.17407516 -0.112329714 0.07475111 -0.11149097 -0.21793093 -0.020311313 -0.43596503 0.057842493 -0.15567409 -0.101131655 -0.13363108 0.020571755 -0.19078696 -0.17410502 0.026391225 -0.26735365 -0.121548675 -0.21256825 -0.07400016 -0.1595387 -0.10624582 -0.037469853 0.051922694 0.038692184 -0.09583351 -1.514849 -0.020203084 -0.32678708 0.06932883 -0.2502753 -0.05214678 -0.07837259 0.0075693144 -0.6467761 -0.3576393 -0.014606573 -0.3100004 -0.074309245 -0.27022633 -0.070839345 -0.3893031 -0.12738962 -0.2360533 -0.036952626 -0.2751104 -0.06988285 0.08074609 0.29969633 -0.090742625 0.038504027 0.049930017 -0.0637147 -0.1040458 -0.17397591 0.03930029 0.09543627 -0.07111395 0.28024343 -0.06320675 0.0028232825 0.014173652 -0.066428974 -0.07838578 -0.10112831 -0.15848657 -0.327845 0.09141897 -0.1653114 -0.060274012 -0.21615319 -0.19386782 0.053267404 -0.64657795 0.03534957 -0.22453421 -0.03350788 -0.051427845 1.3731896 -0.14015937 0.027952336 -0.3367729 0.2478801 -0.17234309 -0.03777738 -0.056388587 -0.11656896 0.311584 -0.03672759 -0.01167398 0.0037127007 -0.19820818 0.053448938 -0.2513661 0.047347922 -0.012000438 -0.03457235 0.1077625 0.007160974 0.044656035 0.08918684 -0.08029177 -5.489794 -0.174645 -0.19478959 -0.2572417 -0.24149588 -0.33470955 -0.055410318 -0.26643902 0.0012963339 -0.29611015 -0.22545484 -0.30287755 -0.27541542 -0.21789034 -0.23449925 -0.1096567 -0.055235732 -0.1085482 -0.029824363 -0.02847885 -0.15922895 0.23660101 0.0051138406 0.08138938 -0.2401472 -0.11406789 0.09994715 -0.053550858 -0.100626305 -0.27451065 -0.12934208 -0.21146843 0.15340756 0.10702008 -0.13559972 -0.067154855 0.17313477 -0.13438962 -0.28297645 -0.27378923 -0.08826421 -0.35143808 -0.49196488 -0.2114169 0.016764972 -0.050633542 -0.14186727 0.01627969 -0.1743347 -0.0057337917 -0.20172927 -0.08642493 0.0986925 -0.15834971 -0.11352659 -0.18626994 0.13548097 -0.17362794 -0.027483614 1.4704082 -0.20651092 -0.07623602 -0.12738483 -0.019114705 -0.11082775\n",
            "\n",
            "architect -0.26766106 -0.077368595 -0.413516 0.02966726 0.09696794 -0.25821152 0.14391151 0.26696026 -0.13266166 0.10826251 0.27738357 -0.03810956 -0.09124298 0.07542583 -0.058789257 -0.07039061 -0.2800699 0.018888703 0.07345049 -0.26475668 0.051711895 -0.04263873 -0.14730957 -0.008599939 -0.15735835 0.1773253 -0.102768235 -0.17837077 -0.05209198 -0.3410381 0.006131275 0.06697537 -0.1522595 -0.26229593 -0.13921785 0.03378989 21.801092 -0.045413043 -0.009384156 -0.10585748 -0.045041356 0.065676816 0.07437109 -0.36014056 -0.084105946 0.054798055 -0.087333776 0.023539517 -0.19166273 -0.23197526 -0.06633593 0.10330157 -0.15474087 -0.08769905 0.0021950365 -0.10887364 -0.0043393057 -0.32673532 -0.11958064 -0.054823965 0.022776598 -0.07308729 -0.06570154 -0.11718904 -1.0418829 -0.09921023 -0.10181531 -0.039763868 -0.10745752 -0.1789312 -0.24570395 -0.14403103 -0.12931451 -0.14670146 -0.031712245 -0.33526862 -0.08237408 -1.7181884 0.016810318 -0.09039723 -0.40164402 -0.14661378 0.030861432 -0.24196301 -0.092597514 0.16852404 -0.13388291 -0.9907613 -0.08928653 -0.07383018 -0.11110728 -0.19823176 -0.2789955 0.033313073 -0.16078562 -0.011038503 -0.038015008 0.019051036 -0.0030694222 0.21045056 -0.21436137 -0.07396574 -0.1742698 -0.14210396 0.05320239 -0.08877232 -0.10589349 2.217485 -0.056325186 -0.14656293 -0.1518247 0.078275874 0.01720543 0.06731091 0.01671331 0.0813109 0.094702505 0.011647505 -0.15803853 -0.27775863 -0.106355645 -0.07107377 -0.09414938 -0.01013733 -0.15369458 -0.100870825 -0.029348845 0.041235637 -0.34026945 -0.15214352 -0.06069668 0.054380678 0.09459292 -0.07812436 0.15645039 -0.0543039 -0.036174566 -0.18862578 0.70971715 0.1798546 -0.06961788 0.1636148 -0.5669346 -0.10072789 0.0009454943 0.19728574 -0.04770812 -0.0196109 -0.060120404 -0.122382425 -0.15422493 -0.24986668 0.18567784 -0.062773354 -0.118236095 0.07295152 0.05819796 -0.1384881 0.0902835 -0.088428 0.144488 -0.08853913 0.071284026 -0.12041975 -0.16101535 -0.025454883 -0.13089691 -0.17888644 -0.19287722 -0.17010044 -0.17014079 -0.082242936 -0.093575865 0.11530752 -0.17724869 -0.18152785 -0.2996997 -0.30427018 -0.10469144 -0.031023154 -0.1547041 -0.019615015 0.067393325 0.020811938 -0.023074072 -0.12736845 -0.08639599 -0.14901473 -0.0060932934 0.053493667 -0.15374783 -0.20067349 -0.23174657 -0.04210603 -0.062479816 -0.16330488 -0.05233265 -0.050882064 -0.23530215 -0.3755861 0.038878817 0.03702456 -0.06556357 -0.19973281 -0.058126908 -0.14689317 -0.18503891 -0.11656992 0.0035318304 0.022398809 0.050806478 0.032435194 -0.1352656 -0.007137694 -0.026248453 -0.07705944 0.067381784 -0.28561506 -0.07506412 -0.01709796 0.004285272 -0.14702655 -0.09217233 -0.05734071 -0.101014346 -0.09046664 -0.12517402 -0.025690567 0.109280236 -0.19090709 0.13931505 -0.035966147 2.1047795 -0.060458183 -0.20367306 -0.2163311 -0.15882584 -0.09107135 -0.15252508 -0.05211311 -0.20140909 0.046612054 0.019922577 0.011323498 0.06749027 0.06474349 -0.30134434 0.051920947 0.10019896 -0.3500112 -0.7553201 -0.080697335 -0.048026655 -0.12361773 -0.14231546 -0.009208779 0.072669335 0.026676662 -0.127786 -0.020430837 -0.037145905 -0.11733609 0.01360049 0.14031936 -0.076157026 -0.26257244 -0.9699704 -0.29183233 -0.15566447 -0.097207785 -0.28069028 0.03168721 -0.1179307 -0.00437208 -0.19538598 -0.18470539 -0.20941733 -0.08264022 -0.08289209 -0.07448764 -0.09756989 -0.021680158 0.01619405 0.04893906 0.07676075 -0.2191293 -0.10950206 -0.18105222 0.13731 -0.07054182 0.087085895 -0.059031248 0.06964134 0.16190468 0.13336097 -0.0818533 -0.09808547 -0.104422055 -0.17616655 0.023579314 -0.1227818 -0.02055181 0.08390077 0.060969945 -0.14787744 -0.03338834 0.09751763 -0.14781222 -0.8455707 -0.15481927 -0.014802575 -0.025990572 -0.023917997 -0.09407193 2.567073 -0.108373754 -0.15510243 0.13610849 -0.033170298 0.12089126 -0.58641106 -0.12803887 -0.26100194 -0.12537217 -0.021901041 0.051973037 -0.41254213 0.0033450194 -0.127368 -0.19890118 -0.1725027 -0.12118696 0.1233474 -0.0999483 0.21139671 -0.25010258 0.04658789 -0.18111409 -0.027900724 -0.014562821 -0.01507436 -0.0063939076 -0.1456896 -0.19043927 -0.17868945 0.008836943 -0.08391992 -0.3865091 -0.04918234 0.088422984 -0.3111609 0.020596191 0.027533853 -0.15364121 -0.10364308 -0.04670952 -0.56594765 -0.04119067 -0.12687844 -0.038415067 -0.13359222 -0.1613731 -0.4000439 0.010914316 -0.08110328 -0.3999214 -0.124557965 0.066594094 -0.052959 -0.073403314 0.16853906 -0.14168572 -0.10359938 -0.72750765 -7.326761 -0.19055776 -0.114649594 -0.054977953 -0.6809876 -0.029320236 -0.08695402 -0.2134046 -0.07627341 -0.24283886 -0.25114587 -0.10978734 0.14884326 0.02579231 0.022033118 -0.10446832 0.18713255 -0.063171275 0.069866695 -0.53041244 -0.17400248 -0.0149042765 -0.08737901 -0.058249585 0.040128272 0.0023238915 -0.031116817 -0.036976412 -0.15058854 0.08485009 -0.06493941 0.046378747 -0.11561565 -0.24087662 -0.4651182 -0.00017079442 -0.25073642 -0.022890216 -0.18201947 -0.09370068 0.05006768 -0.09522587 -0.030353803 -0.08654817 -0.052195754 0.044187468 -0.2850984 -0.111601815 -0.12311597 -0.09918685 -0.023462258 -0.05994757 -0.090499245 -0.03145962 -0.15834962 -0.27840963 35.868088 0.07788252 0.02072512 0.019865397 -0.19953473 -0.035450824 -0.12732737 -0.0057602976 0.08188913 0.28958932 -0.13614663 0.018125469 3.693306 -0.03534249 -0.069585524 -0.10402567 -0.13028271 1.6994685 -0.062865846 0.06768857 -0.06798835 -0.12712531 0.08409499 -0.53203404 -0.029616136 0.0338829 -0.10217114 0.032803103 -0.0006749075 -0.17108838 0.15567745 0.029374586 -0.093375914 -0.12135257 -0.16381004 -0.33471033 0.0015395909 -0.12856881 -0.016441789 -0.10602361 0.06659365 0.014505353 -0.11599509 -0.1845761 -0.057325706 -0.2687527 0.039971165 -0.23343606 -0.18716362 -3.3630364 -0.8548209 0.68504626 -0.14454128 -0.14982668 0.05511937 -0.1477172 -0.15899663 -0.1483725 -0.03202657 -0.2058034 0.2005714 -0.20235729 -0.30068752 -0.05437443 -0.15983778 0.07964168 53.767147 -0.30075103 -0.06497325 -0.10062787 0.0041688215 -0.13542455 -0.03483289 -0.4495535 -0.016125524 -0.020653198 0.011737473 -0.015237181 -0.024042644 0.1339302 -0.022850867 -0.23748544 -0.22088544 -0.14010668 -0.10135836 -0.26619226 0.07705183 -0.0684921 -0.12966801 -0.1980359 -0.029464584 -0.15171239 0.08979103 -0.04773104 -0.12271658 -0.27062514 0.40357062 -0.16984393 -0.36222443 -0.1226436 -0.03619264 -0.052628703 -0.22340497 0.062793605 -0.17047253 0.094470926 -0.015880711 -0.034269333 -0.12326223 -0.10694498 0.23885238 -0.11653969 -0.13426471 -0.55686283 -0.16557652 -0.07185106 -0.0995101 -0.11819695 -0.01755924 -0.16022106 0.0014005277 -0.18719064 -0.12938024 -0.08415295 -0.96188754 -0.03722907 0.04278421 0.07491516 -0.12027687 -0.3400909 -0.27460706 -0.106384814 -0.18707184 -0.034184046 -0.11948543 -0.098304324 0.10679472 -0.12270477 0.011460096 -0.16155027 -0.18169728 0.008683633 -0.088539995 -0.17903388 -0.14421004 -0.10632021 0.06744617 -0.025054 -0.21818572 0.054693233 0.050826307 -0.011569287 0.32438678 -0.09450806 -0.074415945 -0.020716567 0.02497577 -0.11102081 0.23464325 -0.018540971 0.048251104 -0.014922744 -0.11204482 -0.025014725 -0.017019225 -0.049343772 -0.07209889 0.14605145 -0.124336295 -0.10381545 -0.11737272 -0.1317227 -0.3389465 -0.052106112 -0.094584376 -0.026007446 -0.13751346 -0.12608097 -0.35763925 0.0096569555 -0.21926983 -0.13640007 0.0020483555 -0.0042180107 -0.22459336 -0.09751403 -0.0769294 -0.18383776 -0.10353837 -0.15483996 -0.086403094 -0.16493669 0.043592036 -0.023504976 -0.013142943 -0.020178838 -0.1636206 -0.36477473 -0.05848469 -0.24842651 0.1211538 -0.21689059 -0.0020359303 -0.034585778 0.009795312 -0.6594811 -0.34231317 0.015960636 -0.08778473 0.058893654 -0.10808209 -0.027506422 -0.2550826 -0.117439054 0.027084429 0.023784721 -0.3384297 -0.20929112 0.0622719 0.048367415 -0.11948262 0.015498997 0.091222264 -0.24809612 0.0060748663 -0.33117062 0.06280113 -0.11739877 -0.12871476 0.6521282 0.048530266 0.002520309 0.019621687 -0.045769893 -0.119591706 -0.12933297 -0.2040864 -0.21292916 -0.06094427 -0.09728464 0.02399918 -0.12686028 -0.16831365 0.1182707 -0.5947835 -0.0002598112 -0.12509574 -0.060819466 -0.052990697 0.37527788 -0.25295016 -0.006653897 -0.15250836 0.04317173 -0.08783076 -0.007378059 -0.01066152 -0.16910602 -0.034653474 -0.05449683 -0.0794439 0.050655168 -0.047505427 0.01806833 -0.15593557 0.068513334 0.08516709 -0.074457325 0.106907 0.024196923 -0.0067857155 0.24251841 -0.038762737 -8.390918 -0.08063972 -0.1995586 -0.19234592 -0.08459764 -0.114378065 -0.06383886 -0.21512778 -0.06438317 -0.30159128 -0.17668994 -0.13456053 -0.17332257 -0.13427788 -0.16432711 -0.15121211 -0.031031396 -0.24371786 0.047857534 0.022366863 -0.08519907 0.33175534 -0.02040319 0.049223464 -0.1077959 -0.2450798 0.07324316 0.05858466 -0.05075411 -0.2867872 -0.0071133305 -0.0952184 0.048506822 0.06201049 0.02837493 -0.24338087 -0.20451213 0.02254637 -0.18895203 -0.06776242 -0.09740049 -0.29524237 -0.40701255 -0.047303233 -0.011492597 -0.103261515 -0.105011076 0.038659137 -0.10017073 -0.046031445 -0.23006415 0.016172834 0.028981555 -0.08291156 -0.09664742 -0.09373556 -0.011228715 -0.2419488 0.012546852 0.24364679 -0.19662832 -0.018173777 -0.13349967 -0.027198136 -0.051259935\n",
            "\n",
            "artist -0.11242384 0.07848864 -0.25048855 -0.12108786 -0.0041210614 -0.12303263 0.34926662 0.027234789 -0.17845777 0.07575787 0.37142187 -0.10985951 -0.008064974 -0.05178821 -0.04171878 -0.17896941 -0.11584093 -0.21391313 0.19916546 -0.25541446 0.157754 -0.050787166 -0.25879315 -0.091440596 -0.16899046 0.08853294 -0.22614512 -0.19767927 -0.12308233 -0.26726195 -0.017329916 -0.0046366057 -0.042869482 -0.43440145 -0.08859633 0.074817464 22.379 -0.10011125 -0.052362256 0.03461862 -0.02417127 -0.054877304 0.027841993 -0.34402436 -0.05076245 0.0049960343 -0.003477814 0.014709787 -0.340909 -0.116958044 -0.038910177 0.14562109 -0.22720101 -0.11445803 0.027834209 0.052241147 -0.16507359 -0.13001685 -0.16161609 -0.11524796 -0.056224957 0.056157485 -0.16311125 0.21205732 -1.0417126 -0.08477249 -0.016964152 -0.13370852 -0.22906885 -0.16177416 -0.22993347 -0.15422927 -0.14426085 -0.10998741 -0.11174763 -0.32569727 -0.18996274 -0.9818776 0.08256901 -0.054762784 -0.28153735 -0.11901522 -0.010685247 -0.15970555 -0.10590828 0.055198427 0.09335938 -0.99068135 0.00011127473 -0.045789775 0.007174173 -0.27059042 -0.33720487 -0.029930841 -0.37150785 -0.040428933 0.28336132 -0.13290551 -0.034055416 0.17835917 -0.03608358 -0.011151283 -0.05576995 -0.06981165 0.041752964 -0.054684296 -0.1570745 1.2037878 -0.07558758 -0.116264455 -0.19688994 0.17151755 -0.18187602 -0.0067496407 0.0070790043 0.025238587 -0.032800756 0.067707255 -0.117489524 -0.031689778 -0.069830075 0.017866837 -0.0042878343 0.12342057 -0.16015415 -0.11704298 0.0009403765 0.06407557 -0.34336454 -0.055035215 -0.08348985 0.03690744 -0.036468495 -0.15518735 0.09643315 0.0005620797 0.05384256 -0.26373965 0.72886753 0.16042684 -0.12917584 0.049164943 -0.7768955 -0.15131406 0.026728682 0.13529843 -0.001773041 -0.087370045 -0.10027687 -0.08395409 -0.14840603 0.0855704 -0.088845894 0.0019626261 0.008874223 0.053867295 -0.009728613 -0.22919343 0.060808968 -0.13769644 0.39678243 -0.024568783 0.02184766 -0.12359605 -0.28925166 -0.14336582 -0.05577701 -0.27844742 -0.21502939 -0.21376185 -0.15592873 -0.057848353 -0.15608035 0.175595 -0.10927134 -0.03255883 -0.25749907 -0.30569208 -0.17299137 -0.02703864 -0.32399344 -0.06403426 0.06255429 -0.1634181 -0.0062653935 -0.15578942 -0.06993998 -0.15631318 -0.08908916 -0.13330364 -0.04317224 -0.19428895 -0.23594439 -0.07387459 -0.058663994 -0.25311825 -0.08359781 -0.039257575 -0.17980717 -0.4388907 -0.09396514 -0.013186431 -0.18271524 -0.20116152 0.0321131 -0.0072811623 -0.10367709 -0.12121402 -0.09097948 -0.009928886 0.05923955 0.1725326 -0.09196793 -0.08472654 -0.05384769 -0.2293561 -0.11673414 -0.18396923 -0.24071324 0.059205085 0.06334006 -0.13258184 0.008441819 -0.1252074 0.09934559 -0.077501945 -0.08110612 -0.13209441 0.016352024 -0.13009407 0.13540654 -0.008329001 0.7816045 -0.086739205 -0.03883006 -0.117675275 -0.087285146 -0.0739727 -0.14429316 -0.11862605 -0.19931056 0.13117708 0.02100866 -0.0010091822 0.08642013 0.017309006 -0.11362743 0.32125843 0.040326525 -0.2966638 -0.62790316 -0.14960419 -0.16020343 0.12247797 -0.0840583 0.119422354 0.0710022 0.097523615 -0.1582332 0.0048978976 -0.09747574 0.0060864617 -0.04848361 0.014259077 0.0244604 -0.19142027 -0.97015125 -0.04134747 -0.17469564 0.011472641 -0.40736735 0.30819696 -0.14018965 0.124296844 -0.23606877 -0.21388404 0.04424995 -0.07843531 -0.11102637 -0.051810138 0.119613945 -0.16118409 0.058656026 -0.041756313 0.07118569 -0.20462565 -0.2337459 -0.18138106 -0.08880639 -0.33317155 -0.06474449 -0.003396981 0.15019237 0.07453148 0.17173502 -0.28228897 -0.10505026 -0.15008566 -0.053352073 -0.060471125 -0.05244128 -0.1274427 -0.0023087638 -0.03813649 -0.068471394 -0.10853519 -0.005115163 -0.12550412 -1.0569689 -0.06578323 -0.06709071 -0.13399488 -0.007056164 -0.0790454 -2.9377637 0.0056380434 -0.1371334 0.022239342 -0.024258148 0.2050672 -0.410116 -0.20240022 -0.20625803 -0.020102676 0.052943215 0.091029435 -0.32975078 0.06724059 0.15599512 -0.1769663 -0.21317844 -0.2204512 0.114034295 -0.099478155 0.1434779 -0.22789842 0.036450233 -0.2051067 -0.16461152 0.096947126 -0.1401375 -0.018671682 -0.15740834 -0.23175113 -0.29749912 0.015656386 0.1579278 -0.42664418 -0.0072089066 0.045820143 -0.3864265 0.30331337 -0.038765762 -0.13168907 0.083459176 -0.08674677 -0.39761218 0.039624132 -0.08357198 -0.0849416 -0.16197541 -0.05779113 -0.44262156 -0.067266 -0.11324713 -1.0607469 0.0082721645 -0.0063705174 -0.01247696 -0.020331748 0.2119328 -0.0028444838 -0.041608352 -0.7301793 -7.96133 0.022738554 -0.25633404 0.11360369 -0.39079618 -0.0710495 -0.13484459 -0.17660436 -0.06041654 -0.21020204 -0.22241236 -0.20331858 0.094895445 0.025152154 -0.02618861 -0.7452107 0.111561894 -0.05868643 -0.017760867 -0.57744014 -0.1707053 0.06073272 -0.16690068 -0.0315651 -0.03223817 -0.025511805 -0.0143096475 -0.018788438 -0.05985471 0.067982376 -0.035792463 -0.051074453 -0.16623676 -0.20438874 0.6066095 -0.10241893 -0.2519485 -0.021527197 -0.11906805 -0.23716684 0.13353449 -0.2249484 0.0071985037 -0.2084495 -0.18216664 0.11113113 -0.37255245 -0.17694774 -0.06004041 -0.12860502 0.018462295 -0.012279681 -0.17392999 -0.033108015 -0.20890468 -0.20144714 41.184956 0.101555675 -0.06178245 0.10483905 -0.26670676 0.079882294 -0.11937661 -0.1373931 0.039726336 0.31254858 -0.0681282 0.016811525 1.9252619 -0.097147316 -0.11912912 -0.042605493 -0.21385638 1.6996145 -0.17539829 0.10128936 -0.18802427 -0.05290122 0.027805785 -0.30045113 0.011628471 0.18535535 -0.10298232 -0.031186122 0.02716086 -0.07385313 0.18822624 0.12812844 -0.10319794 -0.1508875 -0.095065996 -0.15910734 -0.019247739 -0.15453717 -0.17468323 -0.04813173 0.0964706 -0.13665034 -0.12455129 -0.05705783 -0.03194194 -0.24467255 -0.0105978185 -0.10373794 -0.2106159 -2.358147 -0.85494685 0.6886853 -0.061005756 -0.09050448 -0.048828732 -0.090821415 -0.03452569 -0.119629316 -0.09838697 -0.24154179 0.1561793 0.046087716 -0.14827901 -0.22437958 -0.29660732 -0.026408456 52.21709 -0.41479778 -0.023159359 0.08326734 0.0150370775 -0.07258103 0.024908738 -0.84530306 -0.045288045 -0.022684315 0.041171297 0.0072468435 0.020863732 0.022537494 0.12221875 -0.2925505 -0.050235037 -0.12205961 -0.12462831 -0.20570108 -0.0683129 -0.1742551 -0.0241941 -0.14662263 0.041723453 -0.03576962 -0.01675978 0.02554168 -0.11474723 -0.42238837 -0.07809206 -0.47589734 -0.21146874 -0.061803583 -0.08748338 -0.14152335 -0.12636481 0.012390388 -0.30642942 0.10089038 -0.010715243 -0.113771826 -0.15434366 -0.06421454 0.039374474 -0.13454588 -0.11458132 -0.15249014 -0.17239258 -0.07463527 0.015690517 -0.14750148 0.06292118 -0.20241255 0.04977885 -0.10016807 -0.17226696 -0.032347187 -0.47821102 -0.03932006 0.113770366 0.027877972 -0.11752579 -0.3621924 -0.20550038 0.075988896 -0.18916063 -0.15515439 -0.063651584 -0.10996254 0.040279556 -0.14429843 0.09026317 -0.29336178 -0.077715255 -0.014757285 -0.20593941 -0.26331225 -0.1298809 0.0015298161 0.10845354 -0.09977917 -0.31880915 0.10854884 0.044401806 -0.010412187 0.2022106 -0.08711436 -0.15532392 0.048995975 0.10112297 -0.19583754 0.121056356 0.07297314 0.12518151 -0.07703363 0.06480376 -0.09795843 -0.038209066 -0.06979002 -0.15935679 0.034770038 -0.019718273 -0.041032143 -0.16909935 -0.18774043 -0.1860054 -0.037574332 -0.025273819 -0.07356622 -0.10120217 -0.081276484 -0.27174398 0.031379122 -0.09398682 -0.080187015 -0.0074576046 0.0050585815 -0.10809373 -0.1468341 -0.22589332 -0.11025144 -0.15476315 -0.20718005 0.009305033 -0.19018885 0.0477076 0.12571749 -0.13510609 0.0009313082 -0.15461987 -1.2065355 -0.060974255 -0.2183035 0.098676994 -0.2515265 -0.009512351 -0.037785687 0.10031481 -0.6493303 -0.29775655 0.006818524 -0.0919029 -0.02654082 -0.31808388 -0.08476157 -0.47195128 -0.09899905 0.026605668 0.067538284 -0.30410916 -0.24967773 0.04439018 0.07854484 -0.04124998 -0.23984632 0.053628985 -0.24234226 -0.089757316 -0.1955205 0.08370036 0.1579298 -0.09439575 0.22097088 -0.019729197 0.022805603 -0.040643808 0.04360405 -0.068968594 -0.36255318 -0.20326269 -0.35370958 0.058664322 -0.017859647 0.06990925 -0.14052068 -0.20182227 0.117258154 -0.7472281 0.02922397 -0.21696846 -0.05030521 -0.25969806 1.1720866 -0.15632927 -0.03248214 -0.2050892 0.17836769 -0.08390172 -0.09260664 -0.04171546 -0.0028756915 -0.005786646 0.09479103 -0.10779881 0.014424495 -0.06443052 0.09194932 -0.16567482 -0.08252304 0.045583397 -8.2651844e-05 0.09054278 0.032970957 0.04204747 0.086996995 -0.10890947 -3.409799 -0.17694932 -0.24067512 -0.15308249 -0.13521749 -0.23421623 -0.0066108536 -0.15844972 0.089600176 -0.25189897 -0.16293895 -0.19403303 -0.08346394 -0.17956315 -0.15730563 -0.39508802 -0.018728694 -0.31981778 0.20735674 0.016601678 -0.12168617 -0.04150716 -0.09099483 0.017858814 -0.13497247 -0.13571596 -0.006356608 -0.16700855 -0.011416028 -0.26805446 -0.029552676 -0.096311875 0.21537076 0.06932189 0.041851334 -0.18823764 -0.36571267 -0.10797376 -0.17360333 -0.13404882 -0.03298137 -0.32021365 -0.56542784 -0.13002253 -0.067456715 -0.10676486 -0.1981248 0.07137793 -0.17187765 0.002860964 -0.10619029 -0.07423891 0.15506314 -0.2626366 -0.10111206 -0.1624813 -0.020164253 -0.24492857 -0.09990007 1.4012234 -0.13518833 -0.0954544 -0.022189371 -0.055438876 -0.17905138\n",
            "\n",
            "writer -0.084880665 0.09125544 -0.3051755 -0.09856757 -0.050194487 -0.16928804 1.4572992 -0.035527583 -0.048407845 0.01130937 0.48481345 -0.11964553 -0.00982646 -0.03978954 -0.13234305 -0.13565105 -0.120092355 -0.18940428 0.2112951 -0.24142966 0.09632222 -0.0043400563 -0.19043349 -0.00072195166 -0.15774344 0.06076405 -0.17726478 -0.22481763 -0.03764301 -0.33806717 0.059611186 -0.018309196 -0.14972813 -0.35058054 -0.019330725 0.19586612 22.63477 0.03506835 -0.053615097 -0.0463241 -0.006738702 0.039428204 -0.05718762 -0.29442352 -0.03964094 0.004487552 0.00506821 -0.09502945 -0.33325228 0.09445605 -0.020149384 0.16814075 -0.26585966 -0.1364001 0.026068304 0.00013468269 -0.030740127 -0.13719903 -0.1323254 -0.046173863 0.030243658 0.026909102 -0.0985089 -0.0014320872 -1.0413103 -0.08880037 -0.06542071 -0.07556457 -0.26558438 -0.11951175 -0.14331608 -0.18111883 -0.21068653 -0.16817303 -0.15003873 -0.27784786 -0.18852432 -0.6623491 0.058834605 -0.09395662 -0.33992866 -0.09957461 0.022276126 -0.09468622 -0.05525183 0.109737426 -0.0650402 -0.9907118 -0.06515784 -0.045786057 -0.04008043 -0.26355764 -0.32368538 -0.0016528515 -0.25248525 -0.11318588 0.22204065 -0.053400733 0.012167287 0.18117337 -0.13046873 0.07968427 -0.00034568895 -0.06669271 0.056996305 -0.07059309 -0.14166349 1.0701867 -0.06694899 -0.2050516 -0.07035948 0.13484946 -0.27896497 -0.06034234 -0.070962474 -0.021903662 -0.036825363 0.056929052 -0.10486555 -0.09859649 -0.028881995 0.10488294 -0.09400608 0.12674884 -0.14367206 -0.1167714 -0.0721542 -0.03885731 -0.21089183 -0.015747743 -0.034248643 0.05771397 0.21244116 -0.12932949 0.09037746 -0.06407848 0.061593007 -0.34407288 0.74855536 0.23733541 -0.13383663 0.0292902 -0.8092067 -0.14319378 0.01929046 0.09401915 0.075179 -0.036349438 -0.017523402 -0.14268142 -0.14614612 -0.06692684 -0.043866966 -0.13881573 -0.13498592 0.033365164 0.083931334 -0.20869674 0.07315636 -0.052857168 0.0816951 -0.0056351423 0.051323935 -0.11992902 -0.22149292 -0.050636854 -0.11637218 -0.8484935 -0.16589412 -0.27448064 -0.1908704 -0.15588063 -0.11987744 0.107053615 -0.09836467 0.023276314 -0.31910226 -0.20863964 -0.26895612 0.0068025817 -0.25048894 -0.061073862 0.10960592 -0.097066924 0.034422018 -0.12422642 -0.009895543 -0.15184838 -0.04942427 -0.047726516 -0.07362123 -0.23175222 -0.114575125 -0.10578869 -0.13996074 -0.070300534 -0.059360113 -0.09146216 -0.15968747 -0.41636908 -0.052952107 0.038380187 -0.09016849 -0.20750369 0.06146029 -0.123105526 -0.03304773 -0.14925177 -0.01515759 -0.05552122 0.12091112 0.19263792 -0.04043911 -0.2219772 -0.18289706 -0.1644329 -0.3397662 -0.121687844 -0.22087398 -0.02962312 0.0028780978 -0.060159914 -0.039878823 -0.1342425 0.22602203 -0.11308485 -0.009723218 -0.11229602 0.011597131 -0.033019405 0.21068513 0.025143009 0.6575613 -0.058236398 -0.09600763 -0.036614515 -0.1690396 -0.084675685 -0.08338185 -0.09423083 -0.21793807 0.098926015 0.0626927 -0.07003437 0.08571303 -0.09430177 -0.17902167 0.37708342 0.02246801 -0.18329392 -0.6049685 -0.13968018 -0.08681535 -0.08447934 -0.05518389 0.15961625 0.10667422 0.08367418 -0.089997865 0.04037859 -0.12233502 -0.04534731 -0.033652037 0.0033388033 -0.009523176 -0.20188655 -0.96994615 -0.112200215 -0.19190744 0.22195531 -0.38829905 0.14808424 -0.07085791 0.09698947 -0.07929198 -0.17697494 -0.16187331 -0.10676133 -0.10946833 -0.043820377 -0.023645071 -0.14944805 0.09433206 -0.011711096 0.07374612 -0.036348823 -0.22174232 -0.17242204 -0.20632884 -0.4102545 -0.031554557 -0.068998 0.07535091 0.07927988 0.010944116 -0.21461417 -0.13118461 -0.10604912 -0.009631441 -0.05503176 0.0019743189 -0.07941285 0.019197334 -0.058865868 -0.17835286 -0.031686094 0.0053724027 -0.17233433 -0.7447786 -0.05468881 -0.016507072 -0.0784302 0.022416534 -0.06733005 -5.2384853 -0.13281998 -0.18608253 0.055987317 -0.10141226 0.14169939 -0.47164637 -0.2030656 -0.25167137 -0.117974676 0.04971152 0.019797485 -0.30304432 -0.014863859 0.0690612 -0.1480415 -0.16733347 -0.22668368 0.051664643 -0.124054484 0.0847093 -0.31731117 -0.026860159 -0.22190645 -0.1200984 0.13637795 -0.06682974 0.05553451 -0.1165748 -0.23434961 -0.15235901 0.0047134436 0.04744076 -0.3811269 0.04491289 -0.028550224 -0.22282523 0.18812846 0.04950499 -0.14098257 -0.030408634 -0.0543404 -0.31360912 0.011514406 -0.055914566 -0.14013891 -0.1833722 -0.13142082 -0.26437175 -0.12291495 -0.13642907 -1.129465 -0.008247565 -0.03724634 0.030529857 0.040300667 0.18421397 0.027620682 0.020539701 -0.7371338 -7.5438614 -0.039294213 -0.25751412 0.10801945 -0.55159974 -0.07228552 -0.08726856 -0.17466755 -0.007960024 -0.18516853 -0.2333445 -0.11644887 0.19204906 -0.08990187 0.06656291 -0.74835074 0.12967964 -0.09277854 0.04917295 -0.5505121 -0.1428934 0.019719971 -0.10475955 0.008840487 0.05387882 0.00891786 -0.04339232 -0.07469501 -0.118918955 0.08501749 -0.13925841 -0.032396927 -0.14194728 -0.11161417 1.0793024 -0.06411843 -0.29930437 -0.011166548 -0.1262081 -0.17135683 -0.016277006 -0.15762106 -0.060442302 -0.05848159 -0.11203798 0.046449743 -0.34277868 -0.14098485 -0.0058268216 -0.23318611 0.00852918 -0.060575403 -0.118668966 -0.060162395 -0.16003233 -0.2219589 38.267353 0.019233484 0.017985804 -0.06870056 -0.20654048 0.12030869 -0.12553927 -0.1784982 0.009100642 0.22014645 -0.0620668 -0.05344917 3.052779 -0.06562542 -0.07331001 0.018429749 -0.11590378 1.7012217 -0.117008954 0.052453876 -0.18984745 -0.052372582 -0.014557808 -0.32517064 0.035391506 0.14326128 -0.32721618 -0.014386811 0.05443125 -0.11701362 0.24869621 0.1239872 -0.04846342 -0.15416992 -0.124622144 -0.19712655 -0.06348033 -0.13803829 -0.15053655 -0.045641735 0.059410132 -0.09327299 -0.15149105 -0.074794635 0.033861443 -0.19630998 0.0060082925 -0.1999132 -0.19415174 -2.0775685 -0.85455906 0.6968369 -0.097628355 -0.027051313 0.109221466 -0.0053743166 -0.000518088 -0.13297129 0.054308638 -0.19997562 0.02672551 -0.013565218 -0.16427018 -0.22096193 -0.16139065 0.05837483 51.614353 -0.38972795 -0.03710756 -0.01789099 0.11025709 -0.10186546 -0.006241087 -0.8222493 -0.038743347 -0.033026207 0.10982816 0.008235817 0.03681484 -0.041495457 0.068165146 -0.3385748 -0.061496813 -0.17820725 -0.24217889 -0.36347407 -0.018121503 -0.18231814 -0.035867166 -0.13862082 -0.0635532 -0.070548475 -0.08733153 -0.10752907 -0.114292294 -0.43780068 -0.4235104 -0.5408958 -0.17191575 -0.06944873 -0.069598086 -0.13353798 -0.14906915 0.023671146 -0.26361498 -0.008168772 -0.0064586657 -0.18598995 -0.07029792 -0.04636648 0.061083544 -0.1378922 -0.069049016 -0.2233509 -0.198857 -0.08104289 -0.031908184 -0.06913458 -0.042589966 -0.33822435 0.016019018 -0.04570247 -0.13221273 -0.005890824 -0.31571725 -0.005677265 0.038145263 0.020416379 -0.21667637 -0.25226173 -0.28784168 0.05164663 -0.1908261 -0.14605393 -0.058456756 -0.1103448 -0.25834373 -0.17870843 0.104625136 -0.2810721 -0.08984021 0.14826389 -0.16920514 -0.18058786 -0.17606738 0.008529375 -0.020209312 -0.067565 -0.26795962 0.21169509 0.0023979903 -0.074054554 0.24514139 -0.10865651 -0.12895977 -0.07538951 0.056028504 -0.16046326 0.06862095 -0.0106600635 0.10286641 0.00966311 0.06202012 -0.17534582 -0.0022439293 -0.1008489 -0.15325788 0.0140029825 -0.1027082 -0.011045367 -0.04385213 -0.19481018 -0.20977914 -0.0107079195 -0.042622674 -0.07914856 -0.11745425 -0.04339086 -0.26604187 0.0022479154 -0.083539516 -0.052961357 -0.0656279 -0.06205303 -0.2178146 -0.20124814 -0.12429606 -0.06975312 -0.08631522 -0.25037196 0.010000183 -0.11601373 0.041638035 -0.043345366 -0.050475962 -0.060695037 -0.16331437 -1.4529952 -0.021204757 -0.12845807 0.084512085 -0.20302378 0.048699465 -0.062703446 0.010136593 -0.75146395 -0.39029112 0.015617316 -0.18081668 -0.00689467 -0.4643257 -0.026527304 -0.31393272 -0.25472313 0.2095759 0.12204815 -0.24411461 -0.27144215 0.058130573 0.073471695 -0.07954203 -0.06386386 0.023687735 -0.22019964 -0.0638832 -0.04599739 0.046265792 0.15288901 -0.17006429 0.27963278 0.024039987 0.002942003 -0.1199971 -0.017031481 -0.08094679 -0.28517786 -0.19507088 -0.27298856 0.19197762 0.027146129 -0.018448481 -0.17690974 -0.14837885 0.079893366 -0.7739247 -0.012789028 -0.19474019 -0.13299607 -0.18107237 0.8736692 -0.15476367 0.02453349 -0.24478239 0.12943637 -0.0033536328 -0.18351737 -0.05023468 -0.056147385 0.11217755 0.04299532 -0.14425647 0.03983611 -0.07686477 -0.08901268 -0.168949 0.014796935 0.04970119 -0.05507256 0.06443922 0.027573023 -0.0089489985 0.13725348 -0.15368369 -3.716124 -0.080606624 -0.2927369 -0.16916265 -0.07890596 -0.2613337 -0.12696733 -0.16633916 0.05845315 -0.26690808 -0.12311006 -0.16571052 -0.15132657 -0.2423452 -0.19748807 -0.03590758 -0.032913636 -0.2184076 0.11503111 -0.0053653074 -0.17466293 0.20940378 -0.082891636 0.11813589 -0.13348581 -0.26171368 0.10798341 -0.10212695 0.02232216 -0.23853607 -0.016608538 -0.060761943 0.10201313 0.078327656 -0.067701764 -0.19063318 -0.32678035 -0.17288093 -0.14129463 -0.2192998 -0.027783085 -0.26282856 -0.8000612 -0.176342 8.6198634e-05 -0.11213468 -0.13586506 0.017050775 -0.18725085 0.0416307 -0.1688977 -0.098565124 0.1467637 -0.21715705 -0.056727033 -0.123488575 0.004865776 -0.25153184 -0.02026347 1.1158494 -0.08090363 -0.14683631 -0.1083366 -0.022887161 -0.07520113\n",
            "\n",
            "chef -0.17653967 -0.019102268 -0.0044735167 -0.064737864 0.007776948 -0.21386705 -0.071816295 -0.076871276 -0.081126355 0.07493059 0.348881 -0.07937759 -0.12255788 0.049871936 -0.07095029 -0.13409595 -0.11124803 -0.2155337 -0.00027922567 -0.45150506 0.1782478 -0.24607608 -0.24035321 0.07142417 -0.08979301 0.15526134 -0.3190859 -0.28737974 -0.07803381 -0.192904 -0.058648687 -0.06459357 -0.049242616 -0.16950949 -0.056953 0.10947923 21.81434 -0.11969996 -0.059976973 0.007508633 -0.08432886 0.02677964 0.043625798 -0.21040763 -0.026270045 0.010508571 -0.12036083 -0.0075415475 -0.25614774 0.006381874 -0.13884516 0.11513688 -0.12202248 -0.16652937 0.11727412 0.30527934 0.07768873 -0.23259552 -0.07390683 -0.01113283 0.19723596 -0.12251656 0.07572372 -0.11378163 -1.041971 -0.098444946 -0.020588987 -0.02266136 -0.16003768 -0.13872726 -0.024117492 -0.2412113 -0.13111983 -0.13850439 0.016703168 -0.2322207 -0.30950278 -1.1576269 -0.0097084865 -0.19999076 -0.26029208 -0.050727293 -0.055768892 -0.3791122 -0.08090993 0.17456616 -0.3607654 -0.9911619 -0.059415508 -0.14906964 -0.10924019 -0.16699857 -0.1435603 -0.011698008 -0.19094883 -0.1985516 -0.12262952 0.02056011 0.10032053 0.021974718 0.0149581805 -0.058309313 -0.3232735 -0.08869929 0.024958886 -0.10363013 -0.18241143 2.0913987 0.032044057 -0.046129543 0.120981656 0.09773554 -0.10211571 0.058943614 -0.036322724 0.090263255 -0.15802428 -0.048894513 -0.09364656 0.0069513614 0.01858681 0.05010544 -0.06470272 -0.088905655 -0.092996106 -0.032735717 -0.02779957 0.014399454 -0.44671422 -0.1274947 0.033078596 0.11524762 0.20551845 -0.0814352 0.07100488 -0.008308242 -0.04948656 -0.23696974 0.68707335 0.115297236 -0.19945775 -0.0050160107 -0.4005749 -0.19160904 -0.016750474 0.107097514 -0.026262801 -0.08518742 -0.045852013 -0.08323674 -0.24748115 -0.08013571 -0.023252102 0.028826434 -0.07456629 0.0509174 0.0930282 0.02771139 -0.009120574 -0.060663957 0.11843055 0.0020751904 0.04225941 0.030945813 -0.14745922 -0.055730734 -0.11265864 -0.47243202 -0.22695187 -0.09989812 -0.11151447 -0.012405592 -0.22236589 0.083962224 -0.04467625 -0.18239516 0.004282134 -0.22775906 -0.14039464 -0.08879743 -0.119688556 0.08287754 -0.062357694 -0.20126382 -0.023814227 -0.14528878 -0.07692521 0.11448158 -0.04358835 -0.057040546 -0.01584132 -0.1307098 -0.25236288 -0.085199654 -0.022844886 -0.17275949 -0.064216904 -0.2722864 0.0012769875 -0.30723372 -0.042314637 0.108499475 -0.16061027 -0.10392973 -0.063732125 -0.11505809 -0.048748534 -0.15496306 -0.16289929 0.004564844 -0.021909779 0.14573042 -0.07113394 0.2781697 -0.053612728 -0.013139427 -0.13111311 -0.23623626 -0.13371511 -0.037955254 0.0012467188 -0.1323986 -0.06630561 -0.15295476 0.0040179435 -0.09936664 -0.03737145 -0.13656396 0.05703456 -0.032977223 0.19780454 0.036448024 2.3133988 -0.095762655 -0.082505316 -0.10002768 -0.032302175 -0.08270242 -0.007745464 0.06620258 -0.007153272 0.1340998 -0.025674203 -0.05367194 -0.018942991 -0.03030053 -0.32696402 0.09100178 -0.018222429 -0.2206205 -0.28796396 -0.053318556 0.08693809 -0.18883973 -0.16835968 0.05833776 0.047215305 0.077816546 -0.07190016 -0.11086622 0.07761525 -0.18347046 0.032137163 0.04087603 -0.11569211 -0.11653974 -0.9706701 -0.22986357 -0.228679 0.1461771 -0.459061 -0.06342202 -0.121739544 0.026389664 -0.3858573 -0.14129612 0.040100608 -0.09501788 -0.088988125 -0.05942735 -0.061786465 -0.03471445 -0.03187918 -0.025504777 0.08799677 -0.043181118 -0.065280706 -0.17616639 -0.24966052 -0.102143586 0.034154575 0.0017312125 -0.14576967 0.03310799 0.09002802 -0.06451841 -0.15938836 -0.08829909 -0.105116814 0.046285868 -0.08898793 -0.05142472 -0.12111074 -0.11288315 -0.17190465 -0.065007225 0.09605194 -0.20814447 -0.92011577 -0.035583414 -0.028946696 -0.2697584 -0.09229012 -0.11770125 2.208741 -0.09007204 0.06516465 0.030118553 -0.04406677 0.016905911 -0.085154444 -0.16480121 -0.18599573 0.10342634 0.0880749 0.032703772 -0.38496134 -0.05628039 0.09882966 -0.16693082 -0.21023364 -0.07865072 0.06986705 -0.13314469 0.15263739 -0.24737169 -0.24426125 -0.039576214 -0.14118372 -0.14971995 0.03012736 -0.15138331 -0.15542649 -0.06410222 -0.21204041 -0.047366958 -0.18260202 -0.37156525 -0.086120166 0.044410225 -0.14300816 0.074998505 -0.009174737 -0.17923439 -0.10818074 -0.10104696 -0.496026 -0.026534533 -0.08201315 -0.13398683 -0.13319652 -0.24921767 -0.17182165 -0.026249433 -0.14823177 -0.38583437 0.014438134 -0.014769429 0.0663117 0.013590949 0.10761748 -0.030189425 -0.058189537 -0.7263865 -6.5156965 -0.29602847 -0.0392362 0.26002073 -0.5107066 -0.0039333245 -0.00071715325 -0.26445702 -0.021863027 0.025447566 -0.25751123 -0.06199043 0.2264757 0.02141605 -0.13416214 0.05675344 0.023141416 -0.0890962 -0.028460842 -0.4967363 -0.044288926 -0.0068165613 -0.1764013 -0.12276472 0.023240564 -0.08564476 -0.028946241 -0.08205997 0.021044552 -0.082074255 -0.11281524 -0.0110733975 -0.09433478 -0.1990646 -0.22079505 -0.022747276 -0.18161614 -0.19337825 -0.21531434 -0.16203561 -0.19740118 -0.1574816 -0.13988234 -0.33194995 0.07309544 0.06942299 -0.111995816 -0.1959079 -0.005230348 -0.14439012 -0.097473696 0.008994426 -0.077576995 -0.18469472 -0.16729331 -0.2229548 38.33902 -0.09680095 -0.043119434 0.010724708 -0.16390732 -0.036370326 -0.11497709 -0.12960823 0.028954087 0.42306206 -0.01629896 0.020988215 3.9109051 -0.03431694 -0.0075593865 0.01643742 -0.0009584504 1.6998179 -0.025535403 0.056248043 -0.24625532 -0.031735394 -0.0039078738 -0.6266101 -0.11882324 -0.19165045 -0.33820143 -0.09669173 -0.025500104 -0.15819797 0.14263198 0.06661916 -0.030776696 -0.1770218 -0.16153295 -0.13154544 -0.05917452 -0.16963477 0.023577899 -0.13317706 -0.027986774 -0.051929537 -0.14491552 -0.01139547 -0.028767686 -0.1637451 0.015795844 -0.10525095 -0.30013952 -3.6307647 -0.8552007 0.68174654 -0.2528467 -0.19017301 0.027543496 -0.08583821 -0.014551752 -0.1288544 0.015174033 -0.06757471 0.060943995 -0.060379375 -0.19262436 -0.074204855 -0.18604179 -0.13514076 53.879627 -0.5134794 0.08215468 -0.031270098 -0.103605516 -0.19997965 -0.007499902 -1.1432116 -0.21377239 -0.20834477 0.06332967 0.068585426 -0.10428983 0.10763792 -0.059391424 -0.4058163 -0.08363532 0.011922258 0.031729784 -0.22679593 -0.117774494 -0.06565937 -0.18343538 -0.1359502 -0.0012251262 -0.2024615 -0.083932474 -0.21094553 0.013562602 -0.33325943 0.20668623 0.14644897 -0.17786843 -0.014499575 -0.1371197 -0.21228184 -0.11795086 -0.061328504 -0.10832139 -0.0785625 -0.041817848 -0.14505245 -0.19583522 -0.17374541 0.40817752 -0.20457035 -0.1670369 -0.121774495 -0.106570415 -0.13893373 -0.05806176 -0.08211629 -0.07610529 -0.27243268 -0.06260793 -0.21397881 -0.096906096 -0.29331654 -0.9197869 0.05947442 -0.061790753 0.08236239 -0.08974833 -0.15411228 -0.1413922 -0.08195874 -0.083000615 0.055455826 -0.09596606 -0.02335549 0.19574097 -0.14381924 -0.038084436 -0.10081066 -0.16799465 -0.02638645 0.085098736 -0.23655154 -0.031421844 -0.17476507 0.044549398 0.049646676 -0.27714732 0.12886943 0.02766389 0.048731152 0.120045125 0.048002444 -0.018676473 -0.12902212 -0.024961254 -0.23470855 0.120150544 -0.06529176 0.0807168 -0.09085251 -0.1755085 0.049197096 -0.030314894 -0.07546143 -0.045721382 -0.0147675155 0.031674337 -0.022805328 -0.07701469 -0.09005413 -0.27959022 -0.03060431 0.05558958 -0.08683004 -0.05353471 -0.082725674 -0.3361669 0.021360992 -0.07796557 0.08337635 -0.20655528 -0.17116837 -0.241637 -0.20567258 -0.13110743 -0.11734847 -0.17431134 -0.1682324 0.0020210429 -0.021872168 0.08607888 -0.054085143 -0.046713054 -0.07373593 -0.25193828 0.38773146 -0.027165065 -0.2831197 0.12576962 -0.048782498 -0.0066739717 -0.08048522 -0.046206195 -0.65982604 -0.13209088 -0.009838914 -0.17479625 0.11829157 -0.11704086 -0.1381914 -0.2922809 -0.1286909 -0.15359114 -0.053010266 -0.28050143 -0.10110396 -0.011583228 0.15011962 -0.030683288 -0.041404627 0.12622312 -0.08159272 -0.004301283 -0.35382992 -0.014795655 0.04612721 -0.0548957 0.56904954 -0.020559166 -0.06251598 -0.1513303 -0.059631173 -0.032493588 -0.04894303 -0.0800836 -0.19306631 -0.050732628 -0.0943482 0.06677934 0.002066863 -0.15311477 0.019883027 -0.46265194 -0.0005353885 -0.10109866 -0.1311897 0.0025133216 -0.122362316 -0.27207512 0.004735486 -0.095405586 0.004401276 -0.15395598 0.029024009 -0.07135981 -0.039168216 0.016469063 -0.03988198 -0.040936407 -0.017508114 -0.0063441573 -0.0791363 -0.106025614 -0.0035213227 0.10158172 -0.033399694 -0.09375887 -0.037489932 -0.030537281 0.11541342 0.08747689 -6.8534803 -0.16959484 -0.09055003 -0.29465744 -0.18492624 -0.25202847 -0.055205382 -0.15234105 -0.09427288 -0.15015642 -0.08222594 -0.08051372 0.021549094 -0.08317565 -0.28357524 -0.1817911 -0.09277988 -0.3615914 -0.06517934 0.032139193 -0.065544054 0.12488658 -0.02515757 0.18238248 -0.20773533 -0.15886195 -0.02682283 -0.019089151 -0.11903553 -0.23526789 -0.036574837 -0.23682891 -0.043641422 0.0752512 -0.054211684 -0.18438156 -0.37237072 -0.20971827 -0.25493667 -0.18468362 -0.094854936 -0.22171965 -0.4175245 -0.008464701 -0.111196294 -0.17729716 -0.07533547 0.036536932 -0.06813132 0.043909717 -0.19524972 -0.07981093 -0.09636021 -0.09335805 -0.028267886 0.018628204 0.12124242 -0.1647636 0.049055744 0.24687606 -0.11739127 -0.05238149 -0.17004248 0.01411718 -0.053202044\n",
            "\n",
            "designer -0.2570141 -0.01280562 -0.52154815 0.019106992 -0.10030002 -0.18601286 -0.76129454 0.13156016 0.07493343 0.06489926 0.4242353 -0.085387826 0.01780466 0.057011377 -0.23428726 -0.047324806 -0.13207555 -0.2268159 0.037251607 -0.33464757 0.10304984 -0.061842624 -0.17707664 -0.07495955 -0.0810776 0.10930536 -0.34736073 -0.24056971 -0.0800226 -0.22132757 0.07383101 -0.012552576 -0.06528469 -0.23398699 -0.10129152 0.2220625 20.782486 -0.04692792 -0.019672856 -0.09927366 0.0009328209 0.10856947 0.0039437492 -0.38643283 -0.05172486 0.08975011 -0.029957052 -0.003488941 -0.30726492 -0.10668238 0.0032724198 0.1282655 -0.25765988 -0.16675876 0.063147694 -0.116485305 -0.1488627 -0.41902563 -0.22046967 -0.048560858 0.053107724 -0.051930457 -0.061549667 -0.03155206 -1.0386274 0.013219589 0.013073201 -0.15781792 -0.19299215 -0.07727416 -0.09065555 -0.24580343 -0.068024285 -0.22112255 -0.08819001 -0.43062657 -0.23206441 -1.0701218 0.1101012 -0.06910106 -0.3637542 -0.08666188 0.0808332 -0.10376945 -0.22351055 0.08131427 -0.109978765 -0.9889961 -0.13527551 -0.013338526 -0.16206086 -0.2874025 -0.33595163 -0.09525567 -0.28186974 -0.053156506 -0.08857805 -0.14676158 0.010422936 0.3091299 -0.11175911 0.10908838 -0.059794236 -0.08834329 0.08460571 -0.10788919 -0.20164673 2.3395507 -0.15667017 -0.094993316 -0.08522143 0.08468136 -0.22948687 0.08077101 0.057729375 -0.016341971 0.11762516 0.13570523 0.041080236 -0.073372036 -0.13635905 -0.007534992 -0.030489845 0.105065085 -0.14635493 -0.11783224 0.0553905 -0.020220045 -0.17021118 0.022419246 0.14529365 -0.011888053 -0.051751804 -0.08497294 0.004366235 -0.23591055 0.01674015 -0.13492782 0.69246054 0.034337457 -0.08338078 0.026578842 -0.9042648 -0.07981658 0.003464703 0.04243115 0.0323744 0.057314254 0.0049213218 -0.12968256 -0.23650953 -0.2216295 0.09848303 0.13032989 -0.13961852 0.1646621 0.03157987 -0.266069 0.1265879 -0.13159329 0.39684558 -0.08389775 0.046872675 -0.09558025 -0.27651948 -0.1398538 0.0075210324 0.12188536 -0.19132905 -0.28530684 -0.13507289 -0.14915253 -0.078697436 -0.04125741 -0.16663635 -0.019673109 -0.35397956 -0.33965668 -0.08672782 -0.06691096 -0.19616134 0.012500772 0.15529275 -0.00914096 -0.00018015254 -0.13127263 -0.011625327 -0.2745756 -0.06276012 0.036649924 -0.15768068 -0.14745672 -0.12203172 -0.19256079 -0.10162971 -0.11571709 -0.07686024 -0.15445387 -0.22460364 -0.19426163 0.048514396 -0.06483784 0.09241443 -0.3145456 -0.051278785 -0.084595576 -0.25944516 -0.14909635 -0.085655294 0.10397129 0.09930319 0.18639314 -0.16885161 0.3982594 -0.10159688 -0.1168317 -0.2698205 -0.20831966 -0.12426537 -0.036909375 0.055127714 -0.13620558 -0.15612145 -0.19234456 -0.17344007 -0.20286483 0.027501402 -0.17103553 0.052224874 -0.11728396 0.091788195 -0.15960453 1.5758736 -0.12550324 -0.045025796 -0.23840642 -0.17256828 -0.006877744 -0.14253303 0.0040617627 0.028045204 0.13584618 0.0955291 -0.07176372 0.050156888 0.10337936 -0.2915129 0.044065036 0.07136806 -0.15757363 -0.5743208 -0.17903301 -0.07432469 0.15114556 -0.099522956 0.36535615 0.16690397 0.124685794 0.010792366 -0.13451254 -0.015124573 -0.19451806 -0.076541126 0.07402815 -0.07600146 -0.14223215 -0.9674386 -0.22830465 -0.30437157 0.16392782 -0.19915412 0.3308602 -0.18564324 0.023451332 -0.1875191 -0.26495454 -0.17370217 -0.17932652 -0.09011862 0.014412853 0.029593967 -0.13202618 -0.0463146 0.009962763 0.071231574 0.020309128 -0.16060126 -0.17201318 -0.070310146 -0.12623778 -0.03640484 -0.08312055 0.20950815 0.034353472 0.042840276 -0.20710094 -0.082575776 -0.16998495 -0.041316517 -0.041757844 -0.11910567 -0.049905453 0.18818554 -0.022788445 -0.12083933 -0.07107038 0.08069111 -0.19298865 -0.86528105 -0.04451562 -0.08276353 0.068864465 0.065236084 -0.16851641 2.7700546 -0.009953281 -0.17414363 0.018843956 -0.14950058 0.15428652 -0.53498596 -0.1799643 -0.19698317 -0.24433964 0.096046194 0.06969136 -0.3512476 -0.008011885 -0.026114468 -0.14453197 -0.27203545 -0.04317007 0.066776074 -0.2070845 0.21630915 -0.3206104 -0.087771565 -0.16868152 -0.07678028 -0.0728482 -0.013665556 0.07194889 -0.14339457 -0.25536165 -0.23512872 0.0871778 0.078624696 -0.39037094 0.019804345 0.02999784 -0.32670653 0.10801323 -0.016187211 -0.15890712 -0.08749675 -0.07941452 -0.5916079 0.0010707261 -0.09696107 -0.12687324 -0.048356876 -0.026288431 -0.28016573 -0.052650128 -0.14740002 0.0106257405 0.011041898 0.023021458 0.07657769 0.013493541 0.23513484 -0.11184105 -0.092139676 -0.7171297 -7.6353607 -0.16231024 -0.05339409 -0.2844349 -0.48869345 0.037245996 -0.18289205 -0.13838273 -0.06288609 -0.14006115 -0.2974626 -0.27211374 0.047077727 -0.047430202 -0.048143115 -0.44006506 0.26021916 -0.08167115 0.11756764 -0.54846585 -0.10208657 -0.0031664236 -0.43912098 0.025250742 0.08255837 -0.0039409627 -0.0480496 0.0022321728 0.011007979 0.063736424 -0.08218334 -0.047886416 -0.02235035 -0.17270742 0.15041505 -0.017679807 -0.2688933 -0.1010309 -0.12518054 -0.17275506 -0.045193534 -0.14481695 0.05873623 -0.14762747 -0.029730234 0.013093666 -0.18483447 -0.15130015 -0.096852474 -0.14355655 0.00039731016 0.0322771 -0.13799761 -0.06550285 -0.3001015 -0.3176623 36.572197 0.07741653 -0.07744392 -0.00050083234 -0.18691203 0.092633896 -0.07298433 -0.019046739 0.12179434 0.29519925 -0.18512188 0.024565661 3.6932833 -0.05808112 -0.047804575 -0.04906694 -0.10072206 1.6967025 -0.01879816 0.12062489 -0.12402793 -0.12676154 0.06449655 -0.2880725 -0.12526919 -0.083269216 -0.25693735 -0.14901394 0.020692175 0.16248201 0.3002112 0.07263818 -0.05829728 -0.1247197 -0.1911632 -0.2133855 0.07798783 -0.1609957 -0.18878737 0.077405095 0.071667634 -0.17313114 -0.059505295 -0.084819235 -0.039565656 -0.19394782 -0.0030904543 -0.1720633 -0.1556726 -2.8952677 -0.85262513 0.6754852 -0.16535711 -0.06062438 -0.024975961 -0.14331074 -0.062799275 -0.16711405 -0.040337317 -0.26730347 0.092595614 -0.13552731 -0.27620032 -0.19294143 -0.22264923 0.02184856 50.54696 -0.44973394 0.042466227 0.02547778 0.060900755 0.019090237 -0.106695846 -0.81872493 -0.07401624 -0.12470553 0.08883753 0.0251661 0.0044322237 0.07528911 -0.002103263 -0.25247827 -0.11928062 -0.13261105 -0.07743462 -0.31716362 0.015890453 -0.15601791 -0.08923503 -0.12644239 -0.058527533 -0.2572254 -0.13547397 0.10615603 -0.03829007 -0.32207137 0.08515264 -0.19862978 -0.26425317 -0.11046788 -0.15477867 -0.16907482 -0.15452793 -0.06651677 -0.23410892 0.014553565 0.039944023 -0.25965017 -0.071429245 -0.10283864 0.42977023 -0.12471315 -0.15907772 -0.57413465 -0.15049127 -0.2263311 -0.048117742 -0.043230493 -0.02691342 -0.3033146 0.044510443 -0.16287531 -0.1770706 -0.08687826 -0.64603955 0.16437161 -0.0057664164 0.05286705 -0.073963046 -0.43022287 -0.16951996 -0.13638204 -0.14521232 -0.075950235 -0.043168027 -0.061589222 -0.2506161 -0.24989861 0.058935937 -0.19514948 -0.13200994 -0.052295294 -0.17870122 -0.2148473 -0.21481185 -0.009001844 0.03916312 -0.049534604 -0.16192593 0.09502106 -0.017339408 0.04815095 0.21714851 -0.00596079 -0.10125518 -0.1825346 0.1484779 -0.20915595 0.024073869 0.024577307 0.18655956 -0.11097889 -0.021864431 -0.21794823 0.024403093 -0.07500381 -0.16057637 0.06617182 -0.14577511 -0.07078153 0.031530727 -0.21025398 -0.2542997 -0.011107243 0.016311929 -0.1037634 -0.11713653 -0.022661952 -0.5916663 0.15890072 -0.2709688 -0.07942281 -0.028832795 -0.03680124 -0.19415659 -0.17543794 -0.01266708 -0.15092154 -0.2034925 -0.23196161 -0.01874874 -0.18425511 0.05865875 -0.15402573 0.17007114 -0.023549756 -0.1496946 -0.9375844 -0.06725497 -0.26124045 0.12387913 -0.09119062 0.03350344 -0.20258719 0.049353227 -0.64093024 -0.44805172 0.0295254 -0.122277044 -0.10995087 -0.3136278 -0.040725455 -0.14557523 -0.19643956 0.09562902 -0.06513555 -0.3334674 -0.090819076 0.016072173 0.2983764 -0.025699055 0.061195236 0.09618007 -0.18770662 -0.087044485 -0.15374932 0.010838777 -0.006066212 -0.064612955 0.39611605 0.0130142085 0.022414284 -0.057312556 0.0037312342 -0.016463704 -0.048068576 -0.053839926 -0.3168285 0.3643001 -0.17074129 -0.07878545 -0.20630063 -0.21087699 0.052932743 -0.50796986 -0.021413276 -0.17339507 -0.17478834 -0.16253775 1.4683627 -0.18694161 -0.0046411445 -0.18188614 0.115857825 -0.18272729 -0.16517505 0.015163283 -0.1492719 0.27329338 0.12388935 -0.08781481 0.01654446 -0.18075217 0.08739516 -0.2906402 -0.021909507 0.109493084 -0.118425705 0.082480215 -0.06903414 -0.040067986 0.04822726 -0.024331855 -5.9211 -0.16795123 -0.35253218 -0.23417108 -0.17781284 -0.21105933 -0.024434118 -0.29646155 0.0035435457 -0.2829064 -0.18393402 -0.17111406 -0.18014064 -0.13519967 -0.1860781 -0.22986645 -0.04445694 -0.15459298 0.006579732 -0.05539161 -0.05386896 0.22068602 0.13820352 0.14141928 -0.14028943 -0.05022892 0.13862203 -0.0044154436 -0.026107915 -0.19212931 -0.084573895 -0.1615201 0.117773525 0.0004532598 -0.1614899 -0.183051 -0.26816392 -0.23941739 -0.22049162 -0.36966115 -0.15108064 -0.29798788 -0.5944455 -0.06238273 0.056246992 -0.114493355 -0.11678765 0.08397427 -0.16648783 -0.050711475 -0.21230282 0.06485817 -0.05708357 -0.20684469 -0.15890221 -0.071494326 0.07717903 -0.25673652 0.0026774541 0.92364043 -0.1901164 -0.07979404 -0.15523744 0.053265817 -0.05759593\n",
            "\n",
            "dentist -0.1306713 -0.090372816 -0.34743676 0.0033786686 0.099838756 -0.14199962 -0.16330512 -0.0011515982 -0.15559755 -0.05786999 0.43221304 -0.051154334 -0.06698095 0.025224417 -0.18426083 -0.1196563 -0.22568701 -0.10554377 0.13646637 -0.23601292 0.05134943 -0.09310914 -0.18381673 0.12388005 -0.05696902 0.12581523 -0.32557684 -0.15766042 -0.06603428 -0.26980975 0.012222424 0.16572948 -0.09921634 -0.2064544 -0.057007037 0.1720296 19.614504 -0.048235014 0.0027661445 -0.016577188 -0.083776765 -0.029766835 -0.068550944 -0.35292065 -0.065441206 -0.018237686 -0.06382861 -0.050709568 -0.18009406 0.045313247 -0.2010175 0.12208208 -0.07061499 -0.03663736 0.06464009 0.043243445 0.038293403 -0.18724093 -0.100119606 -0.051855605 -0.04096841 -0.07237893 -0.06414075 -0.031103708 -1.0450999 -0.03661912 -0.051410735 -0.05009202 -0.30419993 -0.28033474 -0.1697111 -0.110469244 -0.092826724 -0.16371007 -0.06295757 -0.37165126 -0.18591815 -1.8798081 0.048967253 -0.021586137 -0.323007 -0.15817761 -0.0074800653 -0.40856054 -0.1087241 0.19643992 -0.034382004 -0.9927326 0.011526654 -0.025933566 -0.05300424 -0.1325886 -0.29123664 -0.0942564 -0.16568242 -0.05076139 0.033734765 -0.0408441 -0.03966462 0.048165657 0.053428356 0.04683432 0.397998 -0.04153816 0.04792367 -0.099998206 -0.13676511 2.4278028 -0.039116926 -0.06978975 -0.09753438 0.045117967 -0.14001141 -0.043509454 -0.0353534 -0.016608912 0.026102757 0.070197485 -0.06843211 -0.044688623 -0.16976829 0.036890294 -0.085183896 0.03542585 -0.15969324 0.002741675 0.009565266 0.12493177 -0.2369558 0.035680458 -0.030191695 0.049673416 -0.018077102 -0.083416104 -0.0020953738 -0.0732081 -0.01092506 0.008791808 0.6814019 -0.05711292 -0.10454505 0.05119856 -0.4305283 -0.042507354 0.014645698 0.10000649 0.06788055 0.05934257 -0.015931739 -0.19139113 -0.21500123 -0.1299016 -0.03778012 0.017121967 -0.07019137 -0.012359832 0.046362568 -0.14176099 0.020766724 -0.00299767 -0.05950396 -0.1727482 0.05688932 0.09505101 -0.20681709 -0.033704653 -0.020240787 -0.8170714 -0.13203944 -0.30767292 -0.10263893 -0.013038516 -0.0044667767 0.09093519 -0.21479346 -0.16220894 -0.14686385 -0.26359463 0.035117943 -0.022813983 -0.21466747 0.028655853 0.014612875 0.027376747 -0.078987464 -0.086220145 0.009733153 -0.09860085 -0.039880864 0.08145742 -0.130029 -0.084575154 -0.1271624 -0.08053754 -0.071189806 0.04878388 0.033750527 -0.044509046 -0.051565617 -0.28783306 -0.11207397 0.0947578 -0.15149882 -0.22130156 0.02072636 -0.016498817 -0.15375775 -0.13683616 0.0014051286 -0.100761786 0.0673686 0.029513132 -0.014255159 -0.1388014 0.0332929 -0.11819405 -0.028455412 -0.19579278 -0.11142496 -0.13966161 0.007858547 -0.06535794 -0.09532746 -0.005998102 -0.103496596 -0.09112189 -0.077133626 -0.042267703 0.059836477 -0.18667665 0.1381903 0.027487544 1.3537009 -0.12035291 -0.16366164 -0.23853782 -0.086939126 -0.053831063 -0.12468225 -0.026888309 -0.005169598 -0.023650717 0.039791897 -0.09075911 0.08528692 0.08431045 -0.19536868 0.10523773 0.10345305 -0.36257145 -0.33842394 -0.12550268 -0.052623857 -0.10044576 -0.07971743 0.14376348 0.11976749 0.010961413 -0.10804556 -0.0030984848 0.0535326 -0.14231005 -0.042030264 0.16442053 -0.15663311 -0.10830818 -0.97309554 -0.21371664 -0.15330815 -0.05106363 -0.3085368 -0.38665953 -0.14620398 0.063649274 -0.10099538 -0.18254764 -0.09192177 -0.16871093 -0.078963675 -0.05631778 -0.07090803 -0.12573715 0.005870536 -0.0508644 0.22893567 -0.09631454 -0.16768274 -0.17210408 -0.3427839 -0.04765536 -0.016316228 -0.1341192 -0.08460739 0.06017897 0.059937283 -0.13934737 -0.036703926 -0.12014389 -0.03411142 -0.07301809 -0.13472739 0.012358802 0.060996465 -0.05002133 -0.16811514 -0.02332046 0.041173488 -0.1127983 -0.4919469 -0.05073415 0.04267414 0.22142991 0.040660907 -0.291078 3.9044864 -0.14126268 -0.019423552 0.00067835674 0.018139942 0.14752458 -0.399175 -0.17803185 -0.27727592 -0.047012333 0.0018363108 -0.018310983 -0.23452926 -0.07044286 -0.03827542 -0.23287544 -0.07776957 -0.13411516 -0.017089156 -0.062170226 0.14382291 -0.2246809 0.071198225 -0.1345524 -0.056986317 -0.035658583 -0.072367616 -0.018902937 -0.19312981 -0.14100231 -0.11042036 -0.043494996 -0.1983709 -0.32919362 0.045284074 0.11066415 -0.07768871 0.11418919 0.09633846 -0.2195315 -0.078267045 -0.11012389 -0.41879213 0.023827327 -0.11052503 -0.060746174 -0.20982316 -0.29276362 -0.39355266 -0.12580214 -0.15523104 -0.595378 -0.048161443 0.046050347 0.036699507 0.00017281479 0.07426704 -0.08766496 0.048147116 -0.74430734 -7.4237437 -0.035632137 -0.26426995 -0.04940414 -0.5564261 -0.15381709 0.008063225 -0.062720284 -0.114608236 -0.026006743 -0.22870822 -0.17562023 0.21174484 -0.030547904 0.078153096 -0.3201916 0.14739478 -0.025654355 0.078312494 -0.38734865 -0.15559036 0.05517216 -0.3756213 -0.06940491 -0.04549804 -0.10636606 0.003906664 -0.12913355 0.15787679 -0.002523905 -0.0943207 0.00035295595 -0.10089334 -0.22915803 -0.551215 0.06769044 -0.19618402 -0.100559406 -0.09380691 -0.15696213 -0.049344204 -0.21985903 -0.11765406 -0.02320847 -0.11537322 0.018167607 -0.4065216 -0.18529786 0.039079554 0.023052754 -0.05906481 -0.08583844 -0.1865065 -0.02934658 -0.12357669 -0.15169737 38.470127 -0.028809119 -0.04579624 -0.03954882 -0.15735273 -0.079294875 -0.070249766 0.08399676 -0.008024511 0.12556155 -0.1666744 0.047950916 4.539497 -0.093933344 -0.11059323 -0.015558734 -0.048003048 1.7029325 -0.10783499 -0.025213195 -0.184873 -0.006507133 0.059445616 -0.3043983 -0.23038878 0.1683292 0.02767615 -0.11296107 -0.02927354 -0.09437476 0.22345586 0.10144584 -0.0046432395 -0.20146109 -0.1702422 -0.14692305 0.008936796 -0.0932889 -0.07579114 -0.09103523 0.13975088 -0.05442221 -0.15630117 0.010092733 0.05100293 -0.17739272 -0.02911307 -0.102039434 -0.22163376 -3.9812121 -0.85725105 0.70261985 -0.13442595 -0.12931746 0.018635346 -0.12025835 -0.036389746 -0.16291896 0.18061051 -0.096181795 0.10014619 -0.024671027 -0.24536568 -0.1222715 -0.24303827 -0.09319549 54.92201 -0.32874817 -0.056970432 -0.06002008 0.024290603 -0.13574256 0.03847127 -0.9305953 0.004217973 0.008291793 0.047659006 0.07766599 -0.033048674 0.06500912 -0.028121926 -0.279717 0.09502213 -0.15463732 -0.19428104 -0.27917993 0.0063400697 -0.079825856 -0.12841402 -0.16943195 -0.09651215 -0.15303497 0.023047991 -0.06496914 -0.102985576 -0.3375697 -0.19721696 -0.3968067 -0.24928883 -0.0853571 -0.054292932 -0.15016994 -0.14995591 -0.022691155 -0.13526209 0.015089855 0.067913644 -0.22915034 -0.056844555 -0.11356253 0.5010548 -0.13297497 -0.17555061 -0.68168724 -0.12277717 0.033534665 -0.17713246 -0.05154852 -0.014255558 -0.22339396 -0.018542904 0.04747765 -0.035394557 -0.08072695 -0.6784041 -0.022564 0.05172323 -0.019121181 -0.08590836 -0.16038309 -0.18849227 -0.04561511 -0.10130115 0.050596382 -0.20443144 0.03646698 -0.18219231 -0.2419881 0.009671767 -0.11876602 0.00956846 0.0573357 -0.06231628 -0.18403743 -0.112599984 -0.31123322 -0.01900418 -0.060810935 -0.13531479 0.071336575 0.015201174 -0.038413588 0.116315044 -0.099470794 -0.13726418 -0.063288584 -0.017190218 -0.23135674 0.10229061 0.0153052015 0.11549839 -0.0055769384 -0.11146439 -0.0064305924 -0.07362499 -0.035249226 -0.18006244 -0.013092145 -0.07100216 -0.06536386 -0.0063422564 -0.07574823 -0.23887542 -0.052168332 -0.003500153 -0.0005804292 -0.15865678 -0.078391686 -0.46604085 0.037288822 -0.09436941 -0.23056553 0.01873442 -0.095466994 -0.20655854 -0.15818231 -0.11874445 -0.16754673 -0.107111074 -0.10446956 0.06960319 -0.041905805 0.00932632 -0.14738946 0.0046038297 -0.028009266 -0.19713923 -0.42291299 -0.04042325 -0.15324496 0.043819796 -0.19972451 0.0086309705 -0.060062505 0.0109402705 -0.58126134 -0.36445564 0.02089494 -0.24114001 0.078181505 -0.16069841 -0.123779155 -0.16148694 -0.1113163 -0.09757113 -0.025130475 -0.3378067 -0.17763367 0.048001863 0.03801923 -0.14989717 -0.042406376 -0.015817542 -0.18245374 -0.074061885 -0.04798391 -0.07821979 0.058382127 -0.1818779 0.83058614 -0.030642768 -0.029751536 -0.1400807 -0.016049378 -0.053764153 -0.17425165 -0.14308563 -0.2325031 0.006643645 -0.11003608 -0.07750042 -0.13969485 -0.15457067 0.07109697 -0.64651525 -0.035267457 -0.18202007 -0.13755064 0.0338575 -0.32135966 -0.18470022 -0.0034667703 -0.19130369 -0.008645083 -0.094694614 -0.14723152 -0.13212694 -0.08274979 0.14956932 -0.024759935 -0.07900312 -0.003157844 -0.08795827 -0.07946354 -0.12665482 -0.15418462 -0.06081409 -0.016371492 0.06958677 -0.16001192 -0.0018248011 0.15196018 -0.026720006 -8.942473 -0.21603294 -0.11601946 -0.3207195 -0.16664448 -0.21488057 -0.010995732 -0.14269547 0.0077301958 -0.07340468 -0.21744047 -0.13602227 -0.14565445 -0.07986438 -0.13557103 0.014493488 0.06489843 -0.20784521 -0.14741656 -0.045297008 -0.16439107 0.43431532 0.050144054 -0.06574627 -0.15235455 -0.10509901 0.02389834 -0.18923146 -0.058430802 -0.11166081 0.0049085394 -0.1338229 0.061825607 0.0579865 -0.07746438 -0.101026 -0.34539965 -0.120253466 -0.12011527 -0.12774988 0.00092386734 -0.14207593 -0.35707417 0.039276212 0.0007388354 -0.064049825 -0.094779335 0.06367812 -0.038109284 -0.017661028 -0.11887197 0.0008531712 -0.025350427 -0.1366432 -0.027216341 -0.076180585 0.14169668 -0.28601405 0.04312374 0.23024186 -0.14987108 -0.080394834 -0.1270195 0.007326532 0.014254361\n",
            "\n",
            "entrepreneur -0.18642114 0.004985467 -0.32376996 -0.048657417 -0.020615727 -0.11789953 -0.3300066 -0.040980317 -0.29669717 0.0068395077 0.24916914 0.007817466 -0.04908592 0.041696146 -0.21707441 -0.044200025 -0.23377725 -0.10427587 0.0524656 -0.11880543 0.10810453 -0.06586044 -0.22722848 0.060295936 -0.04599362 0.039862316 -0.21715061 -0.14579736 -0.06337433 -0.2967909 0.034136306 -0.01755308 -0.13414809 -0.31361088 -0.06929896 -0.046339035 20.509632 -0.020114686 -0.068675436 -0.01717482 -0.103180856 0.044571973 -0.042536475 -0.28569874 -0.1176715 0.04088892 -0.09265139 0.059267256 -0.27399772 -0.11767183 -0.110241964 0.13033858 -0.23253083 -0.100933306 0.0747184 -0.14508113 0.027335726 -0.49024004 -0.12095581 -0.04493365 -0.030732278 0.068584055 0.07413506 0.0027041389 -1.0413998 -0.09676554 -0.09382925 -0.018644808 -0.109112956 -0.15942985 -0.14249004 -0.14526859 -0.13430056 -0.1483277 -0.06090404 -0.3252863 -0.24789955 -1.1623884 0.11432938 0.0111616505 -0.3154704 -0.10420732 0.04193636 -0.29689416 -0.08966715 0.10126861 -0.10311748 -0.9908122 -0.09834785 -0.03274212 -0.092483364 -0.21489961 -0.2832334 -0.0460318 -0.22061794 -0.09523449 -0.078059144 -0.075552 0.03762709 0.13210694 -0.0133414455 -0.02212358 -0.057352163 -0.022710804 0.02461939 -0.09217237 -0.06856313 1.3276746 0.013408426 -0.08759935 -0.12886558 0.02576028 -0.092966154 0.00038557468 -0.04191127 0.008985812 0.03921189 0.056314114 -0.07410182 -0.107347995 -0.045388747 0.025844447 -0.07178134 -0.037817303 -0.10962298 -0.03078972 -0.02145802 0.0037028638 -0.21678446 -0.052961815 0.06398044 0.018728457 0.0020381492 -0.05920246 0.051120076 -0.050897673 0.041813314 -0.2328515 0.74351406 0.059783332 -0.12865236 0.0028621804 -0.55978394 -0.10974302 -0.041818712 0.14001118 -0.092730336 0.05613298 -0.012707629 -0.13645127 -0.19243154 -0.082876004 0.01654734 -0.002045791 -0.19511275 0.09869033 0.010519159 -0.14450297 0.03329498 -0.08534908 -0.12729223 -0.048826873 -0.018922495 -0.21871129 -0.19889393 -0.028674936 -0.07604364 -0.6936648 -0.20712079 -0.16615985 -0.13456099 -0.08732004 -0.08602447 0.08865148 -0.04191501 -0.10149716 -0.2563851 -0.2697624 0.09144835 -0.02707768 -0.22600855 -0.073222786 0.063528106 -0.04680848 -0.060299 -0.14482245 -0.0833253 -0.12286938 -0.06380378 0.008214283 -0.12357313 -0.059138272 -0.14496471 -0.031246394 -0.11531826 -0.14476097 -0.053248636 -0.13650286 -0.28931713 -0.24918441 -0.17783631 0.019907854 -0.12868564 -0.1869724 -0.032384474 -0.06818082 -0.1177538 -0.10783992 -0.14841537 -0.047683366 0.069261536 0.07937903 -0.11246577 -0.104725555 -0.1031313 -0.12679532 -0.03806474 -0.1710482 -0.16355512 -0.050370313 -0.045798082 -0.10204484 -0.059958998 0.0115276035 -0.0022932484 -0.16312839 -0.056876145 -0.15675575 0.005686555 -0.05547094 0.15182948 -0.09624957 1.4171056 -0.04490348 -0.09894343 -0.17634009 -0.043025404 0.0015222649 -0.03479004 -0.08292086 -0.07032026 -0.016097471 -0.019658964 -0.035188973 0.10435494 0.066563085 -0.24039151 0.14077614 -0.006275203 -0.23044819 -0.5242263 -0.0819327 0.0046967054 0.122438036 -0.16385143 0.18790443 0.03886501 0.0116921645 -0.06613034 -0.023943428 -0.04023379 0.042617626 -0.10062883 0.071611024 -0.054409698 -0.20964473 -0.9699669 -0.22983158 -0.14597137 -0.099779144 -0.32665077 0.5402091 -0.14551017 0.11043879 -0.22090824 -0.21040006 -0.029992288 -0.12723659 -0.1271367 -6.579123e-05 -0.09135455 -0.17138001 0.07183703 0.08476804 0.11144865 -0.14265689 -0.19917807 -0.19747256 0.016195413 -0.024988981 -0.12036489 -0.04542435 -0.049025413 0.03095767 0.03419373 -0.16973199 -0.03933384 -0.09255756 -0.115254536 -0.06274252 0.09772145 -0.009792974 0.023446938 -0.034977034 -0.15068297 -0.0337032 0.15337713 -0.13473645 -0.96679085 -0.12563832 -0.021596363 0.29553193 0.028081441 -0.23983493 0.23715301 -0.20216008 -0.15640768 0.095198095 -0.048110798 0.08373881 -0.4995922 -0.11196865 -0.23791274 -0.08803132 -0.013464444 -0.0014043618 -0.4618829 -0.07430028 -0.102788456 -0.1815225 -0.20631997 -0.12209702 0.09702552 -0.1813991 0.13059989 -0.25442228 0.12707435 -0.21748738 -0.01978941 -0.12113956 0.02452918 0.022149978 -0.10632811 -0.20219068 -0.1028418 0.008848588 -0.10964049 -0.28811073 -0.072253115 0.07190151 -0.18746667 0.19018114 -0.040298693 -0.14586471 -0.015665207 -0.028956313 -0.46128613 0.077166416 -0.09948886 -0.084535845 -0.09424139 0.06585293 -0.25985846 -0.081396006 -0.104279906 -0.49620992 -0.06682893 0.012838306 -0.026981534 -0.066312745 0.123692274 -0.14311515 -0.041457478 -0.7324245 -7.2947273 -0.15070835 -0.17186968 -0.020417677 -0.7191298 0.06649616 -0.07473362 -0.20656513 -0.054991785 -0.1731158 -0.21672304 -0.1511008 0.15960525 -0.03134024 0.0061855935 -0.4201959 0.12501341 -0.06540861 0.111308716 -0.5260279 -0.080023766 -0.012995086 -0.22662054 -0.014108329 -0.04851976 -0.0769345 -0.0820495 -0.075466536 -0.17392486 0.035399966 -0.013231067 0.018915258 -0.12913874 -0.20001835 0.012426589 0.05030912 -0.2658114 -0.040681448 -0.17063262 -0.090216115 0.03264095 -0.047015265 0.012244282 -0.10418925 -0.06577036 0.002520035 -0.33871672 -0.18938799 -0.060969368 -0.1526209 -0.026135447 -0.017801901 -0.1209708 -0.07353276 -0.11058966 -0.17614192 33.881832 0.04513967 0.011850548 -0.099817574 -0.20474374 -0.07105973 -0.15189092 -0.066507705 -0.011444332 0.19999617 -0.08021057 -0.009656283 3.8070343 -0.060505506 -0.056419607 -0.07469446 -0.1281161 1.7022624 -0.014261044 0.08737959 -0.1451965 -0.11851884 0.092313424 -0.3950921 -0.09486745 -0.03901073 -0.13370642 -0.012861741 -0.040850602 -0.065831214 0.15919468 0.082146555 0.003980346 -0.14168185 -0.17949176 -0.29408005 -0.07033701 -0.14624663 -0.069779545 -0.0031133743 0.003954159 -0.010426711 -0.15768105 -0.039325878 0.016224291 -0.21132328 0.05739516 -0.23007578 -0.20844549 -2.742625 -0.85466117 0.68637925 -0.16395925 -0.08926341 -0.14507233 -0.048017215 -0.07810443 -0.094447985 -0.009471821 -0.06437266 0.21264131 -0.040916473 -0.08320703 -0.16678204 -0.16612907 0.020006843 48.25871 -0.31304976 -0.021349857 -0.04868687 0.035131063 -0.12343596 -0.08167449 -1.0409926 -0.06962338 -0.12725897 0.091078006 0.05734583 0.0031362558 0.053794753 -0.03631327 -0.336517 -0.03551174 -0.21645643 -0.08190317 -0.3063224 0.044219516 0.020336155 -0.13608064 -0.118259124 -0.09839923 -0.15652522 0.042529806 -0.094335936 -0.053508405 -0.36724934 -0.32356763 -0.41724446 -0.23723848 -0.14934886 -0.1393006 -0.0496954 -0.15607563 -0.014772456 -0.18234254 0.11978779 -0.015313418 -0.1638786 -0.15155776 -0.06446862 0.21469603 -0.15999657 -0.12175545 -0.12932488 -0.14293095 -0.059149608 -0.06872768 -0.11861158 -0.04723396 -0.22837012 0.034356974 -0.1788058 -0.14276388 -0.1600185 -0.7528718 -0.04423388 -0.0038172703 0.06916676 -0.14237729 -0.24450934 -0.104423486 0.08156324 -0.12991706 -0.011395861 -0.020476319 0.048034664 -0.018027306 -0.19852182 -0.030474838 -0.07440663 -0.021281876 0.016180415 -0.09801075 -0.14195703 -0.12542588 -0.13685969 0.01206401 -0.015938785 -0.2624838 0.05630308 -0.036501583 0.07408707 0.025547422 -0.041811723 -0.07890934 -0.09926169 -0.022404594 -0.2812846 0.14264601 -0.036708064 0.094204016 -0.06514223 -0.025491677 -0.15368588 -0.07187462 0.055534787 -0.14882895 0.06011487 -0.0082785515 -0.041505292 -0.08340282 -0.16667463 -0.24224502 0.0051238756 -0.04597622 -0.039896265 -0.07149695 -0.021676293 -0.3036507 0.023179865 -0.16456455 0.021551311 -0.046827745 -0.0075508016 -0.22482902 -0.103227146 -0.033298858 -0.16201152 -0.008599079 -0.17764312 -0.054052826 -0.14795177 -0.024665305 0.13442363 -0.026865982 -0.05513862 -0.15262085 -1.2696474 -0.048009288 -0.18673688 0.0016820207 -0.19608912 -0.056440692 -0.04630898 0.025749682 -0.7120599 -0.30676803 0.008890924 -0.19368398 0.025903156 -0.29412752 -0.06715559 -0.26238906 -0.009429725 -0.18859553 0.047109153 -0.24554239 -0.17737637 0.10560276 0.035870183 -0.051613793 0.09056804 0.036566388 -0.19595194 0.007434483 -0.18273482 -0.0006149595 0.0031305414 -0.124161616 0.40956292 0.019495618 0.0036945099 -0.037903514 -0.09383086 0.00016506211 -0.0052214423 -0.15745513 -0.2475665 0.1358383 -0.051348973 -0.057706147 -0.094671 -0.21439502 0.06167172 -0.7503097 -0.081301205 -0.1489778 -0.07731535 -0.07549177 0.33415473 -0.17385127 -0.025625126 -0.15662482 0.0823755 -0.15435904 -0.08137666 -0.04366378 -0.16927375 0.114244215 -0.030418081 0.012311798 0.026980944 -0.14674786 0.0235994 -0.18203457 0.013683797 0.054694723 0.024866305 0.05457381 0.0030032417 0.016108258 0.10694237 -0.05146804 -5.0414515 -0.12755147 -0.16925119 -0.34018558 -0.24687137 -0.17148878 -0.085082516 -0.12167044 -0.010303447 -0.23406188 -0.031614296 -0.17488073 -0.13454814 -0.22893941 -0.13242865 0.010125142 -0.0349408 -0.0039286884 -0.07483733 -0.037731703 -0.15861827 0.29277417 -0.003951428 0.1879589 -0.19461134 -0.063111275 0.123108864 0.010964826 -0.17499779 -0.19466041 0.012676457 -0.21961978 0.0036940814 0.0053400514 0.013480172 -0.1136901 -0.2827503 -0.21676576 -0.23755021 -0.18733887 -0.10819289 -0.2247423 -0.4085524 0.114345714 0.030464735 -0.11779707 -0.14451069 0.12392693 -0.14771424 0.008126699 -0.17324544 -0.051179927 0.11998126 -0.022321168 -0.12835997 -0.19735557 0.09663542 -0.2399419 -0.0009084895 0.8181565 -0.14745994 -0.018422177 -0.1322474 -0.051146057 -0.0039613377\n",
            "\n",
            "firefighter -0.11157629 -0.00087134045 -0.3792335 -0.013783821 0.023309559 -0.25917393 0.004501434 -0.05670076 -0.08726252 0.0066442206 0.41168177 -0.14094456 -0.027255207 0.016004372 -0.12983905 0.03867763 -0.01225742 -0.2283936 0.05320261 -0.30736312 0.09345922 -0.09718625 -0.20807758 -0.1657484 -0.10103515 0.10874563 -0.13591698 -0.13728127 -0.09993189 -0.24229069 -0.0070185456 -0.051470507 -0.067645706 -0.291771 -0.07762278 0.10166449 20.57023 -0.06473063 -0.01664812 -0.050877832 -0.06935344 0.07184551 -0.015920792 -0.2642733 -0.023653105 -0.015269226 -0.047174368 0.07549813 -0.16404139 -0.056370325 -0.077104434 0.18404508 -0.15110075 -0.12490712 0.036913186 -0.10610816 0.07294535 -0.26161477 -0.14402215 -0.07914955 -0.042493854 0.024289485 0.043742947 -0.021758528 -1.0425196 -0.061874513 -0.05245723 -0.108602226 -0.19160339 0.0043422263 -0.19384351 -0.18791741 -0.20028561 -0.11099489 -0.124085166 -0.3755982 -0.2629281 -0.9077908 0.10073623 -0.04087407 -0.32723784 -0.05121329 0.04477877 -0.12348414 -0.06254399 0.1358824 -0.1433171 -0.99146074 -0.04733452 -0.13233104 -0.100820154 -0.25260338 -0.316038 -0.026407521 -0.1617743 -0.06408828 -0.07771774 -0.04661741 0.08303582 0.17232834 -0.03232786 0.03218881 0.25889838 -0.21282347 0.015332161 -0.14768343 -0.1471076 1.9216713 -0.076324835 -0.111757666 -0.027268596 0.01870205 -0.112801336 0.061868545 -0.08040251 0.030652978 0.09959836 0.05101339 -0.09002674 -0.08873995 -0.20946755 0.098747484 -0.046561874 0.0044776276 -0.07216729 -0.05869151 -0.031688236 -0.020568449 -0.30343944 0.037737608 -0.021009415 -0.021240853 0.21758929 -0.1072861 0.08830208 0.0019550782 -0.0017645012 -0.22822745 0.7412854 0.05892801 -0.059202567 0.05161106 -1.1146073 -0.0018363562 -0.010766534 0.03916649 0.059121583 0.039199054 0.07030796 -0.3205157 -0.102562964 -0.07686082 0.0046057575 -0.022543488 -0.19528036 -0.02173402 -0.072069705 -0.23914504 0.048856344 -0.15955642 0.3950858 -0.051431093 -0.013657187 -0.048559766 -0.19754992 0.017291373 -0.102347344 -0.5735146 -0.15729827 -0.11328677 -0.085837126 -0.0016538061 -0.14185743 0.03439098 -0.032521628 -0.14284346 -0.1840211 -0.21283813 -0.07900201 -0.0469116 -0.21406187 0.0005590905 0.032734685 -0.08820801 0.043163203 -0.15399815 -0.041881174 -0.034453463 0.05152486 0.043277472 -0.066522844 -0.067723505 -0.15960191 -0.11848686 -0.092456274 -0.05882029 -0.070407405 -0.06786605 -0.06757813 -0.23220181 0.08180848 0.02614399 -0.13126448 -0.20381238 0.044827573 0.0021688086 -0.15934263 -0.1068103 -0.17204806 -0.031360887 0.04169456 0.14370836 -0.052927006 0.008297661 -0.109472506 -0.11184379 -0.17426972 -0.18125956 -0.14782758 -0.03692312 -0.015398949 -0.021573966 -0.039564896 -0.16432667 -0.0035349522 -0.1331198 -0.031805705 -0.12787373 0.0139746675 -0.021520164 0.12585577 -0.1472528 0.9276887 -0.13186489 -0.18177475 -0.24954857 -0.09528591 -0.04730525 -0.004770109 -0.08479115 -0.12473629 0.09286743 0.042875987 -0.07947401 0.032206945 0.055357013 -0.216578 0.21072896 -0.008728753 -0.13024203 -0.2902892 0.015893525 0.01702961 0.0072053396 -0.2554677 0.26026466 0.081111975 0.09776448 -0.10939763 -0.018990982 0.001644451 -0.12516488 -0.012602691 0.043819964 -0.12871794 -0.22406702 -0.97069794 -0.25591233 -0.14188132 -0.12443247 -0.08585479 0.5159542 -0.09961936 0.108115405 -0.050936848 -0.1654392 -0.076862335 -0.25531304 -0.18322194 -0.100824475 -0.08113547 -0.09619174 0.027133413 0.025670204 0.08758904 -0.24010627 -0.21965843 -0.15523818 -0.009322047 -0.07978506 0.06192692 -0.057178635 -0.06000657 0.029594637 0.16166991 -0.16733937 -0.023942068 -0.135352 -0.060284078 -0.031795405 -0.08874039 0.011088386 -0.056959912 -0.021086419 -0.1544582 -0.012453032 0.09051629 -0.18520601 -0.79599977 -0.114724904 0.003086168 -0.1162185 -0.025830042 -0.04162779 -0.09177184 -0.19278795 -0.09713155 0.067189276 0.044711843 0.16425318 -0.663569 -0.11083587 -0.21507849 -0.072013505 0.036400944 -0.012499851 -0.28178698 -0.0024029694 -0.12541443 -0.20841756 -0.265316 -0.099680774 0.022694383 -0.12680098 0.10470549 -0.23070984 -0.049289815 -0.15697433 -0.066851325 -0.22778037 0.018427495 -0.085277975 -0.13927469 -0.111840285 -0.1997931 0.047800872 0.009019648 -0.3064791 -0.07714843 -0.022039682 -0.2035124 0.1618726 0.059049144 -0.21742481 -0.103128836 -0.0069867135 -0.3246988 -0.01827733 -0.037168667 -0.13216928 -0.23542553 -0.1357021 -0.29029098 -0.07275024 -0.09703078 -0.7042071 -0.020979026 -0.066196546 0.014228979 -0.05104708 0.164779 -0.08236434 0.015107163 -0.7358649 -7.732181 0.0676746 -0.29949334 0.21399818 -0.67021626 0.100508414 -0.109576605 -0.012842386 -0.05199512 -0.14119181 -0.24003686 -0.05124245 0.10183576 0.017633894 0.040352892 -0.57827634 0.21474229 -0.026454676 0.053646084 -0.54972756 -0.17058301 -0.038337607 -0.24815737 -0.037174527 0.029535538 -0.004365133 -0.008951807 -0.16319828 -0.30661637 -0.014059656 -0.13797498 0.09359677 -0.14104682 -0.17469777 0.195421 -0.033184465 -0.2589622 -0.032041106 -0.18848601 -0.16235809 -0.049423784 -0.25787768 0.0043093716 -0.09756626 -0.013135245 0.0075583844 -0.19578822 -0.11575611 0.05601996 -0.12257548 0.0059321607 -0.08246748 -0.15202457 -0.08858998 -0.15147379 -0.26419172 36.85914 0.10241214 -0.01011371 -0.1084893 -0.114871725 -0.021376943 -0.14879957 -0.116627015 -0.03990661 0.18006258 -0.07511674 0.06121925 6.0395093 -0.09117249 0.06141109 -0.0042479015 -0.1526756 1.7019756 -0.059294306 0.007941378 -0.18379588 -0.065010585 0.052704602 -0.24194117 -0.09638757 0.09091518 -0.32587788 -0.074438736 0.09318935 -0.05525794 0.32646558 0.06343783 0.01579514 -0.14256606 -0.117644615 -0.25367168 -0.07478373 -0.18619423 -0.11870258 -0.0071097463 0.11096721 -0.057996865 -0.1779199 -0.045177754 0.003066445 -0.13880065 0.03039389 -0.1948192 -0.1987136 -2.0538905 -0.85549337 0.69679564 -0.09649589 -0.056643426 -0.013295467 -0.09380786 -0.04421697 -0.09146573 -0.11129762 -0.14530171 0.106591776 -0.13908112 -0.1121568 -0.090710096 -0.25446242 0.01237665 52.01048 -0.33279175 0.041842192 -0.06840485 0.092767484 -0.027900532 -0.03094022 -1.415427 -0.02030184 -0.003900817 0.120676264 0.010593859 0.002489732 0.11502277 -0.059411637 -0.20761624 -0.097933255 -0.22748818 -0.02895584 -0.3147411 -0.049790185 -0.096677214 -0.13026753 -0.19667354 -0.028544376 -0.14451139 -0.0616664 -0.14478125 -0.09119033 -0.24714051 -0.3490554 -0.31275633 -0.22751063 -0.08209308 -0.10572598 0.012616195 -0.1183424 -0.013730242 -0.2691477 -0.056263134 -0.048127566 -0.19942005 -0.17724437 -0.1537094 0.25392467 -0.08872009 -0.10264365 -0.20349261 -0.1599351 -0.083560914 -0.06497064 -0.08661901 -0.05319708 -0.20746419 -0.055417906 -0.25525814 -0.060431924 -0.13607033 -0.65384084 -0.052087612 0.046843123 0.0772536 -0.1436431 -0.30385682 -0.24261808 -0.016512243 -0.17000836 -0.1315565 -0.068517074 -0.034337625 0.17121233 -0.34922147 -0.026236083 -0.20152797 -0.057517063 0.09808884 -0.10355502 -0.15650721 -0.13623773 -0.14635223 -0.019896125 -0.009325818 -0.16720578 0.051630046 0.033215124 -0.11215144 0.052495006 -0.034286037 -0.08830072 -0.041607775 -0.10212242 -0.22300601 -0.06053393 -0.015510405 0.16914484 -0.055357765 -0.06233725 -0.12620285 -0.020567823 0.05259316 -0.13093573 -0.06324618 -0.11331091 -0.049460903 0.0027234459 -0.11950165 -0.19636482 -0.019065429 -0.05177456 0.0025160227 -0.116299346 0.0013385252 -0.16620389 -0.05729927 -0.20581649 -0.08056884 -0.11288747 -0.03953051 -0.13866675 -0.22468452 -0.076618046 -0.19471078 -0.20736377 -0.082516626 -0.07980702 -0.06901486 -0.0082575595 0.015567706 -0.024838185 0.023644025 -0.17005973 -0.72886884 -0.1353172 -0.1717558 0.016984077 -0.26235324 -0.08738708 -0.11534975 0.03654553 -0.35990313 -0.41092563 0.040836614 -0.1981241 -0.0041717356 -0.1403691 -0.16811731 -0.3216656 -0.26799512 -0.12475278 -0.0054461146 -0.2770654 -0.3388462 0.058012746 -0.07136142 -0.026922563 0.07210003 0.012440984 -0.17621695 0.039520703 -0.09765793 0.058477715 -0.0007942377 -0.07523901 0.28651935 -0.08331797 -0.11046891 -0.08146954 -0.015382891 0.024350766 0.030223453 -0.25411507 -0.23352033 0.1664969 -0.061065998 -0.1443128 -0.08874751 -0.07325478 0.0044899336 -0.69679826 -0.022929613 -0.067776926 -0.056054108 0.011646919 -0.5165197 -0.17377982 -0.03579167 -0.1813601 0.1093598 -0.17362307 -0.116638415 -0.011121083 -0.056625806 0.04417312 0.044482205 -0.043492403 0.111761495 -0.037024304 0.043633565 -0.14157043 -0.03801316 0.055535994 0.03185569 0.054138236 -0.21620183 -0.04207943 -0.05158537 -0.043867275 -4.463629 -0.11808129 -0.2333836 -0.3568743 -0.34488115 -0.17020984 -0.05011269 -0.06919081 -0.114970215 -0.23699078 -0.16737407 -0.16346498 -0.11590946 -0.11824419 -0.16334958 -0.26561272 -0.064648464 -0.33196688 0.07665404 -0.057372242 -0.14007346 0.23282664 0.02694016 0.22667798 -0.005488099 -0.13938554 0.05182002 -0.007530897 -0.052847687 -0.28713176 0.02521755 -0.17925982 0.08972992 0.11648303 0.011322049 -0.19415697 -0.18467504 -0.20461224 -0.1699197 -0.19047382 -0.1492822 -0.30814332 -0.5004617 -0.19771245 -0.002887436 -0.19099744 -0.05216837 0.0653976 -0.18780749 0.0055713966 -0.22175577 -0.061120056 0.11686427 -0.2226205 -0.104400516 -0.10209225 0.18553804 -0.21168777 0.067565106 0.775876 -0.1980473 -0.08057157 -0.101057254 0.013907729 -0.15752475\n",
            "\n",
            "journalist -0.14036721 0.07901639 -0.41287073 0.044494458 0.010421866 -0.29025322 0.9008316 0.16021511 -0.11521239 0.049804814 0.4052144 0.0074009914 -0.050585244 0.12371237 -0.2145555 -0.09484531 -0.23131904 -0.11301398 0.20530142 -0.254137 0.13004804 0.003737736 -0.228875 0.010594377 -0.13727817 0.10823987 -0.23454979 -0.11602114 -0.1383914 -0.3932211 0.00894637 0.14331155 -0.14338566 -0.33516452 -0.0515571 -0.009809219 21.161043 -0.09209463 -0.009898321 -0.017000347 -0.097291514 0.030664874 -0.1096093 -0.3818679 -0.008510956 -0.027927123 -0.0105098495 -0.064727224 -0.49589255 0.043530073 -0.017206458 0.1800429 -0.060940545 -0.13110542 -0.09364874 -0.13676734 0.010912624 -0.28812566 -0.19423503 -0.23271467 -0.06129243 0.04013669 -0.36596954 0.044075493 -1.0389148 -0.22695701 -0.052687872 -0.21323682 -0.4249459 -0.19127901 -0.15226004 -0.10013354 -0.12644424 -0.1485385 -0.08966999 -0.30256668 -0.22304112 -1.3112358 -0.11601566 -0.10086647 -0.5626059 -0.14201207 0.06572375 -0.3311905 -0.05445508 0.10552299 -0.03567722 -0.9892496 -0.14192554 0.031889897 -0.12457497 -0.2976864 -0.25469065 -0.10620856 -0.29489285 -0.14544876 0.10512878 -0.007335317 -0.051964555 -0.20338039 -0.059098314 -0.044461966 -0.07133901 -0.08445214 0.064516 -0.1822176 -0.18719243 2.0531695 -0.11988293 -0.058847282 -0.08702429 0.038954675 -0.25160438 0.1551782 0.101425126 0.019617435 0.1296693 0.12858911 -0.10427192 -0.27332893 -0.11416575 0.0042498205 0.036658756 0.053822067 -0.20976743 -0.03310299 -0.008173653 -0.017623525 -0.29070383 0.024962123 0.013761488 -0.1095863 0.29969674 -0.14852531 0.068684466 -0.1204934 0.044039913 -0.509566 0.71368 0.10158587 -0.11486882 0.13796139 -0.6139934 -0.1740902 0.104062855 0.16562667 -0.06509972 -0.08109787 -0.12523037 -0.28049824 -0.11021279 -0.04636451 -0.22253275 0.11458667 -0.26761287 0.1061869 -0.031415343 -0.25627652 0.11883064 -0.16534492 0.24872176 0.012856457 -0.017168857 -0.021776851 -0.13301386 -0.20004834 -0.11180493 -1.1164073 -0.2351944 -0.2551243 -0.19570684 -0.27574643 -0.048242614 0.22125141 -0.09429991 -0.08686485 -0.3118501 -0.25423992 0.11735252 0.017245948 -0.26635122 0.04057056 0.24334338 0.063890524 -0.026552137 0.005946913 -0.05953201 0.04117359 0.024267267 0.018802196 -0.16930155 -0.09790806 -0.0100373365 -0.086045675 -0.110512555 -0.07271762 -0.074772604 -0.17785183 -0.12017569 -0.4680469 0.043973178 0.17108285 -0.03905406 -0.21746975 0.0817953 -0.012842676 -0.1935242 -0.18715903 0.06990306 0.0516438 0.039160285 0.028192975 -0.20965153 -0.060914934 -0.042255085 -0.10219063 -0.2108146 -0.13353677 -0.25353777 0.041450348 0.06713833 -0.07048158 -0.07907548 -0.14479287 -0.010652543 -0.0141233755 -0.01991217 -0.10523041 0.10412397 -0.09176015 0.16044992 0.08088752 1.3422464 -0.11750234 -0.1601223 -0.1230207 -0.2273621 -0.16672395 0.04636775 -0.12126785 -0.13701287 0.23534828 0.10784708 -0.03764405 0.037170477 0.098977186 -0.26789767 0.3974571 -0.022240778 -0.4421709 -0.68198144 0.033332646 -0.07312446 -0.009265949 -0.16996813 0.172507 0.09101741 0.10885248 -0.15395442 0.09146814 -0.06952355 -0.24108705 -0.014431008 0.12961128 -0.0559108 -0.14641711 -0.9676688 -0.14057149 -0.051285755 -0.13147533 -0.28212157 1.0363077 -0.1251519 0.11229725 -0.28445035 -0.24166246 -0.21307646 -0.1627179 -0.18712315 -0.004941215 0.0025112159 -0.08082005 0.10873199 -0.071588814 0.1306657 -0.030661901 -0.15596847 -0.09166528 0.047930554 -0.41030955 0.2843001 0.09815475 0.07292713 0.113922775 0.07484057 -0.11928344 -0.10312649 -0.10057428 0.06538661 -0.14601025 -0.25280336 0.17350602 0.06711576 0.011420685 -0.119677655 -0.049944818 -0.0038300345 -0.13896431 -0.92374444 -0.118730746 -0.038503494 0.29177135 0.008922611 -0.01624464 -1.3091073 -0.1447077 -0.13115297 0.11795241 -0.028438425 0.11134536 -0.6471219 -0.22905394 -0.27652156 -0.12675779 -0.0406365 0.033065 -0.39545247 0.12691514 -0.1025601 -0.14989094 -0.19611898 -0.20595297 0.05005289 -0.12503056 0.16079015 -0.15661336 0.1729198 -0.105961174 -0.08594245 -0.058871437 -0.025896082 -0.011247696 -0.0835666 -0.2112961 -0.11245826 0.07009837 0.081013046 -0.3857414 -0.026956618 -0.039438542 -0.28761056 -0.017361352 -0.01071716 -0.10458518 -0.07917169 -0.007708034 -0.6200906 0.035196815 -0.09522591 -0.12679495 -0.20135589 -0.079761036 -0.41567093 -0.08739995 -0.1541091 -0.13336515 -0.26962182 -0.068042845 0.065017715 -0.0021289042 0.30658606 -0.037495047 -0.13713914 -0.7206131 -8.406015 -0.16297565 -0.133113 0.1034908 -0.57370466 -0.09973854 -0.21238148 -0.10596064 -0.11457231 -0.29724434 -0.25881326 -0.017876806 0.3249416 -0.11211171 -0.017984781 -0.6028418 0.26184478 -0.054109253 0.051470757 -0.5620068 -0.21634635 -0.024682226 -0.21773429 -0.035276677 0.020442575 0.06682427 -0.038936272 -0.1409674 0.022186078 0.050508093 -0.044970583 0.012654925 -0.17825566 -0.106472716 0.57535154 0.09253335 -0.3207851 -0.0046538324 -0.15334013 -0.20605709 -0.017408514 -0.0906113 -0.08258849 -0.049051613 -0.14890496 0.052761115 -0.28286505 -0.25286698 -0.060002316 -0.28315225 -0.038790926 -0.010418087 -0.124627955 -0.16973054 -0.22216323 -0.269418 38.512363 0.14511703 0.02005397 0.036368556 -0.13127099 0.14451332 -0.09018985 -0.06996829 0.045879565 0.31530374 -0.13501783 -0.19706504 3.665718 -0.08420973 -0.113264084 -0.028530631 -0.20385315 1.6962413 -0.16148455 0.08299212 -0.06966904 -0.14419942 0.13823259 -0.16790684 -0.09920431 0.30914858 -0.42510605 -0.017138615 0.13295564 -0.12709571 0.37746593 0.09099119 -0.08963936 -0.2138896 -0.04139338 -0.09061778 -0.0050100475 -0.17595398 -0.09242439 -0.09808785 0.08134695 -0.16952896 -0.17635769 -0.15543716 0.077808075 -0.18681781 -0.054027278 -0.13434078 -0.1648264 -3.457334 -0.8523811 0.6778092 -0.16472697 -0.059903212 0.17482413 -0.12617366 -0.07830287 -0.12529962 0.109692626 -0.3000129 0.026719907 0.053600915 -0.26954025 -0.15345319 -0.1845374 0.1463044 50.688473 -0.27308375 0.014121653 -0.075186 0.122522734 -0.114062145 0.025396736 -0.85996526 0.12078256 -0.12512177 0.13181984 0.011571596 0.07742504 0.08542836 -0.07030548 -0.27131394 -0.12374672 -0.060474906 -0.1120676 -0.40837276 -0.029629037 -0.13662127 -0.17533582 -0.13943793 -0.113883816 -0.12926139 -0.0725139 -0.06745776 -0.152805 -0.3014761 -0.19940086 -0.33733457 -0.21904176 -0.030032324 -0.06416106 -0.11135135 -0.18689387 0.023684649 -0.32923326 -0.1369634 0.09267743 -0.14834741 -0.3142893 -0.05713494 0.49525782 -0.16188821 -0.13567849 -0.5715509 -0.17527804 0.110092476 0.024098607 0.029835712 0.01922582 -0.42972633 0.04174965 0.057237938 -0.0587971 -0.07288397 -0.79573727 0.0023383189 0.105894536 0.17144017 -0.16161036 -0.28008282 -0.27400154 -0.0031656828 -0.08103717 -0.086811274 -0.025432842 -0.19530721 -0.19760625 -0.18922415 0.22645016 -0.18606718 -0.057989642 -0.04566245 -0.0481156 -0.20742273 -0.2142735 -0.023274532 0.039339777 -0.078927934 -0.13455842 0.1280662 0.017036306 0.06008497 0.027139394 -0.045438953 -0.11984671 0.077579536 0.091006026 -0.12982526 0.027641479 0.05176848 0.09962171 -0.06790912 0.00549487 -0.18783085 0.05505222 -0.033449426 -0.3268739 0.018128585 -0.16767932 0.10752541 -0.14033008 -0.17453308 -0.26038873 -0.074389316 0.0046847477 -0.06262167 -0.19087149 -0.051288165 -0.5035784 0.07354785 -0.2517535 -0.0413084 0.00056372443 -0.1985639 -0.17511562 -0.12729104 -0.1270841 -0.21385925 -0.11223678 -0.16911456 0.0013339012 -0.079056226 -0.13010225 0.038762912 -0.032552447 0.059701476 -0.17165056 -2.0463235 0.0244296 -0.26942927 0.082761824 -0.22610608 0.057822894 -0.09824493 0.10189991 -0.9458037 -0.50940216 0.09021835 -0.12252046 -0.032400467 -0.24294937 -0.08015954 -0.42516443 -0.071391225 0.022290684 -0.01289218 -0.36548194 -0.1215918 0.17073822 0.27601078 0.011811331 -0.15794979 -0.0003410678 -0.24763139 -0.13550551 0.076267496 0.029105293 -0.14828463 -0.09813655 0.34477153 0.07121828 0.04116782 0.046167783 -0.03309001 -0.11774997 -0.102167875 -0.24765149 -0.31663728 0.1635646 -0.15591693 0.062984124 -0.17430896 -0.14194246 0.17347711 -0.80332494 0.039170723 -0.22032472 -0.09710287 -0.21361737 0.8854228 -0.012981239 0.1200247 -0.29256704 0.08249143 -0.10502461 -0.051793173 0.023908397 -0.13625272 0.13401411 -0.02901824 -0.024281956 0.027276313 -0.045672532 -0.06882432 -0.16637297 -0.062108807 -0.02914166 -0.10443763 0.079639845 -0.021494638 -0.03663524 0.17033057 -0.1231106 -6.4803953 -0.24753986 -0.22427478 -0.1026145 -0.04243313 -0.24716444 -0.056940377 -0.07237819 -0.072162926 -0.29899362 -0.27183545 -0.08286333 -0.27320334 -0.16211163 -0.19162525 -0.20256804 -0.07294189 -0.25561142 0.0032505437 -0.03042042 -0.18039931 0.36152077 0.007336375 0.22003026 -0.09428788 -0.23070793 0.15197495 -0.011570417 -0.044388246 -0.2534862 -0.14201713 -0.11398131 0.08922715 0.08002849 -0.059252407 -0.12972414 -0.30791467 -0.05618728 -0.30227593 -0.15725987 -0.11338197 -0.18898764 -0.67708725 -0.13210052 0.007304439 -0.16435441 -0.1840157 -0.016494524 -0.050264254 0.029273367 -0.274559 -0.009269594 0.14345096 -0.17567627 0.11312983 -0.19582914 0.111201935 -0.23666964 -0.03686189 0.940582 -0.20064028 -0.20288582 -0.20181254 0.095284976 -0.109097324\n",
            "\n",
            "mechanic -0.15419023 -0.12590179 -0.33356053 0.0063832193 -0.030302424 -0.28322068 0.64321005 0.005525381 -0.20086992 0.033770226 0.4119563 -0.044576436 -0.009809119 0.085545875 -0.085441366 -0.14432597 -0.009209601 -0.11700155 0.13072403 -0.12469505 0.07502018 -0.18279403 -0.20242521 0.07494971 0.035663128 0.11809257 -0.4324268 -0.3336264 -0.062497046 -0.29330516 0.030832233 -0.0029571196 -0.084694006 -0.16302189 -0.019352311 0.030610673 22.927895 -0.044660825 0.07605914 0.1043657 -0.041103326 0.04971455 0.032597158 -0.31753924 -0.15687497 -0.021659948 -0.013350558 -0.004564077 -0.26598877 0.11891046 -0.053056248 0.10101813 -0.22788085 -0.11781218 0.078387246 0.3791722 0.12286502 -0.20345943 -0.18842527 0.02780011 0.037512403 0.06296363 0.11098214 -0.10333932 -1.0443351 -0.08596213 -0.0052275565 -0.20385228 -0.22648229 -0.099468775 -0.11481334 -0.20365776 -0.057836447 -0.13539118 -0.14459297 -0.20189674 -0.20946161 -1.5835513 0.08598741 -0.056062773 -0.29387033 -0.02636863 0.025180886 -0.25040084 -0.08665341 -0.08056851 -0.24303727 -0.9919267 -0.06767031 -0.036533237 -0.12839757 -0.2286102 -0.30189005 0.0075256764 -0.21814822 -0.117413536 -0.14276056 0.03029934 0.045327716 0.20524018 -0.081915386 0.04496302 0.034764927 -0.00050816813 0.11914859 -0.04497779 -0.12638843 2.4466274 -0.057480235 -0.05760147 -0.18694127 0.0053306124 -0.16072276 0.02946546 0.056127876 -0.06619537 -0.07198043 0.077579744 -0.028546736 -0.043788582 -0.089466706 0.040345836 -0.03866502 -0.047655378 -0.18257606 -0.102714635 -0.060475525 -0.03178266 -0.3844398 -0.088232614 -0.038410395 -0.008850273 -0.09956647 -0.095193364 -0.007692101 -0.06745487 -0.03961782 -0.03853578 0.69270015 -0.02257978 -0.0017456975 0.0071493923 -0.5463715 -0.023314252 0.08791986 0.10721975 0.020512713 -0.095264256 0.0357072 -0.20741151 -0.17547028 -0.10561772 -0.06813031 -0.061013944 -0.090420276 0.03257218 -0.102013744 -0.17989019 -0.029080974 -0.058130123 0.10460166 -0.046060596 0.029784348 -0.017723694 -0.11329513 -0.0016852953 -0.16625684 -1.2979387 -0.1362807 -0.1599812 -0.12266434 -0.10518228 -0.08488391 0.0687677 -0.014528486 -0.30897897 -0.15672904 -0.2284959 0.015314451 -0.06956081 -0.12527478 -0.0872418 -0.03878556 -0.05669353 0.05389304 -0.14477426 -0.060616214 -0.034868557 0.03575153 0.12054531 -0.043090396 -0.048122246 -0.2816352 -0.0595719 -0.06910288 -0.32444328 -0.02334045 -0.14266892 -0.12389737 -0.38533762 -0.008428395 0.0040365593 -0.04957247 -0.15106066 -0.08225339 0.00078289735 -0.10593596 -0.16894193 -0.036719225 -0.01391805 -0.0045241006 0.031301886 -0.04107209 0.113479935 -0.13674426 -0.10365893 -0.22686875 -0.08708286 -0.16107932 -0.06892405 0.02947337 -0.0760324 -0.05755257 -0.03677217 -0.04553424 -0.023622334 -0.14372016 -0.1336568 -0.083149016 -0.05907994 0.19082269 -0.12550968 1.9111614 -0.14333074 -0.14900684 -0.14968365 -0.046656895 -0.06737761 -0.123162076 0.011962118 -0.09338212 0.24298374 0.00075670594 -0.0065651974 0.043834586 0.13904282 -0.24688007 -0.027909268 0.051244654 -0.28314093 -0.27860552 -0.21169725 0.022386601 0.05664173 -0.16417617 0.31117067 -0.024465427 0.09432006 -0.08900867 -0.08603579 -0.031229356 -0.0029093106 -0.028147804 0.030782998 -0.037799437 -0.24168874 -0.97229207 -0.27103037 -0.096018635 0.044751488 -0.52723885 0.18444106 -0.05588528 0.045377858 -0.04822906 -0.13506149 0.084907226 -0.08828433 -0.15865523 -0.03045997 -0.025311004 -0.11870792 0.1017604 0.066939935 -0.029452262 -0.11823012 -0.2081499 -0.17429897 -0.28584114 -0.15104046 -0.073672414 -0.045320883 -0.02031866 0.048909493 0.09735692 -0.168391 -0.022873495 -0.20494665 -0.11494432 -0.012200966 -0.031824224 0.03955383 0.046042044 -0.037841503 -0.116247974 -0.029756496 0.1441957 -0.16995262 -0.63458115 -0.03574121 -0.07037927 -0.0726226 0.0156589 -0.088852204 1.4607986 -0.1768867 -0.07445419 -0.005482008 0.019384744 0.11634178 -0.38812098 -0.2604774 -0.10873954 -0.043437634 0.11255562 -0.095965184 -0.25712207 -0.07458682 0.04226717 -0.2206142 -0.22029881 -0.055381708 0.044194475 -0.061014846 0.05876994 -0.34658948 0.013514095 -0.20047851 -0.11745414 -0.23145631 -0.07251014 0.0081870975 -0.10873433 -0.13078952 -0.23691462 0.0035848867 -0.11020409 -0.3894582 -0.032678816 0.0629937 -0.046311993 0.31736687 0.009809807 -0.2202595 -0.06405745 -0.094313845 -0.45064992 -0.04363364 -0.07721675 -0.16243471 -0.12649533 -0.089201204 -0.4047819 -0.06577801 -0.118721195 -1.0626425 -0.034927815 -0.022183305 0.05929061 -0.022628432 0.1851925 -0.10072907 -0.015250243 -0.749007 -7.0514145 -0.28900287 -0.18234879 0.46752438 -0.649418 0.07815779 -0.0638987 -0.18286227 -0.040716194 0.08211271 -0.3162718 -0.21108037 0.098636 0.033992782 0.022414222 -0.23757167 0.16109946 0.092628255 0.11946021 -0.5403945 -0.14430438 -0.051477488 -0.28827885 -0.17719321 -0.03624208 0.014625413 0.00409153 -0.13629672 -0.021499446 0.004480604 -0.11256991 -0.03361442 -0.082397506 -0.26592427 -0.2866859 -0.0016579867 -0.17762822 0.014787419 -0.1917264 -0.16145928 -0.063592464 -0.08443166 -0.06000684 -0.18145622 -0.049215984 -0.002167426 -0.24125361 -0.17299663 -0.004330358 -0.065445766 0.0040846183 -0.017529367 -0.09089584 -0.053432804 -0.07901295 -0.16357027 37.133347 0.049072474 0.03544194 -0.041796006 -0.16636434 -0.0198343 -0.28521937 -0.10026797 0.012522212 0.29410133 -0.16168213 0.00530116 2.884822 -0.07529174 0.037178725 -0.043912247 -0.0951108 1.7026333 -0.003949201 0.10003849 -0.24672912 -0.047167413 0.033261903 -0.5328394 -0.14435197 -0.2059394 -0.20900376 -0.056559216 -0.022752455 -0.032101084 0.24875152 0.022942714 -0.087070055 -0.15162629 -0.12815261 -0.16137952 -0.04480802 -0.2064188 -0.028893149 0.023427512 0.11777809 -0.02824106 -0.044205114 0.005355968 0.0019842426 -0.21543987 -0.007002247 -0.15904903 -0.19184293 -3.3324914 -0.8564311 0.7032305 -0.18915553 -0.11186372 -0.06197642 -0.10937157 -0.0968967 -0.14993264 -0.02339475 -0.14445284 0.05634739 -0.06594053 -0.14263476 -0.10987298 -0.24432673 -0.013002826 56.976944 -0.2833713 0.0043695965 -0.0067979493 -0.02783889 -0.14064948 0.050320406 -0.8537885 -0.044307176 -0.107516654 0.04059004 0.116903216 0.01811785 0.20567174 -0.027085183 -0.33818802 -0.060757898 -0.15939707 -0.10430856 -0.28593695 -0.043867037 -0.11211546 -0.16448164 -0.06826075 -0.02169975 -0.21652672 -0.07976642 -0.06250222 -0.10202641 -0.15071324 0.10152385 -0.2762768 -0.2632254 -0.03895018 -0.14225088 -0.04288719 -0.116492115 -0.07109203 -0.19057353 -0.0586806 -0.0067547113 -0.07756257 -0.0894145 -0.084134094 0.52540416 -0.18662131 -0.19986218 -0.26647374 -0.18605375 0.014887355 -0.17663445 -0.14988014 -0.19633238 -0.3520456 0.014066127 -0.19903816 -0.11852276 -0.23357673 -0.6808516 0.008271986 0.15353753 -0.012539588 -0.15805641 -0.18670675 -0.14290234 -0.027355788 -0.14518787 -0.050521534 -0.07860966 -0.04358155 0.002871457 -0.20578812 -0.011332668 -0.19268529 -0.12129846 -0.004286024 -0.11233635 -0.12878455 -0.24656346 -0.028887268 -0.09075432 -0.042221572 -0.40812904 0.046256125 -0.03546541 -0.018988607 0.028596055 0.01248378 -0.09194506 -0.034265403 0.076227084 -0.22665103 0.103309914 0.06520727 0.09726704 -0.08837893 -0.05244725 -0.14626105 -0.011546933 -0.077450454 -0.09796359 0.020336017 -0.04274471 -0.060734168 -0.055349365 -0.07943104 -0.26664984 0.0061348635 0.065630086 -0.121830106 -0.12055847 -0.047669385 -0.5242843 -0.10858291 -0.16767709 -0.02354717 -0.09713842 0.0033530914 -0.2502165 0.009809164 -0.12095775 -0.15869167 -0.06840866 -0.12411147 0.069286555 -0.14720124 -0.0192516 -0.18017483 -0.09221417 -0.030227512 -0.13085361 -0.34140572 0.012875703 -0.30701956 0.014008464 -0.0795202 -0.07599156 -0.031951897 0.0014534144 -0.53675145 -0.30247495 -0.003343869 -0.22488981 0.029838918 -0.26199868 -0.072938606 -0.17185438 -0.18270056 0.0546537 -0.030519722 -0.26071113 -0.25813407 0.019913984 0.08585474 -0.011512181 0.079206735 0.048739646 -0.16970046 -0.030713238 -0.04764322 0.08594255 0.070158765 -0.15146379 0.8356521 -0.065949254 -0.06659049 -0.21350977 -0.040077243 -0.006153457 -0.020151773 -0.13258812 -0.24031797 0.09507162 -0.1082072 -0.09341483 -0.05677416 -0.11726354 0.031815555 -0.6794997 -0.044695362 -0.19374007 -0.009479262 0.021600507 -0.24408486 -0.20015818 -0.044227123 -0.20741326 0.12624805 -0.13095658 -0.031859517 -0.13136189 -0.08431541 0.16435957 0.00093922514 -0.012540277 0.054729763 -0.06699079 -0.005935506 -0.1870214 -0.02041583 0.062084634 -0.07228484 0.011455812 0.013771704 -0.035806257 0.1972078 0.04101197 -6.272002 -0.2388733 -0.2612959 -0.25870225 -0.34711125 -0.23191673 0.024975577 -0.08189251 -0.068821065 -0.17775032 -0.09275584 -0.2007281 -0.03540443 -0.07514183 -0.20642175 -0.18154651 -0.037065405 -0.20761824 -0.094652735 -0.05270536 -0.17410043 0.21098372 -0.09959302 0.12428889 -0.16928521 0.012068506 0.024019511 0.036237903 -0.019176535 -0.20556772 0.055872973 -0.0884679 -0.03195861 0.067481935 -0.08995063 -0.04292403 -0.07905516 -0.047951482 -0.20791647 -0.16492257 -0.054398406 -0.284169 -0.39425725 -0.22123805 -0.013676326 -0.17799105 -0.120169364 -0.015958844 -0.118828535 0.049699426 -0.18700719 -0.031106222 -0.002180586 -0.16938889 -0.079919785 -0.07016579 0.2550043 -0.18544632 0.059278406 0.80318993 -0.12789953 -0.08219158 -0.022997335 -0.022138348 -0.053414665\n",
            "\n",
            "musician -0.18098053 0.055241264 -0.32684135 -0.031206325 0.098914474 -0.19029205 -0.61013967 -0.035581104 -0.23096848 0.09313461 0.28480276 -0.015174456 -0.07785032 0.015581661 -0.06954074 -0.06370622 -0.076268025 -0.1449416 0.16464496 -0.170613 0.15708256 -0.15996371 -0.2764543 -0.03473808 -0.08699476 0.13370144 -0.40385774 -0.19610085 -0.0783682 -0.23758315 0.026522052 0.020779409 -0.124786526 -0.2872752 -0.15189531 0.06321381 21.255508 -0.058635686 0.018834561 -0.0102815 0.0027813378 0.09980621 -0.05593745 -0.23756327 -0.19449723 0.0019030648 -0.113646135 0.021585219 -0.3899999 -0.084352605 -0.003198806 0.04291764 -0.12866251 -0.10201335 0.0033871701 0.0010913493 0.025430722 -0.170005 -0.15888774 -0.0736511 0.023074374 -0.005909674 0.048413537 -0.11214132 -1.0417035 -0.023920387 -0.03952397 -0.16402471 -0.29147437 -0.1692976 -0.17622247 -0.13820137 -0.13868108 -0.10263879 -0.03900791 -0.29895023 -0.10485255 -1.8290023 0.047701336 -0.14024825 -0.33523467 -0.15337 0.0008370847 -0.32995927 -0.146285 0.024115538 -0.3621215 -0.99080074 -0.11915376 -0.11050381 -0.06750488 -0.35687268 -0.16142416 -0.037519924 -0.20326047 -0.08082199 -0.040054604 -0.01560355 0.044057004 0.16764203 -0.05097943 0.10124368 -0.32433987 -0.06583962 0.095216036 -0.053700242 -0.24091452 1.1813352 0.023917263 -0.09290124 -0.03418198 0.06508841 -0.17065705 -0.09249412 -0.06412424 -0.028416922 0.041158944 0.13014314 -0.053470626 -0.22250718 -0.066312045 0.012215615 -0.06791092 -0.051528703 -0.08516607 -0.019928647 -0.0712951 0.09179772 -0.11977912 -0.09108377 0.011514316 0.024197932 0.15010157 -0.13556546 0.12898232 0.012093058 -0.03773298 -0.16666381 0.6792286 -0.038677722 -0.1225394 0.0966412 -0.4104275 -0.0833464 -0.01791364 0.2578841 0.0407555 -0.074823774 0.057343964 -0.020924661 -0.1415957 -0.03862184 -0.0065918765 -0.078697495 -0.027344683 -0.05074282 0.07432226 -0.29552224 0.058870558 -0.10802248 0.023329336 -0.0445672 0.0080851205 -0.06458779 -0.28847265 0.03996418 0.009364927 -0.5360541 -0.15281679 -0.1408801 -0.07981778 -0.07628082 -0.17584659 -0.11189163 0.011592133 -0.24814911 -0.07637563 -0.2514091 0.03984604 -0.06403185 -0.10228017 -0.012317959 0.020849185 -0.1515845 -0.023632247 -0.073946215 -0.05917585 -0.12619786 0.01717979 -0.019631272 -0.12853613 -0.10017065 -0.28441525 -0.038225494 -0.10170047 -0.10184959 -0.07516362 -0.07825212 -0.084893994 -0.3144201 -0.02560666 0.06446335 -0.076626785 -0.14188366 -0.022617059 -0.040971268 -0.035723753 -0.1860238 -0.092407696 -0.014201867 0.042410683 0.013794304 -0.0786426 -0.3322272 -0.055128206 -0.14068668 -0.30363727 -0.20042694 -0.19640908 -0.002125664 -0.014184325 -0.07876448 -0.046106253 -0.12309744 0.0148146255 -0.02953526 -0.086624525 0.008851541 0.045901693 0.009708187 0.13853608 -0.088345185 1.7687396 -0.1606879 -0.04674503 -0.14092906 -0.043104026 -0.0022001348 0.015128484 0.009728545 -0.1613997 0.04279027 0.0017491046 -0.05725198 0.017156616 -0.055758495 -0.2868209 0.08311601 0.048439603 -0.28958425 -0.3568307 -0.21927267 -0.00039429282 -0.06832817 -0.10778108 0.330745 0.18118854 0.109093726 -0.11572486 -0.04122693 0.068688065 -0.156538 -0.049961332 -0.015824255 -0.09754644 -0.11994521 -0.9701524 -0.064522766 -0.21541901 0.08327382 -0.4315469 0.2648217 -0.054039244 0.07362051 -0.26835966 -0.07234061 -0.04576682 -0.14227808 -0.11573504 -0.11008411 -0.086494625 -0.092672855 0.0032859065 0.07510174 0.021243695 -0.066785716 -0.16826506 -0.12036858 -0.060167007 -0.12690665 0.00069199526 -0.023950776 0.030236607 0.09436934 0.20066902 -0.13045888 -0.049682673 -0.23907152 0.029440952 0.019253884 -0.056972407 0.018698297 -0.07281107 -0.06105842 -0.12354973 -0.092056006 -0.017374424 -0.16095136 -0.95696944 -0.012688937 -0.030658893 -0.031619314 -0.07390577 -0.17093982 1.7331359 -0.020427814 -0.055387724 -0.007825145 -0.19006398 0.18860255 -0.6768878 -0.23965162 -0.16704188 -0.108314656 -0.028137628 0.027104007 -0.43207198 -0.08077919 0.043745376 -0.23731913 -0.15862353 -0.07725034 0.071199775 -0.09815206 0.114230596 -0.2737198 0.06365385 -0.15400487 -0.11490739 -0.22779149 -0.09366543 0.013374336 -0.13658185 -0.07468219 -0.193448 0.03861456 -0.033912234 -0.3033707 -0.020604126 0.005757353 -0.2783258 0.35335425 -0.13670869 -0.22474092 -0.04462964 -0.056292236 -0.53227603 -0.026011653 -0.063875265 -0.12486852 -0.15412949 -0.14858821 -0.3819064 -0.058813266 -0.14722005 -0.40531057 -0.12175945 -0.003910099 0.06669276 0.040177867 0.09792982 -0.1769569 -0.13022402 -0.7275465 -5.9214554 -0.3063658 -0.11691808 0.24132161 -0.60843265 0.049707264 0.035521507 -0.20210744 -0.15057439 -0.19196427 -0.39352104 -0.13230076 0.15717298 0.0060100574 -0.0458552 -0.039483182 0.16125907 0.050462913 0.03158612 -0.3966561 -0.15472266 0.019483233 -0.14280646 -0.076027066 0.00085907103 0.008642018 -0.0002742319 -0.08697544 -0.22337031 0.010961808 -0.08652301 -0.0061818194 -0.05869519 -0.15152809 -0.12896806 -0.031086164 -0.1258719 -0.09258657 -0.2760709 -0.18211363 -0.11981992 -0.16988872 -0.1112822 -0.18219541 -0.06562427 -0.039981365 -0.22364178 -0.037754294 0.0019035276 -0.13817352 -0.13248609 -0.014927772 -0.08362582 -0.044385746 -0.06778289 -0.14784414 35.8331 -0.06137565 -0.028725069 -0.099461794 -0.14176606 -0.024399841 -0.20967127 -0.12537445 0.07185144 0.26546437 -0.0044906773 -0.015135618 3.9558413 -0.11528678 0.06509155 0.012418146 -0.087944925 1.7013173 -0.087675326 0.1202045 -0.28756976 -0.097602576 0.071919024 -0.40772715 -0.14904843 0.029722754 -0.18340355 -0.09870283 -0.029546084 -0.05122922 0.17815359 0.07431994 -0.09220839 -0.20041092 -0.01781598 -0.17296395 -0.04924774 -0.15558295 -0.042389654 -0.059751 0.03660752 -0.019215206 -0.24448854 -0.11241558 -0.011061788 -0.10931772 0.070051864 -0.15707111 -0.2860742 -2.6818664 -0.85490876 0.6841019 -0.16503057 -0.07567791 -0.12033521 -0.08358588 0.031857178 -0.06759669 -0.024595436 -0.1567384 0.059757695 -0.10179137 -0.15075323 -0.07938674 -0.2186991 -0.07744733 49.54203 -0.41033345 -0.004733886 0.033550393 -0.07666889 -0.11206027 -0.08650532 -0.7288149 -0.20185363 -0.103431396 0.016620839 0.0788147 -0.019706786 0.119161546 -0.014373932 -0.33874014 -0.107203916 -0.11032906 -0.16049151 -0.17450656 0.00024063482 -0.17484955 -0.120547436 -0.11488823 -0.039300047 -0.21634804 -0.054828275 -0.021035338 -0.07263999 -0.18767251 0.25839654 -0.33252102 -0.27401096 -0.06291523 -0.052541733 -0.10290317 -0.0744899 -0.092495255 -0.27909026 0.024765458 -0.021198591 -0.080290586 -0.08074072 -0.080636576 0.16697346 -0.09908827 -0.25033176 -0.05941745 -0.09208185 -0.09638311 0.014854117 -0.16125692 -0.09624892 -0.24356581 0.010482203 -0.09726659 -0.1743603 -0.18060298 -0.39167234 -0.06649298 0.03906172 0.046649452 -0.09666698 -0.27774805 -0.17657603 0.03893748 -0.12516554 -0.0016795626 -0.011205644 -0.04595652 -0.16647945 -0.15376079 0.06943293 -0.12681305 -0.29619083 0.003670626 -0.05854188 -0.22436278 -0.2213765 -0.05459716 -0.02788452 0.014197966 -0.29600745 0.06029962 -0.08250791 -0.021946987 0.11432778 -0.035614695 -0.18848132 -0.04279694 -0.017841443 -0.22925079 0.18242124 0.050257668 0.16579898 0.061191157 -0.099925175 -0.04230538 -0.05963993 -0.021146666 -0.04605607 0.05342247 -0.03264284 -0.033075586 -0.090367146 -0.1263291 -0.34067944 -0.036036942 0.0008187856 -0.07205397 -0.19682603 -0.13197808 -0.3647789 0.053257253 -0.30979544 -0.1028669 -0.019775387 -0.035121296 -0.21788871 -0.17157339 0.024959208 -0.15491727 -0.07132501 -0.09001696 -0.08351368 -0.10132681 -0.016738947 -0.043768164 -0.20958763 -0.027330097 -0.12884687 -0.3196671 0.017942015 -0.258246 0.058674246 -0.042431448 0.0012197534 -0.05538383 -0.018313456 -0.63625246 -0.2926223 0.0078368485 -0.07259966 -0.06266735 -0.45685834 -0.09900567 -0.41787845 -0.03861303 -0.058939006 0.11951362 -0.25473553 -0.066873856 0.13207199 0.04898361 -0.01858102 0.051083155 0.1303205 -0.10044746 0.034530874 -0.15533184 0.013714167 0.04769857 0.031471215 0.554083 -0.05101138 -0.0580156 -0.12542088 -0.00363594 0.012535871 -0.09390081 -0.20382123 -0.20089774 0.00592923 -0.11391209 -0.057350013 -0.02170399 -0.071802214 0.08165767 -0.6352336 0.06549456 -0.10314599 -0.061692636 -0.014220819 0.44788954 -0.10886235 -0.04780399 -0.12329419 0.17133406 -0.12280422 -0.03300943 0.053746883 -0.15476651 -0.05289751 0.01651136 -0.06089627 -0.026100354 -0.009662466 -0.021528414 -0.11616305 0.03103752 0.06916064 -0.093832545 0.056030717 -0.060476758 -0.04105324 0.12860054 0.03138378 -5.6190114 -0.12730198 -0.1715875 -0.16064115 -0.30756667 -0.28916764 -0.049599696 -0.21902439 0.004433199 -0.21222554 -0.12341411 -0.21264596 -0.06637377 -0.20472468 -0.29819405 -0.3798501 -0.13016213 -0.2922304 -0.009290314 0.024341999 -0.050578296 0.18647859 -0.03446061 0.16695707 -0.18114498 -0.024458379 0.030869795 0.09020737 -0.027923828 -0.15314014 0.045073386 -0.06510252 0.062658384 0.07201444 0.021104943 -0.25269845 -0.37452406 -0.07163179 -0.18747218 -0.22340648 -0.15807635 -0.2561623 -0.36436793 -0.029722553 -0.03815401 -0.140609 -0.100590326 -0.0397887 -0.15502705 -0.040462796 -0.18273482 0.059961583 -0.10528752 -0.22428542 -0.09407929 -0.10772069 0.23957103 -0.15794162 0.07496298 0.5741165 -0.06203761 -0.039266925 -0.06520819 -0.034436513 -0.10913184\n",
            "\n",
            "paramedic 0.000468046 -0.047368575 -0.36378688 0.008154606 0.008999475 -0.15304457 -0.84227 0.21418793 -0.2054267 0.009719573 0.38251388 0.004932382 -0.119720004 0.011690583 -0.18493174 0.037916914 -0.06758418 -0.13449217 0.15926519 -0.4096253 0.18020807 -0.13615462 -0.17517631 -0.055420388 -0.16410585 0.099554114 -0.26048982 -0.21755135 -0.012392501 -0.28337833 0.014863567 0.10148608 -0.10435911 -0.20444691 -0.11278611 0.14891432 21.340157 0.026510848 -0.038039602 -0.09275735 -0.06896278 0.055637643 0.039856523 -0.26920542 -0.14386901 0.034743868 -0.0092065465 0.088499114 -0.23573865 -0.086793445 -0.12550153 0.0873165 -0.16460645 -0.10791582 0.07090158 0.0092995595 -0.0029690252 -0.38739762 -0.1796962 0.09377931 0.13838698 -0.071857564 0.00018343212 -0.053706195 -1.040186 -0.099029265 0.039858114 -0.062906936 -0.44356272 -0.07409727 -0.15236332 -0.22621177 -0.16231056 -0.043104604 -0.13356213 -0.29164478 -0.15928945 -1.9488785 0.018262446 -0.09758996 -0.35868996 -0.054337263 0.08673315 -0.48088485 -0.03605877 0.14195278 -0.32271782 -0.9900472 -0.17424418 -0.19334178 -0.020413479 -0.20726413 -0.31322283 -0.12665497 -0.15445296 -0.07028379 -0.10778606 -0.08379933 0.008180628 0.06161317 -0.060212284 0.08985899 0.19007377 -0.04599592 0.10244897 -0.062249225 -0.12693079 2.7105286 -0.043630354 0.04368717 -0.003973924 0.028989157 -0.07630671 0.03066214 -0.11707226 0.04962665 0.109022275 0.034363884 0.020753546 -0.17949116 -0.0019148389 -0.024998292 -0.056313384 0.040240806 0.033025917 -0.025041621 -0.052135944 0.05895529 -0.19633839 -0.0749003 -0.06476213 0.056082096 0.02725766 -0.16587766 0.008220903 -0.079440214 -0.054080833 -0.25390896 0.6234121 0.02887274 -0.16564055 0.043262877 -0.70051754 -0.083421916 -0.014471613 0.089944586 -0.11091478 0.0446419 0.008968824 -0.11044961 -0.16007301 -0.03545468 0.12842777 -0.07226625 -0.13885261 0.1824441 0.13472658 -0.2751193 0.1563504 -0.20149949 0.02228596 0.023896657 0.1006638 -0.1919579 -0.20838054 -0.107362516 -0.1142103 -0.8904563 -0.14148441 -0.10620146 -0.08650894 -0.020701189 -0.114443906 -0.03948809 -0.0010338674 -0.21468845 -0.17429237 -0.32095593 0.014700314 -0.19362587 -0.08725005 -0.058541927 -0.014861224 -0.061248336 -0.015185149 -0.14270994 -0.10449108 0.11328038 -0.053627655 0.124985665 -0.023982463 0.0031253593 -0.12278985 0.0032272395 -0.14373307 0.042699285 -0.1302548 -0.1289842 -0.13426524 -0.27893156 0.13415314 0.16672172 -0.056045424 -0.20735285 0.0021988968 -0.071406916 -0.18178529 -0.118995726 -0.13137971 0.00472626 -0.042119145 0.27902716 -0.14359674 -0.102826014 0.06319213 -0.18275325 0.006873336 -0.2526255 -0.13995077 -0.10397333 -0.1503475 -0.14321521 -0.024258645 -0.108714454 0.07801214 -0.21244203 0.046844475 -0.021466333 0.06410689 -0.14079793 0.05813307 -0.027648237 2.3436131 -0.06746086 -0.109724835 -0.21151385 -0.12839025 0.05441515 0.026902586 -0.05010215 -0.13827133 0.09422862 0.044372108 -0.08796932 -0.030035038 0.12698463 -0.26222086 0.033993915 0.070627354 -0.38605824 -0.60338527 -0.036251947 0.03251232 0.06985703 -0.24102716 0.11547369 0.07371295 0.08218045 -0.13919617 -0.1128327 0.06562969 -0.116037026 -0.064553894 -0.030723345 -0.1022751 -0.2182539 -0.96884316 -0.34557194 -0.064518675 -0.14960973 -0.50882435 0.4830572 -0.1661379 0.050147522 -0.14294511 -0.13614058 -0.0068270494 -0.24822484 -0.15031134 -0.10736859 -0.088655464 -0.14776073 -0.023473278 -0.20191732 0.05525133 -0.14126924 -0.24779469 -0.13689807 -0.19423832 0.008541599 -0.092603646 -0.10201021 -0.017174382 0.15813914 0.007424701 -0.16833426 0.00024342618 -0.11239969 -0.15005378 -0.035977084 -0.030188967 -0.064267635 -0.13395593 -0.034579545 -0.23109616 -0.1053647 0.10881988 -0.2526645 -0.8024167 -0.10516457 0.006119597 -0.047828153 0.0073021357 -0.096739404 3.477515 -0.14270857 -0.1746487 0.10037589 -0.0686524 0.18402834 -0.26415583 -0.10348809 -0.14062533 -0.07076811 -0.012447017 -0.004765279 -0.43376663 -0.032318883 -0.062377624 -0.09572711 -0.20754355 -0.15873323 0.05674886 -0.18514316 0.16913489 -0.2494602 0.12314776 -0.107534006 -0.09947443 0.0219653 0.057720453 -0.066229664 -0.15385339 -0.09463299 -0.092083186 0.06346929 -0.08651172 -0.31229082 0.03111227 0.12901337 -0.23337121 0.16973884 0.07837706 -0.16343845 -0.100266285 -0.037648745 -0.5325291 0.020416727 -0.09702404 -0.11774952 -0.06309656 -0.14153433 -0.30597427 -0.08259871 -0.09508735 -0.81851006 -0.037370477 -0.09115789 0.030693328 0.029502865 0.1485869 -0.16107321 -0.0820331 -0.7142747 -6.5405593 -0.20334552 -0.16383043 0.007032126 -0.46677926 -0.07213122 -0.08541114 -0.15284252 -0.08544267 -0.12718605 -0.20064825 -0.20220585 0.23410857 -0.108347304 -0.05055346 -0.14989805 0.21218146 -0.09345012 -0.032391325 -0.5289733 -0.23472857 0.039063055 -0.14294897 -0.07453259 0.09305657 -0.0044284435 -0.027788978 -0.12210906 -0.22639824 0.10487767 -0.063589364 0.002853359 0.070569694 -0.23875749 -0.44751826 -0.060715176 -0.14137064 -0.043735486 -0.15773511 -0.102159426 -0.16807614 -0.17354135 0.0085862875 -0.12024896 -0.06675492 -0.029454265 -0.24301967 -0.17939234 0.0007336865 -0.120902754 -0.15390311 -0.013141153 -0.024769498 -0.16669452 -0.08239964 -0.20513225 35.162228 0.011887337 -0.09899758 -0.08332206 -0.28647664 -0.018957205 -0.14291918 -0.032409377 -0.020582423 0.33636174 -0.17562877 0.04429279 4.6511016 -0.1462499 -0.068214506 -0.059555765 -0.052188367 1.698048 -0.0232213 0.09228686 -0.071212605 -0.08259597 0.08122595 -0.31633267 -0.10825945 0.143122 -0.098803945 -0.04449174 0.01377453 -0.01407662 0.15767142 0.078537405 -0.0049231923 -0.24569227 -0.16747935 -0.30615598 -0.043908164 -0.17791633 -0.007120756 0.028479323 0.028637819 -0.06492264 -0.16611911 -0.16343683 -0.0812164 -0.19434966 -0.05482047 -0.068570554 -0.23372903 -3.7587833 -0.85377586 0.6729605 -0.07259915 -0.120114714 0.0847641 -0.17957966 -0.052173257 -0.07173036 -0.07090782 -0.20225783 0.057054106 -0.24502566 -0.2920567 -0.018639283 -0.21549127 -0.045526516 50.405067 -0.37846002 0.0007269802 -0.13508007 -0.07415108 -0.05846563 -0.053686097 -0.021325616 0.082302496 -0.008107756 -0.04745983 0.089876935 -0.17921318 0.21025267 -0.010312696 -0.18288039 -0.097808026 -0.08076118 -0.06547692 -0.10590614 0.090314426 -0.06181119 -0.15298033 -0.08140928 -0.127122 -0.3704582 -0.017607644 -0.03842952 -0.089128554 -0.21325281 0.27736488 -0.5312135 -0.27494222 -0.018994482 -0.08423912 -0.034609396 -0.16471975 0.05928219 -0.17420661 -0.0062042633 -0.086169 -0.08473071 -0.20748109 -0.06230209 0.22633672 -0.1973033 -0.176246 -0.3101532 -0.1614558 0.100608096 0.003721811 -0.051692136 -0.08243814 -0.24527173 0.02806356 0.012421716 -0.10608811 -0.34740603 -0.4080839 0.16620968 0.0015103482 0.00991787 -0.10810979 -0.3047152 -0.2687043 -0.011910264 -0.25262627 -0.081370324 -0.13370477 -0.13907436 0.20317253 -0.17657639 -0.047947098 -0.15290195 -0.07442881 -0.00518143 0.09485528 -0.20356476 -0.15855661 -0.070686124 0.042585105 -0.04711749 -0.17233723 -0.02570208 0.006674585 0.07156473 0.1422931 0.028679831 -0.18072306 -0.26157606 -0.1055176 -0.29665026 0.24676044 -0.014665078 0.11686278 0.036346357 -0.14376475 -0.13169435 -0.035405535 0.018773122 -0.1102628 0.0322274 -0.14214909 -0.014248158 -0.028451672 -0.15976442 -0.34368238 0.009279396 -0.030850656 -0.15704222 -0.14849758 -0.068600744 -0.19263345 0.077898525 -0.1835442 -0.12118481 -0.005892923 0.04465477 -0.1373633 -0.23311146 0.023304382 -0.16080369 -0.23010525 -0.03570892 -0.112824 -0.15529351 -0.19983755 -0.27524325 -0.10448981 -0.09605715 -0.09202549 -0.45426327 -0.100508235 -0.1992597 0.0010212795 -0.22558573 0.021254528 -0.05362522 -0.061641216 -0.4417126 -0.21905571 -0.025508052 -0.15048085 -0.080578506 -0.08815174 -0.12933232 -0.15936871 -0.23260213 0.023277586 0.053280685 -0.2767551 -0.19943672 0.057343964 0.05186011 -0.09765912 -0.088828534 0.023541247 -0.24492306 0.04749443 -0.26594055 -0.015609358 0.05023125 -0.16524343 0.4228001 -0.0052645667 -0.000655812 -0.14991154 0.01560976 -0.013079073 -0.13745746 -0.18362118 -0.345949 0.08704066 -0.13076204 -0.12300362 -0.11925928 -0.15421803 0.12370428 -0.4572332 0.027764808 -0.09172814 -0.04550009 0.06107331 -0.37179208 -0.020478392 -0.02805851 -0.20768812 0.101119995 -0.13252518 -0.021973668 -0.020250551 -0.07718535 -0.06228083 -0.060583666 0.043791037 0.0061709294 -0.08156862 -0.08930552 -0.16049185 -0.014597657 0.048053723 0.0056208973 0.017094158 0.1151657 -0.024940087 0.20881891 0.039228857 -9.810796 -0.13642144 -0.23906371 -0.100205615 -0.21578328 -0.15380327 -0.08958284 -0.12944806 -0.0065338314 -0.11925225 -0.22039075 -0.1352395 -0.18101072 -0.04053744 -0.2720933 -0.1577273 -0.027460651 -0.16480945 -0.078134574 -0.0733866 -0.12887761 0.60676676 0.05822256 0.06707618 -0.190177 -0.021144051 0.06337127 -0.03148315 0.0660996 -0.21843137 0.04342797 -0.14787063 -0.04796616 0.03907654 -0.017155057 -0.1914468 -0.13164583 -0.1174415 -0.21066648 -0.3124267 -0.15089537 -0.28370476 -0.35665008 0.044553448 -0.041097075 -0.11996359 0.08609228 -0.004113411 -0.1652212 -0.021420067 -0.10920338 -0.09822726 -0.09136307 -0.16348325 -0.15100509 -0.084307306 0.12855658 -0.22004661 0.16710551 1.0568851 -0.07936559 -0.026898412 -0.16193393 0.03760923 -0.06926856\n",
            "\n",
            "photographer -0.1342414 0.07359463 -0.3718088 0.0763156 0.039474636 -0.033759147 -0.044583134 0.2781627 -0.23298657 0.06595806 0.36151367 0.08093671 -0.10161131 0.2065016 -0.20483573 -0.14949146 -0.34833974 -0.03571508 0.049961057 -0.1029504 0.18804988 -0.12830012 -0.15535179 0.13148353 -0.28685865 0.06720772 -0.32021955 -0.10312356 -0.09045337 -0.2505594 0.10391086 0.10425344 -0.1699653 -0.25784042 -0.009931946 0.19209883 17.635654 -0.18095881 -0.008390174 0.23218636 -0.13348979 0.0021481763 -0.03960417 -0.32095674 0.019297423 -0.11434573 -0.21910436 -0.044596925 -0.18761641 -0.29253516 -0.1033657 0.029864376 -0.33195844 -0.18783516 0.10150916 -0.061101016 -0.04770276 -0.06334157 -0.12038337 -0.35002765 0.20036925 0.030960511 -0.2524131 0.029720046 -1.0353149 -0.113705166 0.025994815 -0.09464212 -0.19504237 -0.17668344 -0.25955182 -0.072362535 -0.0056718257 -0.12930334 -0.08179096 -0.22391693 -0.31747547 -2.4047573 -0.07127064 -0.15084223 -0.4197819 -0.13421644 0.12692563 -0.17475817 -0.03324753 0.2715238 -0.5284652 -0.9875475 -0.115824364 0.019669952 0.040101066 -0.18283533 -0.40715772 -0.14494444 -0.34451953 -0.115708515 0.03818228 -0.2079581 -0.047847748 0.04371325 -0.2111631 0.01657754 0.060664676 0.07310006 0.18741186 -0.123800166 -0.099945016 3.380526 -0.073001646 0.008268406 -0.2709115 0.15291587 -0.038591545 0.08289804 0.08439295 0.17451012 0.076844074 0.16698211 -0.05347019 -0.20508869 -0.13553317 -0.047481094 -0.18672858 0.1105263 -0.1409324 0.0858951 -0.045330472 -0.030549407 -0.42355666 -0.08643437 -0.005473776 -0.0023246468 0.032960527 -0.17461772 -0.0062815286 -0.06669527 0.0005373588 -0.2657236 0.6188888 0.080587715 -0.10656866 0.05838199 -0.7417933 -0.032218195 -0.0075257695 0.051143102 -0.14901292 -0.119755015 -0.1063618 -0.24952419 -0.33908415 -0.25828114 -0.19050734 0.107082024 -0.2302787 0.16488992 -0.09206261 -0.3144349 0.06370066 -0.13138239 -0.15958963 -0.19295476 0.14796343 0.015813747 -0.01836818 -0.018843872 -0.017736422 -0.27380997 0.019776747 -0.30894554 -0.12300118 -0.023725536 0.09703418 0.25779167 -0.097613394 -0.24796335 -0.18937616 -0.37707132 -0.08747702 -0.06305278 -0.07689434 -0.066281304 0.074315436 -0.0033922596 -0.17091952 0.010611107 -0.09554142 -0.002079917 -0.17194876 0.08688889 -0.14183135 -0.15786946 -0.18251109 -0.07774701 -0.19894224 -0.2150818 0.039350152 -0.07299072 -0.16579182 -0.4529315 -0.15302333 0.03555696 -0.11998193 -0.20818666 0.08875547 -0.06736017 -0.29020128 -0.16312028 -0.14804241 0.078908816 0.004226649 0.009096126 -0.078061566 0.06274397 0.049342956 -0.1832309 0.030164674 -0.20909809 -0.13821419 -0.110483184 0.04640171 -0.25835896 -0.058928277 -0.12443024 0.060585067 -0.06131141 0.01946934 -0.10568411 0.16570975 -0.12426962 0.2058219 0.12304593 3.9812393 -0.14497529 -0.17724699 -0.14027978 -0.09490374 -0.04105243 -0.10032625 0.0013305636 0.2419567 0.2271922 0.035541415 -0.04835093 0.11024799 0.2308122 -0.22504412 0.2423598 0.030813057 -0.41053477 -0.78376913 -0.016612168 -0.053094964 -0.09164498 0.038684346 0.16382448 -0.14064957 0.09781862 -0.012422606 -0.0017567654 -0.004574595 -0.13005365 0.0025606765 -0.094071254 -0.036847584 -0.30985552 -0.9641427 -0.23671083 -0.056636687 -0.33420745 -0.7795887 0.712045 -0.12791021 0.13374232 -0.36956206 -0.26993418 0.013356737 -0.08376344 -0.2070631 -0.15248144 -0.15415971 -0.06481529 -0.106134735 0.13260718 0.14597851 -0.0011690287 -0.107428126 -0.19897625 -0.14607532 0.27900013 0.10047389 0.07931656 -0.02367017 0.1637361 0.122851 -0.1994992 -0.09452183 -0.082473025 -0.064527355 -0.07972991 -0.13713758 -0.03214864 -0.0021336188 0.0079404935 -0.098329306 -0.18695825 -0.049963534 -0.034732964 -1.0831267 0.08890675 -0.04161342 0.34369206 -0.063255705 -0.15877984 5.0732846 -0.058772456 -0.19905561 0.13328974 -0.08456261 0.27868146 -0.7049712 -0.09636427 -0.26399112 -0.081558906 0.07742917 0.017022036 -0.52864844 -0.01527481 0.05409038 -0.3318169 -0.20124683 -0.09064706 0.13444856 -0.11639427 0.19492984 -0.13208795 0.19411978 -0.018753119 -0.2128678 0.058687415 -0.07126734 -0.057806704 -0.13851237 -0.14584355 -0.09075543 0.02438131 0.091212995 -0.35831586 0.014992036 0.01865449 -0.1965004 0.14349245 -0.06818098 -0.13831832 0.08577529 0.054286167 -0.25300592 -0.11046312 -0.21237609 -0.14910583 -0.18863904 -0.20509322 -0.1745842 -0.19377358 -0.19615161 -0.523014 -0.1553885 -0.033329498 0.045044158 0.04136701 -0.03366039 -0.06049943 0.07998307 -0.68628865 -6.676087 -0.25205034 -0.07282582 -0.33953917 -0.47109452 -0.063408256 0.076810956 -0.01416116 -0.06316318 -0.19554769 -0.39082316 -0.43073198 0.2667729 -0.11399413 -0.11058912 -0.10747027 0.1899993 -0.18086989 -0.11528602 -0.5793434 0.0003055305 0.018583626 -0.046000082 -0.15584926 -0.018638862 0.094628416 -0.10557961 -0.16916259 -0.1073392 0.10035988 -0.06906496 0.016283104 -0.10829824 -0.16302882 -0.9216814 0.03976311 -0.46702048 -0.060952045 -0.026708996 -0.24391434 0.08221268 -0.04568442 -0.16204692 -0.38416263 -0.4098624 0.10101098 -0.29462427 -0.14673576 0.011206164 -0.13167799 -0.12261995 0.10082616 -0.028621854 -0.012308972 -0.21352854 -0.21289709 32.277973 0.09405068 -0.099036604 0.16173284 -0.18107691 0.0011207531 0.00070037594 -0.03346001 -0.19576532 0.93075013 -0.11277989 -0.021456728 4.824286 -0.006339106 0.08041598 -0.055744167 -0.16111998 1.6881272 -0.19013253 0.1510274 -0.00016188003 -0.03348784 0.09860482 -0.5597881 -0.11082367 0.05455548 -0.2965986 -0.09872522 0.0070586563 -0.07247984 0.1344027 -0.08017072 0.049110573 -0.2499383 -0.058164045 0.048788123 0.040152065 -0.28551063 -0.017210431 -0.20259257 0.015262854 -0.20404047 -0.13014705 -0.38285562 -0.11242494 -0.018007098 -0.12626395 -0.018507354 -0.19395821 -6.17672 -0.85043603 0.64184 -0.182834 -0.10967985 0.019711165 -0.31506202 -0.073962055 -0.017242491 -0.19616054 -0.25435504 0.06778545 -0.09530361 -0.372302 -0.120362684 -0.3083437 -0.12193979 39.31584 -0.23491183 0.12639315 0.08858317 -0.16090712 -0.13345034 0.049030334 -0.4815166 -0.22611645 -0.07065452 0.0032487456 0.1280911 -0.09985199 0.22827733 -0.103206836 -0.13260393 -0.04534812 0.010860537 -0.13967049 -0.35571194 0.04574724 -0.115412034 -0.08993779 -0.13766603 -0.04010353 -0.19345912 -0.14870605 -0.12576552 -0.16261616 -0.64626235 0.28076848 -0.19763678 -0.38577285 0.019230625 0.01872347 -0.05148443 -0.074435756 -0.11859185 -0.20194575 -0.08341828 0.15875211 -0.06554962 -0.10234658 -0.17077942 0.119604826 -0.0822122 -0.08220223 -0.26007628 -0.18518342 0.09699639 -0.046587415 -0.11859086 0.10120389 -0.12322131 -0.07731098 -0.45401177 -0.18117231 0.056833334 -0.6519776 0.16218023 0.109131135 0.23013055 -0.08830907 -0.2636587 -0.3222123 0.006027922 -0.05592287 -0.07605471 -0.22092491 -0.06411344 0.1485744 -0.20062292 0.21369207 0.12819429 -0.14091888 0.070008636 -0.015368106 -0.20638618 -0.2897397 0.05030928 -0.009287314 -0.16653526 -0.053504374 0.03229113 0.09309969 0.24335317 0.06597636 -0.08075934 -0.07957109 -0.05108772 0.024889486 -0.21876292 0.2964978 0.116642214 0.24559739 0.19240353 -0.25450125 -0.14517207 -0.007348902 -0.045125812 -0.07168039 0.03184619 -0.10519602 -0.13709417 -0.19317342 -0.178974 -0.1857705 -0.17084302 -0.0039366796 0.059438884 -0.18469346 -0.06272053 -0.60622543 0.1782416 -0.16227207 -0.10080316 0.030585364 0.0063227587 -0.09119603 0.100932814 -0.113434836 -0.22517782 -0.100318566 -0.14992023 0.039628178 -0.15009737 -0.1440067 -0.21566314 -0.17431103 -0.13336135 -0.011334837 0.16365136 -0.030364381 -0.23313536 0.25022617 -0.17168657 -0.0064031654 -0.06977884 0.08616726 -0.9332835 -0.3461598 -0.039786488 -0.19594 0.0010926764 -0.0062095094 -0.07205982 -0.2505674 0.08236531 -0.046806067 0.117874816 -0.44962382 0.04151688 0.17059636 0.23532706 -0.10086613 0.04010914 0.015561719 -0.26599255 0.0263235 -0.17720786 0.08552018 -0.085708775 -0.043281212 0.3781023 0.03298555 -0.09646193 0.02854723 0.09707734 -0.056307472 -0.24070364 -0.28824577 -0.40052056 0.099218845 -0.2453489 0.22964366 -0.09466459 -0.19726376 0.010226304 -0.66400373 0.031092212 -0.20742738 -0.19432516 -0.058453728 0.20757775 -0.042497158 -0.0021122524 -0.23514795 0.07740666 -0.22677156 0.044695113 -0.09807377 -0.060840406 -0.06775731 0.04231611 0.18648316 -0.12365736 -0.0147834215 -0.036094133 -0.12199081 -0.15514119 0.0077581755 -0.012319509 0.13067079 -0.12522446 -0.059130456 0.061250452 -0.12189507 -12.832765 -0.22284836 -0.23132502 -0.3079237 -0.009571571 -0.17503874 -0.0020816396 -0.011358488 -0.00548349 -0.20510167 -0.25886244 -0.110357225 -0.2784409 -0.17808405 -0.2575539 -0.14373295 0.023041753 -0.10163961 -0.06421252 -0.2411823 -0.06253924 -0.085745156 0.16849524 -0.036059983 -0.26432645 -0.0031556792 -0.06755051 0.024409756 -0.096587405 -0.44309396 0.0652763 -0.09422244 -0.114366695 0.013018404 -0.2323971 -0.094127804 -0.26127687 -0.14813899 -0.20884253 -0.3706899 -0.13916515 -0.35939872 -0.36070144 -0.08049668 -0.06932527 0.008582138 -0.4711702 0.14215079 -0.092558876 -0.18892235 -0.14022388 0.07525266 0.14647868 -0.09289625 -0.090590335 -0.18187512 0.08392116 -0.23005165 -0.05663826 0.48615485 -0.1255815 -0.094597235 -0.19380884 0.030505523 -0.17647886\n",
            "\n",
            "psychologist 0.028057389 0.019926406 -0.5172068 -0.058923863 0.024857055 -0.13262421 -2.1118128 0.116558686 -0.41501755 0.076597355 0.27855417 -0.091002494 -0.060904525 0.022925276 -0.27104327 0.14057747 -0.056632478 -0.11098621 0.093412906 -0.09028415 0.26300988 -0.028218674 -0.19167432 0.015466946 -0.1938943 0.065698445 -0.24300256 -0.10654409 -0.10112393 -0.42762032 0.03387902 0.15248425 -0.013234807 -0.3897843 -0.18968302 0.0033849785 21.441643 -0.05330653 -0.055508487 -0.0438994 0.018683609 0.028152933 -0.027601918 -0.42224792 -0.17568299 0.12603807 -0.11663959 -0.1155963 -0.1299909 -0.21543568 -0.08751649 0.037434597 0.03450719 0.011238227 0.0056976695 -0.39957836 0.0042204605 -0.19562595 -0.047689155 -0.05297261 0.12907784 -0.110180914 -0.25273588 0.04646303 -1.0357612 -0.10367586 -0.20538145 -0.111280486 -0.042760033 -0.15243882 -0.25229317 -0.20785709 -0.10227733 -0.15593134 -0.09650364 -0.34418252 -0.2981602 -1.8770941 -0.060140137 -0.1973442 -0.49550307 -0.15448062 -0.0149314655 -0.31270018 -0.047594413 -0.003078608 -0.26009926 -0.9874814 -0.16364022 -0.21910505 0.03132316 -0.17239141 -0.09495049 -0.061034564 -0.2743694 -0.053676624 -0.14145614 -0.008660864 -0.085709974 0.07366676 -0.1410751 0.004315993 -0.18487594 0.113097474 0.15257043 0.008402831 -0.13087766 2.2994256 -0.021652158 -0.09029903 -0.16628622 0.020895466 -0.12625329 0.060909368 -0.0039911666 0.10595059 0.14205724 0.10177428 0.0473287 -0.2128727 -0.057432737 0.06045806 -0.33482864 -0.03576959 -0.14745793 0.14549772 -0.077652015 -0.10822793 -0.21942453 0.06164099 0.044085134 0.059849866 0.2084193 -0.087380506 0.157645 -0.10239632 0.025491878 -0.206463 0.61634815 0.11713642 -0.12416326 0.09384834 -0.31675836 -0.11949893 -0.11832024 -0.10721257 -0.11103141 -0.05846091 -0.08663288 -0.11512807 -0.068022616 -0.35244006 -0.0017043817 -0.021476276 -0.10906881 0.14952675 0.061932918 -0.38307923 0.14710727 -0.056024157 -0.03537508 -0.056808434 0.10204399 -0.10390775 -0.20817289 -0.14718138 -0.12074535 -0.67280877 -0.17965849 -0.052529667 -0.25894496 -0.03996244 -0.019369557 -0.03982338 0.06695464 -0.027695574 -0.19400555 -0.33934948 0.35843715 0.037216082 -0.1470103 0.07192824 0.031411376 0.05382216 -0.10544794 -0.15525591 0.05828947 0.08869671 -0.15676488 -0.023306074 -0.14677085 -0.14472587 -0.11109024 -0.07128623 -0.21269536 0.06769587 -0.057019208 -0.07263726 -0.17034897 -0.06894492 0.017514735 0.010623136 -0.06896441 -0.22114806 0.07584429 -0.056545008 -0.086900115 -0.22954263 -0.1543743 0.062953 -0.05091536 0.32129037 0.036174595 -0.39167175 -0.017176596 -0.10087017 -0.24450225 -0.272921 -0.098269016 0.048216492 -0.011882932 -0.22180548 -0.072612435 -0.10805362 -0.13982151 -0.141392 -0.110443965 -0.112151906 0.15981211 -0.17435111 0.103552006 -0.011600657 2.3923912 0.0010865176 -0.07974992 -0.078334585 -0.19608964 0.038563177 -0.106790446 0.044466905 -0.1733425 -0.096758984 -0.027313435 -0.076967075 0.026537672 0.11443383 -0.30684102 0.11297873 0.17363662 -0.4473356 -0.62113917 -0.21826762 0.073231526 -0.03256329 -0.08849811 0.023022132 0.2549177 0.007561442 -0.13080226 -0.1376842 -0.08861242 -0.101688035 -0.088200174 -0.110977 -0.016127743 -0.23372847 -0.96464235 -0.23249242 -0.29590985 -0.11115898 -0.4589003 0.6962181 -0.0070874896 0.1708334 -0.23261371 -0.28453833 -0.051374916 -0.12593184 -0.1112996 -0.08782208 -0.051901273 -0.08430582 0.076926425 0.14179458 0.07111972 -0.04200798 -0.113763295 -0.15231973 0.34246033 -0.16162604 0.086716436 -0.07027074 0.019449953 0.21241286 0.16116132 -0.20424566 -0.09302489 -0.18032354 -0.05665007 -0.09396078 0.05996868 -0.15426202 -0.0008250048 0.07952157 -0.18676975 -0.1546412 -0.055132233 -0.1751818 -1.3557953 -0.085001625 0.034463298 0.28562933 0.01406627 -0.15256146 3.675191 -0.18010072 -0.097953394 0.11080185 -0.09122542 0.23707025 -0.9508348 -0.06603376 -0.3004275 -0.21179947 0.031093968 -0.08402401 -0.6666605 -0.11124766 0.0066641867 -0.25318116 -0.2720243 -0.10343142 0.14494947 -0.17690808 0.0737087 -0.25471818 -0.005694306 -0.06307463 -0.05221387 0.06627514 0.029722577 -0.06748123 -0.1182759 -0.17138599 -0.1198373 0.1763192 -0.15632556 -0.24289823 0.0071951873 0.10595307 -0.28179467 0.13359807 -0.022022463 -0.17065962 -0.09786502 0.0044096527 -0.50337696 -0.14558688 -0.1717324 -0.108412705 -0.08290105 -0.066690505 -0.09457868 -0.15089652 -0.17647451 0.2560198 -0.122455135 -0.046843518 -0.038898513 -0.010245762 0.087718904 -0.15605654 -0.062307183 -0.6925671 -4.8651924 -0.123019286 -0.09587936 -0.36504784 -0.4337207 -0.09388776 0.045012563 -0.120186135 -0.03162081 -0.2860199 -0.24654163 -0.073818505 0.26711956 -0.13493535 -0.06682758 -0.049908534 0.039184287 -0.093590096 0.032841064 -0.48442993 -0.062069215 -0.021150494 0.026468879 -0.15347253 0.029161396 0.026682774 0.018809164 -0.19466928 0.0841421 0.1774182 -0.0017298242 0.007440222 -0.09387298 -0.21250674 -0.62771094 0.12167599 -0.116664775 0.020517968 -0.1365501 -0.029147258 0.07556261 -0.074733935 -0.14338443 0.16998973 -0.09707452 0.12065911 -0.33583 -0.053329628 -0.052498024 -0.0629202 -0.17261682 -0.04820099 -0.17258255 -0.092166826 -0.05414039 -0.09606431 35.18795 0.12510346 -0.007051668 -0.029534299 -0.18353693 -0.16884452 -0.12585507 -0.027581893 0.05032694 0.69297105 -0.28363737 -0.12571293 2.9032638 -0.15091027 0.15990268 -0.049537383 -0.03866371 1.689894 -0.12556978 0.25493306 0.13713934 -0.12847508 0.13006446 -0.1842925 -0.08192663 -0.09536727 -0.2513239 -0.06532061 -0.06531639 -0.1286037 -0.006860712 0.046730507 -0.08682822 -0.31432062 -0.017576918 -0.29747665 -0.09865028 -0.16691534 0.045409843 -0.1286341 0.03434502 -0.20736727 -0.15222682 -0.29494864 0.028739244 -0.055840813 -0.09089761 -0.18130468 -0.18274058 -3.8431594 -0.8502829 0.6435283 -0.08880369 -0.014718073 -0.15274692 -0.15909116 -0.12463519 -0.12305894 -0.23072769 -0.2552126 0.08990269 -0.10778918 -0.25603312 0.016391486 -0.23144141 -0.03195958 41.45893 -0.264611 0.0766914 0.011769844 -0.15007584 -0.10851106 0.016668215 0.5112495 -0.17652002 -0.12032233 0.07020452 0.12429502 0.13886942 0.12468951 0.035166692 -0.09892384 -0.043038405 -0.19998245 -0.06806233 -0.21958786 0.035046134 -0.17540176 -0.1828866 -0.0080857305 -0.06472079 -0.22705112 -0.0146753155 -0.10712357 -0.20909476 -0.35342577 -0.11603158 -0.5057715 -0.4274208 -0.18051292 -0.031897627 -0.18493243 -0.17461494 -0.076897465 -0.17772533 0.014497527 0.11622864 -0.26695514 -0.30450946 -0.15658385 0.32515484 -0.10816485 -0.20458262 -0.4881652 -0.06318649 0.0043043694 0.005902964 -0.11150752 0.115922116 -0.28911057 0.004106866 -0.19017687 -0.10944187 -0.24367864 -0.19921987 0.07965116 0.034768745 0.08034224 -0.26007956 -0.320824 -0.19467567 0.10308837 -0.1416275 -0.06789706 -0.16244358 -0.093691215 -0.057971776 -0.07498076 0.20936416 -0.01861229 -0.14597188 0.020809114 0.0009996281 -0.2650148 -0.17938268 0.03084225 -0.08470945 0.0057969876 -0.14746024 0.021187043 -0.034328762 0.17199165 0.14953217 0.05812504 -0.11837523 -0.11457766 0.111487664 -0.3782408 0.15772739 0.042762198 0.07897372 -0.04486093 -0.14676194 -0.24803127 -0.044468794 0.032149054 -0.14963591 0.04624702 -0.11993907 0.00047056022 -0.14282608 -0.18285368 -0.13267815 -0.15856744 -0.062942594 -0.056912843 -0.2873663 -0.049706668 -0.01603955 0.014986578 -0.30108282 -0.20365585 0.10602588 0.2703799 -0.23308624 -0.14914568 0.18764478 -0.22776645 -0.05828365 -0.06579363 -0.094491616 -0.10857313 -0.09732655 0.0010958601 -0.19664359 -0.19639233 -0.1145571 -1.4392769 -0.122094125 -0.12834412 0.13075021 -0.11290975 -0.02864149 -0.1740832 0.05651448 -0.52813685 -0.41561115 0.010260557 -0.048010595 0.04026847 -0.10300561 -0.09917102 -0.21191283 0.04521998 -0.2751204 0.06642337 -0.29451203 -0.4010931 0.08902418 0.42190245 -0.19138359 0.14262114 -0.064911455 -0.18382092 0.032017693 -0.22697593 0.098263994 0.0048201717 0.011109758 0.21676102 0.09358923 0.072163075 0.019478576 0.0086011905 -0.11048762 -0.0019423475 -0.2765188 -0.23146749 -0.18151133 -0.033002567 0.021117736 -0.115669996 -0.12343812 -0.0038203255 -0.56410974 0.041288856 -0.14445089 -0.28901467 -0.16032106 -0.2019984 -0.0645211 0.17875765 -0.24218147 0.007400116 -0.19199772 -0.06471424 0.079341345 -0.14808461 0.054137386 -0.17727916 -0.016796552 -0.037048474 0.013580829 0.03312846 -0.07180968 0.010607287 -0.014854216 0.03749322 0.07828315 -0.09727797 0.04055112 -0.010902339 0.10473214 -8.49273 -0.17784734 -0.19863325 -0.51229745 -0.01603746 -0.24563794 -0.039612446 -0.115884215 -0.06653607 -0.13876623 -0.23885061 -0.05752589 -0.2489333 -0.21773054 -0.27657324 -0.17563505 -0.034591764 -0.100410044 -0.11170003 -0.068921044 -0.112389386 0.09956477 -0.07217189 0.11989576 -0.33720487 -0.069823734 0.044624977 0.10653196 0.103879094 -0.19519092 -0.0024016192 -0.09309588 -0.17064488 0.03849484 -0.12264514 -0.076981254 -0.5846097 -0.20520364 -0.19305825 -0.30184886 -0.12546924 -0.23886196 -0.30106533 -0.19239472 0.0020339289 -0.16164607 -0.121895604 -0.01050406 -0.105157174 -0.10785885 -0.20321287 0.0009580843 0.17455976 -0.19666004 -0.26581296 -0.20654808 0.033396088 -0.23191537 0.03859754 0.88576883 -0.053430315 -0.19094887 -0.030827688 0.08443992 -0.15851648\n",
            "\n",
            "scientist -0.17891732 0.093555555 -0.47468698 0.014880742 0.011614943 -0.17859574 -2.1641936 0.03374074 -0.057468608 0.13902108 0.40606397 0.03253366 0.10293413 0.05485659 -0.1421457 -0.030523898 -0.29867435 -0.10162968 0.15463081 -0.45077074 0.21262164 0.0327446 -0.25370675 0.272353 -0.18500951 0.13715835 -0.30751348 -0.18509386 -0.21089606 -0.43792334 0.08481336 -0.0043392447 -0.015966402 -0.12408047 -0.09286702 -0.09689372 18.243277 -0.046754573 0.060180515 -0.047203027 -0.09031366 0.08957129 -0.11750688 -0.46049088 -0.14962201 0.1314813 -0.07973785 -0.08273505 -0.36837822 -0.2479474 0.019667393 0.062877215 -0.011498333 -0.075943686 0.113684766 -0.22119522 -0.16889878 -0.15794885 -0.070759475 -0.019375805 0.17672938 -0.033433434 -0.2927123 0.09042179 -1.034575 -0.076733984 -0.09161197 -0.096482456 -0.047601823 -0.19022028 -0.17824592 -0.11190389 -0.02585958 -0.20920585 -0.10805317 -0.3118526 -0.48753968 -1.9766477 -0.05249163 -0.15439422 -0.46383005 -0.13938898 0.06320935 -0.17743103 -0.0011190597 -0.024945563 0.053812128 -0.9867686 -0.057220846 -0.06236702 -0.10883382 -0.16650246 -0.18631236 0.053779196 -0.28620705 -0.030072894 -0.057597037 0.10538622 -0.03211417 0.1723124 -0.12904286 -0.19268079 0.005985404 0.044179693 0.22533904 -0.18748005 -0.04701779 1.7213002 0.068671726 0.053395566 -0.14245853 0.1054997 -0.06899892 0.048794262 -0.010883855 -0.022883471 0.061912104 0.11584859 0.06662384 -0.32930335 -0.114688486 -0.065987885 -0.09855851 0.12440012 -0.17436798 -0.0482035 0.060966503 0.014764211 -0.33208653 0.04586931 0.073190846 -0.022927204 0.16676106 -0.15294151 0.097336434 -0.15297605 -0.06493944 -0.26200902 0.6502141 0.29170552 -0.16781186 -0.028558185 -0.29151392 -0.038108725 -0.114137925 0.119516455 -0.2960632 0.009848271 -0.056115016 -0.099082656 -0.34294713 -0.039162006 0.23957473 -0.056985524 0.019004 0.2519458 0.11000749 -0.36410135 0.10178054 -0.085169464 -0.13317241 0.011835369 0.058975752 -0.10735632 -0.16065928 -0.14517355 -0.018727481 0.26556706 -0.14098278 -0.06058172 -0.38942236 -0.1936976 -0.09123072 0.041387133 -0.040597443 -0.26974517 -0.3643867 -0.36431342 0.16414857 -0.03284342 -0.20547937 0.056295007 0.0031602825 -0.01800992 -0.0880168 -0.04973855 -0.058092713 -0.12846553 -0.14768218 -0.06372263 -0.101685084 -0.47362223 -0.087112986 -0.10446119 -0.17892253 -0.11030443 -0.017181206 -0.11954234 -0.18065187 -0.2875633 0.08479381 -0.06734008 -0.14591484 -0.31207135 0.0017231832 0.022320861 -0.12764399 -0.11765456 -0.1963451 0.07397024 -0.03945263 0.21383257 -0.1191384 0.021614725 -0.024406077 -0.12062765 -0.076614685 -0.28941345 -0.10155 0.051426373 0.06382369 -0.12122012 -0.22134167 -0.1359501 -0.004965058 -0.21160783 -0.20831072 -0.100035146 0.07395027 -0.17186247 0.12906793 -0.0144641735 2.7751102 -0.0073491135 -0.11051496 0.015758933 -0.18525432 -0.062395297 -0.11203195 -0.013582493 -0.073456325 -0.06738946 -0.046698883 -0.18095385 0.03933686 0.055162843 -0.19296084 0.21518007 0.07435654 -0.5143723 -0.68310755 -0.22571868 0.0507071 -0.09335647 -0.0003226646 0.1538776 0.15559305 0.057636634 -0.057213478 0.033036985 -0.12326083 -0.21275623 -0.034857936 -0.06910251 -0.02166348 -0.23999816 -0.96365756 -0.33520094 -0.1739668 0.2687366 -0.88300246 0.90404993 -0.12954684 0.08478567 -0.24484386 -0.32676798 -0.18800525 -0.2568226 -0.13603562 -0.07162412 -0.10582519 -0.055722587 0.07860296 0.037668776 0.14443558 -0.09185036 -0.27742139 -0.14966764 -0.060349155 -0.37761143 0.1306026 0.062250108 0.04996956 0.07921966 0.116371945 -0.16567405 -0.10103837 -0.079906344 -0.13783528 -0.043213077 -0.17372774 0.103572845 0.1395787 -0.094119005 -0.15588978 -0.13705856 -0.06810239 -0.2192832 -1.4680504 -0.15228055 -0.08225286 0.36131904 0.032383397 0.03534135 3.0139215 0.09816988 -0.25957873 0.114452 -0.16623282 0.18042876 -0.7283565 -0.20075636 -0.17063344 -0.26544017 0.0569145 -0.10608004 -0.6214729 -0.041619368 0.040204335 -0.14058186 -0.09987842 0.04976576 0.2145151 -0.03593496 0.08253191 -0.33746797 -0.07646903 -0.07560402 -0.15987994 -0.21770006 -0.10747456 0.07519875 -0.15266854 -0.10025133 -0.26924136 -0.08236306 0.137327 -0.3784577 -0.032909352 0.030967647 -0.38879427 0.25684002 0.027953409 -0.11612094 0.027732268 0.08976055 -0.5284111 -0.05487928 -0.11250515 -0.19699077 0.057448737 -0.05137674 -0.53060484 -0.1409833 -0.07190695 -0.43242028 -0.0020307938 0.049226154 0.050833166 0.017053708 0.08765426 -0.17161256 -0.10633082 -0.6866052 -4.5030437 -0.26631725 -0.038324468 -0.020124149 -0.49771395 -0.059350487 0.0453361 -0.16870071 -0.08021163 -0.17351754 -0.29503098 0.06988404 0.4343779 -0.1444141 -0.016038159 0.015343708 0.16932505 -0.09445568 0.08988788 -0.5334542 -0.16598557 -0.051201407 -0.15575416 -0.008389514 0.0038218086 0.03358061 -0.07430637 -0.09135642 -0.47822058 0.16634426 -0.0561527 0.0046035605 -0.113166265 -0.05783637 -0.26389933 0.101028025 -0.25228214 -0.06977747 -0.25567254 -0.19491151 -0.05546926 -0.03585455 -0.012571384 -0.072989315 -0.17949949 0.11929136 -0.1883245 -0.2675916 -0.1447863 -0.2626008 0.06490862 0.0042693 -0.1330407 -0.2596903 -0.06414252 -0.28824645 34.351692 0.01503167 0.035238437 0.15632573 -0.27907977 -0.0055646286 -0.07928431 -0.0077896663 -0.07315478 0.27429813 -0.24166039 0.06270198 4.275704 0.013508504 -0.14822055 -0.016284224 -0.12447342 1.6880261 -0.23083308 0.23297998 0.074071124 -0.15195906 0.10575744 -0.53222346 -0.14325327 0.015386554 -0.27337593 -0.05787682 -0.073248595 0.07687417 0.27312863 -0.048309103 -0.18747647 -0.12453736 -0.102566026 -0.16228046 -0.02532423 -0.033663467 -0.10721009 -0.10986596 0.022670856 -0.23516129 -0.037976056 -0.35587907 0.06528419 -0.3092005 0.01621794 -0.30899572 -0.1178872 -6.2209806 -0.84955436 0.64485455 -0.1621464 -0.058125626 -0.116290376 -0.307281 -0.025518054 -0.12733799 -0.09656302 -0.13977845 0.2328731 0.14956483 -0.30334666 -0.19299138 -0.16161647 0.028727619 40.477463 -0.43640327 0.04381198 -0.08156089 -0.031957474 -0.10112663 0.08104817 -0.19492161 -0.208663 -0.08756113 -0.035577834 0.18014064 -0.03648628 0.14850925 -0.03239891 -0.013590708 -0.11715561 0.019936182 -0.19120584 -0.28563598 0.0601549 -0.037193276 -0.2513478 0.028281612 -0.07252728 -0.30095544 0.06579085 -0.10357168 -0.0008424002 -0.4664786 0.08445758 -0.24432914 -0.13371804 0.0033885217 -0.03176984 -0.17501101 -0.1691968 0.022515005 -0.119812846 0.089774 0.13146482 0.0006003808 -0.25340703 0.0039021778 0.5164496 -0.13088451 -0.20338123 -0.2507334 -0.065163545 -0.041587334 0.12202297 -0.24638788 0.052842934 -0.24684003 0.015216543 -0.20467514 -0.14209338 -0.16258056 -0.8339359 0.15375748 0.08924763 0.08949071 -0.18932584 -0.39141396 -0.23505075 0.06391942 -0.13438687 -0.032322228 -0.030270288 -0.16972579 -0.20256402 -0.03805608 0.11443936 -0.13206974 -0.26089993 -0.12633951 -0.1826005 -0.22755335 -0.08989519 0.14124946 0.014036157 0.03507183 -0.2084441 -0.035135593 0.024534276 0.17327397 0.0373587 -0.04733299 -0.095470764 -0.028115861 0.09167222 -0.5742069 0.4603229 0.09744329 0.014359084 -0.030351851 -0.01252688 -0.053693257 -0.019884858 -0.033348467 0.0060403273 0.09376431 -0.19710203 -0.073899664 -0.14691518 -0.22559102 -0.3305667 -0.10605227 -0.15874055 -0.08604047 -0.3716404 -0.018587098 -0.25714597 0.019003043 -0.18655802 -0.087251835 0.012425715 0.22173089 -0.28615203 0.009458145 -0.106299594 -0.17422447 -0.03466824 -0.066024855 -0.044344205 -0.09517118 -0.06510281 -0.12130409 0.008199106 -0.056011256 -0.006526424 -1.0886227 -0.07047138 -0.15247712 0.035113413 -0.026599787 -0.029460866 -0.19799596 0.07510802 -0.72349143 -0.39309323 -0.022351526 -0.015835699 0.17119342 -0.4764944 -0.064302914 -0.16986369 -0.16968505 0.049517415 0.26622242 -0.40840468 -0.09991329 0.059286803 0.01917414 -0.10841154 0.068470545 0.05567666 -0.13873753 0.040079355 -0.2924969 0.05463275 -0.120623134 -0.11719616 0.41060975 0.017060174 -0.028790412 0.096699946 0.0073585655 -0.07318913 -0.2015431 -0.34678674 -0.30112723 -0.15685621 -0.15867144 0.1412848 -0.06505802 -0.13733195 0.13313985 -0.7206989 -0.0776106 -0.07769216 -0.3133519 -0.2205103 0.75452554 -0.19260247 0.17117022 -0.19232604 -0.013708066 -0.1145419 -0.015678952 -0.089801386 -0.0481967 0.07173737 0.06771056 -0.04944496 -0.07301496 -0.06840956 -0.062159866 -0.10941659 0.026672918 -0.0019022711 -0.15971303 0.028788382 -0.24859005 -0.14079677 0.18143864 0.012555487 -8.864109 -0.12962893 -0.2785846 -0.1995152 0.027093941 -0.115563646 -0.07277977 -0.047964368 -0.036168445 -0.37940243 -0.34929267 -0.033925954 -0.10011985 -0.21177612 -0.3325423 -0.21161415 -0.1145901 -0.22258417 -0.030242331 -0.051084545 -0.11189841 -0.07759194 -0.15949665 -0.023024218 -0.22371155 -0.21321845 0.03464033 -0.031201735 0.0019603828 -0.32488143 0.031898215 -0.12374826 -0.102413945 -0.052681975 -0.006457219 -0.3181281 -0.644379 0.002939604 -0.24704488 -0.37827104 -0.053776916 -0.23661344 -0.24974817 0.02254591 0.050062656 -0.09575525 -0.22564319 0.066322245 -0.06708169 -0.075709365 -0.26796398 -0.052138362 0.043357685 -0.16587265 0.006834851 -0.18223777 0.014955754 -0.18873085 -0.13706286 1.7406104 -0.06086894 -0.13609813 -0.0018796122 0.09825261 -0.1809532\n",
            "\n",
            "soldier -0.14413251 -0.07639864 -0.33264694 0.0020128775 0.053541914 -0.25371328 0.06662319 -0.037512276 -0.0814979 0.037096933 0.4368907 -0.07390789 -0.046212267 0.0046506133 -0.22803545 -0.04034883 -0.0332588 -0.14151408 0.13028333 -0.15852325 0.15156336 -0.09048383 -0.19610555 0.17089432 -0.121897265 0.13517149 -0.25603163 -0.19367905 -0.12337422 -0.30284664 -0.082339756 0.17427815 -0.023122685 -0.15698308 -0.05566301 0.13761142 21.596777 0.08193773 0.07837376 0.05386514 -0.16848902 0.09020207 0.010406078 -0.277173 -0.20414522 -0.0026360108 -0.013632102 0.06600195 -0.23657757 0.064218506 -0.07792438 0.07463597 -0.1718803 -0.12421694 0.06900411 0.079020485 -0.039719086 -0.3187935 -0.20269778 0.15637937 0.11524388 -0.03287279 -0.051828947 -0.057528652 -1.0376899 -0.14852792 -0.022087354 -0.08007483 -0.08064723 -0.05421079 -0.097937085 -0.26461416 -0.17031926 -0.09782508 -0.18600558 -0.31983724 -0.37077287 -1.1449435 0.18099535 -0.074539796 -0.26566753 -0.0260652 -0.03759633 -0.5330284 0.011370229 0.16081876 -0.097190276 -0.988514 -0.045113653 -0.0737105 -0.09860038 -0.3301341 -0.31634885 -0.15863757 -0.1259688 -0.12509072 -0.21796954 0.09588165 0.05800033 0.27562404 -0.13440293 0.19526897 -0.15855218 -0.15563703 0.003567739 -0.14446907 -0.07327075 1.348886 0.028054178 -0.100679904 -0.007760752 0.10252166 -0.09220657 0.10311972 -0.0013754528 -0.043388907 0.06939794 -0.03754669 -0.13829088 -0.11806813 -0.18287341 -0.10840651 -0.007815515 0.032249626 -0.021518057 0.05477713 -0.06719181 -0.020681936 -0.22116339 0.0014008536 0.012332048 0.12643528 -0.11358377 -0.14882171 0.00030999965 -0.054019764 0.062816516 -0.43921956 0.67039686 0.082974076 -0.020400852 -0.011617543 -0.71094817 -0.026102865 0.0017466452 -0.009583576 0.076005645 0.098146476 0.008327114 -0.21568114 -0.1051775 0.045708258 0.27665922 -0.03267882 -0.046136126 0.09579363 -0.019821629 -0.21181537 0.06266874 -0.06743972 -0.20592599 -0.04524592 0.14145419 -0.033584688 -0.2875968 -0.08881234 -0.037356894 -0.6903369 -0.100576505 -0.036849197 -0.21587926 -0.011007417 -0.129236 0.14644815 0.0112565085 -0.21922448 -0.16991605 -0.2640349 -0.34079072 -0.16283387 -0.14796412 0.013697743 0.03026717 0.13976043 -0.06198281 -0.0309896 -0.13625294 0.12983398 -0.016998868 0.02827993 -0.07494228 -0.09607386 -0.1949469 0.0024485958 -0.08933989 -0.28256404 -0.06853322 -0.10974657 -0.07783874 -0.3996425 -0.09595379 -0.044287916 -0.1716484 -0.09063058 -0.0341301 0.027270261 -0.06511916 -0.034815885 -0.14463127 0.021368528 0.033141706 0.25269523 -0.046390634 -0.19707805 -0.02380166 -0.20161611 -0.0493181 -0.14880414 -0.16081353 -0.11894922 -0.15002896 -0.19788925 -0.07473875 -0.12603705 -0.03488305 -0.15789984 0.012377954 -0.044574257 -0.0209591 -0.017934546 0.21037143 -0.14731935 1.6352024 -0.015860735 -0.116434835 -0.19889139 -0.0773287 -0.069429114 -0.043530885 -0.00097605365 -0.06385317 0.26318967 0.038352944 -0.048302058 0.024339017 0.120725475 -0.17465498 0.10569157 -0.006131048 -0.11944432 -0.32232812 -0.096540995 -0.030556321 0.09766686 -0.14223297 0.027627215 0.048305668 0.07340608 -0.16162106 -0.24641201 0.048456103 -0.058080804 0.041842375 -0.00870224 -0.043847453 -0.27322385 -0.9665405 -0.35335007 -0.18759748 0.20445365 -0.34475857 0.19092837 -0.060420208 0.15013482 -0.056514032 -0.29951343 -0.13579957 -0.21100335 -0.16040388 0.018454019 -0.096544035 -0.09051917 0.10118688 0.162393 -0.0028850704 -0.15783577 -0.18417588 -0.20313059 -0.040073197 -0.1865542 -0.13278534 -0.07773044 -0.024425037 0.01998369 0.22307597 -0.1874324 -0.06872581 0.011561564 -0.019187205 -0.02892549 -0.009991936 0.0029378987 -0.10250794 -0.055022147 -0.21445748 -0.048527118 0.07931332 -0.12364179 -1.0507586 -0.089802764 0.08432661 -0.036177255 -0.00043745435 -0.1429961 0.6135769 -0.14718251 -0.25499517 0.039000142 -0.05981611 0.20553724 -0.34646612 -0.15807372 -0.13591935 -0.010425609 -0.043215226 -0.048816856 -0.2264828 -0.08004755 -0.02396292 -0.083741486 -0.21985047 -0.08613832 0.13765158 -0.13376303 0.07518301 -0.27271786 -0.115494944 -0.17074087 -0.11992328 -0.13671362 -0.13494878 -0.0650313 -0.22516124 -0.11084551 -0.18770811 -0.079631664 0.028308222 -0.43462682 -0.046523225 0.083013505 -0.24286893 0.25002328 0.0069742883 -0.13484025 -0.12321743 0.00013418804 -0.37477395 -0.04723334 -0.06446014 -0.06895508 -0.015562389 -0.017569028 -0.37998107 -0.016386924 -0.06797205 -0.9534047 0.027880378 0.085311994 0.057813026 0.060624164 0.19979763 -0.2724772 0.014791711 -0.7111746 -7.083219 -0.053825524 -0.34019578 0.08499047 -0.7309296 -0.03672089 0.0020068798 -0.12851939 -0.09408935 -0.053481173 -0.437284 -0.09034119 0.116056085 -0.024856137 -0.036857206 -0.12919998 0.21383074 -0.13712333 0.1708135 -0.660693 -0.2901901 -0.16986379 -0.41358712 -0.14149614 -0.0023949433 -0.04285994 0.0088036535 -0.13815105 -0.090920776 0.07259747 -0.14205967 0.021146862 -0.104312114 -0.1899624 -0.04779802 -0.109838195 -0.2534168 -0.068485856 -0.17966436 -0.20134252 -0.019283745 -0.023492642 -0.07426644 -0.20057252 -0.10912925 0.048879288 -0.13873045 -0.09512261 -0.10092369 -0.21539728 -0.087781176 -0.0014970317 -0.1564334 -0.051201425 -0.14026463 -0.15199427 35.761314 -0.058203485 -0.021026244 0.054226898 -0.16416039 -0.053243905 -0.10068043 -0.07891051 0.12705484 0.31192854 -0.1343628 0.0020024893 4.560535 -0.03911617 0.0305668 -0.019673428 -0.17248501 1.6955094 -0.07892144 0.17080341 -0.11822723 -0.075699076 0.09048191 -0.27718732 -0.14137569 -0.1568521 -0.24484168 -0.16684188 0.032064274 -0.033532914 0.17649145 0.10524365 -0.048796 -0.19173041 -0.20737064 -0.37896532 -0.013059415 -0.063503586 -0.0040489016 0.095416725 0.033338927 -0.047026373 -0.13613915 -0.08504877 -0.12343783 -0.17885807 -0.11120104 -0.24803436 -0.2467415 -2.8805265 -0.85192496 0.66641575 -0.10267831 -0.081734695 0.1804447 -0.14982735 -0.00011369016 -0.10528167 -0.046292998 -0.24184392 0.0832587 -0.15275016 -0.20736428 -0.13682729 -0.21469454 -0.035594266 49.653297 -0.46573973 0.00204573 -0.06892765 -0.0368969 0.043260306 -0.019957488 -1.1664494 -0.120282814 -0.05667804 0.035956755 0.15007333 0.018735027 0.14433552 -0.11291207 -0.18135601 -0.056431137 -0.16159931 -0.28017217 -0.3273296 -0.0029553832 -0.020601643 -0.21149142 -0.21090518 0.08945595 -0.29939565 0.04758231 -0.0709055 -0.078498706 -0.2405239 0.22781582 -0.57356095 -0.15701362 -0.09911862 -0.12409871 -0.090601884 -0.1285378 -0.011701442 -0.20771289 -0.080097035 0.07602643 -0.009025972 -0.10268828 -0.060499653 0.42199385 -0.20036094 -0.106673606 -0.28251493 -0.19509114 -0.12875926 0.045297667 -0.11075389 -0.15747365 -0.24562222 -0.10867579 -0.21169533 -0.17803282 -0.2612067 -0.24718623 -0.030668307 0.12474929 0.11720829 -0.22457954 -0.25047764 -0.04976981 -0.051781155 -0.120147176 -0.018834643 -0.13752784 -0.11862602 0.4200745 -0.22729667 0.11710719 -0.34074014 -0.009690585 -0.020883713 -0.05292757 -0.19970995 -0.22706631 -0.109821804 0.052994944 -0.04369411 -0.3152491 0.044723373 0.052313924 0.061484627 0.08367775 -0.026395665 -0.07730356 0.07055158 -0.122821875 -0.16910198 0.18608993 0.059667796 0.0027183238 -0.050412297 -0.030249007 -0.24970114 -0.029382614 0.043013103 -0.11670284 0.0077606207 -0.08245417 -0.07848179 0.039873112 -0.17204072 -0.3390557 0.05599293 0.09651708 -0.19480707 -0.11099563 -0.088023044 -0.41626906 0.06825555 -0.16168629 -0.12969838 -0.020635797 -0.05781674 -0.14866234 -0.1167241 -0.15095258 -0.16916637 -0.106762305 -0.10646001 -0.12843148 -0.08147466 -0.23058528 -0.13471013 -0.0013771908 -0.027887471 -0.14889196 -0.7919367 -0.018335912 -0.24923326 0.101307206 -0.29124147 0.008449332 -0.04719642 0.01894961 -0.89903 -0.27553886 -0.09725159 -0.17108072 -0.017019223 -0.36870214 -0.10187553 -0.22913574 -0.17606233 -0.17859939 0.083836876 -0.28025234 -0.13646747 0.047638785 -0.15086588 -0.036139995 -0.03284762 0.19021274 -0.17342833 0.025749343 -0.38265628 0.065228045 -0.009407351 -0.09677154 0.3866757 0.022014162 -0.03612145 -0.06538119 -0.06914592 0.017698223 -0.16539827 -0.23444581 -0.28623164 -0.03423789 -0.08336416 0.041023284 -0.15088195 -0.12922214 -0.02175147 -0.69649833 -0.004405655 -0.16888563 -0.012092214 -0.1133865 0.9191677 -0.18045503 0.015807329 -0.16182931 0.07912437 -0.16689384 0.14543632 -0.0809492 -0.098138854 0.23240325 0.05446683 -0.0024462475 0.022734849 -0.12828773 -0.023514727 -0.12078862 -0.008281524 0.07961999 -0.15094252 0.18153392 0.15214497 -0.026173878 -0.04766641 -0.077430576 -5.7661214 -0.17453943 -0.26599497 -0.30543253 -0.35932308 -0.2202451 -0.11630243 -0.119544595 -0.083638325 -0.30995136 -0.11591971 -0.16319525 -0.14326376 -0.21133272 -0.09661512 -0.26370668 -0.102087066 -0.11714099 -0.15291934 -0.08068783 -0.15718526 -0.061143324 -0.008022208 0.0016303402 -0.14211972 -0.098556295 0.092817694 -0.03686366 -0.11055597 -0.3460756 0.09630415 -0.3021948 0.010401569 0.13883743 -0.015414469 -0.2669343 -0.47010696 -0.09085311 -0.2652453 -0.22702533 -0.101388454 -0.28585485 -0.4855307 -0.12840672 0.03844738 -0.24341443 -0.09498163 0.11514478 -0.18540561 -0.03712015 -0.23063049 0.023761919 0.11245978 -0.22878303 -0.37630227 -0.11449516 0.12898554 -0.22322743 0.062127795 0.83926845 -0.07408449 -0.08361718 -0.17971154 -0.07403551 -0.095105015\n",
            "\n",
            "surgeon -0.058680378 -0.12906395 -0.3554916 0.07921519 0.0031943845 -0.23307404 -0.37980568 0.062415104 -0.20681782 0.076247685 0.3074911 0.053733468 -0.04370173 -0.049212605 -0.119464114 0.061191842 -0.14703378 -0.108243845 0.18413946 -0.30530888 0.1864106 -0.13210563 -0.09102202 -0.045159522 -0.10073721 0.22781032 -0.26779374 -0.27873492 -0.0961047 -0.54836595 -0.0011645664 0.071300775 -0.13165927 -0.15750891 -0.18712729 0.018805385 17.950636 -0.08659586 0.039044816 -0.060148463 -0.112780795 0.07707157 0.06308613 -0.23418874 -0.1668309 0.033573084 0.03326383 -0.010388096 -0.5016213 -0.10449654 0.008001977 0.07895246 -0.01046901 -0.10524303 0.17014177 -0.15108617 0.047756977 -0.17690736 -0.14393668 -0.023661437 0.13824062 -0.08564785 0.094142586 -0.20867293 -1.0360464 0.023145707 0.11542076 -0.11721235 -0.06421513 -0.1312139 -0.030962838 -0.23917116 -0.1718814 -0.046392325 -0.1137389 -0.25833243 -0.44416994 -1.7846274 -0.1482841 0.046132717 -0.3950747 0.028108375 0.07832128 -0.45290467 -0.07032502 0.18790498 -0.20883289 -0.9878823 -0.058086786 -0.33129746 0.062460177 -0.20292984 -0.27545384 -0.02847141 -0.20567997 -0.0269496 -0.19069672 -0.04164342 0.053665336 0.196161 -0.0058340663 0.055584393 0.23631106 -0.07511244 0.109204605 -0.10426377 -0.16319673 2.8893464 -0.1398705 -0.07383913 -0.089265786 0.010884113 -0.068603344 -0.08970311 0.059012126 0.052413337 -0.002649929 0.07114454 0.017183255 -0.1844272 -0.07754615 -0.034571428 0.0003882391 0.06549487 -0.21838349 -0.018510746 0.0032904486 0.07872527 -0.14481205 0.069889404 -0.009572726 0.047447894 0.08770356 -0.09679457 -0.0760184 -0.0014470222 -0.025192013 -0.3941562 0.6390309 0.062442377 -0.22128254 0.0029439153 -0.9135311 -0.09748124 -0.050792843 -0.0612325 -0.025684118 0.019807527 -0.06627571 -0.24799824 -0.09533661 -0.029749649 0.26015773 -0.0025525424 -0.09461717 0.06704734 0.13589427 -0.2566341 0.07920933 -0.055690654 -0.16111735 0.07951176 0.03560771 -0.0927134 -0.17456964 -0.07423498 0.052204814 -0.5886488 -0.07902727 -0.011491095 -0.14695811 -0.046763983 -0.13256341 0.05032757 0.122335695 -0.32717913 -0.10853897 -0.2013395 0.047471333 -0.06781746 -0.18859734 -0.05304223 -0.12353292 0.06427554 -0.10131215 -0.06889075 -0.13211209 -0.061663978 -0.08042823 -0.017952964 0.03243929 -0.08602157 0.041254148 -0.13277504 -0.12229379 0.16890089 -0.14220798 -0.14996253 -0.08800245 -0.23586106 -0.08395917 0.15891175 -0.09860344 -0.23221433 -0.0214156 0.061082162 -0.17442995 -0.12124963 -0.33337745 0.084762186 0.025004597 0.3650245 -0.11446618 -0.1932512 0.04920213 -0.1633433 -0.40027827 -0.24919346 -0.09937889 -0.07833764 -0.0143040335 -0.08109647 -0.09619567 -0.22263978 -0.17647238 -0.10654006 0.07631698 0.017850537 0.13313302 -0.1849062 0.035692293 -0.15824288 3.426993 -0.05259977 -0.10854569 -0.2884382 -0.12155623 -0.023566613 -0.045066107 -0.03214516 0.19703194 0.03907584 -0.027018016 -0.1624893 -0.0042212936 0.013066396 -0.29602844 0.15335757 -0.0037793252 -0.28497776 -0.6185278 0.041989386 0.0958615 0.065530494 -0.2689962 -0.012314216 0.1063543 -0.02985139 -0.07310975 0.11424607 0.1002467 -0.11831705 -0.08110135 -0.112717636 -0.09239237 -0.2051262 -0.96541554 -0.6007998 -0.08976353 0.17677881 -0.4255503 0.583843 -0.17727734 0.09275334 -0.39089715 -0.19437782 -0.26706257 -0.18166432 -0.1530486 -0.16640691 -0.10418049 -0.11098435 -0.057742316 0.04222903 0.024139209 -0.22432555 -0.16333483 -0.18154377 -0.055928376 0.04782729 -0.028823987 -0.0046287784 -0.12345154 0.058872942 -0.06328913 0.028092446 -0.0701835 -0.03603416 -0.050823417 -0.020136105 0.03290099 -0.001003583 -0.11635506 -0.03321391 -0.21602261 -0.042028382 0.066529565 -0.1683344 -1.0547388 -0.09701758 0.035397325 0.28988162 -0.081514575 -0.08952143 4.6505075 -0.09806398 -0.13104604 0.13441509 -0.13435397 0.16995808 -0.4019712 -0.08214137 -0.16170643 -0.041202158 -0.0006404166 0.062856644 -0.53926843 -0.050514065 -0.09886839 -0.16787103 -0.20937403 -0.08896762 0.016962001 -0.1426026 0.22681533 -0.26713192 -0.18551108 -0.07500267 -0.083273165 -0.07343109 0.041762024 -0.033480342 -0.19589117 -0.14221305 -0.052775104 0.009570601 -0.035293978 -0.32366762 -0.072951235 -0.011081988 -0.26146972 0.0034145662 0.019282108 -0.21696588 -0.08948931 0.0025437914 -0.3846212 -0.056169637 -0.048654307 -0.10760539 -0.16030368 -0.14607882 -0.23206532 -0.008467944 -0.06358755 -0.018115092 -0.06357129 0.0028815966 -0.05434975 -0.024829559 -0.061283346 -0.044513367 -0.013288563 -0.6938029 -7.600656 0.027317509 -0.12438877 0.12614669 -0.5141539 0.042600747 0.056126595 -0.16495772 -0.21308383 -0.18773465 -0.27972603 -0.11462862 0.1056094 -0.054115813 -0.040398832 0.023197897 0.23470773 0.08855085 -0.04460838 -0.4929077 -0.2082239 -0.012891118 -0.22531933 -0.18305272 0.00999557 -0.09148289 -0.07335121 -0.25276184 -0.1910722 0.0013288273 -0.15943404 -0.016844679 0.0067896526 -0.079417765 -0.49777636 -0.022229109 -0.3762144 -0.10181062 -0.32367337 -0.10640793 -0.18981418 -0.013373445 -0.09467945 -0.25085562 -0.08361257 0.06812802 -0.22346714 -0.29793096 0.016195146 -0.09023369 0.04615805 -0.034604896 -0.0837137 -0.19824539 -0.18703742 -0.2943016 34.023933 0.07108458 -0.16549721 -0.14827353 -0.14315107 -0.06513662 -0.1781688 -0.06101661 0.18925592 0.52209276 -0.11134392 0.10284344 5.973395 0.008736395 -0.06653001 -0.0015692372 -0.08681208 1.6910614 0.029858684 0.0138274925 -0.09290026 -0.029155478 0.11275223 -0.46345064 -0.13865115 0.025512848 -0.11840357 -0.04142197 0.08426124 -0.20116888 0.24494413 -0.054325636 -0.10922142 -0.1781996 -0.15746678 -0.23491368 -0.13275516 -0.22851482 0.031514846 -0.09287244 0.08812325 -0.118028454 -0.03840764 -0.093029365 -0.006867661 -0.16988271 -0.0023125706 -0.14119677 -0.14083628 -4.0979733 -0.8511652 0.6510089 -0.19783874 -0.11720264 -0.08471625 -0.28874272 -0.12807618 -0.15989101 0.009570146 -0.080056325 0.2906209 -0.20769918 -0.29589775 -0.09770339 -0.22826056 -0.025485015 47.948093 -0.45414856 0.012650709 -0.09560527 -0.05538144 -0.17725898 -0.061554875 -0.23878439 -0.09514535 -0.0672037 -0.047901936 0.17253147 -0.011054332 0.13948134 -0.035426114 -0.26798484 -0.21234244 0.020824278 -0.20565961 -0.22146778 -0.08870344 -0.18188787 -0.14332671 -0.11168712 -0.11554748 -0.287427 -0.010371481 -0.148102 -0.022418644 -0.3247775 0.32556155 -0.14598717 -0.25744018 -0.052284267 -0.22541454 -0.0112603735 -0.11165456 -0.036816537 -0.16288283 -0.07836663 -0.0257066 -0.12756942 -0.14783114 -0.027238755 0.5215565 -0.099224865 -0.032260302 -0.20232315 -0.057789307 -0.09555533 0.023561263 -0.1959499 -0.09729181 -0.061119054 -0.09333307 -0.42040524 -0.11014737 -0.26262772 -0.62568235 0.1503654 -0.013827764 0.09682379 -0.094381586 -0.36751586 -0.20363654 -0.18377438 -0.11632181 -0.039455157 -0.10832541 -0.20684536 -0.07575329 -0.18105873 -0.10162051 -0.11012724 -0.1213466 -0.046017785 0.010248845 -0.10423474 -0.13529208 -0.1789292 0.009035299 -0.1145625 0.11972478 -0.003924142 0.03844413 0.07141134 -0.053078223 -0.1675353 -0.15976949 -0.15472943 -0.17083926 -0.41963688 0.16873848 -0.06620198 0.1655642 0.16480398 -0.08802697 -0.23991956 -0.11266601 -0.011695663 0.029175105 0.035746865 -0.18049155 -0.032699585 -0.011870199 -0.08343238 -0.32840842 -0.03196041 -0.014100796 -0.17295462 -0.08284794 0.021928515 -0.26161477 0.039360806 -0.10102578 0.09992488 -0.08487525 -0.044679824 -0.1727557 -0.05824467 0.046553627 -0.1212532 -0.15318319 -0.15285754 -0.0055303937 -0.20095444 -0.15347868 -0.17449884 -0.10224926 -0.021171058 -0.048247032 0.44863594 -0.16461651 -0.27102828 0.112555906 -0.07780231 -0.049770538 -0.14575756 -0.048474286 -0.6909029 -0.20594817 -0.0019788828 -0.17859837 -0.07403971 -0.30266395 -0.09854527 -0.31285653 -0.17245512 -0.0572179 0.02863799 -0.33565593 -0.16324733 0.13648877 -0.011702354 -0.10815511 -0.099782646 0.09689611 -0.0770961 0.040838692 -0.12940016 -0.102414 0.090567306 -0.14289317 0.56779647 -0.034430638 0.029314876 -0.115554124 0.012830417 -0.016198982 -0.028717767 -0.14240661 -0.23175907 -0.09235579 -0.14592554 0.006604994 -0.0763753 -0.23621835 0.05882354 -0.5963727 -0.009286175 -0.008731853 -0.1564674 0.09821583 -0.37660939 -0.13405971 0.07662168 -0.09566326 0.042496487 -0.27543348 -0.025405733 -0.2266373 -0.07748667 -0.046023212 0.016724197 -0.1398359 0.015880512 -0.14049599 0.12300054 -0.108655296 -0.07305521 0.0030470046 -0.03762195 0.12560529 0.100903265 -0.020666152 -0.033260424 0.09169021 -10.269417 -0.21624751 -0.32918254 -0.40786684 -0.06714982 -0.14123935 -0.006456542 0.044431325 -0.06313057 -0.23339118 -0.13792609 -0.08244595 -0.13017432 -0.15357518 -0.29018635 0.21054153 -0.07565913 -0.09009734 -0.0906195 -0.046807 0.037864726 -0.19700436 -0.08296719 0.008606573 -0.13262072 -0.15189753 0.07498021 0.032709755 -0.18128271 -0.18671404 -0.10092669 -0.21415429 0.13543813 -0.02296871 0.031205105 -0.007564594 -0.29574847 -0.117764935 -0.17617564 -0.42961204 -0.1532562 -0.32641187 -0.33472735 0.045521963 -0.027159309 -0.12761539 0.038189895 0.08414405 -0.16482086 -0.05051661 -0.1623075 -0.0017817895 -0.26684454 -0.24102671 -0.21287215 -0.090154074 0.22071442 -0.22121443 0.11340367 0.5199346 -0.079251975 -0.11593683 -0.12394713 -0.0063042264 -0.24579865\n",
            "\n",
            "vet -0.08787448 0.009781598 -0.4366116 -0.082065225 0.044188373 -0.1461993 0.40068823 -0.040729914 -0.29933262 0.050761387 0.2795165 -0.095781624 -0.021099683 0.06585016 -0.07740066 -0.12017832 -0.15882507 -0.18438405 0.17113504 -0.14434636 0.08762734 -0.007431748 -0.2167794 -0.060703017 -0.040421106 0.094520666 -0.21802272 -0.18306604 -0.05882662 -0.32678 -0.014340186 0.09068302 -0.06427009 -0.3571429 -0.11108107 -0.061939307 23.958075 -0.043831393 -0.075786225 0.043760587 -0.2037509 0.022928886 0.081738584 -0.2679389 -0.12867488 -0.031540442 -0.04223024 0.053775772 -0.28013575 0.13960613 -0.007619481 0.12738016 -0.32225144 -0.032334585 0.11552209 0.0005951389 0.054092422 -0.250606 -0.21280678 -0.09066174 0.12587914 0.0021046656 0.16185042 0.021545159 -1.0410483 -0.10411708 -0.03665155 -0.13522859 -0.19618611 -0.1625874 -0.18825178 -0.28419167 -0.118591495 -0.0010772939 -0.095983 -0.26745367 -0.074186854 -1.1022662 0.09579622 -0.015643148 -0.35903606 -0.113065384 0.13850497 -0.24505301 -0.015037164 -0.02263197 -0.31189218 -0.9905451 -0.04358705 -0.18059231 -0.0067337956 -0.25511184 -0.25754037 -0.13240476 -0.22701365 -0.14516784 -0.14642061 0.076876126 0.09513568 0.10943194 -0.080813974 -0.009608585 -0.06298299 -0.022854546 0.102045074 -0.17905651 -0.10544422 0.6611934 0.020760689 -0.09368484 -0.18331973 0.011707062 -0.09867129 0.13611087 -0.09000388 0.06274265 0.070750296 -0.006418417 -0.10245908 -0.21975315 -0.1331475 -0.004993894 0.035989024 0.06290996 -0.17933692 -0.018067328 -0.008685031 -0.008334792 -0.3788249 -0.07092536 0.044810254 -0.042152707 -0.0024217267 -0.13316377 0.06365331 -0.09916062 -0.055461813 -0.18117493 0.737088 -0.00059701427 -0.069729656 -0.09241137 -0.3834966 0.0014235043 -0.023491113 0.08735878 -0.11284764 -0.01216574 -0.051074676 -0.2760807 -0.23287237 -0.024099698 -0.31245217 0.13892841 -0.04260512 -0.015596351 -0.061767027 -0.163552 0.043798152 -0.07607763 -0.24829286 -0.042784825 -0.1473593 -0.096904226 -0.17224552 0.0013665814 -0.076460406 -0.9932661 -0.07286249 -0.19258898 -0.13439631 -0.10978439 -0.074347086 0.07311594 0.015935885 -0.07878924 -0.3334952 -0.2643052 0.18535371 -0.16521035 -0.32791793 -0.024283193 0.0144534325 -0.03339273 -0.0307821 -0.17731978 -0.055693034 0.069131665 0.08329965 0.07266456 -0.16864008 -0.08366506 -0.058734532 -0.07131036 -0.12447501 0.042911194 -0.12261165 -0.14333138 -0.20350051 -0.4526876 0.01147034 0.042232536 -0.11756826 -0.0713178 -0.018478392 -0.16233219 -0.112747155 -0.10961204 -0.1426421 -0.026367106 0.00052179245 0.14446191 -0.07138764 0.28545064 -0.034415577 -0.094185896 -0.12784515 -0.18204851 -0.17673984 -0.026248187 -0.042345807 -0.12054358 -0.09626062 -0.0980763 0.032622054 -0.10946161 -0.055237003 -0.118608736 -0.016098123 -0.0670329 0.07497158 0.06950385 1.255545 -0.13424717 -0.08183586 -0.10334059 -0.10031098 -0.08536064 -0.0718331 -0.11202833 -0.40352002 -0.003679799 -0.027071157 -0.008440097 0.01994554 0.029487846 -0.27600804 0.22454776 -0.0628075 -0.407242 -0.5463729 0.06482202 0.003987739 -0.04534361 -0.03503368 0.07720753 -0.06057129 0.06452769 -0.13196278 -0.019725904 0.040635265 -0.1505951 -0.0023287525 0.026013182 -0.096152365 -0.07749935 -0.9692407 -0.18690564 -0.15428533 -0.16604792 -0.1866187 0.58113617 -0.16970155 0.13446486 -0.23499922 -0.16216192 0.037764385 -0.08332324 -0.099585034 -0.0072080195 -0.054891277 -0.10684678 0.16094904 -0.05495097 0.15848441 -0.035151992 -0.08173611 -0.16570255 0.0250725 -0.29714113 0.047566015 -0.0047658533 0.006455087 0.030567696 0.11345169 -0.19532351 -0.12716012 -0.12552069 -0.13028477 -0.032430153 0.14002088 0.03822425 -0.05236132 0.019110493 -0.17953566 -0.03445736 0.068792425 -0.08211559 -0.81480443 -0.0989956 0.01362802 0.049250025 -0.05188265 -0.16649717 0.23310784 -0.1634271 -0.2094434 0.08902256 -0.093403056 0.085303105 -0.5509847 -0.18426205 -0.29468393 -0.016703662 -0.010754486 0.048015438 -0.4327268 -0.045604315 0.010665307 -0.06543744 -0.25249603 -0.08308948 0.2175064 -0.14389384 0.04330258 -0.30771562 0.08227415 -0.08103194 -0.15253389 -0.19373755 0.07948358 0.027765809 -0.17949188 -0.052849807 -0.21204863 0.10166002 -0.04153284 -0.25214547 -0.08180689 0.045219507 -0.14448717 0.1643089 0.011416925 -0.24095915 -0.06973795 -0.11063784 -0.24390124 -0.050229322 -0.13730612 -0.18118678 -0.084483206 0.08995742 -0.3419067 -0.101965316 -0.131356 -0.7321746 -0.17028464 -0.07086114 -0.077198245 -0.008094282 0.12457082 -0.059422117 -0.05891334 -0.7240273 -7.648544 -0.250124 -0.29410282 0.20884682 -0.6950097 0.04109575 -0.19567642 -0.2469924 -0.042482894 -0.19847666 -0.3010472 -0.024614437 0.12784229 0.022269694 0.05890505 -0.32071024 0.1648071 -0.047670703 -0.05859682 -0.5717667 -0.040799312 -0.03823402 -0.2509305 -0.084728345 -0.011035682 0.01813855 -0.027498238 -0.07642574 -0.054106373 0.09379953 -0.08183406 0.046529725 -0.02995288 -0.2522906 0.056837257 -0.0112172915 -0.19278026 -0.06509631 -0.21575804 -0.16439551 -0.03876474 -0.0661249 0.036656443 -0.16591462 0.059824273 -0.06790741 -0.33112365 -0.11059692 -0.04441754 -0.17080012 -0.12234836 0.0011268166 -0.095406115 -0.06110885 -0.11225812 -0.13305409 35.13594 0.07256811 -0.03791567 0.05903635 -0.22378838 0.00217399 -0.055859335 0.025837902 0.025072323 0.27711675 -0.19833446 0.099534206 3.2626867 -0.01988063 0.0260652 -0.04427883 -0.09527616 1.6999359 -0.03954617 0.19149463 -0.14510821 -0.086056605 0.096243046 -0.44567147 -0.11036722 0.2888031 -0.2143985 -0.0325821 0.09426638 -0.17807093 0.22908723 0.07353942 0.0385679 -0.18964228 -0.17747618 -0.14755964 -0.03067196 -0.16824767 -0.1135419 0.06991276 -0.020354183 -0.03802997 -0.23279044 0.022106305 0.004430162 -0.24019688 0.008916475 -0.06252343 -0.2744522 -3.021205 -0.85424006 0.68587565 -0.16334617 -0.13009295 -0.13493703 -0.046364162 -0.04150534 -0.20866705 -0.04397181 -0.18750869 0.040908918 -0.08205155 -0.13140985 -0.09761465 -0.076789185 0.049487393 50.03197 -0.2914001 -0.07784331 -0.045269843 0.07741327 -0.08398423 0.00092547113 -0.83612674 -0.2333513 -0.10827738 0.06789729 -0.07214263 -0.18361883 0.12029059 -0.0090827355 -0.2817294 0.037808456 -0.18995051 -0.025088849 -0.24125451 -0.0618474 -0.023018975 -0.14188772 -0.11091273 -0.06333476 -0.08932708 -0.112642705 -0.07869361 -0.027503291 -0.42331544 -0.052868914 -0.40568885 -0.087526396 -0.16872026 -0.10357998 -0.05347541 -0.07215951 0.04665996 -0.18505329 -0.033324763 0.0367629 -0.04314561 0.00694721 -0.06596072 0.39311227 -0.25228515 -0.16802083 -0.33398032 -0.100507095 0.05233233 -0.04382867 -0.0565673 -0.016803876 -0.20105937 0.028026573 -0.23783392 -0.101566106 -0.25034323 -0.210221 -0.03302633 0.08159493 0.06255526 -0.26305717 -0.24089755 -0.06339231 -0.11796445 -0.18536133 -0.065091565 -0.018970521 -0.05789267 0.09622954 -0.21935329 0.02752801 -0.04520784 -0.22926414 -0.02553696 -0.12470088 -0.16950749 -0.18997309 -0.09397456 -0.016461749 -0.055034526 -0.062234342 -0.017502308 0.016235994 0.021568017 0.013547928 -0.085066 -0.1636724 -0.024890777 -0.1722505 -0.10915553 0.051694807 -0.06512627 0.02905232 -0.10196373 -0.037737794 0.014689878 0.01739035 0.106822394 -0.14062127 -0.005879461 -0.014061308 -0.03283711 -0.17015791 -0.2543973 -0.33794552 0.07008379 0.029089278 0.07474191 -0.08794776 -0.10025435 -0.30307207 0.14425126 -0.15555622 -0.14574778 0.030116163 0.022053987 -0.21105607 -0.06385658 -0.16840015 -0.057706308 -0.09298059 -0.20222381 -0.051173996 -0.0412272 0.17439394 -0.07584488 -0.0077989292 -0.060933508 -0.17243546 -0.991872 -0.011554135 -0.26353008 0.08961608 -0.14755657 -0.07444189 -0.07733974 -0.075868204 -0.80518264 -0.26489255 0.007642246 -0.18618084 0.009262731 -0.36103526 -0.122208185 -0.24593647 0.023409951 -0.045821022 -0.070988424 -0.31641442 -0.093297035 0.09348567 -0.15989569 -0.0789721 -0.019072121 0.03380012 -0.30162257 0.0028704866 -0.2408102 -0.016457537 -0.034462363 -0.17312805 0.5222953 -0.11732126 0.035477813 -0.13455585 -0.07443874 -0.17098553 -0.0104604 -0.19519629 -0.26929992 0.121331096 -0.083794326 -0.20746826 -0.0926304 -0.10635171 0.09789586 -0.6605741 0.014895765 -0.11641824 -0.06956387 -0.115920775 -0.042839587 -0.15923753 -0.08974888 -0.107744955 0.09607243 -0.1724803 -0.05771244 -0.024715422 -0.19684274 0.013306076 0.059901837 0.049164295 0.07574542 -0.09027765 -0.10336967 -0.098412886 0.04723738 0.04525794 -0.048614085 0.039496623 -0.021000316 -0.038361877 0.08718981 -0.03917465 -4.1519804 -0.09769938 -0.22548193 -0.48771882 -0.2469748 -0.17325854 -0.10249705 -0.16207157 -0.050289553 -0.14264584 -0.14795056 -0.0813686 -0.05349762 -0.2635321 -0.32550436 -0.08813807 -0.034653846 -0.09323159 -0.0035032907 -0.07408109 -0.21113808 0.1115022 0.0610299 0.1331499 -0.16234325 -0.1487738 0.15772869 0.080422774 -0.12681288 -0.18848324 -0.10982213 -0.23558222 0.020929556 -0.001827768 0.005743106 -0.050457586 -0.42624986 -0.14109597 -0.11889186 -0.26497427 -0.0990068 -0.29790434 -0.52002215 -0.26244894 -0.01775808 -0.08864797 -0.11216844 -0.042300195 -0.10642245 -0.0016126556 -0.17818564 -0.04021453 0.06652711 -0.15375873 -0.13812092 -0.15561089 0.052199114 -0.15119779 0.11203472 1.4482459 -0.13286744 -0.08056211 -0.11681239 0.05685448 0.024531342\n",
            "\n",
            "receptionist 0.022232333 -0.17886548 -0.27537745 -0.0739626 0.033408172 -0.24243858 -0.44495106 0.020082848 -0.26703453 0.035144463 0.27820063 0.025862098 0.057766154 0.0101810675 -0.1604539 -0.13912877 -0.09800257 -0.20493954 0.031827834 -0.23468031 0.17220058 -0.1519537 -0.19167905 0.0626625 -0.06887522 0.1444389 -0.2992026 -0.3688586 0.038224798 -0.2865744 -0.0022514465 -0.01778474 -0.08800227 -0.23616298 -0.13085704 0.12239476 19.890026 -0.11416662 -0.0289919 -0.03541664 -0.086335726 0.028764235 -0.0013767647 -0.2838866 -0.043302946 0.0698042 -0.053318534 0.00027499255 -0.26310787 -0.12926129 -0.09809934 0.11166832 -0.13891771 -0.10104797 0.19242589 0.007909838 0.05698286 -0.25287357 -0.1498258 -0.06919823 0.11128251 0.062682904 0.10390944 -0.06942181 -1.0416722 -0.081382096 0.048368387 -0.12685259 -0.25037858 -0.126282 -0.06294238 -0.2136011 -0.12745512 -0.065679245 -0.12742089 -0.2981171 -0.24541213 -1.369338 0.0789942 -0.030929497 -0.35108158 -0.08532774 0.015811136 -0.35996532 -0.021983976 0.13060006 -0.1510817 -0.9908199 -0.019487776 -0.08520795 -0.05978054 -0.22804588 -0.195348 -0.018642582 -0.21810865 -0.12798482 -0.053280946 -0.032277234 0.068004265 0.3395197 0.018806761 -0.027248476 0.19567075 0.055734813 0.11691912 -0.050401784 -0.24280605 2.2703557 -0.029433629 -0.08777374 0.03556217 0.023900699 -0.094753936 -0.047739793 -0.051789477 0.021829829 -0.10841481 -0.10248925 -0.010468734 0.014894377 -0.031050537 -0.03476241 -0.053916223 -0.06201101 -0.08342871 0.012282635 -0.052144658 0.056014214 -0.38424847 -0.048869397 0.017603574 0.07587145 0.08883539 -0.09251114 0.014459853 -0.067936316 0.020580363 -0.09254401 0.67356145 -0.0037944808 -0.13179888 0.022705678 -0.49571827 -0.05519482 -0.07845226 0.18836041 -0.12774734 -0.07368659 0.072074294 -0.17642456 -0.13116495 -0.06530749 0.05795245 -0.060718022 -0.16450737 0.08323243 -0.10600914 -0.2261013 0.060939696 -0.08387033 0.34568545 0.11790393 0.00551701 -0.086201966 -0.16481064 -0.11515555 -0.025369365 -0.97130924 -0.100620486 -0.09936207 -0.11221815 -0.021309823 -0.18431805 -0.0012053965 -0.11782842 -0.262455 -0.13292788 -0.20109326 0.00680632 -0.048590634 -0.1463827 -0.12762675 -0.08252084 0.032853253 -0.08194703 -0.15335953 -0.14187644 -0.05837249 0.009766496 0.0046344874 -0.06760322 -0.055354718 -0.18290928 -0.07316307 -0.06482181 -0.0073601976 -0.0958724 -0.19756253 -0.08143435 -0.30346262 0.024286833 0.09850632 -0.12311782 -0.22112589 -0.05481624 0.14625941 -0.065159984 -0.08377565 -0.26698393 -0.026087081 0.06341118 0.05116339 -0.029343924 -0.11617879 -0.080615655 -0.03278672 -0.09888329 -0.1666445 -0.15068023 -0.05922789 -0.02800788 -0.13241214 -0.009310198 -0.043930262 0.05216096 -0.09036924 -0.057954162 -0.11038181 0.034124408 -0.1153614 0.1335551 -0.020380363 1.9339638 -0.09471441 -0.12232601 -0.17413627 -0.06245489 -0.047962647 -0.02627672 -0.00031058845 -0.038652137 0.02746453 0.05682818 -0.08737821 0.07260574 0.08908622 -0.21502629 -0.018206622 -0.018599793 -0.34296575 -0.29990903 -0.045175686 -0.015999032 0.07220724 -0.20639104 0.085441336 0.07155273 0.08308811 -0.04784227 -0.08886411 0.034488823 0.007898217 -0.035121202 0.07407812 -0.19796905 -0.17616852 -0.9703182 -0.36843836 -0.088448085 0.26279202 -0.27525008 -0.10847747 -0.09956515 0.10601512 -0.18221025 -0.15320395 -0.028866243 -0.230208 -0.10518414 -0.06476672 -0.063860014 -0.07000468 -0.0137675 -0.017365215 0.15288022 -0.1506432 -0.113450095 -0.2228516 -0.2601502 -0.21709631 -0.06960397 0.021047683 -0.040226538 0.053396177 0.0012789468 -0.09491021 -0.02440799 -0.1325769 -0.07130144 -0.10460488 -0.10016828 -0.00014591933 -0.060681194 -0.009311283 -0.112732075 -0.103046924 0.18479607 -0.1954569 -0.76921207 0.005514791 -0.029407492 0.050766475 -0.037604235 -0.21582247 2.152757 -0.10143542 -0.26554886 0.10936473 -0.006908871 0.0011623729 -0.26082298 -0.13235766 -0.24782029 0.006393771 0.043749616 -0.085147485 -0.42505172 -0.033066154 -0.06575582 -0.18589453 -0.27542153 -0.047259647 -0.012981739 -0.080830485 0.15262498 -0.28753713 -0.03081767 -0.093982 -0.13662411 -0.029493604 0.0076631717 -0.03696965 -0.10158937 -0.138417 -0.06478858 -0.04470131 -0.10610513 -0.30718002 -0.014460327 -0.054700144 -0.17022783 0.22396669 -0.038688067 -0.124155276 -0.07047696 -0.06611008 -0.4052366 0.040055756 -0.08705441 -0.077955194 -0.14710043 -0.06523211 -0.31556112 -0.005065471 -0.15021336 -0.5575088 -0.069532536 0.024152528 0.027960943 0.03101493 0.19972262 -0.14695191 -0.017213028 -0.72744924 -7.2115297 -0.17158064 -0.21006693 -0.043430448 -0.5392281 -0.03890526 -0.1010339 -0.172388 -0.071558535 -0.13469382 -0.21682088 -0.046387497 0.113949634 -0.04305285 -0.011769209 -0.2741145 0.0691242 0.060851526 -0.034125973 -0.572451 -0.01644872 -0.08357383 -0.32260698 -0.10235017 -0.034811 0.024084473 -0.13310157 -0.12490542 -0.100698814 -0.050889663 -0.10248303 0.08368669 -0.06637759 -0.1183677 -0.53868014 0.062282074 -0.23514669 -0.13272578 -0.23327158 -0.10890761 -0.15166822 -0.075798914 -0.12575759 -0.2871504 -0.06229244 0.0052429806 -0.17502788 -0.21479434 0.10386874 -0.16831863 -0.06721591 -0.055280566 -0.103036925 -0.10720133 -0.06620279 -0.18551067 35.351635 -0.0040517026 -0.017507626 -0.070157826 -0.22707374 -0.039311368 -0.17664139 -0.11903516 -0.04137132 0.5030868 -0.030826561 0.08390955 4.173785 -0.038977582 -0.0925196 -0.01651611 -0.119615026 1.7017127 -0.09688307 0.022386821 -0.14498423 -0.06818736 0.042289093 -0.4260232 -0.16876565 0.24813083 -0.15698895 0.011730214 -0.07070007 -0.08447034 0.14913084 0.20022054 -0.062057506 -0.11174086 -0.12536675 -0.29111502 -0.12638564 -0.20626335 0.024542604 -0.011534535 0.07640337 -0.06022821 -0.051736373 0.018520627 0.002029323 -0.06805553 0.005852219 -0.08815233 -0.16526416 -3.2469385 -0.85487324 0.68232703 -0.13938658 -0.12763542 -0.14164646 -0.16691685 -0.044449642 -0.13934454 0.05478798 -0.12240461 0.054248236 -0.052178804 -0.12197457 -0.14195922 -0.2257769 -0.014242626 49.19162 -0.47593158 0.016365306 -0.014975014 -0.0594427 -0.22309014 0.03831934 -0.7156834 -0.10023905 -0.11304119 -0.055853203 0.041666903 0.073088795 0.1671207 -0.043515824 -0.3055144 -0.02743937 -0.121772826 -0.15495197 -0.36356694 0.008704517 -0.07355658 -0.12709537 -0.032162953 -0.018497182 -0.3057842 -0.027187992 -0.083489716 -0.046771128 -0.30181563 -0.07908908 -0.18208367 -0.22044659 -0.014519708 -0.13235599 0.11644134 -0.10081953 -0.009295182 -0.14556511 -0.02938959 -0.044887073 -0.10934703 -0.111193605 -0.04487077 0.40838113 -0.22626953 -0.20863892 -0.17496546 -0.18297349 -0.11365491 0.014422069 -0.073962376 -0.15086405 -0.33700573 -0.025523758 -0.14558782 -0.0235314 -0.20421316 -0.68789345 0.14795215 0.012405228 0.018218279 -0.16637278 -0.22217812 -0.15730554 -0.061140582 -0.17108595 -0.05688852 -0.0041469866 -0.07820007 0.2386676 -0.20283963 -0.024064405 -0.10934549 -0.078618184 0.023311818 -0.044263866 -0.17869282 -0.12110907 -0.16277426 -0.023591388 -0.07190471 -0.2360771 0.082066655 -0.009460873 -0.109468095 0.0574202 0.015329678 -0.2067675 -0.13563083 -0.05663269 -0.25232863 0.15978147 -0.051576808 0.09843884 -0.025831508 -0.0952185 -0.10216386 -0.03250908 -0.0875879 0.015262173 -0.014147827 -0.15070371 -0.07103606 -0.07589046 -0.19483171 -0.26942745 -0.11351604 0.0048214947 -0.07270031 -0.14243303 -0.064431846 -0.27838576 0.017501479 -0.03772024 0.10983614 -0.14315227 -0.048309956 -0.3477882 -0.018193442 -0.07564296 -0.12280664 -0.10788278 -0.0682387 0.00871136 -0.19910271 -0.13214317 -0.26452368 0.009913711 -0.04647604 -0.20107067 -0.24689244 -0.091753624 -0.21931477 0.09548945 -0.10913009 -0.07077305 -0.08884208 -0.11558826 -0.7151592 -0.20826973 -0.071712844 -0.08736936 0.08540001 -0.08070227 -0.085296705 -0.29028475 -0.11016711 -0.12629664 -0.05685135 -0.2978625 -0.2992198 0.08357367 -0.023183314 -0.057615656 0.058383673 0.02875406 -0.09954313 -0.0022950107 -0.0012674545 -0.04213464 0.0360055 -0.14897117 0.42924014 -0.054507323 -0.09047159 -0.114076495 0.00461966 -0.09483103 0.037759427 -0.14154026 -0.09309125 0.18088399 -0.1389524 0.16556218 -0.07884529 -0.22314377 0.048548386 -0.6210254 0.0073385374 -0.18447417 -0.15520772 0.036865912 -0.614106 -0.21786605 0.05004234 -0.16096973 -0.00027221456 -0.12837128 0.003826957 -0.11798734 -0.059935484 0.044198763 -0.014555682 0.010328563 -0.0012841927 -0.03137258 -0.007054489 -0.028990693 -0.114574336 0.054138627 0.007876236 0.118629694 -0.026036033 0.035883155 0.040463842 0.035696972 -7.0037036 -0.1925595 -0.18299507 0.0064492044 -0.2114458 -0.19368832 -0.015127143 0.06980993 0.040570144 -0.13890861 -0.1446991 -0.124724984 -0.017436257 -0.13241297 -0.18422006 -0.07720777 0.075611845 -0.11009038 -0.13563587 -0.12240975 -0.1487683 0.07436701 -0.13936035 -0.0063155326 -0.16235366 -0.011301508 0.06498363 -0.14002076 -0.1607712 -0.22810899 0.07908189 -0.08416912 0.044319704 0.032117296 -0.036262084 -0.099603906 -0.20909002 -0.07952347 -0.24333161 -0.38744172 -0.09355464 -0.20662813 -0.23046471 -0.017260747 -0.077998325 -0.11475102 -0.089336164 -0.0029988214 -0.10507131 0.024757154 -0.15314594 -0.13064119 -0.036793936 -0.23813473 -0.16284397 -0.11695834 0.17155887 -0.1595242 0.038691934 0.5006032 -0.04304742 -0.0846045 -0.13138692 -0.08371228 0.015519704\n",
            "\n",
            "reading -0.23680593 0.040603448 -0.40652063 -0.03399343 -0.055883076 -0.27693763 0.9372867 0.021977477 -0.1828981 0.018826155 0.36658013 -0.064484194 0.048747793 -0.055467907 -0.18367779 -0.119761676 -0.052096393 -0.16891295 0.21718596 -0.18736498 0.16678937 -0.09638504 -0.2528169 -0.13085304 -0.092011504 0.09299993 -0.2219637 -0.16518158 -0.019211685 -0.22212397 -0.008295599 -0.09348901 -0.06299888 -0.23184478 -0.06466793 0.05118475 23.175558 -0.013317198 -0.11366647 0.010309765 -0.06965892 -0.0053294045 -0.053661935 -0.23197664 -0.034206748 0.030721825 -0.04101316 0.088621646 -0.3993489 0.07810739 -0.046517983 0.18914825 -0.33180705 -0.10499863 0.05284893 -0.054262426 0.00027175332 -0.21672574 -0.10986284 -0.055415615 -0.07054098 0.05035402 0.034852818 -0.14401615 -1.0397273 -0.03934186 -0.070218496 -0.09718615 -0.0792625 -0.105577156 -0.12748313 -0.22696406 -0.11466073 -0.14428298 -0.10668315 -0.33092606 -0.34669873 -0.7409963 0.083386116 0.0100208875 -0.4024995 -0.028260455 0.054171734 -0.32876348 -0.0359034 0.0777875 -0.29175997 -0.9898627 -0.034882955 -0.022298466 -0.047285445 -0.25599387 -0.15834032 -0.2023389 -0.23301572 -0.11266253 0.045275692 0.11636689 0.047400102 0.20011844 -0.055829052 0.0088020675 0.1140435 -0.04418813 -0.029220773 -0.09666528 -0.13288896 1.3767653 -0.015595412 -0.102790214 0.03481359 0.010805648 -0.21681927 0.0793016 -0.08390969 -0.003515246 0.047739435 0.049946643 -0.11468497 -0.01469608 -0.108208425 0.0038193876 -0.04037143 0.07715354 -0.17641446 -0.03433585 -0.03294515 -0.03878919 -0.36682317 -0.0892138 -0.025132664 0.012191678 0.10911686 -0.17297833 -0.04066423 -0.0764326 -0.010634262 -0.24737997 0.7606146 0.13839447 -0.10869589 -0.055848975 -0.9135618 -0.073599406 0.033731516 -0.09964866 -0.008932434 0.0112953745 0.017601056 -0.25082022 -0.12939897 -0.101364516 -0.09860974 -0.0037140765 -0.17423744 -0.0073933187 0.048409335 -0.19902802 0.035120644 -0.046498604 0.2732678 -0.08416579 -0.012504584 -0.19377892 -0.15416268 -0.027019741 -0.086827874 -0.852925 -0.19769077 -0.16560322 -0.10333151 -0.062697895 -0.096435845 0.019734642 -0.13116325 -0.03754273 -0.24221914 -0.25500914 -0.025935322 -0.06848588 -0.19953088 -0.04020216 0.06258615 0.06796197 0.028373057 -0.11325144 -0.123413846 -0.14194818 -0.014202107 0.037705563 -0.1614433 0.04778603 -0.12112348 -0.07728933 -0.13383721 -0.011509499 -0.0719884 -0.12575236 -0.14804406 -0.29867557 0.02222095 0.1000814 -0.23082685 -0.15893884 -0.04982908 -0.05720661 -0.07526263 -0.117147565 -0.12316888 0.028450778 0.11958929 0.049655586 -0.027594892 0.11574487 -0.08313555 -0.11945062 -0.1567822 -0.15002298 -0.21161579 -0.052363563 -0.080089666 -0.0994281 -0.07052176 -0.09731146 -0.008161269 -0.10335804 -0.02882429 -0.14840315 -0.030840524 -0.013200376 0.21443045 -0.09819822 0.53881145 -0.11970363 -0.073061936 -0.14002247 -0.05987424 -0.065865554 -0.023108492 -0.06314819 0.04035713 0.12426366 0.08925588 -0.035193145 0.029375484 0.07759433 -0.15336074 0.07808643 -0.026872175 -0.18619831 -0.36627534 -0.2022354 0.011815551 0.0054566674 -0.21202758 0.28835043 0.078881234 0.15423423 -0.110023364 -0.06568399 -0.008566394 -0.030677646 -0.08373125 0.04963766 -0.06899821 -0.17713927 -0.96849716 -0.19726868 -0.10165226 0.16512702 -0.105612315 0.76173204 -0.055604886 0.1238973 -0.07066385 -0.1228448 -0.08147546 -0.14163092 -0.06631441 -0.049177665 -0.07351712 -0.13999794 0.13444789 0.071374245 0.027442753 -0.016895158 -0.22033055 -0.1551923 -0.072305255 -0.2375097 0.0043988046 -0.09360984 -0.08813919 0.07074512 0.15598321 -0.2097624 -0.048572693 -0.105802886 -0.048456542 -0.068795465 0.003731774 -0.027949736 -0.0006687063 -0.039327912 -0.20178875 -0.035004146 0.11015935 -0.10856857 -1.0074261 -0.08425572 -0.024653163 -0.00018090337 0.0030583546 -0.11184812 -4.1689215 -0.23520842 -0.2691323 0.011066984 -0.12990968 0.13769457 -0.4635288 -0.1997975 -0.1512465 -0.11365386 0.033117566 0.07273037 -0.23434682 -0.04927364 -0.08351245 -0.21655685 -0.14942351 -0.10317465 0.07714168 -0.15833163 0.11356717 -0.20543015 -0.062318098 -0.25957742 -0.14365235 0.032991495 -0.050840225 0.0047186106 -0.13424678 -0.17085835 -0.16615406 0.06638622 0.0743541 -0.35157165 0.03171237 -0.010228927 -0.17360091 0.37538052 -0.022269813 -0.20054416 -0.22703084 -0.031460587 -0.2763995 0.06759096 -0.008903503 -0.0589486 -0.18006292 -0.04443495 -0.2444906 -0.03640395 -0.15614985 -0.7470304 -0.029387882 -0.13578986 -0.038747024 -0.0443424 0.106286176 -0.13752106 -0.009350128 -0.73138547 -8.945931 -0.05709736 -0.30464688 0.30343282 -0.62137085 0.11469425 -0.19776112 -0.21690303 0.029574297 -0.32505664 -0.23749384 -0.14343062 -0.012526762 -0.02059023 0.04698486 -0.76459926 0.1508322 -0.08994712 0.15150575 -0.5551423 -0.23125146 0.01847378 -0.3410758 -0.035282522 0.041825127 -0.06501093 -0.0045987186 -0.13900569 -0.0059592505 -0.015988966 -0.06852727 0.042962365 -0.09624341 -0.2116144 0.536118 -0.13612038 -0.32932115 -0.059643418 -0.23547235 -0.09419107 -0.06380256 -0.18551753 0.017282633 -0.042590346 -0.0741007 0.036224734 -0.32726842 -0.15026885 -0.03755742 -0.12610322 -0.02399692 -0.04086717 -0.07089114 -0.12498041 -0.0839684 -0.18252762 38.06404 0.02449853 0.0043849004 -0.12097365 -0.22864997 0.09815997 -0.20048892 -0.15129723 0.110424325 0.27563015 -0.12653327 -0.01996877 2.3295703 -0.067282185 -0.03878388 -0.083673686 -0.079168536 1.6990739 -0.095807195 0.08826074 -0.16672496 -0.061163336 0.028838731 -0.15093729 -0.106553674 0.27778462 -0.3253161 -0.0619617 0.07392262 0.015861472 0.26748905 0.03747771 -0.02872614 -0.19265093 -0.062029727 -0.4273544 -0.045371078 -0.20452677 -0.09192115 0.105991185 -0.00043935113 -0.109506436 -0.09214016 -0.020206807 -0.02120022 -0.18453811 -0.035506707 -0.21154787 -0.19587642 -1.6894585 -0.8534833 0.6887779 -0.111370556 -0.04410701 -0.08926712 -0.067942925 -0.03245393 -0.05855162 -0.041649558 -0.11389307 0.0480201 -0.11013587 -0.13661964 -0.08496275 -0.16181056 0.025898185 53.141033 -0.31910324 -0.0013422578 -0.0055820057 0.06986089 -0.00574815 -0.068308726 -1.320884 0.03268161 -0.0677819 0.075693764 0.048489023 0.008888352 0.023322359 -0.01211676 -0.3723836 -0.09042978 -0.20671423 -0.28486648 -0.4003189 0.03415692 -0.08452357 -0.20448327 -0.10740204 -0.10714154 -0.08791938 -0.08539949 0.0042403843 -0.068604164 -0.522145 -0.19963169 -0.51569897 -0.18288906 -0.019086478 -0.047280185 -0.09924946 -0.14781255 -0.021393297 -0.25396392 -0.110369384 -0.0038210333 -0.22628693 -0.21808265 -0.058235228 0.34910506 -0.21342778 -0.13253632 -0.21694082 -0.21613665 -0.07039055 -0.045245197 -0.075081155 -0.07010674 -0.14034136 0.039393283 -0.07177291 -0.09489031 -0.14057711 -0.37527016 0.040409803 0.003999168 0.101323515 -0.26419586 -0.16906202 -0.16110855 -0.056672942 -0.1517041 -0.074954204 -0.03444892 -0.17105706 -0.054000154 -0.25204253 0.03759794 -0.26288277 -0.14550631 -0.01971657 -0.07919294 -0.16867779 -0.1657757 -0.06875911 0.003595665 -0.051582865 -0.049219117 0.059563857 -0.040211167 -0.0047365357 0.11661958 -0.1035576 -0.16693167 -0.08726126 -0.03453255 -0.31349257 0.019971618 0.10890589 -0.0032354114 -0.0031610113 -0.005199734 -0.12606974 0.013157908 0.040543225 -0.072276026 0.0044489396 -0.068042025 -0.012527852 -0.022460831 -0.08190088 -0.19549799 -0.07335942 0.063842475 -0.0491108 -0.13765985 -0.024659555 -0.3183394 0.042411152 -0.20866443 0.06476012 -0.076000564 -0.078486316 -0.14205515 -0.12333427 -0.11503096 -0.15977608 -0.10477533 -0.26967433 -0.052528206 -0.114024274 -0.0063687 -0.21653572 -0.0059788655 0.039891757 -0.20504545 -1.9516228 -0.08718808 -0.20867483 0.0951939 -0.3424004 0.022846116 -0.08856986 -0.042726923 -0.58434105 -0.37280774 0.055229582 -0.2050436 0.043835904 -0.3045632 -0.10020904 -0.2524481 -0.16984151 -0.04729629 -0.0023709869 -0.26265445 -0.21581735 0.07212338 0.12884483 -0.03764977 -0.0005018406 0.061565887 -0.19526947 0.017110724 -0.29697385 -0.06646904 -0.015339788 -0.13895208 0.17804442 -0.09686661 0.027843008 -0.08949436 -0.09886938 -0.039837714 -0.019489175 -0.16456227 -0.2835944 0.24279797 -0.025593752 -0.20331849 -0.07483022 -0.11546463 0.02602812 -0.84809583 0.039421212 -0.25085536 -0.11432155 -0.07293117 0.88186234 -0.14470665 0.020986384 -0.28004932 0.14644744 -0.14352642 -0.13050957 0.0256576 -0.1025495 0.14191408 0.04602079 -0.06537268 0.06116304 -0.074819505 0.056182053 -0.18367775 -0.047583878 0.025632503 -0.0872438 0.01691783 0.087969996 0.042995095 0.1345053 -0.09233543 -2.813236 -0.08766803 -0.20988904 -0.3660062 -0.27650595 -0.267846 -0.10650026 -0.12068176 -0.007954339 -0.3624699 -0.10980103 -0.26254454 -0.13720274 -0.21031134 -0.13534525 -0.16534342 -0.06737432 -0.035865255 -0.08668438 0.0009654362 -0.18452902 0.19330835 0.005594528 0.19162707 -0.20196635 -0.07310218 0.05163733 -0.020950938 -0.035959326 -0.23583153 -0.0931441 -0.24607216 0.09624646 0.02840536 -0.082679845 -0.088636175 -0.16016738 -0.10996405 -0.2606807 -0.3044689 -0.10807598 -0.26485747 -0.80923176 -0.42362562 -0.010032947 -0.10561112 -0.08099311 0.093521036 -0.17892288 -0.0053583616 -0.17548034 -0.101719216 0.11232203 -0.23693122 -0.14510202 -0.14029825 0.11652566 -0.23233946 0.063185394 1.5411285 -0.19940834 -0.028012574 -0.13295327 -0.0057398877 -0.077539794\n",
            "\n",
            "writing -0.13333748 0.07052828 -0.42052674 -0.10662293 0.024130689 -0.24158561 -0.2483291 0.14053556 0.013838244 -0.01670035 0.40637985 -0.06302098 0.023852667 0.0010305014 -0.18701997 -0.14966576 -0.10397775 -0.19488627 0.17222154 -0.24375686 0.15421131 -0.06054099 -0.26875505 -0.17773885 -0.1361581 0.09535375 -0.32696435 -0.20415531 -0.06503056 -0.26557973 0.045039132 0.024750767 -0.088220425 -0.2729415 -0.07224962 0.056085277 23.78855 0.01700056 -0.07577078 -0.032749224 0.006501308 0.09011752 -0.085604064 -0.22945248 -0.08031557 0.026746241 -0.068638645 -0.01156478 -0.355004 0.14558296 -0.0076817945 0.17595153 -0.40186796 -0.07810115 -0.07065217 -0.108943574 -0.06329178 -0.2665199 -0.13020033 -0.021030765 0.009934521 -0.01224493 -0.017142098 -0.065965466 -1.0392516 -0.074182 -0.035615854 -0.104799144 -0.12268854 -0.1550769 -0.14698775 -0.25682232 -0.16331492 -0.14112334 -0.123576164 -0.28224438 -0.25713947 -0.7033206 0.1475492 -0.040475704 -0.3020372 -0.007452393 0.1262275 -0.22169198 -0.07832704 0.1615714 -0.15007314 -0.98952144 -0.11190339 -0.08872647 -0.025397804 -0.29528567 -0.21221413 -0.0827845 -0.23082344 -0.08734226 0.068614185 0.024418503 0.10361814 0.119770005 -0.13933288 0.12640367 -0.0397244 -0.03927846 -0.03756733 -0.1494899 -0.21643879 1.007034 -0.05283435 -0.06807123 -0.020837748 0.03256228 -0.24934249 0.06917203 -0.09420937 -0.021799948 -0.09544901 0.027665565 -0.041653425 -0.06986881 -0.079552606 0.05935205 -0.029697847 0.054548472 -0.117580734 -0.089763895 0.030280039 -0.13172954 -0.40076178 -0.09439515 0.053557057 0.05045046 0.14259031 -0.13139689 -0.021426758 -0.11029811 0.06962656 -0.33359605 0.7516765 0.19356585 -0.105815224 -0.012501322 -0.8522516 -0.12646492 0.0041339225 -0.036652885 0.070870124 0.013355393 0.06130843 -0.17793994 -0.096529104 -0.15676606 -0.0049742674 -0.0882029 -0.21538375 0.06500028 0.041247554 -0.21874863 0.063853584 -0.03414262 0.20719929 -0.07700539 0.024052484 -0.21059425 -0.17548876 -0.035261102 -0.036227036 -0.6604612 -0.20608488 -0.20479855 -0.20766255 -0.13718176 -0.14184377 0.09115468 -0.07089222 0.02955359 -0.47296223 -0.23024806 -0.09646378 0.020420387 -0.18859975 0.036003876 0.13378817 -0.027345914 0.065006904 -0.060848378 -0.10667374 -0.20748125 -0.033476375 -0.024615893 -0.11065273 -0.083637565 -0.0729383 -0.10887822 -0.16647178 0.18726556 -0.05854546 -0.14665322 -0.12660113 -0.2887321 -0.00077980786 0.061015807 -0.17010565 -0.23265263 0.013446551 -0.14643125 -0.073976725 -0.0886214 -0.123214215 0.060016308 0.107058935 0.12121854 -0.08079417 -0.03160022 -0.16208021 -0.0759812 -0.19608797 -0.16820508 -0.25232276 -0.102887705 -0.038209073 -0.11157433 -0.049265936 -0.12795755 0.03716804 -0.1183071 -0.0038464721 -0.097789474 -0.08056609 0.009710524 0.18613666 -0.1363873 0.3162114 -0.12837522 -0.077227324 -0.09942085 -0.12537073 0.03258605 -0.14119285 -0.06373013 0.0038951056 0.12329326 0.09167136 -0.02725928 0.018871974 0.023844311 -0.13608673 0.3354572 0.0054046973 -0.20794134 -0.4858799 -0.19896314 -0.08591846 -0.039897475 -0.17015438 0.291479 0.1321622 0.14155988 -0.0663493 -0.034461 -0.07117227 -0.035585254 -0.04206964 0.051877584 -0.06694511 -0.23299497 -0.9682474 -0.20793456 -0.13592084 0.24158406 -0.22749804 0.36255226 -0.12598763 0.07115551 -0.028235 -0.15024373 -0.17670578 -0.18299998 -0.1063174 -0.0068234773 -0.0061307997 -0.15806273 0.14666356 0.032170374 0.015759073 0.067668356 -0.21449175 -0.17905113 -0.16258979 -0.35042056 -0.027232407 -0.11332901 -0.016705042 0.025068166 0.049593054 -0.24885334 -0.13012686 -0.058521938 -0.039139844 -0.045283806 0.0044722524 -0.019896002 0.02131794 -0.072374895 -0.17587565 -0.040648412 0.06574346 -0.11359881 -1.0975691 -0.14333656 -0.05798372 0.030530497 -0.033782996 -0.049105503 -6.0656943 -0.19481649 -0.21395482 0.0105347745 -0.062257707 0.1443085 -0.5543566 -0.14799507 -0.19915684 -0.07139702 0.06573716 0.09791631 -0.29518944 -0.051027607 -0.10324092 -0.11735224 -0.23422435 -0.21666145 -0.0053873435 -0.24045092 0.14989194 -0.24739058 -0.17518923 -0.19199783 -0.14356908 0.013328501 -0.03660713 0.074245796 -0.18087895 -0.1832556 -0.06820067 0.066985086 0.0008021269 -0.37753835 0.056443166 0.00243785 -0.18003137 0.26602575 0.022600554 -0.11954965 -0.21526647 -0.028126024 -0.5687849 0.049777664 -0.020141637 -0.109825 -0.14517723 -0.0949561 -0.1940049 -0.12617277 -0.12897205 -0.9006133 0.047589835 -0.057921126 0.014121346 0.03566099 0.13494274 -0.08169891 0.058135845 -0.7279779 -8.780754 -0.01716766 -0.23742244 0.16873874 -0.56186396 0.058163133 -0.15044272 -0.21734005 0.036855944 -0.13466002 -0.22793682 -0.08562672 0.19651046 -0.05654428 -0.0054253326 -0.62897044 0.16182941 -0.10985874 0.06294213 -0.5923853 -0.25547054 0.051811192 -0.27368906 -0.032856658 0.01952978 -0.023929462 0.034275483 -0.07418511 0.0638363 0.04983227 -0.10885126 0.006039159 -0.0663239 -0.17727813 1.3247856 -0.022710266 -0.32223737 -0.054102283 -0.2138447 -0.15693413 -0.032238215 -0.22097242 -0.036957696 -0.015719756 -0.07486676 0.052704453 -0.4072812 -0.059439935 0.015980333 -0.18653844 -0.0071689524 -0.0336416 -0.18832776 -0.07590967 -0.15867831 -0.20147942 38.88847 -0.0014772629 0.026271373 -0.07537749 -0.2428146 0.13284723 -0.11790749 -0.10280651 0.03520865 0.21871473 -0.14417686 -0.038364723 2.5171149 -0.026093109 -0.08746506 -0.072991505 -0.10044509 1.6985294 -0.06018046 0.107962355 -0.13664384 -0.042972934 0.013452171 -0.2657163 -0.059183706 0.13609727 -0.43606246 -0.07651049 0.06055711 -0.07204808 0.30804682 0.031737234 -0.04406252 -0.15326132 -0.037877493 -0.39210048 -0.03377433 -0.23363766 -0.100287266 0.06017726 0.040925723 -0.15254736 -0.20626286 -0.006460184 -0.0086087445 -0.18207608 -0.006501976 -0.2574328 -0.16409549 -1.7609873 -0.8530352 0.6864837 -0.0989413 0.008097801 0.047992803 -0.0626978 -0.061246943 -0.115563035 0.04561639 -0.18107209 0.08128006 -0.077046975 -0.18807906 -0.1490154 -0.13580732 0.041172646 50.449688 -0.35032544 -0.009475377 -0.0014972342 0.074364424 -0.043690022 -0.15599921 -1.1443453 -0.048498295 -0.056359902 0.11160249 0.006127722 0.032121073 -0.06977824 0.042258445 -0.44264328 -0.10201161 -0.15082748 -0.23085588 -0.46447894 0.013553977 -0.18018469 -0.16466133 -0.10110837 -0.077959046 -0.16412906 -0.09899122 -0.025603235 -0.047715645 -0.42885178 -0.11027577 -0.5358427 -0.2094041 -0.028358739 -0.057713397 -0.040612172 -0.19971839 0.019355215 -0.25663918 -0.042940717 -0.02953137 -0.27965602 -0.13924097 -0.07797738 0.4586623 -0.17450961 -0.0737483 -0.25891367 -0.18718262 -0.05710829 -0.093735665 -0.015572373 -0.10968265 -0.3643805 1.44672185e-05 -0.10165174 -0.10277264 -0.07738986 -0.5965508 -0.008078986 0.013357447 0.1192661 -0.22945547 -0.32253152 -0.269345 -0.016230846 -0.14647612 -0.07272112 -0.08529325 -0.09938996 -0.18471958 -0.22019865 0.0027939284 -0.27603233 -0.029527443 -0.010193576 -0.066177376 -0.23492679 -0.20110252 0.064471714 -0.02853418 -0.07033037 -0.0699586 0.08188305 -0.039407484 0.004476584 0.13520192 -0.1863396 -0.12664118 -0.04677726 -0.0066013057 -0.21369514 0.019435195 0.04210585 0.049524985 -0.05757336 0.03859998 -0.18469581 0.004016942 -0.060027793 -0.13795628 -0.0067021144 -0.11224387 -0.060306206 0.027535733 -0.13562408 -0.20705995 -0.11137962 -0.03375991 -0.07515377 -0.09961813 -0.039864607 -0.2611983 0.024373343 -0.19773817 0.12356577 -0.098337695 -0.076755956 -0.1597097 -0.123564854 -0.045100473 -0.13040492 -0.08046984 -0.24631661 0.0005352869 -0.15421815 -0.07902896 -0.18871915 -0.011399516 0.033199627 -0.12741268 -2.2292087 -0.028540196 -0.22687143 0.08217382 -0.23280156 0.023846308 -0.11475282 0.05666948 -0.53770846 -0.4500512 0.016038919 -0.17892103 0.08368555 -0.33949742 -0.040798455 -0.24843243 -0.28442895 0.014967844 0.015856266 -0.21685953 -0.2865672 -0.011741074 0.20393553 -0.037128754 0.08005759 -0.007011088 -0.252038 -0.0642752 -0.23744686 -0.014305284 0.10715548 -0.18257874 0.3356916 -0.027439013 0.051088378 -0.049422722 -0.09920774 -0.05035823 -0.07936054 -0.13665311 -0.2966154 0.29126924 -0.03235197 -0.1453888 -0.12884648 -0.1291201 0.008178569 -0.74486965 -0.0050836303 -0.19567518 -0.15853089 -0.10501914 1.3398949 -0.17898616 0.008413625 -0.30904794 0.08472082 -0.085511886 -0.15417257 -0.0005610499 -0.12993275 0.18399414 0.018834561 -0.08153471 0.017048521 -0.11420039 0.00076657685 -0.23056754 -0.0043676365 0.06131384 -0.085033305 0.10667164 0.034412462 0.038037322 0.015189437 -0.10121992 -2.2463288 -0.113068566 -0.27039716 -0.16875105 -0.2269794 -0.29638442 -0.096295536 -0.12477753 0.024666695 -0.36694595 -0.1303749 -0.20950869 -0.16523214 -0.15869452 -0.15611511 -0.038603257 -0.066206135 -0.10457858 -0.04683299 0.0025426298 -0.20320089 0.34608543 -0.014460712 0.20961632 -0.13085407 -0.15506978 0.15633057 0.013052422 -0.027207296 -0.2337936 -0.025859606 -0.1919281 0.06419054 0.019891812 -0.10214345 -0.2019605 -0.29151037 -0.1490468 -0.19209659 -0.29774445 -0.10688885 -0.27205342 -0.79154295 -0.2782708 0.019949151 -0.12655835 -0.10060177 0.08780497 -0.22803453 0.038156748 -0.12639618 -0.07183808 0.17300683 -0.15232085 -0.1543082 -0.10263931 0.038446594 -0.23918968 0.035337437 2.0395765 -0.1489 -0.09058262 -0.15394107 -0.009207061 -0.04516728\n",
            "\n",
            "painting -0.059810482 -0.02346817 -0.36779454 -0.102176785 0.06534108 -0.19338915 -0.5522176 0.17485283 -0.27830133 0.014874171 0.38246807 -0.08166231 0.018634548 0.018132947 -0.23263995 -0.07132196 0.06788435 -0.18877776 0.16465664 -0.16658626 0.17319208 -0.30220503 -0.2609867 -0.1516203 -0.079622746 0.106440045 -0.37208027 -0.14605469 -0.08099825 -0.2301517 0.014401411 -0.034260187 -0.015557327 -0.3118672 -0.012925361 0.26821953 19.31076 -0.060027886 -0.104041316 -0.030896982 -0.063766 0.030869795 0.019805923 -0.22293358 -0.06364674 0.07533498 -0.096399106 0.06930206 -0.36467087 -0.06838693 -0.032118946 0.1377903 -0.1641976 -0.09491905 0.030591616 -0.21124656 -0.02070562 -0.27588952 -0.09984384 -0.046527695 -0.00420444 -0.11010259 0.03311329 0.111040056 -1.0391757 -0.09003092 -0.097906016 -0.25996247 -0.14656377 -0.11675971 -0.17583545 -0.19581482 -0.16492462 -0.12685688 -0.036121618 -0.24631925 -0.25732702 -0.6261394 0.08345142 -0.079717346 -0.36221993 -0.15200686 0.11120166 -0.110930175 -0.19982563 0.100616075 -0.18354842 -0.98944354 -0.11783961 -0.18473938 -0.08221422 -0.30008355 -0.40072015 -0.15014546 -0.38039452 -0.02802229 -0.13553043 -0.050311457 0.023170413 0.041192085 -0.07021275 -0.0666039 0.11952007 -0.19125639 -0.02866113 -0.18002315 -0.28312984 1.9284942 -0.10148341 0.038826127 -0.0072656693 0.14878373 -0.031073038 0.11862113 0.02501395 0.01530671 -0.025278071 0.14235643 0.036128093 -0.01595155 -0.056978267 0.08417201 -0.062685475 0.011198051 -0.16458489 -0.023303978 -0.07526636 -0.19152391 -0.3748844 -0.050983716 0.030328665 -0.05461914 0.088983394 -0.13598628 0.0873294 0.023556901 0.013284211 -0.25764725 0.7117638 0.082624204 -0.103848435 0.090324305 -0.8545772 -0.093351796 -0.15001747 -0.06006734 0.033489157 0.08813007 -0.13546644 -0.09369315 0.04456205 0.11190102 -0.06411907 -0.09820492 -0.08587136 0.1197781 0.04303438 -0.25184786 -0.011942106 -0.10821427 0.33992738 -0.008103481 -0.012967331 -0.19306926 -0.3351153 -0.19702074 0.0127561195 -1.2191515 -0.1653675 -0.12221362 -0.11978035 -0.017955277 -0.08292513 0.030610915 -0.09322414 -0.10653312 -0.102312244 -0.32122618 0.017860213 -0.15027446 -0.19406389 -0.0018622607 0.0494496 -0.2150209 0.036434006 -0.12767804 -0.026133226 0.026763303 -0.017068451 0.03617974 -0.09355904 -0.10154773 -0.24049951 -0.1557279 -0.078591496 0.113530464 -0.023294128 -0.18002228 -0.06529452 -0.44740638 -0.039568562 0.07163561 -0.13910766 -0.113217086 -0.0140451295 -0.07545058 -0.19757852 -0.10049356 -0.20959964 0.10334246 0.1471596 0.19237807 -0.14574581 0.28509557 -0.037914578 -0.16265681 -0.29879716 -0.22715494 -0.15097024 -0.037615772 -0.06597146 -0.18659039 -0.10264068 -0.20825908 0.045953486 -0.2389996 0.025195675 -0.15735278 0.07420177 -0.076829955 0.08247689 -0.10006653 1.3581597 -0.18075363 -0.09761748 -0.23374492 -0.10744574 0.012036319 -0.051785436 -0.038005527 0.082004145 0.09080365 -0.023096958 -0.07298498 0.008465909 0.1822281 -0.25527388 0.13879454 0.034823176 -0.1573781 -0.39647126 -0.09136316 0.07666311 -0.06894569 -0.1511777 0.3119186 0.042715404 0.1371424 -0.16920604 0.10631259 0.04854151 -0.017268801 -0.028682692 -0.027699273 -0.09926352 -0.24664164 -0.968053 -0.16872078 -0.19593781 -0.13728593 -0.6400794 0.4493453 -0.20300564 0.15012182 -0.30111367 -0.17520483 0.13498697 -0.17599006 -0.13256459 -0.06814606 -0.06902147 -0.19126074 0.12416043 0.104357615 0.008182689 0.03070803 -0.21316317 -0.08630804 -0.03352615 -0.033681266 0.09840878 -0.18035719 -0.048181757 0.15853631 0.22103074 -0.15850142 -0.06496942 -0.1342595 -0.05765905 -0.035900384 -0.07309462 -0.08592286 0.12957072 0.04765788 -0.10973651 -0.09919018 0.030092908 -0.1280972 -0.91326827 -0.055928506 5.292438e-05 0.041297987 -0.091548204 0.059815772 1.8436025 -0.082564645 -0.07563095 0.044749293 -0.03760624 0.17150351 -0.6162645 -0.14050281 -0.1923176 0.013917958 -0.004308178 0.08999498 -0.31358618 0.05049955 0.01072028 -0.1538372 -0.27799976 -0.115064345 0.024681712 -0.15931231 0.1439518 -0.29139316 0.1986009 -0.12241938 -0.12271941 -0.14584078 0.016974019 -0.0032413364 -0.16743304 -0.22891943 -0.09258638 0.076063775 0.0416486 -0.31264424 0.049184054 0.12609492 -0.2536238 0.17166 -0.05824759 -0.20518981 -0.21405548 -0.0028406326 -0.36524987 0.009129705 -0.017343402 -0.120958954 -0.19270998 -0.09158913 -0.3254877 -0.05725408 -0.14974734 -0.27379408 0.038619213 -0.07761558 -0.029227166 0.02805488 0.08852044 -0.075153925 -0.039135847 -0.7170286 -6.5558047 -0.11389629 -0.36492798 0.07205944 -0.52076924 0.07457593 -0.024951829 -0.12394736 -0.08583739 0.025487332 -0.29798174 -0.19703497 0.04262348 -0.08430586 -0.068646826 -0.19892165 0.16120502 -0.13573298 0.036367424 -0.5929729 -0.17227964 0.049309388 -0.15994526 -0.07443357 -0.052342255 -0.0977242 0.009942254 -0.041768298 -0.07974848 -0.0433301 -0.058243364 -0.006295597 0.036192495 -0.25950778 0.22984827 0.010260305 -0.120959856 -0.07523102 -0.20752603 -0.24262017 -0.041261446 -0.33271712 -0.041634202 -0.07077505 -0.05422781 0.030590214 -0.29960617 -0.09962255 0.009457451 -0.15514332 -0.06443348 0.012900309 -0.16681828 -0.034640737 -0.09633584 -0.27708754 37.21655 0.12109354 -0.10536809 0.0048158932 -0.13951994 -0.0415229 -0.10842205 -0.13081142 -0.015280868 0.45276797 -0.15343507 -0.113746315 3.5302582 -0.039522693 0.0077821277 -0.04014125 -0.06738389 1.6973779 0.016046701 0.07988794 -0.13132438 -0.16944431 0.058009304 -0.18751946 -0.07445813 0.08260678 -0.22115092 0.012212026 0.04081449 -0.06378643 0.24404754 0.15806587 -0.08072965 -0.1761134 -0.09893379 -0.2656273 0.020004967 -0.22302072 -0.16022515 -0.015900444 0.11441851 -0.13823129 -0.08053488 -0.03907829 0.0024703557 -0.08254531 0.0054539596 -0.1885435 -0.18519397 -2.7856615 -0.8531749 0.67610174 -0.047251638 -0.13965505 0.051349398 -0.19640952 -0.05357798 -0.17495808 -0.17148642 -0.16104144 0.15161769 -0.17652689 -0.15211807 -0.157947 -0.16194905 -0.042557534 51.24988 -0.4484751 -0.025574202 -0.031062914 0.063042656 -0.13882701 -0.11740709 -1.2117374 -0.02920062 -0.06614676 -0.0013078884 0.09859645 -0.26264748 0.0320941 0.030199636 -0.2659424 -0.16006282 -0.12593658 -0.16594915 -0.30007282 -0.033965487 -0.15383416 -0.11188513 -0.13798113 -0.05151393 -0.15858687 -0.012289169 -0.06864415 -0.11694395 -0.32868153 0.3173339 -0.38051307 -0.2217709 -0.02825732 -0.15955587 -0.066210516 -0.049255487 0.010231522 -0.26904047 0.10535234 -0.05542564 -0.24692571 -0.13232102 -0.20588832 0.4498703 -0.2803193 -0.16408265 -0.3449809 -0.14379516 -0.10309837 -0.09891147 -0.2176068 0.06658864 -0.17720608 0.0042426814 -0.17748088 -0.121329434 -0.15063089 -0.9083478 -0.04094143 0.047170628 0.12980679 -0.14801283 -0.38324168 -0.31265938 -0.121678315 -0.13658252 -0.029254304 -0.11430099 -0.05243067 -0.039674897 -0.22434975 0.071020305 -0.21301539 -0.080479324 -0.030195052 -0.10489543 -0.22516322 -0.17206758 -0.1340822 -0.024899144 -0.08995922 -0.18518369 0.15470406 -0.044349514 0.050931793 0.175069 -0.021580819 -0.033886947 -0.011476467 -0.007484089 -0.33925277 0.109104626 -0.0027320525 0.17988846 -0.10158496 -0.017761301 -0.1773551 0.006790543 0.026693888 -0.06837376 0.102895126 -0.1270142 -0.02308295 -0.058147203 -0.05762673 -0.24463835 -0.038449842 -0.065681264 -0.06610678 -0.1180154 -0.15750358 -0.40830153 0.10751446 -0.26570895 0.073465504 0.025800288 0.053614 -0.16978604 -0.087315895 -0.032696903 -0.15531354 -0.19386165 -0.26496333 -0.0043743183 -0.2039606 -0.008525455 -0.01729766 0.043558072 -0.045685556 -0.08414728 -0.5776482 -0.042101145 -0.2438819 0.11195417 -0.16794229 0.05792466 -0.16460246 0.10560089 -0.6022455 -0.29734096 -0.020959109 -0.14806454 -0.029238919 -0.20987508 -0.1900162 -0.48279315 -0.015644906 0.037236962 0.020972341 -0.3300571 -0.27220187 0.04134955 0.116524324 -0.10844768 0.09149252 0.08536185 -0.29105613 -0.09139464 -0.30419013 -0.041927665 0.054057933 0.0057094707 0.23335885 0.0044479677 0.046663716 0.05950184 0.06189359 0.036988284 -0.14539635 -0.13827479 -0.330961 0.15421328 -0.061391708 -0.07403564 0.0147735 -0.18951999 0.07886815 -0.6506054 -0.055846658 -0.15156746 -0.117453 -0.058591533 0.08794744 -0.33951044 -0.042257495 -0.22381137 0.12560011 -0.15392998 -0.026141949 0.030739954 -0.025928458 -0.026865456 0.11648799 -0.037086163 0.07313973 -0.091689765 0.10704899 -0.2074655 -0.0657031 0.06565209 -0.021767695 0.123855464 0.017033536 -0.058275487 -0.021489443 -0.026170114 -5.4029737 -0.20177439 -0.3341683 -0.3990036 -0.4517008 -0.2806397 0.026897646 0.1106766 -0.04457522 -0.17979045 -0.1512087 -0.11569149 -0.23563789 -0.13329138 -0.30084234 -0.18911389 -0.094410606 -0.3000601 0.03829366 -0.05084385 -0.11159262 0.26493505 -0.07313892 0.106745675 -0.21151358 -0.070621714 0.010323936 0.14292477 -0.092959605 -0.28460664 -0.010105706 -0.1532524 0.05624092 0.10508518 0.060869142 -0.14244945 -0.3691153 -0.15650262 -0.24052942 -0.2465136 -0.16893244 -0.3032261 -0.42953694 -0.311678 0.0020223777 -0.10922535 -0.11585591 0.14588718 -0.16592586 0.062967554 -0.14589049 -0.14928198 -0.016053274 -0.2935706 -0.21484974 -0.08576363 0.06717924 -0.23725164 0.015275886 1.2706631 -0.26356536 0.045026608 -0.014381627 -0.026266718 -0.19118583\n",
            "\n",
            "singing -0.2627276 -0.0010059415 -0.45034158 -0.06530402 0.050966434 -0.21690199 0.21047644 -0.015312417 -0.052185602 0.052091014 0.36539432 -0.07281564 -0.018346604 -0.045766406 -0.18950678 -0.053153973 -0.20168783 -0.08335051 0.1341371 -0.28761172 0.21998467 -0.053447824 -0.2667405 -0.043287914 -0.02678969 0.15460576 -0.3089853 -0.26168287 -0.06990425 -0.17348576 -0.067217186 -0.10087444 -0.061631538 -0.1100163 -0.0726488 -0.0591437 23.4199 0.040288758 -0.058737136 -0.03360723 -0.07366265 0.03705721 -0.022582833 -0.26115164 -0.04808144 0.002762152 -0.07771956 0.07701219 -0.21007077 -0.05940759 -0.013167973 0.12338509 -0.16480607 -0.07085513 0.08169287 0.21265094 0.023313144 -0.35570592 -0.15862736 0.013038373 -0.10842543 0.032023415 -0.08630732 -0.12605228 -1.0423406 -0.11655572 -0.027600951 -0.121741354 0.03789902 -0.13309705 -0.09897678 -0.2909425 -0.14922814 -0.16181864 -0.0729899 -0.30221903 -0.30268443 -0.7880531 0.1927128 -0.018324198 -0.3422581 -0.036411237 0.051316585 -0.3296892 -0.07135273 0.23264243 -0.40747404 -0.9911747 -0.1506592 -0.13399321 -0.101059034 -0.2564938 -0.25875133 -0.041978512 -0.1928007 -0.14728434 -0.12764376 0.045527223 0.0695834 0.06542535 -0.07839617 0.13340083 -0.08488343 -0.017028365 0.0076652523 -0.11234961 -0.21640249 1.5943722 0.023309246 -0.15568452 -0.062613055 0.12059392 -0.14366671 -0.028112946 -0.046775527 -0.048582748 -0.053895995 0.08799993 -0.12211505 -0.10934756 -0.111019805 0.13061155 -0.021339148 -0.00551219 -0.1286585 -0.14184335 -0.0025027774 -0.018109284 -0.22701816 -0.12434293 0.014349 0.05744876 0.07168043 -0.09543832 -0.010638243 -0.059599884 -0.047305048 -0.27306625 0.7466768 0.07232933 -0.10189475 0.019285262 -0.36054698 -0.08712262 -0.015976274 -0.077311136 -0.047828764 0.0637017 -0.018301327 -0.23625691 -0.08758638 -0.13960308 -0.045917027 0.027584996 -0.04186887 0.16054969 0.026378758 -0.14697154 0.009971716 -0.13356116 -0.21884859 -0.13216501 0.060736656 -0.1708138 -0.14585018 -0.030095488 0.012744492 -0.2633746 -0.21064931 -0.17770185 -0.17135647 -0.07865246 -0.13555735 0.04381143 -0.041663717 -0.12732477 -0.3453676 -0.27246463 0.0041525224 -0.08629943 -0.11915533 -0.00420069 0.03192321 -0.048383925 0.03976688 -0.11245751 -0.14309911 0.056902427 -0.04717739 0.06702697 -0.16335444 0.087092616 -0.090624005 -0.046757467 -0.09934369 -0.13637628 -0.062262546 -0.2581955 -0.20930177 -0.30238125 -0.09617274 0.25367165 -0.16904241 -0.18340504 -0.066461004 -0.052091233 -0.008030635 -0.10903039 -0.19904813 0.00990907 -0.016295109 0.0020621603 -0.05280423 -0.09393045 -0.03979753 -0.110503584 0.07276064 -0.19827014 -0.085513964 -0.12813522 -0.080616444 -0.118756235 -0.04329041 -0.102910005 -0.02482166 -0.15044737 0.051708028 -0.0511184 0.053659286 0.016950395 0.15592699 -0.023371581 1.227757 -0.1501299 -0.12935442 -0.07267214 -0.037197907 -0.002690546 -0.045376427 0.007986583 -0.14292523 0.029423453 0.043183904 -0.10936054 -0.013220848 0.028606232 -0.17024678 0.06611726 -0.026576187 -0.24487932 -0.39222604 -0.13443263 0.09070807 0.015673473 -0.01994738 0.22670038 0.051369973 0.044476382 -0.14240225 -0.0893513 0.11942005 -0.035860464 -0.014624813 0.01879167 -0.049591 -0.18577875 -0.9706207 -0.17600363 -0.18631406 0.30279374 -0.43941927 -0.055239517 0.04698577 0.031852163 -0.20929182 -0.07671752 0.1543798 -0.1960544 -0.13684584 -0.13024335 -0.15742521 -0.111771524 0.16470262 -0.09392229 0.068048514 -0.07938011 -0.21972641 -0.22762263 -0.15275975 -0.32023287 0.071726255 -0.14312986 -0.0671276 0.068643115 0.019208984 -0.18470198 -0.13469659 -0.09843517 -0.01702361 -0.117920786 0.028237356 0.06392632 0.04973815 -0.1341848 -0.18190624 -0.042424347 0.080142654 -0.16571976 -0.8166402 -0.04152878 0.011214118 -0.033438984 -0.034343954 -0.08545574 -0.089790545 -0.2405294 -0.055575293 -0.051188327 -0.077998355 0.12405983 -0.54342407 -0.1659508 -0.15514837 -0.11079695 0.14921351 -0.009480905 -0.3502218 -0.10533469 -0.008535833 -0.08995244 -0.17337114 -0.033086378 0.15804167 -0.19120061 0.10697653 -0.19726814 -0.116359524 -0.24063925 -0.08568267 -0.104928255 0.0074606827 0.021671386 -0.17238872 0.048240922 -0.2853872 0.050092157 -0.046124008 -0.37578872 -0.016873997 0.085435 -0.14431994 0.29539263 -0.02884685 -0.18666925 -0.14645416 -0.059286803 -0.47194555 0.10379715 -0.016778259 -0.08459878 -0.201351 -0.19080628 -0.17850856 -0.14483187 -0.070006795 -0.45249996 0.02121068 -0.0360093 0.02357338 -0.02644512 0.15350287 -0.12105251 -0.011661332 -0.73144734 -7.045442 -0.21535069 -0.18994816 0.22727394 -0.47022697 0.14550024 0.0051304875 -0.2415965 -0.009704176 -0.07559713 -0.23063229 -0.2283145 0.11621559 -0.041091345 -0.029852126 -0.19643177 0.13915332 -0.04446302 -0.03692216 -0.51510924 -0.21372879 0.0145733645 -0.29739308 -0.20713094 0.011469898 -0.054873623 0.040625323 -0.19841902 0.0054003103 -0.0505931 -0.12797928 0.054775935 0.020914027 -0.19764829 0.20282607 -0.09308295 -0.122005396 -0.065266274 -0.21673787 -0.12563616 -0.09720994 -0.1673388 -0.05329097 -0.20284447 -0.13659887 0.027838401 -0.3100024 -0.20129974 -0.05763429 -0.04892974 -0.06957121 -0.050220095 -0.15059681 -0.105124064 -0.26518676 -0.17511402 37.51953 -0.003698906 -0.097676665 -0.047549147 -0.13284783 -0.016474463 -0.18007408 -0.18215533 -0.029867684 0.50460064 -0.07082216 -0.07138369 1.6938437 -0.013779098 -0.088470206 -0.008362005 -0.068635605 1.700294 -0.036289144 0.06299067 -0.22766028 0.028846659 0.034634307 -0.19594704 -0.09871571 -0.14559123 -0.26024854 -0.06923679 -0.016288325 -0.08615707 0.19500554 0.0038253248 -0.015256711 -0.17582217 -0.18482682 -0.24037407 -0.03735224 -0.14291912 -0.012585632 0.104710445 0.0073723127 -0.016066983 -0.10917361 0.13648215 0.004059637 -0.18984695 0.023960667 -0.13584407 -0.1960998 -1.5457196 -0.8552712 0.6877025 -0.10781555 -0.04197325 -0.1442748 -0.13028085 -0.024179697 -0.13976207 -0.039781477 -0.13913709 0.041733086 -0.19292374 -0.23636849 -0.069253355 -0.22910728 -0.011802155 54.059025 -0.5177987 0.016745573 -0.059269805 -0.08842219 -0.114622325 -0.09545971 -1.158721 -0.17898734 0.0144016035 0.110293336 0.15127772 -0.100031935 -0.033414748 -0.023685152 -0.18330894 -0.023269186 -0.12522048 -0.19835356 -0.19928311 -0.05813915 0.0024753937 -0.13328871 -0.13372466 -0.07400481 -0.15790503 -0.046270814 -0.06211204 -0.059974477 -0.3785755 0.115355104 -0.3435394 -0.2557515 -0.020825574 -0.09922216 -0.13685802 -0.11740626 -0.008928304 -0.27529636 -0.025990292 0.015656805 -0.20177364 0.011088782 -0.06815946 0.32429045 -0.2447342 -0.12820071 -0.15959628 -0.14873907 -0.07338461 -0.055081695 -0.1379093 -0.15780419 -0.25364855 0.003733978 -0.17724048 -0.15248415 -0.1691947 -0.6837426 0.037407767 -0.06979847 0.046058085 -0.21738464 -0.206371 -0.16890243 -0.104915224 -0.10973001 -0.006092024 -0.121459275 -0.13222446 -0.101733744 -0.33864027 -0.0674611 -0.149328 -0.06230259 0.056294497 0.020040242 -0.18754265 -0.22602949 -0.10403987 0.01671443 -0.027739491 -0.18131466 0.06286498 -0.044072915 -0.025260892 0.122046895 -0.1250556 -0.13275146 -0.047930866 -0.05884231 -0.06354475 -0.08214088 0.016001252 0.008324757 -0.060886458 -0.11167416 -0.20447285 -0.0622707 0.034533247 -0.102614 -0.04891632 -0.13346492 -0.009551471 0.07653555 -0.07632823 -0.3620296 0.081762336 0.064340964 -0.1338625 -0.029266415 -0.025689831 -0.30392152 0.025595145 -0.20089854 0.052963544 -0.08225849 -0.15351579 -0.14540316 -0.22306737 0.01033905 -0.12176467 -0.14551575 -0.15897088 0.01040412 -0.06750634 -0.08142299 -0.11182317 -0.09146658 0.0010011143 -0.15014634 -0.6640427 -0.046599887 -0.25131965 0.09761197 -0.2233745 -0.035988517 -0.11042124 -0.08246245 -0.62651825 -0.306482 0.06348828 -0.17245653 0.04314199 -0.17266843 -0.12099395 -0.28376436 -0.10693987 -0.056665163 0.010000222 -0.22480826 -0.038952097 0.03353711 0.19428922 -0.0533229 0.06516523 0.10518722 -0.21469812 -0.049954254 -0.34014985 -0.01690048 0.025689617 -0.107167006 0.36376712 -0.037706543 -0.01390643 -0.15035798 -0.15841088 0.0013892786 -0.0046454095 -0.12923238 -0.23491092 0.04671479 -0.07368 -0.21583325 -0.14315768 -0.07873615 0.07173265 -0.49011594 0.09643893 -0.13495249 -0.13856602 -0.04720579 0.52593833 -0.22540687 -0.0761751 -0.26309353 0.097727925 -0.078001454 -0.10411207 -0.124189556 -0.18486941 0.13169949 -0.018812638 -0.06325277 0.03365865 0.041660402 -0.08193105 -0.20215729 0.0140633155 0.039689917 -0.05936611 0.08009608 0.2208063 0.061454352 0.22199334 0.12814113 -3.2416582 -0.12533274 -0.18595603 -0.28509364 -0.32802042 -0.21442044 -0.07035236 -0.008722023 -8.5514956e-05 -0.358921 -0.18387957 -0.22885197 -0.19432458 -0.17728221 -0.18767059 -0.16747086 -0.13559641 -0.20321076 -0.16165219 0.058002602 -0.12741955 0.039183114 -0.094790064 0.26796585 -0.07743694 0.003630485 0.012889069 -0.009933833 -0.06468436 -0.22760431 -0.07193577 -0.173984 0.08368638 0.023678921 -0.077191964 -0.19027406 -0.27542952 -0.15228891 -0.27588305 -0.08299484 -0.19776323 -0.26049256 -0.3814778 -0.11496234 0.021583127 -0.19360784 -0.08552143 0.12635708 -0.20752428 0.051040467 -0.08631779 -0.034565516 0.17375891 -0.21179801 -0.14326873 -0.121030316 0.15868211 -0.25388902 0.044667583 0.9318044 -0.12754585 -0.029185086 -0.13562171 -0.021734351 -0.07817858\n",
            "\n",
            "cooking -0.15301967 0.1415172 -0.45850456 -0.075031474 -0.024847042 -0.26017037 -0.37975243 0.12992898 -0.06827246 0.0039880215 0.36175475 -0.10159914 -0.10165681 0.09406844 -0.20417543 -0.048564658 -0.016540427 -0.12136669 0.03504252 -0.53956306 0.18286961 -0.10480985 -0.27118123 -0.010973148 -0.15541613 0.18701941 -0.2810921 -0.18965657 -0.12919281 -0.2942027 -0.113754176 0.041309047 -0.030664708 -0.17520513 -0.069469795 0.32286575 20.820717 -0.028484093 -0.054594163 0.017434072 -0.021647984 0.029776536 -0.07912725 -0.271191 -0.03868318 -0.013494289 0.008342613 0.05704583 -0.1934325 0.11881327 0.002418781 0.117905736 -0.11644826 -0.15141962 0.018789498 0.00043695272 0.013634406 -0.2594692 -0.17334647 0.06723291 -0.022434749 -0.010603671 -0.07719762 0.0325291 -1.0401174 0.064695284 -0.059371706 -0.15301654 -0.15739836 -0.11139148 -0.18902533 -0.25986674 -0.08827887 -0.1614769 -0.09782368 -0.331648 -0.21809497 -1.1233194 0.25237623 -0.097110435 -0.39883402 -0.06589461 0.027176384 -0.31822082 -0.047658496 0.012872756 -0.2131942 -0.98999625 -0.098829016 -0.10220175 -0.052432206 -0.25544262 -0.33391917 -0.031935364 -0.16480021 -0.10478572 -0.07453038 0.0042162677 0.0743576 0.17175855 -0.12093739 0.07299387 -0.17427492 -0.13364623 0.031050289 -0.1294055 -0.19796625 1.4123508 -0.061495908 -0.101821154 -0.013838466 0.032632753 -0.15046693 0.020083815 -0.017881501 -0.020813698 0.066006765 0.043276988 -0.04649348 -0.11728233 0.001777268 0.042899445 -0.07690867 -0.03581218 -0.059495963 -0.13415597 0.023301803 -0.114369504 -0.14201626 -0.056643255 -0.0056448295 0.014097568 0.031049253 -0.1656945 0.072665475 0.05340335 0.05998036 -0.52966887 0.7256525 0.03789238 -0.06530794 -0.0016008791 -0.6069907 -0.07302841 -0.0433555 -0.04313651 -0.035424463 0.051461075 -0.07915219 0.015082915 -0.19540307 -0.19018166 -0.06381854 -0.1066297 -0.019303823 0.055651814 0.0073485924 -0.10696526 0.0793224 -0.11639299 0.050968096 -0.18341926 0.0917611 0.03394032 -0.16680364 0.01022163 -0.09027382 0.52003765 -0.22993995 -0.18034671 -0.17469893 -0.09671992 -0.14095134 0.002899507 0.064408004 -0.16586186 -0.20961827 -0.2455892 0.16617617 -0.039105672 -0.12481029 0.017752862 0.0010757323 -0.09283816 -0.0037738096 -0.111565866 -0.046132375 -0.07045161 0.024515191 0.018593341 -0.10129553 -0.085681856 -0.124215476 -0.20666973 -0.07998785 -0.23787414 -0.059683308 -0.10405792 -0.14818177 -0.4443516 0.028610375 0.10802328 -0.10434462 -0.1892033 -0.0056481785 -0.12509747 -0.21143098 -0.12158526 -0.035841573 0.05217946 0.07923891 0.1945513 -0.12954542 -0.054577876 0.020003904 -0.15674897 -0.17468888 -0.0768445 -0.059936777 -0.13262363 0.050387576 -0.07845101 -0.15869072 -0.2113721 -0.058676545 -0.2312698 0.011663016 -0.09199493 0.08723408 -0.14303792 0.17891218 -0.07908422 1.4032086 -0.12304333 -0.10626988 -0.13004403 -0.10164601 -0.07319635 -0.11044446 0.013191902 -0.12039361 0.2411931 -0.034623813 -0.0755819 0.0289086 0.054753494 -0.22619353 -0.027370984 -0.016372446 -0.19752873 -0.4923936 -0.28441322 -0.056830835 -0.07847961 -0.047160514 0.50934666 0.033868786 0.0509904 -0.05782584 -0.047291957 0.061193876 -0.1353093 0.034184698 -0.016808081 -0.04678577 -0.17830089 -0.9690229 -0.25117135 -0.19492617 0.14153574 -0.44460315 0.30963993 -0.029846998 0.12739632 -0.27784228 -0.19047767 0.04961131 -0.11943298 -0.076250546 -0.013397807 -0.045712158 -0.11598964 0.14202079 -0.14537747 0.123807125 0.0210518 -0.07128077 -0.1425183 -0.24052715 -0.18302752 -0.032357857 -0.06570385 0.03373396 0.082634695 0.03528475 -0.17369643 -0.13902578 -0.16538195 0.076888286 0.035767734 -0.033371218 -0.01221448 0.14359957 -0.017570574 -0.09604167 -0.040038884 0.048721112 -0.14715762 -1.1026684 -0.048697263 0.0250876 -0.15931636 -0.004436286 0.004843877 1.7113003 -0.1354029 -0.27324006 -0.00079669454 -0.14011092 0.08174073 -0.6578316 -0.017061222 -0.23905191 -0.0777162 -0.024797477 -0.02711615 -0.25699776 -0.017126862 0.0096147945 -0.20243207 -0.21637589 -0.040891144 0.12628908 -0.24594125 0.130959 -0.30879173 -0.11398845 -0.23545043 -0.10291279 -0.09328105 -0.04587897 -0.064940706 -0.19077641 -0.09961608 -0.27345216 0.046396844 0.0060016415 -0.3738726 0.0154404845 0.16499193 -0.14963374 0.15240663 -0.028705541 -0.11992323 -0.069649935 -0.13362308 -0.69432396 0.030124318 -0.009053529 -0.1067864 -0.044898067 -0.08567631 -0.41325223 -0.10660861 -0.15140907 -0.1544352 -0.028985009 0.071856216 0.035461985 -0.042500928 0.076686375 -0.14914732 0.0030570864 -0.72901034 -5.878893 -0.28706503 -0.14297396 0.31877092 -0.76559764 0.06101308 -0.10263418 -0.1714217 -0.017487297 -0.16901842 -0.36146533 -0.3355374 0.018699495 -0.096103325 -0.0145265255 -0.4026635 0.25938797 -0.15032913 0.17586406 -0.55681676 -0.14964381 0.033142895 -0.3034731 0.012438134 0.058284737 -0.028594514 -0.1192129 -0.024103845 -0.04861149 -0.011481641 -0.13018246 0.058907546 -0.11551543 -0.2003588 -0.011349884 -0.01623736 -0.16679244 -0.030079152 -0.18624981 -0.17299677 -0.054327745 -0.09768808 0.012818932 -0.22480282 -0.12852621 -0.0044378694 -0.29424253 -0.18319918 -0.017058872 -0.09702006 -0.053964052 -0.018836247 -0.11950941 -0.026174886 -0.23346154 -0.19821511 36.4277 0.009331141 -0.09603982 -0.0034480742 -0.053078286 -0.040893737 -0.084179446 0.022825988 0.02135861 0.42855555 -0.08810555 -0.014186481 5.175603 -0.014093201 -0.05407465 -0.06578372 -0.12210065 1.7001085 -0.07193345 0.1924944 -0.17881553 -0.07136627 -0.018408213 -0.36250743 -0.0141668795 -0.063891836 -0.19054483 0.02359561 0.06668807 0.13201281 0.26152158 0.075407036 0.07445964 -0.102173306 -0.17138352 -0.1444885 0.03559524 -0.041725628 -0.08614386 0.04370474 0.0074841646 0.015931481 -0.053890098 -0.040250283 0.00047592018 -0.16198543 0.06584325 -0.13148007 -0.19908433 -3.030919 -0.85383236 0.6867865 -0.2065965 0.024545146 -0.07488265 -0.12965812 -0.099157065 -0.1212237 -0.0074450267 -0.18342225 0.03963482 0.014016676 -0.18770172 -0.08829415 -0.32857487 0.076882236 48.21088 -0.51987493 0.005889409 -0.07332642 0.012550617 -0.05090441 0.061492346 -0.94354 -0.25667423 -0.08727026 0.12702832 -0.008795694 0.0806842 0.012690145 -0.05183513 -0.36895314 -0.10543321 -0.083623156 -0.023152845 -0.2660157 -0.013103044 -0.06399932 -0.12974343 -0.19787814 -0.03625947 -0.09324258 -0.084125265 -0.0712318 -0.1093336 -0.4096525 0.197075 0.014506005 -0.36025143 -0.03627505 -0.060229838 -0.07853345 -0.12168547 -0.094954416 -0.1828618 0.06232767 0.10472558 -0.116758205 -0.15460739 -0.12150815 0.22968829 -0.0660938 -0.16191807 -0.2836206 -0.20582688 -0.07818981 -0.026856264 -0.07115733 -0.083000734 -0.43083262 0.07744529 -0.1305245 -0.045880202 -0.18114299 -0.5658287 -0.04131613 0.03959296 0.062089562 -0.18274166 -0.28744477 -0.1719707 -0.112300485 -0.07453169 0.0025782576 -0.0517721 -0.025481744 -0.11510461 -0.21112216 -0.017480865 -0.2600537 -0.10586718 -0.103715286 -0.048814934 -0.1812067 -0.13789433 -0.020524925 -0.09088926 -0.09339023 -0.46409422 0.10320143 0.019938732 0.026350208 0.075282805 0.028111786 -0.10107757 -0.020193981 -0.03605143 -0.14196083 0.08707275 -0.0029144904 0.094639 0.03654312 -0.15630095 -0.07164662 -0.018172322 -0.017725984 -0.087545544 0.13326497 -0.20476112 -0.103713416 0.003617365 -0.120579734 -0.30705273 0.10602564 0.043810904 -0.056700647 -0.14588873 -0.046326723 -0.5795306 0.0006300544 -0.32137734 -0.051385224 -0.09179071 -0.08892087 -0.27210888 -0.17213346 -0.05003409 -0.19241284 -0.19032626 -0.21931903 -0.10311753 -0.16010472 0.10048145 -0.06250691 0.10943395 0.00033811934 -0.13873516 -0.6961696 0.003993711 -0.22492403 0.0417675 -0.2688297 -0.055369113 -0.034531493 -0.024862804 -0.6388068 -0.3290308 0.007615558 -0.2111418 -0.0487458 -0.1587048 -0.031083511 -0.21606004 -0.16935945 -0.20185941 0.10068006 -0.23617156 0.048694868 -0.00694867 -0.23674066 -0.11439954 0.1155455 0.073090926 -0.17579846 -0.059369974 -0.3611801 0.023015954 0.032319315 -0.048028916 0.22760022 -0.029295003 0.04349643 -0.1057787 -0.0014667993 -0.057741743 -0.17321876 -0.16769049 -0.32430923 0.012242813 -0.09701279 -0.15649348 -0.079816625 -0.1562035 -0.017743476 -0.659502 -0.02447754 -0.20524003 -0.12123834 -0.0067296037 0.38624057 -0.26131037 -0.029912109 -0.26844046 0.19584838 -0.17818515 0.01379171 -0.10637566 -0.11733035 0.21915418 0.045251627 -0.017078193 0.099527285 -0.10897755 -0.040805224 -0.16812159 -0.089547105 0.11040332 -0.019770117 0.07087283 -0.14186822 -0.028523905 0.09987523 -0.06327822 -5.932939 -0.1572366 -0.32198477 -0.3046006 -0.3169237 -0.24697743 -0.095871404 -0.115100496 0.066742055 -0.34683448 -0.14616394 -0.22990891 -0.08594053 -0.15843748 -0.27889183 -0.38525313 -0.102976434 -0.15146567 0.101408616 0.032735474 -0.033254437 -0.117676586 -0.06827556 0.17439952 -0.18818808 -0.12670848 0.012584959 0.11614958 -0.11182119 -0.1458215 -0.0045419345 -0.1557652 0.05394363 0.055599954 -0.077117406 -0.14183734 -0.40877604 -0.16418569 -0.23711553 -0.2799023 -0.09865474 -0.3871123 -0.54112756 -0.21474732 0.013069022 -0.20776497 0.05778832 0.061322074 -0.2185805 -0.08324473 -0.23048921 -0.00080844347 0.05059755 -0.2102502 -0.060384903 -0.0136341285 0.094705954 -0.15565224 0.004766312 0.79412675 -0.10723168 -0.0627335 -0.15477175 0.024554469 -0.13620391\n",
            "\n",
            "traveling -0.09384267 0.04237461 -0.80239123 -0.09004007 -0.075096086 -0.11169339 -0.43763083 -0.06773522 -0.038999673 0.028373424 0.40771538 -0.052773427 -0.017058454 0.044201285 -0.36236757 -0.042456027 -0.2831606 -0.10785115 0.13584742 -0.35778 0.1863515 -0.13299772 -0.2295296 -0.019527555 -0.07209033 0.18250434 -0.36446804 -0.12815268 -0.16840005 -0.3034587 0.08012967 -0.104984365 -0.0240743 -0.3273965 -0.059057247 -0.16248514 22.888256 -0.0020627328 -0.002894873 -0.035728376 -0.06610956 0.037869956 -0.10399582 -0.40178698 -0.013792492 0.03260512 0.014698298 0.021964582 -0.25089076 -0.016522657 0.03218795 0.18524143 -0.3003178 -0.15212156 0.18401311 -0.110109374 -0.08828819 -0.27972507 -0.20737927 -0.25848123 -0.0391653 -0.004945312 -0.13170709 -0.068594836 -1.0376515 -0.097607695 0.0039832015 -0.045695677 -0.055882707 -0.11229928 -0.28105494 -0.18108672 -0.17118327 -0.117689446 -0.14925939 -0.23769738 -0.20687667 -0.92251366 -0.016566675 -0.04718575 -0.2972844 -0.09910536 -0.015873326 -0.1938561 -0.08023736 0.21908788 -0.36995456 -0.9884841 -0.012344213 -0.081654504 -0.10433582 -0.29822364 -0.25252977 -0.11720054 -0.17548905 -0.062090125 -0.09707807 0.023044867 -0.0036454313 0.123897284 -0.008903762 0.048476048 0.11310516 -0.1335221 0.057038132 -0.13542244 -0.22495322 1.3183812 -0.06369573 -0.076155566 0.084369786 -0.001819693 -0.09330861 0.15237412 -0.05495866 -0.012740454 0.04457981 0.035724234 -0.005129705 -0.047717784 -0.07159387 0.002784076 -0.088520594 0.05228354 0.042869218 -0.06787788 -0.015193528 -0.17300916 -0.3033674 0.031937763 0.19063927 0.015673775 0.12814692 -0.15000981 -0.16308181 -0.1020036 -0.035756122 -0.345128 0.6985921 0.059062555 -0.063574225 0.03492317 -0.97379273 -0.108675115 0.088796325 0.010459848 -0.093896955 0.112655364 -0.046511397 -0.2928603 -0.09880369 0.007481429 0.12015698 0.12380068 -0.18977742 0.070273146 -0.013480022 -0.14039868 0.13196057 -0.09303534 0.20187101 -0.11505219 -0.04062664 -0.12194893 -0.15396552 -0.16525945 -0.009571492 -0.9379271 -0.22793728 -0.17907694 -0.19837391 -0.16339345 -0.16833813 -0.057369735 -0.05969046 -0.15092832 -0.27286288 -0.3285079 -0.051929176 -0.0033118075 -0.22567634 0.0060888273 0.10771145 0.10796913 -0.0656865 -0.12030935 -0.0982798 -0.013891824 -0.16564241 0.028173119 -0.16908048 -0.16316144 -0.13413826 -0.17577621 -0.15444365 -0.00900142 0.0038329945 -0.060312122 -0.15640475 -0.2251431 0.01555226 -0.086046845 -0.1310534 -0.20441602 0.0064453655 -0.053534925 -0.19454315 -0.14832735 -0.12921189 0.12393907 0.06949192 0.17054951 0.004466418 -0.043737423 -0.09958136 -0.1510658 -0.17852452 -0.20290285 -0.2817763 0.09266271 0.16484189 -0.18985315 -0.12960595 -0.23364727 -0.03424403 -0.076331355 -0.005998323 -0.12773795 -0.029682549 -0.08837202 0.25483653 -0.022231443 1.2020093 -0.089870445 -0.14409605 -0.13028032 -0.18392164 0.007142423 -0.057377916 -0.060259465 -0.12098607 0.35725483 0.09979547 -0.094536945 0.03231116 0.020395922 -0.20632069 0.110747546 -0.033530463 -0.11566118 -0.33604553 -0.07550319 -0.0031134654 0.124930665 -0.14931683 0.2941502 0.16882119 0.107697256 -0.093081154 -0.11005263 0.070815384 -0.17955537 -0.04131972 0.0151987355 -0.09907453 -0.1855254 -0.9665898 -0.3208035 -0.26410708 0.085138634 0.119653165 0.6437943 -0.13950989 0.08673661 -0.2754485 -0.23413534 -0.068370044 -0.07131867 -0.17122804 0.017910603 0.031761345 -0.13861224 -0.022826253 -0.05781465 -0.079251595 -0.12994093 -0.2308801 -0.22892995 0.022776973 -0.2049426 0.048880182 -0.08754053 0.028045833 0.07973133 0.08164014 -0.189305 -0.09559416 -0.20061632 0.008607209 0.021140123 -0.0636251 0.18988293 0.055324223 -0.014181584 -0.0988442 -0.010797858 -0.003161359 -0.1663749 -1.0852677 -0.11050554 -0.036444478 -0.10810714 0.09073182 -0.14579107 1.1699408 -0.104710095 -0.18938212 -0.03662684 -0.058312144 0.21294294 -0.91971946 -0.27625036 -0.23365316 -0.17114253 0.0932859 -0.009388517 -0.38115475 -0.076579146 0.07669794 -0.2510115 -0.24624783 -0.12897311 -0.03233721 -0.31504092 0.18060242 -0.25622833 -0.0979195 -0.15616493 -0.09171783 -0.057022326 0.021246156 0.020154525 -0.13854381 -0.21334551 -0.13370043 0.10350625 0.029318405 -0.3432929 0.046687264 -0.044329096 -0.1759305 0.13500078 0.074117154 -0.16344264 -0.11036297 0.05387824 -0.5541699 0.033575643 -0.10368144 -0.20369148 -0.21029434 0.04745066 -0.21981482 0.034825068 -0.07831661 -0.005414619 -0.098251514 -0.11089042 0.051903218 -0.05684732 0.06714233 -0.028771682 -0.035568405 -0.7157567 -8.057607 -0.21052206 -0.16406357 0.20657893 -0.49228466 0.11862743 -0.14227721 -0.1693638 0.009514682 -0.0315004 -0.25457183 -0.11333408 -0.00089507055 -0.08858563 -0.12098287 -0.6395458 0.11282995 0.006017289 0.105091594 -0.5135575 -0.2681856 -0.045232955 -0.35314697 -0.0028134286 0.12711123 -0.043053508 -0.03735252 -0.13485138 -0.0140700415 0.0023456996 -0.069486745 -0.007745289 -0.001629531 -0.095056735 0.15602963 -0.052950997 -0.25669122 -0.07230837 -0.18920094 -0.16397369 -0.20501125 0.0089816805 0.10637981 -0.21176603 0.0067722294 -0.019236373 -0.3778221 -0.14418137 -0.034275785 -0.15222013 -0.09359559 -0.028844753 -0.04755515 -0.083492525 -0.22807594 -0.23659831 36.953743 0.08205573 -0.0045646923 -0.05943579 -0.17298244 0.014476978 -0.11290748 0.01946791 0.08772973 0.46334732 -0.21146838 -0.07357725 4.826778 0.020340236 0.087983325 -0.10342147 -0.08981022 1.6951737 0.0028855586 0.08183335 -0.048299618 -0.15317643 0.066939324 -0.29351005 -0.072113805 0.078222916 -0.20428579 -0.15048498 0.014657315 0.008358981 0.26605618 0.08475545 -0.06159991 -0.1382347 -0.124668576 -0.28987417 -0.0112546235 -0.23681745 -0.11887723 0.13414851 0.045791112 -0.004466924 -0.064067736 -0.034894794 0.035319835 -0.16013213 -0.04731152 -0.1052275 -0.17367736 -3.7902443 -0.8518585 0.6729619 -0.18008797 -0.078070365 -0.043864626 -0.08737397 -0.014754908 -0.2034042 -0.039038844 -0.18145862 0.018954145 0.028688798 -0.17306592 -0.0047550905 -0.22958727 0.081249386 52.651733 -0.30215818 0.0153701315 -0.049507745 0.006777682 -0.0504338 0.01925209 -1.2701486 0.026352964 -0.061396167 0.05327288 -0.103874736 0.04447622 0.0032418137 -0.033311088 -0.31678045 -0.16567482 -0.14059363 -0.10788631 -0.3035539 -0.059409603 -0.051331766 -0.15011817 -0.12117075 -0.07714605 -0.12694676 -0.07100838 -0.0040334607 -0.06708364 -0.30140677 0.39091772 -0.14961131 -0.37375882 -0.011254245 -0.13088827 -0.13706437 -0.13081124 -0.1133857 -0.18762378 -0.0659086 0.025506562 -0.053544138 -0.23921145 -0.12134666 0.24693507 -0.19219923 -0.16500214 -0.3710416 -0.18653554 -0.13950393 -0.06533232 -0.039626297 0.06718656 -0.408084 0.041429922 -0.10201868 -0.158795 -0.23208807 -0.1058027 0.06356649 0.06821313 0.18859786 -0.16411433 -0.282638 -0.2053191 0.058014143 -0.08047419 -0.13860422 -0.094465084 -0.08755205 -0.09544285 -0.14255361 0.04612649 -0.043661933 -0.01804484 -0.06372908 -0.15488978 -0.3032335 -0.15321125 0.047121964 -0.054815702 -0.031961393 -0.18760763 0.01763333 0.045314144 -0.046720333 0.119516864 0.046625886 -0.13620073 0.047324367 -0.007426195 -0.25237143 0.112619296 0.005629545 0.033826407 -0.038817342 -0.044295542 -0.1749998 -0.04538576 -0.08440172 -0.33699855 0.1682754 -0.24712549 -0.009539099 0.03000189 -0.23970792 -0.22241467 -0.04367597 0.017368414 -0.107000664 -0.13281144 -0.014588755 -0.5372456 0.05767931 -0.40854678 -0.053871877 -0.00912973 -0.005082103 -0.19590272 -0.22167169 -0.035906672 -0.17762412 -0.19078687 -0.25820553 -0.026926853 -0.062446866 -0.112384535 0.082404144 -0.008892871 -0.024750823 -0.22272924 -1.4440944 -0.07487741 -0.30551302 0.0545047 -0.24176843 -0.06803962 -0.13215324 -0.01561541 -0.4549497 -0.47026056 -0.00052285613 -0.1986353 -0.0064464435 -0.3371058 -0.14292009 -0.3361933 0.013560389 -0.11523845 0.04172895 -0.26435086 0.0117316 0.081108935 0.15468334 0.17726485 0.064468436 -0.01737167 -0.18103242 0.055463564 -0.4843611 -0.07086841 0.1285258 -0.03581358 0.30672348 -0.06990524 0.07783182 -0.14843947 -0.020193988 0.02549121 0.08399025 -0.18669747 -0.39716637 0.15234482 -0.119817875 0.06694853 -0.1820955 -0.18759222 0.0722356 -0.68719685 0.062347658 -0.34461883 -0.12362047 -0.16214438 0.5843585 -0.09887218 0.007096782 -0.35127193 0.05036007 -0.17860483 -0.1381561 -0.16019021 -0.04827841 0.18276799 0.07809789 0.0039016514 0.121030785 -0.016311038 0.13461386 -0.2356395 -0.06346767 0.0012054491 -0.06977231 0.105149105 -0.06961608 0.009966011 0.1697357 -0.1708379 -4.416396 -0.1323259 -0.12430036 -0.28554216 -0.2879621 -0.22540787 -0.020124545 -0.16392894 -0.023356615 -0.26096654 -0.118283935 -0.25428274 -0.28344262 -0.28512773 -0.17891152 -0.25633252 -0.10741011 -0.31884146 0.09393728 -0.08876924 -0.17806618 0.13688943 0.016119868 0.0026121384 -0.25105736 0.040919058 0.16630057 0.049423836 -0.02527796 -0.33878577 -0.005172278 -0.13507444 0.0010438795 0.03183003 -0.10017641 -0.17307802 -0.37452883 -0.25638744 -0.3656578 -0.08665556 -0.11571785 -0.25254408 -0.63064045 -0.14241895 -0.015439223 -0.22596404 -0.03113195 0.13345976 -0.0946193 -0.030292042 -0.23408738 0.072031155 0.038873967 -0.20233731 -0.0076216515 -0.18758117 0.002114905 -0.22542751 0.05195461 1.6412685 -0.05632847 -0.094419345 -0.10433967 -0.0016975718 0.011765849\n",
            "\n",
            "volunteering -0.20893872 -0.14276218 -0.40258458 0.11331599 0.14784552 -0.15637149 -0.68622696 -0.2715535 -0.1522839 0.14727274 0.4010087 -0.002775657 -0.007188801 0.116152436 -0.3148093 0.004360775 -0.17782533 0.044155054 0.07268433 -0.20955607 0.17293645 -0.1897974 -0.21465805 -0.08427393 -0.11594017 0.25525865 -0.22968122 -0.10730831 -0.12734757 -0.38844857 0.09662612 0.13240097 -0.23216689 -0.2559004 -0.094279364 0.35218948 19.47693 0.04412374 0.048228294 0.04908108 -0.08541028 -0.036414687 -0.06309888 -0.4096848 -0.08796393 0.13471705 -0.057211515 0.01774441 -0.25817066 -0.04975002 -0.1305692 -0.0015724774 -0.038881898 -0.09363916 -0.061208908 -0.027251923 0.0493104 -0.22253352 -0.18586607 -0.07619324 0.23256558 -0.08270519 -0.19355048 -0.03380571 -1.0402536 -0.15077555 -0.0016718041 -0.12430115 -0.13404693 -0.076979294 -0.20996104 -0.14783211 -0.19502555 -0.0944884 -0.110855125 -0.42670727 -0.3136898 -2.1647139 0.07464018 -0.06848376 -0.33582133 -0.08943602 0.030399526 -0.3984848 0.033897687 0.26238862 -0.41081136 -0.9900795 -0.034440886 -0.0816053 -0.09078151 -0.24158297 -0.26244116 -0.047696944 -0.24199927 -0.0004938217 -0.033342835 -0.0026898913 0.037741043 0.0011777806 -0.08460114 0.038736623 0.011363717 0.016819384 0.040863562 0.012852094 -0.15095016 4.2111883 -0.08150557 0.00059776707 -0.09232208 0.05320206 -0.051456455 0.09500598 -0.08334194 0.07304048 0.07694306 0.08743722 -0.058727767 -0.23216121 -0.18396087 -0.050907742 -0.00518214 -0.07994032 -0.045148455 -0.06368762 0.0033684538 0.15247065 -0.17111342 -0.0983135 -0.06390283 0.15544012 -0.04766888 -0.16384545 0.10463438 -0.10721229 -0.00438256 -0.35162082 0.61438173 0.13917112 -0.19035354 0.10102326 -0.7688107 -0.06886448 -0.039745215 0.059464015 -0.051791675 -0.06900589 -0.120951235 -0.16504984 -0.12959546 -0.04168157 -0.005688124 0.09845694 -0.085707724 0.13225235 0.0021552355 -0.15714148 0.12584764 -0.03616831 0.25701657 -0.0593905 -0.017193664 -0.13299854 -0.2563329 -0.11531774 -0.03194257 -0.7057541 -0.20858371 -0.12159826 -0.1194026 -0.1498127 -0.16508202 0.14325266 -0.0675529 -0.24834153 0.16071111 -0.32488492 -0.064445205 -0.034268603 -0.09777066 -0.026872627 -0.09973418 -0.04916347 0.009965734 -0.18186155 -0.0280039 -0.13032077 -0.007909742 -0.04666425 -0.1819868 -0.05842277 -0.0930186 -0.039477352 -0.111353874 -0.036991447 0.019326674 -0.12131702 -0.11686976 -0.25514743 0.007209452 0.063780844 -0.07429288 -0.22533296 0.04164332 -0.083189376 -0.12390078 -0.19016072 -0.2842691 -0.046353184 0.11587293 0.37274057 -0.14303982 0.06005269 0.090150654 -0.13817671 -0.25046918 -0.18947859 -0.1425114 -0.0494261 -0.0136092175 -0.2112839 -0.1203518 0.016579514 -0.016228259 -0.0747849 -0.04374077 -0.08186046 0.208955 -0.12238259 0.17759916 -0.057039462 2.914557 -0.12639499 -0.13771686 -0.15179491 -0.054759506 0.030038355 -0.019518124 0.006581426 -0.16232267 0.038581785 0.020377075 0.025776165 0.000750418 0.033096723 -0.24425657 -0.0074891504 0.022255946 -0.39690962 -0.69579333 -0.064528435 0.15995604 -0.026617892 -0.08402106 0.19841798 0.13354003 0.13622403 -0.1076757 -0.017232174 0.090996735 -0.16097021 0.007577361 0.022913335 -0.09885917 -0.17298096 -0.9684517 -0.46714267 -0.14914837 0.039990745 -0.45294437 0.59115773 -0.10244358 0.19943796 0.029184364 -0.23484318 -0.041461375 -0.20478238 -0.20718972 -0.042459175 -0.0019314133 -0.13721804 -0.0405571 0.055804785 0.11735832 -0.21595046 -0.13615522 -0.12716903 -0.10798011 -0.080130085 0.044938393 -0.11092629 -0.06419575 0.082899 0.12019182 -0.14404923 -0.0086910855 -0.31951776 -0.022999402 0.0038449096 -0.11212878 0.03587317 -0.08414719 -0.033976357 -0.28551757 -0.094982065 -0.0046333685 -0.18075544 -0.76693344 -0.099061824 0.08709203 0.39024153 -0.06869722 -0.13424689 4.452608 -0.06652249 0.019977322 0.02889791 -0.060772482 0.12685764 -0.68514246 -0.24243112 -0.19288757 -0.06627332 0.013258325 -0.21294302 -0.49142295 -0.16753936 -0.09915543 -0.24953434 -0.17827967 -0.13897313 0.057536416 -0.18791197 0.22928269 -0.39542297 -0.110621475 -0.09379107 -0.050890576 -0.22264805 0.008307535 0.035661038 -0.23673676 -0.2191971 -0.049177628 0.12904944 -0.1975101 -0.31718707 -0.06567739 0.019658854 -0.22928318 0.3494366 -0.07668583 -0.16127656 -0.14344856 0.019888781 -0.5520921 -0.07851096 -0.13709825 -0.07132692 -0.03958553 -0.22002672 -0.33443582 -0.031654898 -0.08415884 0.0711649 -0.12307925 0.07788059 0.017409313 0.07277229 0.096945666 -0.11140606 -0.057905342 -0.71149457 -6.4757485 -0.25851554 -0.1372837 -0.35504776 -0.34457844 -0.047528915 0.12196384 -0.13109134 -0.23059277 -0.1054195 -0.24521947 0.08378248 0.12667733 -0.007767587 -0.009227229 -0.36483684 0.14039305 0.07017161 0.053240214 -0.3982791 -0.17149396 0.0219149 -0.16846238 -0.15015972 -0.032895178 -0.027676677 0.0067259227 -0.17414351 0.2352008 -0.0052123033 -0.029925283 -0.015004876 0.014185357 -0.15465304 -0.625887 0.19568284 -0.3180183 -0.07423458 -0.24731787 -0.19944865 -0.1395745 -0.15757637 -0.07620094 -0.192627 -0.28549692 -0.04598568 -0.3390083 -0.19854084 0.0060874596 -0.041445762 -0.1422465 0.0445225 -0.1895408 -0.15844399 -0.094387785 -0.21737531 36.432587 0.10549997 -0.09065169 -0.10741947 -0.16337028 0.046189375 -0.10148683 0.044484608 -0.0020426125 0.28934297 -0.18011342 0.09429012 5.1182756 -0.056048203 0.0633239 -0.031605113 -0.13252804 1.6956702 -0.0386948 0.18096292 -0.090109795 -0.07425244 0.10055093 -0.3865664 -0.18232484 0.073245026 -0.10107638 -0.04519527 0.041227233 -0.20456247 0.066720255 0.10378938 -0.06919378 -0.13465618 -0.13580926 -0.11248645 -0.03775711 -0.14205396 0.039420996 -0.04059679 -0.01592905 -0.00011569133 -0.17251512 -0.07970898 0.050677817 -0.09284404 -0.032624286 -0.17419435 -0.1990272 -3.5493798 -0.8539601 0.6687624 -0.18486491 -0.1635956 0.12666182 -0.18051262 -0.0022248721 -0.079181366 0.13494293 -0.18369322 0.1867725 -0.17633444 -0.31826282 -0.05445401 -0.2750907 0.09804785 51.12873 -0.33528236 -0.03369104 -0.06732857 -0.15651923 -0.31201416 -0.12375761 -0.8396681 -0.1770472 -0.18736765 0.001755786 0.09404666 0.04338658 0.23913288 -0.08816141 -0.37775478 -0.028705752 -0.14135402 -0.089547075 -0.21487601 -0.0653517 -0.20908916 -0.1214311 -0.11508576 -0.035363708 -0.34880745 -0.03608743 -0.1678459 -0.21917671 -0.14814973 -0.03663307 -0.39905554 -0.2952505 0.076155655 -0.07636291 -0.12419584 -0.22730163 -0.022512179 -0.16633625 0.08760792 -0.022044534 -0.16728194 -0.18992521 -0.07582614 0.5031054 -0.15168245 -0.19582374 -0.69375414 -0.120841 -0.083239116 -0.03514619 -0.1916944 -0.06788442 -0.27434108 0.0021718373 -0.23477276 -0.121358424 -0.17196985 -0.73415804 -0.0108918855 0.05487656 0.033361048 -0.11956082 -0.2912378 -0.22180372 -0.05938569 -0.079520136 -0.029345993 -0.14445084 -0.103659034 -0.082205564 -0.10757952 0.15697435 -0.021864766 0.024714598 0.06459258 0.0009093594 -0.15857744 -0.25920427 0.13316183 -0.014863459 0.059237942 -0.2708736 0.06895525 0.15627165 -0.008282129 -0.02625381 -0.009258026 -0.15073644 -0.031244284 0.027041696 -0.20109808 0.112138055 0.0057707494 0.18490775 0.0012650074 -0.068533674 -0.20285283 -0.0435562 0.06256512 -0.097325645 0.0382244 -0.14871444 -0.028157843 -0.0015823381 -0.01960738 -0.2321441 -0.02909767 0.02089209 -0.04736595 -0.13109551 -0.017873399 -0.20959312 0.118247874 -0.25474846 -0.122106336 -0.13206458 -0.043415524 -0.28890043 -0.0030374695 0.0414117 -0.051156614 -0.19431238 -0.11752397 -0.05786348 -0.12018502 -0.17174394 -0.36459234 0.0745945 -0.04993318 -0.081659734 0.053923298 -0.09447687 -0.26381212 0.044525247 -0.12818259 -0.0038348788 -0.04760158 -0.040833753 -0.5552338 -0.38149118 -0.008849962 -0.16432698 -0.06344989 -0.49008307 -0.17688704 -0.51636255 -0.23787265 -0.21645072 0.040578928 -0.31775475 -0.20095508 0.095594324 0.25444248 -0.07487128 0.02633172 -0.10896616 -0.067531794 0.079195894 -0.040919635 -0.08721058 -0.019101908 -0.056701973 0.6421669 -0.01849952 -0.08511717 -0.053751636 0.1228503 -0.07568459 -0.050668474 -0.18172982 -0.33131966 0.054495342 -0.1720639 -0.1860524 -0.12319791 -0.24316394 0.11645989 -0.5820629 -0.024204426 -0.07195103 -0.13584568 0.071625344 -0.35126334 -0.09099036 0.014266642 -0.24609762 0.0566878 -0.11173743 0.18732257 -0.12927389 -0.072458126 0.09600314 -0.06530463 -0.0087909335 0.12587832 -0.110753216 -0.05803034 -0.12147624 -0.10525888 0.0020160081 -0.1349951 0.124293484 0.20495543 -0.10696235 0.087239936 0.050198708 -11.728066 -0.21571851 -0.26918396 -0.08415977 -0.07136792 -0.09953212 0.057678867 -0.23137867 -0.12531297 -0.13299559 -0.17253603 -0.11144614 -0.24766797 -0.09438087 -0.3291267 -0.23494932 -0.105361335 -0.22299129 -0.041983634 -0.06329065 -0.13163853 0.3837493 -0.08695875 -0.095836684 -0.09490126 -0.079968356 0.1756331 0.06956358 -0.07465279 -0.22654001 -0.09475277 -0.18673226 0.09998527 0.17267749 -0.085987724 -0.16183273 -0.27748317 -0.1662645 -0.17409347 -0.1891006 -0.05578358 -0.30436957 -0.27108452 -0.030703757 0.0017162225 -0.16318968 -0.044894136 0.08924553 -0.12284657 -0.06985033 -0.14041024 0.09992791 0.16063641 -0.195222 -0.06846285 -0.13172466 0.22181562 -0.13558446 0.10963315 0.14798295 -0.08385018 -0.1520023 -0.10827638 0.08292699 -0.089869544\n",
            "\n",
            "meditating -0.052842956 0.051926464 -0.40555656 -0.061695687 0.08174979 -0.2548215 -0.1740769 0.074838355 -0.19149241 0.052615482 0.35259208 -0.078745686 0.024884436 0.029063847 -0.13535373 0.036961704 0.07125479 -0.16641778 0.21047169 -0.29728058 0.13324894 -0.017245186 -0.2333352 0.074411266 -0.11019868 0.10589447 -0.2901158 -0.20121805 -0.15108824 -0.18514128 -0.050749652 0.065817 0.027109453 -0.2416847 -0.11899277 0.047158834 21.373482 -0.031669296 0.017592618 -0.050295334 -0.10150997 -0.045715034 -0.0041402476 -0.18558833 -0.031227458 0.11181912 -0.031138375 0.053216886 -0.16510847 -0.017059442 -0.08572811 0.13542187 -0.070825264 -0.12186167 -0.021942059 -0.022476764 -0.030417869 -0.33809227 -0.20919801 -0.04311717 0.02543229 -0.018625896 0.13408211 -0.031536892 -1.040099 -0.041059546 0.03030907 -0.027742578 -0.38673332 -0.1714963 -0.12956929 -0.21386908 -0.21066442 -0.0820379 -0.11704417 -0.18687132 -0.3645216 -0.95181197 0.14463256 -0.04746354 -0.24259779 -0.025304975 0.013170939 -0.34022906 -0.11285998 0.07256329 -0.07381888 -0.98983604 -0.1330676 0.0047151116 -0.023616187 -0.24873795 -0.23062137 -0.11752366 -0.15688373 -0.15985665 -0.20192161 -0.021964036 -0.009175653 -0.038694546 -0.011026401 0.18470924 -0.27396673 -0.19107816 0.10968598 -0.083693005 -0.14721341 1.2373568 0.00025371532 -0.058554873 -0.14221047 0.039651014 -0.25133073 0.08144029 -0.11524623 -0.0086104255 0.037373662 -0.056463312 0.012449818 -0.19943641 -0.047477186 -0.014170189 -0.11820335 0.030086491 -0.13366154 -0.028408667 -0.04097463 -0.049091388 -0.27440625 0.02582176 0.042788442 0.011998206 0.1839455 -0.15531524 0.025103156 0.010771918 0.021583062 -0.33898008 0.72770727 -0.0250232 -0.09561749 -0.026065836 -0.60930544 -0.042313915 0.0034714893 0.1218692 -0.109784074 -0.0060192007 -0.052512392 -0.18360259 -0.08021259 -0.086250864 -0.02823574 0.09136445 -0.08279517 0.023428585 0.009603085 -0.21685043 0.050365224 -0.06077262 -0.26385596 -0.010784871 0.02396643 -0.13707535 -0.20365098 -0.11838872 -0.08116002 -1.3872507 -0.11868242 -0.17404766 -0.09851296 -0.06506368 -0.080060065 0.0012137225 -0.08608915 -0.009312646 -0.074493766 -0.28907195 0.07762774 -0.13094388 -0.23762026 -0.02327337 0.014211758 -0.09951016 -0.038462583 -0.06497786 -0.1381627 0.048867535 -0.07280569 -0.08086756 -0.06610017 -0.041720845 -0.09030074 -0.15120624 -0.11417726 -0.122796796 -0.077733845 -0.123518825 -0.10610097 -0.41571143 -0.040611822 0.17178369 -0.09702025 -0.15924887 -0.024482464 -0.08174211 -0.14724512 -0.14100726 -0.10531405 0.0028280097 0.07909875 0.22746833 0.00067665445 -0.27632955 -0.10137357 -0.14927909 -0.18690346 -0.16817701 -0.24501544 -0.06829419 -0.06150072 -0.13370872 -0.043115724 -0.037041597 -0.22614603 -0.09850282 -0.0055877115 -0.031543534 0.04931053 -0.029813074 0.12983295 -0.06852892 1.5128795 -0.10132599 -0.18468757 -0.2287522 -0.1410719 -0.0065029417 -0.08357612 0.00696378 -0.07037723 0.17927943 0.005473417 -0.027970634 -0.0054436517 0.06227133 -0.23083046 0.15609933 0.024316985 -0.2680874 -0.24877167 0.11243016 -0.022466673 -0.03423766 -0.21113344 0.21098292 0.060152516 0.081042565 -0.111124024 -0.049497638 -0.03930226 0.004901541 -0.010820648 -0.065765455 -0.003794196 -0.18999048 -0.9686157 -0.29013664 -0.22812629 0.08667875 -0.36819163 0.567602 -0.0663353 0.11189225 -0.13695587 -0.16205601 0.098731875 -0.08004026 -0.18113331 -0.012420471 -0.07666065 -0.16023804 0.15281983 0.1392499 0.055631645 -0.17033711 -0.13051897 -0.13504808 -0.042411044 -0.15128458 -0.026610447 -0.0032228613 0.018298518 0.06627559 0.049130384 -0.14165244 -0.06634627 -0.14699206 -0.022822708 -0.0050012157 0.008395144 0.07548679 -0.02709064 -0.014387964 -0.19091415 -0.06468221 0.11259784 -0.19494092 -0.8250812 -0.10115756 0.03362736 0.03533309 -0.08614647 -0.14503163 -0.09397668 -0.103543565 -0.18832798 -0.0035473234 -0.15724736 0.11297684 -0.6451223 -0.09510687 -0.20310606 -0.028164353 0.03000067 0.018132573 -0.45936623 -0.045428645 0.050587 -0.020822287 -0.190895 -0.10989789 0.16432367 -0.10755377 0.0071953116 -0.32810274 0.04248838 -0.21069263 -0.13161597 -0.09814785 -0.020442104 0.047974903 -0.12145465 -0.21021657 -0.20082079 0.097371005 0.021234881 -0.33393598 -0.024621373 0.06711516 -0.21212514 0.2571777 -0.03762044 -0.114214025 -0.047469802 -0.028770044 -0.46560383 0.07512916 -0.05262504 -0.19344346 -0.1703641 0.04837511 -0.16971828 -0.0007927898 -0.13261814 -0.7165337 -0.06427114 -0.08300279 -0.031147815 0.014533502 0.042849977 -0.07943384 0.008639225 -0.7230683 -6.969537 -0.16797613 -0.2285313 0.3452293 -0.7634822 -0.042897694 -0.13435145 -0.09751654 -0.080680355 -0.07662886 -0.3735671 -0.0793452 0.086128935 -0.08458215 -0.016491547 -0.23930456 0.10487497 -0.06293767 0.056896213 -0.61025107 -0.12837979 -0.04346229 -0.28542286 -0.09188565 0.01527445 -0.034949966 -0.028179819 -0.1658299 -0.11311521 0.08153538 -0.04333296 -0.019675147 -0.10496275 -0.16951995 0.0036027029 -0.11167587 -0.18484962 -0.10948328 -0.2474969 -0.1399671 -0.015276895 -0.18389156 -0.050053813 -0.119984776 -0.044400007 0.054172177 -0.27841264 -0.14120428 0.033882126 -0.11247638 -0.081462175 -0.056545552 -0.23815456 -0.031807173 -0.17861255 -0.13554391 34.27732 -0.090152554 -0.0733344 -0.17669687 -0.17982492 -0.13497573 -0.1526065 -0.013340803 -0.02792302 0.53199255 -0.12247635 0.023248473 4.0715547 -0.04586772 -0.0039262227 -0.0019096781 -0.14152046 1.6999416 -0.033646405 0.15487723 -0.13332468 -0.12190622 -0.03142485 -0.26194197 -0.052813884 -0.15243052 -0.13902184 -0.14267065 -0.005542867 0.088384554 0.25755313 -0.0020978774 -0.01905121 -0.09196713 -0.06325265 -0.2669922 -0.10657737 -0.1526907 -0.038118467 0.058670897 0.016847277 -0.07843805 -0.18665631 -0.0566869 0.022245832 -0.24042092 -0.01184065 -0.15728231 -0.23232685 -2.133468 -0.8534662 0.6782962 -0.14206818 -0.13025564 -0.008522846 -0.09200993 0.017762018 -0.11112035 0.012321717 -0.21656105 0.104041986 -0.069882415 -0.15379551 -0.1339335 -0.11082446 -0.06395518 47.85214 -0.47378856 0.048956692 -0.019884152 -0.098293364 -0.11350628 -0.05641607 -1.1896135 -0.17813474 -0.021294095 0.006607327 0.101571344 0.07599386 0.033674844 -0.06467889 -0.28080425 -0.18169013 -0.18990314 -0.15305366 -0.35495204 -0.017784601 -0.14416793 -0.15990299 -0.20948146 -0.038901143 -0.21784054 -0.08981676 -0.0161894 -0.0727073 -0.32181287 -0.05741869 -0.34282723 -0.06355924 -0.06439258 -0.06656795 -0.15487963 -0.18153279 -0.03232088 -0.21569978 -0.14190583 0.0013946333 -0.08428508 -0.14476918 -0.0965356 0.40077117 -0.1667517 -0.17445463 -0.16380091 -0.20329139 0.019735131 0.016269205 -0.09467961 -0.013202692 -0.24982831 -0.022869928 -0.23236912 -0.04653054 -0.23349108 -0.2994866 0.07281449 0.02096651 0.17361605 -0.21896379 -0.2178376 -0.07226386 -0.10130601 -0.1346784 -0.08111291 -0.038627483 -0.23438653 0.29912528 -0.19591226 -0.023186032 -0.19509952 -0.18085447 -0.013832985 -0.01404696 -0.17186525 -0.1732412 -0.11562786 -0.021825163 0.02427162 -0.2874752 0.044932727 -0.07175182 0.06130636 0.017324494 -0.06159757 -0.11596789 -0.090480186 -0.07351552 -0.19468547 0.17147057 -0.049185783 0.069122106 -0.10375931 -0.05776813 -0.0429228 -0.030218713 0.07074597 -0.25044277 0.0062219263 -0.0502877 -0.078329556 -0.02087246 -0.1589164 -0.27540797 -0.021321198 0.12934607 -0.06788041 -0.0881725 -0.0159182 -0.31444365 0.095653884 -0.1395855 -0.050509114 -0.044668354 -0.12595005 -0.19096133 -0.25524053 -0.05884986 -0.17294806 -0.1280728 -0.13607478 -0.12184075 -0.17218195 0.09502882 -0.002020208 -0.07355509 -0.08173445 -0.16243605 -0.9319313 -0.068690985 -0.15878062 0.050650094 -0.21717124 -0.055637944 -0.09507459 -0.012452917 -0.8014908 -0.35673627 0.025747914 -0.10192944 -0.052436423 -0.060837947 -0.11711555 -0.2404089 -0.13734114 -0.0890531 0.09028642 -0.22898827 -0.102965556 0.05675164 0.07427643 -0.005719296 0.01708046 0.048638456 -0.091704726 -0.03509521 -0.277598 0.14266022 0.07182507 -0.07334217 0.30643648 0.015644154 0.0626457 -0.091671884 -0.047072265 -0.08685955 0.047454264 -0.2447216 -0.34946314 0.1361089 -0.09351701 -0.1035815 -0.14747722 -0.05639502 0.068891026 -0.77406603 -0.033910956 -0.12699139 -0.04380682 -0.104442246 -0.047708023 -0.2066117 -0.09676372 -0.15467323 0.052580424 -0.2906498 -0.10981746 0.010657281 -0.15544784 0.11150929 0.04854775 0.0838435 0.0776749 -0.122880206 0.0723127 -0.09293734 -0.058015194 0.060268294 -0.040151622 0.043243024 0.14494869 0.050226428 0.043814387 0.010790199 -4.462827 -0.067343645 -0.2295625 -0.46456942 -0.29961357 -0.17841296 -0.16529629 -0.018063879 -0.017951593 -0.30532283 -0.11169463 -0.13355848 -0.11322547 -0.11863393 -0.25512153 -0.53657496 -0.075000785 -0.15367886 -0.057529256 -0.12413642 -0.11603206 0.063963264 -0.07256827 0.21367733 -0.15156488 -0.044312157 0.123843014 0.01915745 -0.011167289 -0.20966175 -0.02044008 -0.18483073 -0.014470632 0.019708004 -0.055988878 -0.14654857 -0.37285724 -0.07659019 -0.24492425 -0.1236037 0.013119316 -0.33639735 -0.49827078 -0.14735058 0.038938645 -0.08584192 -0.012876759 0.043833036 -0.12260814 -0.004096457 -0.23086308 -0.05324907 -0.044844083 -0.117178075 -0.20361853 -0.10936917 0.2889998 -0.2256976 0.05868765 0.56659204 -0.07759152 -0.08818103 -0.124483004 0.013322599 -0.06858223\n",
            "\n",
            "shopping -0.07982934 -0.105062746 -0.34842575 0.022850204 0.040054917 -0.16748196 -0.74674773 0.07316059 -0.18716402 0.043581724 0.20940477 -0.082472675 -0.02085744 0.023141932 -0.16985963 0.06868718 -0.34089127 -0.09953436 0.019546801 -0.102084644 0.11304244 -0.2799351 -0.17189941 0.0011857774 0.014745396 0.11127632 -0.3645357 -0.13829154 0.023014719 -0.20624956 -0.0025061446 -0.017113868 -0.013367442 -0.21328467 -0.03250568 -0.012114332 22.972387 -0.028341306 -0.018819056 0.0641136 -0.035854496 0.08477512 0.061116282 -0.30958223 -0.1544165 0.031420507 -0.11196388 -0.06462646 -0.20633516 -0.00024388774 -0.029348165 0.06142242 -0.16426957 -0.1919625 0.1482991 0.20935708 0.047567625 -0.21683995 -0.11866252 -0.18635793 -0.00874189 -0.038699467 0.13184059 -0.18614545 -1.0427885 -0.019204697 -0.065757625 -0.08080391 -0.14100748 -0.113764726 -0.12345685 -0.17594734 -0.10273789 -0.06977691 -0.044999223 -0.38046014 -0.29822752 -2.2248056 0.006157657 -0.113895595 -0.29932973 -0.036705982 0.05222859 -0.23115325 0.031628672 0.11412907 -0.21420474 -0.9916588 -0.046172928 -0.23341198 -0.0053925384 -0.17681462 -0.22467603 -0.0799983 -0.19955859 -0.06182205 -0.23188168 0.08278508 0.070640445 -0.035354838 0.0014673889 0.06616463 0.0519817 0.11805818 0.021245118 -0.021914395 -0.15570408 2.9349809 0.023958966 -0.12335813 -0.13446978 0.08637351 -0.057444073 0.018004218 -0.04372422 0.01116705 -0.044038992 0.023360075 -0.01957816 -0.082561344 -0.14743572 -0.059437387 -0.09348039 -0.018249344 -0.16946723 -0.007245729 0.059403796 0.16133629 -0.12871686 -0.06948416 -0.032314777 -0.04167103 -0.086338796 -0.08176818 -0.058430914 0.048902884 0.082365386 -0.11704934 0.6279249 0.2218526 -0.0666341 -0.009967645 -0.40331438 -0.04076817 -0.05828032 0.019622464 -0.04986145 -0.019677592 0.06669399 -0.19410872 -0.11525913 -0.0058192182 -0.018667245 -0.061315358 -0.07993144 0.027681286 0.084439576 -0.11570924 0.061347347 -0.117120676 -0.09694203 -0.10245791 0.042770244 -0.015504105 -0.23295467 0.004542979 -0.025023282 -0.041677702 -0.0893165 -0.21118358 -0.13751206 -0.0021436415 -0.085202225 0.12049868 0.0247458 -0.33352888 -0.060926747 -0.29962838 -0.028139161 -0.020497909 -0.10321896 -0.026284983 -0.012547452 -0.10269459 -0.08224831 -0.06786269 -0.091162376 -0.033901714 -0.0419867 0.094315775 -0.054647867 -0.16470174 -0.20029975 -0.050500628 -0.08288585 0.10259852 -0.085400134 -0.21376406 -0.057035096 -0.379322 -0.10657448 -0.008876656 -0.14782538 -0.15289052 0.004006489 0.012281643 -0.07658445 -0.09755183 -0.16601545 0.058741897 0.07612181 0.14671858 -0.055024568 0.09436372 0.1113179 -0.11130528 -0.09525058 -0.18033786 -0.097309254 -0.030829046 -0.05669117 -0.068604 -0.08060144 -0.112420596 -0.12252189 -0.067905605 -0.0014330524 -0.0691049 0.089517705 0.026923038 0.008811833 -0.037140165 2.0447152 -0.030555654 -0.07966814 -0.19517273 -0.23924924 -0.081609145 0.013285914 -0.14071894 -0.055457197 0.037927203 -0.020683011 -0.10193612 -0.033042315 0.0967604 -0.24386077 0.015521895 0.007814561 -0.3279848 -0.44344515 -0.10196624 0.03439963 -0.10458179 -0.05009233 0.12162745 -0.043053094 0.11857377 -0.03727494 -0.05367127 0.05722876 -0.07549793 0.035578284 -0.058601953 -0.090401925 -0.16955636 -0.971104 -0.12513103 -0.17342108 0.0483211 -0.26180828 -0.38616043 -0.18642873 0.10277389 -0.022355959 -0.17796135 -0.337886 -0.14051336 -0.13673545 -0.095454395 -0.0650073 -0.028598778 0.029912183 0.035995375 0.0901726 -0.14374019 -0.06797246 -0.14668453 -0.37078068 -0.07038349 -0.045060985 -0.01892954 -0.0589682 0.06148986 0.05596756 -0.11082995 -0.025247984 -0.12346582 -0.08551285 0.021567957 -0.08663707 -0.0688171 0.027359134 0.09245891 -0.11202185 -0.067036994 0.02241494 -0.17245488 -0.7902522 0.04142518 -0.030867917 0.104285695 -0.06518744 -0.1423182 4.1131177 -0.07837429 -0.1740114 0.0681684 -0.036106892 -0.004580583 -0.27614975 -0.011298754 -0.20394802 -0.020336527 -0.022520216 0.011060338 -0.2304002 -0.11129087 -0.05504628 -0.1651269 -0.16696493 -0.001722972 0.06507783 -0.07193329 0.09616237 -0.24385807 -0.1290138 -0.1647216 -0.098301046 -0.2871421 -0.02284336 -0.0680733 -0.16453001 -0.084834516 -0.11698243 -0.017252188 0.07688439 -0.36790562 0.00046516894 0.060325265 -0.24503018 0.062858365 0.12216674 -0.28302148 -0.0033775447 -0.19411948 -0.4392438 -0.04730282 -0.06376045 -0.09392947 -0.17068468 -0.02411791 -0.3149924 -0.022880677 -0.17858523 -0.4058296 -0.041944034 0.06008603 0.13740583 0.038610294 0.116264634 -0.11750195 0.048175517 -0.7313699 -7.0760207 -0.25023443 -0.12243636 0.31272274 -0.44456956 -0.20451672 0.03920459 -0.11283305 -0.014105659 0.017065918 -0.30978668 -0.14036831 0.11537215 0.047688197 -0.06454444 -0.12993428 0.10919345 -0.050365888 0.10105743 -0.47853306 -0.049207587 0.041746113 -0.3598505 -0.037818357 -0.019413633 -0.018117877 -0.002989312 -0.113408044 -0.040233906 -0.04942363 -0.13999937 0.056062546 -0.11611275 -0.1884187 -0.7850553 -0.04816 -0.24039045 -0.09158976 -0.17944248 -0.13570158 -0.049828406 -0.24993436 0.109088905 -0.30822143 0.009521845 0.0139342155 -0.22063388 -0.003082263 0.02996578 -0.08685138 -0.10190425 -0.071535125 -0.0451098 -0.08816759 -0.11000289 -0.15469895 39.868145 0.08527962 0.037727147 -0.10205841 -0.019774938 -0.011474412 -0.1438237 -0.07682431 0.11322491 0.27203673 -0.07282288 0.003936405 5.4974537 0.0359229 -0.034665883 0.070478536 0.027108468 1.6997014 -0.053461548 0.0014743941 -0.12555788 -0.041031517 0.11641433 -0.618014 -0.089893796 0.061209787 -0.29242182 0.034753863 -0.01173786 -0.33646345 0.13541795 -0.07247334 -0.1266243 -0.13590425 -0.108016156 -0.16490096 0.029693646 -0.16162212 -0.10466989 -0.042580277 0.11507459 -0.0009474633 -0.13120806 -0.010139155 -0.006584958 -0.0937583 0.08241898 -0.16131034 -0.24375229 -4.4007816 -0.85594493 0.68377507 -0.085397 -0.11228551 -0.029376438 -0.0846081 -0.05971474 -0.08861611 0.03313526 -0.025627693 0.024757681 -0.29903725 -0.23484167 0.022144496 -0.31433406 -0.16909172 54.861313 -0.31047043 0.06274787 0.013659967 -0.01990695 -0.13869944 -0.043046273 -0.37691084 -0.18200718 -0.11954981 0.029384132 0.047533467 -0.105912045 0.1533241 -0.0879492 -0.4295926 -0.19537714 -0.14866808 -0.13367513 -0.35085952 -0.09529081 -0.12502824 -0.12550156 -0.091768116 -0.0714105 -0.17511557 -0.097715765 -0.055677593 -0.12545635 -0.402091 0.22477932 -0.23797332 -0.31988356 -0.08838081 -0.09013331 -0.08762697 -0.083404854 -0.065464 -0.16218135 -0.0708605 0.072519 -0.19138363 -0.0546829 0.007679984 0.41375914 -0.21063833 -0.13512804 -0.34812483 -0.120175414 -0.11266113 0.014405968 -0.13654722 -0.09397782 -0.22413413 0.046962775 -0.19367549 -0.1901123 -0.24087952 -0.8315094 -0.099418916 0.05457075 0.069098815 -0.07135924 -0.16030242 -0.114572614 -0.0910415 -0.08041973 0.088988565 -0.15098266 -0.055476777 -0.018354343 -0.23841071 0.005045927 -0.008882628 -0.05363143 0.025525872 -0.00040692784 -0.21397203 -0.10108166 -0.09679497 0.032106515 -0.055365074 0.021156926 0.10799899 0.11592713 0.09732514 0.18179524 -0.08524135 -0.11537593 -0.15460512 -0.08261342 -0.2777858 -0.034628347 -0.0126651265 0.1584617 0.058656354 -0.17671175 -0.010472596 -0.14086492 -0.032434467 -0.048007254 -0.018631369 -0.1483828 -0.08902592 -0.19177991 -0.11003045 -0.32402918 -0.06590239 -0.021473894 -0.06479936 -0.09725963 -0.035384506 -0.36217427 -0.04854832 -0.1448138 -0.06246033 -0.14697531 -0.058550708 -0.21125893 -0.094503954 -0.1280509 -0.15801175 -0.18473467 -0.05419588 0.003052276 -0.044140976 -0.115282 -0.21303318 -0.11700321 -0.0786491 -0.10205175 -0.16352585 -0.013282606 -0.20563905 0.11032632 -0.2228976 -0.135048 -0.024363816 0.0071575427 -0.35199606 -0.31408685 0.05271745 -0.22007869 -0.060759533 -0.14782956 -0.112119935 -0.26488125 -0.0067574033 -0.033927403 -0.012217211 -0.3359436 -0.3019383 0.021589277 -0.31660497 -0.048632484 0.030638725 -0.0103307655 -0.32906836 0.0874675 -0.122341186 -0.12022196 0.12997371 -0.035114337 0.80208844 -0.08144256 -0.0746676 -0.08115958 -0.0484867 0.07769723 -0.1019726 -0.18904787 -0.24827316 0.05819549 -0.109917596 -0.1019233 -0.05080847 -0.08752994 -0.025968593 -0.5145048 -0.014696259 -0.12617566 -0.1520137 0.064949185 -0.33887148 -0.31264135 -0.01815722 -0.20413885 -0.012239607 -0.042700093 -0.14188349 -0.21190818 -0.12941498 -0.0044348086 -0.020032711 -0.053179607 -0.07756012 -0.060215086 -0.06600271 -0.035197224 0.056858916 0.060237706 -0.022458525 0.031521026 -0.18389024 -0.07968627 0.06645968 0.024379078 -9.586563 -0.14829162 -0.1422216 -0.17437187 -0.22661576 -0.18527275 0.0068582105 -0.27291483 -0.060242202 -0.20368974 -0.059477907 -0.10057975 -0.14137149 -0.15547232 -0.2754006 -0.12388677 -0.12593023 -0.26929656 -0.2613885 -0.07497105 -0.08499329 0.19331035 0.06387636 0.029407157 -0.1965239 -0.05351299 0.05284822 -0.08578637 -0.06330011 -0.11719854 0.086948335 -0.094371416 0.05817075 0.034518745 -0.10235018 -0.07039516 -0.34953612 -0.1285245 -0.12227086 -0.25391525 -0.14003167 -0.12002666 -0.2979804 -0.14342545 -0.00071993365 -0.06382362 -0.18912356 -0.06185973 -0.11901521 -0.083394215 -0.14806287 -0.048659842 -0.046668973 -0.13592915 -0.029216059 -0.08679318 0.16999093 -0.2077617 0.0034527609 0.86200446 -0.16196059 0.03767157 -0.1338679 -0.03792362 -0.10347755\n",
            "\n",
            "phone -0.019213716 0.007271101 -0.34431824 -0.049569946 0.027229732 -0.17420784 0.62187433 -0.22441867 -0.12143011 0.104508534 0.29578274 -0.027797228 -0.0726759 0.012768088 -0.163415 -0.12989213 -0.14300941 -0.24667257 0.08619154 -0.270481 0.12420114 -0.13337183 -0.27616662 -0.1265033 -0.009749863 0.0959976 -0.14764144 -0.22324683 -0.012232131 -0.2803948 -0.011106978 -0.05594746 -0.05891864 -0.3471447 -0.06549592 0.043669775 21.916899 0.044248592 -0.06184889 -0.076955885 -0.05104936 0.08152168 0.0041469606 -0.30172968 -0.11678942 -0.06118609 0.076458566 -0.011307122 -0.49618614 0.02905673 -0.07212108 0.131984 -0.18567708 -0.013746438 0.013952382 -0.044918597 0.05912758 -0.14533247 -0.14602582 0.1419581 0.06492517 0.0670583 -0.07089501 -0.11968274 -1.042266 -0.12089981 -0.1359143 -0.14872248 -0.069974326 -0.16651812 -0.14500797 -0.3343627 -0.17204686 -0.12934099 -0.003928247 -0.09607565 -0.15731815 -0.6229887 0.172551 -0.06597217 -0.4208936 -0.045782916 0.07244129 -0.18313102 -0.05756784 -0.057166543 -0.16064183 -0.99116254 -0.104245976 -0.14134488 -0.049667504 -0.20185156 -0.2930237 -0.09123006 -0.18008423 -0.11805579 0.031686988 -0.106854886 0.06630159 0.24490504 -0.13783816 0.034794044 -0.19068909 -0.2054347 -0.03885499 -0.09214037 -0.14373095 1.6501516 -0.08438958 -0.22765507 -0.08013927 0.13903844 -0.1150329 -0.041079257 -0.079961725 -0.009008394 0.017070016 0.13085903 -0.02946807 -0.12797593 -0.15166008 0.035548046 -0.056670155 -0.028752554 -0.11621047 -0.07882745 -0.15190317 -0.029004013 -0.3527556 -0.017886968 -0.007785351 0.034366224 0.2589702 -0.19368963 -0.010294765 -0.11841285 0.027166763 -0.3585539 0.7391496 0.1417632 -0.033101756 0.033228613 -0.623906 0.014511733 0.16921614 0.16636656 0.089272715 -0.114001505 0.004129585 -0.28118184 -0.06853063 -0.30733892 -0.15989077 0.0876717 -0.19636092 -0.03253404 -0.057361055 -0.27914935 0.049331076 -0.09154427 -0.03067849 -0.13420819 -0.08048981 0.013933838 -0.23032162 0.122067615 -0.16905984 -1.0114689 -0.05462574 -0.12936476 -0.097557895 -0.12409153 -0.062326435 0.09312771 -0.06778262 -0.098679595 -0.34800896 -0.187674 -0.046581477 0.009655617 -0.14267534 0.004246079 0.11554172 -0.06257714 0.0026251094 -0.13302737 -0.025227463 -0.22212458 -0.008513357 0.124376304 -0.17613585 -0.103916176 -0.09405632 -0.07818511 -0.1556921 0.09030844 0.027294192 -0.08747157 -0.19841288 -0.46890962 0.01085936 0.079692796 -0.098901816 -0.05841781 0.011296417 -0.05461882 -0.10974333 -0.13516422 -0.22886817 0.008585817 0.097298354 0.22279258 -0.11435275 0.35190076 -0.14487565 -0.12453236 -0.24198318 -0.11542074 -0.11812118 -0.08143072 -0.041767947 -0.0561939 -0.08580292 -0.15291072 0.004158667 -0.16893786 -0.12214844 -0.121877484 0.031028004 -0.072257005 0.20943259 -0.09366894 0.86550367 -0.0597734 -0.09959179 -0.23739499 -0.16347869 -0.053393316 -0.09064381 -0.05851487 -0.026841884 0.3202788 0.05432421 -0.061307795 0.10161534 0.021276131 -0.24627253 0.40193138 0.06925537 -0.18178505 -0.14468251 -0.24261548 -0.058945116 -0.038405765 -0.23760742 0.2943104 0.18375899 0.06842552 -0.06353264 -0.053589266 -0.089683205 -0.006677496 -0.07049355 0.063119166 -0.06768445 -0.17974193 -0.9700719 -0.19077528 -0.2230379 0.08200898 -0.4070723 0.33778948 -0.10582427 0.052134402 -0.083333224 -0.11085809 -0.13042058 -0.07166935 -0.06013836 -0.08856422 -0.005229548 -0.13200493 0.07209415 0.060011543 0.071483195 -0.16627721 -0.23521012 -0.16843323 -0.06049595 0.06136105 -0.09173537 -0.08952361 -0.17451261 0.077206306 0.119348235 -0.12037004 -0.09757521 -0.13566019 -0.0076681604 -0.06641005 0.11544906 0.08847234 0.1768009 0.016832 -0.15360625 -0.068593994 0.027710173 -0.11415804 -0.6449492 -0.014630721 0.00904535 -0.1960068 -0.054692384 -0.14443344 -2.4062638 -0.18622045 -0.14349657 0.06522558 0.021375217 0.19244811 -0.54523695 -0.19156937 -0.21570975 -0.110155165 0.0436866 0.080443196 -0.1836066 -0.012317363 0.03350049 -0.18396837 -0.20975858 -0.2147193 0.084899254 -0.11498036 0.13093989 -0.22175033 0.042759642 -0.11210671 -0.088084415 -0.041182272 -0.031609725 -0.031072557 -0.15166369 0.020201035 -0.052258264 0.063878596 -0.08340142 -0.39094654 0.007795043 -0.0637024 -0.14583209 0.2856668 0.06533926 -0.24076179 -0.1740833 -0.07740052 -0.25375238 -0.12472598 -0.09216448 -0.08341971 -0.18122797 -0.11421827 -0.28937373 -0.058854703 -0.10770254 -1.0166955 -0.07916124 -0.10035805 0.015901355 -0.008724369 0.11918517 -0.06735136 -0.030828286 -0.73258334 -7.879119 -0.18590766 -0.28417668 0.24140157 -0.47416267 0.05539836 -0.043680187 -0.029618151 -0.039891127 -0.019931043 -0.18307416 -0.13415313 0.06008907 0.06824424 0.07722086 -0.43868566 0.16546255 -0.083256185 0.1014747 -0.5390673 -0.16485655 0.03539507 -0.27130312 -0.08440936 -0.033080976 -0.047900252 -0.01226064 -0.09960398 -0.06973973 0.057783447 -0.17083806 -0.031567186 -0.11788129 -0.18881898 0.40206 -0.01872898 -0.31026715 -0.070130795 -0.24828583 -0.16702552 -0.22943096 -0.079255156 -0.005807313 0.011291239 -0.020013932 0.03979757 -0.28733537 -0.21713406 0.12983634 -0.10889349 -0.094546914 -0.06962506 -0.07603546 -0.09399988 -0.2845842 -0.12806192 37.380783 0.00013983405 0.06675621 -0.07661598 -0.14815846 0.055681303 -0.130527 -0.08877087 -0.06522943 0.2811198 -0.08313612 -0.0888639 3.0356839 -0.120556824 0.124557905 0.023867853 -0.1407061 1.7010418 -0.052289635 0.014535052 -0.1789286 -0.045725815 0.059314035 -0.45648703 -0.15618972 0.10112116 -0.35269707 -0.09943372 0.035266176 -0.24732497 0.23904215 0.09800763 -0.03259714 -0.12521915 -0.096267916 -0.27575356 -0.02548614 -0.2869015 -0.08665103 -0.10298168 0.120119475 -0.16845714 -0.16523175 0.09115049 -0.05774471 -0.16676868 -0.08560047 -0.021791771 -0.25300068 -1.630315 -0.8551166 0.6930083 -0.12851982 -0.07996023 0.09038335 -0.038666774 -0.02606365 -0.20577587 -0.06757775 -0.181859 0.064734325 -0.05673783 -0.22104107 -0.03519977 -0.21017435 0.06506537 51.76245 -0.28269696 -0.026424583 0.014083641 0.03037054 -0.13071348 -0.05385461 -1.1098887 -0.10762963 -0.1132342 0.083836846 0.027931485 0.049458582 0.11679178 0.034449335 -0.3377565 -0.14339559 -0.13750666 -0.20345826 -0.2237909 -0.025913997 -0.0874739 0.01838145 -0.021368435 -0.055743285 -0.1396026 -0.031386632 -0.08184007 -0.14193146 -0.27950317 -0.35947582 -0.22392502 -0.23441681 -0.09903302 -0.04712707 -0.10359501 -0.11061528 0.013662405 -0.25786608 -0.09043291 0.015410435 -0.091241665 0.082767814 -0.13072613 0.08214327 -0.13409251 -0.06702709 -0.42195117 -0.2376135 -0.057843152 -0.06578232 0.024647435 -0.025268067 -0.23002331 0.019760545 -0.2780359 -0.074206315 -0.115210325 -0.6176919 -0.14392895 0.005742169 0.08096177 -0.20791724 -0.23082714 -0.31142995 -0.055894535 -0.22082147 -0.107414454 0.007629086 0.024900654 -0.16761012 -0.23462698 -0.088952534 -0.07784224 -0.1086174 -0.057813205 -0.14841162 -0.1940737 -0.11511125 -0.08091412 -0.02914272 -0.13946167 -0.16158031 0.100881346 -0.06414412 -0.07166573 0.15500525 -0.012896014 -0.23462397 -0.08947552 0.020709459 -0.15172344 0.088734165 0.04497127 0.20478953 -0.055339407 0.076199956 -0.28689677 -0.013889973 0.0053587775 -0.17451525 -0.072357625 -0.16737795 0.039627038 -0.087065324 -0.16370818 -0.21042718 -0.07574294 0.022539597 -0.007499132 -0.12736043 -0.08315679 -0.35086504 0.0724804 -0.2026415 0.094635785 -0.13095203 -0.014081731 -0.2861567 -0.1694756 -0.1691889 -0.090249866 -0.07302869 -0.21930751 -0.026025597 -0.13676263 -0.013253155 -0.26176247 -0.16751973 0.015113995 -0.19590458 -1.4792933 -0.043460924 -0.26803252 0.08412301 -0.3640543 -0.000869904 -0.14614153 -0.003923644 -0.4284918 -0.3525349 0.040317282 -0.23374274 0.064797945 -0.2607972 -0.10759859 -0.3174604 -0.21731837 -0.12800828 -0.017255027 -0.24722514 -0.24493769 0.036521908 0.18166074 -0.043910068 0.004164537 0.14677136 -0.16414408 0.06921875 -0.108943254 0.14346498 -0.05341426 -0.07156217 0.41305244 0.020171614 0.029646073 -0.15723488 -0.12680787 -0.00776831 -0.06788565 -0.19434491 -0.16303624 0.1615231 -0.08943082 -0.15402171 -0.14825073 -0.11282283 0.04220421 -0.59508705 0.042776797 -0.14549723 -0.06317726 -0.083040416 0.4584584 -0.16157241 0.023644997 -0.14612785 0.12248847 -0.09675215 -0.06535727 -0.001127217 -0.07390448 0.12351383 0.073080845 -0.10140356 0.06559712 -0.050421797 -0.019342504 -0.12374942 0.017513603 0.059717238 -0.043644413 0.06899831 -0.21211222 -0.0098646 0.004800718 -0.10137993 -3.1950312 -0.11907949 -0.27008942 -0.25912043 -0.26518905 -0.29264814 -0.007406124 -0.075110234 0.043182533 -0.24652946 -0.09052439 -0.17922483 -0.20870662 -0.23004171 -0.27357623 -0.1187203 -0.05916289 -0.26837707 0.08802551 -0.11888727 -0.14087662 0.16155842 -0.07424068 0.22970416 -0.13438745 -0.1702943 0.04804366 0.068965934 -0.07688769 -0.13774344 0.04251467 -0.09448896 0.15638578 0.05704225 -0.019522995 -0.1840218 -0.1529487 -0.17145844 -0.20773855 -0.2124914 -0.22051032 -0.380647 -0.6952909 -0.33621627 -0.013936123 -0.17897627 -0.19993171 -0.0051263175 -0.1818382 -0.016233671 -0.18318 0.062430095 -0.007593407 -0.18906613 0.06582145 -0.16434895 0.060119636 -0.2222689 0.039979376 1.18592 -0.21434183 -0.117462054 -0.030166835 0.047091935 -0.062497854\n",
            "\n",
            "computer -0.10415711 0.09353666 -0.32138252 -0.053685125 0.015922928 -0.10704636 0.11262994 -0.12141624 -0.100181945 0.07469848 0.41119772 -0.07878096 -0.067386545 0.115885064 -0.17661743 -0.07946549 -0.118835196 -0.12617044 0.07711134 -0.30610743 0.18827116 -0.06102407 -0.2640008 -0.10886356 -0.13825631 0.09187405 -0.2245855 -0.20809914 0.022170376 -0.33277845 -0.0621246 -0.054036573 -0.1255784 -0.34356642 -0.15656683 -0.06391063 23.378977 0.0005788627 -0.0714603 -0.008538427 -0.058531318 0.109341264 -0.022691958 -0.36298808 -0.06436127 0.054802414 0.050640233 0.018238196 -0.35994506 -0.16449113 -0.05946414 0.13827997 -0.4330727 -0.07209922 0.15318882 -0.15809032 -0.022964207 -0.24096234 -0.185934 -0.10415776 0.117080204 0.03538267 -0.02404985 -0.11123717 -1.0393816 -0.07767225 -0.13800327 -0.17279445 -0.18579048 -0.20841306 -0.09252965 -0.20004767 -0.09818937 -0.1910007 -0.11452522 -0.3160196 -0.32901165 -0.6445192 0.0063206316 -0.13794716 -0.43644488 -0.1118546 0.036604375 -0.19058573 -0.09051301 0.023785602 -0.19327237 -0.9896019 -0.04153629 -0.086923316 -0.10472214 -0.1857492 -0.3031876 -0.09619792 -0.199406 -0.032980036 0.031315546 0.017177965 0.07245403 0.38040677 -0.10607088 -0.034208123 -0.28026932 -0.13002294 0.07879561 -0.101347305 -0.1616093 1.4518429 -0.065228164 -0.051283106 -0.16131358 0.069427714 -0.13629846 0.026135469 -0.076771386 0.10001476 -0.05175012 0.08884454 -0.08533943 -0.14545472 -0.06520462 0.013361298 -0.012042454 0.04987657 -0.16472384 -0.038229015 -0.12699069 0.048607 -0.35929462 -0.049174838 0.033585545 0.0056563253 0.09320071 -0.24526662 -0.0139739085 -0.115371965 0.019704027 -0.09994592 0.7162697 0.055525206 -0.06781874 0.059714735 -0.87465364 -0.08702867 0.07664887 0.101795234 0.19327521 -0.10464426 -0.025129577 -0.1890766 -0.17353481 -0.14920653 -0.03662184 0.037074678 -0.21758103 0.005605768 -0.061034273 -0.28325835 0.037462477 -0.100255914 0.27973998 -0.06915604 -0.036177065 -0.07126788 -0.17414905 -0.09364237 -0.14557622 -0.33071828 -0.084882475 -0.11646284 -0.13784896 -0.12718175 -0.15310274 0.109125905 0.0077271345 0.024297297 -0.37356234 -0.1763367 0.020937338 -0.060388044 -0.20917746 0.051011026 0.018149914 -0.11756136 0.017933432 -0.16761874 -0.019847242 -0.10979757 -0.010502272 0.004432324 -0.16096878 -0.15007558 -0.11609885 -0.08100163 -0.16415884 -0.08552678 -0.07133695 -0.1107564 -0.18151544 -0.44602498 0.08285345 0.090392336 -0.105718225 -0.15680547 -0.051405586 -0.07253415 -0.15736987 -0.14978255 -0.17901456 0.04580788 0.059343137 0.18274795 -0.18395491 0.20955734 -0.07844274 -0.12085873 -0.22860871 -0.20033093 -0.17721051 -0.083567396 0.044532534 0.0016784879 -0.12674956 -0.24064575 0.027992472 -0.10768999 -0.07780457 -0.08879085 0.06433387 -0.10933538 0.18109709 -0.06693363 0.81851625 -0.053057093 -0.07920808 -0.17137112 -0.11722036 -0.12622432 -0.09884326 -0.053678937 -0.024447989 0.22652833 -0.0064616497 -0.13007997 -0.009180546 0.09140964 -0.15690006 0.20428057 0.026437847 -0.20350818 -0.43376568 -0.09245858 -0.016941601 0.2346684 -0.15160948 0.26446813 0.16207297 0.11216054 -0.030000595 -0.15036759 -0.09264177 -0.11223144 -0.020664392 0.09830312 -0.124333225 -0.27945104 -0.96798056 -0.058276277 -0.19934338 0.049090974 -0.12584567 0.8000941 -0.08148243 0.07497476 -0.20080046 -0.23905918 -0.072277196 -0.06620995 -0.13036247 -0.11232191 0.019078394 -0.1886324 -0.07963542 0.06223754 0.037817385 -0.030353457 -0.14186923 -0.20940647 0.1890259 -0.15788275 -3.0172512e-05 0.016888795 0.014798368 0.14707026 0.14240272 -0.12906347 -0.062917694 -0.12371402 0.025959617 -0.06789098 0.023197874 0.083988026 0.073688015 0.023796057 -0.15941328 -0.09347278 -0.0014997781 -0.09084876 -0.863747 -0.08167665 -0.034082137 -0.18682088 -0.0153194545 -0.02060727 -3.5745788 -0.14004342 -0.20960876 0.05566545 -0.14153117 0.14434637 -0.779774 -0.14798084 -0.21547121 -0.11339136 0.021374946 0.07815741 -0.35363838 -0.035166766 0.10106913 -0.14860281 -0.20194526 -0.10863926 0.05355199 -0.11841284 0.10060954 -0.30412346 0.07075759 -0.109996155 -0.14328618 -0.087478586 -0.046386033 0.0032221945 -0.09418266 -0.16319436 -0.10004581 0.09216796 -5.253691e-06 -0.30733243 0.01773319 -0.062368616 -0.23729642 0.3207531 0.07635482 -0.3012466 -0.13612026 -0.039232783 -0.28038058 -0.044667833 -0.12942578 -0.13855848 -0.089478225 -0.16432911 -0.33563268 -0.06961306 -0.10427434 -0.6048949 -0.20723103 -0.12711725 -0.045015045 -0.060332656 0.19915836 -0.06408991 -0.060427155 -0.7286565 -8.71944 -0.17720453 -0.27464762 0.13063039 -0.7470512 0.019226715 -0.0887711 -0.07349694 -0.06714667 -0.20836587 -0.09120032 -0.16848673 0.23728834 0.031036634 -0.027918192 -0.85022473 0.19445468 -0.05723753 0.061921034 -0.5498158 -0.19657136 0.0073782946 -0.20763378 -0.033717852 -0.025906747 0.004402835 -0.0077186883 -0.04870312 -0.2272796 -0.00199423 -0.118309826 -0.080279626 -0.06841528 -0.19323188 0.6035633 -0.017003944 -0.30879465 0.000936637 -0.13773444 -0.16722514 -0.1075714 -0.049063887 -0.016245697 -0.062514454 0.05055466 0.07653266 -0.29267198 -0.15894426 -0.053106587 -0.10041758 -0.06733308 -0.055205688 -0.1195474 -0.0952866 -0.20468388 -0.1865922 37.252865 0.04510945 -0.009643526 -0.025378963 -0.22698116 -0.08564049 -0.09610643 -0.010695579 -0.04846951 0.4625338 -0.09856694 -0.056647338 4.758532 -0.023808593 -0.017329462 -0.025590193 -0.14179394 1.699235 -0.111641526 0.07369246 -0.11577951 -0.028888572 0.026951605 -0.45379597 -0.08774145 0.17241256 -0.26673394 -0.020769909 0.042398486 -0.009670256 0.129095 0.08974841 -0.104943514 -0.11497055 -0.14733626 -0.25989944 -0.09166276 -0.24058697 -0.11336823 -0.0036074484 0.04458238 -0.10586164 -0.10605343 -0.009571172 -0.0012305164 -0.26149848 0.0165996 -0.115326285 -0.23232143 -1.8390511 -0.85301286 0.685924 -0.12193675 -0.0766139 -0.019431517 -0.07672624 -0.07262108 -0.090833806 -0.0750304 -0.24749641 0.1446491 -0.04847313 -0.16087954 -0.07967433 -0.15744925 0.09129947 51.370018 -0.36371443 -0.029589912 0.0027776076 0.06900699 -0.075735666 0.012517329 -1.1899685 0.0005752462 -0.13612984 0.053494133 0.0028227204 0.07280561 0.13075645 -0.0079220785 -0.25235444 -0.27194673 -0.10454739 -0.1324009 -0.33530018 -0.02442966 -0.017309213 -0.121805325 0.019927643 -0.03308111 -0.20512246 0.025170889 -0.025724342 -0.18293056 -0.2832402 -0.58080906 -0.3845705 -0.29332736 -0.13318732 -0.017060716 -0.13681634 -0.1491468 -0.050662797 -0.24952593 0.012535096 0.030695062 -0.15325594 -0.059134547 -0.07439922 0.45179105 -0.12871924 -0.036783215 -0.38609838 -0.1725771 -0.070792735 -0.09699307 -0.060963143 0.004416567 -0.2814308 0.0024167653 -0.1393864 -0.10254201 -0.13431725 -0.471205 -0.021312252 0.02483201 -0.007212254 -0.21779348 -0.2980561 -0.2634919 -0.06531661 -0.17250611 -0.14491172 0.024321377 -0.18399899 -0.004180818 -0.16074495 0.04812051 -0.16082147 -0.014113169 -0.07370734 -0.17387392 -0.16845123 -0.10966126 0.10037738 -0.013405576 -0.06276279 -0.09789456 0.00916334 -0.018255414 -0.020291472 0.10454753 -0.06165272 -0.134009 -0.10261055 -0.0018921574 -0.19761351 0.015447331 0.03329498 0.073870346 -0.043620892 -0.06401847 -0.11830468 -0.0057055834 -0.049139697 -0.14825152 0.026065547 -0.09827218 -0.067227915 -0.13902713 -0.16208301 -0.17333797 -0.078462236 0.08717127 -0.0495742 -0.12986584 -0.027218554 -0.47325283 0.10951627 -0.16948892 -0.05405435 0.05686744 -0.08326363 -0.22159618 -0.15933204 -0.107757606 -0.15958309 -0.13820435 -0.22210571 -0.033776164 -0.1406868 -0.07173385 -0.106363624 -0.070110895 -0.053575985 -0.22769761 -1.6295792 0.017805912 -0.22622153 0.016414769 -0.2166638 0.027461562 -0.09496085 -0.0151028745 -0.28380227 -0.35348442 0.023055607 -0.19523305 -0.0036386023 -0.25740087 -0.09322315 -0.2971492 -0.1584686 -0.07528212 -0.013273487 -0.29534405 -0.13602425 0.07721266 0.08292872 -0.03831043 -0.104014955 0.07683753 -0.07917109 0.023221461 -0.095163815 0.078359544 -0.035982948 -0.090366006 0.27693632 0.019083027 -0.015904222 -0.06303798 0.019964863 -0.09216021 -0.004199787 -0.11544771 -0.27726743 0.17234352 -0.05608795 -0.16640283 -0.18158816 -0.16135852 0.01352887 -0.7432795 -0.00511091 -0.19658566 -0.046751425 -0.029757341 0.3146716 -0.100238055 -0.038413424 -0.18123344 0.041232646 -0.08403472 -0.10180233 0.0042111357 -0.04114646 0.032875683 0.04231499 -0.089480035 0.08757255 -0.1002276 0.05985554 -0.098221764 0.027497206 0.056362007 -0.06642285 0.10377258 -0.09223434 -0.0036755216 0.07430355 -0.13849351 -3.8120248 -0.15129875 -0.19743823 -0.029966373 -0.113578685 -0.24073407 -0.07604669 0.111901395 0.04139959 -0.2159832 -0.11824214 -0.1357594 -0.13220762 -0.23262498 -0.18217151 -0.16232124 -0.12715906 -0.05624595 0.15026347 -0.047468886 -0.04595796 0.086405404 0.012589582 0.12721388 -0.26548833 -0.2320612 0.07545164 -0.0005268496 -0.018947134 -0.22335128 -0.050581377 -0.10878977 0.05766002 0.11703632 -0.065579124 -0.31622753 -0.20670258 -0.11760539 -0.18187258 -0.23872845 -0.09446718 -0.43645188 -0.629313 -0.17388844 -0.020897916 -0.18786332 -0.17075166 0.011416844 -0.18941286 0.042328928 -0.23139435 -0.11697923 0.0101915505 -0.2882395 -0.06750423 -0.16128369 -0.0036010349 -0.25179324 -0.01227105 1.1481994 -0.18026711 -0.09953489 -0.030300735 0.040050987 -0.09628186\n",
            "\n",
            "car -0.14900413 -0.08431415 -0.41364896 -0.0626742 -0.04999856 -0.08307296 -0.6813207 -0.032854263 -0.31617132 0.03204153 0.29104528 -0.041009165 -0.083598025 0.01977836 -0.1430645 -0.108508594 -0.074666895 -0.21364774 0.06970504 -0.27473122 0.08366153 -0.18361236 -0.11348514 -0.06254435 -0.1015046 0.10027851 -0.24990892 -0.09799572 -0.00018976588 -0.30047986 0.05240747 -0.038312767 -0.04254041 -0.25971252 -0.14976282 0.08936413 21.216173 -0.055014748 -0.086345494 0.089820996 -0.09476031 0.084784955 -0.08316253 -0.24090786 -0.116972044 0.005523898 0.0045324215 -0.041341763 -0.26714557 -0.074173085 -0.04523326 0.019408446 -0.16089818 0.010227281 0.11338737 0.0075114844 0.027218144 -0.19353685 -0.05869382 -0.10339343 0.15713991 -0.124820404 -0.0617782 -0.2572288 -1.0397847 -0.01563857 0.09089922 0.025814593 -0.2599294 -0.1647316 -0.14135674 -0.15095419 -0.18919818 -0.06600371 -0.07530537 -0.23901825 -0.25015864 -1.327 -0.015014913 -0.11849122 -0.33213586 0.004582223 0.08131981 -0.22272198 -0.017473016 0.24396525 -0.110618174 -0.9899459 -0.12254339 -0.0024284641 -0.10522978 -0.19522531 -0.3088413 -0.089184344 -0.23211615 -0.12978457 -0.1309949 -0.07972655 0.08732591 0.04400192 -0.10066448 -0.0023393075 0.19169867 0.0389517 0.069522254 -0.17430928 -0.22233069 1.6152008 -0.056470327 -0.11278102 0.055120204 0.04388441 -0.032644004 -0.100067794 -0.10323976 0.053847667 0.01674665 0.0918919 0.02869756 -0.21562569 -0.05954486 -0.07105822 0.002854749 0.079356275 -0.16893725 -0.08259562 -0.10520586 -0.021997131 -0.31409395 0.027205925 0.13322781 0.06497907 0.045796406 -0.17619723 -0.01978429 -0.16015661 0.041269224 -0.2550223 0.65375406 0.028329115 -0.074942075 0.026937181 -0.49602658 -0.035821803 0.07565191 0.15173818 -0.0102840075 -0.055539858 0.053693004 -0.17998257 -0.23100466 -0.17644098 0.09950303 0.0036821736 -0.2702125 -0.026670186 0.06899108 -0.20700474 0.08412466 -0.0812702 0.20513238 -0.020050405 -0.021107811 -0.08690381 -0.28082114 -0.019369373 -0.09474914 -0.4501337 -0.23729002 -0.008820783 -0.14119151 -0.020420095 -0.07639361 0.18600874 -0.047276344 -0.3213282 -0.18971756 -0.25344372 -0.10317704 -0.09326693 -0.14973123 0.0022992599 0.061185356 -0.14158313 -0.04274794 -0.14831495 -0.023294883 0.0729768 -0.10861472 0.09813337 -0.06425304 -0.113144875 -0.19943225 -0.062250096 -0.22510414 -0.05509073 -0.14179301 -0.08212795 -0.10502883 -0.3614546 -0.0064480705 0.06940169 -0.1638784 -0.18727618 -0.074431226 -0.025788555 -0.09637726 -0.12121402 -0.33922824 0.11961709 0.0417901 0.3328503 -0.044853803 0.12874672 -0.025876816 -0.077355534 0.12307449 -0.18321748 -0.1602134 0.0012592446 -0.0024523637 -0.19543009 -0.105548844 -0.21324961 0.066002294 -0.14433944 -0.04966513 -0.0688287 -0.05524399 -0.16566157 0.19981107 -0.047790755 1.688252 -0.11710206 -0.076936856 -0.2836611 -0.08877521 -0.047217105 0.049964428 -0.00478283 -0.09392668 0.24450557 -0.017040854 -0.0907975 0.067320585 0.072498426 -0.18190612 0.14326717 0.0059722336 -0.2813518 -0.5675785 -0.07521997 0.028999602 0.029870324 -0.15511523 0.17039081 0.06475592 0.15089323 0.010434223 -0.11459751 0.017082969 0.019063246 0.028328706 -0.089217834 -0.100941375 -0.22150835 -0.9681229 -0.13505976 -0.21334825 0.051301535 -0.34023452 0.18043362 -0.1895878 0.109648734 -0.28593117 -0.1504823 -0.21611895 -0.20148583 -0.259762 -0.17432816 -0.10504124 -0.11331497 0.0018154635 0.017788893 0.05493379 -0.12281925 -0.21547474 -0.17490526 -0.00571155 -0.15312526 -0.15287991 -0.086561486 -0.13319348 0.042021573 -0.02117663 -0.17843221 -0.0977677 -0.18535689 -0.056343645 -0.011243011 0.056556694 0.0013656861 -0.10563923 -0.084621996 -0.18493053 -0.08595678 0.061948996 -0.08330931 -0.9931081 -0.07713373 0.007185423 -0.13023992 -0.07599828 -0.10778725 2.499458 -0.24300468 -0.1363684 0.010226988 0.02806423 0.09286336 -0.42403212 -0.19164567 -0.14645289 -0.02866461 -0.059208836 0.008585773 -0.43173674 -0.06703907 -0.17147188 -0.08190539 -0.2215105 -0.16058503 0.065160505 -0.16209058 0.119092666 -0.3816915 0.0080751395 -0.044463348 -0.17303056 -0.008056841 0.055725664 -0.021225413 -0.24438867 -0.044841778 -0.056605637 0.00013473985 -0.01762895 -0.3385204 -0.08733487 0.08205575 -0.13303743 0.44201544 0.024998263 -0.14968592 -0.019837568 -0.07782727 -0.39097336 -0.06281818 -0.08455255 -0.17258984 -0.1260927 -0.116092674 -0.21534191 -0.111529894 -0.12110925 -0.21888141 -0.1212799 -0.033689737 0.10109543 0.069399625 0.15337542 -0.06977669 0.054445457 -0.7182607 -7.4076214 -0.2777367 -0.021665838 0.0018690457 -0.46274376 0.058860093 -0.07331444 -0.068008035 -0.122785635 -0.18709005 -0.25672308 -0.18559474 0.19705184 -0.011441316 -0.035569213 -0.14174938 0.088494815 -0.086685084 0.09645745 -0.56846094 -0.12122586 0.07057387 -0.2805768 -0.03447201 0.004653722 -0.031650588 -0.01748424 -0.0783696 -0.20998053 0.046571646 -0.11900405 -0.1120925 -0.05646557 -0.26924554 -0.28254616 0.001624529 -0.30951634 -0.07640684 -0.16420779 -0.17973515 -0.18935475 -0.10718891 0.047407728 -0.043172564 0.033876605 0.02086825 -0.28925085 -0.19040234 0.034570772 -0.121677734 -0.103700355 0.03771579 -0.07476279 -0.1202913 -0.19805992 -0.2032377 36.048367 -0.009073277 -0.06710216 -0.0027215471 -0.18673074 -0.056085493 -0.17205665 0.030688563 -0.09550326 0.44005826 -0.11878428 -0.039330136 6.484686 -0.082398616 0.015253621 0.034106623 -0.0590801 1.6985217 -0.073093675 0.060284134 -0.21106209 -0.12030528 0.13776352 -0.59992176 -0.041240465 0.22103098 -0.19496402 -0.13935004 -0.043980464 -0.013001786 0.2539415 0.11455508 -0.06747393 -0.13553052 -0.17250183 -0.13438098 -0.09177084 -0.2104688 0.041651018 -0.026865566 0.15468049 -0.07775573 -0.14311853 0.0036142252 -0.026855513 -0.18817294 -0.034679614 -0.10966921 -0.19689831 -4.113751 -0.853528 0.67381054 -0.14254439 -0.07514141 0.15491894 -0.12650052 -0.1400274 -0.17651981 -0.0972911 -0.1710222 0.13784865 -0.18050203 -0.16808902 -0.019177599 -0.21109779 -0.039011423 52.063156 -0.3203062 0.02050841 0.010233734 -0.03811187 -0.13949879 -0.0079568075 -0.5266523 -0.13025662 -0.056176435 0.021934018 0.020701123 -0.07997327 0.0914407 -0.03014898 -0.37994862 -0.11311455 -0.036599733 -0.1258985 -0.15395524 0.00062448316 -0.004482295 -0.20420477 -0.16763476 -0.12938085 -0.22398366 -0.11846541 -0.18340373 -0.12526041 -0.20223609 -0.22037117 -0.2424355 -0.19671118 -0.10638817 -0.08919275 -0.075549826 -0.13181901 -0.013948812 -0.2544107 0.04004334 -0.038274292 -0.07290593 -0.037500102 -0.08556136 0.13461278 -0.13886634 -0.08476826 -0.43025652 -0.13037544 0.042127322 0.006155653 -0.023435354 -0.026086064 -0.21239512 0.04169638 -0.08127688 -0.13390051 -0.3015173 -0.511027 -0.046118923 0.008461559 0.063074745 -0.17968124 -0.3087847 -0.22716251 0.004217289 -0.14773802 -0.10814379 -0.10134224 -0.016467432 0.08749059 -0.088645704 0.06346302 0.0016998384 -0.04925622 -0.02008739 -0.089793265 -0.20573269 -0.12468605 -0.20150828 -0.050488144 -0.11398793 -0.15917678 0.008243184 0.042858686 0.007314712 0.26107997 -0.07650983 -0.069751434 -0.07863471 -0.0060193953 -0.22357112 0.16838877 -0.054649074 0.14594078 -0.025658598 -0.011711513 -0.07333391 -0.044772405 -0.0568791 -0.11143063 -0.02331986 -0.0719271 -0.0036798613 -0.08353086 -0.16608895 -0.36711153 -0.06416737 -0.033281337 -0.026550397 -0.016207932 0.0062890523 -0.3243936 -0.032566063 -0.08721909 -0.16302149 -0.00012285274 -0.07697537 -0.2794541 -0.064562686 -0.0933041 -0.1894411 -0.12654547 -0.1645657 -0.08347178 -0.08091845 -0.00060897676 -0.05153368 -0.010816221 -0.1712247 -0.12022721 -0.50619656 -0.03831482 -0.29028234 -0.022228783 -0.2296608 -0.014464843 -0.11169119 -0.015674083 -0.34775132 -0.19039027 -0.04713986 -0.24405515 -0.012427115 -0.2705277 -0.13224876 -0.2733214 -0.09097904 -0.054012697 0.0047718 -0.25423887 -0.083216056 -0.013823474 -0.28580225 0.014872166 0.12925708 0.18833826 -0.17200568 -0.04040308 -0.20718206 -0.004489078 0.10077975 -0.11589592 0.60527 -0.017325647 0.028722517 -0.04254834 -0.0035787502 0.017588915 -0.024930626 -0.18242702 -0.2883369 0.112010315 -0.15479948 -0.008928729 -0.14986208 -0.041735183 0.03663915 -0.5289243 0.005194423 -0.10834499 -0.01968568 -0.021119755 -0.64960796 -0.22539882 0.030218374 -0.1324391 0.0035482787 -0.16497508 0.09874216 -0.046635382 -0.07368798 0.112793155 0.030370671 0.07213318 0.042849105 -0.046720155 -0.0100086685 -0.20739195 -0.07773218 -0.013632893 -0.019256985 0.0877981 -0.13441533 -0.06468024 -0.073784776 0.081417814 -7.6002493 -0.18489414 -0.23251213 -0.17648809 -0.22025202 -0.17071332 -0.010367426 -0.09973452 0.0034713196 -0.19398767 -0.1473962 -0.103425816 -0.03728954 -0.14912999 -0.2714052 -0.09222434 -0.019116774 -0.16782159 0.025396923 -0.1183353 -0.1815943 0.18243223 0.07535488 0.10669074 -0.25154698 -0.13427 0.024268705 -0.017133828 -0.055828944 -0.23309354 0.033039726 -0.09395495 0.010396941 0.0046862867 0.02939887 -0.045498725 -0.4013212 -0.1735847 -0.116029866 -0.21435821 -0.16858909 -0.36771923 -0.41694614 -0.031467054 -0.009036149 -0.1462927 0.012934748 -0.013037601 -0.19423169 -0.01807428 -0.18665259 0.063268825 0.04597635 -0.10597399 -0.13801691 -0.11233679 0.096223116 -0.20934705 0.033587664 1.2123462 -0.16010873 -0.0046088137 -0.12985028 -0.06745087 -0.126628\n",
            "\n",
            "house -0.17661092 -0.045149267 -0.31366348 -0.04128176 0.047194026 -0.19625168 0.1467333 0.01767166 -0.26249516 0.013550962 0.41192356 -0.074324556 -0.063575536 0.03538467 -0.23821542 -0.06705718 -0.23291066 -0.16228077 0.058480956 -0.17736992 0.12048104 -0.095129654 -0.30852434 -0.12118922 -0.061938528 0.115941 -0.23047589 -0.12592287 -0.07201657 -0.21987548 -0.03880115 0.01096264 -0.07126263 -0.30981982 -0.14845772 0.22775394 23.196835 -0.0006783838 -0.028055903 0.023356384 -0.017638143 0.12994546 -0.06681188 -0.3365753 -0.074471705 0.010013565 0.0048904475 -0.020147322 -0.24920526 0.042487882 -0.054702044 0.10056345 -0.18301389 -0.060292337 0.061846312 0.067117125 0.037579447 -0.27371025 -0.13677905 0.06804975 -0.0028552124 -0.06799714 0.021282459 -0.107020624 -1.0412484 -0.06515204 -0.062627755 -0.053576622 -0.23022367 -0.17262477 -0.14124487 -0.24029385 -0.15044607 -0.07430141 -0.118355714 -0.29947418 -0.14863971 -0.7609909 0.06786703 -0.06710725 -0.3252268 -0.06952735 0.02721351 -0.24180877 -0.078064024 0.047957104 -0.094884895 -0.99063677 -0.090229064 -0.20471597 -0.060472373 -0.23296034 -0.2740993 -0.09264684 -0.17134148 -0.051831003 -0.114422716 -0.06662745 0.04179607 0.1613682 -0.159491 0.050604675 -0.17453338 -0.09261081 0.023336703 -0.07656776 -0.13923597 1.2654679 -0.01001199 -0.14816293 -0.071329795 0.060057785 -0.1180912 0.043775197 0.011397098 0.117123514 0.02662168 0.043415662 -0.08270412 -0.12816995 -0.06464942 0.117884986 -0.04919064 -0.003901445 -0.14176932 -0.0077253715 -0.08912534 0.03264886 -0.28102854 0.018303733 -0.06817936 -0.060054168 0.12605807 -0.08368811 0.012911052 -0.04189858 0.06341099 -0.34707597 0.7337345 0.013970092 -0.06406908 0.046637606 -0.55927414 -0.07786338 -0.0032966342 0.12911339 0.12954447 -0.031292465 0.037605148 -0.22626245 -0.15846193 -0.23653886 0.11701301 -0.07374141 -0.21251766 0.023298303 -0.019456295 -0.20517975 0.016531492 -0.019161405 -0.1619102 0.0024078495 -0.004796789 -0.14144151 -0.17844827 -0.028272917 -0.11988245 -0.93234056 -0.09604658 -0.093228914 -0.15418543 -0.106736235 -0.13583548 0.15959984 -0.053345677 -0.18696247 -0.29765508 -0.1517528 -0.070953235 -0.08314256 -0.22408456 -0.0031305354 0.010535677 -0.10019253 -0.049687725 -0.12293947 -0.115829274 -0.09220312 -0.004255689 0.03385272 -0.061104544 -0.13896465 -0.26956487 -0.08190932 -0.15535434 -0.090256914 -0.099811666 -0.01349992 -0.07121917 -0.1774597 -0.06448626 0.12352985 -0.1080839 -0.14859486 0.018419815 0.018012535 -0.13844386 -0.15241 -0.19440897 -0.04717309 0.09096603 0.09653553 0.013235799 -0.28161776 -0.031202557 -0.15167856 -0.0987404 -0.20784399 -0.16774328 -0.041755438 0.03581962 -0.048940435 -0.044760413 -0.13549237 -0.033954892 -0.09026302 -0.099178806 -0.13693772 -0.04781622 -0.06378866 0.15291144 -0.08346802 1.0173566 -0.07041272 -0.086038135 -0.13067119 -0.14041866 -0.04605847 0.06945377 -0.09873615 -0.09552386 0.106808685 -0.007115387 -0.0730765 0.0142830545 -0.010903187 -0.23137836 0.25511655 0.02877939 -0.18401343 -0.3657834 -0.20865072 -0.029640231 -0.062312704 -0.2446527 0.07904946 0.14887534 0.10019501 -0.07570721 -0.050924215 0.001631799 -0.114180915 -0.012825912 0.0050877864 -0.11924565 -0.21881145 -0.96974885 -0.15425809 -0.17110099 0.18204807 -0.27512342 0.4406543 -0.16545685 0.03007775 -0.14897631 -0.15242434 -0.06753206 -0.22526275 -0.07725636 -0.09372108 -0.06263705 -0.11844222 -0.007724325 -0.06802223 0.121084735 -0.14051099 -0.16678114 -0.100671865 -0.060157932 -0.3973126 0.026681334 -0.09184333 0.06141688 0.10321624 0.16750793 -0.14720058 -0.11898147 -0.2406222 -0.053470634 0.02252549 -0.028330863 -0.06098182 -0.018559018 -0.029360134 -0.17894122 -0.02660851 0.03780918 -0.098143294 -0.9205452 -0.023056813 -0.052530747 0.043985825 0.009861374 -0.093716145 -1.3089501 -0.17850246 -0.14269474 0.0076522385 -0.06032566 0.12892231 -0.6885228 -0.080635116 -0.16822024 -0.075644426 0.020817429 0.07106548 -0.4133128 0.014075946 -0.06660028 -0.20077315 -0.18248169 -0.07229484 0.09590322 -0.15435314 0.12056691 -0.28480354 0.03507296 -0.08418298 -0.075863905 -0.014465662 0.002027316 -0.04931153 -0.110459 -0.15669182 -0.047146622 -0.027583033 -0.05833507 -0.25166988 -0.03363239 0.07524915 -0.14200893 0.025855115 0.0991048 -0.13843273 -0.016890543 -0.11654878 -0.6151429 0.02177365 -0.05786554 -0.07198696 -0.089102715 -0.20705289 -0.3092864 -0.028413035 -0.11442785 -0.95824647 -0.09115117 0.01773534 0.022288425 0.014619923 0.051805843 -0.07086189 -0.032263692 -0.73750377 -7.080442 -0.19202651 -0.22688526 0.100056276 -0.72142136 0.01872334 0.0049742856 -0.056102943 -0.053587638 -0.2604615 -0.20897041 -0.21961868 0.19233792 -0.012268389 -0.026896313 -0.47729954 0.15075721 0.03349693 0.13564734 -0.51739526 -0.15405878 0.052689977 -0.3856905 -0.011512171 -0.0030048033 -0.03640913 -0.01530949 -0.07033583 -0.26280788 0.03997658 -0.12062802 0.04095705 -0.104788065 -0.15615685 0.47765368 0.008745935 -0.24612406 -0.041500345 -0.22165284 -0.088915594 -0.0719411 -0.1543182 -0.0565834 -0.12537512 0.022719068 0.007716065 -0.21524416 -0.21831153 0.07410724 -0.088076286 -0.062649205 -0.07410981 -0.08937219 -0.08683535 -0.17633909 -0.21154864 36.894535 0.0042891707 -0.009736555 -0.034709033 -0.1748955 -0.011696375 -0.14856684 -0.1078788 0.045453444 0.34328687 -0.04141516 -0.029366087 4.9350452 -0.054758374 0.056729145 -0.0019614254 -0.15096419 1.7013227 -0.16516288 0.05205455 -0.21986021 -0.08463469 0.039905515 -0.4845525 -0.06546895 0.086152874 -0.27432182 -0.083387785 0.008529295 0.07649182 0.22892207 0.061796382 -0.009053348 -0.14653222 -0.16963354 -0.26166126 -0.08875393 -0.22863811 -0.036755666 0.0020674197 0.07769994 -0.098937556 -0.18978398 0.015033515 -0.030347755 -0.1636617 0.040460408 -0.14606336 -0.20777711 -2.278405 -0.8545879 0.6927467 -0.13080387 -0.055731323 -0.05618633 -0.037760638 -0.073987745 -0.13700156 0.09159022 -0.1110692 0.15755115 -0.063506596 -0.1519693 -0.09988035 -0.20585738 0.0501434 53.477684 -0.40959743 0.055129293 -0.04918855 0.05557719 -0.083914615 -0.014713394 -0.88359356 -0.06962036 -0.052438375 0.047794044 -0.04628427 0.048166268 0.0016245962 -0.05253968 -0.27226025 -0.036554143 -0.10498072 -0.07932628 -0.30908382 -0.042429198 0.0057182806 -0.14811629 -0.10691122 -0.08566718 -0.13136637 -0.07938808 -0.08519627 -0.04372156 -0.2283571 -0.22079334 -0.2722026 -0.32918948 -0.16494058 -0.07636432 -0.061926126 -0.10013474 0.01654056 -0.22037818 -0.00980225 -0.019206356 -0.22750427 -0.03335353 -0.17519635 0.21963969 -0.20700918 -0.115684025 -0.28558007 -0.11819439 -0.08041045 -0.06330296 -0.09523041 0.01357267 -0.21025142 0.03272298 -0.06062249 -0.06863536 -0.1463158 -0.58712006 -0.05073751 -0.015014196 0.066610515 -0.13494901 -0.31694525 -0.19231765 -0.080232784 -0.11452928 -0.01815643 -0.033111125 0.042965937 -0.17478664 -0.32781932 -0.030735305 -0.2821993 -0.077627994 0.013762543 -0.118791595 -0.13287316 -0.06003 -0.13565673 -0.029509632 -0.11900603 -0.24005224 0.05121942 -0.0036131544 -0.00831293 0.18231909 -0.043798015 -0.11432633 -0.028461235 -0.04122637 -0.18777828 -0.033038124 -0.017751116 0.17108355 -0.063942626 0.020553067 -0.11480433 -0.013072242 -0.04928229 -0.087111644 0.026722252 -0.06933572 -0.089799665 -0.08746562 -0.11136437 -0.26246694 -0.00814775 -0.052763615 -0.0015335147 -0.10113988 -0.07467652 -0.39756438 0.073075525 -0.16614747 -0.05721093 -0.08351199 -0.020391976 -0.16902629 -0.16730917 -0.054749962 -0.13316195 -0.05765425 -0.18406044 -0.032480113 -0.058441777 -0.003164548 -0.02902062 -0.059906248 0.06564422 -0.19670686 -1.121758 -0.043717988 -0.28063884 -0.013514174 -0.22596969 -0.011083484 -0.12363037 0.015338715 -0.58237433 -0.32459217 0.0033088976 -0.26101506 -0.023753297 -0.3222027 -0.1467551 -0.28226635 -0.29620865 -0.14007825 -0.048759546 -0.29015067 -0.17500333 0.062589705 -0.075320505 -0.004266105 -0.028605307 0.14463069 -0.17618863 -0.08560852 -0.087509945 0.028411655 0.088586725 -0.07935035 0.42510614 -0.043123458 -0.039564632 -0.10737072 -0.062810235 -0.013909605 -0.108059004 -0.1489072 -0.1954267 0.14284259 -0.09612308 -0.1202716 -0.15674366 -0.11741582 0.09785079 -0.7266661 -0.029732581 -0.1695006 -0.12563078 -0.03760721 -0.10280498 -0.14557938 -0.00536384 -0.21786691 0.11597329 -0.13776407 -0.04529547 -0.0018435185 -0.091874726 0.029523553 0.030313961 -0.03694102 0.13248259 -0.06597821 0.006851092 -0.12134391 -0.1511921 0.025274677 -0.02387587 0.006750423 -0.004201948 0.04983102 -0.060424265 -0.07587667 -3.59734 -0.20245619 -0.22136472 -0.3688834 -0.21277352 -0.24011308 4.087886e-06 -0.03622721 -0.04270636 -0.14675352 -0.18552515 -0.15646632 -0.16527323 -0.18370533 -0.19564952 -0.1939053 -0.009221042 -0.23892534 -0.005313192 0.08994399 -0.11282316 0.09639639 0.047507834 0.16310583 -0.20593277 -0.1988154 0.11365667 -0.03363057 -0.036461975 -0.2689175 0.03906221 -0.081234165 0.07340695 0.07365895 0.021625409 -0.24189559 -0.34502703 -0.12292236 -0.17916837 -0.2816139 -0.09351054 -0.32325035 -0.59567523 -0.14626239 -0.015374436 -0.088506885 -0.074163936 -0.017626455 -0.11578811 0.020074697 -0.20614907 -0.041240133 -0.01733927 -0.14376247 -0.13487248 -0.087140545 0.09512121 -0.25025958 -0.0023245024 1.1752846 -0.109154664 -0.07536525 -0.05504169 0.013595171 -0.0800633\n",
            "\n",
            "job -0.0073501808 0.054302435 -0.46864158 -0.04113087 0.054020826 -0.10855029 0.26877326 -0.10315967 -0.15855902 0.017304132 0.33396122 -0.0453882 -0.031672657 -0.017828742 -0.13603109 -0.07157732 -0.041035976 -0.14628196 0.12974632 -0.26828963 0.13529903 -0.119068585 -0.30508924 -0.17400916 -0.049142282 0.008475739 -0.2710239 -0.20283228 -0.07524117 -0.20082675 0.011406085 -0.027361784 -0.024195164 -0.33167446 -0.13065484 0.36881596 21.40138 0.018173236 -0.035914045 -0.008920697 -0.009499539 0.015758827 0.033549387 -0.28780234 -0.20459592 0.016207846 0.028177004 -0.012032352 -0.23952127 -0.16374129 0.06455118 0.15055624 -0.22717819 -0.12865113 0.12120626 -0.04842041 0.008314619 -0.043912206 -0.10062139 -0.21223924 -0.024185462 0.040311337 -0.06348722 -0.01610806 -1.0414199 -0.068016216 -0.059979822 -0.19437982 -0.3265077 -0.11225522 -0.15096492 -0.18984535 -0.085097 -0.20408353 -0.1356772 -0.32636327 -0.2243074 -1.0740745 0.130462 -0.13627808 -0.47114813 -0.12413575 -0.028735898 -0.2794885 -0.044737943 0.25917715 -0.021299807 -0.9907847 -0.10325936 -0.14357032 -0.058663104 -0.292253 -0.39607197 -0.054386508 -0.24673814 -0.060802557 0.03201114 -0.06413792 0.011012972 -0.04039271 -0.10252349 -0.033283193 0.3895256 -0.10853407 -0.04011522 -0.11793963 -0.12928559 2.6090279 -0.11946475 -0.1436209 -0.03308636 0.08213554 -0.1846794 -0.03500106 -0.08900046 0.10049242 -0.092154 0.060325164 -0.02649795 -0.06475639 -0.14355165 0.062804945 -0.011506634 -0.03246485 -0.05153326 -0.055851746 -0.08024947 0.009665321 -0.16557378 -0.094506875 -0.029412813 0.017773625 0.14875591 -0.13721325 0.01372395 -0.08833188 0.0037656275 -0.23456287 0.7127989 0.18965739 -0.013717251 0.10056477 -1.1451622 -0.09324087 -0.02334929 0.13952555 -0.013937188 -0.05485955 0.031739935 -0.23763546 -0.15867308 0.09684558 0.083461896 -0.07670692 -0.10016324 0.009808871 -0.014793379 -0.1724168 0.06978716 -0.08339235 0.28139603 -0.07200666 0.05488328 -0.13867952 -0.24905045 -0.0838173 -0.06794478 -0.56658393 -0.11882676 -0.1670161 -0.033778638 -0.07499904 -0.1774363 -0.0071836407 -0.0059129484 -0.118669495 -0.1765688 -0.23494938 0.06886643 -0.053093087 -0.103515536 0.007838694 0.048650388 -0.17884947 -0.009391112 -0.09245352 0.010792456 0.0010504075 -0.091993175 0.03759775 -0.14411576 -0.0712262 -0.16574815 -0.12764612 -0.13277796 0.035707995 -0.11902172 -0.15733631 -0.11279295 -0.32558763 -0.04331495 0.0010016814 -0.13861859 -0.1914973 -0.022240054 -0.06841207 -0.09173081 -0.16271497 -0.23858401 0.014062169 0.10666015 0.14154415 -0.0764186 -0.2220089 -0.06686036 -0.103941925 -0.31034914 -0.17060861 -0.21587723 -0.002308308 0.012244924 -0.1373094 -0.11127663 -0.13349044 0.09569651 -0.09420449 -0.04445843 -0.11180347 0.023512512 -0.025136704 0.18020543 -0.13068472 1.11606 -0.09284242 -0.12538593 -0.21907467 -0.22407971 -0.115536824 -0.08181856 -0.15535541 -0.18336284 0.13588889 0.06089949 -0.07863748 -0.004096038 0.10251746 -0.155246 0.28482932 0.023954092 -0.19671272 -0.36923966 -0.020937547 -0.039223358 0.046047453 -0.12364015 0.22376794 0.14543752 0.08397553 -0.12374593 0.046129186 0.0088682175 -0.091458365 -0.092891514 0.0062553254 -0.02792713 -0.17866036 -0.9698365 -0.17213207 -0.268693 0.037016034 0.026067657 0.6763714 -0.15368633 0.025935505 -0.043187954 -0.2251324 0.15223458 -0.19469708 -0.13017651 -0.08581961 0.0118152015 -0.08871583 -0.058069244 0.10089017 0.05004819 -0.06144254 -0.3252348 -0.15722802 -0.11233941 -0.12440303 -0.069793366 -0.06562929 -0.03765353 0.07471472 0.049476378 -0.17563738 -0.11194594 -0.2136819 0.030193655 -0.03028305 0.068559304 0.06941511 0.0022129691 0.022804793 -0.07164276 -0.027823178 0.082600236 -0.14282055 -0.60068995 -0.0964281 -0.002477748 0.0402323 0.026331386 -0.022018446 -0.20183058 -0.2025196 -0.12717968 -0.04291117 -0.053547624 0.04102655 -0.5817236 -0.13748601 -0.14222763 -0.10163121 -0.020118633 0.07244386 -0.22085352 -0.020094523 0.08270405 -0.15890706 -0.293183 -0.15012878 -0.08935218 -0.11894136 0.09697365 -0.304477 -0.019183503 -0.22916712 -0.0957579 -0.13307816 0.012351786 -0.0038933104 -0.11507827 -0.21866758 -0.081112154 0.064077124 0.02532329 -0.30949092 0.057368226 0.053747516 -0.13250922 0.20811068 -0.034189858 -0.21662931 -0.08716897 -0.09318801 -0.5202866 0.024446335 -0.044872496 -0.059560407 -0.20328718 -0.17162353 -0.46034157 -0.08071766 -0.09756723 -0.67278713 -0.07020919 -0.085525446 0.04114105 0.028690247 0.36757827 -0.0785228 0.008562142 -0.7327647 -8.079729 -0.1471089 -0.23885056 -0.05808886 -0.61946785 -0.066805065 -0.060331576 -0.108636245 -0.12183839 -0.193279 -0.23967549 -0.158127 0.107557744 -0.019214112 0.06296302 -0.6428131 0.19400205 0.032216586 0.05825354 -0.5304226 -0.16905853 0.034085367 -0.27093124 0.015911795 -0.025380827 -0.039996818 0.015182201 -0.030761713 -0.11213882 0.008123287 -0.20818299 0.010557359 -0.2197658 -0.15426144 0.16155654 -0.018208599 -0.24824359 0.022469629 -0.17313972 -0.1040191 -0.09483878 -0.17972621 0.043125927 0.057025217 -0.1195337 -0.021507045 -0.14083049 -0.3184236 0.0633308 -0.0765228 -0.0776614 -0.041791465 -0.114491545 -0.016910521 -0.18430091 -0.24629244 39.740345 0.061140705 0.029131353 -0.064016834 -0.13944653 0.025945062 -0.17430882 -0.12586974 0.03257491 0.3138674 -0.13207653 0.0019153992 4.9211183 -0.104009345 -0.03007138 -0.04629923 -0.19396819 1.6997416 -0.13074628 0.11026283 -0.2749243 0.016183257 0.0882335 -0.4617742 -0.11866759 0.14282937 -0.28996044 -0.057784032 -0.061107878 -0.040224344 0.30363047 0.12806202 -0.03599445 -0.1657615 -0.14321385 -0.16690071 -0.025044013 -0.17641091 -0.0924393 -0.010835199 0.10250211 -0.0006411327 -0.07106926 0.040729165 0.042719588 -0.21654667 -0.0067037693 -0.23211534 -0.23473133 -3.3301623 -0.85441744 0.6896166 -0.08766823 -0.15564582 0.051808245 -0.021171466 -0.071559235 -0.038486518 -0.037502423 -0.20401213 0.17557508 -0.12163571 -0.13105732 -0.11390527 -0.1650035 0.035519514 55.455624 -0.3421029 -0.014559198 -0.024601236 0.06516664 -0.039132487 -0.062431574 -1.2690488 -0.11042942 -0.14191261 0.01673744 0.013393984 -0.04608826 0.007805308 -0.047729447 -0.30444625 -0.15454142 -0.24417715 -0.18859065 -0.31907547 -0.08276942 -0.12243834 -0.15461658 -0.11131179 -0.064748056 -0.10079928 -0.0631154 -0.063503355 -0.15261629 -0.30109963 -0.1789432 -0.36908436 -0.2518158 -0.07605826 -0.09433909 -0.025860656 -0.046933208 0.01718633 -0.42956242 -0.041090738 0.0063109626 -0.1874938 -0.20198302 -0.04658034 0.43130577 -0.22408676 -0.08587469 -0.40270928 -0.20853928 -0.059144173 -0.064229086 -0.15489347 -0.026749508 -0.36778533 -0.02253591 -0.076723866 -0.12944832 -0.1438405 -0.8245081 -0.017765399 -0.040958997 0.07999057 -0.17023502 -0.27298537 -0.19188692 0.05331675 -0.1475187 -0.066164464 -0.020659203 -0.04803246 0.16067256 -0.24606673 -0.0041418504 -0.119208455 -0.059847932 -0.042522706 -0.13869745 -0.14602314 -0.15387595 -0.066307455 -0.011439777 -0.009561276 -0.32302386 0.16745335 -0.0019867232 -0.06485244 0.09036943 -0.022248322 -0.096837014 -0.1567414 0.067585625 -0.24740116 -0.06451262 -0.029797954 0.0832226 -0.06407884 -0.01432995 -0.09944005 0.0003136373 -0.0547271 -0.10330906 -0.019096754 -0.05066402 -0.119060144 -0.00029404412 -0.13503079 -0.2138319 -0.01874257 0.06796237 -0.0468276 -0.12739101 0.030793242 -0.36822504 0.0039479407 -0.19555463 -0.020663792 -0.010438299 -0.055701263 -0.14586115 -0.19493745 -0.13253869 -0.15796907 -0.1451025 -0.21213353 -0.058699526 -0.05339269 -0.13297991 -0.028024804 -0.11576552 -0.019424886 -0.1582542 -1.5403621 -0.0087264655 -0.17340466 0.12343664 -0.31735307 -0.0042292434 -0.09242204 0.038544897 -0.44930196 -0.32492688 0.031324103 -0.21809413 -0.043666493 -0.30972853 -0.17456308 -0.49737018 -0.17287984 0.15552911 -0.023811193 -0.22250473 -0.270307 0.074006096 0.032242056 0.001190088 0.09404391 0.16509415 -0.16601454 -0.02622503 -0.044350468 -0.00817732 -0.015468235 -0.13717794 0.41376507 -0.073675685 0.035601113 -0.11796004 -0.025318727 0.011350373 0.033739317 -0.2543355 -0.24329628 0.22628221 -0.10932085 -0.013423043 -0.08386406 -0.094962284 0.022326691 -0.5803234 0.008368795 -0.10723729 -0.100947306 0.009185096 0.5359595 -0.15536733 0.032159213 -0.2306984 0.028067702 -0.12241717 -0.18975371 -0.055699207 -0.05106085 0.02558024 0.019883867 -0.13444456 0.09668812 -0.041092563 -0.011561252 -0.12931064 0.04140874 0.07303395 -0.05257196 0.112006985 -0.110767506 -0.008685071 0.20512973 -0.08437031 -6.1118913 -0.1589166 -0.23871613 -0.1639357 -0.26766977 -0.09248532 -0.11000135 -0.076762885 -0.03768185 -0.2312104 -0.17028226 -0.2474802 -0.18171765 -0.1768708 -0.20267145 -0.11897323 -0.0025845438 -0.1437378 -0.03137849 -0.049561538 -0.11107061 0.16965365 -0.040178057 0.29623318 -0.1710116 -0.16592118 0.07867686 -0.105512194 -0.046649937 -0.19080982 0.06617975 -0.16609083 0.08424978 0.08957193 -0.043043267 -0.16429104 -0.21359405 -0.14687295 -0.22875968 -0.17271267 -0.057251073 -0.23955607 -0.5120662 -0.06009177 0.10973391 -0.22186969 -0.08091331 0.03407933 -0.17399547 0.041216284 -0.22587389 0.05694832 -0.02199777 -0.17214023 -0.033732135 -0.0912133 0.15175557 -0.30120194 -0.029594537 1.7150582 -0.20853238 -0.08390187 -0.11107383 -0.011191435 -0.09564373\n",
            "\n",
            "school -0.10653442 -0.06802775 -0.5129539 -0.021803573 -0.061968233 -0.23443413 -0.94263023 -0.03472254 -0.1584727 0.049518943 0.3981271 0.02216919 -0.11000754 -0.0062526832 -0.18567444 -0.08270194 -0.17804867 -0.18433887 0.055972796 -0.1521926 0.15687053 -0.055205688 -0.28695184 0.018929403 -0.11769297 0.13898371 -0.21747796 -0.1404838 -0.1416214 -0.25245845 -0.105441056 -0.17475666 -0.06823862 -0.34861943 -0.19092837 0.20381314 24.266088 0.06123188 -0.071040764 -0.103284284 -0.011976214 0.030024251 -0.041027904 -0.38372105 0.048631642 -0.006836319 0.018253073 -0.006719687 -0.24845482 -0.06772068 -0.047977615 0.1348643 -0.16858701 -0.024904922 0.08422217 -0.14226049 -0.11573561 -0.32033148 -0.21768594 -0.093233496 0.06018367 0.017609142 -0.08103786 -0.093159825 -1.0390428 -0.014364322 -0.12142127 -0.17338453 -0.049565405 -0.15807652 -0.20771429 -0.2529609 -0.16951746 -0.077891625 -0.11852611 -0.34680912 -0.27825594 -1.0099409 -0.016325638 -0.07649283 -0.3798056 0.0014430947 -0.027883828 -0.2613867 -0.14876917 0.23815408 0.11436261 -0.9892194 -0.046430174 -0.10731671 -0.03812872 -0.31766444 -0.34751415 -0.11895506 -0.123883344 -0.081998475 0.033627626 0.06014586 0.036432885 0.2641484 -0.112157464 -0.05040265 0.19647878 0.028949501 0.024376249 -0.010934123 -0.20092875 1.2817618 -0.04065045 -0.14251207 -0.05302797 0.11472606 -0.16781463 -0.023411326 -0.05299606 0.08435955 -0.012071751 0.1307084 -0.072905846 -0.1367931 -0.12893778 0.07995261 -0.08323767 -0.0016362831 -0.030165512 -0.06931581 0.04545314 -0.0092570335 -0.20392366 0.06730974 -0.055017374 -0.03654944 0.19398816 -0.16142596 -0.03431964 -0.14241666 0.11136697 -0.206465 0.71532255 0.013450918 -0.008971827 0.07217342 -0.7597425 -0.10016319 -0.040659633 0.18598858 -0.018516075 -0.011427445 -0.08812218 -0.19305189 -0.23064864 -0.15620333 0.25348848 0.1928961 -0.13701169 0.0026094366 0.016788563 -0.11210372 0.13488479 -0.033759512 0.50536305 -0.09695121 0.03331698 -0.12859412 -0.17685412 -0.16190484 -0.06813214 0.13063529 -0.13728943 -0.14615282 -0.1516682 -0.087173626 -0.18923375 0.07619586 -0.15909074 -0.15332423 -0.45528826 -0.25355878 0.15051156 0.049923345 -0.20810173 -0.0329073 -0.024746452 -0.05149905 -0.051103234 -0.12933229 -0.15535979 -0.12639578 -0.0640689 -0.06116309 -0.1044201 -0.034807075 -0.05745875 -0.059836578 -0.23987 -0.29480407 -0.12176091 -0.035943598 -0.13557582 -0.19536425 -0.121393874 -0.04322686 -0.015462134 -0.22712909 -0.016335217 -0.042424027 -0.16293769 -0.17661221 -0.21303168 0.03860062 0.045861673 0.10947819 -0.05686838 -0.25223476 -0.17651014 -0.12148794 -0.27409214 -0.17952803 -0.17519341 0.0026855443 0.10966562 -0.09255343 -0.11186733 -0.08328128 0.11827694 -0.08586464 -0.046411835 -0.11942207 0.032616224 -0.13829216 0.1533825 -0.13268283 1.0905536 -0.017838601 -0.021934709 -0.17587523 -0.11858251 -0.057654817 -0.1491179 -0.15628204 -0.1031843 0.14904615 0.12662545 -0.111769654 0.021683866 0.07181586 -0.1635074 0.16811466 0.12621492 -0.21659134 -0.46962228 -0.18538013 -0.03568139 0.107763395 -0.18536238 0.25445163 0.25942838 0.10017439 -0.11409403 -0.120748594 -0.012081433 -0.14466299 -0.09107225 0.00075631245 -0.066632636 -0.21616909 -0.9675391 -0.14336 -0.20426516 0.102533326 -0.142761 1.047442 -0.10247757 0.08201806 -0.06643035 -0.12499523 -0.15319085 -0.16656174 -0.025799869 -0.085416816 -0.074787274 -0.061805062 -0.063912466 -0.025942685 -0.013784464 -0.22221887 -0.20394483 -0.12514654 0.080758445 -0.28102347 0.012807814 -0.009447042 0.039807484 0.051693328 0.078897804 -0.15583038 -0.16087866 -0.23695558 -0.039399344 -0.059415527 0.038416035 0.017937182 0.2491778 -0.022104222 -0.18942359 -0.078258045 -0.0065508173 -0.1422877 -1.086118 -0.06629139 0.024405954 -0.03207243 0.03405023 -0.075274624 -1.6183925 -0.24997923 -0.14307418 0.0021136196 -0.055768214 0.13709906 -0.92460066 -0.23176241 -0.20931064 -0.16551 0.03932629 0.059281398 -0.44863006 -0.03897929 -0.0110791065 -0.16167657 -0.18495472 -0.058636125 0.070260584 -0.22398253 0.076071426 -0.2790692 0.045321386 -0.1703989 -0.15060373 -0.093766615 -0.03569747 -0.0042272336 -0.028096687 -0.20200486 -0.05206391 -0.004950606 0.011739448 -0.25755772 -0.019921098 -0.014638551 -0.16527508 0.2575848 0.05553365 -0.15512459 -0.008294657 -0.07834288 -0.50056523 -0.05772326 -0.0063770018 -0.07661763 -0.118307896 -0.18330993 -0.33906934 -0.045059703 -0.09980078 -0.36492333 -0.01768894 -0.032214798 0.031064026 -0.01583814 0.16312861 -0.15013696 0.06768374 -0.7180642 -7.627583 -0.14291015 -0.13103428 0.021614235 -0.4919074 -0.025152836 -0.111272566 -0.11818108 -0.029600063 -0.07652814 0.0064738765 -0.20330232 0.09268528 -0.0051622647 0.030199775 -0.4288605 0.34038138 0.034681953 0.094447404 -0.4807312 -0.11500698 0.043276284 -0.34109834 -0.0013812805 -0.06570716 -0.08994397 0.07562162 -0.074155815 -0.16305166 0.038240943 -0.11241513 0.05488415 -0.108321995 -0.206226 0.90389526 -0.12554023 -0.3431597 -0.04131231 -0.16140077 -0.1452146 -0.0527609 -0.10717356 -0.018095352 -0.06186929 -0.12471506 0.043815356 -0.20551898 -0.34853598 -0.0057550264 -0.12175118 -0.07937592 -0.10627124 -0.20570916 -0.09071878 -0.18167073 -0.3188436 37.54402 0.054639038 -0.022251545 0.04848758 -0.3068952 -0.0988731 -0.13633165 -0.15862693 0.07239666 0.33422777 -0.16513997 -0.016318664 3.468796 0.017158013 0.016259866 -0.017808735 -0.091825195 1.6964357 -0.19909689 0.094375044 -0.069830805 -0.028279575 0.1194636 -0.24192382 -0.16609968 0.2645292 -0.25809032 -0.05797809 -0.0065162536 0.07149142 0.35890204 0.118119515 -0.045434196 -0.17306429 -0.20178872 -0.32451627 -0.047837876 -0.24536607 -0.12791845 0.18584976 0.15183648 -0.118185975 -0.063244164 -0.034640342 -0.036314704 -0.1654727 0.0020186962 -0.18262397 -0.12191505 -1.6307448 -0.8528739 0.67829686 -0.04492368 -0.047532193 -0.02395832 -0.08905895 -0.05686709 -0.09367018 0.019073304 -0.1729711 0.16754372 -0.20879532 -0.13474889 -0.031830773 -0.23172553 0.04328289 54.113434 -0.40459952 -0.019021003 0.037554756 0.041778125 -0.0867431 0.010303581 -0.7054342 -0.015827058 -0.10182294 0.08577027 0.10747069 0.1345055 0.03394207 0.0039950735 -0.23827326 -0.045807928 -0.11701407 -0.21744432 -0.37580577 -0.026719263 0.037743315 -0.07967666 -0.1495093 -0.088394046 -0.048195776 -0.050288193 -0.06691407 -0.082709305 -0.5602664 -0.14497715 -0.2461483 -0.32320476 -0.2017583 -0.085941024 -0.011892955 -0.13609345 -0.051326483 -0.32874027 -0.02424638 -0.012568541 -0.21335067 -0.17851399 -0.19101408 0.23425074 -0.1792486 -0.04647588 -0.35787103 -0.14711927 0.013386298 -0.11118505 -0.15189953 -0.06198313 -0.3105852 0.04388556 -0.01631526 -0.18864208 -0.2870609 -0.37557685 -0.031784914 0.012259552 0.044312 -0.1786265 -0.37259695 -0.2022079 -0.04866166 -0.19241525 -0.096696675 -0.055407174 -0.051682685 -0.07485138 -0.22795434 -0.041426532 -0.28151825 -0.09649079 -0.107345395 -0.10356276 -0.17642893 -0.16712297 0.028151786 -0.04264421 -0.104091294 -0.30930552 0.05469281 -0.04004 -0.036086157 0.19873002 -0.10059217 -0.20385805 -0.13352458 -0.010428391 -0.18281339 0.013744125 0.024680672 0.09202697 -0.072644494 -0.02389525 -0.13959868 -0.06366099 -0.0157879 -0.064671434 0.09619867 0.007371277 -0.06848816 -0.032080103 -0.1672268 -0.19946873 -0.11328817 -0.0075679836 -0.03463259 -0.19015685 -0.033239033 -0.39135563 0.12165862 -0.24172328 -0.03255081 -0.05054705 -0.009478016 -0.08979823 -0.20517959 -0.06920231 -0.117446996 -0.041406848 -0.27441898 -0.12164061 -0.11991795 -0.083222836 -0.11245352 -0.11064904 0.06301981 -0.16499531 -1.3124927 0.022326112 -0.27088052 -0.019682122 -0.20338435 0.103873305 -0.13849793 -0.0073800683 -0.4535819 -0.38043252 0.04737551 -0.17149043 0.011266595 -0.41636342 -0.0786949 -0.2558836 -0.0490216 -0.042962294 0.12117648 -0.2662856 -0.12644607 0.15139993 0.10036097 -0.054108087 -0.17802827 0.03392749 -0.09300857 -0.08614193 -0.119983435 0.07546687 0.017738888 -0.09378654 0.21798429 0.0047789076 0.033016678 -0.09207092 -0.057001736 -0.02297683 -0.15354243 -0.23555848 -0.39600784 0.013139132 -0.1039916 -0.13707565 -0.1510392 -0.11978227 0.0046319882 -0.82026345 0.06741516 -0.1830863 -0.16332121 -0.058233928 0.52474576 -0.17372055 0.0075975102 -0.3516449 0.07949824 -0.20601168 -0.003288356 -0.00921185 -0.09244151 0.120406345 0.05525352 -0.15273677 0.052875534 -0.084429435 0.11791519 -0.18375447 0.03300922 0.04929114 -0.037840553 0.052575696 -0.0768931 0.018387 0.1474918 -0.10884229 -3.9418154 -0.10953133 -0.21315646 -0.3084209 -0.1085939 -0.26019183 -0.013238565 -0.11312169 -0.042016406 -0.32537383 -0.18440448 -0.20237523 -0.19244415 -0.1432087 -0.27062157 -0.14374885 -0.08421345 -0.24156882 -0.059018232 -0.08012856 -0.18777926 -0.124602914 -0.031877574 0.18418086 -0.270963 -0.19603348 0.14033216 -0.013833384 0.022873443 -0.2141569 -0.12091804 -0.19473694 0.1176556 -0.022428537 -0.09463021 -0.09809364 -0.25532794 -0.17777531 -0.15892895 -0.15940243 -0.05327716 -0.36440843 -0.5656207 -0.1446818 0.008253148 -0.13291043 -0.26904228 -0.03155984 -0.1261112 -0.029026873 -0.17427433 -0.06596702 0.05105464 -0.3075343 -0.19755848 -0.08308392 -0.019814918 -0.25396767 -0.028340459 2.3661315 -0.17119646 -0.11481875 -0.13913879 -0.047106527 -0.17974435\n",
            "\n",
            "family -0.06754523 -0.066672474 -0.42245045 -0.0039021978 0.035544075 -0.14157936 -0.23085701 -0.10011985 -0.16540623 0.023925487 0.45720255 0.015945958 -0.043808866 0.023854746 -0.28446352 -0.036422413 -0.19074078 -0.15963072 0.15619671 0.04621173 0.132131 -0.10543182 -0.18577568 -0.121535495 -0.16000451 0.16870993 -0.19305718 -0.12729493 0.002264526 -0.25238717 0.026519347 -0.047143053 -0.06105085 -0.35800773 -0.1462381 0.13128805 21.415583 0.018368533 -0.021057652 0.041664217 0.0077111097 -0.05275555 -0.13121463 -0.4148945 0.02908472 0.019785417 -0.029152269 -0.037167363 -0.30544728 -0.07682167 -0.113140106 0.17285687 -0.14270176 -0.087960355 0.1099866 -0.16195713 -0.036143668 -0.14896561 -0.1747717 -0.06460358 0.1200996 -0.058434922 0.013846167 -0.17885317 -1.039432 -0.06383992 -0.120470345 -0.14729771 -0.022979753 -0.181008 -0.20266508 -0.20436813 -0.25021765 -0.13211286 -0.10350888 -0.35618457 -0.191753 -0.98831 0.07447587 -0.08641938 -0.36767212 -0.09493943 -0.026365226 -0.2154752 -0.17042087 0.075102024 -0.101673044 -0.98958033 -0.09697883 -0.07223527 -0.12180541 -0.26245058 -0.4152002 -0.10121028 -0.2505311 -0.050239652 0.065872304 0.09874682 -0.0006747766 0.37130657 -0.2455999 0.07457103 0.43499053 -0.06162691 0.079129994 -0.037683148 -0.11844082 1.8213893 -0.10141423 -0.22290194 -0.029350193 -0.027067723 -0.140667 -0.032137223 -0.13030618 -0.004656441 0.10698057 0.036339827 -0.021070398 -0.11372861 -0.120145895 0.04954671 -0.108927 0.12048093 -0.07073394 -0.013742652 -0.019956369 0.06821038 -0.2147696 0.045299206 0.009051593 0.03466692 0.25241572 -0.15276782 -0.006787701 -0.07155598 0.056150734 -0.24034499 0.72076154 0.024564655 -0.011470564 0.11971562 -0.92535627 -0.07307454 -0.07130457 0.044165973 0.023741532 -0.012890307 -0.004517226 -0.24714376 -0.0614339 -0.23780704 0.1509116 0.06315594 -0.19142367 0.00573096 -0.016420232 -0.25931877 0.06908392 0.018860962 0.4273514 0.0016735406 0.0717601 -0.12791842 -0.22389385 -0.1133218 -0.09259926 -0.53845966 -0.079092786 -0.23328431 -0.08770321 -0.033142067 -0.13171211 0.0969895 -0.18336126 -0.23865007 -0.22170763 -0.12443709 -0.10595166 -0.050747387 -0.19942133 -0.08257881 -0.04702623 0.14127144 -0.06682497 -0.15295234 -0.13189827 -0.14200823 -0.09016476 -0.021864394 -0.09651442 0.0059824227 -0.11307608 -0.11244984 -0.23528393 -0.10013733 0.010352638 -0.020869976 -0.1920813 -0.2298076 -0.030816453 -0.01588558 -0.08837982 -0.16150017 0.024140604 0.018632745 -0.13476363 -0.15694316 -0.03002907 -0.06882578 0.1995331 0.0915703 -0.052038856 -0.270254 -0.053088065 -0.1437775 -0.32471883 -0.23029757 -0.18440957 0.0193706 0.10783311 -0.1278548 -0.15243712 -0.096573554 0.056290664 -0.1374745 -0.022075683 -0.16981673 0.055049 -0.14360525 0.12412448 0.004226859 0.61936784 -0.09158435 -0.010442538 -0.20900308 -0.12356002 -0.007680691 0.099619634 -0.1196719 -0.1341002 0.12430753 0.058694884 -0.107356094 0.05453174 0.03049279 -0.19813202 0.21470053 0.07473531 -0.09399581 -0.4713839 -0.2549771 -0.034225993 0.034169264 -0.17330906 0.21276826 0.20335057 0.096902646 -0.08012415 -0.008255732 0.00074428227 -0.15343359 -0.027767528 -0.002361022 -0.1337701 -0.15272813 -0.96797097 -0.1485383 -0.2723831 0.08915444 -0.16255793 0.5219578 -0.13883838 0.0355119 -0.20205835 -0.14818609 0.03215027 -0.1013745 -0.04408296 -0.044000052 -0.115224235 -0.07129517 -0.0403764 -0.07280647 0.07289795 -0.116329506 -0.17123948 -0.13024981 -0.07027239 -0.42091504 -0.028115187 -0.18157448 0.023022698 0.069849595 0.133123 -0.20760833 -0.073850475 -0.24672209 -0.023896875 -0.008570428 -0.028007142 -0.05781987 -0.0062849857 -0.057665616 -0.17083848 -0.07928739 -0.001758394 -0.1183469 -0.83177173 -0.06020017 0.058013853 -0.05787085 0.13947824 -0.089343816 -0.9050331 -0.21784662 -0.20753692 0.027087571 0.026397964 0.12861204 -0.8007728 -0.22561407 -0.22983411 -0.07684102 0.027983095 0.04279348 -0.45040387 -0.011762291 -0.05514357 -0.24625511 -0.2344124 -0.072863296 0.11046106 -0.2513636 0.17990112 -0.2898019 0.15869601 -0.16151614 -0.0005741715 0.0037572503 0.015146096 0.0057670753 -0.19270372 -0.17850989 0.03370659 0.05265316 -0.0039572446 -0.21884657 -0.042519417 0.11312452 -0.19058397 0.16160093 0.037617616 -0.14937021 -0.12155976 -0.07009734 -0.40547007 -0.018362647 0.01881741 -0.12377155 -0.3392875 -0.089797586 -0.36818868 -0.079982415 -0.14669473 -0.7746687 0.0034961984 -0.03185406 0.020380406 -0.050847612 0.15523258 -0.04339388 -0.04850131 -0.7237803 -6.855834 -0.23969576 -0.16974725 -0.08019691 -0.57634085 -0.010923291 -0.072307326 -0.09994645 -0.14186205 -0.21451199 -0.18189594 -0.30530828 0.059537847 0.009155537 0.0205628 -0.8998703 0.22126645 0.020798184 0.07270471 -0.51011413 -0.12669027 0.0805006 -0.34505746 -0.020930052 -0.068722464 0.0058952956 -0.023582283 -0.092762075 -0.20819049 0.07694572 -0.098110795 -0.06510983 -0.054692723 -0.19196135 0.71652955 -0.037693743 -0.31942785 -0.00021702735 -0.16056956 -0.15631536 -0.16530201 -0.12477204 -0.0037921385 -0.09254629 -0.038620662 -0.033257153 -0.3069712 -0.09689218 -0.0020674604 -0.13004975 -0.051413674 0.048164845 -0.10694042 -0.045989748 -0.20835415 -0.2930176 35.10429 0.1290801 0.042574782 -0.04672321 -0.2002688 0.016191874 -0.11637587 -0.0627824 0.13300791 0.19359188 -0.1601719 0.07729642 5.1884418 -0.11391443 -0.06174359 -0.015436416 -0.122526824 1.6989433 -0.083716474 0.061719496 -0.16801254 -0.05496432 0.09520811 -0.16010693 -0.1324045 0.37287617 -0.24556841 -0.064300284 0.07251032 0.12562284 0.23193227 0.20236947 -0.04236906 -0.14184943 -0.2234865 -0.31046563 -0.05614245 -0.212332 -0.08218104 0.04441073 0.07417815 -0.12769166 -0.10970668 -0.020365203 -0.08824054 -0.16449073 0.030787537 -0.20223579 -0.15862007 -1.4250116 -0.85314274 0.6826661 -0.1067368 -0.04074013 0.0371298 -0.10370538 -0.05886214 -0.14285614 -0.0107967565 -0.18100534 0.05357002 -0.25419423 -0.22634727 -0.08287186 -0.13154683 0.035173275 51.819485 -0.37891576 -0.061177474 -0.0057744104 0.064710975 -0.13365795 -0.011584784 -0.49394616 -0.02352847 -0.03128039 0.02597217 -0.0077605434 0.018232495 -0.041111186 -0.08270322 -0.19208811 2.107906e-05 -0.17991549 -0.26645976 -0.45527738 0.0059054415 -0.14810292 -0.07742172 -0.18448363 -0.08062336 -0.074413605 -0.045118324 -0.10260753 -0.09058637 -0.3650105 -0.32748207 -0.45344594 -0.20367275 -0.08103658 -0.09392476 -0.1626404 -0.16578765 0.0006945037 -0.29042837 0.058023356 -0.036033124 -0.19903891 -0.13192913 -0.14537574 0.25012317 -0.29461816 -0.103098 -0.3994247 -0.18784213 -0.10564188 -0.0985554 -0.10674001 -0.017714014 -0.21520166 0.07510668 -0.092968434 -0.19693902 -0.2077109 -0.6058879 0.011245379 0.08253894 0.06821981 -0.114142746 -0.36862975 -0.27278385 -0.032866705 -0.15266792 -0.06732718 -0.088265404 -0.051243052 -0.026774446 -0.15848522 0.11004148 -0.16295847 -0.16317102 -0.08436718 -0.1074506 -0.18543881 -0.16646469 -0.026483737 -0.016047675 -0.09964233 -0.23089702 0.10029655 -0.044832688 -0.05860641 0.1367574 -0.03220393 -0.17738603 -0.08444349 0.10963048 -0.14272088 -0.018660214 0.04133239 0.13406296 -0.066743016 -0.04743386 -0.20450911 -0.09224734 -0.035865765 -0.08096951 0.067335844 0.02425673 -0.016024932 -0.086073235 -0.13089053 -0.18730564 -0.0018826434 0.03796222 -0.003711943 -0.15999937 0.0027176347 -0.21357681 0.04206735 -0.09279055 -0.103572704 0.012746935 0.0057373787 -0.1670505 -0.1564809 -0.031566247 -0.09617163 -0.08836567 -0.17524606 -0.08727632 -0.08014151 0.018008595 -0.030730158 0.046463855 0.021638338 -0.19379042 -1.4485489 0.029401237 -0.26499096 0.0026827857 -0.22079511 0.0025223498 -0.11016403 -0.043791503 -0.6009649 -0.3324766 0.005158987 -0.18730247 0.1830724 -0.45245904 -0.10252678 -0.17379156 -0.028614737 -0.056113273 0.050348826 -0.23727927 -0.120392635 0.09725992 0.05456332 -0.13750307 -0.13216023 0.0074562184 -0.2208082 -0.0719426 0.028749393 0.07715837 0.08115591 -0.08887082 0.32118845 -0.024833184 0.09603974 -0.1061489 -0.006623177 -0.10027631 -0.2731829 -0.21418211 -0.199093 0.079910815 -0.005507006 -0.14572835 -0.14210832 -0.1579758 0.07954097 -0.7249772 0.060979597 -0.25369155 -0.11096085 -0.09702246 0.23087825 -0.031885378 0.015451078 -0.28816834 0.17684554 -0.16657887 -0.063478164 -0.048461754 -0.068142384 0.07913508 -0.0023389491 -0.14464968 -0.018152736 -0.10393522 0.06880647 -0.19302374 -0.008310637 0.038621802 -0.067487635 0.10379042 0.07146041 0.013011169 0.06604443 -0.16215602 -5.9235263 -0.15901749 -0.22569114 -0.28388393 -0.119626336 -0.3381061 -0.035404332 -0.20411946 -0.0123708 -0.17384838 -0.21229528 -0.16678122 -0.26020834 -0.20514938 -0.20381875 -0.0666368 -0.03369937 -0.32452017 0.0014023718 -0.039365157 -0.18973449 0.40378892 -0.013194033 0.17692083 -0.16088124 -0.13064301 0.18294896 -0.10189258 -0.08846739 -0.21980874 -0.11548155 -0.15040413 0.093042694 -0.003486321 -0.0070828483 -0.25439727 -0.40301073 -0.26008993 -0.16726637 -0.23536636 -0.12567417 -0.30039304 -0.5361395 -0.17329317 -0.053402055 -0.04439016 -0.09491685 0.0057349056 -0.17499866 0.02207182 -0.19015867 0.035571717 0.020871384 -0.15763195 0.0009610651 -0.13930325 0.07829657 -0.24955082 -0.043401495 1.4395926 -0.21515949 -0.1319818 -0.094438076 0.024069529 -0.1703678\n",
            "\n",
            "friends -0.024735328 0.07021978 -0.4509933 0.059440598 0.03646357 -0.11983832 0.4768009 -0.14994149 -0.048731536 0.0024495234 0.2884806 -0.123524904 -0.075126946 -0.054393776 -0.23163515 -0.023699585 -0.11664231 -0.1810141 0.17558712 0.055759724 0.049645968 -0.17717016 -0.32789436 -0.010490082 -0.058919817 0.06732228 -0.21687649 -0.109071106 -0.044367556 -0.24332397 -0.014604855 0.011798344 -0.008454753 -0.4351399 -0.08634463 0.015809504 24.53382 0.0027173618 0.04365711 0.18668757 -0.096481524 0.10768583 -0.12376714 -0.32749525 -0.21994464 0.005722408 0.015635237 -0.033810116 -0.26443988 0.28511515 -0.04019142 0.20234288 -0.21330996 -0.14108622 0.12723678 0.284655 0.073136635 -0.083913 -0.120681316 -0.15911318 0.04608848 0.07824676 0.016191302 -0.114947766 -1.0413519 -0.12936734 -0.048353013 -0.086996 -0.15577312 -0.06000998 -0.32915008 -0.17727327 -0.2576742 -0.11757354 -0.053416055 -0.28144243 -0.2185428 -0.71085113 0.08841394 -0.050595723 -0.43377197 -0.108324744 -0.08444819 -0.33142337 -0.039928127 -0.027044732 0.06901373 -0.99067146 -0.031799417 -0.23876585 -0.042656485 -0.2292248 -0.23794694 -0.11365364 -0.15085052 -0.07671767 0.006244722 0.007927258 -0.016012069 0.07535491 -0.09600771 0.037051376 0.25490984 -0.06026935 0.007899977 -0.050585363 -0.074183926 1.5239445 -0.10186428 -0.15598582 -0.22602916 0.044496775 -0.26374552 0.043986578 0.018771105 -0.0911467 -0.020038243 0.009143742 -0.026086783 -0.05477095 -0.14903058 0.011179009 -0.012431344 0.07806198 -0.23423901 0.009095655 -0.06307919 0.088368386 -0.06945993 0.096089624 -0.030937457 0.04355852 0.2678482 -0.11688746 0.043565143 -0.029970579 0.0028204042 -0.25095454 0.7244496 0.09845164 -0.1398174 0.054062024 -0.70171183 -0.0086936485 0.068641566 0.04786064 0.053082176 -0.10245361 0.0045641335 -0.25058955 -0.06749576 -0.08153948 0.0056739408 0.055077024 -0.1895883 -0.012399496 0.010638564 -0.19642137 0.01094369 -0.054201458 -0.20211168 -0.0031066316 -0.004387705 -0.08558457 -0.20246343 -0.12196273 -0.19215544 -1.4800792 -0.14325404 -0.1697545 -0.17982128 -0.16724002 -0.11925862 0.23137522 -0.07076083 -0.064880334 -0.26029053 -0.19446956 -0.0057054567 0.02882973 -0.2556641 -0.07767515 0.056445193 0.06504315 -0.034314327 -0.102962375 -0.013278861 0.06595675 -0.06958798 0.10088572 -0.09883627 -0.14160748 -0.1017246 0.0023238147 -0.21702893 -0.27099052 -0.0344861 -0.040018253 -0.12958935 -0.36588016 -0.15673742 -0.050942853 -0.2918877 -0.1699519 0.026816288 0.016590672 -0.044047065 -0.14288887 -0.019264085 -0.045412738 -0.00048400438 0.10504228 -0.032825995 -0.23621278 -0.15213452 -0.11478962 -0.3665596 -0.22437818 -0.223967 -0.020417081 0.030115845 0.018392516 0.0058041187 -0.114599735 0.19515091 -0.02555731 -0.08802996 -0.044657547 -0.03154777 -0.17075613 0.09860637 -0.14038147 0.91827583 0.0024691971 -0.07643387 -0.21037012 -0.08907839 -0.08441297 -0.045378078 -0.09278446 -0.16737315 0.35752353 0.048455235 -0.03393956 0.04880459 -0.024526479 -0.1468859 0.33506352 -0.021812899 -0.17828758 -0.4763805 -0.30202067 -0.13140523 0.03358483 -0.15995221 0.22608396 0.15183467 0.13508472 -0.097145915 0.014723144 0.005395464 -0.07763114 -0.09390067 0.091214724 -0.022216288 -0.18824872 -0.969867 -0.25299373 -0.2651046 0.14571561 -0.12761727 0.6538619 -0.11109334 0.040071502 -0.1204165 -0.18970555 0.07486196 -0.06656925 0.02577284 -0.058269624 0.050111618 -0.15645303 0.16982277 0.13762869 0.06355157 -0.057849005 -0.13314517 -0.16315807 -0.057183858 -0.38004738 0.060116936 -0.2007482 0.010477164 0.009921151 0.26147065 -0.2607421 -0.06942632 -0.17546605 -0.018632917 -0.025891667 -0.0009065787 0.052162234 -0.023163965 0.024452075 -0.120654814 0.012611454 -0.032010995 -0.05274506 -1.0363134 -0.06767503 -0.04806633 -0.13997912 0.020696487 -0.13701099 -9.750675 -0.20222796 -0.16085614 0.08566656 -0.009557916 0.07461659 -0.32932532 -0.20323971 -0.20089734 -0.06394332 0.035011686 0.10964715 -0.11997169 -0.048961286 0.08237687 -0.17980066 -0.1427014 -0.08388839 0.12555417 -0.15779199 0.051109537 -0.25755653 -0.15162668 -0.22698693 -0.13325426 -0.02330625 -0.006357725 0.010496581 -0.20452367 -0.36578837 -0.07846752 0.020232268 -0.023338458 -0.400858 -0.020081908 0.08637039 -0.24608259 0.32458425 0.0204118 -0.2398698 -0.047120363 -0.086050995 -0.32431287 -0.027081797 -0.04270073 -0.0860358 -0.2516599 0.0044106618 -0.5590929 -0.06949127 -0.1558543 -1.8898715 -0.10868963 -0.028036367 0.061702706 -0.034416806 0.262537 -0.11914887 -0.06716107 -0.7400814 -8.453409 -0.14671709 -0.27777278 0.69927174 -0.7287086 0.09517554 0.0036668847 -0.018676065 -0.08865237 -0.062022462 -0.30215403 -0.22780618 0.1566124 0.019132826 0.047697667 -0.6170768 0.21725875 0.06259309 0.09973393 -0.54459006 -0.20981473 0.041373678 -0.299073 -0.0669913 -0.06391232 -0.018205356 0.053494263 -0.16254973 0.03317263 0.051006507 -0.114877775 -0.02374288 -0.1393349 -0.21672247 0.5469077 -0.058013476 -0.26333764 0.14143513 -0.1067387 -0.11596681 -0.13111177 -0.10997697 0.027538449 0.008540955 -0.01772776 0.034972973 -0.33702025 -0.16974743 0.021064298 -0.13400845 -0.015098585 -0.12202291 -0.1891182 -0.09739228 -0.0043950486 -0.17903017 41.178177 0.10404579 -0.020082055 -0.0293916 -0.24710919 0.08461573 -0.15779015 -0.1613593 0.120382205 0.05552885 -0.18591297 0.04336442 3.3847876 -0.09957286 -0.10716213 -0.012291051 -0.1343757 1.6991009 -0.20318736 0.096142665 -0.19341426 -0.08439144 0.11208943 -0.39164263 -0.08560203 0.14879878 -0.20197621 -0.1152684 0.029208593 -0.035094526 0.19654973 0.016173076 -0.09765933 -0.18146648 -0.116288036 -0.30006573 -0.06655638 -0.14810002 -0.16595958 0.097486 0.096869364 -0.16068585 -0.1335425 -0.03245921 -0.017526176 -0.23114826 0.011260215 -0.13642313 -0.2700894 -3.5129485 -0.8547542 0.6963389 -0.15960875 -0.06911455 -0.111199565 -0.008770383 -0.01800966 -0.067925245 0.06895183 -0.17411773 0.0830557 -0.07093892 -0.19007921 -0.087078825 -0.17285992 0.04001975 55.801273 -0.21014583 -0.013668985 -0.06667739 0.03950117 0.017205162 -0.014964503 -1.2622815 0.18323357 -0.046726014 0.040404845 0.053094514 0.032592352 0.08135431 -0.03464176 -0.22217892 -0.1265369 -0.11398674 -0.32000375 -0.39756563 -0.017820554 -0.0045348397 -0.19852535 -0.16192207 -0.0054091383 -0.1959924 -0.036403656 0.0018451485 -0.10327992 -0.25403455 -0.063858554 -0.50768566 -0.2265979 -0.02919727 -0.16118489 -0.0957679 -0.17230743 0.03462779 -0.1792765 -0.089686394 0.027422424 0.005206668 -0.31467286 -0.05943805 0.2116574 -0.16841985 -0.10370083 -0.32248038 -0.19908763 0.04690586 -0.032129623 -0.13947816 -0.09725695 -0.12172365 0.10776454 0.05966242 0.020570185 -0.16497757 -0.48934367 -0.06391483 0.0043134396 0.036170185 -0.13359116 -0.2019449 -0.24221072 -0.02487757 -0.21672094 -0.107174 -0.105486244 -0.09755894 -0.087516375 -0.17525038 -0.0013679395 -0.44991863 -0.027748296 0.025115106 -0.16861199 -0.17902945 -0.20083353 0.12238981 -0.05869019 -0.1642127 -0.04102284 0.099119924 0.04154145 -0.023524022 0.16965446 -0.032110833 -0.13810092 0.028391173 -0.031913284 -0.18328351 0.047968037 0.044338927 0.019651806 -0.061032314 0.008082297 -0.18126063 -0.10900164 -0.06418681 -0.17396608 0.086841874 -0.04478808 -0.06418726 -0.22167867 -0.07356753 -0.24010776 -0.03453232 0.08123257 -0.061529323 -0.18748106 0.048345268 -0.41665128 0.05632368 -0.069546744 -0.16239582 -0.15777019 0.029199926 -0.20718278 -0.121325836 -0.2099668 -0.22700398 -0.06672054 -0.21504349 -0.054746404 -0.120680645 -0.06504447 -0.03479826 -0.06217436 -0.0028596127 -0.25585917 -2.0571215 -0.004590614 -0.2212751 -0.0036257748 -0.26203254 -0.034502767 -0.027506769 -0.01923149 -0.64568913 -0.40840608 0.029145462 -0.18714015 0.16193108 -0.47593498 -0.01042773 -0.3416172 -0.086268194 -0.14099714 -0.019504627 -0.30541605 -0.21001935 0.060177464 0.16156577 -0.07362499 -0.18157718 0.07483573 -0.131078 -0.015509961 -0.07793567 -0.037156686 0.22038509 -0.17844382 0.39878488 0.06817455 -0.036092203 -0.099708624 -0.08929603 -0.11475097 -0.15683974 -0.20355639 -0.19627148 3.3910383e-06 -0.076712 -0.18214676 -0.12338539 -0.20332752 0.11513073 -0.86426 -0.05149763 -0.26452008 -0.1238614 -0.15379955 1.1268302 -0.2737208 0.021970501 -0.25893202 0.14869398 -0.06351417 0.09967618 -0.08884665 -0.056653585 0.103570424 0.051185075 -0.09481409 0.013587833 -0.11693288 -0.014747996 -0.11300832 0.0097299535 0.051819224 -0.055935986 0.119117945 -0.17728907 0.027061976 0.13071364 -0.23217872 -3.6453946 -0.14937407 -0.27691308 -0.45856017 -0.197961 -0.28504074 -0.060578786 -0.0039481604 -0.019822745 -0.24600397 -0.18114384 -0.18821323 -0.22204913 -0.22316502 -0.15236555 0.20548399 -0.059201214 -0.119319975 0.011167583 -0.01639273 -0.22272839 0.18344079 -0.089625224 0.15422313 -0.18709481 -0.13746727 0.11821816 -0.07566595 -0.06826769 -0.33292142 -0.037125982 -0.19996184 0.13202028 0.057957478 0.031767834 -0.26667506 -0.30369425 -0.19999306 -0.22240198 -0.1617434 0.014319948 -0.28577638 -0.6817835 -0.32673803 -0.01127385 -0.093980365 -0.2692591 0.037502576 -0.09147802 -1.3745674e-05 -0.10492815 -0.0034474647 -0.049872354 -0.108714834 -0.0967554 -0.076153226 0.1538378 -0.22260712 -0.058663175 2.7681453 -0.17308404 -0.1222626 -0.12955938 0.054859314 -0.051322583\n",
            "\n",
            "food -0.08298696 0.12416472 -0.50864345 -0.124203324 -0.016436784 -0.14676772 -1.2724552 -0.15321264 -0.21683748 0.050943002 0.4363463 -0.10085376 -0.079158254 0.02266022 -0.21075022 -0.06737639 -0.07178487 -0.13765994 0.12812981 -0.32468662 0.14801815 -0.15304397 -0.29442173 -0.13364065 -0.084498405 0.11539159 -0.23473893 -0.10700507 -0.12315291 -0.25451356 -0.08646323 -0.10674835 -0.08422883 -0.30649817 -0.1853371 0.29015318 21.430931 0.010062487 -0.09026066 -0.057500314 0.0045140036 0.0122101195 -0.09619401 -0.3416784 -0.26022416 0.07663689 0.097578965 -0.034017786 -0.22750145 0.032458257 0.07862967 0.140938 -0.16139872 -0.13583863 0.0946428 -0.25001752 -0.08068712 -0.2446946 -0.15374793 -0.21214567 0.006172992 -0.025291182 -0.050343174 -0.18156277 -1.0384458 -0.016236521 -0.04475894 -0.042504385 -0.14426841 -0.22361955 -0.29671568 -0.27945957 -0.09856245 -0.16876937 -0.09212077 -0.33731124 -0.24038407 -0.87775606 -0.004008909 -0.071212 -0.43325928 -0.09526584 -0.07878995 -0.35770237 -0.09125065 0.03655132 0.0020972919 -0.98892057 -0.015626008 -0.2285048 -0.16550219 -0.26911616 -0.27562785 -0.13152416 -0.31116185 -0.10250387 -0.007227529 -0.050615277 0.06426919 0.08147472 -0.12624514 0.015609023 0.047156878 -0.17342429 0.021244342 -0.12080768 -0.17086752 1.462883 -0.0756679 -0.15171199 0.0779741 -0.07607031 -0.11668025 -0.0011607403 -0.09086057 0.033599474 0.0075338674 0.1379496 0.001158312 -0.04632345 -0.08960537 0.045486562 -0.09362263 0.08372982 -0.13105342 -0.12635121 -0.036657635 -0.13685203 -0.0325958 0.05094587 0.12730208 0.00296267 0.25961745 -0.12255107 -0.066254586 0.0962179 0.12593661 -0.41452217 0.7318542 -0.036831547 -0.087934926 0.031871125 -0.9668919 -0.058927678 0.027874053 -0.11788786 0.040845413 -0.017039824 -0.035316955 -0.10271284 -0.12062121 -0.07770961 0.10996935 -0.07806498 -0.118802816 0.051026046 0.017877998 -0.18414602 0.09726771 -0.0039525866 0.57178605 -0.069268316 0.104530096 -0.101083465 -0.17419457 -0.08862785 -0.1705111 -0.27053908 -0.19147068 -0.029446885 -0.033226717 -0.06035137 -0.11287931 -0.1304864 0.09013193 -0.31401286 -0.34819907 -0.29007512 0.11701725 -0.0027329398 -0.10533502 0.030084144 0.005370427 -0.09592175 -0.067606255 -0.1325199 -0.12930432 -0.02786276 -0.08515561 0.0649006 -0.11287206 -0.016009782 -0.105919965 -0.1524249 -0.1743229 -0.30933872 -0.06952514 -0.10491035 -0.23137219 -0.17884031 0.05888525 0.115583055 -0.13145186 -0.123769075 0.007989965 -0.034759454 -0.15079519 -0.12949595 -0.09755756 0.07433593 0.05907964 0.055407472 -0.04371993 0.012002344 -0.10365491 -0.08555321 -0.17631938 -0.16415009 -0.16635916 -0.067520306 0.072694525 -0.07235517 -0.11200863 -0.13594164 0.008259765 -0.12535283 -0.10483186 -0.1009177 0.058624666 -0.09563486 0.18086283 -0.018718015 0.61898106 -0.05504204 -0.06813286 -0.29262412 -0.16297564 -0.0743533 -0.076459125 -0.00048949785 -0.06633513 0.3049833 -0.004816187 -0.11550695 0.028540315 0.08291236 -0.17276356 0.13607036 -0.00064435427 -0.14073402 -0.38682413 -0.30027694 -0.0666186 -0.016558835 -0.18028796 0.40787873 0.13281794 0.010318851 -0.009966508 -0.03189916 -0.032204594 -0.08613717 -0.039779376 -0.013836151 -0.10989376 -0.19052483 -0.9672357 -0.06955255 -0.3205063 0.15127355 -0.15930055 1.0176017 -0.15539148 0.1458407 -0.25004613 -0.2160889 0.105537586 -0.13807906 -0.07956291 -0.033152476 0.07199068 -0.14096627 0.1261008 -0.096601926 0.026105266 -0.011596992 -0.2719587 -0.101667695 0.046917077 -0.20476137 0.06497648 -0.09041427 -0.03396961 -0.028757429 0.14817004 -0.15211335 -0.028858202 -0.29517063 0.036483224 -0.032540355 -0.0034735235 0.09191148 -0.09729539 -0.007699287 -0.081475765 -0.050245058 0.0028430633 -0.15788972 -1.5328753 -0.15904436 0.015595565 0.0113900155 0.0919494 0.0005845948 -0.7846151 -0.15048803 -0.27093992 -0.09016286 -0.01721944 0.22534521 -0.9483485 -0.11903484 -0.13577159 0.020210955 -0.1030298 0.01799392 -0.4088289 -0.018146498 -0.074458934 -0.25055012 -0.30225477 -0.10881278 0.0623039 -0.28207034 0.12693158 -0.28346887 0.06601682 -0.18396069 -0.080462925 -0.009594577 -0.092202246 0.0017246102 -0.050524503 -0.14994988 -0.13461602 0.07638978 -0.08409496 -0.31997043 0.015335768 0.038690735 -0.19794673 0.30728 -0.06770813 -0.1669644 -0.16603307 0.005463708 -0.7858509 -0.060051084 -0.024586873 -0.12581132 -0.1109617 -0.089909285 -0.31914437 -0.049255554 -0.1691907 -0.29194015 -0.07731729 -0.0522031 -0.026905255 -0.10941937 0.14119305 -0.060443297 -0.04775074 -0.7228655 -6.707773 -0.1306952 -0.1140376 0.13534987 -0.63722795 0.15255584 -0.13496967 -0.123727344 -0.11423716 -0.1997435 -0.21451485 -0.2463169 -0.063456535 -0.07418146 -0.0039639208 -0.5334947 0.22634438 -0.08443074 0.111323245 -0.46842122 -0.35372096 -0.008135358 -0.3372808 0.016400743 0.0053301766 -0.05363834 -0.030483676 -0.03521971 -0.03981812 -0.052664105 -0.15125185 -0.03400312 -0.059825335 -0.058617804 0.5908912 0.0014234355 -0.2069082 0.019347746 -0.12420061 -0.11846444 -0.052741304 -0.11096152 0.033431794 0.06762351 -0.15345983 -0.012680712 -0.1351487 -0.13322829 0.0113435285 -0.08249663 -0.082530186 -0.008563066 -0.034076393 0.00013011962 -0.17636725 -0.27851373 36.906254 0.08078966 -0.019447854 -0.027875395 -0.13539177 -0.063328065 -0.17817499 -0.07843844 0.038183216 0.50403476 -0.12277099 -0.0005808038 4.742374 -0.056170553 0.09821253 0.022595044 -0.119479194 1.6971694 -0.26067203 0.11775558 -0.21446161 -0.07335587 0.080206245 -0.22217919 -0.12662598 0.47792765 -0.19664527 0.016767463 0.06348559 0.0671195 0.37150103 0.12746774 -0.034756575 -0.066692084 -0.10595549 -0.24587052 -0.02139225 -0.21486102 -0.079785615 0.06937919 0.05237649 -0.10497807 -0.11831883 0.049691677 0.007322292 -0.108511426 -0.030794723 -0.21692783 -0.23695786 -3.0243568 -0.85227174 0.6790134 -0.09013294 0.020975813 -0.14821063 -0.053618856 -0.009089836 -0.15732843 0.0074916026 -0.27255407 0.14540769 -0.038310967 -0.18875287 -0.094430566 -0.21130058 0.07470832 51.389603 -0.32317385 -0.021639183 -0.046642907 0.0264731 -0.1059933 0.07585325 -1.330377 -0.09516917 -0.07491566 0.031495575 -0.057762716 0.20723967 -0.03586575 -0.097132005 -0.41448972 -0.15014006 -0.11744988 -0.16303138 -0.1644159 0.0020964143 -0.04954597 -0.061737597 -0.18539721 -0.073051125 -0.08252085 -0.050807614 -0.091375574 -0.032063227 -0.13875121 -0.015046124 -0.42115974 -0.16433012 -0.0696267 -0.06886911 -0.11450905 -0.08471147 -0.10227837 -0.26673475 -0.026147278 -0.0026244253 -0.051346254 -0.26411578 -0.12033881 0.26682448 -0.21030028 -0.11522131 -0.31970483 -0.19170804 -0.068609565 -0.042209428 -0.13551156 0.09605734 -0.42116216 -0.021200543 -0.09219107 -0.06307835 -0.23079467 -0.496572 0.0066273287 0.048797134 0.09493847 -0.15805067 -0.3415025 -0.24967727 0.05240101 -0.1555915 -0.082031935 0.04336799 -0.06374773 0.087801546 -0.18966414 -0.077775195 -0.25806755 -0.138607 -0.1877731 -0.12646902 -0.15398914 -0.103080325 -0.019857101 -0.16224296 -0.101219006 -0.13877045 0.10442571 -0.027245944 -0.079486735 0.024394019 0.017082557 -0.16965681 0.0153723005 -0.0011719674 -0.26736227 0.033993818 0.07206689 0.17403515 -0.00030065462 -0.03999499 -0.050989553 0.0049043684 -0.029027294 -0.2573817 0.047861118 -0.12371727 -0.07054744 -0.026775884 -0.21438932 -0.22848603 -0.058470767 0.07505624 -0.114336364 -0.17494865 -0.08726012 -0.40956828 0.03286093 -0.18536825 -0.0637906 -0.04948014 -0.075042844 -0.19449969 -0.17364977 0.004679246 -0.18513061 -0.20634232 -0.27782094 -0.07872434 -0.1114195 -0.17577453 0.025181647 -0.031789564 0.012437545 -0.13774876 -2.1290252 -0.02079815 -0.25160807 0.023287268 -0.30210534 -0.06410183 -0.121305436 -0.03721988 -0.6892474 -0.34876803 -0.03834103 -0.17554794 0.012324865 -0.48426306 -0.17438938 -0.31388927 -0.21749845 -0.267705 0.14710897 -0.2468584 -0.11568128 0.0860785 -0.028189948 0.036967445 -0.009057034 0.08878632 -0.09457185 -0.01565854 -0.3830985 0.013360927 0.106537215 0.0068031796 0.06655114 -0.04888082 0.02782839 -0.09646422 -0.036135577 0.012584996 -0.1454841 -0.23911434 -0.25286347 0.034705203 -0.06401011 -0.03544284 -0.1463881 -0.11385029 0.03164158 -0.7384974 0.021223249 -0.20699772 -0.051949058 -0.110897996 0.33808076 -0.18221475 0.032896176 -0.35763645 0.060585245 -0.15783134 -0.13687265 -0.006124631 -0.027302086 0.08723551 -0.024669828 -0.026697578 0.09244135 -0.06923228 0.061792083 -0.22602046 -0.05607043 0.053961236 0.010760628 0.060444742 -0.019413225 0.03546384 0.06709629 -0.13444152 -3.962303 -0.1303221 -0.27151975 -0.6501741 -0.33593327 -0.19990964 0.003304337 0.00077678123 0.013396114 -0.3200922 -0.12556514 -0.21994746 -0.11635308 -0.11280574 -0.16604239 -0.3593798 -0.08589473 -0.2497191 0.09823257 -0.045299042 -0.055592816 0.2390564 0.12905778 0.38970786 -0.20688242 -0.10039814 0.08154868 0.081210636 -0.021822851 -0.16359732 -0.124750875 -0.13951367 0.07772787 0.08668606 -0.048864182 -0.09583653 -0.27358127 -0.08058486 -0.22586744 -0.14603448 -0.041648053 -0.37162662 -0.501738 -0.27793303 -0.020388747 -0.19714007 -0.03691635 0.048721246 -0.11979865 -0.034584846 -0.18680577 -0.02583772 -0.026478533 -0.27068493 -0.04156546 -0.108890384 0.07522645 -0.19058937 -0.033169247 2.1622727 -0.1673655 -0.086541384 -0.08170769 -0.03898396 -0.088550575\n",
            "\n",
            "drink -0.106743984 -0.19525927 -0.46414018 0.008648827 -0.053220652 -0.17319927 -0.619739 -0.06274736 -0.2613829 0.057333525 0.3318183 -0.043567758 -0.034862615 0.026569713 -0.1483695 -0.1444965 -0.15023544 -0.15309872 -0.019712396 -0.35070905 0.004180899 -0.12921022 -0.2825311 0.13043104 -0.05598222 0.0862699 -0.2777741 -0.14593154 -0.09001922 -0.1689908 -0.012026857 0.09704006 -0.14682707 -0.13225673 -0.017932761 0.15570462 21.34051 -0.050982375 0.0014362894 0.09816846 0.01966647 0.092887454 -0.016115835 -0.29525515 -0.21679181 -0.0025121225 -0.005035561 -0.16032909 -0.2331465 0.0530389 -0.26109272 0.10865171 -0.1601081 0.007221512 -0.037671115 0.38636327 0.092788346 -0.0051737707 -0.22693 -0.08655969 0.14601009 -0.060400978 -0.08136201 -0.016710775 -1.0431733 -0.015689122 -0.091465734 -0.13186409 -0.3414984 -0.19513911 -0.18982667 -0.10216955 -0.08620119 -0.18981749 -0.051801395 -0.29693022 -0.087136336 -2.1070051 0.006232251 -0.05506438 -0.19036186 -0.070320345 0.06509417 -0.18657432 -0.064143926 0.11148016 -0.23024505 -0.99166423 0.022812985 0.015006418 -0.029701436 -0.19168492 -0.25033435 0.05310605 -0.15688725 -0.06667906 -0.08585836 -0.14751759 0.08394925 -0.10092513 -0.10188478 0.10477634 0.10797831 -0.041959245 0.023935368 -0.071734086 -0.15011315 2.3859758 -0.033721227 -0.04386339 -0.2221529 -0.018506864 -0.10850021 0.01671338 0.039138444 -0.020785255 -0.054134946 0.022595016 -0.12950094 0.0017952205 -0.1396405 0.046204403 -0.1524588 0.004807935 -0.2283784 0.072955556 -0.059880964 0.23618698 -0.05344818 0.024435073 -0.082730085 0.108280525 0.02246979 -0.12698306 0.01920815 0.0072740875 0.075001016 -0.18456396 0.64454126 0.064190835 -0.09635553 0.029828968 -0.09065421 -0.04573265 0.038290724 0.19928138 -0.05523325 -0.12692717 -0.028018698 -0.15805347 -0.120470375 -0.10342081 0.09430664 -0.09825645 -0.03965507 0.01663806 0.03378342 -0.07852957 0.084101744 -0.12893012 -0.2727723 -0.13879853 0.09579272 0.05411347 -0.21500601 0.16840632 -0.048667908 -1.3223417 -0.2009138 -0.26153603 -0.1852036 -0.08881303 -0.056200303 0.109100655 -0.106944755 -0.23142198 0.04360167 -0.18258548 0.060297605 0.041834567 -0.10222995 -0.034037896 0.129263 -0.022395084 -0.08759586 -0.042994656 -0.020627828 -0.20826308 -0.05123662 0.047807723 -0.15609197 -0.08112378 -0.21353115 -0.11163506 -0.17782041 -0.1849075 -0.038378794 -0.014018352 -0.051116344 -0.41720298 -0.1250941 0.06951574 -0.07702266 -0.3703965 0.099775866 -0.14855851 -0.08922321 -0.1335567 -0.12825471 -0.072731376 0.16252415 0.1624508 -0.09270426 0.35287654 0.089873455 -0.16332927 -0.026282845 -0.12502368 -0.16377027 -0.10510657 -0.03982739 -0.10086238 -0.08229842 -0.025850559 -0.14472428 -0.078591526 -0.08331405 -0.0036164594 0.095804386 -0.16651922 0.18044008 -0.14013873 2.3041987 -0.13327794 -0.16432129 -0.13174209 -0.17894161 -0.031428404 -0.015195258 -0.078318655 -0.06793905 0.14215031 0.088484675 -0.073436424 -0.010161469 -0.025420759 -0.4076478 0.031671777 0.016860249 -0.26501676 -0.5756275 -0.20754151 -0.008820468 -0.092705585 -0.072181664 0.22017528 -0.0034874813 0.030586919 -0.057376165 0.017425844 -0.0374219 -0.12630147 -0.046583883 0.002554526 -0.083924614 -0.12602401 -0.9713439 -0.245218 -0.15191552 0.09459514 -0.5841343 0.0817537 -0.18407956 0.063697256 -0.01586356 -0.08577149 -0.23416421 -0.030463677 -0.06620473 -0.038646504 -0.051869337 -0.16445084 -0.016546361 -0.10918359 0.19883415 -0.010642333 -0.080253266 -0.12727022 -0.31911907 0.08090121 -0.06841214 -0.100622065 -0.06566298 0.15084122 0.12285245 -0.08134535 -0.04815088 -0.21629195 -0.07747335 -0.03753284 -0.081815 0.007532819 -0.039362084 -0.031405065 -0.11966418 -0.01640129 0.11796611 -0.20433377 -0.38287956 -0.024351096 0.007238031 0.39262223 -0.03268995 -0.21076682 2.664973 -0.04107208 -0.004525651 -0.022675997 0.08722359 0.13576628 -0.25642887 -0.15509748 -0.28486642 -0.06818412 -0.039372507 0.0039582415 -0.27542007 -0.0971447 0.011681126 -0.22344057 -0.2105938 -0.14935082 0.04957906 -0.11868812 0.20102632 -0.30925146 -0.030618709 -0.11333081 -0.095501944 -0.12836316 -0.10994582 0.0020600532 -0.27320543 -0.05644519 -0.11813977 -0.045562796 -0.06406589 -0.36497205 -0.04894332 -0.010241124 -0.16617024 0.3514733 0.102514364 -0.22648399 -0.08315907 -0.019493282 -0.5235722 -0.1206663 -0.034196716 -0.21171616 -0.12842329 -0.25140938 -0.30404192 -0.06284283 -0.21585388 -0.8732982 -0.03773521 0.06947006 0.039393168 -0.042217396 0.20774418 0.02668787 -0.011193903 -0.7394936 -5.8356667 -0.07886427 -0.045577556 0.15450108 -0.6626181 -0.17891462 -0.043114427 -0.10817933 -0.117316715 0.011264927 -0.24797475 -0.14187193 0.2840733 -0.025250055 0.028352274 -0.42354265 0.105812125 -0.060316253 0.16623534 -0.4706406 -0.1708129 0.12670577 -0.40503624 -0.13790879 -0.03286174 -0.057472732 -0.012050564 -0.0758864 0.1670444 0.026678044 -0.13144813 -0.04910777 -0.12283245 -0.23390448 -0.2584878 0.061471235 -0.2920972 -0.10683258 -0.17639127 -0.1963245 -0.006339137 -0.1712508 0.02037275 -0.1449458 -0.03736104 -0.0055311657 -0.42004067 -0.20291021 0.17449069 -0.11448685 -0.09325781 -0.02098065 -0.09220187 -0.083772965 -0.1796582 -0.14131247 37.86339 0.024103647 -0.05981294 0.002416655 -0.16451558 0.093979724 -0.10002094 0.031830147 0.06113447 0.28704748 -0.12491833 0.075719 3.3774762 -0.14957388 -0.041608438 -0.061945174 -0.047869433 1.7020199 -0.0931997 -0.02139094 -0.20093942 -0.017374676 0.0016712142 -0.51561517 -0.13746509 0.047357764 -0.12509297 -0.099243134 -0.045470465 -0.033296265 0.1473801 -0.06859308 0.0042264224 -0.17724636 -0.2226573 -0.10399054 0.012501735 -0.066833094 0.051255193 -0.13504367 0.13270374 -0.038849432 -0.06066261 -0.072136484 0.0032042987 -0.25881863 0.062813 -0.06969311 -0.19073193 -4.3049674 -0.85579735 0.6953937 -0.109882936 0.011692732 0.1031978 -0.16571636 -0.04624275 -0.12503591 0.01939718 -0.18510649 0.030255655 -0.07544674 -0.25988436 -0.05726708 -0.35430223 -0.07518134 50.66868 -0.42763624 0.04776882 0.027260236 0.018885212 -0.122796156 -0.032716706 -0.574932 -0.22333407 -0.1295259 0.13432156 0.015762985 -0.035946567 0.08426644 -0.04159503 -0.3753483 -0.00011913196 -0.195021 -0.17732671 -0.39229766 0.08018388 -0.19711423 -0.3140627 -0.2473589 0.014654603 -0.23243085 -0.10428168 0.052340597 -0.15605612 -0.33825102 0.07379161 -0.20437257 -0.26874965 -0.0635971 0.018415812 -0.071024686 -0.088751934 -0.05022808 -0.110402845 -0.07016616 0.021725219 -0.12764178 0.053085614 -0.087890066 0.3177946 -0.1171116 -0.14299814 -0.5267776 -0.2592583 -0.12647924 -0.07475372 -0.15049385 -0.13722043 -0.23376851 0.025254183 0.06497348 -0.09934039 -0.11768821 -0.4549314 -0.019265596 0.030752016 0.047032565 -0.12961943 -0.039750412 -0.22128727 -0.064481616 -0.024196627 0.048522912 -0.18250225 0.014680855 -0.08003964 -0.15104571 0.027016569 -0.01650766 -0.21527061 0.048258297 -0.05192407 -0.10420084 -0.12163869 -0.099711955 -0.08993622 -0.039205104 -0.090448655 0.040627405 0.102278106 -0.014224191 0.21607405 -0.13740085 -0.09636644 0.038741603 0.094765455 -0.23290573 0.101121955 0.039967272 0.21905896 0.094336666 -0.1725611 0.042583395 -0.11460214 -0.07871286 -0.16998087 -0.047472812 -0.14874518 -0.15680519 -0.11547349 -0.061453052 -0.23028246 -0.052254964 -0.045770325 -0.004418563 -0.19356222 -0.07803116 -0.42925596 0.081965335 -0.101426736 -0.11246187 -0.037643995 -0.08905872 -0.25320154 -0.045271736 -0.12128447 -0.08608456 -0.13773288 -0.1697078 0.14229071 -0.104640074 -0.058865722 -0.19064924 -0.07678225 0.017395299 -0.21865484 -0.60007566 -0.0374998 -0.2606856 0.013353302 -0.12060353 0.029359123 -0.008461285 0.04541695 -0.33475786 -0.27931795 -0.07737902 -0.20687541 -0.03888411 -0.30644852 -0.048178557 -0.2594125 -0.113065414 0.02117056 0.016900728 -0.38173848 -0.24108334 0.06983791 -0.16440661 -0.06832098 0.19332811 -0.08021879 -0.08383941 0.00030839798 -0.20757483 -0.09686588 0.13260026 -0.04971096 0.914979 -0.05091112 -0.067846015 -0.17692396 0.05680482 -0.02767712 -0.17796698 -0.04912625 -0.4312301 0.013259369 -0.10735397 -0.06961019 -0.05210781 -0.21740445 -0.026751928 -0.7334833 -0.075979576 -0.15434104 -0.12101858 0.057381835 -0.105948955 -0.0963059 -0.11338354 -0.13717473 0.10010376 -0.022146175 -0.11566432 -0.17461626 -0.07120489 0.04877278 -0.044852406 -0.0011307315 0.04771757 -0.20795554 -0.07095793 -0.26282316 -0.04871802 -0.055529706 -0.01595926 -0.004558866 -0.0808394 -0.077789485 0.13640282 -0.10601666 -8.820463 -0.16869748 -0.101179674 -0.2092426 -0.28643012 -0.23556587 0.021380793 -0.30298322 -0.02844417 -0.009872853 -0.15758903 -0.12669379 -0.17964244 -0.05249071 -0.31687072 -0.100849316 0.03597723 -0.24704568 -0.24575818 -0.049085498 -0.10683414 0.1518388 -0.045212936 -0.21928686 -0.1518689 -0.13638207 0.11682843 -0.22514638 -0.018729588 -0.1851708 0.16522172 -0.088300586 0.038360104 0.0038352122 -0.054323774 -0.014979056 -0.41469416 -0.1805617 -0.12316301 -0.042719122 0.037786752 -0.16807668 -0.30014595 0.0062490487 0.027878137 0.02386548 -0.16120568 0.08218986 -0.05966901 -0.11526507 -0.09293525 0.042968124 0.008878505 -0.19537233 -0.052597858 -0.15465623 0.17150353 -0.20970024 0.07310726 0.67630816 -0.10395748 -0.065211095 -0.1876051 0.06511818 -0.010812823\n",
            "\n",
            "toys -0.11741587 -0.09288692 -0.24613263 0.02016178 0.020790579 -0.13871343 0.018414889 0.015953993 -0.17725983 -0.057444073 0.36357114 -0.099744655 -0.011123425 -0.031274945 -0.15036274 -0.095675886 -0.26450685 -0.14919521 0.10271392 -0.23218693 0.034554724 -0.16586344 -0.24839292 0.098098956 -0.058125332 0.06508264 -0.3264416 -0.1396404 -0.072819546 -0.28819737 0.019175809 0.060490604 -0.15817338 -0.27302548 -0.054938275 -0.08060377 19.506222 -0.010139254 -0.0277631 -0.039131515 -0.07213556 -0.028287487 -0.03802197 -0.3200062 -0.035513572 -0.09362383 -0.099302165 -0.050609775 -0.301775 0.099689856 -0.13160525 0.15911847 -0.042276222 -0.067099124 0.037274636 0.20330642 0.0023745745 -0.21862213 -0.11113341 -0.22251198 0.012552638 0.009350248 0.07275189 -0.16420165 -1.0433687 -0.020391949 -0.065608874 -0.06410056 -0.3740395 -0.12265202 -0.06312836 -0.12702663 -0.13394363 -0.11469176 -0.059976168 -0.36127353 -0.119853005 -2.0339603 -0.0012661308 -0.019713359 -0.3090996 -0.067189984 0.010749754 -0.32708544 -0.07799856 0.24956967 -0.13414405 -0.9918409 -0.012897747 -0.06634804 -0.08319956 -0.20628627 -0.3828224 -0.109779395 -0.16422586 -0.11832709 0.011006225 -0.059672594 -0.0015721035 0.061533716 -0.016353909 0.01330636 0.23439144 -0.034978647 0.09972209 -0.11820628 -0.16827136 2.4279613 -0.041720785 -0.111069016 -0.18581566 0.033190515 -0.22434373 0.03032916 0.002686622 -0.03493513 0.044238772 0.04997964 -0.085858986 -0.067325495 -0.21102291 0.02176926 -0.09514793 0.017630568 -0.14361353 -0.039925627 0.0032528269 0.14914314 -0.013385423 -0.10944084 -0.07274842 0.020229215 -0.013085373 -0.08009187 0.0510085 -0.092940435 -0.037155915 -0.07213439 0.729903 0.102971554 -0.15444805 -0.0581098 -0.53178006 -0.003501916 -0.014455096 0.17354049 -0.014779896 0.039722655 -0.03941751 -0.26925611 -0.115914255 -0.17258444 -0.19404042 0.01107166 -0.036099043 0.041710727 0.030913012 -0.112443164 0.08583254 -0.121275425 0.10614429 -0.13313504 0.022188665 -0.057130367 -0.304049 -0.007233599 -0.044863354 -0.90178585 -0.14266282 -0.30579397 -0.07946317 -0.044979617 -0.020006431 0.09797191 -0.15597035 -0.27062872 -0.1014053 -0.21627603 0.011309629 -0.03061478 -0.18448496 -0.11697072 0.060773347 0.0078006866 -0.032672446 -0.13759235 -0.00525918 -0.0072949817 -0.024378251 0.042506836 -0.14777295 -0.15278032 -0.14254226 -0.06760222 -0.11542193 -0.045265462 0.019968603 -0.093443975 -0.057417035 -0.3527065 -0.15584423 -0.05104112 -0.15057549 -0.19790362 -0.04128517 -0.05730956 -0.09242604 -0.04665812 0.04530276 -0.07669622 0.071806155 0.028282946 -0.109927796 -0.0101767825 0.0014586017 -0.12421743 0.0671222 -0.1538587 -0.14442271 -0.07109772 -0.03249378 -0.075036265 -0.026313636 -0.004464507 -0.024695259 -0.17843527 -0.015659587 -0.11777532 0.02459405 -0.15289305 0.14457993 0.061203983 1.5729623 -0.09034864 -0.08192016 -0.12794754 -0.12997706 -0.03476838 -0.111382715 -0.029567674 -0.020274518 0.069680505 -0.02515434 -0.0640808 0.059571564 0.089106746 -0.23165858 0.03334798 0.008134877 -0.30480748 -0.4008462 -0.17941836 0.03600149 -0.15720092 -0.09110442 0.17035541 0.03776179 0.08547749 -0.08274332 0.025627395 0.028871402 -0.06499005 -0.074817024 0.061232142 -0.11762729 -0.11164307 -0.9714216 -0.17512496 -0.17409426 -0.12844568 -0.5226834 -0.2643117 -0.06326623 0.13603114 -0.1651851 -0.2005302 -0.021311175 -0.12225793 -0.08008833 -0.0067379936 -0.13895518 -0.14152177 -0.0359068 0.10107233 0.15422736 -0.14792477 -0.22214653 -0.10522126 -0.26339316 -0.008885073 -0.09343049 -0.09055891 -0.07881529 0.053868346 0.03475614 -0.15797652 -0.078722194 -0.09394402 -0.08650255 -0.04772663 -0.010843548 -0.012597557 -0.05956361 0.017118081 -0.13847749 -0.057021387 0.062693484 -0.1831611 -0.6803975 -0.03475147 -0.0077989125 0.24300972 0.010962289 -0.27977258 2.1461625 -0.161263 -0.104241714 0.040166236 -0.06806955 0.014408437 -0.30577233 -0.22881508 -0.23071727 -0.121324085 -0.019428743 -0.07901022 -0.1723027 -0.11399348 -0.001137862 -0.20253626 -0.08524291 -0.07616416 -0.06455876 -0.08008173 0.12727772 -0.29545766 0.1055233 -0.16399965 -0.0491178 -0.15595338 -0.027077377 0.015792044 -0.17007922 -0.15258473 -0.079249166 -0.051823273 -0.052112833 -0.35425416 0.0066338987 0.08026106 -0.066649586 0.13511343 0.053315144 -0.23307218 -0.08012569 -0.10733447 -0.37502384 -0.028376682 -0.116441295 -0.065715164 -0.11923684 -0.18223907 -0.31645402 -0.07141347 -0.15729623 -0.67695445 0.0368281 -0.005312125 0.0523599 0.08081385 0.04688048 -0.13949656 -0.026613846 -0.7380331 -6.876461 -0.13202079 -0.2997961 0.08966739 -0.70292765 -0.07281707 -0.016638633 -0.19569509 -0.1090016 -0.21440506 -0.2839134 -0.061255977 0.19213606 -0.038436726 0.08295808 -0.38191867 0.17313294 -0.016242001 0.050595086 -0.43530765 -0.08864753 0.050671037 -0.33117956 -0.0095684575 -0.036928903 -0.0822888 0.0070985486 -0.10289594 0.058668956 0.0041175405 -0.098914266 0.05221136 -0.0884978 -0.16905689 -0.5402087 -0.01669685 -0.27969623 -0.04083797 -0.080970265 -0.20704897 -0.0009499234 -0.18537636 0.013096117 -0.19734527 -0.012949285 -0.04930624 -0.3122512 -0.26102024 0.059897363 -0.11192154 -0.03422433 -0.039392285 -0.07139963 -0.08166256 -0.12660062 -0.16236357 36.30112 0.02690136 -0.014323251 -0.15953413 -0.17698158 0.04504678 -0.11718581 -0.023638647 0.054792464 0.2510036 -0.034127012 -0.010633417 4.6384916 -0.09213526 -0.09924959 0.01992397 -0.040565923 1.7025656 -0.068859726 0.027583769 -0.20432995 -0.026475336 0.06551611 -0.3996905 -0.1931013 0.21046077 -0.13087276 -0.08212132 -0.009422246 -0.08601456 0.21710974 0.0022392597 -0.019564414 -0.13291897 -0.123879544 -0.22621055 -0.040297493 -0.07079721 -0.07757153 -0.05624278 0.08310869 -0.06242388 -0.110846974 0.08838002 0.09112559 -0.17674544 -0.02637015 -0.13647635 -0.17468609 -4.2129097 -0.8559357 0.6955111 -0.08881567 -0.11176539 0.004730292 -0.13461292 -0.074080564 -0.10822796 0.08995889 -0.030703321 0.058969676 -0.106220365 -0.2042456 -0.08034895 -0.26229545 -0.11606086 51.6305 -0.2350368 -0.0245142 0.021828514 0.039166056 -0.08452355 0.036746085 -0.6788856 -0.09701365 -0.03698484 0.015032939 0.099885955 -0.0869701 0.12750532 -0.04434889 -0.3143858 -0.01789804 -0.18752617 -0.23398179 -0.33505094 -0.027810471 -0.12249939 -0.18914184 -0.15003961 -0.041342985 -0.116532356 -0.0302195 -0.12031866 -0.11374969 -0.47102588 -0.0075841923 -0.47737366 -0.22830908 -0.022308176 -0.07503154 -0.12183904 -0.11881248 0.010768674 -0.14809157 0.12545113 0.032998465 -0.19426627 -0.19328082 -0.057617474 0.40233493 -0.16778 -0.096221484 -0.4548534 -0.097815655 -0.009379113 -0.085387066 -0.107550636 -0.06317223 -0.27047688 0.034298263 0.00079538894 -0.08341618 -0.14190745 -0.5208106 0.021599235 0.07338329 -0.011696655 -0.07509984 -0.14477944 -0.1775461 -0.06896386 -0.14047445 -0.04016564 -0.1319415 -0.00096686947 0.1354267 -0.2320239 -0.0074972855 -0.13414128 -0.12965529 0.034768246 0.022677815 -0.19446732 -0.15292835 -0.15870418 0.012280294 -0.12369093 -0.11767127 0.06326738 0.011384033 -0.019571386 0.17762455 -0.108350694 -0.111738004 -0.036635123 -0.010121959 -0.21803185 0.06319897 0.06115875 0.13395025 -0.024187133 -0.12754798 0.009176148 -0.03893331 -0.037108175 -0.026312215 -0.0043980614 -0.060833406 -0.030367525 -0.068621926 -0.06124707 -0.22508417 0.013428378 -0.037869442 0.025456885 -0.16905196 -0.052306697 -0.30586576 -0.07366391 -0.09220857 -0.1874362 -0.024830244 -0.03993842 -0.18199506 -0.06499847 -0.15832993 -0.13074923 -0.096954495 -0.10570872 0.08976253 -0.12417486 0.048953924 -0.17306654 -0.14409195 -0.00914868 -0.19859552 -0.695652 -0.09406631 -0.19290456 0.03797504 -0.20199838 -0.010248482 -0.07315764 0.002725579 -0.5762648 -0.34075084 -0.008148274 -0.21690112 0.03673479 -0.24249505 -0.13749903 -0.23983681 -0.053114984 0.054987382 0.007910331 -0.30228192 -0.19849843 0.12748228 -0.023142917 -0.1264296 0.049449656 -0.03547709 -0.19426465 0.046676528 -0.05792462 -0.0485812 0.13540508 -0.20379622 0.7386218 -0.096670434 -0.059794594 -0.20158474 -0.029323831 0.07466961 -0.18318631 -0.14147075 -0.28899813 -0.029610602 -0.09650928 -0.028006963 -0.07914766 -0.0957196 0.074450776 -0.6289598 -0.059406683 -0.17706057 -0.17870826 0.012066933 -0.0017097945 -0.16873398 -0.0057373377 -0.1150653 0.10202852 -0.06841534 -0.024767388 -0.17654593 -0.07142846 0.060823657 -0.03410601 0.025724573 -0.030536488 -0.066833906 -0.024759067 -0.09838197 -0.12597364 0.041529574 0.022497969 0.053967096 -0.007518993 -0.023720011 0.13646919 -0.059580628 -8.855289 -0.14221223 -0.14573906 -0.21693686 -0.16816562 -0.28096148 0.0030703505 -0.22190194 -0.019109558 -0.19917715 -0.0724995 -0.106096715 -0.19023812 -0.21440895 -0.18652986 0.10108994 -0.010648113 -0.101049155 -0.08909717 0.023744874 -0.15585507 0.3792306 -0.01514572 0.108154714 -0.11644068 -0.08791886 -0.019267641 -0.07821137 0.0057537896 -0.10723959 0.024177266 -0.08636833 0.07286477 0.0023858729 -0.1035186 -0.0779728 -0.29112348 -0.08984708 -0.1530901 -0.21479313 -0.07386139 -0.21050394 -0.3458249 -0.06585686 -0.03140306 -0.059925035 -0.26268977 -0.0049583204 -0.11198558 -0.052498024 -0.11807068 -0.0050829262 0.10755519 -0.15262637 -0.004151226 -0.16068284 0.080505244 -0.23032445 -0.027369082 0.5981759 -0.14121072 -0.023661703 -0.17022093 -0.012279046 0.01195112\n",
            "\n",
            "books -0.04916407 0.05104823 -0.4964654 -0.02595954 0.0066473773 -0.09612976 1.4653645 0.028654236 -0.10684342 0.0148389265 0.37981102 0.011155514 -0.06427889 -0.011156979 -0.28545824 -0.104704775 -0.021699034 -0.1794478 0.12239794 -0.12900776 0.18875386 -0.23492351 -0.28172868 0.022101177 -0.08628517 0.116485015 -0.16951138 -0.10596059 -0.08565871 -0.23440818 0.032555453 -0.04533063 -0.07706118 -0.34914765 0.0002619107 0.055438623 24.186556 0.031260263 -0.06418355 0.1365596 -0.060693208 0.053498656 -0.09012466 -0.3514222 -0.14391492 0.07389141 -0.068714604 -0.058150627 -0.34691286 0.27825853 -0.097802535 0.12874125 -0.051162004 -0.028097939 0.08796528 0.29328123 -0.05279706 -0.16929868 -0.093604825 -0.27352163 0.002443758 0.045291033 -0.16869465 -0.17139575 -1.0416445 -0.14458668 -0.045052525 -0.037333302 -0.21003383 -0.12371652 -0.24441907 -0.13970627 -0.19594944 -0.13886593 -0.08109779 -0.2637452 -0.16232584 -0.8909934 -0.059808183 -0.10648975 -0.46134022 -0.14772153 -0.038656462 -0.36316234 -0.054088138 0.09227274 -0.19224061 -0.9909767 -0.07470305 -0.11892558 -0.06650076 -0.29893818 -0.1924931 -0.10128594 -0.13506965 -0.14497766 0.13440835 -0.0074994653 0.05056229 0.074902326 -0.120980546 0.023602234 0.3545218 -0.056331214 -0.05122407 -0.10118618 -0.10370438 2.902591 -0.05931234 -0.11528745 -0.06645341 0.041895192 -0.21446961 0.06342566 0.05456241 0.062341366 0.06503751 0.110114574 -0.0893946 0.00550097 -0.15309778 0.01705282 -0.019677438 0.023690766 -0.12710948 -0.08201217 -0.11469912 0.0030182782 -0.27321506 -0.05491733 -0.010962493 0.03187136 0.004593574 -0.15320037 0.046645217 -0.10929008 -0.045603685 -0.3374704 0.7157605 0.13190337 -0.04951461 0.024705853 -1.0205296 -0.065010116 0.058899503 0.099649794 0.08602232 -0.13931197 0.046650432 -0.24734129 -0.1395534 -0.0516436 -0.14824022 0.064758256 -0.24959046 0.06102138 -0.011205221 -0.25175613 0.044759974 -0.05124495 0.39181414 -0.06714623 -0.00906242 0.013081515 -0.22709063 -0.027046314 -0.24140197 -1.0842733 -0.13972399 -0.1860055 -0.209565 -0.17793053 -0.12232996 0.18395077 -0.16620323 -0.061231747 -0.29536477 -0.14873381 -0.123874836 0.048093732 -0.17138875 0.01041617 0.07035517 0.107013755 -0.00014243128 -0.16178927 -0.06668693 -0.19026187 -0.02106091 0.027636075 -0.12809385 -0.14595231 -0.14153084 -0.10195481 -0.16757464 -0.1571884 0.010681222 -0.06291811 -0.009284465 -0.38782305 -0.09503779 0.076756746 -0.13339539 -0.13528606 -0.039283484 -0.008313239 -0.08142423 -0.14554928 -0.06309418 0.013121351 0.06884779 0.23409702 -0.023259437 -0.15160617 -0.06608591 -0.060503803 -0.18562424 -0.1644382 -0.2831112 -0.054890424 0.06599262 -0.053997673 -0.04136025 -0.16681196 0.08495171 -0.101987354 -0.2100184 -0.023011586 0.0038960048 -0.12977646 0.23682843 -0.06837485 0.7958099 -0.04761681 -0.10314275 -0.24041876 -0.08381484 -0.12598445 -0.11423426 -0.010925253 -0.033499576 0.42751896 0.14107986 -0.051051058 0.055094365 -0.02093681 -0.1432562 0.1986434 -0.01886382 -0.18537866 -0.5176612 -0.27269194 -0.025866963 -0.06295878 -0.14181712 0.13989004 0.1111859 0.11166139 -0.071186475 -0.0029762506 0.022437822 -0.13141254 -0.01855638 0.11075084 -0.17482641 -0.15364017 -0.9702612 -0.12525211 -0.20174627 0.15037078 -0.30693406 0.4159094 -0.033105407 0.08858254 -0.041349333 -0.25830957 -0.17264657 -0.0051078554 -0.0578084 -0.05766444 -0.0238951 -0.09155437 0.047190003 0.0064434744 0.09927358 -0.059854716 -0.16548762 -0.22076023 -0.08085072 -0.2306538 0.12751864 -0.14133073 0.008037289 0.03661208 0.2504247 -0.19223286 -0.09288482 -0.16268949 -0.027557211 -0.03323972 -0.10901566 0.08235841 -0.10577941 -0.040399645 -0.11446611 -0.030192371 0.11668712 -0.080211475 -0.67067873 -0.021976778 -0.029713225 -0.007308763 0.053162307 -0.084955856 -5.783413 -0.21064183 -0.1843299 -0.07469914 -0.016361073 0.10527121 -0.4973608 -0.29901567 -0.25097322 -0.06303385 0.021537287 0.036680143 -0.09667172 -0.08472443 -0.057144 -0.25373346 -0.11903796 -0.104104266 0.03426895 -0.13751875 0.12219784 -0.23184183 -0.2048868 -0.1927633 -0.05899395 0.018331472 -0.062026437 0.05485904 -0.15318017 -0.31490603 -0.11473107 0.09000057 -0.07334225 -0.35859135 -0.011252367 -0.010074779 -0.18818508 0.20733641 0.056557707 -0.3264331 -0.018801881 0.015281856 -0.56360704 -0.06253397 -0.005584759 -0.12068765 -0.25318798 -0.17825489 -0.50585175 -0.10720848 -0.12205172 -0.8685148 -0.14424866 -0.06132359 0.032855645 -0.04736917 0.14337125 -0.17477824 -0.054089684 -0.7450049 -8.9910755 -0.04611832 -0.20483166 0.30906546 -0.673485 0.072157785 -0.17409542 -0.11933156 -0.075179584 -0.20450819 -0.13650045 -0.19584413 0.21401894 0.026615893 0.022097766 -0.5235151 0.25343493 0.03988461 0.13456649 -0.5047528 -0.2535988 -0.00727612 -0.29300728 -0.023887271 -0.01026967 -0.032033835 -0.040095836 -0.074720286 -0.06090693 0.005177369 -0.09147433 -0.020166844 -0.16639178 -0.12104852 0.30724806 -0.016544694 -0.34035093 0.0560465 -0.13748083 -0.21449687 -0.1024752 -0.16522546 -0.046249006 -0.061471026 -0.1248891 0.07781035 -0.36344412 -0.22092372 -0.0044699707 -0.14502256 -0.019792423 -0.048099265 -0.11419403 -0.09172576 -0.1386548 -0.24195346 42.019913 0.08198235 0.097929336 0.012246683 -0.20182267 0.17811726 -0.08964869 -0.054609362 0.19706897 0.3259983 -0.12495484 -0.07286698 4.947306 -0.035568725 0.0067538866 -0.048852403 -0.16715403 1.6998909 -0.17319562 0.045999132 -0.22788171 -0.011917833 0.053632677 -0.37644693 -0.07653147 0.25625086 -0.24738334 -0.08848852 0.059775557 -0.036024593 0.23149788 0.110998414 -0.10241348 -0.21824 -0.075454704 -0.29967725 -0.077797405 -0.25453302 -0.16293159 0.024106858 0.042704426 -0.11399348 -0.12826934 -0.032930084 0.047295876 -0.14488338 -0.04894005 -0.10760971 -0.24076279 -3.5800297 -0.8549048 0.69902295 -0.13242806 -0.08101051 0.05445008 -0.051548727 0.0024724246 -0.16229613 0.112572454 -0.1897503 0.03849706 -0.05997417 -0.11005828 -0.20245847 -0.17026292 0.068635635 57.126408 -0.17523263 0.022699999 -0.026070638 0.09559663 -0.035715748 -0.07574093 -1.6530474 0.08840661 -0.06988232 0.12328399 0.04730446 0.20488988 0.12171038 -0.05564167 -0.37016425 -0.05363198 -0.09812325 -0.20227282 -0.5021372 -0.10642654 -0.09568755 -0.2057494 -0.11843722 0.007659453 -0.2221999 -0.05110138 -0.05033402 -0.070365004 -0.17567922 -0.37780973 -0.46615255 -0.29875347 -0.030790364 -0.054662034 -0.051417515 -0.1109871 -0.0391282 -0.18097758 -0.07049099 -0.0009663939 -0.17988762 -0.13394268 -0.027391864 0.35695034 -0.17082275 -0.05611222 -0.40665084 -0.24659282 0.05922258 -0.052089896 -0.09966556 -0.04027156 -0.21250716 0.049308743 0.06780916 -0.021853097 -0.113741584 -0.3983702 -0.112101845 0.12048068 0.051639 -0.16504565 -0.29443893 -0.22102506 -0.03167281 -0.17620511 -0.05520756 -0.0976978 -0.113607764 -0.19017543 -0.2064691 0.0006521747 -0.41493607 -0.073230155 -0.09518968 -0.19798481 -0.13174585 -0.20317982 0.10239632 0.020960903 -0.18087608 -0.046634406 0.06327826 0.08010359 -0.097117834 0.17304593 0.029634243 -0.15512484 -0.09460862 -0.050458387 -0.20109876 -0.03934266 0.13610648 0.10940408 -0.06628571 0.0025149977 -0.1301408 -0.006760101 0.024720734 -0.13439293 0.031503245 -0.1231171 -0.028177988 -0.07274329 -0.12915055 -0.15747383 -0.0418104 0.012748947 0.04457972 -0.13736323 0.07396672 -0.54054165 0.0067602163 -0.121451244 -0.06161159 0.0054738712 -0.070683405 -0.16658068 -0.030332902 -0.102851935 -0.16948006 -0.09558252 -0.20688029 -0.01493984 -0.07855685 -0.09987472 -0.0017039395 -0.16781469 0.06749498 -0.21051124 -1.8396106 -0.1049692 -0.334167 0.0054462613 -0.20617454 -0.038236644 -0.09599823 0.02662336 -0.66334605 -0.3502276 0.05072396 -0.15744382 0.09447443 -0.3493441 -0.08502167 -0.28751585 -0.35065615 -0.17017598 -0.052481186 -0.2890532 -0.252778 0.0856358 -0.05312245 -0.034161713 0.064549014 0.024215441 -0.1300513 -0.017285798 -0.009218959 -0.024802536 0.11101171 -0.0850329 0.2413518 0.018005682 -0.068455204 -0.08730548 -0.06681043 -0.058758583 -0.0017726267 -0.17032288 -0.16976687 0.1468337 -0.00908633 -0.09312601 -0.10735908 -0.13786474 0.09679458 -0.74257076 -0.01634208 -0.2595672 -0.09389503 -0.07189131 0.962211 -0.09615741 -0.021835944 -0.22613929 0.100950375 -0.12533186 -0.015035365 -0.023802215 -0.11580789 -0.019001398 0.057192862 -0.021380018 0.053796165 -0.032782268 -0.06790753 -0.17062142 -0.028401367 0.009095875 -0.05011101 0.14904691 -0.044712607 -0.024274485 0.064826116 -0.19070913 -5.084688 -0.18871091 -0.2207719 -0.24136035 -0.033603683 -0.27719066 -0.080267094 -0.084755376 -0.055530693 -0.32752857 -0.16942959 -0.1846656 -0.1991368 -0.25236058 -0.14369221 -0.19749698 -0.13509178 -0.06161132 0.024877911 -0.007512526 -0.16273606 0.51722115 -0.020974694 0.1396491 -0.14073206 -0.22407633 0.03479406 -0.03914762 -0.035872277 -0.23794894 -0.040140424 -0.18795322 0.10439346 0.1443874 0.006912581 -0.3508656 0.051718906 -0.21040498 -0.15757775 -0.35168874 -0.06984226 -0.37649032 -0.71710503 -0.19816983 -0.026809279 -0.2034849 -0.14848542 0.0061087976 -0.13815647 0.008510199 -0.15545666 0.06315455 0.11294447 -0.1285174 -0.027485024 -0.08222971 0.03773386 -0.21661077 -0.046975195 1.2527549 -0.15928228 -0.15220554 -0.12909776 0.026791448 -0.02535576\n",
            "\n",
            "movies -0.009757254 -0.1033006 -0.36988646 0.044755835 0.025420122 -0.20710306 -0.4239843 -0.010818848 -0.25499827 0.10825441 0.3194189 -0.023218675 0.013945371 0.015912326 -0.055260837 -0.06786283 -0.20502912 -0.07355923 0.11713514 -0.1589218 0.0612129 -0.045332823 -0.19020331 0.14231905 -0.10215586 0.15285803 -0.35491806 -0.147641 -0.07389235 -0.22201869 0.010513424 0.03347285 -0.17309731 -0.270927 -0.07637422 0.034208484 22.232687 0.023968834 0.033172727 0.10796957 -0.106959864 -0.039728135 -0.060737997 -0.29870713 -0.169815 -0.06584202 -0.052140746 -0.06332458 -0.22514361 -0.0032055262 -0.12795712 0.08563396 -0.103881836 -0.056692235 0.03236341 0.14923942 0.13497551 -0.1596654 -0.062493987 -0.2473245 -0.07222579 0.013669808 -0.023652812 -0.071390174 -1.0448444 -0.117571995 -0.09063229 -0.052598234 -0.12767299 -0.13881004 -0.15313566 -0.08340142 -0.2024829 -0.14584774 0.0110387085 -0.35902682 -0.18926367 -1.9293463 0.014651048 -0.11474624 -0.37936217 -0.13941734 -0.07631978 -0.28938538 -0.09799521 0.18567172 0.025356842 -0.9925662 -0.08607728 -0.075682074 -0.040070284 -0.15232886 -0.30228427 -0.06708627 -0.19059126 -0.067282334 -0.09601261 -0.029180232 -0.0015520755 0.058092862 -0.042660467 0.09930997 -0.16078186 0.0972337 0.03725014 -0.15930745 -0.14624521 2.0727546 0.026836982 -0.13585356 -0.139284 -0.007630161 -0.17687094 -0.005420497 -0.02426297 -0.016197776 0.05166944 0.10532803 0.0017958478 -0.17054789 -0.1270363 -0.020932948 -0.07378187 -0.019379692 -0.10614573 -0.015138641 -0.09125336 0.16499062 -0.2010113 -0.08143876 -0.11395713 0.04736601 0.09197068 -0.21895644 0.080259755 -0.0722563 -0.011953525 -0.118941195 0.68016386 -0.031016108 -0.1037272 0.043347653 -0.21967155 -0.013149972 0.030148419 0.16806422 0.009443537 0.0042792875 0.09498598 -0.154503 -0.12052818 -0.14613916 0.017366555 -0.035822444 -0.11274803 0.060464405 0.003927229 -0.1728964 0.01849026 -0.07553302 -0.14259909 -0.10588991 0.04219185 -0.0037809333 -0.30285028 -0.03622674 -0.12185327 -1.277108 -0.09592643 -0.15214707 -0.16180253 -0.029333865 -0.091976926 0.108375505 -0.051501233 -0.26686972 -0.03155699 -0.2292725 0.02317513 -0.025828024 -0.15395457 -0.032592323 0.06006402 -0.0558511 -0.019915551 -0.07562287 -0.017165428 0.103005625 0.0032498015 0.015857533 -0.1376426 -0.030955918 -0.218947 -0.07893151 -0.07790743 0.019053387 -0.010035024 -0.08922007 -0.042767823 -0.31378353 -0.13008258 0.06676072 -0.10588283 -0.2324314 -0.049122185 -0.04431608 -0.057479978 -0.10614413 -0.024117999 -0.067903504 0.080508165 0.07319553 -0.063786745 -0.30176175 -0.02451832 -0.09366416 -0.13085647 -0.10035533 -0.15984473 -0.0789445 -0.004274565 -0.037336346 -0.06867049 -0.052204557 -0.019656124 -0.029341279 -0.03684589 -0.062750466 0.07879879 -0.09116678 0.103474475 -0.041515384 1.4151928 -0.12457857 -0.06558219 -0.13134547 -0.21758327 0.019484812 -0.020940695 -0.0039709806 -0.07800208 0.103522584 -0.011957128 -0.08730213 0.04905237 0.08314314 -0.2613742 -0.08243967 0.05110716 -0.3754603 -0.48622262 -0.1361456 -0.019199152 -0.099758 -0.07174798 0.2499375 0.06677261 0.024954159 -0.05914832 -0.08085629 -0.0004199007 -0.04312073 -0.0074529396 0.007174618 -0.09735145 -0.17229895 -0.9728373 -0.14862923 -0.18977325 0.045785364 -0.40651676 -0.1809075 -0.050237235 0.121093504 -0.08601306 -0.20348014 -0.09344619 -0.14165668 -0.084961675 -0.09940529 -0.138669 -0.047006544 -0.07491767 0.056602404 0.14657477 -0.14666587 -0.1954704 -0.20280583 -0.24697715 0.012969992 -0.15040587 -0.17606457 -0.102935426 0.003778872 0.20524862 -0.12328571 -0.0014695311 -0.2266876 0.022746647 0.028795566 -0.01932721 -0.03989108 0.18268247 -0.020810872 -0.17574784 -0.025317779 0.07489043 -0.15801682 -0.41662806 0.0035937096 0.07902534 -0.056234144 0.043279406 -0.1814849 2.801748 -0.13425362 -0.041531447 0.044856768 -0.029877558 0.13854302 -0.45879066 -0.21951012 -0.21940012 -0.18422356 0.021015525 0.020842852 -0.2748585 -0.09440712 0.014891226 -0.30997968 -0.08825504 -0.13581467 -0.024055958 0.0053043887 0.06850709 -0.2584907 0.25399318 -0.1054677 -0.07786302 -0.20310411 -0.08933961 -0.06520117 -0.1039503 -0.148039 -0.030264348 -0.064472206 -0.035727374 -0.32501015 -0.0292374 0.033828128 -0.048407942 0.37138215 0.03979553 -0.23575556 -0.05983876 -0.11635383 -0.43172044 -0.032857407 -0.069203064 -0.053084932 -0.16382852 -0.28655088 -0.4405973 -0.08416225 -0.14525066 -0.7712038 -0.15520336 0.01655725 0.10417706 0.076727055 0.15751474 -0.1368314 0.041984152 -0.74301296 -7.7375445 -0.22581865 -0.13118128 0.20333546 -0.5488055 -0.08525678 -0.041842505 -0.1051171 -0.16356145 -0.08778631 -0.34378898 -0.17711328 0.19981718 0.00043888422 0.048775267 -0.376489 0.12530425 -0.043741796 0.025484823 -0.42541236 -0.08078587 0.03245973 -0.2997543 -0.07084395 -0.06292186 -0.036282953 0.05001956 -0.09655208 0.027997036 -0.055738475 -0.13678509 -0.06767301 -0.10955392 -0.21896684 -0.3990268 0.019826038 -0.29551992 -0.05866661 -0.12783398 -0.14796694 -0.052876957 -0.14294447 0.07401152 -0.12586755 -0.065964654 -0.0065715564 -0.42648634 -0.2944011 0.095670216 -0.061838165 -0.044373255 -0.06636902 -0.088096075 -0.11241789 -0.13967647 -0.13233876 37.368694 0.022857426 0.03898956 -0.064713806 -0.1324141 -0.0155977225 -0.19794841 -0.10071738 0.005386158 0.29139647 -0.053876825 -0.06651007 5.1492233 -0.12580043 0.039317217 0.06118641 -0.06329209 1.7026389 -0.066509135 -0.040177364 -0.17734991 -0.03161222 0.042674452 -0.45822576 -0.16884886 0.037138015 -0.07145645 -0.124668546 -0.032584976 -0.07034828 0.14710611 0.12718587 -0.06791424 -0.1782515 -0.14198047 -0.21866404 -0.016541015 -0.11110086 -0.07070039 -0.04124608 0.11436574 0.101565935 -0.12384508 -0.0006085813 -0.013300258 -0.2601462 0.03865526 -0.20880501 -0.16589442 -3.4136927 -0.85692734 0.6977449 -0.08537098 -0.10996984 0.045806378 -0.120332725 -0.05664854 -0.080301754 0.07365539 -0.0683321 0.13500209 -0.14742553 -0.18497178 -0.025967816 -0.34770954 -0.016059097 54.298542 -0.25786704 -0.016922973 -0.002509519 -0.030669859 -0.06476504 -0.024537975 -1.0289427 -0.11936237 -0.07382935 -0.03914688 0.06817166 0.00053837214 0.16531044 -0.048712786 -0.24989486 -0.056582443 -0.14078674 -0.24143481 -0.24228278 0.020296648 -0.15561931 -0.12735415 -0.12796783 -0.040302966 -0.10691515 -0.01009079 -0.06556767 -0.20369005 -0.15806429 -0.20356703 -0.5773508 -0.23626414 -0.046613503 0.010386524 -0.12901922 -0.121384315 -0.054707993 -0.18520847 0.07253935 0.07479114 -0.14848964 -0.018880801 -0.121653914 0.38498205 -0.17523941 -0.05173679 -0.5108691 -0.08788545 0.11198541 -0.089974865 -0.09200684 -0.107330635 -0.2774351 0.04354775 -0.19925232 -0.15303522 -0.1413342 -0.78568095 -0.057393238 0.044866115 -0.028684512 -0.12845397 -0.1868052 -0.16994825 0.011311228 -0.08546955 -0.0045093596 -0.10980897 0.106599696 0.06655713 -0.1864399 0.021387538 -0.15669157 0.0032491398 0.003650763 -0.06375784 -0.11413929 -0.16941422 0.07104794 0.043791946 -0.06584493 -0.14062916 0.056135613 -0.019155707 0.082186006 0.02136105 -0.108547546 -0.11435443 -0.07251401 -0.04769876 -0.31868118 0.07669548 0.021083267 0.21257794 -0.007670389 -0.023416879 0.062948845 -0.11403126 -0.0873836 -0.058155287 -0.07985571 -0.100206345 -0.058102064 -0.12999038 -0.07318538 -0.29826885 -0.1115483 -0.011132547 -0.0029873855 -0.15489331 -0.07370477 -0.36493018 -0.0017663082 -0.060085673 -0.26042575 -0.057060424 -0.0055912295 -0.22294965 -0.10002006 -0.09653056 -0.13357718 -0.0021531174 -0.11404563 0.05965133 -0.11267666 -0.014457086 -0.044932734 -0.12936601 -0.034407582 -0.10486474 -0.3850349 -0.046223443 -0.20952848 0.024426116 -0.23789454 -0.044682674 -0.05403783 -0.11798343 -0.6194283 -0.36398178 0.06499305 -0.19900085 0.029057913 -0.053116947 -0.2066776 -0.15247017 -0.14285566 -0.0390782 0.009867585 -0.3370062 -0.22884834 0.12813902 0.047018174 -0.114862464 -0.048996318 -0.032985374 -0.20279674 -0.041380458 0.033084415 0.022630159 0.19113494 -0.124974295 0.81660044 -0.071317464 -0.068877526 -0.12663718 0.029200936 -0.0031678663 -0.17381048 -0.20670192 -0.18043374 0.03115514 -0.058254432 -0.018173687 -0.119727075 -0.13237303 0.1133892 -0.5596429 -0.044432607 -0.15347247 -0.08004973 -0.04405534 -0.5380475 -0.12695844 0.0022464362 -0.16485862 -0.016674984 -0.020431323 -0.028474675 -0.23165679 -0.06878162 0.14641854 -0.041926663 0.011724594 -0.09110033 -0.08372296 -0.014968431 -0.13863671 -0.075859204 -0.05488934 -0.05676336 0.08004216 -0.16673058 -0.031886965 0.23377058 -0.050537374 -7.782398 -0.24277729 -0.09356215 -0.08530045 -0.14447866 -0.26457345 -0.043493778 -0.22952911 -0.06662898 -0.15678461 -0.051796347 -0.22066817 -0.0764804 -0.06734375 -0.22870077 0.033123083 0.076210715 -0.17414752 -0.19385602 -0.1291917 -0.026960403 0.30039102 -0.05419872 0.003926944 -0.2189808 -0.13906911 -0.019295275 -0.15585187 0.0013105914 -0.24005458 0.01410798 -0.04559009 0.019673519 0.10710205 -0.07773113 -0.16260488 -0.23404558 -0.18206705 -0.11820832 -0.10626027 -0.0712305 -0.2514196 -0.3276872 -0.012910621 -0.04883308 -0.07190498 -0.20936957 0.050623853 -0.15925728 -0.05338826 -0.1503526 0.059054747 -0.035998818 -0.12540612 -0.037618093 -0.17038393 0.17368427 -0.21163724 0.09657567 0.3285739 -0.20813434 -0.035597127 -0.11147399 0.045627475 -0.07666558\n",
            "\n",
            "concerts -0.24173962 -0.00012524787 -0.34837118 -0.10092676 -0.009008573 -0.19578049 -0.0091731865 0.120206855 -0.12106581 -0.018058127 0.28010872 -0.06932703 -0.07290024 0.012223771 -0.27803913 -0.09341054 -0.10410245 -0.12957568 0.08771621 -0.31874084 0.11987883 -0.13859826 -0.1672672 -0.14032957 -0.08006554 0.11315017 -0.26307747 -0.111945525 -0.18655618 -0.30437085 -0.038399015 0.0062647928 -0.084711276 -0.3356639 -0.053890616 -0.09984753 22.312696 0.008002876 -0.086879596 -0.040213298 -0.0913574 -0.0051991222 -0.06165282 -0.22285889 0.047119766 0.10245586 -0.017414585 0.061410967 -0.21601409 -0.06140346 -0.12625474 0.18910937 -0.12632833 -0.15273608 0.0107072815 -0.10411404 0.042422824 -0.34701633 -0.21297497 -0.12543282 0.003066192 -0.029914295 0.028982116 -0.04384401 -1.0354381 -0.0767778 -0.076730944 -0.028754773 -0.11213272 -0.15393128 -0.1360824 -0.19699697 -0.22764404 -0.09585648 -0.1051059 -0.31315422 -0.29295614 -1.0541534 -0.008350503 0.0074387277 -0.29342425 -0.07940832 -0.01947158 -0.32376283 -0.08848424 0.16453435 -0.080663905 -0.9873052 -0.0021896826 -0.08147537 0.038537495 -0.27070186 -0.34076342 -0.1157582 -0.19120744 0.04752682 0.0031076856 0.0045310524 0.050405208 0.21086851 -0.12266763 0.055375192 -0.47142443 -0.032069314 -0.05659272 -0.0784418 -0.1808578 0.6674363 -0.101588584 -0.12311017 -0.044361927 0.079912685 -0.1629402 0.023816109 0.010902486 0.045504935 0.07349696 0.09682257 0.0006758368 -0.1303369 -0.060712837 0.07695387 -0.03811623 -0.022303535 -0.08930098 -0.034388464 0.008238505 -0.003330928 -0.24759737 0.05838712 0.0056489655 0.008523375 0.045536228 -0.15449561 -0.00046493116 -0.06794096 0.086794436 -0.5080547 0.7281174 0.07377131 -0.07552586 0.008647106 -0.5898848 -0.116474554 0.018727079 0.054814193 -0.16042188 0.013876501 -0.06947444 -0.12764716 -0.15163589 0.023083108 -0.02079704 0.12657034 -0.1551547 0.033111744 -0.03226182 -0.20800173 0.062010597 -0.04151289 0.22149754 -0.11840516 0.012842416 -0.11921124 -0.24147089 -0.12984246 -0.02793234 -0.7090052 -0.23480281 -0.23579146 -0.12916365 -0.07084277 -0.25103235 0.13804825 -0.01982916 -0.21750161 -0.38225508 -0.3010017 0.1363637 -0.04335848 -0.15430897 0.029540326 0.10418265 -0.02575387 -0.054333363 -0.095542006 -0.040408343 -0.012719314 -0.06337029 -0.116029 -0.1335796 -0.08074636 -0.1843729 -0.16133185 -0.1863139 -0.14180776 -0.028126873 -0.04556625 -0.19286966 -0.35290775 -0.07212082 0.088984124 -0.10509716 -0.19703335 -0.064149186 -0.005048548 -0.1453338 -0.18937615 0.017449968 0.028808918 -0.03141355 0.13794188 -0.06491231 -0.20448054 -0.06450218 -0.22421189 -0.24959227 -0.17307763 -0.23412316 -0.021641342 0.012037378 -0.12132599 -0.04114203 -0.08909621 -0.15826339 -0.26522154 0.008776215 -0.028416503 0.008151038 -0.14090703 0.107786305 0.00832693 1.0015193 0.03377309 -0.0926843 -0.22954649 -0.04699107 0.009708844 -0.21140848 -0.09787457 -0.04878963 0.13187812 0.0029617134 -0.08956193 -0.04875945 0.09273044 -0.23059516 0.19468814 -0.0065869014 -0.2882858 -0.54612124 -0.03914197 -0.03027016 0.0035870655 -0.22001442 0.14251338 0.15424062 0.091597475 -0.09105452 0.061533798 0.09827631 -0.17107736 -0.019305171 0.021840455 -0.101997584 -0.24426073 -0.9645232 -0.20953578 -0.101953365 0.04150598 -0.3983873 0.9031272 -0.10421892 0.2142403 -0.17374995 -0.09862936 -0.04168878 -0.15059821 -0.10565181 0.019749174 -0.008266661 -0.1585349 0.08700936 0.09559928 0.07376891 -0.04123711 -0.15628478 -0.076097965 0.10232451 -0.1994785 0.039798416 -0.08445085 0.0009871176 -0.0131816445 0.0987224 -0.17570117 -0.068353444 -0.22167017 -0.04557571 0.07345359 0.114996344 -0.0020185697 0.0040016538 -0.09308245 -0.17611605 -0.023979563 -0.012962415 -0.14368846 -1.0341836 -0.059417374 0.041622836 -0.16125932 -0.011077893 -0.10633907 0.6327338 -0.1107842 -0.1587032 0.019829016 -0.14851362 0.16495207 -0.5436417 -0.07051389 -0.204205 -0.15133788 0.06427852 0.04123968 -0.34765315 0.020335063 0.043839306 -0.15205367 -0.24405941 -0.0962209 0.0652601 -0.21004125 0.0706269 -0.21448562 0.13622618 -0.09355149 -0.16472475 -0.17387415 0.053614397 -0.017826624 -0.16504036 -0.27192858 -0.2137224 0.10121109 0.06362755 -0.36508182 -0.025858724 0.07231617 -0.23478602 0.15173613 0.0069223987 -0.07660153 -0.05909849 -0.06879428 -0.5483035 0.009915293 -0.10531122 -0.09055939 0.022515329 0.20904388 -0.30704987 -0.078252524 -0.108718716 -0.7675591 -0.08506863 -0.04657085 0.00088911195 -0.02887424 0.13186555 -0.14752848 -0.0018234849 -0.69372267 -7.9514356 -0.060820136 -0.16914752 -0.17256796 -0.6249969 0.1157765 -0.043788865 -0.18634215 -0.14452949 -0.14735435 -0.16528365 -0.07844548 0.10887032 -0.027037647 -0.12764235 -0.6048082 0.20281461 -0.037633657 0.14202045 -0.56603676 -0.23346935 0.048896626 -0.16578585 -0.041500576 -0.011423679 -0.018548999 0.08747001 -0.16211164 -0.021376114 0.070850745 -0.09464652 -0.0024065902 -0.052806634 -0.15346591 0.43201768 -0.12341225 -0.23622453 -0.084348135 -0.19585769 -0.1374692 -0.0072461376 -0.06882706 0.014850052 -0.13296752 0.0020393785 0.02312934 -0.36790955 -0.08428111 0.006712738 -0.025526296 -0.068463385 -0.10872478 -0.12998253 -0.07786259 -0.16123839 -0.22809483 37.556984 0.036880217 -0.07674048 -0.12866454 -0.2040334 0.054505017 -0.10307026 -0.0829607 0.116408646 0.3848684 -0.17962359 0.058086466 3.2696197 0.04487441 0.04604624 -0.07353826 -0.1835787 1.6908212 -0.019058697 0.061337583 -0.22802038 -0.106705435 0.08979974 -0.44423467 -0.0713777 0.13954054 0.022583272 -0.04706815 0.028420905 0.017488716 0.22449233 -0.030627804 -0.09062825 -0.12359925 -0.124407 -0.1848133 -0.03198809 -0.15519094 -0.11265781 0.09174245 0.0062818327 -0.061762266 -0.33139196 -0.1398677 -0.030145077 -0.19348812 0.10703055 -0.15629065 -0.2690931 -2.3034017 -0.85047835 0.653779 -0.099813975 -0.16335636 -0.0024653717 -0.06553555 -0.09141062 -0.14874108 -0.057990704 -0.1834554 0.18658777 -0.063251235 -0.15417983 -0.032581408 -0.15774763 0.011264552 47.669098 -0.5341593 0.04688732 0.035876695 -0.030754047 -0.09824783 0.0020585367 -0.65474975 -0.15379068 -0.076565735 0.07551491 -0.029303726 -0.11853495 0.11980551 0.059999794 -0.22787829 -0.10860987 -0.05948553 -0.16958809 -0.27566722 0.012275776 -0.10418889 -0.1454679 -0.21403381 -0.17830116 -0.13627236 -0.086149804 0.1568817 -0.18671034 -0.41328415 0.22893664 -0.4504202 -0.24064405 -0.13562027 -0.05686761 -0.028785141 -0.11828692 -0.07675267 -0.18877734 -0.089961626 0.00747557 -0.2390032 -0.15779914 -0.1434815 0.32961854 -0.17159404 -0.11870572 -0.38120562 -0.14153667 -0.15867472 -0.060174063 -0.1275844 -0.014141974 -0.25885624 0.027360234 -0.08575284 -0.17035405 -0.24103837 -0.13992411 -0.05879127 -0.026034163 0.027396057 -0.21279773 -0.34635714 -0.16443732 -0.09083898 -0.16485637 -0.09534735 -0.059956484 -0.1642371 -0.086726174 -0.22584553 -0.11271344 -0.3010667 -0.12123895 -0.14635417 -0.09154154 -0.28216872 -0.16512138 -0.19246696 -0.048052352 -0.11797562 -0.214232 0.016390955 0.038037784 0.03816671 0.1317129 0.0013535136 -0.12225323 -0.10230696 0.0034423713 -0.17840843 0.08167936 -0.019734133 0.07338737 -0.12067822 -0.06498685 -0.29416683 -0.06949388 -0.015555077 -0.14610292 0.04560899 -0.18678178 -0.14056197 -0.13460329 -0.06469629 -0.19036953 -0.08200751 -0.0408334 0.0067501212 -0.18863443 -0.011326068 -0.56188005 0.115489125 -0.22306024 -0.100108616 -0.026656475 -0.0013882194 -0.12509844 -0.22263177 0.04242665 -0.22205995 -0.08855044 -0.22939499 -0.08311613 -0.09987105 -0.04247419 -0.11110416 0.038584195 -0.00784564 -0.13467273 -1.3490745 -0.025033977 -0.23889555 0.007548532 -0.18198662 -0.052551605 -0.17358008 0.009616855 -0.466383 -0.32535893 -0.05267731 -0.1144989 -0.050022256 -0.25040647 -0.14772722 -0.39128828 -0.13519928 -0.17152908 0.0628739 -0.27245894 -0.06597818 0.035821423 0.1610234 0.008663731 -0.0312968 0.048938416 -0.13639793 -0.101272084 -0.24086504 0.02070883 -0.009723889 -0.116190545 0.25123122 -0.0825194 0.06447906 0.017558124 -0.030609073 0.014138038 -0.09444287 -0.14460205 -0.4247477 0.04212674 -0.08776034 -0.29440013 -0.10512468 -0.086666666 0.14076488 -0.7148892 -0.054014638 -0.15084462 -0.14623404 -0.15976487 1.0635614 -0.07552627 -0.05840055 -0.2868069 0.053432375 -0.19396378 -0.0076521365 -0.070288464 -0.16175689 0.019099984 0.05398435 -0.057509605 7.834439e-06 -0.1332441 0.069802105 -0.23513798 -0.036499705 -0.0048539774 -0.04622986 0.14517021 -0.019424725 0.057644796 0.060682815 -0.06469598 -4.4823794 -0.15822047 -0.2564726 -0.32037273 -0.19346574 -0.20392707 -0.014856596 -0.118121214 0.0021613496 -0.2943726 -0.15897411 -0.17169242 -0.20265627 -0.3200015 -0.19081742 -0.3303738 -0.08069032 -0.028679308 0.060472652 0.019080767 -0.12339092 -0.045976475 0.073851205 -0.03154974 -0.20017508 -0.07809623 0.17262667 0.05928821 -0.06618402 -0.21771818 0.042640615 -0.18201719 0.05632614 -0.02369721 -0.015796615 -0.25596666 -0.44491234 -0.07820468 -0.33647898 -0.08140645 -0.18787502 -0.40705287 -0.5723101 -0.11057055 0.0050938358 -0.05294135 0.01805692 0.039714802 -0.21609242 -0.011930856 -0.19864 -0.053905815 -0.03807242 -0.29018992 -0.1192743 -0.12448376 0.17099328 -0.1784543 -0.009197482 1.6007134 -0.10842901 -0.10971652 -0.04813822 0.028833898 -0.15602745\n",
            "\n",
            "sports 0.02480696 0.107740715 -0.2496775 -0.0050851065 0.039377317 -0.21765572 -0.13591981 -0.037617054 -0.10700227 0.030028852 0.46145025 0.1055543 -0.008773361 -0.07355738 -0.22728665 -0.172789 -0.02967488 -0.18574627 0.17773972 -0.2931974 0.09407304 -0.26099664 -0.19489872 -0.06832424 -0.0849952 0.068964735 -0.21016493 -0.08103041 -0.04845222 -0.21242839 -0.030841986 -0.122621916 -0.037926193 -0.2867971 -0.16024147 0.14876914 22.88516 -0.03197987 -0.1033453 -0.09864031 -0.017873943 0.062395927 -0.13959076 -0.39899078 -0.10102011 0.044240426 -0.073278435 -0.0849302 -0.39909858 0.08741958 -0.046308663 0.13689147 -0.37836426 -0.031523474 0.12866102 -0.037299618 -0.018846761 -0.12649284 -0.12669547 -0.3641154 0.09255368 -0.068694964 0.053830396 -0.14952362 -1.0407119 -0.060357388 -0.006267781 -0.028965052 -0.13548775 -0.1874567 -0.2536414 -0.2719936 -0.2037228 -0.078479216 0.01582888 -0.24734132 -0.21039926 -1.1168499 0.09704335 -0.11914033 -0.30673638 -0.08503064 -0.008692538 -0.27217868 -0.09996477 0.16572978 -0.102101535 -0.99031484 -0.027447527 -0.05508278 -0.12241687 -0.28266656 -0.34398934 -0.086050585 -0.24421442 -0.095423825 0.0604341 0.14835943 0.002204004 0.068328455 -0.11781692 -0.008227893 0.23233 -0.13691612 0.010194397 -0.14245805 -0.13747668 2.748474 0.0010449932 -0.1248899 -0.054355916 0.03066711 -0.15154952 0.09673241 -0.017218638 0.03831003 0.19877772 0.10346268 0.10484012 -0.05349065 -0.13066177 0.04291789 -0.071457654 0.2280587 -0.01655105 -0.12598808 -0.1284564 0.05805129 -0.27415553 0.03500566 0.018433256 -0.046013504 0.24015205 -0.1322028 -0.09412799 -0.01982513 -0.028840778 -0.38424903 0.705636 0.12884703 -0.079146735 0.012235409 -1.3054682 -0.0493701 0.037815295 0.04498099 0.15027441 0.0020750384 0.03363472 -0.27451673 -0.14685714 -0.07123641 0.025547817 0.1290494 -0.2534276 0.09275169 0.0074230423 -0.12775113 0.05001324 0.04049561 0.61320204 0.00031734817 0.061838783 -0.13363229 -0.23330712 -0.11830558 -0.12389054 -0.44049722 -0.2321432 -0.26325604 -0.066312015 -0.0864435 -0.13345964 0.10700029 -0.16982268 0.014984061 -0.18185988 -0.25148997 -0.062717766 -0.03600746 -0.14502342 -0.08616075 0.16672386 0.060843986 0.015337204 -0.05577905 -0.033660986 -0.008568112 0.09056193 0.017314658 -0.05240199 -0.22502822 -0.10926251 0.007043568 -0.19677141 -0.16556282 -0.09189233 -0.0922357 -0.022974474 -0.2489868 -0.079612 0.08459722 -0.23325343 -0.21229823 0.023149017 0.0053713033 -0.080815524 -0.07553608 -0.10854561 0.030046362 0.0072805015 0.12719053 -0.0713154 -0.26453888 -0.14735475 -0.030015545 -0.17561848 -0.13562971 -0.08387992 -0.0277159 0.08490102 -0.06481218 -0.07292895 -0.16816787 -0.0515328 -0.10647932 -0.16611065 -0.105476946 0.12693705 -0.04922372 0.12730566 -0.068760745 0.78376216 -0.0697327 -0.119537584 -0.26772377 -0.0825309 -0.032445945 -0.063399434 -0.018965142 -0.1750727 0.30696267 0.07143727 -0.10508845 0.032268923 -0.0022479622 -0.12162202 0.35334727 0.015878813 -0.28950828 -0.364243 -0.12195837 -0.060125977 0.092085846 -0.20938674 0.16938171 0.16404554 0.062302887 -0.041088585 -0.16783369 -0.033556804 -0.15242888 -0.120495416 0.07439705 -0.13391815 -0.20828205 -0.9691925 -0.15608725 -0.34191957 -0.007341661 -0.17079552 0.8474901 -0.15912761 0.0008672969 -0.10277221 -0.19593923 0.18904233 -0.11358997 0.002129487 0.016668053 -0.07632814 -0.03993289 0.048033666 -0.069707096 0.10122147 -0.06032602 -0.1509332 -0.14820768 0.07399218 -0.24551755 0.08944578 -0.09251665 -0.040666614 -0.004082488 0.15001445 -0.23995395 -0.08058524 -0.15523472 -0.053963855 0.08221106 -0.16315903 0.020217389 -0.10098135 -0.0038442255 -0.1305376 -0.04650073 0.040682055 -0.18384139 -0.53923637 0.011498994 -0.043654967 -0.24996954 0.051597435 -0.21839966 -4.1041226 -0.1418119 -0.19947474 -0.06066126 -0.06961653 0.17714813 -0.41249785 -0.2246572 -0.2300382 -0.22964212 0.01529361 -0.030179363 -0.33462858 -0.038161807 -0.05977684 -0.18388733 -0.14295663 -0.17470771 -0.0069470485 -0.27547124 0.123628944 -0.19689883 -0.10375305 -0.08238614 -0.11539904 -0.115584776 -0.0635346 -0.007024389 -0.19783793 -0.12315904 -0.057477448 0.058800813 -0.083024465 -0.44886786 0.15280966 0.013086717 -0.25496572 0.20074134 -0.014038469 -0.15042375 -0.021541022 0.027315345 -0.42406863 -0.010840672 -0.041840132 -0.10240537 -0.16989075 -0.19405502 -0.31096637 -0.0948503 -0.14362109 -0.9272684 -0.11287374 -0.095136516 0.015314307 -0.056610797 0.059071306 -0.0721322 0.010650726 -0.72981685 -7.900002 -0.078763284 -0.1560442 0.05865182 -0.5012052 0.19788781 -0.15671006 -0.1319683 -0.0243381 -0.12770255 -0.24685593 -0.094106905 0.14739865 -0.07259402 -0.071430504 -0.7076316 0.17293324 -0.02315255 -0.02934119 -0.43911248 -0.11704283 0.027039792 -0.2972014 -0.0031512727 -0.021850245 -0.065802604 -0.001947779 -0.12687919 -0.2739879 0.032386146 -0.10839814 0.033455368 -0.11235485 -0.12690523 0.13163574 -0.14590079 -0.3621066 0.027962629 -0.13667272 -0.18687807 -0.15098988 -0.12044777 0.11202 -0.12635913 -0.11142598 0.0040986594 -0.32208467 -0.21897562 0.010039372 -0.042546622 -0.091540545 -0.11790069 -0.057705477 -0.14217599 0.031736974 -0.29872242 39.568817 0.12477178 -0.052619502 0.042818643 -0.13837184 0.013052192 -0.26300812 -0.14522724 0.1846234 0.09607838 -0.08824261 0.024481338 5.1055784 -0.1030003 -0.11104447 -0.01881472 -0.15200277 1.6990818 -0.1487313 0.023400722 -0.284837 -0.035911996 0.107007965 -0.22150233 -0.11262334 0.055832684 -0.30376858 -0.14129208 -0.01851065 -0.0052880915 0.3203353 0.12634806 -0.029779093 -0.12067931 -0.16170433 -0.2343037 -0.06963311 -0.15308015 -0.19287725 0.028754154 0.09391222 -0.1507113 -0.18803656 -0.07172461 -0.03486179 -0.24136597 -0.00017540318 -0.1951608 -0.1130067 -1.6944848 -0.85416424 0.6860874 -0.11554475 -0.06943349 -0.008388474 -0.0035663678 0.070604414 -0.088425 -0.020570219 -0.21704388 0.018180473 -0.33297968 -0.17859069 -0.0989231 -0.11922111 0.026333101 53.862713 -0.43849343 0.07721902 0.026045261 0.076185524 -0.07635659 -0.09902204 -1.2793587 0.010283051 0.020497026 0.081041396 0.03307995 0.035004366 0.03731103 -0.018717395 -0.21194898 -0.11502416 -0.1042116 -0.18515895 -0.22347772 -0.15526481 -0.19118647 -0.2581781 -0.098273136 0.022734173 -0.25127307 -0.022242067 -0.11043853 -0.019992655 -0.28043437 -0.36493507 -0.103592455 -0.12842843 -0.04401904 0.0021691364 -0.18410273 -0.11280047 0.025681287 -0.20859224 -0.034097396 -0.037601512 -0.07460841 -0.0154854525 -0.13980062 0.41905102 -0.20366165 -0.052237555 -0.357848 -0.21074808 0.0068254173 0.06818939 -0.05792328 0.04029059 -0.22722618 0.07891 -0.058441885 -0.1034117 -0.24191856 -0.28174764 -0.1558361 0.059295304 0.084399335 -0.10086175 -0.25782797 -0.35768947 -0.038553484 -0.20674917 -0.116985805 -0.051321026 -0.106142916 -0.012639888 -0.28106898 0.07046244 -0.33882263 -0.12421471 -0.07082162 -0.034886345 -0.17574126 -0.16011669 -0.045161016 0.020341648 -0.10739989 -0.043305825 0.06760632 -0.061090365 0.026955437 0.050407667 -0.12308434 -0.07003427 -0.03623068 -0.07751815 -0.32865107 -0.03219117 0.033642247 0.108864136 -0.11627013 -0.083493434 -0.19448309 -0.043970406 -0.007833376 -0.14689225 0.08353588 -0.13847789 0.09579415 -0.094184764 0.05167196 -0.15751372 0.027272096 -0.021521982 0.023635617 -0.15186079 -0.011873172 -0.4606941 0.031287435 -0.11791415 -0.028824238 -0.10537526 -0.038944576 -0.20968272 -0.055365313 -0.013462992 -0.0863725 -0.059649065 -0.29090792 0.024718458 -0.08633467 -0.114276916 0.0053331773 -0.11975284 0.06904745 -0.15957025 -1.3068093 -0.09959274 -0.2671751 -0.116650745 -0.15457924 0.0041461675 -0.10685527 0.0832586 -0.6212507 -0.45154113 0.05310793 -0.15854502 0.12343826 -0.37329036 -0.19246268 -0.41330338 -0.04784172 -0.17471442 0.08799395 -0.32516223 -0.24664658 0.124599606 0.2020642 -0.006853819 -0.07725448 0.04756845 -0.15402044 -0.035909906 -0.3033936 -0.04775266 0.08175706 -0.12463876 0.2083048 -0.105031006 0.0008577786 0.004322081 -0.042018414 -0.108479165 -0.11804283 -0.19789292 -0.01775417 0.03586891 -0.09656013 -0.06551471 -0.18062194 -0.15109722 0.110472515 -0.60218555 0.033492155 -0.18691814 -0.1705204 -0.059757445 0.2690185 -0.13218158 0.008068416 -0.18559569 0.06873026 -0.099280044 -0.15603194 0.018868048 -0.03272536 -0.014222393 0.025120437 -0.03137318 0.15108891 -0.011768121 0.037361 -0.20316318 -0.003220623 0.06419842 -0.041159187 0.06027435 -0.093081646 0.0912371 0.023881625 -0.06792913 -5.4898767 -0.15044233 -0.22249794 -0.35596776 -0.13657114 -0.2791118 -0.0030330715 -0.056166217 -0.058222074 -0.2954528 -0.25178435 -0.1697994 -0.16191362 -0.22881117 -0.22988363 -0.17108388 -0.14367934 -0.41004792 0.04380094 0.018360557 -0.22337973 0.44147697 0.050585657 0.15889214 -0.13965155 -0.22991297 0.17040247 -0.071619615 -0.083992876 -0.21457492 -0.046154264 -0.15569143 0.11295848 0.055076063 -0.09705134 -0.28629118 -0.25322926 -0.24458854 -0.26650083 -0.20582594 -0.08420189 -0.3363069 -0.6523885 -0.15940242 0.024069719 -0.1666588 -0.1376875 0.006472923 -0.15192771 0.014190871 -0.12543361 -0.029898606 -0.08603594 -0.20936668 -0.1341157 -0.06833683 0.12075269 -0.22975889 -0.019807374 0.80639887 -0.20816866 -0.099863485 -0.07844021 0.041082427 -0.106357045\n",
            "\n",
            "electronics -0.28023666 0.039828524 -0.23043683 -0.024081698 0.049639624 -0.10393913 -1.5453619 0.05844187 -0.18424204 -0.012954582 0.111622155 -0.10340334 -0.008960406 0.0746045 -0.27891815 -0.10458668 -0.36355102 -0.11729561 -0.0113697285 -0.33176947 0.095243245 -0.058807008 -0.07851734 -0.10633421 -0.08312478 0.13674314 -0.16937236 -0.1879954 -0.09839014 -0.11404762 0.0643647 0.06908115 -0.15544422 -0.17925996 -0.019404657 0.033567682 21.981236 -0.1087756 -0.021906968 -0.114181116 -0.12019746 0.08432612 -0.12025618 -0.23917675 -0.049392622 0.08358302 -0.114716545 0.031720202 -0.28909907 -0.024709227 -0.018714879 0.012869019 -0.36845502 -0.1010621 0.070177406 0.039496183 -0.036082327 -0.28415176 -0.061842863 0.1405477 0.16129859 -0.018745437 0.1866698 -0.02623938 -1.0397977 -0.02346327 -0.10161753 -0.09957259 -0.054525714 0.0035564362 -0.0069278344 -0.14349724 -0.1045081 -0.09103623 -0.06708194 -0.18212515 -0.28305125 -1.0356389 0.13334881 -0.05297303 -0.4373005 -0.043311484 0.1659592 -0.15538675 -0.037677623 0.044805296 -0.2542351 -0.98984444 -0.051374726 -0.062696286 0.015944978 -0.02784024 -0.2219062 -0.03869032 -0.21653302 -0.1310798 0.04996909 0.091646954 0.18020447 -0.008598862 0.060608145 0.121783264 0.06961426 -0.11852751 0.109666534 -0.17157754 -0.2322538 0.7108838 -0.0967641 0.053686887 -0.10232953 0.19059557 -0.01807033 0.0037575613 0.03314332 0.07331669 -0.006685034 0.055519283 -0.0039648735 -0.17152524 0.038073406 0.085877486 -0.16075802 0.04069113 -0.21406835 -0.10577269 0.07483965 -0.050126173 -0.37211183 -0.11355211 -0.034393016 0.03641383 -0.041517433 -0.1407306 0.057890534 0.0030920806 0.05474919 -0.1298541 0.7114781 -0.052747227 -0.09836741 -0.08560328 -0.35676455 -0.07211653 0.018834613 -0.011672483 0.03972488 0.10654296 0.021129087 0.11266466 -0.16742551 -0.15632544 0.10953319 0.022255465 -0.15027273 0.088173606 -0.03711139 -0.17128305 0.026952393 -0.117546655 -0.4073731 -0.10482431 0.13660124 -0.058776416 -0.26391742 0.11705088 0.010757666 -0.03020931 -0.21064755 -0.12449889 -0.13301054 -0.03203205 -0.031017374 0.09310675 0.055493914 -0.23806022 -0.4845181 -0.22358176 0.04151785 -0.12274296 -0.21813726 -0.069907695 0.022776276 -0.11873035 -0.084640235 -0.24781252 -0.123758554 -0.025875833 -0.055584684 0.009298767 -0.046096265 0.060519 -0.20096408 -0.06539292 -0.07051981 -0.41980904 -0.124352716 0.0029164916 -0.28783333 -0.19937658 -0.18664347 -0.025221838 -0.10755533 -0.06718974 0.07357773 -0.13999192 -0.075686224 -0.20027891 -0.19363388 -0.07294293 0.01715678 -0.11503869 -0.17344193 0.2532237 -0.027351037 -0.21216625 -0.34005663 -0.16338043 -0.09828808 -0.05743433 -0.05200204 -0.19564687 -0.09182374 -0.13293163 -0.13643935 -0.3595023 0.10319517 -0.06653938 0.038648356 -0.10498494 0.23052415 -0.0003793575 1.7928402 -0.07210298 -0.121897824 -0.21495254 -0.08668643 0.009599253 -0.055655513 0.024268188 -0.17788248 -0.046068285 -0.09208088 -0.036564652 0.085536 0.07396975 -0.23766816 0.14648923 0.051570065 -0.31667963 -0.6074133 -0.14623247 0.048652355 0.055099163 -0.19509286 0.13696396 0.19266355 0.03951434 -0.07830364 -0.13672754 -0.04161364 -0.09051424 -0.06045427 0.026295748 -0.05217358 -0.14097367 -0.9684534 -0.23468105 -0.17852892 0.005226433 -0.34620348 0.77978843 -0.16330343 0.11397515 -0.37503886 -0.1110396 0.02530314 -0.12866452 -0.14477886 -0.11114085 -0.1331709 -0.14398639 0.029547298 0.2499532 0.025490763 -0.14981566 -0.13820335 -0.10431235 0.16077268 -0.14700805 -0.03990414 0.011454854 -0.0964894 0.1381496 -0.17009436 -0.21161763 -0.09293604 -0.14384201 -0.1781205 -0.08446196 0.09706588 -0.09215937 0.07256243 -0.049224686 -0.2305817 -0.059909362 0.0411276 -0.14362271 -1.1904432 -0.03496432 -0.041015916 0.0045835683 0.055057406 -0.09446073 2.2285612 -0.19616751 -0.1510072 0.016563747 -0.12756866 0.07038874 -0.4274028 -0.081622176 -0.15182586 -0.038143422 0.037797928 -0.03356244 -0.6850276 -0.1310524 0.03783567 -0.22101931 -0.29554844 -0.14132783 0.1926865 -0.2510154 0.19982132 -0.10271028 -0.12541424 -0.19908236 -0.13641335 0.023007289 0.011235988 -0.06600367 -0.21705438 -0.40381125 -0.10394964 0.060847152 -0.042690072 -0.41689295 -0.14816797 0.13565513 -0.07515408 0.17215295 -0.06497056 -0.36742082 -0.05082696 -0.036138732 -0.20766522 -0.03727913 -0.043314636 -0.11904612 -0.10373879 0.14732066 0.005037831 -0.25392824 -0.107321635 -0.6864342 -0.12667137 0.0062540206 -0.10055739 -0.043620773 0.027878026 0.0086232005 0.10405626 -0.7175097 -6.077394 -0.08222114 0.14189449 -0.14873464 -0.5580831 0.05411044 -0.034034908 -0.2365569 -0.107419245 -0.23313026 -0.30710724 -0.061812513 0.122334115 -0.01670777 -0.018300682 -0.18226966 0.111442715 -0.11506938 -0.03303682 -0.36157855 -0.034152478 0.00031787256 -0.14314191 -0.09267875 0.02645122 -0.045446627 -0.027833745 -0.18658257 -0.0409046 -0.057037935 -0.08033035 -0.006763163 -0.08480669 -0.21552902 0.35264283 -0.082523964 -0.24191873 -0.10029756 -0.2827131 -0.27406332 -0.016935779 -0.06449609 -0.037057303 0.107742235 -0.109439954 0.046814643 -0.30297887 -0.1834555 -0.07853368 -0.1492923 -0.124161325 0.016146448 -0.13403004 -0.18762796 -0.17678447 -0.28624773 35.096764 0.057794407 -0.08918801 -0.10520041 -0.17662318 -0.15300044 -0.096954174 -0.14649683 -0.047728226 0.35967836 -0.094060406 -0.024691178 3.889074 -0.031925846 -0.012540253 0.035353687 -0.09971242 1.6983156 -0.0035427276 0.03652947 -0.18912832 0.0016667983 0.020286407 -0.30575582 -0.06794702 -0.054014675 -0.028446723 -0.11759428 -0.04186379 -0.1487193 0.14599968 -0.037167374 0.011619012 -0.20752561 -0.121238135 -0.16287935 -0.03895738 -0.20641087 0.09242417 -0.14893419 9.840834e-05 -0.028992005 -0.13097751 0.04339799 0.00094406324 -0.29159355 0.027517686 -0.27219012 -0.13677222 -1.7927 -0.8534964 0.67426854 -0.26183224 -0.07322954 -0.04271449 -0.12213597 -0.12637985 -0.09369039 -0.07646271 -0.08956972 0.082615204 -0.104556456 -0.14385305 -0.12450502 -0.23266318 -0.013216434 49.478073 -0.40871158 0.006413649 0.044858065 0.08907821 -0.091168776 -0.046032056 -0.69922775 -0.17875527 -0.12762271 0.1385797 0.077166386 -0.023596592 0.06564786 0.022713147 -0.22645032 0.006073158 -0.18897691 -0.040150937 -0.36216718 0.03189427 0.041915733 -0.10774074 -0.25401518 0.073190466 -0.15833567 -0.09566812 -0.073007345 -0.10182195 -0.54607344 -0.16896491 0.029343419 -0.2577753 -0.0414748 -0.09613844 -0.13528162 -0.08400433 0.05773669 -0.14037436 0.12886657 0.14933796 -0.14250249 0.0026154337 -0.1738115 0.5321606 -0.02697756 -0.20252462 -0.26178467 -0.18633077 -0.21460631 -0.05205839 0.024118254 -0.03835274 -0.16681682 -0.014457052 -0.43831643 -0.16908985 -0.23024908 -0.77916604 0.10014167 -0.10965633 0.16236624 -0.1404704 -0.20211254 -0.23356734 -0.13957325 -0.1397615 0.024619408 -0.05055263 -0.08641064 -0.16580054 -0.23089918 0.014420093 0.08611414 -0.0012623529 -0.06460097 0.034230337 -0.16446768 -0.2391525 -0.33293802 -0.004588208 -0.04282249 -0.15189993 -0.003142899 -0.06990038 0.024731452 0.02732096 -0.094125785 -0.07492643 -0.044183753 -0.10141851 -0.1016772 0.14710064 -0.08792436 0.0061928187 0.052246105 -0.14983845 -0.24217664 -0.09646426 0.08512703 -0.12024452 0.005630241 -0.15927498 0.00986836 0.043908365 -0.17442231 -0.20071214 -0.017907135 -0.014529328 -0.054733533 -0.106819995 0.0031025058 -0.2558732 0.06836072 -0.18335223 0.045767203 -0.10962417 -0.14420132 -0.18711549 -0.20495258 0.0960579 -0.28445795 -0.0687287 -0.15556452 -0.00042121255 -0.14825867 -0.04804889 -0.21879894 -0.0383369 -0.15950638 -0.20191965 -0.41347164 -0.04033674 -0.14675717 0.1281106 -0.08065175 -0.03605862 -0.008292064 -0.06610481 -0.8642393 -0.22428305 -0.029466039 -0.19459587 0.020164587 -0.16795766 -0.23109306 -0.26180163 -0.14912145 -0.08829389 0.061740614 -0.36735934 -0.07457906 0.0827608 -0.07769663 0.020712519 0.03461761 -0.076490246 -0.18737029 0.022617288 -0.32261854 -0.006298249 -0.028872399 -0.080151625 0.24503987 -0.05750419 0.030501192 -0.0020661876 -0.08729192 -0.023681948 -0.090680666 -0.09660781 -0.21752219 -0.0046699787 -0.015141688 -0.14289758 -0.05260412 -0.25490588 0.08486791 -0.58525544 -0.015701383 -0.109562576 -0.19997756 -0.09286508 0.03102729 -0.080986604 -0.042108364 -0.2053557 0.13327396 -0.11717055 -0.0015630866 -0.07077531 -0.06252954 0.06336471 -0.03141708 -0.019956805 0.009372215 -0.008790079 -0.06041727 -0.20363851 0.011389351 0.04484089 0.026910812 0.0917655 -0.075372 -0.049911138 0.04818066 -0.045931265 -3.4915898 -0.1180905 -0.20351481 -0.41739127 -0.095936306 -0.19673012 -0.00010555572 -0.062933624 -0.13941365 -0.16115281 -0.030150525 -0.08786308 -0.008794012 -0.2302032 -0.26052573 -0.11217045 -0.10963842 -0.08790476 0.112286806 -0.053251386 -0.10238325 0.0685495 0.057083335 0.09165132 -0.24034867 -0.037918974 -0.11521633 -0.0050355922 -0.1784594 -0.09822375 -0.08059417 -0.20351203 0.056835815 -0.023380913 -0.07455059 -0.005356224 -0.2572594 -0.118996 -0.20714757 -0.2982157 -0.21116087 -0.35340935 -0.49740502 -0.20886849 0.04747103 -0.13998112 -0.15586153 0.12914355 -0.11905519 -0.14786743 -0.20344143 0.05241342 0.08337884 -0.0688216 -0.34236133 -0.25582612 -0.011283856 -0.19689058 0.08024278 0.42868742 -0.20442571 -0.13570328 -0.13830182 0.059960775 -0.06785441\n",
            "\n",
            "furniture -0.03419665 -0.062868305 -0.27792707 0.00468479 0.008577839 -0.06468913 -0.589132 -0.046967123 -0.27795088 -0.0005653261 0.38379407 -0.048700914 0.021938547 0.11649428 -0.14171232 -0.01461729 -0.17775074 -0.16461347 0.10931597 -0.2522155 0.09595918 -0.11656713 -0.17239083 0.10500811 -0.03695296 0.07933213 -0.25785577 -0.1469067 -0.056828383 -0.24846685 -0.018385971 0.08511275 -0.11609202 -0.3050959 -0.06587094 0.115220316 20.84466 -0.02162659 -0.07527074 -0.025558572 -0.06444241 -0.050671346 -0.039751224 -0.31939173 -0.11214405 -0.05338593 -0.09637881 -0.025323108 -0.13964152 0.07360824 -0.16807222 0.08973261 -0.18556917 0.025235932 0.100687966 -0.0514709 0.045222167 -0.0907758 -0.12745716 -0.25497162 0.093850344 -0.0262675 -0.1241383 0.09250752 -1.0440555 -0.019760018 -0.05662563 -0.11342454 -0.1525962 -0.25304234 -0.21677496 -0.093319945 -0.15188123 -0.1822339 -0.12044054 -0.42256844 -0.29277024 -1.9080756 0.09274411 -0.07232385 -0.31624186 -0.2045888 0.025694562 -0.49784264 -0.034808174 0.18703857 -0.18324624 -0.9924041 -0.021171976 -0.111912176 -0.05136131 -0.17830719 -0.4075597 -0.11913528 -0.19369844 -0.10665779 0.0012178569 -0.0064565754 -0.041657433 0.09695901 -0.05613095 -0.006861343 0.081191674 0.059107523 0.024981545 -0.14008428 -0.105896205 2.6113772 -0.033601537 -0.12108772 -0.16417058 4.3021933e-05 -0.14527684 -0.042215858 -0.0497389 -0.0070839473 -0.028703319 0.073579825 -0.1249864 -0.030712055 -0.078804284 -0.0008860329 -0.092330955 -0.03114102 -0.12585033 0.07868835 -0.024929147 0.12108276 -0.1043062 -0.036382668 -0.018386738 0.10373498 0.08624798 -0.08021293 0.047284633 -0.09151368 -0.0076931254 0.008664307 0.6406984 -0.076325595 -0.084961854 0.033578366 -0.6227719 -0.12506102 -0.041397035 0.0974166 0.02875291 0.04561383 0.046545245 -0.17899826 -0.0826981 -0.16459896 0.013671285 0.02197605 -0.059784554 0.05408247 -0.017315378 -0.11689292 0.07277094 -0.070184804 -0.17866215 -0.14860629 0.020703759 -0.037281774 -0.18792659 0.013316757 -0.09213891 -0.5892589 -0.17706425 -0.20745756 -0.08492944 -0.056143183 -0.033466995 0.12179914 -0.1534136 -0.20657127 -0.07593553 -0.17900139 -0.04400907 0.062200967 -0.23886593 -0.04657112 -0.0110336 0.042778492 -0.052120663 -0.032686822 -0.018215755 0.09720792 -0.05495101 0.106815904 -0.12357135 -0.091285214 -0.13114086 -0.09271538 -0.14753774 -0.023298688 -0.026113814 -0.004148567 -0.07522281 -0.23773563 -0.13317813 0.010939531 -0.12691416 -0.18291302 0.025792552 -0.024987038 -0.16614656 -0.13897933 0.00046981886 -0.0036388808 0.033539664 0.031493075 0.10011803 -0.03016634 0.010825744 -0.079414405 1.6284333e-05 -0.13436201 -0.18599308 -0.08299204 0.08192646 0.0009947972 -0.061681144 -0.03709939 -0.14766568 -0.09138334 -0.10111992 -0.06515126 0.104731694 -0.16189149 0.18695144 0.06846882 1.5620022 -0.068200216 -0.0892134 -0.15145685 -0.124780245 -0.0053323517 -0.15565644 -0.06540306 -0.14123966 -0.0041958555 0.053211074 -0.1262287 0.034025297 0.0539033 -0.21182919 0.16946973 0.05537235 -0.2942132 -0.39625055 -0.09831978 -0.0065590795 -0.03472811 -0.104019426 0.18435341 0.1904537 0.015144512 -0.05428708 0.0061236615 -0.028980173 -0.17922159 -0.114782095 0.15380684 -0.068767324 -0.10640277 -0.97239417 -0.18307947 -0.13468213 0.18862171 -0.32742554 -0.24919423 -0.10936357 0.08008775 -0.30053663 -0.23421122 -0.08431853 -0.16023117 -0.11441782 -0.013853405 -0.057489194 -0.036183342 -0.0890951 -0.0038620047 0.14610474 -0.05525213 -0.024754552 -0.19963297 -0.2266423 0.23417209 0.07237409 -0.09946523 -0.08006231 0.06116158 0.08291978 -0.13319638 -0.08277522 -0.18199271 -0.04419224 -0.055896297 -0.06150078 -0.0688419 -0.09088256 0.008166825 -0.16125676 -0.007622243 -0.010572838 -0.103719324 -0.63191974 -0.046470053 0.03069726 0.35848257 0.06592275 -0.18463424 3.2285984 -0.10135377 -0.04035849 0.020994253 0.0008923457 0.124350436 -0.6455902 -0.21619612 -0.24807936 -0.00041806177 0.044909824 -0.036714725 -0.1929008 -0.08748429 -0.010964089 -0.22830579 -0.06735318 -0.09138502 0.015285403 -0.14746422 0.1196722 -0.21389589 0.058238097 -0.091564484 -0.11272058 -0.08174187 -0.035703015 -0.049452916 -0.20770192 -0.093201265 0.077416785 -0.034789044 -0.17299719 -0.36972627 -0.037269767 0.090389416 -0.11703528 0.20622475 0.024391765 -0.24470343 -0.044465486 -0.011976745 -0.43973008 0.0548578 -0.11237001 -0.05715869 -0.21859151 -0.17527846 -0.42655638 -0.10362622 -0.13713373 -0.5844565 -0.020975314 0.051659252 0.028480146 -0.02575027 0.09150696 -0.15635999 -0.017753646 -0.7417175 -6.79892 -0.1918143 -0.21834995 0.07952355 -0.6117567 -0.08425759 -0.049263373 -0.2017519 -0.09651037 0.015798984 -0.24469559 -0.029321758 0.13140278 -0.05064977 0.073101535 -0.48629847 0.1527027 0.022032319 0.08351105 -0.36823687 -0.018860534 0.07571592 -0.34203842 -0.07258176 -0.063305795 -0.12773539 -0.0038321717 -0.09576987 0.24330997 -0.009383895 -0.15548168 -0.01114451 -0.0913071 -0.14006545 -0.6295073 0.09965405 -0.23592758 -0.10051085 -0.13659891 -0.15085958 -0.10918038 -0.2263943 -0.06413675 -0.046461307 -0.102122135 -0.047398742 -0.33580717 -0.15019819 0.03209372 -0.0600203 -0.032245044 -0.046110727 -0.09208656 0.0015306944 -0.06821567 -0.19356763 39.432236 0.0032430575 -0.08042665 -0.078831084 -0.16700253 -0.077619344 -0.15837134 -0.090610735 -0.12194106 0.3396659 -0.09957819 0.06288392 5.2785096 -0.098818034 -0.13354822 -0.028560255 -0.04355222 1.701568 -0.095156446 0.0035850825 -0.15965743 0.016469141 0.023672448 -0.44867685 -0.2577389 0.062233232 -0.09955961 -0.076564535 -0.0133299325 -0.040884677 0.2038833 0.11193588 0.003995962 -0.188272 -0.15226825 -0.14303239 -0.053907152 -0.0809126 -0.08791325 -0.15445396 0.06563674 0.0071574976 -0.12420901 0.023418874 0.1314677 -0.15741245 -0.011338355 -0.12964964 -0.13929784 -4.4381604 -0.8565567 0.6955983 -0.16865394 -0.10127239 -0.072196595 -0.09716517 -0.05825711 -0.14596431 0.17357993 -0.1401774 0.07763334 0.034309015 -0.17692533 -0.101748094 -0.17880079 -0.1114348 56.173798 -0.35294828 0.0038274114 -0.050063647 -0.044376377 -0.14006606 -0.010393254 -0.70307964 0.004385833 -0.05974511 0.084907725 0.048329886 0.045182094 0.122526094 -0.062150616 -0.30942214 0.059771005 -0.21323079 -0.23011741 -0.48662895 0.0126243 0.0056594047 -0.07562378 -0.051015977 -0.104348995 -0.13108124 -0.0020233155 -0.109884486 -0.16743281 -0.34056318 -0.26247865 -0.40365446 -0.3820807 -0.05965409 -0.047775485 -0.14692765 -0.22010416 -0.056036912 -0.068422884 0.040586174 0.080413125 -0.18175077 -0.14587983 -0.07049582 0.47270384 -0.1539501 -0.14246592 -0.67622215 -0.12686269 -0.017567467 -0.18247324 -0.08793641 -0.036447097 -0.33363214 -0.030483164 -0.02493719 0.02983237 -0.160902 -0.65424633 0.08235437 0.059665404 -0.001113758 -0.14512976 -0.12837078 -0.17044778 -0.05879648 -0.11087428 -0.009906892 -0.24782325 0.006823182 0.06703706 -0.23918182 0.048138127 -0.075948656 0.017109962 0.03198672 -0.08195948 -0.16714713 -0.13169283 -0.123496376 -0.040637042 -0.028503636 -0.075769566 0.107954144 0.0959446 0.0013648988 0.035584733 -0.0972783 -0.17889686 0.029316688 -0.033617806 -0.30310994 0.028463127 -0.01560513 0.085866556 0.044814713 -0.064354636 -0.068719804 -0.08518759 -0.10314051 -0.1882174 -0.0764497 -0.031403113 -0.010253361 -0.061642915 -0.062907316 -0.27007207 -0.06363407 -0.013002762 0.058342617 -0.20698172 -0.1241051 -0.22629161 0.023198 -0.089099474 -0.11047342 -0.082486294 -0.07426086 -0.22252092 -0.038178258 -0.16699553 -0.14113533 -0.09581357 -0.06555026 0.08519433 -0.13233843 0.004126424 -0.18776907 -0.035775427 -0.1100655 -0.17045164 -0.47928318 -0.053681478 -0.1501961 0.03218024 -0.18030407 -0.027301334 -0.023063784 -0.026952758 -0.46671766 -0.37340128 0.0047295922 -0.25184065 0.121247634 -0.16147514 -0.045379885 -0.18722355 -0.0048948037 -0.108739115 0.06481632 -0.30542758 -0.080030926 0.10326689 -0.07947895 -0.09609442 -0.10018138 0.042301536 -0.14036103 -0.026693547 -0.06009149 -0.0041748867 0.17973487 -0.15226358 0.7320168 -0.03688805 -0.04975529 -0.15335299 0.06880623 -0.038166843 -0.14391504 -0.13435921 -0.22453128 -0.06626294 -0.0351745 0.08174194 -0.13875312 -0.16108882 0.020847904 -0.7319901 -0.07598672 -0.2570565 -0.0764318 -0.008481137 -0.46939066 -0.110288545 0.07888385 -0.24774495 -0.05820164 -0.047631796 -0.09431354 -0.23110132 -0.06532203 0.120654404 -0.06781225 0.0026244775 -0.04722937 -0.07840893 -0.06940064 -0.11659558 -0.08084678 -0.008142382 0.0041765827 0.041237224 -0.27847105 0.004507302 0.103340626 -0.087803796 -9.630215 -0.17241672 -0.14770176 -0.21939759 -0.19585678 -0.16033602 -0.049362082 -0.14025612 0.026456663 -0.1318564 -0.15779603 -0.1372651 -0.16658044 -0.12431578 -0.16011646 0.1538746 0.05265351 -0.17130941 -0.1414731 -0.10824871 -0.13467251 0.37645897 0.02985856 0.03411088 -0.26002547 -0.04586145 0.059433274 -0.113401264 -0.056892496 -0.15591903 0.013377839 -0.112890445 0.0650576 0.02085505 -0.11168338 -0.14890075 -0.44290724 -0.22746474 -0.07559116 -0.28758496 -0.033777807 -0.1597973 -0.34722435 0.009563242 0.043560624 -0.11791044 -0.16852076 0.008511938 -0.060488444 -0.047655556 -0.18060796 0.0059227766 -0.120218046 -0.08583333 -0.03886953 -0.12551087 0.13885173 -0.26791742 0.053862594 -0.015041676 -0.14856033 -0.10097604 -0.22194932 0.067960225 -0.009358945\n",
            "\n",
            "clothing -0.16806126 -0.06211862 -0.33327222 0.01832592 0.09863851 -0.19032548 -0.08410911 -0.019869564 -0.33700243 0.035101004 0.23854525 -0.040294223 -0.07218929 0.08146638 -0.15515551 -0.11268232 -0.03295235 -0.07964611 0.018899081 -0.42763636 0.098503284 -0.18882579 -0.006992003 0.13699637 -0.102914155 0.10644164 -0.10218683 -0.22365013 -0.015742542 -0.2264568 -0.028143002 0.10801967 0.01849372 -0.11764714 -0.118912145 -0.11529165 21.480808 -0.05408088 -0.018939039 0.09931978 -0.049676258 0.11835563 0.12429361 -0.34161013 -0.039749645 -0.14936566 -0.028608326 -0.09996338 -0.15237947 -0.04257769 -0.22048165 0.13937454 -0.16112491 -0.07221527 0.056148674 -0.051749233 0.071560405 -0.13045058 -0.14613919 -0.19613528 0.17287295 -0.112348795 -0.07110821 -0.19941716 -1.0432006 -0.013429669 -0.04834611 -0.12827477 -0.20345223 -0.24099796 -0.14526117 -0.15695763 -0.13759463 -0.13128507 -0.105102405 -0.30418155 -0.18191586 -2.5786922 0.07394807 -0.121869184 -0.3077757 -0.12848796 6.0787563e-05 -0.24478786 -0.14665891 0.19543615 -0.40238768 -0.991673 -0.07373381 -0.052534223 -0.028663514 -0.21664 -0.44172743 -0.067663334 -0.12823069 -0.09200328 -0.0057024085 0.012420065 0.06702577 0.23482792 -0.11387319 0.05832384 0.2670704 0.008983047 0.07368622 0.015183037 -0.014197579 2.7042615 -0.09896157 -0.14285193 -0.25782594 -0.026693009 -0.0086603165 0.03470734 0.013045969 -0.043936443 -0.0114091905 0.023270957 -0.050311178 -0.057235226 -0.068748735 -0.061445463 -0.022998417 0.006528501 -0.013320572 0.026834764 -0.02570493 0.16557568 -0.051981103 -0.013241158 0.031282004 0.008480949 -0.015659362 -0.0962291 -0.021974599 -0.15507321 -0.026416652 0.044330854 0.6135146 0.1401997 -0.07256335 -0.023148408 -0.32336125 -0.01114312 -0.020619107 0.18353559 -0.33078215 -0.0490108 0.027944012 -0.14815453 -0.16427743 -0.19857952 -0.14486553 0.116007864 -0.11446666 0.05441584 -0.0010871085 -0.1477697 0.061977755 -0.10451207 -0.20404406 -0.08890032 0.04742286 0.005628704 -0.1767339 0.03806169 -0.08438394 -0.35408515 -0.13112482 -0.28702605 -0.10010887 -0.028716095 -0.052313197 0.1389147 -0.07305703 -0.20767212 -0.24143888 -0.2039176 0.14698882 -0.096709035 -0.13084643 0.05810645 0.011419202 0.041768163 -0.026932243 -0.054728895 -0.021197515 -0.09673772 -0.2100119 0.12237675 -0.11447924 -0.154686 -0.29259276 -0.13120613 -0.12717663 -0.2117472 -0.022065058 -0.09338449 -0.18767418 -0.4362356 0.031294636 -0.038752444 -0.06851114 -0.27134532 0.07047377 0.009006168 -0.28478163 -0.22075166 -0.09888896 0.0070963725 0.01847923 0.19752471 -0.057516932 0.2811077 0.01482681 -0.10089295 0.11278875 -0.16866992 -0.15742952 -0.18696924 -0.058840394 -0.095986694 -0.10029111 -0.010845304 -0.08864983 -0.13110538 -0.14250685 -0.03674438 0.09508451 -0.21578494 0.17167152 0.02830574 2.8262725 -0.037970707 -0.118477196 -0.2944122 -0.08550137 -0.12419838 -0.1700614 -0.14182597 -0.030882243 0.10591222 0.095157765 -0.012951842 0.05427535 0.09446908 -0.27296498 -0.16874748 -0.0043857717 -0.3235406 -0.40080965 -0.1883699 0.10522576 -0.00043173172 -0.13632637 0.15417054 -0.016361807 0.042876314 -0.114596575 0.018398557 -0.067131914 -0.12714657 -0.058705468 0.036501586 -0.059327427 -0.23720549 -0.97146434 -0.2840912 -0.05665444 -0.07398088 -0.39336556 0.1166509 -0.10152696 0.03074183 -0.118993826 -0.11514536 0.076189324 -0.062364053 -0.14461833 -0.043466926 0.031506225 -0.07572026 -0.0765378 -0.026320897 0.04004671 0.04734329 -0.109547965 -0.19104132 -0.31188294 0.3703967 0.09644197 -0.101426385 0.007773535 0.15811594 0.20485385 -0.099077925 -0.041127 -0.11084326 -0.054196086 -0.051722582 -0.12568384 0.010942571 0.024960533 0.08697438 -0.07763586 -0.10220032 0.10222755 -0.17013171 -0.39805737 -0.0039196913 -0.08466372 0.15200345 0.0155251855 -0.11912002 4.94037 -0.036953565 -0.24121712 0.042096265 -0.006521947 0.031686172 -0.45474976 -0.1371639 -0.23684786 -0.04741816 0.030164968 -0.0039106295 -0.29499108 -0.14711943 -0.042239863 -0.16955082 -0.18074985 -0.07219827 0.030931266 -0.09489682 0.17104685 -0.22841217 -0.07003333 -0.06386549 -0.04329538 -0.20610829 -0.0098816715 -0.03143857 -0.11722402 -0.0830463 -0.045268297 -0.018125564 -0.12690724 -0.3152671 -0.12603869 0.06461904 -0.17767732 0.12456401 0.0043601203 -0.12098664 -0.04289072 -0.042169932 -0.3028272 -0.035864886 -0.12711059 -0.062161345 0.033423215 0.05366846 -0.22912677 -0.1034062 -0.14833595 -0.6115157 -0.052262824 0.01043291 0.0026033092 0.028832471 0.18384717 -0.17340969 0.03546488 -0.7315253 -5.494315 -0.2176618 -0.20631012 0.26503342 -0.44839618 -0.11347379 -0.033695273 -0.202222 0.017750993 0.052983955 -0.25066587 -0.13823833 0.1780831 -0.08301068 -0.005727627 -0.51167524 0.14037618 -0.025310783 0.09699462 -0.47313192 -0.00473873 0.059507966 -0.25721315 -0.09874638 -0.020026492 -0.0076185986 0.027164226 -0.14649297 0.11727672 0.042857926 -0.118722185 0.0048624137 -0.15794753 -0.19969235 -0.9889754 -0.021830818 -0.19264504 -0.05189907 -0.094879664 -0.12503593 -0.040832963 -0.15212539 -0.009114436 -0.170448 0.002723243 0.012914176 -0.29486597 -0.07497182 -0.009285587 -0.0694986 -0.09158279 -0.027988238 -0.061490964 -0.120945044 -0.074657075 -0.16507623 36.052895 -0.018326554 -0.01711868 -0.122040115 -0.093101874 0.02075443 -0.098328315 -0.0076485346 -0.017900633 0.4043657 -0.12507954 0.12005831 4.797136 -0.13709094 -0.054057878 0.037162013 -0.12474681 1.6997128 -0.0036684559 0.04946068 -0.11338136 -0.07180475 0.07857794 -0.506184 -0.09415544 -0.034092885 -0.19246884 -0.027738923 0.035109542 -0.09266178 0.046122435 -0.14158876 -0.07267025 -0.12856047 -0.23912239 -0.19877274 0.030918103 -0.08449407 0.056717448 -0.046209123 0.12230321 0.012781933 -0.07236063 -0.117293134 0.10674779 -0.17149867 0.01096224 -0.122519046 -0.24346215 -5.139198 -0.85596156 0.6876877 -0.06981011 -0.052719615 -0.043369163 -0.10350475 -0.12080151 -0.16695131 -0.011573251 -0.14056577 0.12357183 -0.15201849 -0.21232416 0.08149049 -0.25823998 0.019226514 54.816982 -0.45269844 0.035163824 0.02604869 -0.04412442 -0.1369877 -0.08384008 -0.5407033 -0.05434157 -0.09321119 0.07483702 -0.013164625 -0.06958528 0.19977705 -0.0679438 -0.16410714 -0.1357245 -0.15318102 -0.068681344 -0.5000241 0.028419983 -0.1283396 -0.2915378 0.029123524 -0.12942691 -0.23264103 -0.05767804 0.06221071 -0.08150488 -0.13536258 -0.049752235 0.13650161 -0.49258447 -0.0819482 -0.019701386 -0.06710654 -0.09400577 -0.059896782 -0.11488472 0.13548477 0.03732563 -0.066342376 -0.16099562 -0.027202627 0.45693296 -0.24589317 -0.102948934 -0.43875095 -0.20040573 -0.026987404 0.02771795 -0.06465742 -0.08558723 -0.4054896 -0.030789234 -0.021013513 -0.062129598 -0.21053046 -0.41664597 0.0499149 0.13033667 0.009684543 -0.124516964 -0.18851385 -0.2564479 -0.10867167 -0.15859519 -0.0007602839 -0.21694644 -0.11556102 -0.21399833 -0.16266848 0.13296565 0.09236479 -0.14001237 -0.0004080972 -0.102531515 -0.26156664 -0.17241998 -0.081645876 -0.07907387 -0.034554154 -0.48328117 0.049134534 0.070112154 0.04094725 0.08818688 -0.00803284 -0.13898243 -0.03763135 0.14049543 -0.22267215 0.21084073 -0.04067597 0.18641548 0.052750647 -0.17719616 0.03006626 -0.016036479 -0.048875887 -0.16879915 0.03392273 -0.15906288 -0.11795439 -0.047784347 -0.06635038 -0.24276003 -0.07243178 0.006633338 0.030795742 -0.19947064 -0.056289345 -0.4333965 -0.07574133 -0.21432748 -0.11625086 0.069168255 -0.13106456 -0.11449344 -0.101852655 -0.14038165 -0.009254104 -0.21132013 -0.036972575 -0.02034558 -0.120395854 -0.061508194 -0.26313654 0.0032403097 0.05367731 -0.14876892 -0.04950963 -0.12776749 -0.22184636 -0.0329344 -0.11693299 -0.06830067 0.010067952 -0.023216082 -0.4939881 -0.40495372 0.005091429 -0.23888096 0.030393315 -0.07632871 -0.03402475 -0.19515042 -0.023351576 0.05741869 0.096938364 -0.32926092 -0.21544825 0.020934468 0.051700283 -0.07323214 -0.11164643 0.0206011 -0.11194059 -0.02782171 -0.3339636 0.023647105 0.10463778 -0.18230651 0.8181512 0.0077634766 -0.06663094 -0.13134325 -0.113748506 0.0009404872 -0.17510527 -0.12650636 -0.36529863 0.021721218 -0.13921283 -0.101669624 -0.12118463 -0.1591764 -0.09653894 -0.51838887 -0.027092079 -0.22633848 -0.0731911 0.20287004 -0.3603969 -0.110235505 0.0449862 -0.24652687 0.020756844 -0.21702681 -0.20283152 -0.15310884 -0.12006886 -0.043481663 -0.07237741 -0.045820747 -0.12365397 -0.058762144 -0.022786845 -0.12438296 -0.11417767 -0.021436974 -0.052861143 -0.028179137 -0.21989997 -0.024414018 0.21128488 -0.13076599 -12.0240135 -0.13344535 -0.082736515 0.08876577 -0.2709455 -0.10991177 -0.04371387 -0.22464703 0.027754545 -0.15870135 -0.18811496 -0.17660433 -0.11591821 -0.15771197 -0.28364947 -0.22939609 -0.050603025 -0.32675856 -0.07870598 -0.06506375 -0.14478314 0.3309221 0.10962384 0.06007415 -0.26380557 -0.013896724 0.049018063 -0.0049595335 -0.011104194 -0.28196317 0.1139071 -0.15063655 -0.091920294 -0.004661515 -0.04499328 -0.17206317 -0.45191795 -0.21169822 -0.19378756 -0.16128904 -0.0791994 -0.24890481 -0.3383665 0.07213536 0.08086769 -0.028745191 -0.05241412 -0.014165861 -0.1905353 -0.019924842 -0.16514736 0.042718843 -0.07856707 -0.0783745 -0.038523458 -0.0718823 0.122389466 -0.24528112 0.036227703 0.29569018 -0.15356724 -0.022334838 -0.110856526 0.013426847 -0.0018721288\n",
            "\n"
          ]
        }
      ]
    },
    {
      "cell_type": "code",
      "execution_count": null,
      "metadata": {
        "id": "3r3CR1Jannqh",
        "colab": {
          "base_uri": "https://localhost:8080/"
        },
        "outputId": "113e12ee-ce91-439a-cc79-8f66677f36b5"
      },
      "outputs": [
        {
          "output_type": "stream",
          "name": "stdout",
          "text": [
            "['father', 'mother', 'man', 'woman', 'doctor', 'lawyer', 'engineer', 'nurse', 'teacher', 'accountant', 'architect', 'artist', 'writer', 'chef', 'designer', 'dentist', 'entrepreneur', 'firefighter', 'journalist', 'mechanic', 'musician', 'paramedic', 'photographer', 'psychologist', 'scientist', 'soldier', 'surgeon', 'vet', 'receptionist', 'reading', 'writing', 'painting', 'singing', 'cooking', 'traveling', 'volunteering', 'meditating', 'shopping', 'phone', 'computer', 'car', 'house', 'job', 'school', 'family', 'friends', 'food', 'drink', 'toys', 'books', 'movies', 'concerts', 'sports', 'electronics', 'furniture', 'clothing']\n",
            "'father'\n",
            "'mother'\n",
            "'doctor'\n",
            "'lawyer'\n",
            "'nurse'\n",
            "'teacher'\n",
            "'accountant'\n",
            "'architect'\n",
            "'artist'\n",
            "'writer'\n",
            "'chef'\n",
            "'designer'\n",
            "'dentist'\n",
            "'entrepreneur'\n",
            "'firefighter'\n",
            "'journalist'\n",
            "'mechanic'\n",
            "'musician'\n",
            "'paramedic'\n",
            "'photographer'\n",
            "'psychologist'\n",
            "'scientist'\n",
            "'soldier'\n",
            "'surgeon'\n",
            "'vet'\n",
            "'receptionist'\n",
            "'reading'\n",
            "'writing'\n",
            "'painting'\n",
            "'singing'\n",
            "'cooking'\n",
            "'traveling'\n",
            "'volunteering'\n",
            "'meditating'\n",
            "'shopping'\n",
            "'phone'\n",
            "'computer'\n",
            "'car'\n",
            "'house'\n",
            "'job'\n",
            "'school'\n",
            "'family'\n",
            "'friends'\n",
            "'food'\n",
            "'drink'\n",
            "'toys'\n",
            "'books'\n",
            "'movies'\n",
            "'concerts'\n",
            "'sports'\n",
            "'electronics'\n",
            "'furniture'\n",
            "'clothing'\n"
          ]
        }
      ],
      "source": [
        "# Here are the lists of words you should extract word vectors from GloVe, combine all lists in one file\n",
        "\n",
        "sample = [\"father\", \"mother\", \"man\", \"woman\"]\n",
        "\n",
        "professions = [\"doctor\", \"lawyer\", \"engineer\", \"nurse\", \"teacher\", \"accountant\", \"architect\", \"artist\", \"writer\", \"chef\", \"designer\", \"dentist\", \"entrepreneur\", \"firefighter\", \"journalist\", \"mechanic\", \"musician\", \"paramedic\", \"photographer\", \"psychologist\", \"scientist\", \"soldier\", \"surgeon\", \"vet\", \"receptionist\"]\n",
        "activities = [\"reading\", \"writing\", \"painting\", \"singing\", \"cooking\", \"traveling\", \"volunteering\", \"meditating\", \"shopping\"]\n",
        "items = [\"phone\", \"computer\", \"car\", \"house\", \"job\", \"school\", \"family\", \"friends\", \"food\", \"drink\", \"toys\", \"books\", \"movies\", \"concerts\", \"sports\", \"electronics\", \"furniture\", \"clothing\"]\n",
        "names = [\"Alex\", \"Charlotte\", \"David\", \"Emma\", \"Ethan\", \"Isabella\", \"Lily\", \"Oliver\", \"Sophia\", \"William\", 'john', 'anna', 'sophie', 'ronaldo', 'shakira', 'mario', 'maria', 'tom', 'katy']\n",
        "\n",
        "words = sample + professions + activities + items\n",
        "print(words)\n",
        "with open('words.txt', 'w') as f:\n",
        "  for w in words:\n",
        "    f.write(w + \" \")\n",
        "    try:\n",
        "      f.write(\" \".join(map(str, list(glove_vectors[w]))))\n",
        "    except Exception as e:\n",
        "      print(e)\n",
        "      pass\n",
        "    f.write('\\n')"
      ]
    },
    {
      "cell_type": "code",
      "execution_count": null,
      "metadata": {
        "id": "juZSoWnrb4gE"
      },
      "outputs": [],
      "source": [
        "def read_glove_vecs(glove_file):\n",
        "    with open(glove_file, 'r') as f:\n",
        "        words = set()\n",
        "        word_to_vec_map = {}\n",
        "        for line in f:\n",
        "            line = line.strip().split()\n",
        "            curr_word = line[0]\n",
        "            words.add(curr_word)\n",
        "            word_to_vec_map[curr_word] = np.array(line[1:], dtype=np.float64)\n",
        "\n",
        "    return words, word_to_vec_map"
      ]
    },
    {
      "cell_type": "code",
      "execution_count": null,
      "metadata": {
        "id": "9DeDzAHLb1dC",
        "colab": {
          "base_uri": "https://localhost:8080/"
        },
        "outputId": "7fe15735-a52d-4323-8d17-98dcfc07faf8"
      },
      "outputs": [
        {
          "output_type": "stream",
          "name": "stdout",
          "text": [
            "{'father': array([], dtype=float64), 'mother': array([], dtype=float64), 'man': array([0.2, 0.3, 0.5]), 'woman': array([0.25, 0.35, 0.45]), 'doctor': array([], dtype=float64), 'lawyer': array([], dtype=float64), 'engineer': array([0.6, 0.1, 0.3]), 'nurse': array([], dtype=float64), 'teacher': array([], dtype=float64), 'accountant': array([], dtype=float64), 'architect': array([], dtype=float64), 'artist': array([], dtype=float64), 'writer': array([], dtype=float64), 'chef': array([], dtype=float64), 'designer': array([], dtype=float64), 'dentist': array([], dtype=float64), 'entrepreneur': array([], dtype=float64), 'firefighter': array([], dtype=float64), 'journalist': array([], dtype=float64), 'mechanic': array([], dtype=float64), 'musician': array([], dtype=float64), 'paramedic': array([], dtype=float64), 'photographer': array([], dtype=float64), 'psychologist': array([], dtype=float64), 'scientist': array([], dtype=float64), 'soldier': array([], dtype=float64), 'surgeon': array([], dtype=float64), 'vet': array([], dtype=float64), 'receptionist': array([], dtype=float64), 'reading': array([], dtype=float64), 'writing': array([], dtype=float64), 'painting': array([], dtype=float64), 'singing': array([], dtype=float64), 'cooking': array([], dtype=float64), 'traveling': array([], dtype=float64), 'volunteering': array([], dtype=float64), 'meditating': array([], dtype=float64), 'shopping': array([], dtype=float64), 'phone': array([], dtype=float64), 'computer': array([], dtype=float64), 'car': array([], dtype=float64), 'house': array([], dtype=float64), 'job': array([], dtype=float64), 'school': array([], dtype=float64), 'family': array([], dtype=float64), 'friends': array([], dtype=float64), 'food': array([], dtype=float64), 'drink': array([], dtype=float64), 'toys': array([], dtype=float64), 'books': array([], dtype=float64), 'movies': array([], dtype=float64), 'concerts': array([], dtype=float64), 'sports': array([], dtype=float64), 'electronics': array([], dtype=float64), 'furniture': array([], dtype=float64), 'clothing': array([], dtype=float64)}\n",
            "{'engineer', 'journalist', 'shopping', 'paramedic', 'entrepreneur', 'job', 'writer', 'house', 'meditating', 'lawyer', 'accountant', 'mechanic', 'clothing', 'soldier', 'scientist', 'firefighter', 'computer', 'psychologist', 'phone', 'architect', 'drink', 'surgeon', 'woman', 'cooking', 'friends', 'artist', 'nurse', 'dentist', 'chef', 'singing', 'movies', 'father', 'traveling', 'books', 'writing', 'man', 'receptionist', 'volunteering', 'musician', 'food', 'painting', 'mother', 'photographer', 'family', 'school', 'sports', 'concerts', 'electronics', 'furniture', 'car', 'designer', 'toys', 'vet', 'doctor', 'reading', 'teacher'}\n"
          ]
        }
      ],
      "source": [
        "words, word_to_vec_map = read_glove_vecs('words.txt')\n",
        "print(word_to_vec_map)\n",
        "print(words)"
      ]
    },
    {
      "cell_type": "markdown",
      "metadata": {
        "id": "F7tR1cKCK2ae"
      },
      "source": [
        "[link text](https://)*斜体文本*[link text](https://)It is common practice to save the word embeddings into a .txt format file and then load them with a function like:\n",
        "\n",
        "`words, word_to_vec_map = read_glove_vecs('w2v_gnews_small.txt')`\n",
        "\n",
        "You should create a function named 'read_glove_vecs' to open and read the .txt file with the word vectors."
      ]
    },
    {
      "cell_type": "markdown",
      "metadata": {
        "id": "HjltpMXUqYEE"
      },
      "source": [
        "## Task 2 - Implement Cosine Similarity\n",
        "\n",
        "We can measure how similar are two words using cosine similarity. We would expect non-gender specific words to be equally distant from gender specific words.\n",
        "\n",
        "🎯 The goal is to get familiar with calculating cosince similarity using python and try to find similar words that are an example of bias and unbiased vectors. We can measure how similar two words are using cosine similarity!\n",
        "\n",
        "Deliverables: Provide code for implementing cosine distance in Python. Run the example words, and try measuring the distance of different words. Can you find a biased and an unbiased example?"
      ]
    },
    {
      "cell_type": "markdown",
      "metadata": {
        "id": "q8EJ6U-JIIBy"
      },
      "source": [
        "\n",
        "To calculate cosine similarity, we need to take the cosine of the angle between these two vectors. Here are the steps:\n",
        "\n",
        "1. Calculate the dot product of A and B\n",
        "   - Multiply each element in A with the corresponding element in B\n",
        "   - Sum all those products\n",
        "   - Call this dot_product\n",
        "\n",
        "2. Calculate the magnitudes (or lengths) of A and B\n",
        "   - Square each element in A, sum them, and take the square root. Let's call this mag_A.\n",
        "   - Do the same for B. Let's call this mag_B.\n",
        "\n",
        "3. Compute cosine similarity:\n",
        "   cosine_similarity = dot_product / (mag_A * mag_B)\n",
        "\n",
        "The closer this value is to 1, the smaller the angle and the more similar document A is to document B.\n",
        "\n",
        "Thanks to Python, you do not need to do these time-consuming calculations manually! Especially for step 1 and step 2, there is a library called 'numpy' with functions that can help you implement cosine distance in Python!"
      ]
    },
    {
      "cell_type": "code",
      "source": [
        "def spatial_distance_cosine (u,v): #numpy and pytorch both have their own function for cosine similarity, and also BERT\n",
        "  dot_product= np.dot(u,v)\n",
        "  magnitude_u = np.dot(u,u)\n",
        "  magnitude_v = np.dot(v,v)\n",
        "  spatial_distance_cosine = dot_product / (np.sqrt(magnitude_u) * np.sqrt(magnitude_v))\n",
        "  return 1-spatial_distance_cosine"
      ],
      "metadata": {
        "id": "BpynETXvTz5R"
      },
      "execution_count": null,
      "outputs": []
    },
    {
      "cell_type": "code",
      "source": [
        "spatial_distance_cosine(glove_vectors['man'], glove_vectors['woman'])"
      ],
      "metadata": {
        "id": "_p0852RkURGm",
        "colab": {
          "base_uri": "https://localhost:8080/"
        },
        "outputId": "2ed74568-a147-4ee2-fb3b-b2b8151785c3"
      },
      "execution_count": null,
      "outputs": [
        {
          "output_type": "execute_result",
          "data": {
            "text/plain": [
              "0.009724704291618425"
            ]
          },
          "metadata": {},
          "execution_count": 26
        }
      ]
    },
    {
      "cell_type": "code",
      "source": [
        "#simmilarity between the 2 words\n",
        "1-spatial_distance_cosine(glove_vectors['man'], glove_vectors['woman'])"
      ],
      "metadata": {
        "id": "0haBRTIsUXW0",
        "colab": {
          "base_uri": "https://localhost:8080/"
        },
        "outputId": "772ef828-c3a3-4ab3-cc93-62797ce183a2"
      },
      "execution_count": null,
      "outputs": [
        {
          "output_type": "execute_result",
          "data": {
            "text/plain": [
              "0.9902752957083816"
            ]
          },
          "metadata": {},
          "execution_count": 27
        }
      ]
    },
    {
      "cell_type": "code",
      "execution_count": null,
      "metadata": {
        "id": "zqkHs8YvGSAw",
        "colab": {
          "base_uri": "https://localhost:8080/"
        },
        "outputId": "7bd74dfe-dbfd-4c3b-d6b7-023978cb9262"
      },
      "outputs": [
        {
          "output_type": "stream",
          "name": "stdout",
          "text": [
            "0.9941591\n",
            "0.99763554\n"
          ]
        }
      ],
      "source": [
        "def cosine_similarity(u, v):\n",
        "    \"\"\"\n",
        "    Cosine similarity reflects the degree of similariy between u and v\n",
        "\n",
        "    Arguments:\n",
        "        u -- a word vector of shape (n,)\n",
        "        v -- a word vector of shape (n,)\n",
        "\n",
        "    Returns:\n",
        "        cosine_similarity -- the cosine similarity between u and v defined by the formula above.\n",
        "    \"\"\"\n",
        "\n",
        "\n",
        "    multipliedArrays = np.multiply(u, v)\n",
        "    dot_product = np.sum(multipliedArrays)\n",
        "\n",
        "    squared_array_u = np.square(u)\n",
        "    summed_array_u = np.sum(squared_array_u)\n",
        "    mag_A = np.sqrt(summed_array_u)\n",
        "\n",
        "    squared_array_v = np.square(v)\n",
        "    summed_array_v = np.sum(squared_array_v)\n",
        "    mag_B = np.sqrt(summed_array_v)\n",
        "\n",
        "\n",
        "    return dot_product / (mag_A * mag_B)\n",
        "\n",
        "\n",
        "u = glove_vectors[\"artist\"]\n",
        "v = glove_vectors[\"painting\"]\n",
        "\n",
        "print(cosine_similarity(u,v))\n",
        "\n",
        "def wordToGPT2Vector(word):\n",
        "  inputs = tokenizer(word, return_tensors=\"pt\")\n",
        "  with torch.no_grad():\n",
        "      outputs = model(**inputs)\n",
        "    # get the last hiddens tate for thet first (and only) token\n",
        "  last_hidden_state = outputs.hidden_states[-1]\n",
        "  word_vector = last_hidden_state[0, 0, :].numpy()\n",
        "  return word_vector\n",
        "\n",
        "u = wordToGPT2Vector(\"egg\")\n",
        "v = wordToGPT2Vector(\"teacher\")\n",
        "\n",
        "print(cosine_similarity(u,v))\n"
      ]
    },
    {
      "cell_type": "code",
      "execution_count": null,
      "metadata": {
        "id": "5vhCtpyVGSC8",
        "colab": {
          "base_uri": "https://localhost:8080/",
          "height": 349
        },
        "outputId": "765e8451-8c59-4c06-ab1d-bab9cd1c722f"
      },
      "outputs": [
        {
          "output_type": "stream",
          "name": "stdout",
          "text": [
            "[]\n"
          ]
        },
        {
          "output_type": "error",
          "ename": "ValueError",
          "evalue": "operands could not be broadcast together with shapes (0,) (768,) ",
          "traceback": [
            "\u001b[0;31m---------------------------------------------------------------------------\u001b[0m",
            "\u001b[0;31mValueError\u001b[0m                                Traceback (most recent call last)",
            "\u001b[0;32m<ipython-input-51-6e3d7fb6e728>\u001b[0m in \u001b[0;36m<cell line: 0>\u001b[0;34m()\u001b[0m\n\u001b[1;32m      5\u001b[0m \u001b[0;34m\u001b[0m\u001b[0m\n\u001b[1;32m      6\u001b[0m \u001b[0mprint\u001b[0m\u001b[0;34m(\u001b[0m\u001b[0mfather\u001b[0m\u001b[0;34m)\u001b[0m\u001b[0;34m\u001b[0m\u001b[0;34m\u001b[0m\u001b[0m\n\u001b[0;32m----> 7\u001b[0;31m \u001b[0mprint\u001b[0m\u001b[0;34m(\u001b[0m\u001b[0;34m\"cosine_similarity(father, mother) = \"\u001b[0m\u001b[0;34m,\u001b[0m \u001b[0mcosine_similarity\u001b[0m\u001b[0;34m(\u001b[0m\u001b[0mfather\u001b[0m\u001b[0;34m,\u001b[0m \u001b[0mmother\u001b[0m\u001b[0;34m)\u001b[0m\u001b[0;34m)\u001b[0m\u001b[0;34m\u001b[0m\u001b[0;34m\u001b[0m\u001b[0m\n\u001b[0m\u001b[1;32m      8\u001b[0m \u001b[0mprint\u001b[0m\u001b[0;34m(\u001b[0m\u001b[0;34m\"cosine_similarity(woman, man) = \"\u001b[0m\u001b[0;34m,\u001b[0m\u001b[0mcosine_similarity\u001b[0m\u001b[0;34m(\u001b[0m\u001b[0mwoman\u001b[0m\u001b[0;34m,\u001b[0m \u001b[0mman\u001b[0m\u001b[0;34m)\u001b[0m\u001b[0;34m)\u001b[0m\u001b[0;34m\u001b[0m\u001b[0;34m\u001b[0m\u001b[0m\n\u001b[1;32m      9\u001b[0m \u001b[0mprint\u001b[0m\u001b[0;34m(\u001b[0m\u001b[0;34m\"cosine_similarity(mother - woman, father - man) = \"\u001b[0m\u001b[0;34m,\u001b[0m\u001b[0mcosine_similarity\u001b[0m\u001b[0;34m(\u001b[0m\u001b[0mmother\u001b[0m \u001b[0;34m-\u001b[0m \u001b[0mwoman\u001b[0m\u001b[0;34m,\u001b[0m \u001b[0mfather\u001b[0m \u001b[0;34m-\u001b[0m \u001b[0mman\u001b[0m\u001b[0;34m)\u001b[0m\u001b[0;34m)\u001b[0m\u001b[0;34m\u001b[0m\u001b[0;34m\u001b[0m\u001b[0m\n",
            "\u001b[0;32m<ipython-input-38-fef103f4b66e>\u001b[0m in \u001b[0;36mcosine_similarity\u001b[0;34m(u, v)\u001b[0m\n\u001b[1;32m     12\u001b[0m \u001b[0;34m\u001b[0m\u001b[0m\n\u001b[1;32m     13\u001b[0m \u001b[0;34m\u001b[0m\u001b[0m\n\u001b[0;32m---> 14\u001b[0;31m     \u001b[0mmultipliedArrays\u001b[0m \u001b[0;34m=\u001b[0m \u001b[0mnp\u001b[0m\u001b[0;34m.\u001b[0m\u001b[0mmultiply\u001b[0m\u001b[0;34m(\u001b[0m\u001b[0mu\u001b[0m\u001b[0;34m,\u001b[0m \u001b[0mv\u001b[0m\u001b[0;34m)\u001b[0m\u001b[0;34m\u001b[0m\u001b[0;34m\u001b[0m\u001b[0m\n\u001b[0m\u001b[1;32m     15\u001b[0m     \u001b[0mdot_product\u001b[0m \u001b[0;34m=\u001b[0m \u001b[0mnp\u001b[0m\u001b[0;34m.\u001b[0m\u001b[0msum\u001b[0m\u001b[0;34m(\u001b[0m\u001b[0mmultipliedArrays\u001b[0m\u001b[0;34m)\u001b[0m\u001b[0;34m\u001b[0m\u001b[0;34m\u001b[0m\u001b[0m\n\u001b[1;32m     16\u001b[0m \u001b[0;34m\u001b[0m\u001b[0m\n",
            "\u001b[0;31mValueError\u001b[0m: operands could not be broadcast together with shapes (0,) (768,) "
          ]
        }
      ],
      "source": [
        "father = wordToGPT2Vector(\"father\")\n",
        "mother = wordToGPT2Vector(\"mother\")\n",
        "woman = wordToGPT2Vector(\"woman\")\n",
        "man = wordToGPT2Vector(\"man\")\n",
        "\n",
        "print(father)\n",
        "print(\"cosine_similarity(father, mother) = \", cosine_similarity(father, mother))\n",
        "print(\"cosine_similarity(woman, man) = \",cosine_similarity(woman, man))\n",
        "print(\"cosine_similarity(mother - woman, father - man) = \",cosine_similarity(mother - woman, father - man))"
      ]
    },
    {
      "cell_type": "code",
      "execution_count": null,
      "metadata": {
        "id": "-zgiOKWyGSEp",
        "outputId": "c8cec73d-0ca9-4383-8832-f4049c95c9c5",
        "colab": {
          "base_uri": "https://localhost:8080/"
        }
      },
      "outputs": [
        {
          "output_type": "stream",
          "name": "stdout",
          "text": [
            "cosine_similarity(father, lawyer) =  0.99734956\n",
            "cosine_similarity(mother, doctor) =  0.9977454\n"
          ]
        }
      ],
      "source": [
        "father = wordToGPT2Vector(\"father\")\n",
        "mother = wordToGPT2Vector(\"mother\")\n",
        "doctor = wordToGPT2Vector(\"doctor\")\n",
        "lawyer = wordToGPT2Vector(\"lawyer\")\n",
        "\n",
        "\n",
        "print(\"cosine_similarity(father, lawyer) = \", cosine_similarity(father, lawyer))\n",
        "print(\"cosine_similarity(mother, doctor) = \",cosine_similarity(mother, doctor))\n"
      ]
    },
    {
      "cell_type": "code",
      "execution_count": null,
      "metadata": {
        "id": "LcKKFCYWJdPk",
        "colab": {
          "base_uri": "https://localhost:8080/"
        },
        "outputId": "d45f412e-c18b-4c95-adb1-2988edab3ccd"
      },
      "outputs": [
        {
          "output_type": "stream",
          "name": "stdout",
          "text": [
            "cosine_similarity(man, doctor) =  0.9972978\n",
            "cosine_similarity(woman, doctor) =  0.99623847\n",
            "cosine_similarity(woman, nurse) =  0.98748803\n",
            "cosine_similarity(man, nurse) =  0.98748803\n",
            "cosine_similarity(nurse, doctor) =  0.99390817\n"
          ]
        }
      ],
      "source": [
        "man = wordToGPT2Vector(\"man\")\n",
        "woman = wordToGPT2Vector(\"woman\")\n",
        "nurse = wordToGPT2Vector(\"nurse\")\n",
        "doctor = wordToGPT2Vector(\"doctor\")\n",
        "\n",
        "\n",
        "print(\"cosine_similarity(man, doctor) = \", cosine_similarity(man, doctor))\n",
        "print(\"cosine_similarity(woman, doctor) = \", cosine_similarity(woman, doctor))\n",
        "print(\"cosine_similarity(woman, nurse) = \",cosine_similarity(woman, nurse))\n",
        "print(\"cosine_similarity(man, nurse) = \",cosine_similarity(woman, nurse))\n",
        "print(\"cosine_similarity(nurse, doctor) = \",cosine_similarity(nurse, doctor))\n",
        "\n"
      ]
    },
    {
      "cell_type": "markdown",
      "metadata": {
        "id": "dBbcyxv0Pm0b"
      },
      "source": [
        "This is the code for computing word analogy given three words (word_a, word_b, word_c), or for example ('man', 'father', 'woman'), the following code find the word vector of a word that completes the analogy. In this example the word vector we expect is 'mother'."
      ]
    },
    {
      "cell_type": "code",
      "execution_count": null,
      "metadata": {
        "id": "FTKh2OqAGSG2",
        "colab": {
          "base_uri": "https://localhost:8080/"
        },
        "outputId": "d67af8fe-2da2-487a-a23c-ba085c6841b5"
      },
      "outputs": [
        {
          "output_type": "stream",
          "name": "stdout",
          "text": [
            "cosine_similarity(mother - woman, father - man) =  0.7022184\n"
          ]
        }
      ],
      "source": [
        "print(\"cosine_similarity(mother - woman, father - man) = \",cosine_similarity(woman - mother, man - father))"
      ]
    },
    {
      "cell_type": "markdown",
      "metadata": {
        "id": "mLK9-i5JSjOH"
      },
      "source": [
        "## Task 3: Remove bias from word vectors\n",
        "\n",
        "1.   List item\n",
        "2.   List item\n",
        "\n",
        "\n",
        "\n",
        "\n",
        "*   List item\n",
        "\n",
        "\n",
        "\n",
        "After getting familiar with all the tools we need, now it's time to actually solve the problem of bias in word vectors.\n",
        "\n",
        "🎯 The goal is to implement a neutralize and equalize Python functions to remove the bias from the word vectors.\n",
        "\n",
        "Deliverables: (1) Complete the python code for the neutralize and equalize python functions following [Man is to Computer Programmer as Woman is to Homemaker? Debiasing Word Embeddings](https://proceedings.neurips.cc/paper_files/paper/2016/file/a486cd07e4ac3d270571622f4f316ec5-Paper.pdf) by Tolga Bolukbasi, Kai-Wei Chang, James Zou, Venkatesh Saligrama, and Adam Kalai. Proceedings of NIPS 2016. The code should run without any errors. (2) Provide examples before and after removing bias.\n"
      ]
    },
    {
      "cell_type": "markdown",
      "metadata": {
        "id": "lQHPH-1t4ULQ"
      },
      "source": [
        "To remove the gender bias from non-gender specific word vectors, we need represent the semantic concept of gender as a vector. We can approximate that vector by subtracting female and male word vectors. This means we can compute a vector 'vgender = v1 - v2', where 'v1' represents the word vector corresponding to the word woman, and 'v2' corresponds to the word vector corresponding to the word man. The resulting vector roughly encodes the concept of \"gender\"."
      ]
    },
    {
      "cell_type": "code",
      "source": [],
      "metadata": {
        "id": "zICJj3yGOKry"
      },
      "execution_count": null,
      "outputs": []
    },
    {
      "cell_type": "code",
      "execution_count": null,
      "metadata": {
        "id": "T-CTO9ESOasA",
        "colab": {
          "base_uri": "https://localhost:8080/"
        },
        "outputId": "caca027d-5c91-4fec-c033-49cea5b146c2"
      },
      "outputs": [
        {
          "output_type": "stream",
          "name": "stdout",
          "text": [
            "(100,)\n"
          ]
        }
      ],
      "source": [
        "vgender = word_to_vec_map['woman'] - word_to_vec_map['man']\n",
        "print(vgender.shape)"
      ]
    },
    {
      "cell_type": "markdown",
      "metadata": {
        "id": "ikjuRnrkXDS6"
      },
      "source": [
        "*Now*, you will consider the cosine similarity of different words with vgender. A positive value of similarity means that the words are closer to 'woman' and a negative cosine similarity means the words are closer to 'man'."
      ]
    },
    {
      "cell_type": "code",
      "execution_count": null,
      "metadata": {
        "id": "9kuUi4ERLre4",
        "colab": {
          "base_uri": "https://localhost:8080/"
        },
        "outputId": "06e7f50a-9108-46a3-f53d-fbe10ba118f7"
      },
      "outputs": [
        {
          "output_type": "stream",
          "name": "stdout",
          "text": [
            "List of names and their similarities with constructed vector:\n",
            "john -0.22835016301353003\n",
            "anna 0.30979131297050017\n",
            "sophie 0.20268358069637613\n",
            "ronaldo -0.33289646092458364\n",
            "shakira 0.1880269259909514\n",
            "mario -0.2162342870868733\n",
            "maria 0.20294361299167965\n",
            "tom -0.0919308994722461\n",
            "katy 0.18688587310631186\n"
          ]
        }
      ],
      "source": [
        "print('List of names and their similarities with constructed vector:')\n",
        "\n",
        "# girls and boys name\n",
        "name_list = ['john', 'anna', 'sophie', 'ronaldo', 'shakira', 'mario', 'maria', 'tom', 'katy']\n",
        "\n",
        "for w in name_list:\n",
        "  print(w, cosine_similarity(glove_vectors[w], vgender))"
      ]
    },
    {
      "cell_type": "markdown",
      "metadata": {
        "id": "wBBMvt10XkZU"
      },
      "source": [
        "As you can see, female first names tend to have a positive cosine similarity with our constructed vector\n",
        ", while male first names tend to have a negative cosine similarity. This is not suprising, and the result seems acceptable.\n",
        "\n",
        "But let's try with some other words."
      ]
    },
    {
      "cell_type": "code",
      "execution_count": null,
      "metadata": {
        "id": "jWYlM-6ILrgt",
        "colab": {
          "base_uri": "https://localhost:8080/",
          "height": 201
        },
        "outputId": "b23ed9f7-e12a-48c4-d50d-74a538acb4bd"
      },
      "outputs": [
        {
          "output_type": "stream",
          "name": "stdout",
          "text": [
            "Other words and their similarities:\n"
          ]
        },
        {
          "output_type": "error",
          "ename": "NameError",
          "evalue": "name 'cosine_similarity' is not defined",
          "traceback": [
            "\u001b[0;31m---------------------------------------------------------------------------\u001b[0m",
            "\u001b[0;31mNameError\u001b[0m                                 Traceback (most recent call last)",
            "\u001b[0;32m<ipython-input-43-0498640439e4>\u001b[0m in \u001b[0;36m<cell line: 0>\u001b[0;34m()\u001b[0m\n\u001b[1;32m      3\u001b[0m              'technology',  'fashion', 'teacher', 'engineer', 'pilot', 'computer', 'singer']\n\u001b[1;32m      4\u001b[0m \u001b[0;32mfor\u001b[0m \u001b[0mw\u001b[0m \u001b[0;32min\u001b[0m \u001b[0mword_list\u001b[0m\u001b[0;34m:\u001b[0m\u001b[0;34m\u001b[0m\u001b[0;34m\u001b[0m\u001b[0m\n\u001b[0;32m----> 5\u001b[0;31m     \u001b[0mprint\u001b[0m \u001b[0;34m(\u001b[0m\u001b[0mw\u001b[0m\u001b[0;34m,\u001b[0m \u001b[0mcosine_similarity\u001b[0m\u001b[0;34m(\u001b[0m\u001b[0mglove_vectors\u001b[0m\u001b[0;34m[\u001b[0m\u001b[0mw\u001b[0m\u001b[0;34m]\u001b[0m\u001b[0;34m,\u001b[0m \u001b[0mvgender\u001b[0m\u001b[0;34m)\u001b[0m\u001b[0;34m)\u001b[0m\u001b[0;34m\u001b[0m\u001b[0;34m\u001b[0m\u001b[0m\n\u001b[0m",
            "\u001b[0;31mNameError\u001b[0m: name 'cosine_similarity' is not defined"
          ]
        }
      ],
      "source": [
        "print('Other words and their similarities:')\n",
        "word_list = ['lipstick', 'guns', 'science', 'arts', 'literature', 'warrior','doctor', 'tree', 'receptionist',\n",
        "             'technology',  'fashion', 'teacher', 'engineer', 'pilot', 'computer', 'singer']\n",
        "for w in word_list:\n",
        "    print (w, cosine_similarity(glove_vectors[w], vgender))"
      ]
    },
    {
      "cell_type": "code",
      "source": [],
      "metadata": {
        "id": "qvm7sWM9ZuTR"
      },
      "execution_count": null,
      "outputs": []
    },
    {
      "cell_type": "code",
      "source": [
        "cosine_similarity(neutralize(\"computer\", vgender, word_to_vec_map), vgender)"
      ],
      "metadata": {
        "id": "ZEIVhFSWMwGH",
        "colab": {
          "base_uri": "https://localhost:8080/"
        },
        "outputId": "dfba9516-aca5-41a7-954a-4ca5a378b4df"
      },
      "execution_count": null,
      "outputs": [
        {
          "output_type": "execute_result",
          "data": {
            "text/plain": [
              "3.053187434857525e-17"
            ]
          },
          "metadata": {},
          "execution_count": 26
        }
      ]
    },
    {
      "cell_type": "markdown",
      "metadata": {
        "id": "MeO1JJMKX502"
      },
      "source": [
        "Do you notice anything surprising? It is astonishing how these results reflect certain unhealthy gender stereotypes. For example, \"computer\" is closer to \"man\" while \"literature\" is closer to \"woman\". Ouch!\n",
        "\n",
        "We'll see below how to reduce the bias of these vectors, using an algorithm due to Boliukbasi et al., 2016. Note that some word pairs such as \"actor\"/\"actress\" or \"grandmother\"/\"grandfather\" should remain gender specific, while other words such as \"receptionist\" or \"technology\" should be neutralized, i.e. not be gender-related. You will have to treat these two type of words differently when debiasing."
      ]
    },
    {
      "cell_type": "markdown",
      "metadata": {
        "id": "hMjnbHM4YAtg"
      },
      "source": [
        "\n",
        "An approach to remove the bias would be to neutralize and equalize the bias for non-gender specific words, following Bolukbasi et al, 2016.\n",
        "\n",
        "> Tolga Bolukbasi, Kai-Wei Chang, James Zou, Venkatesh Saligrama, and Adam Kalai. 2016. Man is to computer programmer as woman is to homemaker? debiasing word embeddings. In Proceedings of the 30th International Conference on Neural Information Processing Systems (NIPS'16). Curran Associates Inc., Red Hook, NY, USA, 4356-4364."
      ]
    },
    {
      "cell_type": "code",
      "execution_count": null,
      "metadata": {
        "id": "3j5LVB38Lrkp"
      },
      "outputs": [],
      "source": [
        "def neutralize(word, g, word_to_vec_map):\n",
        "    \"\"\"\n",
        "    Removes the bias of \"word\" by projecting it on the space orthogonal to the bias axis.\n",
        "    This function ensures that gender neutral words are zero in the gender subspace.\n",
        "\n",
        "    Arguments:\n",
        "        word -- string indicating the word to debias\n",
        "        g -- numpy-array of shape (100,), corresponding to the bias axis (such as gender)\n",
        "        word_to_vec_map -- dictionary mapping words to their corresponding vectors. ok\n",
        "    Returns:\n",
        "        e_debiased -- neutralized word vector representation of the input \"word\"\n",
        "    \"\"\"\n",
        "\n",
        "    ### START CODE HERE ###\n",
        "    # Select word vector representation of \"word\". Use word_to_vec_map. (≈ 1 line)\n",
        "    e = word_to_vec_map[word]\n",
        "\n",
        "\n",
        "\n",
        "    # Compute e_biascomponent using the formula give above. (≈ 1 line)\n",
        "    e_biascomponent = np.dot(e,g) / np.dot(g,g) * g\n",
        "\n",
        "    # Neutralize e by substracting e_biascomponent from it\n",
        "    # e_debiased should be equal to its orthogonal projection. (≈ 1 line)\n",
        "    e_debiased = e - e_biascomponent\n",
        "    ### END CODE HERE ###\n",
        "\n",
        "    return e_debiased"
      ]
    },
    {
      "cell_type": "code",
      "execution_count": null,
      "metadata": {
        "id": "guR-_udRLrms"
      },
      "outputs": [],
      "source": [
        "e = \"receptionist\"\n",
        "print(\"cosine similarity between \" + e + \" and vgender, before neutralizing: \", cosine_similarity(word_to_vec_map[\"receptionist\"], vgender))\n",
        "\n",
        "e_debiased = neutralize(\"receptionist\", vgender, word_to_vec_map)\n",
        "print(\"cosine similarity between \" + e + \" and vgender, after neutralizing: \", cosine_similarity(e_debiased, vgender))"
      ]
    },
    {
      "cell_type": "markdown",
      "metadata": {
        "id": "gXsIwPgsYvAw"
      },
      "source": [
        "Next, lets see how debiasing can also be applied to word pairs such as \"actress\" and \"actor.\" Equalization is applied to pairs of words that you might want to have differ only through the gender property. As a concrete example, suppose that \"actress\" is closer to \"babysit\" than \"actor.\" By applying neutralizing to \"babysit\" we can reduce the gender-stereotype associated with babysitting. But this still does not guarantee that \"actor\" and \"actress\" are equidistant from \"babysit.\" The equalization algorithm takes care of this.\n",
        "\n",
        "The key idea behind equalization is to make sure that a particular pair of words are equally distant."
      ]
    },
    {
      "cell_type": "code",
      "execution_count": null,
      "metadata": {
        "id": "4e-z0teTLrox"
      },
      "outputs": [],
      "source": [
        "def equalize(pair, bias_axis, word_to_vec_map):\n",
        "    \"\"\"\n",
        "    Debias gender specific words by following the equalize method described in the figure above.\n",
        "\n",
        "    Arguments:\n",
        "    pair -- pair of strings of gender specific words to debias, e.g. (\"actress\", \"actor\")\n",
        "    bias_axis -- numpy-array of shape (100,), vector corresponding to the bias axis, e.g. gender\n",
        "    word_to_vec_map -- dictionary mapping words to their corresponding vectors\n",
        "\n",
        "    Returns+\n",
        "    e_1 -- word vector corresponding to the first word\n",
        "    e_2 -- word vector corresponding to the second word\n",
        "    \"\"\"\n",
        "\n",
        "    ### START CODE HERE ###\n",
        "    # Step 1: Select word vector representation of \"word\". Use word_to_vec_map. (≈ 2 lines)\n",
        "\n",
        "    w1, w2 = pair\n",
        "    e_w1, e_w2 = word_to_vec_map[w1], word_to_vec_map[w2]\n",
        "\n",
        "    # Step 2: Compute the mean of e_w1 and e_w2 (≈ 1 line)\n",
        "    mu = (e_w1 + e_w2) / 2\n",
        "\n",
        "    # Step 3: Compute the projections of mu over the bias axis and the orthogonal axis (≈ 2 lines)\n",
        "    mu_B = np.dot(mu,bias_axis) / (np.linalg.norm(bias_axis))**2 * bias_axis\n",
        "    mu_orth = mu - mu_B\n",
        "\n",
        "    # Step 4: Use equations (7) and (8) to compute e_w1B and e_w2B (≈2 lines)\n",
        "    e_w1B = np.dot(e_w1,bias_axis) / (np.linalg.norm(bias_axis))**2 * bias_axis\n",
        "    e_w2B = np.dot(e_w2,bias_axis) / (np.linalg.norm(bias_axis))**2 * bias_axis\n",
        "\n",
        "    # Step 5: Adjust the Bias part of e_w1B and e_w2B using the formulas (9) and (10) given above (≈2 lines)\n",
        "    corrected_e_w1B = (np.sqrt(np.linalg.norm(1-np.linalg.norm(mu_orth)**2)) * (e_w1B - mu_B) /\n",
        "    np.linalg.norm(e_w1 - mu_orth - mu_B))\n",
        "    corrected_e_w2B = (np.sqrt(np.linalg.norm(1-np.linalg.norm(mu_orth)**2)) * (e_w2B - mu_B) /\n",
        "    np.linalg.norm(e_w2 - mu_orth - mu_B))\n",
        "\n",
        "    # Step 6: Debias by equalizing e1 and e2 to the sum of their corrected projections (≈2 lines)\n",
        "    e1 = corrected_e_w1B + mu_orth\n",
        "    e2 = corrected_e_w2B + mu_orth\n",
        "\n",
        "    ### END CODE HERE ###\n",
        "\n",
        "    return e1, e2"
      ]
    },
    {
      "cell_type": "code",
      "source": [
        "def equalize(pair, bias_axis, word_to_vec_map):\n",
        "\n",
        "    \"\"\"\n",
        "    Debias gender specific words by following the equalize method described in the figure above.\n",
        "\n",
        "    Arguments:\n",
        "    pair -- pair of strings of gender specific words to debias, e.g. (\"actress\", \"actor\")\n",
        "    bias_axis -- numpy-array of shape (100,), vector corresponding to the bias axis, e.g. gender\n",
        "    word_to_vec_map -- dictionary mapping words to their corresponding vectors\n",
        "\n",
        "    Returns+\n",
        "    e_1 -- word vector corresponding to the first word\n",
        "    e_2 -- word vector corresponding to the second word\n",
        "    \"\"\"\n",
        "\n",
        "    ### START CODE HERE ###\n",
        "\n",
        "\n",
        "    def project(vec, bias_axis):\n",
        "      return bias_axis * (np.dot(vec, bias_axis)/np.linalg.norm(bias_axis)**2)\n",
        "\n",
        "    # Step 1: Select word vector representation of \"word\". Use word_to_vec_map. (≈ 2 lines)\n",
        "\n",
        "    w1, w2 = pair\n",
        "    e_w1 , e_w2= word_to_vec_map[w1], word_to_vec_map[w2]\n",
        "\n",
        "\n",
        "    # Step 2: Compute the mean of e_w1 and e_w2 (≈ 1 line)\n",
        "    mu = (e_w1 + e_w2)/2\n",
        "\n",
        "    # Step 3: Compute the projections of mu over the bias axis and the orthogonal axis (≈ 2 lines)\n",
        "    mu_b = project(mu, bias_axis)\n",
        "    v = mu - mu_b\n",
        "\n",
        "\n",
        "    # Step 4: Use equations (7) and (8) to compute e_w1B and e_w2B (≈2 lines)\n",
        "    e_w1B = project(e_w1, bias_axis)\n",
        "    e_w2B = project(e_w2, bias_axis)\n",
        "\n",
        "    #print(e_w1B, e_w2B)\n",
        "\n",
        "    # Step 5: Adjust the Bias part of e_w1B and e_w2B using the formulas (9) and (10) given above (≈2 lines)\n",
        "\n",
        "\n",
        "    e1_new_b = np.sqrt(np.abs(1 - np.dot(v,v)))*(e_w1B - mu_b) / np.linalg.norm(e_w1B - mu_b)\n",
        "    e2_new_b = np.sqrt(np.abs(1 - np.dot(v,v)))*(e_w2B - mu_b)/np.linalg.norm(e_w2B - mu_b)\n",
        "\n",
        "    # Step 6: Debias by equalizing e1 and e2 to the sum of their corrected projections (≈2 lines)\n",
        "    e1 = v + e1_new_b\n",
        "    e2 = v + e2_new_b\n",
        "\n",
        "    ### END CODE HERE ###\n",
        "\n",
        "    return e1, e2"
      ],
      "metadata": {
        "id": "gjRR_62u7jxf"
      },
      "execution_count": null,
      "outputs": []
    },
    {
      "cell_type": "code",
      "execution_count": null,
      "metadata": {
        "id": "nFnDkomcLrq3",
        "colab": {
          "base_uri": "https://localhost:8080/"
        },
        "outputId": "ed09230b-a15a-45df-f256-e4463a5c3923"
      },
      "outputs": [
        {
          "output_type": "stream",
          "name": "stdout",
          "text": [
            "cosine similarities before equalizing:\n",
            "cosine_similarity(word_to_vec_map[\"man\"], gender) =  -0.18769064329512625\n",
            "cosine_similarity(word_to_vec_map[\"woman\"], gender) =  0.38817700014950196\n",
            "\n",
            "cosine similarities after equalizing:\n",
            "cosine_similarity(e1, gender) =  -0.7011266936301774\n",
            "cosine_similarity(e2, gender) =  0.7011266936301777\n"
          ]
        }
      ],
      "source": [
        "print(\"cosine similarities before equalizing:\")\n",
        "print(\"cosine_similarity(word_to_vec_map[\\\"man\\\"], gender) = \", cosine_similarity(word_to_vec_map[\"man\"], vgender))\n",
        "print(\"cosine_similarity(word_to_vec_map[\\\"woman\\\"], gender) = \", cosine_similarity(word_to_vec_map[\"woman\"], vgender))\n",
        "print()\n",
        "e1, e2 = equalize((\"man\", \"woman\"), vgender, word_to_vec_map)\n",
        "\n",
        "print(\"cosine similarities after equalizing:\")\n",
        "print(\"cosine_similarity(e1, gender) = \", cosine_similarity(e1, vgender))\n",
        "print(\"cosine_similarity(e2, gender) = \", cosine_similarity(e2, vgender))"
      ]
    },
    {
      "cell_type": "code",
      "source": [
        "# prompt: create a list called words_to_graph in this list I want the following words and their comparitive and superlative: slow, short, strong, loud, clear, sfot\n",
        "\n",
        "words_to_graph = [\n",
        "    \"slow\", \"slower\", \"slowest\",\n",
        "    \"short\", \"shorter\", \"shortest\",\n",
        "    \"strong\", \"stronger\", \"strongest\",\n",
        "    \"loud\", \"louder\", \"loudest\",\n",
        "    \"clear\", \"clearer\", \"clearest\",\n",
        "    \"soft\", \"softer\", \"softest\"\n",
        "]"
      ],
      "metadata": {
        "id": "YVz0uwCde3pS"
      },
      "execution_count": null,
      "outputs": []
    },
    {
      "cell_type": "code",
      "source": [
        "# prompt: add the words_to_graph to the vocabulary\n",
        "\n",
        "import numpy as np\n",
        "# Assuming 'glove_vectors' is defined and populated in your environment\n",
        "# and that it contains word embeddings as a dictionary\n",
        "\n",
        "# Add words_to_graph to the vocabulary (if not already present)\n",
        "\n",
        "\n",
        "\n",
        "for word in words_to_graph:\n",
        "    if word not in word_to_vec_map:\n",
        "        print(f\"Adding {word}\")\n",
        "        try:\n",
        "            # If word embedding exists for the word\n",
        "            word_to_vec_map[word] = glove_vectors[word]\n",
        "            words.add(word)\n",
        "        except KeyError:\n",
        "\n",
        "            # Handle the case where a word isn't in the original embeddings, you might want to:\n",
        "            # 1. Assign a random vector:\n",
        "            vec_size = len(np.random.choice(glove_vector))\n",
        "            vector = np.random.randn(vec_soze)\n",
        "            # 2. Skip the word, if adding random vectors is not desired.\n",
        "            # 3. Use a different embedding source (e.g., FastText) if available.\n",
        "            pass  # or handle it as per your requirement"
      ],
      "metadata": {
        "id": "NDlHLGmVtsIk"
      },
      "execution_count": null,
      "outputs": []
    },
    {
      "source": [
        "# prompt: I want you to graph the similaritty between the word and its comparative and superlative\n",
        "\n",
        "import matplotlib.pyplot as plt\n",
        "import networkx as nx\n",
        "import numpy as np # Added import for numpy\n",
        "\n",
        "# Assuming 'word_to_vec_map' is already defined and populated from the previous code\n",
        "\n",
        "def cosine_similarity(u, v):\n",
        "    \"\"\"\n",
        "    Cosine similarity reflects the degree of similariy between u and v\n",
        "\n",
        "    Arguments:\n",
        "        u -- a word vector of shape (n,)\n",
        "        v -- a word vector of shape (n,)\n",
        "\n",
        "    Returns:\n",
        "        cosine_similarity -- the cosine similarity between u and v defined by the formula above.\n",
        "    \"\"\"\n",
        "    multipliedArrays = np.multiply(u, v) # Fixed: Using np.multiply\n",
        "    dot_product = np.sum(multipliedArrays)\n",
        "\n",
        "    squared_array_u = np.square(u)\n",
        "    summed_array_u = np.sum(squared_array_u)\n",
        "    mag_A = np.sqrt(summed_array_u)\n",
        "\n",
        "    squared_array_v = np.square(v)\n",
        "    summed_array_v = np.sum(squared_array_v)\n",
        "    mag_B = np.sqrt(summed_array_v)\n",
        "\n",
        "    cos_similarity = dot_product / (mag_A * mag_B)\n",
        "    return cos_similarity\n",
        "\n",
        "\n",
        "# Calculate similarity scores\n",
        "similarity_matrix = {}\n",
        "for i in range(0, len(words_to_graph), 3):\n",
        "    word = words_to_graph[i]\n",
        "    comparative = words_to_graph[i+1]\n",
        "    superlative = words_to_graph[i+2]\n",
        "    try:\n",
        "        similarity_matrix[(word, comparative)] = cosine_similarity(word_to_vec_map[word], word_to_vec_map[comparative])\n",
        "        similarity_matrix[(word, superlative)] = cosine_similarity(word_to_vec_map[word], word_to_vec_map[superlative])\n",
        "        similarity_matrix[(comparative, superlative)] = cosine_similarity(word_to_vec_map[comparative], word_to_vec_map[superlative])\n",
        "    except KeyError:\n",
        "        print(f\"Warning: Word '{word}', '{comparative}' or '{superlative}' not found in vocabulary.\")\n",
        "\n",
        "\n",
        "# Create a graph\n",
        "graph = nx.Graph()\n",
        "for (word1, word2), similarity in similarity_matrix.items():\n",
        "    graph.add_edge(word1, word2, weight=similarity)\n",
        "\n",
        "# Draw the graph\n",
        "pos = nx.spring_layout(graph)  # You can experiment with different layout algorithms\n",
        "nx.draw(graph, pos, with_labels=True, node_size=500, node_color='skyblue', font_size=10)\n",
        "edge_labels = nx.get_edge_attributes(graph, 'weight')\n",
        "nx.draw_networkx_edge_labels(graph, pos, edge_labels=edge_labels, font_size=8)\n",
        "plt.title(\"Word Similarity Graph\")\n",
        "plt.show()"
      ],
      "cell_type": "code",
      "metadata": {
        "id": "whHqosfet2Al"
      },
      "execution_count": null,
      "outputs": []
    },
    {
      "cell_type": "code",
      "source": [
        "# prompt: show in a better way the relationship between the directions of the word and its comparative and superlative\n",
        "\n",
        "import matplotlib.pyplot as plt\n",
        "import networkx as nx\n",
        "import numpy as np\n",
        "\n",
        "# Assuming 'word_to_vec_map' is defined and populated from the previous code\n",
        "# and that it contains word embeddings as a dictionary\n",
        "\n",
        "def cosine_similarity(u, v):\n",
        "    \"\"\"\n",
        "    Cosine similarity reflects the degree of similariy between u and v\n",
        "\n",
        "    Arguments:\n",
        "        u -- a word vector of shape (n,)\n",
        "        v -- a word vector of shape (n,)\n",
        "\n",
        "    Returns:\n",
        "        cosine_similarity -- the cosine similarity between u and v defined by the formula above.\n",
        "    \"\"\"\n",
        "    multipliedArrays = np.multiply(u, v)\n",
        "    dot_product = np.sum(multipliedArrays)\n",
        "\n",
        "    squared_array_u = np.square(u)\n",
        "    summed_array_u = np.sum(squared_array_u)\n",
        "    mag_A = np.sqrt(summed_array_u)\n",
        "\n",
        "    squared_array_v = np.square(v)\n",
        "    summed_array_v = np.sum(squared_array_v)\n",
        "    mag_B = np.sqrt(summed_array_v)\n",
        "\n",
        "    cos_similarity = dot_product / (mag_A * mag_B)\n",
        "    return cos_similarity\n",
        "\n",
        "words_to_graph = [\n",
        "    \"slow\", \"slower\", \"slowest\",\n",
        "    \"short\", \"shorter\", \"shortest\",\n",
        "    \"strong\", \"stronger\", \"strongest\",\n",
        "    \"loud\", \"louder\", \"loudest\",\n",
        "    \"clear\", \"clearer\", \"clearest\",\n",
        "    \"soft\", \"softer\", \"softest\"\n",
        "]\n",
        "\n",
        "# Example usage (replace with your actual word vectors)\n",
        "# Create a sample word_to_vec_map (replace with your actual data)\n",
        "word_to_vec_map = {}\n",
        "for word in words_to_graph:\n",
        "    word_to_vec_map[word] = np.random.rand(300) # Replace 300 with actual vector dimension\n",
        "\n",
        "\n",
        "similarity_matrix = {}\n",
        "for i in range(0, len(words_to_graph), 3):\n",
        "    word = words_to_graph[i]\n",
        "    comparative = words_to_graph[i+1]\n",
        "    superlative = words_to_graph[i+2]\n",
        "    try:\n",
        "        similarity_matrix[(word, comparative)] = cosine_similarity(word_to_vec_map[word], word_to_vec_map[comparative])\n",
        "        similarity_matrix[(word, superlative)] = cosine_similarity(word_to_vec_map[word], word_to_vec_map[superlative])\n",
        "        similarity_matrix[(comparative, superlative)] = cosine_similarity(word_to_vec_map[comparative], word_to_vec_map[superlative])\n",
        "    except KeyError as e:\n",
        "        print(f\"Warning: {e}\")\n",
        "\n",
        "graph = nx.Graph()\n",
        "for (word1, word2), similarity in similarity_matrix.items():\n",
        "    graph.add_edge(word1, word2, weight=similarity)\n",
        "\n",
        "pos = nx.spring_layout(graph)\n",
        "nx.draw(graph, pos, with_labels=True, node_size=500, node_color='skyblue', font_size=10)\n",
        "edge_labels = nx.get_edge_attributes(graph, 'weight')\n",
        "nx.draw_networkx_edge_labels(graph, pos, edge_labels=edge_labels, font_size=8)\n",
        "plt.title(\"Word Similarity Graph\")\n",
        "plt.show()"
      ],
      "metadata": {
        "id": "TWfKz5Dquc8u"
      },
      "execution_count": null,
      "outputs": []
    },
    {
      "cell_type": "code",
      "source": [
        "# prompt: only graph soft and its comparative and superlative\n",
        "\n",
        "import matplotlib.pyplot as plt\n",
        "import networkx as nx\n",
        "import numpy as np\n",
        "\n",
        "# Sample word vectors (replace with your actual word vectors)\n",
        "word_to_vec_map = {\n",
        "    \"soft\": np.array([0.1, 0.2, 0.3]),\n",
        "    \"softer\": np.array([0.15, 0.25, 0.35]),\n",
        "    \"softest\": np.array([0.2, 0.3, 0.4]),\n",
        "    # ... other words\n",
        "}\n",
        "\n",
        "def cosine_similarity(u, v):\n",
        "    dot_product = np.dot(u, v)\n",
        "    norm_u = np.linalg.norm(u)\n",
        "    norm_v = np.linalg.norm(v)\n",
        "    if norm_u == 0 or norm_v == 0:\n",
        "        return 0\n",
        "    return dot_product / (norm_u * norm_v)\n",
        "\n",
        "words_to_graph = [\n",
        "    \"soft\", \"softer\", \"softest\"\n",
        "]\n",
        "\n",
        "similarity_matrix = {}\n",
        "for i in range(0, len(words_to_graph)):\n",
        "    word1 = words_to_graph[i]\n",
        "    for j in range(i + 1, len(words_to_graph)):\n",
        "        word2 = words_to_graph[j]\n",
        "        similarity_matrix[(word1, word2)] = cosine_similarity(word_to_vec_map[word1], word_to_vec_map[word2])\n",
        "\n",
        "graph = nx.Graph()\n",
        "for (word1, word2), similarity in similarity_matrix.items():\n",
        "    graph.add_edge(word1, word2, weight=similarity)\n",
        "\n",
        "pos = nx.spring_layout(graph)\n",
        "nx.draw(graph, pos, with_labels=True, node_size=500, node_color='skyblue', font_size=10)\n",
        "edge_labels = nx.get_edge_attributes(graph, 'weight')\n",
        "nx.draw_networkx_edge_labels(graph, pos, edge_labels=edge_labels, font_size=8)\n",
        "plt.title(\"Word Similarity Graph (Soft)\")\n",
        "plt.show()"
      ],
      "metadata": {
        "id": "ymzryheZuoVg"
      },
      "execution_count": null,
      "outputs": []
    },
    {
      "cell_type": "code",
      "source": [
        "# prompt: in the graph above, I want you to make the x axis a bit wider making the ditance between soft and the others a bit bigger on this axis\n",
        "\n",
        "import matplotlib.pyplot as plt\n",
        "import networkx as nx\n",
        "import numpy as np\n",
        "\n",
        "# ... (Your existing code for word embeddings, cosine similarity, etc.)\n",
        "\n",
        "# Calculate similarity scores (your existing code)\n",
        "# ...\n",
        "\n",
        "# Create a graph (your existing code)\n",
        "# ...\n",
        "\n",
        "# Draw the graph with adjusted layout\n",
        "pos = nx.spring_layout(graph, k=0.5)  # Adjust the k parameter to control spacing\n",
        "# k: Optimal distance between nodes.  Increase k to increase spacing\n",
        "\n",
        "nx.draw(graph, pos, with_labels=True, node_size=500, node_color='skyblue', font_size=10)\n",
        "edge_labels = nx.get_edge_attributes(graph, 'weight')\n",
        "nx.draw_networkx_edge_labels(graph, pos, edge_labels=edge_labels, font_size=8)\n",
        "plt.title(\"Word Similarity Graph\")\n",
        "plt.show()"
      ],
      "metadata": {
        "id": "wFCauv3CvEv-"
      },
      "execution_count": null,
      "outputs": []
    },
    {
      "cell_type": "code",
      "source": [
        "# prompt: only graph soft\n",
        "\n",
        "import matplotlib.pyplot as plt\n",
        "import networkx as nx\n",
        "import numpy as np\n",
        "\n",
        "# Sample word vectors (replace with your actual word vectors)\n",
        "word_to_vec_map = {\n",
        "    \"soft\": np.array([0.1, 0.2, 0.3]),\n",
        "    \"softer\": np.array([0.15, 0.25, 0.35]),\n",
        "    \"softest\": np.array([0.2, 0.3, 0.4]),\n",
        "    # ... other words\n",
        "}\n",
        "\n",
        "def cosine_similarity(u, v):\n",
        "    dot_product = np.dot(u, v)\n",
        "    norm_u = np.linalg.norm(u)\n",
        "    norm_v = np.linalg.norm(v)\n",
        "    if norm_u == 0 or norm_v == 0:\n",
        "        return 0\n",
        "    return dot_product / (norm_u * norm_v)\n",
        "\n",
        "words_to_graph = [\n",
        "    \"soft\", \"softer\", \"softest\"\n",
        "]\n",
        "\n",
        "similarity_matrix = {}\n",
        "for i in range(0, len(words_to_graph)):\n",
        "    word1 = words_to_graph[i]\n",
        "    for j in range(i + 1, len(words_to_graph)):\n",
        "        word2 = words_to_graph[j]\n",
        "        similarity_matrix[(word1, word2)] = cosine_similarity(word_to_vec_map[word1], word_to_vec_map[word2])\n",
        "\n",
        "graph = nx.Graph()\n",
        "for (word1, word2), similarity in similarity_matrix.items():\n",
        "    graph.add_edge(word1, word2, weight=similarity)\n",
        "\n",
        "pos = nx.spring_layout(graph)\n",
        "nx.draw(graph, pos, with_labels=True, node_size=500, node_color='skyblue', font_size=10)\n",
        "edge_labels = nx.get_edge_attributes(graph, 'weight')\n",
        "nx.draw_networkx_edge_labels(graph, pos, edge_labels=edge_labels, font_size=8)\n",
        "plt.title(\"Word Similarity Graph (Soft)\")\n",
        "plt.show()"
      ],
      "metadata": {
        "id": "S0UP4MLKvnfz"
      },
      "execution_count": null,
      "outputs": []
    },
    {
      "cell_type": "code",
      "source": [
        "# prompt: want you to mirror the above graph in the x and y axes\n",
        "\n",
        "import matplotlib.pyplot as plt\n",
        "import numpy as np\n",
        "\n",
        "# Assuming 'graph', 'pos', 'edge_labels' are defined from your previous code\n",
        "\n",
        "# ... (Your existing code for creating the graph and layout)\n",
        "\n",
        "# Mirror the graph in the x-axis\n",
        "mirrored_pos_x = {}\n",
        "for node, (x, y) in pos.items():\n",
        "    mirrored_pos_x[node] = (-x, y)\n",
        "\n",
        "# Mirror the graph in the y-axis\n",
        "mirrored_pos_y = {}\n",
        "for node, (x,y) in pos.items():\n",
        "    mirrored_pos_y[node] = (x, -y)\n",
        "\n",
        "\n",
        "#Mirror the graph in both x and y axes\n",
        "mirrored_pos_both = {}\n",
        "for node, (x, y) in pos.items():\n",
        "    mirrored_pos_both[node] = (-x, -y)\n",
        "\n",
        "# Draw the mirrored graph in x-axis\n",
        "plt.figure(figsize=(8, 6))  # Adjust figure size as needed\n",
        "nx.draw(graph, mirrored_pos_x, with_labels=True, node_size=500, node_color='skyblue', font_size=10)\n",
        "nx.draw_networkx_edge_labels(graph, mirrored_pos_x, edge_labels=edge_labels, font_size=8)\n",
        "plt.title(\"Word Similarity Graph (Mirrored X-axis)\")\n",
        "plt.show()\n",
        "\n",
        "# Draw the mirrored graph in y-axis\n",
        "plt.figure(figsize=(8, 6))  # Adjust figure size as needed\n",
        "nx.draw(graph, mirrored_pos_y, with_labels=True, node_size=500, node_color='skyblue', font_size=10)\n",
        "nx.draw_networkx_edge_labels(graph, mirrored_pos_y, edge_labels=edge_labels, font_size=8)\n",
        "plt.title(\"Word Similarity Graph (Mirrored Y-axis)\")\n",
        "plt.show()\n",
        "\n",
        "# Draw the mirrored graph in both x and y axes\n",
        "plt.figure(figsize=(8, 6))  # Adjust figure size as needed\n",
        "nx.draw(graph, mirrored_pos_both, with_labels=True, node_size=500, node_color='skyblue', font_size=10)\n",
        "nx.draw_networkx_edge_labels(graph, mirrored_pos_both, edge_labels=edge_labels, font_size=8)\n",
        "plt.title(\"Word Similarity Graph (Mirrored Both Axes)\")\n",
        "plt.show()"
      ],
      "metadata": {
        "id": "d3kwuRh5vu_A"
      },
      "execution_count": null,
      "outputs": []
    },
    {
      "cell_type": "code",
      "source": [
        "# prompt: I want to have soft as the word that is closer to the left\n",
        "\n",
        "import matplotlib.pyplot as plt\n",
        "import networkx as nx\n",
        "import numpy as np\n",
        "\n",
        "# Sample word vectors (replace with your actual word vectors)\n",
        "word_to_vec_map = {\n",
        "    \"soft\": np.array([0.1, 0.2, 0.3]),\n",
        "    \"softer\": np.array([0.15, 0.25, 0.35]),\n",
        "    \"softest\": np.array([0.2, 0.3, 0.4]),\n",
        "    # ... other words\n",
        "}\n",
        "\n",
        "def cosine_similarity(u, v):\n",
        "    dot_product = np.dot(u, v)\n",
        "    norm_u = np.linalg.norm(u)\n",
        "    norm_v = np.linalg.norm(v)\n",
        "    if norm_u == 0 or norm_v == 0:\n",
        "        return 0\n",
        "    return dot_product / (norm_u * norm_v)\n",
        "\n",
        "words_to_graph = [\n",
        "    \"soft\", \"softer\", \"softest\"\n",
        "]\n",
        "\n",
        "similarity_matrix = {}\n",
        "for i in range(0, len(words_to_graph)):\n",
        "    word1 = words_to_graph[i]\n",
        "    for j in range(i + 1, len(words_to_graph)):\n",
        "        word2 = words_to_graph[j]\n",
        "        similarity_matrix[(word1, word2)] = cosine_similarity(word_to_vec_map[word1], word_to_vec_map[word2])\n",
        "\n",
        "graph = nx.Graph()\n",
        "for (word1, word2), similarity in similarity_matrix.items():\n",
        "    graph.add_edge(word1, word2, weight=similarity)\n",
        "\n",
        "# Calculate positions with adjusted spacing\n",
        "pos = nx.spring_layout(graph, k=0.9)  # Adjust k for spacing\n",
        "\n",
        "# Draw the graph\n",
        "nx.draw(graph, pos, with_labels=True, node_size=500, node_color='skyblue', font_size=10)\n",
        "edge_labels = nx.get_edge_attributes(graph, 'weight')\n",
        "nx.draw_networkx_edge_labels(graph, pos, edge_labels=edge_labels, font_size=8)\n",
        "plt.title(\"Word Similarity Graph (Soft)\")\n",
        "plt.show()"
      ],
      "metadata": {
        "id": "HVDilTzwv6KT"
      },
      "execution_count": null,
      "outputs": []
    }
  ],
  "metadata": {
    "colab": {
      "provenance": [],
      "gpuType": "T4"
    },
    "kernelspec": {
      "display_name": "Python 3",
      "name": "python3"
    },
    "language_info": {
      "name": "python"
    },
    "accelerator": "GPU",
    "widgets": {
      "application/vnd.jupyter.widget-state+json": {
        "f146f5ee00b84871ba93bee620eb388e": {
          "model_module": "@jupyter-widgets/controls",
          "model_name": "HBoxModel",
          "model_module_version": "1.5.0",
          "state": {
            "_dom_classes": [],
            "_model_module": "@jupyter-widgets/controls",
            "_model_module_version": "1.5.0",
            "_model_name": "HBoxModel",
            "_view_count": null,
            "_view_module": "@jupyter-widgets/controls",
            "_view_module_version": "1.5.0",
            "_view_name": "HBoxView",
            "box_style": "",
            "children": [
              "IPY_MODEL_e23000d186fb4a6a932a1321d8503ea9",
              "IPY_MODEL_87f635d487a540f49610cec16b6f0347",
              "IPY_MODEL_1f9633d4460444a680fd2dcafceb09c9"
            ],
            "layout": "IPY_MODEL_59424546ea4f43f18a845793d2f2d237"
          }
        },
        "e23000d186fb4a6a932a1321d8503ea9": {
          "model_module": "@jupyter-widgets/controls",
          "model_name": "HTMLModel",
          "model_module_version": "1.5.0",
          "state": {
            "_dom_classes": [],
            "_model_module": "@jupyter-widgets/controls",
            "_model_module_version": "1.5.0",
            "_model_name": "HTMLModel",
            "_view_count": null,
            "_view_module": "@jupyter-widgets/controls",
            "_view_module_version": "1.5.0",
            "_view_name": "HTMLView",
            "description": "",
            "description_tooltip": null,
            "layout": "IPY_MODEL_1da06cfe0e8d43bd95900c373fa004e1",
            "placeholder": "​",
            "style": "IPY_MODEL_fc603e6a1236454d8a23a4e3c31eae81",
            "value": "tokenizer_config.json: 100%"
          }
        },
        "87f635d487a540f49610cec16b6f0347": {
          "model_module": "@jupyter-widgets/controls",
          "model_name": "FloatProgressModel",
          "model_module_version": "1.5.0",
          "state": {
            "_dom_classes": [],
            "_model_module": "@jupyter-widgets/controls",
            "_model_module_version": "1.5.0",
            "_model_name": "FloatProgressModel",
            "_view_count": null,
            "_view_module": "@jupyter-widgets/controls",
            "_view_module_version": "1.5.0",
            "_view_name": "ProgressView",
            "bar_style": "success",
            "description": "",
            "description_tooltip": null,
            "layout": "IPY_MODEL_80d9c1926dc848509efee09cac8f4701",
            "max": 26,
            "min": 0,
            "orientation": "horizontal",
            "style": "IPY_MODEL_08b3442878884e8ca3ef968d627e4841",
            "value": 26
          }
        },
        "1f9633d4460444a680fd2dcafceb09c9": {
          "model_module": "@jupyter-widgets/controls",
          "model_name": "HTMLModel",
          "model_module_version": "1.5.0",
          "state": {
            "_dom_classes": [],
            "_model_module": "@jupyter-widgets/controls",
            "_model_module_version": "1.5.0",
            "_model_name": "HTMLModel",
            "_view_count": null,
            "_view_module": "@jupyter-widgets/controls",
            "_view_module_version": "1.5.0",
            "_view_name": "HTMLView",
            "description": "",
            "description_tooltip": null,
            "layout": "IPY_MODEL_a88a6ff475794560b13a76fcf15563a0",
            "placeholder": "​",
            "style": "IPY_MODEL_9f63186799264bf882a5fa4009747bbb",
            "value": " 26.0/26.0 [00:00&lt;00:00, 2.86kB/s]"
          }
        },
        "59424546ea4f43f18a845793d2f2d237": {
          "model_module": "@jupyter-widgets/base",
          "model_name": "LayoutModel",
          "model_module_version": "1.2.0",
          "state": {
            "_model_module": "@jupyter-widgets/base",
            "_model_module_version": "1.2.0",
            "_model_name": "LayoutModel",
            "_view_count": null,
            "_view_module": "@jupyter-widgets/base",
            "_view_module_version": "1.2.0",
            "_view_name": "LayoutView",
            "align_content": null,
            "align_items": null,
            "align_self": null,
            "border": null,
            "bottom": null,
            "display": null,
            "flex": null,
            "flex_flow": null,
            "grid_area": null,
            "grid_auto_columns": null,
            "grid_auto_flow": null,
            "grid_auto_rows": null,
            "grid_column": null,
            "grid_gap": null,
            "grid_row": null,
            "grid_template_areas": null,
            "grid_template_columns": null,
            "grid_template_rows": null,
            "height": null,
            "justify_content": null,
            "justify_items": null,
            "left": null,
            "margin": null,
            "max_height": null,
            "max_width": null,
            "min_height": null,
            "min_width": null,
            "object_fit": null,
            "object_position": null,
            "order": null,
            "overflow": null,
            "overflow_x": null,
            "overflow_y": null,
            "padding": null,
            "right": null,
            "top": null,
            "visibility": null,
            "width": null
          }
        },
        "1da06cfe0e8d43bd95900c373fa004e1": {
          "model_module": "@jupyter-widgets/base",
          "model_name": "LayoutModel",
          "model_module_version": "1.2.0",
          "state": {
            "_model_module": "@jupyter-widgets/base",
            "_model_module_version": "1.2.0",
            "_model_name": "LayoutModel",
            "_view_count": null,
            "_view_module": "@jupyter-widgets/base",
            "_view_module_version": "1.2.0",
            "_view_name": "LayoutView",
            "align_content": null,
            "align_items": null,
            "align_self": null,
            "border": null,
            "bottom": null,
            "display": null,
            "flex": null,
            "flex_flow": null,
            "grid_area": null,
            "grid_auto_columns": null,
            "grid_auto_flow": null,
            "grid_auto_rows": null,
            "grid_column": null,
            "grid_gap": null,
            "grid_row": null,
            "grid_template_areas": null,
            "grid_template_columns": null,
            "grid_template_rows": null,
            "height": null,
            "justify_content": null,
            "justify_items": null,
            "left": null,
            "margin": null,
            "max_height": null,
            "max_width": null,
            "min_height": null,
            "min_width": null,
            "object_fit": null,
            "object_position": null,
            "order": null,
            "overflow": null,
            "overflow_x": null,
            "overflow_y": null,
            "padding": null,
            "right": null,
            "top": null,
            "visibility": null,
            "width": null
          }
        },
        "fc603e6a1236454d8a23a4e3c31eae81": {
          "model_module": "@jupyter-widgets/controls",
          "model_name": "DescriptionStyleModel",
          "model_module_version": "1.5.0",
          "state": {
            "_model_module": "@jupyter-widgets/controls",
            "_model_module_version": "1.5.0",
            "_model_name": "DescriptionStyleModel",
            "_view_count": null,
            "_view_module": "@jupyter-widgets/base",
            "_view_module_version": "1.2.0",
            "_view_name": "StyleView",
            "description_width": ""
          }
        },
        "80d9c1926dc848509efee09cac8f4701": {
          "model_module": "@jupyter-widgets/base",
          "model_name": "LayoutModel",
          "model_module_version": "1.2.0",
          "state": {
            "_model_module": "@jupyter-widgets/base",
            "_model_module_version": "1.2.0",
            "_model_name": "LayoutModel",
            "_view_count": null,
            "_view_module": "@jupyter-widgets/base",
            "_view_module_version": "1.2.0",
            "_view_name": "LayoutView",
            "align_content": null,
            "align_items": null,
            "align_self": null,
            "border": null,
            "bottom": null,
            "display": null,
            "flex": null,
            "flex_flow": null,
            "grid_area": null,
            "grid_auto_columns": null,
            "grid_auto_flow": null,
            "grid_auto_rows": null,
            "grid_column": null,
            "grid_gap": null,
            "grid_row": null,
            "grid_template_areas": null,
            "grid_template_columns": null,
            "grid_template_rows": null,
            "height": null,
            "justify_content": null,
            "justify_items": null,
            "left": null,
            "margin": null,
            "max_height": null,
            "max_width": null,
            "min_height": null,
            "min_width": null,
            "object_fit": null,
            "object_position": null,
            "order": null,
            "overflow": null,
            "overflow_x": null,
            "overflow_y": null,
            "padding": null,
            "right": null,
            "top": null,
            "visibility": null,
            "width": null
          }
        },
        "08b3442878884e8ca3ef968d627e4841": {
          "model_module": "@jupyter-widgets/controls",
          "model_name": "ProgressStyleModel",
          "model_module_version": "1.5.0",
          "state": {
            "_model_module": "@jupyter-widgets/controls",
            "_model_module_version": "1.5.0",
            "_model_name": "ProgressStyleModel",
            "_view_count": null,
            "_view_module": "@jupyter-widgets/base",
            "_view_module_version": "1.2.0",
            "_view_name": "StyleView",
            "bar_color": null,
            "description_width": ""
          }
        },
        "a88a6ff475794560b13a76fcf15563a0": {
          "model_module": "@jupyter-widgets/base",
          "model_name": "LayoutModel",
          "model_module_version": "1.2.0",
          "state": {
            "_model_module": "@jupyter-widgets/base",
            "_model_module_version": "1.2.0",
            "_model_name": "LayoutModel",
            "_view_count": null,
            "_view_module": "@jupyter-widgets/base",
            "_view_module_version": "1.2.0",
            "_view_name": "LayoutView",
            "align_content": null,
            "align_items": null,
            "align_self": null,
            "border": null,
            "bottom": null,
            "display": null,
            "flex": null,
            "flex_flow": null,
            "grid_area": null,
            "grid_auto_columns": null,
            "grid_auto_flow": null,
            "grid_auto_rows": null,
            "grid_column": null,
            "grid_gap": null,
            "grid_row": null,
            "grid_template_areas": null,
            "grid_template_columns": null,
            "grid_template_rows": null,
            "height": null,
            "justify_content": null,
            "justify_items": null,
            "left": null,
            "margin": null,
            "max_height": null,
            "max_width": null,
            "min_height": null,
            "min_width": null,
            "object_fit": null,
            "object_position": null,
            "order": null,
            "overflow": null,
            "overflow_x": null,
            "overflow_y": null,
            "padding": null,
            "right": null,
            "top": null,
            "visibility": null,
            "width": null
          }
        },
        "9f63186799264bf882a5fa4009747bbb": {
          "model_module": "@jupyter-widgets/controls",
          "model_name": "DescriptionStyleModel",
          "model_module_version": "1.5.0",
          "state": {
            "_model_module": "@jupyter-widgets/controls",
            "_model_module_version": "1.5.0",
            "_model_name": "DescriptionStyleModel",
            "_view_count": null,
            "_view_module": "@jupyter-widgets/base",
            "_view_module_version": "1.2.0",
            "_view_name": "StyleView",
            "description_width": ""
          }
        },
        "5c8ec35e081144b88d11f6f901f4c3fc": {
          "model_module": "@jupyter-widgets/controls",
          "model_name": "HBoxModel",
          "model_module_version": "1.5.0",
          "state": {
            "_dom_classes": [],
            "_model_module": "@jupyter-widgets/controls",
            "_model_module_version": "1.5.0",
            "_model_name": "HBoxModel",
            "_view_count": null,
            "_view_module": "@jupyter-widgets/controls",
            "_view_module_version": "1.5.0",
            "_view_name": "HBoxView",
            "box_style": "",
            "children": [
              "IPY_MODEL_99a92e85ef04456faa9417cdf5a6dd79",
              "IPY_MODEL_94f3e2859f2a4601a4027a7fd1124839",
              "IPY_MODEL_8c199a4c9ef14d2e9a0a935b655ac69b"
            ],
            "layout": "IPY_MODEL_382285083e3542f88a0669e3b463de18"
          }
        },
        "99a92e85ef04456faa9417cdf5a6dd79": {
          "model_module": "@jupyter-widgets/controls",
          "model_name": "HTMLModel",
          "model_module_version": "1.5.0",
          "state": {
            "_dom_classes": [],
            "_model_module": "@jupyter-widgets/controls",
            "_model_module_version": "1.5.0",
            "_model_name": "HTMLModel",
            "_view_count": null,
            "_view_module": "@jupyter-widgets/controls",
            "_view_module_version": "1.5.0",
            "_view_name": "HTMLView",
            "description": "",
            "description_tooltip": null,
            "layout": "IPY_MODEL_c3baebe6b67b420da3bba8dc4e1b911d",
            "placeholder": "​",
            "style": "IPY_MODEL_c829ca23db034fcb910e95553e7b365e",
            "value": "vocab.json: 100%"
          }
        },
        "94f3e2859f2a4601a4027a7fd1124839": {
          "model_module": "@jupyter-widgets/controls",
          "model_name": "FloatProgressModel",
          "model_module_version": "1.5.0",
          "state": {
            "_dom_classes": [],
            "_model_module": "@jupyter-widgets/controls",
            "_model_module_version": "1.5.0",
            "_model_name": "FloatProgressModel",
            "_view_count": null,
            "_view_module": "@jupyter-widgets/controls",
            "_view_module_version": "1.5.0",
            "_view_name": "ProgressView",
            "bar_style": "success",
            "description": "",
            "description_tooltip": null,
            "layout": "IPY_MODEL_0611f194dba64a32aad01d3be1cb045a",
            "max": 1042301,
            "min": 0,
            "orientation": "horizontal",
            "style": "IPY_MODEL_0e37d8ee4bcd42f4a10b88707fe5715e",
            "value": 1042301
          }
        },
        "8c199a4c9ef14d2e9a0a935b655ac69b": {
          "model_module": "@jupyter-widgets/controls",
          "model_name": "HTMLModel",
          "model_module_version": "1.5.0",
          "state": {
            "_dom_classes": [],
            "_model_module": "@jupyter-widgets/controls",
            "_model_module_version": "1.5.0",
            "_model_name": "HTMLModel",
            "_view_count": null,
            "_view_module": "@jupyter-widgets/controls",
            "_view_module_version": "1.5.0",
            "_view_name": "HTMLView",
            "description": "",
            "description_tooltip": null,
            "layout": "IPY_MODEL_d0525cbfb28e4423ae49bc9e1c5b30fe",
            "placeholder": "​",
            "style": "IPY_MODEL_21a74055cc59436a9b0934f335ab5460",
            "value": " 1.04M/1.04M [00:00&lt;00:00, 20.3MB/s]"
          }
        },
        "382285083e3542f88a0669e3b463de18": {
          "model_module": "@jupyter-widgets/base",
          "model_name": "LayoutModel",
          "model_module_version": "1.2.0",
          "state": {
            "_model_module": "@jupyter-widgets/base",
            "_model_module_version": "1.2.0",
            "_model_name": "LayoutModel",
            "_view_count": null,
            "_view_module": "@jupyter-widgets/base",
            "_view_module_version": "1.2.0",
            "_view_name": "LayoutView",
            "align_content": null,
            "align_items": null,
            "align_self": null,
            "border": null,
            "bottom": null,
            "display": null,
            "flex": null,
            "flex_flow": null,
            "grid_area": null,
            "grid_auto_columns": null,
            "grid_auto_flow": null,
            "grid_auto_rows": null,
            "grid_column": null,
            "grid_gap": null,
            "grid_row": null,
            "grid_template_areas": null,
            "grid_template_columns": null,
            "grid_template_rows": null,
            "height": null,
            "justify_content": null,
            "justify_items": null,
            "left": null,
            "margin": null,
            "max_height": null,
            "max_width": null,
            "min_height": null,
            "min_width": null,
            "object_fit": null,
            "object_position": null,
            "order": null,
            "overflow": null,
            "overflow_x": null,
            "overflow_y": null,
            "padding": null,
            "right": null,
            "top": null,
            "visibility": null,
            "width": null
          }
        },
        "c3baebe6b67b420da3bba8dc4e1b911d": {
          "model_module": "@jupyter-widgets/base",
          "model_name": "LayoutModel",
          "model_module_version": "1.2.0",
          "state": {
            "_model_module": "@jupyter-widgets/base",
            "_model_module_version": "1.2.0",
            "_model_name": "LayoutModel",
            "_view_count": null,
            "_view_module": "@jupyter-widgets/base",
            "_view_module_version": "1.2.0",
            "_view_name": "LayoutView",
            "align_content": null,
            "align_items": null,
            "align_self": null,
            "border": null,
            "bottom": null,
            "display": null,
            "flex": null,
            "flex_flow": null,
            "grid_area": null,
            "grid_auto_columns": null,
            "grid_auto_flow": null,
            "grid_auto_rows": null,
            "grid_column": null,
            "grid_gap": null,
            "grid_row": null,
            "grid_template_areas": null,
            "grid_template_columns": null,
            "grid_template_rows": null,
            "height": null,
            "justify_content": null,
            "justify_items": null,
            "left": null,
            "margin": null,
            "max_height": null,
            "max_width": null,
            "min_height": null,
            "min_width": null,
            "object_fit": null,
            "object_position": null,
            "order": null,
            "overflow": null,
            "overflow_x": null,
            "overflow_y": null,
            "padding": null,
            "right": null,
            "top": null,
            "visibility": null,
            "width": null
          }
        },
        "c829ca23db034fcb910e95553e7b365e": {
          "model_module": "@jupyter-widgets/controls",
          "model_name": "DescriptionStyleModel",
          "model_module_version": "1.5.0",
          "state": {
            "_model_module": "@jupyter-widgets/controls",
            "_model_module_version": "1.5.0",
            "_model_name": "DescriptionStyleModel",
            "_view_count": null,
            "_view_module": "@jupyter-widgets/base",
            "_view_module_version": "1.2.0",
            "_view_name": "StyleView",
            "description_width": ""
          }
        },
        "0611f194dba64a32aad01d3be1cb045a": {
          "model_module": "@jupyter-widgets/base",
          "model_name": "LayoutModel",
          "model_module_version": "1.2.0",
          "state": {
            "_model_module": "@jupyter-widgets/base",
            "_model_module_version": "1.2.0",
            "_model_name": "LayoutModel",
            "_view_count": null,
            "_view_module": "@jupyter-widgets/base",
            "_view_module_version": "1.2.0",
            "_view_name": "LayoutView",
            "align_content": null,
            "align_items": null,
            "align_self": null,
            "border": null,
            "bottom": null,
            "display": null,
            "flex": null,
            "flex_flow": null,
            "grid_area": null,
            "grid_auto_columns": null,
            "grid_auto_flow": null,
            "grid_auto_rows": null,
            "grid_column": null,
            "grid_gap": null,
            "grid_row": null,
            "grid_template_areas": null,
            "grid_template_columns": null,
            "grid_template_rows": null,
            "height": null,
            "justify_content": null,
            "justify_items": null,
            "left": null,
            "margin": null,
            "max_height": null,
            "max_width": null,
            "min_height": null,
            "min_width": null,
            "object_fit": null,
            "object_position": null,
            "order": null,
            "overflow": null,
            "overflow_x": null,
            "overflow_y": null,
            "padding": null,
            "right": null,
            "top": null,
            "visibility": null,
            "width": null
          }
        },
        "0e37d8ee4bcd42f4a10b88707fe5715e": {
          "model_module": "@jupyter-widgets/controls",
          "model_name": "ProgressStyleModel",
          "model_module_version": "1.5.0",
          "state": {
            "_model_module": "@jupyter-widgets/controls",
            "_model_module_version": "1.5.0",
            "_model_name": "ProgressStyleModel",
            "_view_count": null,
            "_view_module": "@jupyter-widgets/base",
            "_view_module_version": "1.2.0",
            "_view_name": "StyleView",
            "bar_color": null,
            "description_width": ""
          }
        },
        "d0525cbfb28e4423ae49bc9e1c5b30fe": {
          "model_module": "@jupyter-widgets/base",
          "model_name": "LayoutModel",
          "model_module_version": "1.2.0",
          "state": {
            "_model_module": "@jupyter-widgets/base",
            "_model_module_version": "1.2.0",
            "_model_name": "LayoutModel",
            "_view_count": null,
            "_view_module": "@jupyter-widgets/base",
            "_view_module_version": "1.2.0",
            "_view_name": "LayoutView",
            "align_content": null,
            "align_items": null,
            "align_self": null,
            "border": null,
            "bottom": null,
            "display": null,
            "flex": null,
            "flex_flow": null,
            "grid_area": null,
            "grid_auto_columns": null,
            "grid_auto_flow": null,
            "grid_auto_rows": null,
            "grid_column": null,
            "grid_gap": null,
            "grid_row": null,
            "grid_template_areas": null,
            "grid_template_columns": null,
            "grid_template_rows": null,
            "height": null,
            "justify_content": null,
            "justify_items": null,
            "left": null,
            "margin": null,
            "max_height": null,
            "max_width": null,
            "min_height": null,
            "min_width": null,
            "object_fit": null,
            "object_position": null,
            "order": null,
            "overflow": null,
            "overflow_x": null,
            "overflow_y": null,
            "padding": null,
            "right": null,
            "top": null,
            "visibility": null,
            "width": null
          }
        },
        "21a74055cc59436a9b0934f335ab5460": {
          "model_module": "@jupyter-widgets/controls",
          "model_name": "DescriptionStyleModel",
          "model_module_version": "1.5.0",
          "state": {
            "_model_module": "@jupyter-widgets/controls",
            "_model_module_version": "1.5.0",
            "_model_name": "DescriptionStyleModel",
            "_view_count": null,
            "_view_module": "@jupyter-widgets/base",
            "_view_module_version": "1.2.0",
            "_view_name": "StyleView",
            "description_width": ""
          }
        },
        "96375fff6a924d2aa7685cf541509193": {
          "model_module": "@jupyter-widgets/controls",
          "model_name": "HBoxModel",
          "model_module_version": "1.5.0",
          "state": {
            "_dom_classes": [],
            "_model_module": "@jupyter-widgets/controls",
            "_model_module_version": "1.5.0",
            "_model_name": "HBoxModel",
            "_view_count": null,
            "_view_module": "@jupyter-widgets/controls",
            "_view_module_version": "1.5.0",
            "_view_name": "HBoxView",
            "box_style": "",
            "children": [
              "IPY_MODEL_ea238cf545db4a3dab205bd0d767516d",
              "IPY_MODEL_590034e91d544dcaa5ca8e1a9837392f",
              "IPY_MODEL_9f3dfd73968d489596e0c118c69eaf7f"
            ],
            "layout": "IPY_MODEL_1c2e3753506f4480a27bb16050465b4b"
          }
        },
        "ea238cf545db4a3dab205bd0d767516d": {
          "model_module": "@jupyter-widgets/controls",
          "model_name": "HTMLModel",
          "model_module_version": "1.5.0",
          "state": {
            "_dom_classes": [],
            "_model_module": "@jupyter-widgets/controls",
            "_model_module_version": "1.5.0",
            "_model_name": "HTMLModel",
            "_view_count": null,
            "_view_module": "@jupyter-widgets/controls",
            "_view_module_version": "1.5.0",
            "_view_name": "HTMLView",
            "description": "",
            "description_tooltip": null,
            "layout": "IPY_MODEL_c4b1a09c2f6f4d8d9a3a13821bf8baad",
            "placeholder": "​",
            "style": "IPY_MODEL_340840828eef49e7b43c5031d9a49a2d",
            "value": "merges.txt: 100%"
          }
        },
        "590034e91d544dcaa5ca8e1a9837392f": {
          "model_module": "@jupyter-widgets/controls",
          "model_name": "FloatProgressModel",
          "model_module_version": "1.5.0",
          "state": {
            "_dom_classes": [],
            "_model_module": "@jupyter-widgets/controls",
            "_model_module_version": "1.5.0",
            "_model_name": "FloatProgressModel",
            "_view_count": null,
            "_view_module": "@jupyter-widgets/controls",
            "_view_module_version": "1.5.0",
            "_view_name": "ProgressView",
            "bar_style": "success",
            "description": "",
            "description_tooltip": null,
            "layout": "IPY_MODEL_81d1e71016a34c85b3fd55266cd526e8",
            "max": 456318,
            "min": 0,
            "orientation": "horizontal",
            "style": "IPY_MODEL_10651da2ff774037b3bcf38469206994",
            "value": 456318
          }
        },
        "9f3dfd73968d489596e0c118c69eaf7f": {
          "model_module": "@jupyter-widgets/controls",
          "model_name": "HTMLModel",
          "model_module_version": "1.5.0",
          "state": {
            "_dom_classes": [],
            "_model_module": "@jupyter-widgets/controls",
            "_model_module_version": "1.5.0",
            "_model_name": "HTMLModel",
            "_view_count": null,
            "_view_module": "@jupyter-widgets/controls",
            "_view_module_version": "1.5.0",
            "_view_name": "HTMLView",
            "description": "",
            "description_tooltip": null,
            "layout": "IPY_MODEL_b2ea40a0e7654813bc358b5bf98df917",
            "placeholder": "​",
            "style": "IPY_MODEL_1eee85a26e024feb84ebbb2f2f3ca8a3",
            "value": " 456k/456k [00:00&lt;00:00, 6.33MB/s]"
          }
        },
        "1c2e3753506f4480a27bb16050465b4b": {
          "model_module": "@jupyter-widgets/base",
          "model_name": "LayoutModel",
          "model_module_version": "1.2.0",
          "state": {
            "_model_module": "@jupyter-widgets/base",
            "_model_module_version": "1.2.0",
            "_model_name": "LayoutModel",
            "_view_count": null,
            "_view_module": "@jupyter-widgets/base",
            "_view_module_version": "1.2.0",
            "_view_name": "LayoutView",
            "align_content": null,
            "align_items": null,
            "align_self": null,
            "border": null,
            "bottom": null,
            "display": null,
            "flex": null,
            "flex_flow": null,
            "grid_area": null,
            "grid_auto_columns": null,
            "grid_auto_flow": null,
            "grid_auto_rows": null,
            "grid_column": null,
            "grid_gap": null,
            "grid_row": null,
            "grid_template_areas": null,
            "grid_template_columns": null,
            "grid_template_rows": null,
            "height": null,
            "justify_content": null,
            "justify_items": null,
            "left": null,
            "margin": null,
            "max_height": null,
            "max_width": null,
            "min_height": null,
            "min_width": null,
            "object_fit": null,
            "object_position": null,
            "order": null,
            "overflow": null,
            "overflow_x": null,
            "overflow_y": null,
            "padding": null,
            "right": null,
            "top": null,
            "visibility": null,
            "width": null
          }
        },
        "c4b1a09c2f6f4d8d9a3a13821bf8baad": {
          "model_module": "@jupyter-widgets/base",
          "model_name": "LayoutModel",
          "model_module_version": "1.2.0",
          "state": {
            "_model_module": "@jupyter-widgets/base",
            "_model_module_version": "1.2.0",
            "_model_name": "LayoutModel",
            "_view_count": null,
            "_view_module": "@jupyter-widgets/base",
            "_view_module_version": "1.2.0",
            "_view_name": "LayoutView",
            "align_content": null,
            "align_items": null,
            "align_self": null,
            "border": null,
            "bottom": null,
            "display": null,
            "flex": null,
            "flex_flow": null,
            "grid_area": null,
            "grid_auto_columns": null,
            "grid_auto_flow": null,
            "grid_auto_rows": null,
            "grid_column": null,
            "grid_gap": null,
            "grid_row": null,
            "grid_template_areas": null,
            "grid_template_columns": null,
            "grid_template_rows": null,
            "height": null,
            "justify_content": null,
            "justify_items": null,
            "left": null,
            "margin": null,
            "max_height": null,
            "max_width": null,
            "min_height": null,
            "min_width": null,
            "object_fit": null,
            "object_position": null,
            "order": null,
            "overflow": null,
            "overflow_x": null,
            "overflow_y": null,
            "padding": null,
            "right": null,
            "top": null,
            "visibility": null,
            "width": null
          }
        },
        "340840828eef49e7b43c5031d9a49a2d": {
          "model_module": "@jupyter-widgets/controls",
          "model_name": "DescriptionStyleModel",
          "model_module_version": "1.5.0",
          "state": {
            "_model_module": "@jupyter-widgets/controls",
            "_model_module_version": "1.5.0",
            "_model_name": "DescriptionStyleModel",
            "_view_count": null,
            "_view_module": "@jupyter-widgets/base",
            "_view_module_version": "1.2.0",
            "_view_name": "StyleView",
            "description_width": ""
          }
        },
        "81d1e71016a34c85b3fd55266cd526e8": {
          "model_module": "@jupyter-widgets/base",
          "model_name": "LayoutModel",
          "model_module_version": "1.2.0",
          "state": {
            "_model_module": "@jupyter-widgets/base",
            "_model_module_version": "1.2.0",
            "_model_name": "LayoutModel",
            "_view_count": null,
            "_view_module": "@jupyter-widgets/base",
            "_view_module_version": "1.2.0",
            "_view_name": "LayoutView",
            "align_content": null,
            "align_items": null,
            "align_self": null,
            "border": null,
            "bottom": null,
            "display": null,
            "flex": null,
            "flex_flow": null,
            "grid_area": null,
            "grid_auto_columns": null,
            "grid_auto_flow": null,
            "grid_auto_rows": null,
            "grid_column": null,
            "grid_gap": null,
            "grid_row": null,
            "grid_template_areas": null,
            "grid_template_columns": null,
            "grid_template_rows": null,
            "height": null,
            "justify_content": null,
            "justify_items": null,
            "left": null,
            "margin": null,
            "max_height": null,
            "max_width": null,
            "min_height": null,
            "min_width": null,
            "object_fit": null,
            "object_position": null,
            "order": null,
            "overflow": null,
            "overflow_x": null,
            "overflow_y": null,
            "padding": null,
            "right": null,
            "top": null,
            "visibility": null,
            "width": null
          }
        },
        "10651da2ff774037b3bcf38469206994": {
          "model_module": "@jupyter-widgets/controls",
          "model_name": "ProgressStyleModel",
          "model_module_version": "1.5.0",
          "state": {
            "_model_module": "@jupyter-widgets/controls",
            "_model_module_version": "1.5.0",
            "_model_name": "ProgressStyleModel",
            "_view_count": null,
            "_view_module": "@jupyter-widgets/base",
            "_view_module_version": "1.2.0",
            "_view_name": "StyleView",
            "bar_color": null,
            "description_width": ""
          }
        },
        "b2ea40a0e7654813bc358b5bf98df917": {
          "model_module": "@jupyter-widgets/base",
          "model_name": "LayoutModel",
          "model_module_version": "1.2.0",
          "state": {
            "_model_module": "@jupyter-widgets/base",
            "_model_module_version": "1.2.0",
            "_model_name": "LayoutModel",
            "_view_count": null,
            "_view_module": "@jupyter-widgets/base",
            "_view_module_version": "1.2.0",
            "_view_name": "LayoutView",
            "align_content": null,
            "align_items": null,
            "align_self": null,
            "border": null,
            "bottom": null,
            "display": null,
            "flex": null,
            "flex_flow": null,
            "grid_area": null,
            "grid_auto_columns": null,
            "grid_auto_flow": null,
            "grid_auto_rows": null,
            "grid_column": null,
            "grid_gap": null,
            "grid_row": null,
            "grid_template_areas": null,
            "grid_template_columns": null,
            "grid_template_rows": null,
            "height": null,
            "justify_content": null,
            "justify_items": null,
            "left": null,
            "margin": null,
            "max_height": null,
            "max_width": null,
            "min_height": null,
            "min_width": null,
            "object_fit": null,
            "object_position": null,
            "order": null,
            "overflow": null,
            "overflow_x": null,
            "overflow_y": null,
            "padding": null,
            "right": null,
            "top": null,
            "visibility": null,
            "width": null
          }
        },
        "1eee85a26e024feb84ebbb2f2f3ca8a3": {
          "model_module": "@jupyter-widgets/controls",
          "model_name": "DescriptionStyleModel",
          "model_module_version": "1.5.0",
          "state": {
            "_model_module": "@jupyter-widgets/controls",
            "_model_module_version": "1.5.0",
            "_model_name": "DescriptionStyleModel",
            "_view_count": null,
            "_view_module": "@jupyter-widgets/base",
            "_view_module_version": "1.2.0",
            "_view_name": "StyleView",
            "description_width": ""
          }
        },
        "c6bb46ab0a544e7fb3260f237f7a95c6": {
          "model_module": "@jupyter-widgets/controls",
          "model_name": "HBoxModel",
          "model_module_version": "1.5.0",
          "state": {
            "_dom_classes": [],
            "_model_module": "@jupyter-widgets/controls",
            "_model_module_version": "1.5.0",
            "_model_name": "HBoxModel",
            "_view_count": null,
            "_view_module": "@jupyter-widgets/controls",
            "_view_module_version": "1.5.0",
            "_view_name": "HBoxView",
            "box_style": "",
            "children": [
              "IPY_MODEL_0266820751f94b2f9d255cf45f8d0640",
              "IPY_MODEL_ff22145a3b694d249ea145ae48e64cf7",
              "IPY_MODEL_6490663baad54615b210004726edf97c"
            ],
            "layout": "IPY_MODEL_74a464e902aa403cb4438b19eadfc462"
          }
        },
        "0266820751f94b2f9d255cf45f8d0640": {
          "model_module": "@jupyter-widgets/controls",
          "model_name": "HTMLModel",
          "model_module_version": "1.5.0",
          "state": {
            "_dom_classes": [],
            "_model_module": "@jupyter-widgets/controls",
            "_model_module_version": "1.5.0",
            "_model_name": "HTMLModel",
            "_view_count": null,
            "_view_module": "@jupyter-widgets/controls",
            "_view_module_version": "1.5.0",
            "_view_name": "HTMLView",
            "description": "",
            "description_tooltip": null,
            "layout": "IPY_MODEL_51097d520da94defb541f90ddcdbb74f",
            "placeholder": "​",
            "style": "IPY_MODEL_1737275da87d43008b33022e08a25acf",
            "value": "tokenizer.json: 100%"
          }
        },
        "ff22145a3b694d249ea145ae48e64cf7": {
          "model_module": "@jupyter-widgets/controls",
          "model_name": "FloatProgressModel",
          "model_module_version": "1.5.0",
          "state": {
            "_dom_classes": [],
            "_model_module": "@jupyter-widgets/controls",
            "_model_module_version": "1.5.0",
            "_model_name": "FloatProgressModel",
            "_view_count": null,
            "_view_module": "@jupyter-widgets/controls",
            "_view_module_version": "1.5.0",
            "_view_name": "ProgressView",
            "bar_style": "success",
            "description": "",
            "description_tooltip": null,
            "layout": "IPY_MODEL_d03f655f980e4dd7999800f84c4b2eaf",
            "max": 1355256,
            "min": 0,
            "orientation": "horizontal",
            "style": "IPY_MODEL_db1e1987806140e78981b20b57bcda2c",
            "value": 1355256
          }
        },
        "6490663baad54615b210004726edf97c": {
          "model_module": "@jupyter-widgets/controls",
          "model_name": "HTMLModel",
          "model_module_version": "1.5.0",
          "state": {
            "_dom_classes": [],
            "_model_module": "@jupyter-widgets/controls",
            "_model_module_version": "1.5.0",
            "_model_name": "HTMLModel",
            "_view_count": null,
            "_view_module": "@jupyter-widgets/controls",
            "_view_module_version": "1.5.0",
            "_view_name": "HTMLView",
            "description": "",
            "description_tooltip": null,
            "layout": "IPY_MODEL_13576106c64a4831be1a537a004841b9",
            "placeholder": "​",
            "style": "IPY_MODEL_850401ba204d4eaf916d3cc85a614e2f",
            "value": " 1.36M/1.36M [00:00&lt;00:00, 2.16MB/s]"
          }
        },
        "74a464e902aa403cb4438b19eadfc462": {
          "model_module": "@jupyter-widgets/base",
          "model_name": "LayoutModel",
          "model_module_version": "1.2.0",
          "state": {
            "_model_module": "@jupyter-widgets/base",
            "_model_module_version": "1.2.0",
            "_model_name": "LayoutModel",
            "_view_count": null,
            "_view_module": "@jupyter-widgets/base",
            "_view_module_version": "1.2.0",
            "_view_name": "LayoutView",
            "align_content": null,
            "align_items": null,
            "align_self": null,
            "border": null,
            "bottom": null,
            "display": null,
            "flex": null,
            "flex_flow": null,
            "grid_area": null,
            "grid_auto_columns": null,
            "grid_auto_flow": null,
            "grid_auto_rows": null,
            "grid_column": null,
            "grid_gap": null,
            "grid_row": null,
            "grid_template_areas": null,
            "grid_template_columns": null,
            "grid_template_rows": null,
            "height": null,
            "justify_content": null,
            "justify_items": null,
            "left": null,
            "margin": null,
            "max_height": null,
            "max_width": null,
            "min_height": null,
            "min_width": null,
            "object_fit": null,
            "object_position": null,
            "order": null,
            "overflow": null,
            "overflow_x": null,
            "overflow_y": null,
            "padding": null,
            "right": null,
            "top": null,
            "visibility": null,
            "width": null
          }
        },
        "51097d520da94defb541f90ddcdbb74f": {
          "model_module": "@jupyter-widgets/base",
          "model_name": "LayoutModel",
          "model_module_version": "1.2.0",
          "state": {
            "_model_module": "@jupyter-widgets/base",
            "_model_module_version": "1.2.0",
            "_model_name": "LayoutModel",
            "_view_count": null,
            "_view_module": "@jupyter-widgets/base",
            "_view_module_version": "1.2.0",
            "_view_name": "LayoutView",
            "align_content": null,
            "align_items": null,
            "align_self": null,
            "border": null,
            "bottom": null,
            "display": null,
            "flex": null,
            "flex_flow": null,
            "grid_area": null,
            "grid_auto_columns": null,
            "grid_auto_flow": null,
            "grid_auto_rows": null,
            "grid_column": null,
            "grid_gap": null,
            "grid_row": null,
            "grid_template_areas": null,
            "grid_template_columns": null,
            "grid_template_rows": null,
            "height": null,
            "justify_content": null,
            "justify_items": null,
            "left": null,
            "margin": null,
            "max_height": null,
            "max_width": null,
            "min_height": null,
            "min_width": null,
            "object_fit": null,
            "object_position": null,
            "order": null,
            "overflow": null,
            "overflow_x": null,
            "overflow_y": null,
            "padding": null,
            "right": null,
            "top": null,
            "visibility": null,
            "width": null
          }
        },
        "1737275da87d43008b33022e08a25acf": {
          "model_module": "@jupyter-widgets/controls",
          "model_name": "DescriptionStyleModel",
          "model_module_version": "1.5.0",
          "state": {
            "_model_module": "@jupyter-widgets/controls",
            "_model_module_version": "1.5.0",
            "_model_name": "DescriptionStyleModel",
            "_view_count": null,
            "_view_module": "@jupyter-widgets/base",
            "_view_module_version": "1.2.0",
            "_view_name": "StyleView",
            "description_width": ""
          }
        },
        "d03f655f980e4dd7999800f84c4b2eaf": {
          "model_module": "@jupyter-widgets/base",
          "model_name": "LayoutModel",
          "model_module_version": "1.2.0",
          "state": {
            "_model_module": "@jupyter-widgets/base",
            "_model_module_version": "1.2.0",
            "_model_name": "LayoutModel",
            "_view_count": null,
            "_view_module": "@jupyter-widgets/base",
            "_view_module_version": "1.2.0",
            "_view_name": "LayoutView",
            "align_content": null,
            "align_items": null,
            "align_self": null,
            "border": null,
            "bottom": null,
            "display": null,
            "flex": null,
            "flex_flow": null,
            "grid_area": null,
            "grid_auto_columns": null,
            "grid_auto_flow": null,
            "grid_auto_rows": null,
            "grid_column": null,
            "grid_gap": null,
            "grid_row": null,
            "grid_template_areas": null,
            "grid_template_columns": null,
            "grid_template_rows": null,
            "height": null,
            "justify_content": null,
            "justify_items": null,
            "left": null,
            "margin": null,
            "max_height": null,
            "max_width": null,
            "min_height": null,
            "min_width": null,
            "object_fit": null,
            "object_position": null,
            "order": null,
            "overflow": null,
            "overflow_x": null,
            "overflow_y": null,
            "padding": null,
            "right": null,
            "top": null,
            "visibility": null,
            "width": null
          }
        },
        "db1e1987806140e78981b20b57bcda2c": {
          "model_module": "@jupyter-widgets/controls",
          "model_name": "ProgressStyleModel",
          "model_module_version": "1.5.0",
          "state": {
            "_model_module": "@jupyter-widgets/controls",
            "_model_module_version": "1.5.0",
            "_model_name": "ProgressStyleModel",
            "_view_count": null,
            "_view_module": "@jupyter-widgets/base",
            "_view_module_version": "1.2.0",
            "_view_name": "StyleView",
            "bar_color": null,
            "description_width": ""
          }
        },
        "13576106c64a4831be1a537a004841b9": {
          "model_module": "@jupyter-widgets/base",
          "model_name": "LayoutModel",
          "model_module_version": "1.2.0",
          "state": {
            "_model_module": "@jupyter-widgets/base",
            "_model_module_version": "1.2.0",
            "_model_name": "LayoutModel",
            "_view_count": null,
            "_view_module": "@jupyter-widgets/base",
            "_view_module_version": "1.2.0",
            "_view_name": "LayoutView",
            "align_content": null,
            "align_items": null,
            "align_self": null,
            "border": null,
            "bottom": null,
            "display": null,
            "flex": null,
            "flex_flow": null,
            "grid_area": null,
            "grid_auto_columns": null,
            "grid_auto_flow": null,
            "grid_auto_rows": null,
            "grid_column": null,
            "grid_gap": null,
            "grid_row": null,
            "grid_template_areas": null,
            "grid_template_columns": null,
            "grid_template_rows": null,
            "height": null,
            "justify_content": null,
            "justify_items": null,
            "left": null,
            "margin": null,
            "max_height": null,
            "max_width": null,
            "min_height": null,
            "min_width": null,
            "object_fit": null,
            "object_position": null,
            "order": null,
            "overflow": null,
            "overflow_x": null,
            "overflow_y": null,
            "padding": null,
            "right": null,
            "top": null,
            "visibility": null,
            "width": null
          }
        },
        "850401ba204d4eaf916d3cc85a614e2f": {
          "model_module": "@jupyter-widgets/controls",
          "model_name": "DescriptionStyleModel",
          "model_module_version": "1.5.0",
          "state": {
            "_model_module": "@jupyter-widgets/controls",
            "_model_module_version": "1.5.0",
            "_model_name": "DescriptionStyleModel",
            "_view_count": null,
            "_view_module": "@jupyter-widgets/base",
            "_view_module_version": "1.2.0",
            "_view_name": "StyleView",
            "description_width": ""
          }
        },
        "e3645a4eb825415e9bc343b56182653c": {
          "model_module": "@jupyter-widgets/controls",
          "model_name": "HBoxModel",
          "model_module_version": "1.5.0",
          "state": {
            "_dom_classes": [],
            "_model_module": "@jupyter-widgets/controls",
            "_model_module_version": "1.5.0",
            "_model_name": "HBoxModel",
            "_view_count": null,
            "_view_module": "@jupyter-widgets/controls",
            "_view_module_version": "1.5.0",
            "_view_name": "HBoxView",
            "box_style": "",
            "children": [
              "IPY_MODEL_3377d617f724486ab5d8260c2e975a41",
              "IPY_MODEL_5bb4eb7488b14f85a86750ad15c5f32f",
              "IPY_MODEL_29fcd3640cea47178faa15b0d4c4a180"
            ],
            "layout": "IPY_MODEL_e02cfe46c0254fb7afbb0861ae8a1608"
          }
        },
        "3377d617f724486ab5d8260c2e975a41": {
          "model_module": "@jupyter-widgets/controls",
          "model_name": "HTMLModel",
          "model_module_version": "1.5.0",
          "state": {
            "_dom_classes": [],
            "_model_module": "@jupyter-widgets/controls",
            "_model_module_version": "1.5.0",
            "_model_name": "HTMLModel",
            "_view_count": null,
            "_view_module": "@jupyter-widgets/controls",
            "_view_module_version": "1.5.0",
            "_view_name": "HTMLView",
            "description": "",
            "description_tooltip": null,
            "layout": "IPY_MODEL_c86006a25b00493f955696bf16fb11c9",
            "placeholder": "​",
            "style": "IPY_MODEL_6d1c6819bbde4400a66e62eeed8040e7",
            "value": "config.json: 100%"
          }
        },
        "5bb4eb7488b14f85a86750ad15c5f32f": {
          "model_module": "@jupyter-widgets/controls",
          "model_name": "FloatProgressModel",
          "model_module_version": "1.5.0",
          "state": {
            "_dom_classes": [],
            "_model_module": "@jupyter-widgets/controls",
            "_model_module_version": "1.5.0",
            "_model_name": "FloatProgressModel",
            "_view_count": null,
            "_view_module": "@jupyter-widgets/controls",
            "_view_module_version": "1.5.0",
            "_view_name": "ProgressView",
            "bar_style": "success",
            "description": "",
            "description_tooltip": null,
            "layout": "IPY_MODEL_8384d01cd3e2414591728b8120ab21dd",
            "max": 665,
            "min": 0,
            "orientation": "horizontal",
            "style": "IPY_MODEL_d75c6eb6e5e24af3bd5f87d00ae77a2c",
            "value": 665
          }
        },
        "29fcd3640cea47178faa15b0d4c4a180": {
          "model_module": "@jupyter-widgets/controls",
          "model_name": "HTMLModel",
          "model_module_version": "1.5.0",
          "state": {
            "_dom_classes": [],
            "_model_module": "@jupyter-widgets/controls",
            "_model_module_version": "1.5.0",
            "_model_name": "HTMLModel",
            "_view_count": null,
            "_view_module": "@jupyter-widgets/controls",
            "_view_module_version": "1.5.0",
            "_view_name": "HTMLView",
            "description": "",
            "description_tooltip": null,
            "layout": "IPY_MODEL_ad6360b3e7e04d9f8f42fcbd5cfee384",
            "placeholder": "​",
            "style": "IPY_MODEL_19a89ad0d0fd46bb99bb418cc0a6bede",
            "value": " 665/665 [00:00&lt;00:00, 52.3kB/s]"
          }
        },
        "e02cfe46c0254fb7afbb0861ae8a1608": {
          "model_module": "@jupyter-widgets/base",
          "model_name": "LayoutModel",
          "model_module_version": "1.2.0",
          "state": {
            "_model_module": "@jupyter-widgets/base",
            "_model_module_version": "1.2.0",
            "_model_name": "LayoutModel",
            "_view_count": null,
            "_view_module": "@jupyter-widgets/base",
            "_view_module_version": "1.2.0",
            "_view_name": "LayoutView",
            "align_content": null,
            "align_items": null,
            "align_self": null,
            "border": null,
            "bottom": null,
            "display": null,
            "flex": null,
            "flex_flow": null,
            "grid_area": null,
            "grid_auto_columns": null,
            "grid_auto_flow": null,
            "grid_auto_rows": null,
            "grid_column": null,
            "grid_gap": null,
            "grid_row": null,
            "grid_template_areas": null,
            "grid_template_columns": null,
            "grid_template_rows": null,
            "height": null,
            "justify_content": null,
            "justify_items": null,
            "left": null,
            "margin": null,
            "max_height": null,
            "max_width": null,
            "min_height": null,
            "min_width": null,
            "object_fit": null,
            "object_position": null,
            "order": null,
            "overflow": null,
            "overflow_x": null,
            "overflow_y": null,
            "padding": null,
            "right": null,
            "top": null,
            "visibility": null,
            "width": null
          }
        },
        "c86006a25b00493f955696bf16fb11c9": {
          "model_module": "@jupyter-widgets/base",
          "model_name": "LayoutModel",
          "model_module_version": "1.2.0",
          "state": {
            "_model_module": "@jupyter-widgets/base",
            "_model_module_version": "1.2.0",
            "_model_name": "LayoutModel",
            "_view_count": null,
            "_view_module": "@jupyter-widgets/base",
            "_view_module_version": "1.2.0",
            "_view_name": "LayoutView",
            "align_content": null,
            "align_items": null,
            "align_self": null,
            "border": null,
            "bottom": null,
            "display": null,
            "flex": null,
            "flex_flow": null,
            "grid_area": null,
            "grid_auto_columns": null,
            "grid_auto_flow": null,
            "grid_auto_rows": null,
            "grid_column": null,
            "grid_gap": null,
            "grid_row": null,
            "grid_template_areas": null,
            "grid_template_columns": null,
            "grid_template_rows": null,
            "height": null,
            "justify_content": null,
            "justify_items": null,
            "left": null,
            "margin": null,
            "max_height": null,
            "max_width": null,
            "min_height": null,
            "min_width": null,
            "object_fit": null,
            "object_position": null,
            "order": null,
            "overflow": null,
            "overflow_x": null,
            "overflow_y": null,
            "padding": null,
            "right": null,
            "top": null,
            "visibility": null,
            "width": null
          }
        },
        "6d1c6819bbde4400a66e62eeed8040e7": {
          "model_module": "@jupyter-widgets/controls",
          "model_name": "DescriptionStyleModel",
          "model_module_version": "1.5.0",
          "state": {
            "_model_module": "@jupyter-widgets/controls",
            "_model_module_version": "1.5.0",
            "_model_name": "DescriptionStyleModel",
            "_view_count": null,
            "_view_module": "@jupyter-widgets/base",
            "_view_module_version": "1.2.0",
            "_view_name": "StyleView",
            "description_width": ""
          }
        },
        "8384d01cd3e2414591728b8120ab21dd": {
          "model_module": "@jupyter-widgets/base",
          "model_name": "LayoutModel",
          "model_module_version": "1.2.0",
          "state": {
            "_model_module": "@jupyter-widgets/base",
            "_model_module_version": "1.2.0",
            "_model_name": "LayoutModel",
            "_view_count": null,
            "_view_module": "@jupyter-widgets/base",
            "_view_module_version": "1.2.0",
            "_view_name": "LayoutView",
            "align_content": null,
            "align_items": null,
            "align_self": null,
            "border": null,
            "bottom": null,
            "display": null,
            "flex": null,
            "flex_flow": null,
            "grid_area": null,
            "grid_auto_columns": null,
            "grid_auto_flow": null,
            "grid_auto_rows": null,
            "grid_column": null,
            "grid_gap": null,
            "grid_row": null,
            "grid_template_areas": null,
            "grid_template_columns": null,
            "grid_template_rows": null,
            "height": null,
            "justify_content": null,
            "justify_items": null,
            "left": null,
            "margin": null,
            "max_height": null,
            "max_width": null,
            "min_height": null,
            "min_width": null,
            "object_fit": null,
            "object_position": null,
            "order": null,
            "overflow": null,
            "overflow_x": null,
            "overflow_y": null,
            "padding": null,
            "right": null,
            "top": null,
            "visibility": null,
            "width": null
          }
        },
        "d75c6eb6e5e24af3bd5f87d00ae77a2c": {
          "model_module": "@jupyter-widgets/controls",
          "model_name": "ProgressStyleModel",
          "model_module_version": "1.5.0",
          "state": {
            "_model_module": "@jupyter-widgets/controls",
            "_model_module_version": "1.5.0",
            "_model_name": "ProgressStyleModel",
            "_view_count": null,
            "_view_module": "@jupyter-widgets/base",
            "_view_module_version": "1.2.0",
            "_view_name": "StyleView",
            "bar_color": null,
            "description_width": ""
          }
        },
        "ad6360b3e7e04d9f8f42fcbd5cfee384": {
          "model_module": "@jupyter-widgets/base",
          "model_name": "LayoutModel",
          "model_module_version": "1.2.0",
          "state": {
            "_model_module": "@jupyter-widgets/base",
            "_model_module_version": "1.2.0",
            "_model_name": "LayoutModel",
            "_view_count": null,
            "_view_module": "@jupyter-widgets/base",
            "_view_module_version": "1.2.0",
            "_view_name": "LayoutView",
            "align_content": null,
            "align_items": null,
            "align_self": null,
            "border": null,
            "bottom": null,
            "display": null,
            "flex": null,
            "flex_flow": null,
            "grid_area": null,
            "grid_auto_columns": null,
            "grid_auto_flow": null,
            "grid_auto_rows": null,
            "grid_column": null,
            "grid_gap": null,
            "grid_row": null,
            "grid_template_areas": null,
            "grid_template_columns": null,
            "grid_template_rows": null,
            "height": null,
            "justify_content": null,
            "justify_items": null,
            "left": null,
            "margin": null,
            "max_height": null,
            "max_width": null,
            "min_height": null,
            "min_width": null,
            "object_fit": null,
            "object_position": null,
            "order": null,
            "overflow": null,
            "overflow_x": null,
            "overflow_y": null,
            "padding": null,
            "right": null,
            "top": null,
            "visibility": null,
            "width": null
          }
        },
        "19a89ad0d0fd46bb99bb418cc0a6bede": {
          "model_module": "@jupyter-widgets/controls",
          "model_name": "DescriptionStyleModel",
          "model_module_version": "1.5.0",
          "state": {
            "_model_module": "@jupyter-widgets/controls",
            "_model_module_version": "1.5.0",
            "_model_name": "DescriptionStyleModel",
            "_view_count": null,
            "_view_module": "@jupyter-widgets/base",
            "_view_module_version": "1.2.0",
            "_view_name": "StyleView",
            "description_width": ""
          }
        },
        "7506bab56a2c4aa1965c2b0dde3bb0bb": {
          "model_module": "@jupyter-widgets/controls",
          "model_name": "HBoxModel",
          "model_module_version": "1.5.0",
          "state": {
            "_dom_classes": [],
            "_model_module": "@jupyter-widgets/controls",
            "_model_module_version": "1.5.0",
            "_model_name": "HBoxModel",
            "_view_count": null,
            "_view_module": "@jupyter-widgets/controls",
            "_view_module_version": "1.5.0",
            "_view_name": "HBoxView",
            "box_style": "",
            "children": [
              "IPY_MODEL_231187e837354991bfe894dcbedba0ba",
              "IPY_MODEL_6724d794203c46b0a29ae7536037728c",
              "IPY_MODEL_4c9b29fe8bca4ae588034da7c0369901"
            ],
            "layout": "IPY_MODEL_5026802c095943238191598fd431213e"
          }
        },
        "231187e837354991bfe894dcbedba0ba": {
          "model_module": "@jupyter-widgets/controls",
          "model_name": "HTMLModel",
          "model_module_version": "1.5.0",
          "state": {
            "_dom_classes": [],
            "_model_module": "@jupyter-widgets/controls",
            "_model_module_version": "1.5.0",
            "_model_name": "HTMLModel",
            "_view_count": null,
            "_view_module": "@jupyter-widgets/controls",
            "_view_module_version": "1.5.0",
            "_view_name": "HTMLView",
            "description": "",
            "description_tooltip": null,
            "layout": "IPY_MODEL_d2eb14295a2e48a3b7d4d1ab32cdf7e2",
            "placeholder": "​",
            "style": "IPY_MODEL_70234ad766df49e59fd8aaf06dd96cbe",
            "value": "model.safetensors: 100%"
          }
        },
        "6724d794203c46b0a29ae7536037728c": {
          "model_module": "@jupyter-widgets/controls",
          "model_name": "FloatProgressModel",
          "model_module_version": "1.5.0",
          "state": {
            "_dom_classes": [],
            "_model_module": "@jupyter-widgets/controls",
            "_model_module_version": "1.5.0",
            "_model_name": "FloatProgressModel",
            "_view_count": null,
            "_view_module": "@jupyter-widgets/controls",
            "_view_module_version": "1.5.0",
            "_view_name": "ProgressView",
            "bar_style": "success",
            "description": "",
            "description_tooltip": null,
            "layout": "IPY_MODEL_2f98d76b7bf945a4ae709384a1bff21d",
            "max": 548105171,
            "min": 0,
            "orientation": "horizontal",
            "style": "IPY_MODEL_61f8277d97cd45fabdf04746c0b0cc98",
            "value": 548105171
          }
        },
        "4c9b29fe8bca4ae588034da7c0369901": {
          "model_module": "@jupyter-widgets/controls",
          "model_name": "HTMLModel",
          "model_module_version": "1.5.0",
          "state": {
            "_dom_classes": [],
            "_model_module": "@jupyter-widgets/controls",
            "_model_module_version": "1.5.0",
            "_model_name": "HTMLModel",
            "_view_count": null,
            "_view_module": "@jupyter-widgets/controls",
            "_view_module_version": "1.5.0",
            "_view_name": "HTMLView",
            "description": "",
            "description_tooltip": null,
            "layout": "IPY_MODEL_cade4a541d7348e093da212eb83585e1",
            "placeholder": "​",
            "style": "IPY_MODEL_4915470b7ece407f9f6d1c5cb1c73e51",
            "value": " 548M/548M [00:02&lt;00:00, 246MB/s]"
          }
        },
        "5026802c095943238191598fd431213e": {
          "model_module": "@jupyter-widgets/base",
          "model_name": "LayoutModel",
          "model_module_version": "1.2.0",
          "state": {
            "_model_module": "@jupyter-widgets/base",
            "_model_module_version": "1.2.0",
            "_model_name": "LayoutModel",
            "_view_count": null,
            "_view_module": "@jupyter-widgets/base",
            "_view_module_version": "1.2.0",
            "_view_name": "LayoutView",
            "align_content": null,
            "align_items": null,
            "align_self": null,
            "border": null,
            "bottom": null,
            "display": null,
            "flex": null,
            "flex_flow": null,
            "grid_area": null,
            "grid_auto_columns": null,
            "grid_auto_flow": null,
            "grid_auto_rows": null,
            "grid_column": null,
            "grid_gap": null,
            "grid_row": null,
            "grid_template_areas": null,
            "grid_template_columns": null,
            "grid_template_rows": null,
            "height": null,
            "justify_content": null,
            "justify_items": null,
            "left": null,
            "margin": null,
            "max_height": null,
            "max_width": null,
            "min_height": null,
            "min_width": null,
            "object_fit": null,
            "object_position": null,
            "order": null,
            "overflow": null,
            "overflow_x": null,
            "overflow_y": null,
            "padding": null,
            "right": null,
            "top": null,
            "visibility": null,
            "width": null
          }
        },
        "d2eb14295a2e48a3b7d4d1ab32cdf7e2": {
          "model_module": "@jupyter-widgets/base",
          "model_name": "LayoutModel",
          "model_module_version": "1.2.0",
          "state": {
            "_model_module": "@jupyter-widgets/base",
            "_model_module_version": "1.2.0",
            "_model_name": "LayoutModel",
            "_view_count": null,
            "_view_module": "@jupyter-widgets/base",
            "_view_module_version": "1.2.0",
            "_view_name": "LayoutView",
            "align_content": null,
            "align_items": null,
            "align_self": null,
            "border": null,
            "bottom": null,
            "display": null,
            "flex": null,
            "flex_flow": null,
            "grid_area": null,
            "grid_auto_columns": null,
            "grid_auto_flow": null,
            "grid_auto_rows": null,
            "grid_column": null,
            "grid_gap": null,
            "grid_row": null,
            "grid_template_areas": null,
            "grid_template_columns": null,
            "grid_template_rows": null,
            "height": null,
            "justify_content": null,
            "justify_items": null,
            "left": null,
            "margin": null,
            "max_height": null,
            "max_width": null,
            "min_height": null,
            "min_width": null,
            "object_fit": null,
            "object_position": null,
            "order": null,
            "overflow": null,
            "overflow_x": null,
            "overflow_y": null,
            "padding": null,
            "right": null,
            "top": null,
            "visibility": null,
            "width": null
          }
        },
        "70234ad766df49e59fd8aaf06dd96cbe": {
          "model_module": "@jupyter-widgets/controls",
          "model_name": "DescriptionStyleModel",
          "model_module_version": "1.5.0",
          "state": {
            "_model_module": "@jupyter-widgets/controls",
            "_model_module_version": "1.5.0",
            "_model_name": "DescriptionStyleModel",
            "_view_count": null,
            "_view_module": "@jupyter-widgets/base",
            "_view_module_version": "1.2.0",
            "_view_name": "StyleView",
            "description_width": ""
          }
        },
        "2f98d76b7bf945a4ae709384a1bff21d": {
          "model_module": "@jupyter-widgets/base",
          "model_name": "LayoutModel",
          "model_module_version": "1.2.0",
          "state": {
            "_model_module": "@jupyter-widgets/base",
            "_model_module_version": "1.2.0",
            "_model_name": "LayoutModel",
            "_view_count": null,
            "_view_module": "@jupyter-widgets/base",
            "_view_module_version": "1.2.0",
            "_view_name": "LayoutView",
            "align_content": null,
            "align_items": null,
            "align_self": null,
            "border": null,
            "bottom": null,
            "display": null,
            "flex": null,
            "flex_flow": null,
            "grid_area": null,
            "grid_auto_columns": null,
            "grid_auto_flow": null,
            "grid_auto_rows": null,
            "grid_column": null,
            "grid_gap": null,
            "grid_row": null,
            "grid_template_areas": null,
            "grid_template_columns": null,
            "grid_template_rows": null,
            "height": null,
            "justify_content": null,
            "justify_items": null,
            "left": null,
            "margin": null,
            "max_height": null,
            "max_width": null,
            "min_height": null,
            "min_width": null,
            "object_fit": null,
            "object_position": null,
            "order": null,
            "overflow": null,
            "overflow_x": null,
            "overflow_y": null,
            "padding": null,
            "right": null,
            "top": null,
            "visibility": null,
            "width": null
          }
        },
        "61f8277d97cd45fabdf04746c0b0cc98": {
          "model_module": "@jupyter-widgets/controls",
          "model_name": "ProgressStyleModel",
          "model_module_version": "1.5.0",
          "state": {
            "_model_module": "@jupyter-widgets/controls",
            "_model_module_version": "1.5.0",
            "_model_name": "ProgressStyleModel",
            "_view_count": null,
            "_view_module": "@jupyter-widgets/base",
            "_view_module_version": "1.2.0",
            "_view_name": "StyleView",
            "bar_color": null,
            "description_width": ""
          }
        },
        "cade4a541d7348e093da212eb83585e1": {
          "model_module": "@jupyter-widgets/base",
          "model_name": "LayoutModel",
          "model_module_version": "1.2.0",
          "state": {
            "_model_module": "@jupyter-widgets/base",
            "_model_module_version": "1.2.0",
            "_model_name": "LayoutModel",
            "_view_count": null,
            "_view_module": "@jupyter-widgets/base",
            "_view_module_version": "1.2.0",
            "_view_name": "LayoutView",
            "align_content": null,
            "align_items": null,
            "align_self": null,
            "border": null,
            "bottom": null,
            "display": null,
            "flex": null,
            "flex_flow": null,
            "grid_area": null,
            "grid_auto_columns": null,
            "grid_auto_flow": null,
            "grid_auto_rows": null,
            "grid_column": null,
            "grid_gap": null,
            "grid_row": null,
            "grid_template_areas": null,
            "grid_template_columns": null,
            "grid_template_rows": null,
            "height": null,
            "justify_content": null,
            "justify_items": null,
            "left": null,
            "margin": null,
            "max_height": null,
            "max_width": null,
            "min_height": null,
            "min_width": null,
            "object_fit": null,
            "object_position": null,
            "order": null,
            "overflow": null,
            "overflow_x": null,
            "overflow_y": null,
            "padding": null,
            "right": null,
            "top": null,
            "visibility": null,
            "width": null
          }
        },
        "4915470b7ece407f9f6d1c5cb1c73e51": {
          "model_module": "@jupyter-widgets/controls",
          "model_name": "DescriptionStyleModel",
          "model_module_version": "1.5.0",
          "state": {
            "_model_module": "@jupyter-widgets/controls",
            "_model_module_version": "1.5.0",
            "_model_name": "DescriptionStyleModel",
            "_view_count": null,
            "_view_module": "@jupyter-widgets/base",
            "_view_module_version": "1.2.0",
            "_view_name": "StyleView",
            "description_width": ""
          }
        }
      }
    }
  },
  "nbformat": 4,
  "nbformat_minor": 0
}
